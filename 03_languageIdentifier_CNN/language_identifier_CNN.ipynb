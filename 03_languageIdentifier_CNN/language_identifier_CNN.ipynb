{
  "cells": [
    {
      "cell_type": "markdown",
      "source": [
        "# Language Identifier for tweets with CNN"
      ],
      "metadata": {
        "id": "7I0jnVBIn6FB"
      }
    },
    {
      "cell_type": "code",
      "execution_count": null,
      "metadata": {
        "id": "ynDK5thyzl_v"
      },
      "outputs": [],
      "source": [
        "import csv\n",
        "import re\n",
        "import numpy as np\n",
        "import pandas as pd\n",
        "import torch\n",
        "import torchvision\n",
        "from torch.utils.data import DataLoader\n",
        "from torch.utils.data import random_split\n",
        "import torch.nn.functional as F"
      ]
    },
    {
      "cell_type": "markdown",
      "metadata": {
        "id": "0woQESUVUZHw"
      },
      "source": [
        "## 1. Data load"
      ]
    },
    {
      "cell_type": "code",
      "execution_count": null,
      "metadata": {
        "id": "bRMJtZczzfOl"
      },
      "outputs": [],
      "source": [
        "# Download the files and load them into a dataframe.\n",
        "from io import StringIO\n",
        "import requests\n",
        "url_train_dev = 'https://docs.google.com/spreadsheets/d/e/2PACX-1vTOZ2rC82rhNsJduoyKYTsVeH6ukd7Bpxvxn_afOibn3R-eadZGXu82eCU9IRpl4CK_gefEGsYrA_oM/pub?gid=1863430984&single=true&output=tsv'\n",
        "url_test = 'https://docs.google.com/spreadsheets/d/e/2PACX-1vT-KNR9nuYatLkSbzSRgpz6Ku1n4TN4w6kKmFLkA6QJHTfQzmX0puBsLF7PAAQJQAxUpgruDd_RRgK7/pub?gid=417546901&single=true&output=tsv'\n",
        "def load_dataset(url):\n",
        "    r = requests.get(url)\n",
        "    data = r.content.decode('utf8')\n",
        "    df = pd.read_csv(StringIO(data), sep='\\t')\n",
        "    df.columns = ['tweet', 'label']\n",
        "    return df\n",
        "df_train = load_dataset(url_train_dev)\n",
        "df_test = load_dataset(url_test)"
      ]
    },
    {
      "cell_type": "code",
      "execution_count": null,
      "metadata": {
        "id": "YxnRO0dXKNbn"
      },
      "outputs": [],
      "source": [
        "#label sizes\n",
        "label_sizes = df_train.groupby('label').size()\n",
        "# Extract labels\n",
        "final_lang = df_train['label'].unique()\n",
        "#label list\n",
        "train_labels =df_train['label']"
      ]
    },
    {
      "cell_type": "markdown",
      "source": [
        "## 2. data preparation"
      ],
      "metadata": {
        "id": "2o0edJgEoI4Y"
      }
    },
    {
      "cell_type": "markdown",
      "metadata": {
        "id": "sXqpQTV9Uu8m"
      },
      "source": [
        "### Handle class imbalance in the dataset.\n",
        "- clip the number of samples in the largest classes to 3000\n",
        "- remove classes with less than 5 samples"
      ]
    },
    {
      "cell_type": "code",
      "execution_count": null,
      "metadata": {
        "id": "TAhC2syfKEA4"
      },
      "outputs": [],
      "source": [
        "df_train_freq = pd.DataFrame(label_sizes).reset_index()\n",
        "df_train_freq.columns = ['label', 'frequency']\n",
        "df_train_freq = df_train_freq.sort_values(by=['frequency'], ascending=True)\n",
        "df_1 = df_train_freq[df_train_freq[\"frequency\"] >= 5] \n",
        "major_lang = df_1['label'].unique()\n",
        "df_train = df_train[df_train['label'].isin(major_lang)].sort_values(by=['label'])\n",
        "\n",
        "pop_lang = df_train[df_train['label'].isin(['en', 'es', 'ja', 'und'])]\n",
        "pop_lang = pop_lang.sort_values(by=['label'],ignore_index=True)\n",
        "en = pop_lang.iloc[0:3000]\n",
        "es = pop_lang.iloc[18508:21508]\n",
        "ja = pop_lang.iloc[21508 + 5930:21508 + 5930 + 3000]\n",
        "und = pop_lang.iloc[-3001:-1]\n",
        "\n",
        "df_ = df_train.loc[df_train[\"label\"] != 'en']\n",
        "df_ = df_.loc[df_train[\"label\"] != 'ja']\n",
        "df_ = df_.loc[df_train[\"label\"] != 'es']\n",
        "df_ = df_.loc[df_train[\"label\"] != 'und']\n",
        "df_train_final = pd.concat([df_, en, es, ja, und])"
      ]
    },
    {
      "cell_type": "markdown",
      "metadata": {
        "id": "7I_pdht1Usk6"
      },
      "source": [
        "### Tokenization\n",
        "\n",
        "Split the tweets into characters"
      ]
    },
    {
      "cell_type": "code",
      "execution_count": null,
      "metadata": {
        "colab": {
          "base_uri": "https://localhost:8080/"
        },
        "id": "VVtfVxkKOALn",
        "outputId": "dc3f9adc-ded3-4c4f-b4c0-b1d61ac65a43"
      },
      "outputs": [
        {
          "name": "stdout",
          "output_type": "stream",
          "text": [
            "Total characters: 5701\n"
          ]
        }
      ],
      "source": [
        "vocab = set()\n",
        "for sent in df_train.tweet:\n",
        "    for char in sent:\n",
        "        vocab.add(char)\n",
        "\n",
        "print(\"Total characters:\", len(vocab))"
      ]
    },
    {
      "cell_type": "code",
      "execution_count": null,
      "metadata": {
        "id": "eBG27iSBFZDf"
      },
      "outputs": [],
      "source": [
        "# Map each item in the vocabulary to an index:\n",
        "token_to_idx = {'<pad>': 0, '<unk>': 1}\n",
        "for idx, token in enumerate(vocab, start=2):\n",
        "    token_to_idx[token] = idx\n",
        "idx_to_token = {idx: token for token, idx in token_to_idx.items()}"
      ]
    },
    {
      "cell_type": "code",
      "execution_count": null,
      "metadata": {
        "id": "tw0050BjHysl"
      },
      "outputs": [],
      "source": [
        "# Define encoding and decoding functions:\n",
        "def encode_sent(sent):\n",
        "    # sentence to token indices\n",
        "    return [token_to_idx.get(token, token_to_idx['<unk>']) for token in sent]\n",
        "\n",
        "def decode_sent(indices):\n",
        "    # token indices to sentence\n",
        "    return [idx_to_token[idx] for idx in indices]\n",
        "\n",
        "def pad_truncate_sent(indices, max_length):\n",
        "    # create a feature vector of max_length\n",
        "    if len(indices) >= max_length:\n",
        "        return indices[:max_length]\n",
        "    return indices + [token_to_idx['<pad>']] * (max_length - len(indices))\n"
      ]
    },
    {
      "cell_type": "markdown",
      "metadata": {
        "id": "Ep7iDJdEXHfD"
      },
      "source": [
        "### label encoding\n",
        "assigning indexes to labels\n"
      ]
    },
    {
      "cell_type": "code",
      "execution_count": null,
      "metadata": {
        "id": "OnMLLmcyIXSC"
      },
      "outputs": [],
      "source": [
        "# list of languages + unknown (e.g. not in the train set)\n",
        "lang_list = final_lang.tolist() + [\"<unk>\"]\n",
        "\n",
        "# language label to index\n",
        "label_to_idx = {k: v for v, k in enumerate(lang_list)}\n",
        "\n",
        "# index to language lable\n",
        "idx_to_label = {v: k for k, v in label_to_idx.items()}\n",
        "\n",
        "def encode_label(label):\n",
        "    return label_to_idx.get(label, label_to_idx[\"<unk>\"])\n",
        "\n",
        "def decode_label(idx):\n",
        "    return idx_to_label.get(idx, \"<unk>\")"
      ]
    },
    {
      "cell_type": "markdown",
      "metadata": {
        "id": "nouZWS00XL7h"
      },
      "source": [
        "### data (tweets) encoding"
      ]
    },
    {
      "cell_type": "code",
      "execution_count": null,
      "metadata": {
        "id": "2KDYAGqdRgxk"
      },
      "outputs": [],
      "source": [
        "def encode_dataset(data, max_len):\n",
        "    encoded_data = []  # list of tuples (token-indices, label-idx)\n",
        "    label_idx_list = [] #\n",
        "    for index, row in data.iterrows():\n",
        "        i = row.to_dict()\n",
        "        token_indices = pad_truncate_sent(encode_sent(i[\"tweet\"]), max_len)\n",
        "        label_idx = encode_label(i[\"label\"])\n",
        "        encoded_data.append((token_indices, label_idx))\n",
        "        label_idx_list.append(label_idx)\n",
        "    return encoded_data , label_idx_list"
      ]
    },
    {
      "cell_type": "code",
      "execution_count": null,
      "metadata": {
        "id": "yBcUe2zUS_Xg"
      },
      "outputs": [],
      "source": [
        "max_len = 50\n",
        "encoded_trainset, label_idx_list = encode_dataset(df_train, max_len=max_len) # label_idx_list"
      ]
    },
    {
      "cell_type": "markdown",
      "metadata": {
        "id": "MRcH2PdPpY_z"
      },
      "source": [
        "### build dataset wrapper"
      ]
    },
    {
      "cell_type": "code",
      "execution_count": null,
      "metadata": {
        "id": "3Ub3-bUXS8VK"
      },
      "outputs": [],
      "source": [
        "from torch.utils.data.dataset import Dataset\n",
        "class TweetDataset(Dataset):\n",
        "\n",
        "    def __init__(self, encoded_data):\n",
        "        self.encoded_data = encoded_data\n",
        "\n",
        "    def __getitem__(self, idx):\n",
        "        token_idxs, label = self.encoded_data[idx]\n",
        "        return torch.LongTensor(token_idxs), label\n",
        "    \n",
        "    def __len__(self):\n",
        "        return len(self.encoded_data)"
      ]
    },
    {
      "cell_type": "code",
      "execution_count": null,
      "metadata": {
        "id": "OK_cguFzkYMr"
      },
      "outputs": [],
      "source": [
        "trainset = TweetDataset(encoded_trainset)"
      ]
    },
    {
      "cell_type": "markdown",
      "metadata": {
        "id": "Qoc1QuB1XnmO"
      },
      "source": [
        "## 3. Split train/val set\n",
        "\n",
        "Create train and validation sets. \n"
      ]
    },
    {
      "cell_type": "code",
      "execution_count": null,
      "metadata": {
        "colab": {
          "base_uri": "https://localhost:8080/"
        },
        "id": "3CC9b2zF1brc",
        "outputId": "f5c8b262-eaec-403e-adb9-70f8d239d8ac"
      },
      "outputs": [
        {
          "name": "stdout",
          "output_type": "stream",
          "text": [
            "Development set: 39478\n",
            "Validation set: 13160\n"
          ]
        }
      ],
      "source": [
        "# Split train/val set - as identical as the propotion using in model-based methods\n",
        "rate = 0.75\n",
        "n = len(trainset.encoded_data)\n",
        "train_len = int(n * rate)\n",
        "devset, valset = random_split(trainset, [train_len, n - train_len])\n",
        "print(\"Development set:\", len(devset))\n",
        "print(\"Validation set:\", len(valset))"
      ]
    },
    {
      "cell_type": "markdown",
      "metadata": {
        "id": "SLd26g8eyb7W"
      },
      "source": [
        "##4. Configure the GPU"
      ]
    },
    {
      "cell_type": "code",
      "execution_count": null,
      "metadata": {
        "colab": {
          "base_uri": "https://localhost:8080/"
        },
        "id": "b617DSLXQsF_",
        "outputId": "e29d8d5f-6508-4d5c-9366-f053772bd846"
      },
      "outputs": [
        {
          "name": "stdout",
          "output_type": "stream",
          "text": [
            "1\n",
            "Tesla P100-PCIE-16GB\n"
          ]
        }
      ],
      "source": [
        "print(torch.cuda.device_count())\n",
        "print(torch.cuda.get_device_name(0))\n",
        "cuda = torch.device('cuda')\n",
        "device = cuda if torch.cuda.is_available() else 'cpu'"
      ]
    },
    {
      "cell_type": "code",
      "execution_count": null,
      "metadata": {
        "colab": {
          "base_uri": "https://localhost:8080/"
        },
        "id": "79mMD_ZcQts2",
        "outputId": "ff54e6e3-af44-43f2-a079-2a1984221573"
      },
      "outputs": [
        {
          "name": "stdout",
          "output_type": "stream",
          "text": [
            "Vocab size: 5703\n",
            "Num classes: 70\n"
          ]
        }
      ],
      "source": [
        "vocab_size = len(idx_to_token)\n",
        "num_classes = len(label_to_idx)\n",
        "print(\"Vocab size:\", vocab_size)\n",
        "print(\"Num classes:\", num_classes)"
      ]
    },
    {
      "cell_type": "markdown",
      "metadata": {
        "id": "g5_D2jPLbjvs"
      },
      "source": [
        "## 5. Define the Convolutional Neural Network"
      ]
    },
    {
      "cell_type": "code",
      "execution_count": null,
      "metadata": {
        "id": "WIGmK461p6HE"
      },
      "outputs": [],
      "source": [
        "from torch import nn\n",
        "import math\n",
        "\n",
        "\n",
        "class LanguageIdentification(nn.Module):\n",
        "\n",
        "    def __init__(self, vocab_size, embedding_size, max_len, num_classes, kernel_size, out_channels, stride, padding, dropout_rate, max_pool_size, cov2_kernel_size):\n",
        "        super(LanguageIdentification, self).__init__()\n",
        "\n",
        "        self.out_channels = out_channels\n",
        "        self.vocab_size = vocab_size\n",
        "        self.embedding_size = embedding_size\n",
        "        self.kernel_size = kernel_size\n",
        "        self.stride = stride\n",
        "        self.padding = padding\n",
        "        self.in_channels = 1\n",
        "        self.num_classes = num_classes\n",
        "        self.dropout_rate = dropout_rate\n",
        "        self.max_pool_size = max_pool_size\n",
        "        self.cov2_kernel_size = cov2_kernel_size\n",
        "        \n",
        "        conv_1_out_shape_x = math.floor(((max_len + 2 * padding[0] - (kernel_size[0] - 1) - 1) / stride[0]) + 1)\n",
        "        conv_1_out_shape_y = math.floor(((embedding_size + 2 * padding[1] - (kernel_size[1] - 1) - 1) / stride[1]) + 1)\n",
        "        pool_1_out_shape_x = math.floor(((conv_1_out_shape_x + 2 * padding[0] - (max_pool_size[0] - 1) - 1) / stride[0]) + 1)\n",
        "        pool_1_out_shape_y = math.floor(((conv_1_out_shape_y + 2 * padding[1] - (max_pool_size[1] - 1) - 1) / stride[1]) + 1)\n",
        "        \n",
        "        conv_2_out_shape_x = math.floor((((pool_1_out_shape_x + 2 * padding[0] - (cov2_kernel_size[0] - 1)) - 1) / stride[0]) + 1)\n",
        "        conv_2_out_shape_y = math.floor((((pool_1_out_shape_y + 2 * padding[1] - (cov2_kernel_size[1] - 1)) - 1) / stride[1]) + 1)\n",
        "        pool_2_out_shape_x = math.floor(((conv_2_out_shape_x + 2 * padding[0] - (max_pool_size[0] - 1) - 1) / stride[0]) + 1)\n",
        "        pool_2_out_shape_y = math.floor(((conv_2_out_shape_y + 2 * padding[1] - (max_pool_size[1] - 1) - 1) / stride[1]) + 1)\n",
        "        \n",
        "        self.num_final_features = self.out_channels * pool_2_out_shape_x * pool_2_out_shape_y\n",
        "        self.embeddings = nn.Embedding(vocab_size, embedding_size)\n",
        "        self.conv2d = nn.Conv2d(in_channels=self.in_channels, out_channels=self.out_channels, kernel_size=self.kernel_size, stride=self.stride, padding=self.padding)\n",
        "        self.max_pool2d = nn.MaxPool2d(kernel_size=max_pool_size, stride=self.stride, padding=self.padding)\n",
        "        self.conv2d_2 = nn.Conv2d(in_channels=self.out_channels, out_channels=self.out_channels, kernel_size=self.cov2_kernel_size, stride=self.stride, padding=self.padding)\n",
        "        self.max_pool2d_2 = nn.MaxPool2d(kernel_size=max_pool_size, stride=self.stride, padding=self.padding)\n",
        "        self.linear = nn.Linear(self.num_final_features, self.num_classes)\n",
        "    \n",
        "\n",
        "    def forward(self, inputs):\n",
        "        batchsize = inputs.size()[0]\n",
        "\n",
        "        # (batch-size, max-len, emb-size)\n",
        "        embeddings = self.embeddings(inputs)\n",
        "\n",
        "        # reduce dimensionality of the embeddings\n",
        "        embs_unsq = torch.unsqueeze(embeddings, 1)\n",
        "        \n",
        "        # 1st convolution and relu\n",
        "        conv_out = nn.functional.relu(self.conv2d(embs_unsq))\n",
        "\n",
        "        # 1st max pool\n",
        "        pool_out = self.max_pool2d(conv_out)\n",
        "\n",
        "        # 2nd max convolution and relu\n",
        "        conv_2_out = nn.functional.relu(self.conv2d_2(pool_out))\n",
        "\n",
        "        # 2nd max pooling\n",
        "        pool_out_2 = self.max_pool2d_2(conv_2_out)\n",
        "\n",
        "        # reshape 2d into a vector\n",
        "        pool_out_2_reshaped = pool_out_2.view(-1, self.num_final_features)\n",
        "\n",
        "        # dense layer and softmax\n",
        "        lin_out = self.linear(F.dropout(pool_out_2_reshaped, self.dropout_rate))\n",
        "        log_probs = nn.functional.log_softmax(lin_out, dim=1)\n",
        "        return log_probs"
      ]
    },
    {
      "cell_type": "markdown",
      "metadata": {
        "id": "0vgeWMhifccb"
      },
      "source": [
        "## 6. Define the training function"
      ]
    },
    {
      "cell_type": "code",
      "execution_count": null,
      "metadata": {
        "colab": {
          "base_uri": "https://localhost:8080/"
        },
        "id": "Tp-5HZDQ826q",
        "outputId": "3f15ee9c-bdb3-4f3e-deee-7e3dcf439dce"
      },
      "outputs": [
        {
          "name": "stdout",
          "output_type": "stream",
          "text": [
            "Weights of loss function: tensor([3.4716e-01, 6.3617e+01, 7.6341e+02, 3.8170e+02, 9.5426e+01, 1.9085e+02,\n",
            "        3.4700e+01, 1.9085e+02, 7.6341e+02, 1.0906e+02, 4.4644e+00, 7.6341e+02,\n",
            "        2.7264e+01, 4.1247e-02, 1.2874e-01, 3.8170e+02, 4.2411e+01, 5.0894e+01,\n",
            "        8.0698e-01, 2.5447e+02, 7.6341e+02, 2.8274e+01, 4.7713e+01, 5.0894e+01,\n",
            "        1.5268e+02, 3.8170e+02, 5.0894e+01, 3.8170e+02, 2.5396e-01, 7.6341e+02,\n",
            "        2.2519e+00, 7.3256e-02, 7.6341e+02, 7.6341e+01, 3.8170e+02, 1.6668e+00,\n",
            "        7.6341e+02, 6.4152e+00, 1.5268e+02, 4.1945e+00, 6.9401e+01, 8.2087e+00,\n",
            "        7.6341e+02, 7.6341e+02, 2.6526e-01, 6.3617e+01, 7.8058e-01, 7.6341e+02,\n",
            "        3.8170e+02, 8.4823e+01, 3.4700e+01, 7.6341e+01, 1.4137e+01, 1.2723e+02,\n",
            "        8.4823e+01, 7.6341e+02, 1.6524e+00, 2.3856e+00, 7.6341e+02, 1.1411e+00,\n",
            "        4.7713e+01, 1.6826e-01, 1.0906e+02, 6.3617e+01, 4.7713e+01, 7.6341e+02,\n",
            "        7.6341e+02, 3.0536e+01, 7.6341e+01, 3.4716e+01])\n"
          ]
        }
      ],
      "source": [
        "#assigning weights for Negative Log-Likelihood function\n",
        "import sklearn\n",
        "class_weights = sklearn.utils.class_weight.compute_class_weight('balanced', np.unique(train_labels), train_labels) #calculating weight\n",
        "#w_unk = class_weights[0:1] #add the weight of unk label by the weight of the fist label in the array (the label with high freq)\n",
        "#w_unk = 3*class_weights[0:1]\n",
        "w_unk = 100*class_weights[0:1]\n",
        "class_weights_ = np.append(class_weights, w_unk) #now.. len = 70 = 69 + 1 = number_class + <unk> \n",
        "weights= torch.tensor(class_weights_,dtype=torch.float)\n",
        "print(\"Weights of loss function:\", weights)\n",
        "loss_func = nn.NLLLoss(weight=weights)"
      ]
    },
    {
      "cell_type": "code",
      "execution_count": null,
      "metadata": {
        "id": "kwXXAf3OqvvV"
      },
      "outputs": [],
      "source": [
        "import torch.optim as optim\n",
        "from torch.optim.lr_scheduler import StepLR\n",
        "from sklearn.metrics import f1_score, accuracy_score\n",
        "import matplotlib.pyplot as plt\n",
        "import torch.nn.functional as F\n",
        "\n",
        "def get_data(config, data):\n",
        "  data_loaded = DataLoader(\n",
        "    data,\n",
        "    batch_size=config[\"batch_size\"],\n",
        "    shuffle=True,\n",
        "    drop_last=True)\n",
        "  return data_loaded\n",
        "\n",
        "def get_loss(model, data_loader):\n",
        "    losses = []\n",
        "    model.eval()\n",
        "    with torch.no_grad():\n",
        "        for token_ids, label_ids in data_loader:\n",
        "            token_ids = token_ids.to(device)\n",
        "            label_ids = label_ids.to(device)\n",
        "            y_pred = model(token_ids)\n",
        "            loss = loss_func(y_pred, label_ids)\n",
        "            loss_batch = loss.item()\n",
        "            losses.append(loss_batch)\n",
        "    return np.mean(losses)\n",
        "\n",
        "loss_func = nn.NLLLoss()\n",
        "\n",
        "def train_model(model, optimizer, scheduler, loss_func, device, num_epochs, dev_loader, val_loader):\n",
        "    dev_loss = []\n",
        "    val_loss = []\n",
        "    for epoch in range(1, num_epochs + 1):\n",
        "        model.train()\n",
        "        losses = []\n",
        "        batch_num = 0\n",
        "        for token_ids, label_ids in dev_loader:\n",
        "            batch_num += 1\n",
        "            token_ids = token_ids.to(device)\n",
        "            label_ids = label_ids.to(device)\n",
        "            optimizer.zero_grad()\n",
        "            y_pred = model(token_ids)\n",
        "            loss = loss_func(y_pred, label_ids)\n",
        "            loss_batch = loss.item()\n",
        "            loss.backward()\n",
        "            optimizer.step()\n",
        "            losses.append(loss_batch)\n",
        "        avg_loss = np.mean(losses[-10:])\n",
        "        print(f'Epoch {epoch}/{num_epochs}, avg. loss: {avg_loss:.4f}, lr: {scheduler.get_last_lr()[0]}')\n",
        "        scheduler.step()\n",
        "\n",
        "        # evaluate the model after each epoch\n",
        "        dev_loss.append(get_loss(model, dev_loader))\n",
        "        val_loss.append(get_loss(model, val_loader))\n",
        "    return dev_loss, val_loss\n",
        "\n",
        "def train_config(config, devset, valset):\n",
        "    dev_loader = get_data(config, devset)\n",
        "    val_loader = get_data(config, valset)\n",
        "    num_epochs = config[\"num_epochs\"]\n",
        "    model = LanguageIdentification(\n",
        "        vocab_size,\n",
        "        config[\"embedding_size\"],\n",
        "        max_len,\n",
        "        num_classes,\n",
        "        config[\"kernel_size\"],\n",
        "        config[\"out_channels\"],\n",
        "        config[\"stride\"],\n",
        "        config[\"padding\"],\n",
        "        config[\"dropout\"],\n",
        "        config[\"max_pool_size\"],\n",
        "        config[\"cov2_kernel_size\"]\n",
        "    ) \n",
        "    model.to(device)\n",
        "    # training parameters\n",
        "    #loss_func = nn.NLLLoss(weight=weights).to(device)\n",
        "    loss_func = nn.NLLLoss()\n",
        "    lr = config[\"lr\"]\n",
        "    #optimizer = optim.SGD(model.parameters(), lr=lr, momentum=0.9)\n",
        "    optimizer = optim.Adam(model.parameters(), lr=lr)\n",
        "    scheduler = optim.lr_scheduler.StepLR(optimizer, step_size=10, gamma=0.5)\n",
        "    dev_loss, val_loss = train_model(\n",
        "        model,\n",
        "        optimizer, \n",
        "        scheduler,\n",
        "        loss_func,\n",
        "        device,\n",
        "        num_epochs,\n",
        "        dev_loader,\n",
        "        val_loader)\n",
        "\n",
        "    plt.figure()\n",
        "    plt.title(\"Loss\")\n",
        "    plt.plot(list(range(num_epochs)), dev_loss, label=\"development\")\n",
        "    plt.plot(list(range(num_epochs)), val_loss, label=\"validation\")\n",
        "    plt.xlabel(\"Epochs\")\n",
        "    plt.legend()\n",
        "    plt.show()\n",
        "    return model\n"
      ]
    },
    {
      "cell_type": "markdown",
      "metadata": {
        "id": "_NIgzFzIjUzB"
      },
      "source": [
        "## 4. Define the evaluation function"
      ]
    },
    {
      "cell_type": "code",
      "execution_count": null,
      "metadata": {
        "id": "IGQZ9nBGjUPL"
      },
      "outputs": [],
      "source": [
        "def evaluate_model(config, model, data):\n",
        "    data_loader = get_data (config,data)\n",
        "    predicted = []\n",
        "    gold = []\n",
        "    model.eval()\n",
        "    with torch.no_grad():\n",
        "        for token_ids, label_ids in data_loader:\n",
        "            token_ids = token_ids.to(device)\n",
        "            label_ids = label_ids.to(device)\n",
        "            log_probs = model(token_ids)\n",
        "            y_pred = log_probs.argmax(dim=1)\n",
        "            predicted.extend([i.item() for i in y_pred])\n",
        "            gold.extend(label_ids.cpu().numpy())\n",
        "    accuracy = accuracy_score(gold, predicted)\n",
        "    f1_macro = f1_score(gold, predicted, average='macro')\n",
        "    return accuracy, f1_macro"
      ]
    },
    {
      "cell_type": "markdown",
      "metadata": {
        "id": "jkeDu-ztgQw5"
      },
      "source": [
        "## 5. Train the networks"
      ]
    },
    {
      "cell_type": "code",
      "execution_count": null,
      "metadata": {
        "colab": {
          "base_uri": "https://localhost:8080/",
          "height": 1000
        },
        "id": "6ZGVrQwgB_Yw",
        "outputId": "1128cd81-d74a-4d96-9cf9-bd55df4f9d4c"
      },
      "outputs": [
        {
          "name": "stdout",
          "output_type": "stream",
          "text": [
            "Epoch 1/50, avg. loss: 3.3028, lr: 0.0001\n",
            "Epoch 2/50, avg. loss: 3.1131, lr: 0.0001\n",
            "Epoch 3/50, avg. loss: 3.2563, lr: 0.0001\n",
            "Epoch 4/50, avg. loss: 2.4442, lr: 0.0001\n",
            "Epoch 5/50, avg. loss: 2.4076, lr: 0.0001\n",
            "Epoch 6/50, avg. loss: 3.1609, lr: 0.0001\n",
            "Epoch 7/50, avg. loss: 2.3254, lr: 0.0001\n",
            "Epoch 8/50, avg. loss: 1.9629, lr: 0.0001\n",
            "Epoch 9/50, avg. loss: 3.0056, lr: 0.0001\n",
            "Epoch 10/50, avg. loss: 2.2981, lr: 0.0001\n",
            "Epoch 11/50, avg. loss: 2.4791, lr: 5e-05\n",
            "Epoch 12/50, avg. loss: 1.6631, lr: 5e-05\n",
            "Epoch 13/50, avg. loss: 1.7696, lr: 5e-05\n",
            "Epoch 14/50, avg. loss: 1.8213, lr: 5e-05\n",
            "Epoch 15/50, avg. loss: 1.8869, lr: 5e-05\n",
            "Epoch 16/50, avg. loss: 2.5549, lr: 5e-05\n",
            "Epoch 17/50, avg. loss: 2.1614, lr: 5e-05\n",
            "Epoch 18/50, avg. loss: 1.8740, lr: 5e-05\n",
            "Epoch 19/50, avg. loss: 1.8084, lr: 5e-05\n",
            "Epoch 20/50, avg. loss: 1.9909, lr: 5e-05\n",
            "Epoch 21/50, avg. loss: 1.9148, lr: 2.5e-05\n",
            "Epoch 22/50, avg. loss: 1.6552, lr: 2.5e-05\n",
            "Epoch 23/50, avg. loss: 1.6659, lr: 2.5e-05\n",
            "Epoch 24/50, avg. loss: 1.4239, lr: 2.5e-05\n",
            "Epoch 25/50, avg. loss: 1.4186, lr: 2.5e-05\n",
            "Epoch 26/50, avg. loss: 1.3657, lr: 2.5e-05\n",
            "Epoch 27/50, avg. loss: 1.5259, lr: 2.5e-05\n",
            "Epoch 28/50, avg. loss: 1.7306, lr: 2.5e-05\n",
            "Epoch 29/50, avg. loss: 1.9604, lr: 2.5e-05\n",
            "Epoch 30/50, avg. loss: 1.4341, lr: 2.5e-05\n",
            "Epoch 31/50, avg. loss: 2.2133, lr: 1.25e-05\n",
            "Epoch 32/50, avg. loss: 1.5355, lr: 1.25e-05\n",
            "Epoch 33/50, avg. loss: 1.5883, lr: 1.25e-05\n",
            "Epoch 34/50, avg. loss: 1.0452, lr: 1.25e-05\n",
            "Epoch 35/50, avg. loss: 1.5451, lr: 1.25e-05\n",
            "Epoch 36/50, avg. loss: 1.6798, lr: 1.25e-05\n",
            "Epoch 37/50, avg. loss: 1.9118, lr: 1.25e-05\n",
            "Epoch 38/50, avg. loss: 1.4128, lr: 1.25e-05\n",
            "Epoch 39/50, avg. loss: 1.9218, lr: 1.25e-05\n",
            "Epoch 40/50, avg. loss: 1.7619, lr: 1.25e-05\n",
            "Epoch 41/50, avg. loss: 2.0125, lr: 6.25e-06\n",
            "Epoch 42/50, avg. loss: 1.9560, lr: 6.25e-06\n",
            "Epoch 43/50, avg. loss: 1.7075, lr: 6.25e-06\n",
            "Epoch 44/50, avg. loss: 1.5562, lr: 6.25e-06\n",
            "Epoch 45/50, avg. loss: 1.7184, lr: 6.25e-06\n",
            "Epoch 46/50, avg. loss: 1.8465, lr: 6.25e-06\n",
            "Epoch 47/50, avg. loss: 1.8328, lr: 6.25e-06\n",
            "Epoch 48/50, avg. loss: 1.5940, lr: 6.25e-06\n",
            "Epoch 49/50, avg. loss: 1.5842, lr: 6.25e-06\n",
            "Epoch 50/50, avg. loss: 1.4786, lr: 6.25e-06\n"
          ]
        },
        {
          "data": {
            "image/png": "[encoded data removed]",
            "text/plain": [
              "<Figure size 432x288 with 1 Axes>"
            ]
          },
          "metadata": {},
          "output_type": "display_data"
        },
        {
          "name": "stdout",
          "output_type": "stream",
          "text": [
            "Development (acc, f1):  (0.5698246147607462, 0.3053145879370864)\n",
            "Validation (acc, f1):  (0.5645529197080292, 0.19016719726397013)\n"
          ]
        }
      ],
      "source": [
        "#@tittle: model 1\n",
        "#optimizer: Adam #loss_weights: yes, w_unk = 3*w_ar\n",
        "config1 = {\n",
        "    \"embedding_size\": 32,\n",
        "    \"max_pool_size\": (2, 2),\n",
        "    \"kernel_size\": (6, 6),\n",
        "    \"out_channels\": 16,\n",
        "    \"stride\": (2, 2),\n",
        "    \"padding\": (1, 1),\n",
        "    \"dropout\": 0.1,\n",
        "    \"lr\": 0.0001,\n",
        "    \"num_epochs\": 50,\n",
        "    \"cov2_kernel_size\": (6, 6),\n",
        "    \"batch_size\": 32}\n",
        "model1 = train_config(config1, devset, valset)\n",
        "print(\"Development (acc, f1): \", evaluate_model(config1, model1, devset))\n",
        "print(\"Validation (acc, f1): \", evaluate_model(config1, model1, valset))"
      ]
    },
    {
      "cell_type": "markdown",
      "metadata": {
        "id": "yRN0zPk2xKqu"
      },
      "source": [
        "``The loss of the model1 is too high.. we have to reduce the drop out rate and might be change the loss function.\n",
        "By increasing the weight of unknow label, we hope the model will be improved.``"
      ]
    },
    {
      "cell_type": "code",
      "execution_count": null,
      "metadata": {
        "colab": {
          "base_uri": "https://localhost:8080/",
          "height": 584
        },
        "collapsed": true,
        "id": "bO5p8nZSnJAE",
        "outputId": "7963d9ed-ea1c-46a5-8265-a7d38c426607"
      },
      "outputs": [
        {
          "name": "stdout",
          "output_type": "stream",
          "text": [
            "Epoch 1/15, avg. loss: 2.8916, lr: 0.001\n",
            "Epoch 2/15, avg. loss: 3.1070, lr: 0.001\n",
            "Epoch 3/15, avg. loss: 3.1188, lr: 0.001\n",
            "Epoch 4/15, avg. loss: 3.1223, lr: 0.001\n",
            "Epoch 5/15, avg. loss: 2.4948, lr: 0.001\n",
            "Epoch 6/15, avg. loss: 2.9394, lr: 0.001\n",
            "Epoch 7/15, avg. loss: 2.9030, lr: 0.001\n",
            "Epoch 8/15, avg. loss: 2.6036, lr: 0.001\n",
            "Epoch 9/15, avg. loss: 2.7821, lr: 0.001\n",
            "Epoch 10/15, avg. loss: 3.0167, lr: 0.001\n",
            "Epoch 11/15, avg. loss: 3.4253, lr: 0.0005\n",
            "Epoch 12/15, avg. loss: 2.8356, lr: 0.0005\n",
            "Epoch 13/15, avg. loss: 2.8555, lr: 0.0005\n",
            "Epoch 14/15, avg. loss: 2.8092, lr: 0.0005\n",
            "Epoch 15/15, avg. loss: 2.8666, lr: 0.0005\n"
          ]
        },
        {
          "data": {
            "image/png": "[encoded data removed]",
            "text/plain": [
              "<Figure size 432x288 with 1 Axes>"
            ]
          },
          "metadata": {},
          "output_type": "display_data"
        },
        {
          "name": "stdout",
          "output_type": "stream",
          "text": [
            "Development (acc, f1):  (0.35300972841507905, 0.011343783225789644)\n",
            "Validation (acc, f1):  (0.3473404255319149, 0.01171804902558949)\n"
          ]
        }
      ],
      "source": [
        "#@tittle: model 2\n",
        "#optimizer: Adam  #loss_weights: yes, w_unk = 100*w_ar\n",
        "config2 = {\n",
        "    \"embedding_size\": 100,\n",
        "    \"max_pool_size\": (2, 2),\n",
        "    \"kernel_size\": (3, 3),\n",
        "    \"out_channels\": 16,\n",
        "    \"stride\": (1, 1),\n",
        "    \"padding\": (1, 1),\n",
        "    \"dropout\": 0.1,\n",
        "    \"lr\": 0.001,\n",
        "    \"num_epochs\": 15,\n",
        "    \"cov2_kernel_size\": (6, 6),\n",
        "    \"batch_size\":8}\n",
        "model2 = train_config(config2, devset, valset)\n",
        "print(\"Development (acc, f1): \", evaluate_model(config2,model2, devset))\n",
        "print(\"Validation (acc, f1): \", evaluate_model(config2,model2, valset))\n"
      ]
    },
    {
      "cell_type": "code",
      "execution_count": null,
      "metadata": {
        "colab": {
          "base_uri": "https://localhost:8080/",
          "height": 584
        },
        "id": "KlnSpLaOA9r-",
        "outputId": "2c5d5308-30b7-44cb-aa52-1324faf5f65c"
      },
      "outputs": [
        {
          "name": "stdout",
          "output_type": "stream",
          "text": [
            "Epoch 1/15, avg. loss: 0.9291, lr: 0.001\n",
            "Epoch 2/15, avg. loss: 0.7332, lr: 0.001\n",
            "Epoch 3/15, avg. loss: 0.5284, lr: 0.001\n",
            "Epoch 4/15, avg. loss: 0.6888, lr: 0.001\n",
            "Epoch 5/15, avg. loss: 0.5734, lr: 0.001\n",
            "Epoch 6/15, avg. loss: 0.4745, lr: 0.001\n",
            "Epoch 7/15, avg. loss: 0.5104, lr: 0.001\n",
            "Epoch 8/15, avg. loss: 0.5111, lr: 0.001\n",
            "Epoch 9/15, avg. loss: 0.5152, lr: 0.001\n",
            "Epoch 10/15, avg. loss: 0.4687, lr: 0.001\n",
            "Epoch 11/15, avg. loss: 0.4274, lr: 0.0005\n",
            "Epoch 12/15, avg. loss: 0.4682, lr: 0.0005\n",
            "Epoch 13/15, avg. loss: 0.4098, lr: 0.0005\n",
            "Epoch 14/15, avg. loss: 0.3952, lr: 0.0005\n",
            "Epoch 15/15, avg. loss: 0.5222, lr: 0.0005\n"
          ]
        },
        {
          "data": {
            "image/png": "[encoded data removed]",
            "text/plain": [
              "<Figure size 432x288 with 1 Axes>"
            ]
          },
          "metadata": {},
          "output_type": "display_data"
        },
        {
          "name": "stdout",
          "output_type": "stream",
          "text": [
            "Development (acc, f1):  (0.8754055150040552, 0.571687060351019)\n",
            "Validation (acc, f1):  (0.8281630170316302, 0.2908136713255059)\n"
          ]
        }
      ],
      "source": [
        "#@title: model 3\n",
        "#optimizer: Adam  #no loss_weights\n",
        "config3 = {\n",
        "    \"embedding_size\": 32,\n",
        "    \"max_pool_size\": (2, 2),\n",
        "    \"kernel_size\": (6, 6),\n",
        "    \"out_channels\": 16,\n",
        "    \"stride\": (2, 2),\n",
        "    \"padding\": (1, 1),\n",
        "    \"dropout\": 0.1,\n",
        "    \"lr\": 0.001,\n",
        "    \"num_epochs\": 15,\n",
        "    \"cov2_kernel_size\": (6, 6),\n",
        "    \"batch_size\": 32}\n",
        "model3 = train_config(config3, devset, valset)\n",
        "print(\"Development (acc, f1): \", evaluate_model(config3, model3, devset))\n",
        "print(\"Validation (acc, f1): \", evaluate_model(config3, model3, valset))"
      ]
    },
    {
      "cell_type": "code",
      "execution_count": null,
      "metadata": {
        "colab": {
          "base_uri": "https://localhost:8080/",
          "height": 669
        },
        "id": "iNho_mmuzIn3",
        "outputId": "338c8478-1060-4e43-a451-3435a056c76d"
      },
      "outputs": [
        {
          "name": "stdout",
          "output_type": "stream",
          "text": [
            "Epoch 1/20, avg. loss: 0.8758, lr: 0.001\n",
            "Epoch 2/20, avg. loss: 0.7502, lr: 0.001\n",
            "Epoch 3/20, avg. loss: 0.6648, lr: 0.001\n",
            "Epoch 4/20, avg. loss: 0.5910, lr: 0.001\n",
            "Epoch 5/20, avg. loss: 0.4910, lr: 0.001\n",
            "Epoch 6/20, avg. loss: 0.6277, lr: 0.001\n",
            "Epoch 7/20, avg. loss: 0.5591, lr: 0.001\n",
            "Epoch 8/20, avg. loss: 0.6147, lr: 0.001\n",
            "Epoch 9/20, avg. loss: 0.5367, lr: 0.001\n",
            "Epoch 10/20, avg. loss: 0.5576, lr: 0.001\n",
            "Epoch 11/20, avg. loss: 0.2821, lr: 0.0005\n",
            "Epoch 12/20, avg. loss: 0.3177, lr: 0.0005\n",
            "Epoch 13/20, avg. loss: 0.4004, lr: 0.0005\n",
            "Epoch 14/20, avg. loss: 0.5459, lr: 0.0005\n",
            "Epoch 15/20, avg. loss: 0.6807, lr: 0.0005\n",
            "Epoch 16/20, avg. loss: 0.3321, lr: 0.0005\n",
            "Epoch 17/20, avg. loss: 0.4690, lr: 0.0005\n",
            "Epoch 18/20, avg. loss: 0.4562, lr: 0.0005\n",
            "Epoch 19/20, avg. loss: 0.3449, lr: 0.0005\n",
            "Epoch 20/20, avg. loss: 0.4601, lr: 0.0005\n"
          ]
        },
        {
          "data": {
            "image/png": "[encoded data removed]",
            "text/plain": [
              "<Figure size 432x288 with 1 Axes>"
            ]
          },
          "metadata": {},
          "output_type": "display_data"
        },
        {
          "name": "stdout",
          "output_type": "stream",
          "text": [
            "Development (acc, f1):  (0.8796868666396432, 0.6118029268729426)\n",
            "Validation (acc, f1):  (0.8384498480243161, 0.2669434208951756)\n"
          ]
        }
      ],
      "source": [
        "#@title: model 4\n",
        "#optimizer: Adam #loss_weights: yes\n",
        "config43 = {\n",
        "    \"embedding_size\": 32,\n",
        "    \"max_pool_size\": (2, 2),\n",
        "    \"kernel_size\": (3, 3),\n",
        "    \"out_channels\": 16,\n",
        "    \"stride\": (2, 2),\n",
        "    \"padding\": (1, 1),\n",
        "    \"dropout\": 0.3,\n",
        "    \"lr\": 0.001,\n",
        "    \"num_epochs\": 20,\n",
        "    \"cov2_kernel_size\": (5, 5),\n",
        "    \"batch_size\":8}\n",
        "model43 = train_config(config43, devset, valset)\n",
        "print(\"Development (acc, f1): \", evaluate_model(config43,model43, devset))\n",
        "print(\"Validation (acc, f1): \", evaluate_model(config43,model43, valset))"
      ]
    },
    {
      "cell_type": "code",
      "execution_count": null,
      "metadata": {
        "colab": {
          "base_uri": "https://localhost:8080/",
          "height": 618
        },
        "id": "XIpUf_tFTlJl",
        "outputId": "bbc97ed7-d37e-4b53-e28a-165aeb8b9d9b"
      },
      "outputs": [
        {
          "name": "stdout",
          "output_type": "stream",
          "text": [
            "Epoch 1/17, avg. loss: 1.1919, lr: 0.001\n",
            "Epoch 2/17, avg. loss: 0.8336, lr: 0.001\n",
            "Epoch 3/17, avg. loss: 0.6635, lr: 0.001\n",
            "Epoch 4/17, avg. loss: 0.6254, lr: 0.001\n",
            "Epoch 5/17, avg. loss: 0.8667, lr: 0.001\n",
            "Epoch 6/17, avg. loss: 0.3806, lr: 0.001\n",
            "Epoch 7/17, avg. loss: 0.3287, lr: 0.001\n",
            "Epoch 8/17, avg. loss: 0.4361, lr: 0.001\n",
            "Epoch 9/17, avg. loss: 0.2718, lr: 0.001\n",
            "Epoch 10/17, avg. loss: 0.4454, lr: 0.001\n",
            "Epoch 11/17, avg. loss: 0.1783, lr: 0.0005\n",
            "Epoch 12/17, avg. loss: 0.1302, lr: 0.0005\n",
            "Epoch 13/17, avg. loss: 0.1810, lr: 0.0005\n",
            "Epoch 14/17, avg. loss: 0.1826, lr: 0.0005\n",
            "Epoch 15/17, avg. loss: 0.0741, lr: 0.0005\n",
            "Epoch 16/17, avg. loss: 0.1426, lr: 0.0005\n",
            "Epoch 17/17, avg. loss: 0.2258, lr: 0.0005\n"
          ]
        },
        {
          "data": {
            "image/png": "[encoded data removed]",
            "text/plain": [
              "<Figure size 432x288 with 1 Axes>"
            ]
          },
          "metadata": {},
          "output_type": "display_data"
        },
        {
          "name": "stdout",
          "output_type": "stream",
          "text": [
            "Development (acc, f1):  (0.9713721118767734, 0.9882845876168667)\n",
            "Validation (acc, f1):  (0.796580547112462, 0.24383930551433125)\n"
          ]
        }
      ],
      "source": [
        "#@title: model 5\n",
        "#optimizer: SGD #no weight_loss\n",
        "config5 = {\n",
        "    \"embedding_size\": 32,\n",
        "    \"max_pool_size\": (2, 2),\n",
        "    \"kernel_size\": (6, 6),\n",
        "    \"out_channels\": 16,\n",
        "    \"stride\": (1, 1),\n",
        "    \"padding\": (1, 1),\n",
        "    \"dropout\": 0.2,\n",
        "    \"lr\": 0.001,\n",
        "    \"num_epochs\": 17,\n",
        "    \"cov2_kernel_size\": (6, 6),\n",
        "    \"batch_size\": 8\n",
        "}\n",
        "model5 = train_config(config5, devset, valset)\n",
        "print(\"Development (acc, f1): \", evaluate_model(config5,model5, devset))\n",
        "print(\"Validation (acc, f1): \", evaluate_model(config5,model5, valset))"
      ]
    },
    {
      "cell_type": "code",
      "execution_count": null,
      "metadata": {
        "cellView": "form",
        "colab": {
          "base_uri": "https://localhost:8080/",
          "height": 669
        },
        "collapsed": true,
        "id": "gOr-oTCPSVzV",
        "outputId": "584426b3-1360-482d-9f92-a726ac00e69e"
      },
      "outputs": [
        {
          "name": "stdout",
          "output_type": "stream",
          "text": [
            "Epoch 1/20, avg. loss: 1.4898, lr: 0.001\n",
            "Epoch 2/20, avg. loss: 0.7858, lr: 0.001\n",
            "Epoch 3/20, avg. loss: 0.8617, lr: 0.001\n",
            "Epoch 4/20, avg. loss: 1.0818, lr: 0.001\n",
            "Epoch 5/20, avg. loss: 0.8673, lr: 0.001\n",
            "Epoch 6/20, avg. loss: 0.6249, lr: 0.001\n",
            "Epoch 7/20, avg. loss: 0.7596, lr: 0.001\n",
            "Epoch 8/20, avg. loss: 0.7109, lr: 0.001\n",
            "Epoch 9/20, avg. loss: 0.6953, lr: 0.001\n",
            "Epoch 10/20, avg. loss: 0.7425, lr: 0.001\n",
            "Epoch 11/20, avg. loss: 0.7737, lr: 0.0005\n",
            "Epoch 12/20, avg. loss: 0.5122, lr: 0.0005\n",
            "Epoch 13/20, avg. loss: 0.6249, lr: 0.0005\n",
            "Epoch 14/20, avg. loss: 0.6807, lr: 0.0005\n",
            "Epoch 15/20, avg. loss: 0.5028, lr: 0.0005\n",
            "Epoch 16/20, avg. loss: 0.5161, lr: 0.0005\n",
            "Epoch 17/20, avg. loss: 0.5688, lr: 0.0005\n",
            "Epoch 18/20, avg. loss: 0.4927, lr: 0.0005\n",
            "Epoch 19/20, avg. loss: 0.7884, lr: 0.0005\n",
            "Epoch 20/20, avg. loss: 0.4594, lr: 0.0005\n"
          ]
        },
        {
          "data": {
            "image/png": "[encoded data removed]",
            "text/plain": [
              "<Figure size 432x288 with 1 Axes>"
            ]
          },
          "metadata": {},
          "output_type": "display_data"
        },
        {
          "name": "stdout",
          "output_type": "stream",
          "text": [
            "Development (acc, f1):  (0.825015200648561, 0.24968658437446262)\n",
            "Validation (acc, f1):  (0.7870060790273556, 0.212994071826932)\n"
          ]
        }
      ],
      "source": [
        "#@title\n",
        "#optimizer: SGD #no loss_weights\n",
        "config6 = {\n",
        "    \"embedding_size\": 32,\n",
        "    \"max_pool_size\": (2, 2),\n",
        "    \"kernel_size\": (3, 3),\n",
        "    \"out_channels\": 16,\n",
        "    \"stride\": (2, 2),\n",
        "    \"padding\": (1, 1),\n",
        "    \"dropout\": 0.2,\n",
        "    \"lr\": 0.001,\n",
        "    \"num_epochs\": 20,\n",
        "    \"cov2_kernel_size\": (5, 5),\n",
        "    \"batch_size\": 8}\n",
        "model6 = train_config(config6, devset, valset)\n",
        "print(\"Development (acc, f1): \", evaluate_model(config6, model6, devset))\n",
        "print(\"Validation (acc, f1): \", evaluate_model(config6, model6, valset))"
      ]
    },
    {
      "cell_type": "code",
      "execution_count": null,
      "metadata": {
        "colab": {
          "base_uri": "https://localhost:8080/",
          "height": 584
        },
        "id": "HVO6qvVBZKv3",
        "outputId": "ef0680ed-8dea-4631-9281-ff7261ab82b0"
      },
      "outputs": [
        {
          "name": "stdout",
          "output_type": "stream",
          "text": [
            "Epoch 1/15, avg. loss: 0.8523, lr: 0.0010003234075861476\n",
            "Epoch 2/15, avg. loss: 0.8457, lr: 0.0010003234075861476\n",
            "Epoch 3/15, avg. loss: 0.6605, lr: 0.0010003234075861476\n",
            "Epoch 4/15, avg. loss: 0.5420, lr: 0.0010003234075861476\n",
            "Epoch 5/15, avg. loss: 0.6144, lr: 0.0010003234075861476\n",
            "Epoch 6/15, avg. loss: 0.5654, lr: 0.0010003234075861476\n",
            "Epoch 7/15, avg. loss: 0.4158, lr: 0.0010003234075861476\n",
            "Epoch 8/15, avg. loss: 0.4627, lr: 0.0010003234075861476\n",
            "Epoch 9/15, avg. loss: 0.4092, lr: 0.0010003234075861476\n",
            "Epoch 10/15, avg. loss: 0.4197, lr: 0.0010003234075861476\n",
            "Epoch 11/15, avg. loss: 0.3575, lr: 0.0005001617037930738\n",
            "Epoch 12/15, avg. loss: 0.4357, lr: 0.0005001617037930738\n",
            "Epoch 13/15, avg. loss: 0.2626, lr: 0.0005001617037930738\n",
            "Epoch 14/15, avg. loss: 0.2951, lr: 0.0005001617037930738\n",
            "Epoch 15/15, avg. loss: 0.2666, lr: 0.0005001617037930738\n"
          ]
        },
        {
          "data": {
            "image/png": "[encoded data removed]",
            "text/plain": [
              "<Figure size 432x288 with 1 Axes>"
            ]
          },
          "metadata": {
            "needs_background": "light"
          },
          "output_type": "display_data"
        },
        {
          "name": "stdout",
          "output_type": "stream",
          "text": [
            "Development (acc, f1):  (0.8991281427412814, 0.7533127395950892)\n",
            "Validation (acc, f1):  (0.8429136253041363, 0.3479185775971065)\n"
          ]
        }
      ],
      "source": [
        "#@title: model 6\n",
        "#optimizer: Adam #loss_weights: no #best.params from RayTune\n",
        "config7 = {\n",
        "    \"embedding_size\": 128,\n",
        "    \"max_pool_size\": (6, 12),\n",
        "    \"kernel_size\": (3, 3),\n",
        "    \"out_channels\": 16,\n",
        "    \"stride\": (2, 1),\n",
        "    \"padding\": (1, 0),\n",
        "    \"dropout\": 0.1,\n",
        "    \"lr\": 0.0010003234075861476,\n",
        "    \"num_epochs\": 15,\n",
        "    \"cov2_kernel_size\": (3, 3),\n",
        "    \"batch_size\":32}\n",
        "model7 = train_config(config7, devset, valset)\n",
        "print(\"Development (acc, f1): \", evaluate_model(config7,model7, devset))\n",
        "print(\"Validation (acc, f1): \", evaluate_model(config7,model7, valset))"
      ]
    },
    {
      "cell_type": "code",
      "execution_count": null,
      "metadata": {
        "cellView": "form",
        "colab": {
          "base_uri": "https://localhost:8080/",
          "height": 584
        },
        "collapsed": true,
        "id": "Ae1LG_0qajGX",
        "outputId": "34e83181-0b1e-44c3-e038-24b09c041eaf"
      },
      "outputs": [
        {
          "name": "stdout",
          "output_type": "stream",
          "text": [
            "Epoch 1/15, avg. loss: 1.1805, lr: 0.0010003234075861476\n",
            "Epoch 2/15, avg. loss: 1.2234, lr: 0.0010003234075861476\n",
            "Epoch 3/15, avg. loss: 0.8740, lr: 0.0010003234075861476\n",
            "Epoch 4/15, avg. loss: 1.0518, lr: 0.0010003234075861476\n",
            "Epoch 5/15, avg. loss: 0.8369, lr: 0.0010003234075861476\n",
            "Epoch 6/15, avg. loss: 0.8972, lr: 0.0010003234075861476\n",
            "Epoch 7/15, avg. loss: 0.8282, lr: 0.0010003234075861476\n",
            "Epoch 8/15, avg. loss: 0.8034, lr: 0.0010003234075861476\n",
            "Epoch 9/15, avg. loss: 0.7657, lr: 0.0010003234075861476\n",
            "Epoch 10/15, avg. loss: 0.7515, lr: 0.0010003234075861476\n",
            "Epoch 11/15, avg. loss: 0.7218, lr: 0.0005001617037930738\n",
            "Epoch 12/15, avg. loss: 0.6738, lr: 0.0005001617037930738\n",
            "Epoch 13/15, avg. loss: 0.6525, lr: 0.0005001617037930738\n",
            "Epoch 14/15, avg. loss: 0.7943, lr: 0.0005001617037930738\n",
            "Epoch 15/15, avg. loss: 0.7350, lr: 0.0005001617037930738\n"
          ]
        },
        {
          "data": {
            "image/png": "[encoded data removed]",
            "text/plain": [
              "<Figure size 432x288 with 1 Axes>"
            ]
          },
          "metadata": {},
          "output_type": "display_data"
        },
        {
          "name": "stdout",
          "output_type": "stream",
          "text": [
            "Development (acc, f1):  (0.8004359286293593, 0.22909683068523773)\n",
            "Validation (acc, f1):  (0.7750912408759124, 0.2035968928236158)\n"
          ]
        }
      ],
      "source": [
        "#@title\n",
        "#optimizer: SGD #other params: from confiq7\n",
        "config8 = {\n",
        "    \"embedding_size\": 128,\n",
        "    \"max_pool_size\": (6, 12),\n",
        "    \"kernel_size\": (3, 3),\n",
        "    \"out_channels\": 16,\n",
        "    \"stride\": (2, 1),\n",
        "    \"padding\": (1, 0),\n",
        "    \"dropout\": 0.1,\n",
        "    \"lr\": 0.0010003234075861476,\n",
        "    \"num_epochs\": 15,\n",
        "    \"cov2_kernel_size\": (3, 3),\n",
        "    \"batch_size\":32}\n",
        "model8 = train_config(config8, devset, valset)\n",
        "print(\"Development (acc, f1): \", evaluate_model(config8,model8, devset))\n",
        "print(\"Validation (acc, f1): \", evaluate_model(config8,model8, valset))"
      ]
    },
    {
      "cell_type": "markdown",
      "metadata": {
        "id": "QFPcHDEmYxwi"
      },
      "source": [
        "## Performance on the Test set\n",
        "``Model7 gives the best performance on Validation data.. now we use it to predict data on test set and observe how well the model performs.``"
      ]
    },
    {
      "cell_type": "code",
      "execution_count": null,
      "metadata": {
        "colab": {
          "base_uri": "https://localhost:8080/"
        },
        "id": "V1fjEhbU3zWr",
        "outputId": "bf7a4afa-1178-4729-8cbe-6ba8f3d7d7a4"
      },
      "outputs": [
        {
          "data": {
            "text/plain": [
              "LanguageIdentification(\n",
              "  (embeddings): Embedding(5703, 128)\n",
              "  (conv2d): Conv2d(1, 16, kernel_size=(3, 3), stride=(2, 1), padding=(1, 0))\n",
              "  (max_pool2d): MaxPool2d(kernel_size=(6, 12), stride=(2, 1), padding=(1, 0), dilation=1, ceil_mode=False)\n",
              "  (conv2d_2): Conv2d(16, 16, kernel_size=(3, 3), stride=(2, 1), padding=(1, 0))\n",
              "  (max_pool2d_2): MaxPool2d(kernel_size=(6, 12), stride=(2, 1), padding=(1, 0), dilation=1, ceil_mode=False)\n",
              "  (linear): Linear(in_features=3264, out_features=70, bias=True)\n",
              ")"
            ]
          },
          "execution_count": 67,
          "metadata": {},
          "output_type": "execute_result"
        }
      ],
      "source": [
        "model7"
      ]
    },
    {
      "cell_type": "code",
      "execution_count": null,
      "metadata": {
        "colab": {
          "base_uri": "https://localhost:8080/"
        },
        "id": "pVjGnWQJkW33",
        "outputId": "5f38db7d-34bb-4abd-9242-3630b4cd4625"
      },
      "outputs": [
        {
          "name": "stdout",
          "output_type": "stream",
          "text": [
            "Test (acc, f1):  (0.8398248792270532, 0.3112823958726291)\n"
          ]
        }
      ],
      "source": [
        "encoded_test_set,_ = encode_dataset(df_test, max_len=max_len)\n",
        "testset = TweetDataset(encoded_test_set)\n",
        "print(\"Test (acc, f1): \", evaluate_model(config7, model7, testset))"
      ]
    }
  ],
  "metadata": {
    "accelerator": "GPU",
    "colab": {
      "collapsed_sections": [],
      "provenance": []
    },
    "kernelspec": {
      "display_name": "Python 3",
      "language": "python",
      "name": "python3"
    },
    "language_info": {
      "codemirror_mode": {
        "name": "ipython",
        "version": 3
      },
      "file_extension": ".py",
      "mimetype": "text/x-python",
      "name": "python",
      "nbconvert_exporter": "python",
      "pygments_lexer": "ipython3",
      "version": "3.8.5"
    }
  },
  "nbformat": 4,
  "nbformat_minor": 0
}