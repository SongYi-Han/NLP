{
 "cells": [
  {
   "cell_type": "markdown",
   "metadata": {
    "id": "9nSmos9XliFZ"
   },
   "source": [
    "<h1><center>\n",
    "    Implementing, fine-tuning and visualizing transformer architectures. <br/>\n",
    "  \n",
    "    \n",
    "    Project 1\n",
    "</center></h1>"
   ]
  },
  {
   "cell_type": "markdown",
   "metadata": {
    "id": "b_10tVUdliFo"
   },
   "source": [
    "# Task 1\n",
    "Implement the feed-forward pass of the original transformer network using only numpy, i.e. without machine learning frameworks.\n",
    "\n",
    "Note: All subtasks are voluntary and rather a guide-line of how we would implement the forward pass. You can also choose a different order for implementing the different parts or implement everything in one class/function. The forward pass should return an numpy array."
   ]
  },
  {
   "cell_type": "code",
   "execution_count": null,
   "metadata": {
    "id": "iJQkcIuNliFp"
   },
   "outputs": [],
   "source": [
    "# You will test your implementation on a single array:\n",
    "import numpy as np\n",
    "forward_pass_array = np.array([101, 400, 500, 600, 107, 102])"
   ]
  },
  {
   "cell_type": "code",
   "execution_count": null,
   "metadata": {},
   "outputs": [],
   "source": [
    "'''\n",
    "Links - https://github.com/edumunozsala/Transformer-NMT/blob/main/train/model.py\n",
    "https://towardsdatascience.com/attention-is-all-you-need-discovering-the-transformer-paper-73e5ff5e0634\n",
    "http://nlp.seas.harvard.edu/2018/04/03/attention.html\n",
    "\n",
    "'''"
   ]
  },
  {
   "cell_type": "markdown",
   "metadata": {
    "id": "82CSrksLliFs"
   },
   "source": [
    "## Task 1.1\n",
    "Implement the sinus/cosinus positional encoding used in the original paper [Attention Is All You Need](https://arxiv.org/abs/1706.03762). Implement the token embedding."
   ]
  },
  {
   "cell_type": "code",
   "execution_count": 3,
   "metadata": {
    "id": "T5F2-NzdliFt"
   },
   "outputs": [],
   "source": [
    "'''\n",
    "Step1 = 101, 400, ... are tokens. Need to assign vector (randomly initiated vector, but seed them)\n",
    "Step2 = Add positional embedding layer. \n",
    "'''\n",
    "\n",
    "\n",
    "# class PositionalEncoding(layers.Layer):\n",
    "\n",
    "#     def __init__(self):\n",
    "#         super(PositionalEncoding, self).__init__()\n",
    "    \n",
    "#     def get_angles(self, pos, i, d_model): # pos: (seq_length, 1) i: (1, d_model)\n",
    "#         angles = 1 / np.power(10000., (2*(i//2)) / np.float32(d_model))\n",
    "#         return pos * angles # (seq_length, d_model)\n",
    "\n",
    "#     def call(self, inputs):\n",
    "#         # input shape batch_size, seq_length, d_model\n",
    "#         seq_length = inputs.shape.as_list()[-2]\n",
    "#         d_model = inputs.shape.as_list()[-1]\n",
    "#         # Calculate the angles given the input\n",
    "#         angles = self.get_angles(np.arange(seq_length)[:, np.newaxis],\n",
    "#                                  np.arange(d_model)[np.newaxis, :],\n",
    "#                                  d_model)\n",
    "#         # Calculate the positional encodings\n",
    "#         angles[:, 0::2] = np.sin(angles[:, 0::2])\n",
    "#         angles[:, 1::2] = np.cos(angles[:, 1::2])\n",
    "#         # Expand the encodings with a new dimension\n",
    "#         pos_encoding = angles[np.newaxis, ...]\n",
    "        \n",
    "#         return inputs + tf.cast(pos_encoding, tf.float32)\n",
    "\n",
    "\n",
    "\n",
    "# class PositionalEncoding(nn.Module):\n",
    "#     \"Implement the PE function.\"\n",
    "#     def __init__(self, d_model, dropout, max_len=5000):\n",
    "#         super(PositionalEncoding, self).__init__()\n",
    "#         self.dropout = nn.Dropout(p=dropout)\n",
    "        \n",
    "#         # Compute the positional encodings once in log space.\n",
    "#         pe = torch.zeros(max_len, d_model)\n",
    "#         position = torch.arange(0, max_len).unsqueeze(1)\n",
    "#         div_term = torch.exp(torch.arange(0, d_model, 2) *\n",
    "#                              -(math.log(10000.0) / d_model))\n",
    "#         pe[:, 0::2] = torch.sin(position * div_term)\n",
    "#         pe[:, 1::2] = torch.cos(position * div_term)\n",
    "#         pe = pe.unsqueeze(0)\n",
    "#         self.register_buffer('pe', pe)\n",
    "        \n",
    "#     def forward(self, x):\n",
    "#         x = x + Variable(self.pe[:, :x.size(1)], \n",
    "#                          requires_grad=False)\n",
    "#         return self.dropout(x)"
   ]
  },
  {
   "cell_type": "markdown",
   "metadata": {
    "id": "m4UTsLSNliFt"
   },
   "source": [
    "## Task 1.2\n",
    "Implement a dense layer with the number of hidden units as an argument."
   ]
  },
  {
   "cell_type": "code",
   "execution_count": 4,
   "metadata": {
    "id": "RdU_VWUoliFu"
   },
   "outputs": [
    {
     "data": {
      "text/plain": [
       "'\\nSimple NN Layer - For FFNN \\n'"
      ]
     },
     "execution_count": 4,
     "metadata": {},
     "output_type": "execute_result"
    }
   ],
   "source": [
    "'''\n",
    "Simple NN Layer - For FFNN \n",
    "'''\n"
   ]
  },
  {
   "cell_type": "markdown",
   "metadata": {
    "id": "qas2R8NEliFu"
   },
   "source": [
    "## Task 1.3\n",
    "Implement all activation function such that they are compatible with the dense layer."
   ]
  },
  {
   "cell_type": "code",
   "execution_count": 5,
   "metadata": {
    "id": "2MlHN4srliFv"
   },
   "outputs": [
    {
     "data": {
      "text/plain": [
       "'\\nImplement Sigmoid, TanH, Relu\\n'"
      ]
     },
     "execution_count": 5,
     "metadata": {},
     "output_type": "execute_result"
    }
   ],
   "source": [
    "'''\n",
    "Implement Sigmoid, TanH, Relu\n",
    "'''"
   ]
  },
  {
   "cell_type": "markdown",
   "metadata": {
    "id": "BmNT6o84liFw"
   },
   "source": [
    "## Task 1.4\n",
    "Implement the skip (residual) connections."
   ]
  },
  {
   "cell_type": "code",
   "execution_count": null,
   "metadata": {
    "id": "wPvqu-dtliFx"
   },
   "outputs": [],
   "source": [
    "'''\n",
    "Residual Connection - Each sub-layer (self-attention, ffnn) in each encoder has a residual connection around it, \n",
    "and is followed by a layer-normalization step.\n",
    "'''\n",
    "\n",
    "# class SublayerConnection(nn.Module):\n",
    "#     \"\"\"\n",
    "#     A residual connection followed by a layer norm.\n",
    "#     Note for code simplicity the norm is first as opposed to last.\n",
    "#     \"\"\"\n",
    "#     def __init__(self, size, dropout):\n",
    "#         super(SublayerConnection, self).__init__()\n",
    "#         self.norm = LayerNorm(size)\n",
    "#         self.dropout = nn.Dropout(dropout)\n",
    "\n",
    "#     def forward(self, x, sublayer):\n",
    "#         \"Apply residual connection to any sublayer with the same size.\"\n",
    "#         return x + self.dropout(sublayer(self.norm(x)))\n",
    "\n",
    "\n"
   ]
  },
  {
   "cell_type": "markdown",
   "metadata": {
    "id": "RSll0qwbliFx"
   },
   "source": [
    "## Task 1.5\n",
    "Implement layer normalization."
   ]
  },
  {
   "cell_type": "code",
   "execution_count": null,
   "metadata": {
    "id": "cxabXyacliFy"
   },
   "outputs": [],
   "source": [
    "# class LayerNorm(nn.Module):\n",
    "#     \"Construct a layernorm module (See citation for details).\"\n",
    "#     def __init__(self, features, eps=1e-6):\n",
    "#         super(LayerNorm, self).__init__()\n",
    "#         self.a_2 = nn.Parameter(torch.ones(features))\n",
    "#         self.b_2 = nn.Parameter(torch.zeros(features))\n",
    "#         self.eps = eps\n",
    "\n",
    "#     def forward(self, x):\n",
    "#         mean = x.mean(-1, keepdim=True)\n",
    "#         std = x.std(-1, keepdim=True)\n",
    "#         return self.a_2 * (x - mean) / (std + self.eps) + self.b_2"
   ]
  },
  {
   "cell_type": "markdown",
   "metadata": {
    "id": "4Q78GbdcliFy"
   },
   "source": [
    "## Task 1.6\n",
    "Implement dropout."
   ]
  },
  {
   "cell_type": "code",
   "execution_count": null,
   "metadata": {
    "id": "YGe4vg7lliFz"
   },
   "outputs": [],
   "source": [
    "'''\n",
    "Dropout Mechanism - \n",
    "1. Randomly put some weights = 0\n",
    "'''"
   ]
  },
  {
   "cell_type": "markdown",
   "metadata": {
    "id": "SHA1yNk_liFz"
   },
   "source": [
    "## Task 1.7\n",
    "Implement the attention mechanism."
   ]
  },
  {
   "cell_type": "code",
   "execution_count": null,
   "metadata": {},
   "outputs": [],
   "source": [
    "#### self attention (to learn contextual relation between words)\n",
    "\n",
    "# X : input vector sequence (dimension of embedding x number of words)\n",
    "# Q : X.W_q\n",
    "# K : X.W_k\n",
    "# V : X.W_v \n",
    "# W_q, W_k, W_v will be updated during the training \n",
    "# attention computation : attention(Q,K,V) = softmax(QK/root(d_k))V  ==> softmax(QK/root(d_k)) = score matrix\n",
    "\n"
   ]
  },
  {
   "cell_type": "code",
   "execution_count": null,
   "metadata": {},
   "outputs": [],
   "source": [
    "def attention(query, key, value):\n",
    "    e = (np.dot(query,np.transpose(key)))/np.sqrt(len(key))\n",
    "    score = np.exp(e) / np.sum(np.exp(x), axis=0)\n",
    "    \n",
    "    return score*value\n",
    "    "
   ]
  },
  {
   "cell_type": "code",
   "execution_count": null,
   "metadata": {
    "id": "QzpUlya-liF0"
   },
   "outputs": [],
   "source": [
    "# def attention(query, key, value, mask=None, dropout=None):\n",
    "#     \"Compute 'Scaled Dot Product Attention'\"\n",
    "#     d_k = query.size(-1)\n",
    "#     scores = torch.matmul(query, key.transpose(-2, -1)) \\\n",
    "#              / math.sqrt(d_k)\n",
    "#     if mask is not None:\n",
    "#         scores = scores.masked_fill(mask == 0, -1e9)\n",
    "#     p_attn = F.softmax(scores, dim = -1)\n",
    "#     if dropout is not None:\n",
    "#         p_attn = dropout(p_attn)\n",
    "#     return torch.matmul(p_attn, value), p_attn\n",
    "\n",
    "\n",
    "# def scaled_dot_product_attention(queries, keys, values, mask):\n",
    "#     # Calculate the dot product, QK_transpose\n",
    "#     product = tf.matmul(queries, keys, transpose_b=True)\n",
    "#     # Get the scale factor\n",
    "#     keys_dim = tf.cast(tf.shape(keys)[-1], tf.float32)\n",
    "#     # Apply the scale factor to the dot product\n",
    "#     scaled_product = product / tf.math.sqrt(keys_dim)\n",
    "#     # Apply masking when it is requiered\n",
    "#     if mask is not None:\n",
    "#         scaled_product += (mask * -1e9)\n",
    "#     # dot product with Values\n",
    "#     attention = tf.matmul(tf.nn.softmax(scaled_product, axis=-1), values)\n",
    "    \n",
    "#     return attention"
   ]
  },
  {
   "cell_type": "markdown",
   "metadata": {
    "id": "oC8ioTqDliF0"
   },
   "source": [
    "## Task 1.8\n",
    "Implement the positonal feed-forward network."
   ]
  },
  {
   "cell_type": "code",
   "execution_count": null,
   "metadata": {
    "id": "PvhdenkSliF1"
   },
   "outputs": [],
   "source": [
    "'''\n",
    "FFNN - \n",
    "I/p : Nu. of hidden layers, activation function, no. of neurons in each layer. \n",
    "Only need Forward Pass. \n",
    "'''"
   ]
  },
  {
   "cell_type": "markdown",
   "metadata": {
    "id": "h45tqPBkliF1"
   },
   "source": [
    "## Task 1.9\n",
    "Implement the encoder attention.\n",
    "\n",
    "== multi-head attention"
   ]
  },
  {
   "cell_type": "code",
   "execution_count": null,
   "metadata": {
    "id": "3GJCnSFUliF2"
   },
   "outputs": [],
   "source": [
    "def multihead_attention(emb_dim, n_heads):\n",
    "    d = emb_dim/n_heads\n",
    "    head = []\n",
    "    \n",
    "    for i in range(n_heads):\n",
    "        w_q = np.array((emd_dim,d))\n",
    "        w_k = np.array((emd_dim,d))\n",
    "        w_v = np.array((emd_dim,d))\n",
    "    \n",
    "        q = np.dot(d,w_q)\n",
    "        k = np.dot(d,w_k)\n",
    "        v = np.dot(d,w_v)\n",
    "        \n",
    "        h = attention(q,k,v)\n",
    "        \n",
    "        head += h \n",
    "    \n",
    "    w_o = np.array(len(head),len(head))\n",
    "    \n",
    "    return np.dot(head,w_o)\n",
    "    \n",
    "    \n",
    "    \n"
   ]
  },
  {
   "cell_type": "code",
   "execution_count": null,
   "metadata": {},
   "outputs": [],
   "source": [
    "import torch.nn as nn\n",
    "\n",
    "class MultiHeadAttentionLayer(nn.Module):\n",
    "    def __init__(self, hidden_dim, n_heads, dropout_ratio, device):\n",
    "        super().__init__()\n",
    "\n",
    "        assert hidden_dim % n_heads == 0\n",
    "\n",
    "        self.hidden_dim = hidden_dim # 임베딩 차원\n",
    "        self.n_heads = n_heads # 헤드(head)의 개수: 서로 다른 어텐션(attention) 컨셉의 수\n",
    "        self.head_dim = hidden_dim // n_heads # 각 헤드(head)에서의 임베딩 차원\n",
    "\n",
    "        self.fc_q = nn.Linear(hidden_dim, hidden_dim) # Query 값에 적용될 FC 레이어\n",
    "        self.fc_k = nn.Linear(hidden_dim, hidden_dim) # Key 값에 적용될 FC 레이어\n",
    "        self.fc_v = nn.Linear(hidden_dim, hidden_dim) # Value 값에 적용될 FC 레이어\n",
    "\n",
    "        self.fc_o = nn.Linear(hidden_dim, hidden_dim)\n",
    "\n",
    "        self.dropout = nn.Dropout(dropout_ratio)\n",
    "\n",
    "        self.scale = torch.sqrt(torch.FloatTensor([self.head_dim])).to(device)\n",
    "\n",
    "    def forward(self, query, key, value, mask = None):\n",
    "\n",
    "        batch_size = query.shape[0]\n",
    "\n",
    "        # query: [batch_size, query_len, hidden_dim]\n",
    "        # key: [batch_size, key_len, hidden_dim]\n",
    "        # value: [batch_size, value_len, hidden_dim]\n",
    " \n",
    "        Q = self.fc_q(query)\n",
    "        K = self.fc_k(key)\n",
    "        V = self.fc_v(value)\n",
    "\n",
    "        # Q: [batch_size, query_len, hidden_dim]\n",
    "        # K: [batch_size, key_len, hidden_dim]\n",
    "        # V: [batch_size, value_len, hidden_dim]\n",
    "\n",
    "        # hidden_dim → n_heads X head_dim 형태로 변형\n",
    "        # n_heads(h)개의 서로 다른 어텐션(attention) 컨셉을 학습하도록 유도\n",
    "        Q = Q.view(batch_size, -1, self.n_heads, self.head_dim).permute(0, 2, 1, 3)\n",
    "        K = K.view(batch_size, -1, self.n_heads, self.head_dim).permute(0, 2, 1, 3)\n",
    "        V = V.view(batch_size, -1, self.n_heads, self.head_dim).permute(0, 2, 1, 3)\n",
    "\n",
    "        # Q: [batch_size, n_heads, query_len, head_dim]\n",
    "        # K: [batch_size, n_heads, key_len, head_dim]\n",
    "        # V: [batch_size, n_heads, value_len, head_dim]\n",
    "\n",
    "        # Attention Energy 계산\n",
    "        energy = torch.matmul(Q, K.permute(0, 1, 3, 2)) / self.scale\n",
    "\n",
    "        # energy: [batch_size, n_heads, query_len, key_len]\n",
    "\n",
    "        # 마스크(mask)를 사용하는 경우\n",
    "        if mask is not None:\n",
    "            # 마스크(mask) 값이 0인 부분을 -1e10으로 채우기\n",
    "            energy = energy.masked_fill(mask==0, -1e10)\n",
    "\n",
    "        # 어텐션(attention) 스코어 계산: 각 단어에 대한 확률 값\n",
    "        attention = torch.softmax(energy, dim=-1)\n",
    "\n",
    "        # attention: [batch_size, n_heads, query_len, key_len]\n",
    "\n",
    "        # 여기에서 Scaled Dot-Product Attention을 계산\n",
    "        x = torch.matmul(self.dropout(attention), V)\n",
    "\n",
    "        # x: [batch_size, n_heads, query_len, head_dim]\n",
    "\n",
    "        x = x.permute(0, 2, 1, 3).contiguous()\n",
    "\n",
    "        # x: [batch_size, query_len, n_heads, head_dim]\n",
    "\n",
    "        x = x.view(batch_size, -1, self.hidden_dim)\n",
    "\n",
    "        # x: [batch_size, query_len, hidden_dim]\n",
    "\n",
    "        x = self.fc_o(x)\n",
    "\n",
    "        # x: [batch_size, query_len, hidden_dim]\n",
    "\n",
    "        return x, attention"
   ]
  },
  {
   "cell_type": "markdown",
   "metadata": {
    "id": "tXPZ4TTuliF2"
   },
   "source": [
    "## Task 1.10\n",
    "Implement the encoder."
   ]
  },
  {
   "cell_type": "code",
   "execution_count": null,
   "metadata": {
    "id": "M6HzpTsoliF2"
   },
   "outputs": [],
   "source": [
    "# class EncoderLayer(nn.Module):\n",
    "#     \"Encoder is made up of self-attn and feed forward (defined below)\"\n",
    "#     def __init__(self, size, self_attn, feed_forward, dropout):\n",
    "#         super(EncoderLayer, self).__init__()\n",
    "#         self.self_attn = self_attn\n",
    "#         self.feed_forward = feed_forward\n",
    "#         self.sublayer = clones(SublayerConnection(size, dropout), 2)\n",
    "#         self.size = size\n",
    "\n",
    "#     def forward(self, x, mask):\n",
    "#         \"Follow Figure 1 (left) for connections.\"\n",
    "#         x = self.sublayer[0](x, lambda x: self.self_attn(x, x, x, mask))\n",
    "#         return self.sublayer[1](x, self.feed_forward)\n"
   ]
  },
  {
   "cell_type": "code",
   "execution_count": null,
   "metadata": {},
   "outputs": [],
   "source": []
  },
  {
   "cell_type": "markdown",
   "metadata": {
    "id": "hLc2Xhf4liF3"
   },
   "source": [
    "## Task 1.11\n",
    "Implement the decoder attention.  \n",
    "==> masked multi-head attention"
   ]
  },
  {
   "cell_type": "code",
   "execution_count": null,
   "metadata": {
    "id": "5feOdr7zliF3"
   },
   "outputs": [],
   "source": [
    "def masked_multihead_attention(emb_dim, n_heads):\n",
    "    d = emb_dim/n_heads\n",
    "    head = []\n",
    "    \n",
    "    for i in range(n_heads):\n",
    "        w_q = np.array((emd_dim,d))\n",
    "        w_k = np.array((emd_dim,d))\n",
    "        w_v = np.array((emd_dim,d))\n",
    "    \n",
    "        q = np.dot(d,w_q)\n",
    "        k = np.dot(d,w_k)\n",
    "        v = np.dot(d,w_v)\n",
    "        \n",
    "        h = attention(q,k,v)\n",
    "        \n",
    "        head += h \n",
    "    \n",
    "    w_o = np.array(len(head),len(head))\n",
    "    \n",
    "    return np.dot(head,w_o)"
   ]
  },
  {
   "cell_type": "markdown",
   "metadata": {
    "id": "jMv--8ACliF3"
   },
   "source": [
    "## Task 1.12\n",
    "Implement the encoder-decoder attention."
   ]
  },
  {
   "cell_type": "code",
   "execution_count": null,
   "metadata": {
    "id": "z4IWC5lkliF4"
   },
   "outputs": [],
   "source": []
  },
  {
   "cell_type": "markdown",
   "metadata": {
    "id": "M7IbKRSZliF4"
   },
   "source": [
    "## Task 1.13\n",
    "Implement the decoder."
   ]
  },
  {
   "cell_type": "code",
   "execution_count": null,
   "metadata": {
    "id": "QFcZ6Fb7liF5"
   },
   "outputs": [],
   "source": [
    "# class Decoder(nn.Module):\n",
    "#     \"Generic N layer decoder with masking.\"\n",
    "#     def __init__(self, layer, N):\n",
    "#         super(Decoder, self).__init__()\n",
    "#         self.layers = clones(layer, N)\n",
    "#         self.norm = LayerNorm(layer.size)\n",
    "        \n",
    "#     def forward(self, x, memory, src_mask, tgt_mask):\n",
    "#         for layer in self.layers:\n",
    "#             x = layer(x, memory, src_mask, tgt_mask)\n",
    "#         return self.norm(x)"
   ]
  },
  {
   "cell_type": "markdown",
   "metadata": {
    "id": "ZKs2AGZ-liF5"
   },
   "source": [
    "## Task 1.14\n",
    "Implement the transformer architecture."
   ]
  },
  {
   "cell_type": "code",
   "execution_count": null,
   "metadata": {},
   "outputs": [],
   "source": [
    "def make_src_mask\n",
    "def make_trg_mask"
   ]
  },
  {
   "cell_type": "code",
   "execution_count": null,
   "metadata": {
    "id": "KPGw0p0kliGH"
   },
   "outputs": [],
   "source": [
    "'''\n",
    "1. Token Embedding. \n",
    "2. Add Positional Embedding - Need to pass this to Encoder \n",
    "3. Encoder 1st part - Multi-head (8) Self Attention  - How to make parallize the inputs? (do we need threading?)\n",
    "4. Encoder 2nd part - LayerNorm (Residual Connection + O/p from Multihead self-attention)\n",
    "5. Encoder 3rd part - Pass output from 4 to FFNN. \n",
    "6. Repeat Residual Connection + O/p from Multihead self-attention. \n",
    "7. Make 6 blocks of Encoder and repeat 3-6. \n",
    "8. The output of 7 will be passed to each decoder. The Key and Vector matrix are fed to decoder (Need to check what goes exactly into decoder)\n",
    "9. Decoder 1st part - Multi-head (8) Masked Self Attention\n",
    "10. Decoder 2nd part - LayerNorm (Residual Connection + O/p from Multihead masked self-attention)\n",
    "11. Decoder 3rd part - Encoder - Decoder Attention\n",
    "12. Decoder 4th part - LayerNorm (Residual Connection + O/p from Enc-Dec self-attention)\n",
    "13. Decoder 5th part - Pass output from 12 to FFNN. \n",
    "14. Repeat Residual Connection + O/p from 13.\n",
    "15. 6 blocks of Decoder. \n",
    "16. Predict 1st word. \n",
    "17. Pass 16 as Decoder Input and repeat 9-16 for predicting subsequent words. \n",
    "'''\n",
    "\n",
    "\n"
   ]
  },
  {
   "cell_type": "markdown",
   "metadata": {
    "id": "rVo5LvF1liGI"
   },
   "source": [
    "## Task 1.15\n",
    "Test the forward pass using the follow array."
   ]
  },
  {
   "cell_type": "code",
   "execution_count": null,
   "metadata": {
    "colab": {
     "base_uri": "https://localhost:8080/",
     "height": 305
    },
    "id": "6UCcXVfOliGJ",
    "outputId": "bd20b95d-8813-405d-83aa-aeb680878e70"
   },
   "outputs": [
    {
     "ename": "NameError",
     "evalue": "ignored",
     "output_type": "error",
     "traceback": [
      "\u001b[0;31m---------------------------------------------------------------------------\u001b[0m",
      "\u001b[0;31mNameError\u001b[0m                                 Traceback (most recent call last)",
      "\u001b[0;32m<ipython-input-2-527da565a056>\u001b[0m in \u001b[0;36m<module>\u001b[0;34m()\u001b[0m\n\u001b[1;32m      1\u001b[0m \u001b[0mforward_pass_array\u001b[0m \u001b[0;34m=\u001b[0m \u001b[0mnp\u001b[0m\u001b[0;34m.\u001b[0m\u001b[0marray\u001b[0m\u001b[0;34m(\u001b[0m\u001b[0;34m[\u001b[0m\u001b[0;36m101\u001b[0m\u001b[0;34m,\u001b[0m \u001b[0;36m400\u001b[0m\u001b[0;34m,\u001b[0m \u001b[0;36m500\u001b[0m\u001b[0;34m,\u001b[0m \u001b[0;36m600\u001b[0m\u001b[0;34m,\u001b[0m \u001b[0;36m107\u001b[0m\u001b[0;34m,\u001b[0m \u001b[0;36m102\u001b[0m\u001b[0;34m]\u001b[0m\u001b[0;34m)\u001b[0m\u001b[0;34m\u001b[0m\u001b[0;34m\u001b[0m\u001b[0m\n\u001b[0;32m----> 2\u001b[0;31m \u001b[0mTransformer\u001b[0m\u001b[0;34m(\u001b[0m\u001b[0mforward_pass_array\u001b[0m\u001b[0;34m)\u001b[0m\u001b[0;34m\u001b[0m\u001b[0;34m\u001b[0m\u001b[0m\n\u001b[0m",
      "\u001b[0;31mNameError\u001b[0m: name 'Transformer' is not defined"
     ]
    }
   ],
   "source": [
    "forward_pass_array = np.array([101, 400, 500, 600, 107, 102])\n",
    "Transformer(forward_pass_array)"
   ]
  },
  {
   "cell_type": "markdown",
   "metadata": {
    "id": "YXYomvBEliGK"
   },
   "source": [
    "# Task 2"
   ]
  },
  {
   "cell_type": "markdown",
   "metadata": {
    "id": "62_1JbnCliGK"
   },
   "source": [
    "In the following, we want to use pretrained models. From here on, you are allowed to use any machine learning frame work of your choice. Moreover, you will use [Hugging Face](https://huggingface.co/) which is compatible with tensorflow, keras, torch and other machine learning frameworks.\n",
    "\n",
    "We want to fine-tune a pretrained model to determine whether Y\n",
    "elp reviews are positive or negative. The data set is available for [Tensorflow](https://www.tensorflow.org/datasets/catalog/yelp_polarity_reviews) and [(py)torch](https://pytorch.org/text/stable/datasets.html#yelpreviewpolarity). Given the text of a review, we want to determine whether the yelp review is positive and negative. The data set is pre-split into training and test set. Please use the training data to fine-tune your model, while using the test data to evaluate your models performance. This exercise does not necessarily end in having a SOTA model, the goal is for you to use and fine-tune SOTA pretrained large language models.\n",
    "\n",
    "Problem Setting:\n",
    "\n",
    "The label $y$ to a Yelp review $T$ is either positive or negative. Given a Yelp Review $T$ and a polarity feedback $y$ determine whether the Review $T$ is positive or negative. The training set $\\mathcal{D} = \\{(T_1, y_1), \\ldots, (T_N, y_N)\\}$, where $T_i$ is review $i$ and $y_i$ is $T_i$'s polarity feedback. A suitable evaluation metric for this type of problem is see Theory Question 1.\n",
    "\n",
    "In the following, please solve all subtasks."
   ]
  },
  {
   "cell_type": "code",
   "execution_count": null,
   "metadata": {
    "id": "QkHYPGnCedkg"
   },
   "outputs": [],
   "source": [
    "!pip install -q datasets transformers"
   ]
  },
  {
   "cell_type": "code",
   "execution_count": null,
   "metadata": {
    "id": "HYKJaxyvB8nB"
   },
   "outputs": [],
   "source": [
    "import pandas as pd\n",
    "import datasets\n",
    "import torch\n",
    "import numpy as np\n",
    "from datasets import list_datasets, load_dataset, load_metric\n",
    "from sklearn import preprocessing\n",
    "from transformers import AdamW\n",
    "from random import shuffle\n",
    "from simpletransformers.classification import ClassificationModel, ClassificationArgs\n",
    "from sklearn.preprocessing import LabelEncoder\n",
    "from collections import Counter\n",
    "from transformers import BertForSequenceClassification, Trainer, TrainingArguments, BertForTokenClassification\n",
    "from transformers import BertTokenizer,AutoTokenizer"
   ]
  },
  {
   "cell_type": "markdown",
   "metadata": {
    "id": "8DS23zcsliGM"
   },
   "source": [
    "## Theory Question 1\n",
    "Which metric is suitable to evaluate the problem setting described in Task 2. Please list pros and cons of different metrics that might be suitable and define an evaluation protocol and decide which evaluation suits this problem best."
   ]
  },
  {
   "cell_type": "code",
   "execution_count": null,
   "metadata": {
    "id": "wpuO91-QliGM"
   },
   "outputs": [],
   "source": []
  },
  {
   "cell_type": "markdown",
   "metadata": {
    "id": "zPHzJa-FliGN"
   },
   "source": [
    "## Task 2.0\n",
    "Load the Yelp Review Polarity dataset."
   ]
  },
  {
   "cell_type": "code",
   "execution_count": null,
   "metadata": {
    "colab": {
     "base_uri": "https://localhost:8080/",
     "height": 68,
     "referenced_widgets": [
      "fff63b45f5a241fc965a9ca2e076df98",
      "46d4ce4159954ba9b2ce3c5a83da063b",
      "b3a7d6a11ad448e684aee1902e1a8e4f",
      "3236d81a0a7f46b99c6679fa38f05c95",
      "a9a9fec7243941adaa1c2bc0aec24e28",
      "f54625a88e074376887d3006063d9c78",
      "75a849fa919f40a1ac66e631b3f1f667",
      "be905f2a0d12454aae8747ccbbcb5e84",
      "4a0673472df34ff0a6b9a8e7742a051c",
      "aa11c05ce6274f21a8e0c4cd78596169",
      "7d24f46f0d8f4f2ea2bdcd62c55a098c"
     ]
    },
    "id": "40ffdBLB6RSb",
    "outputId": "76b1a836-cdf0-49c5-ee55-bbf742304e4e"
   },
   "outputs": [
    {
     "name": "stderr",
     "output_type": "stream",
     "text": [
      "Reusing dataset yelp_polarity (/root/.cache/huggingface/datasets/yelp_polarity/plain_text/1.0.0/a770787b2526bdcbfc29ac2d9beb8e820fbc15a03afd3ebc4fb9d8529de57544)\n"
     ]
    },
    {
     "data": {
      "application/vnd.jupyter.widget-view+json": {
       "model_id": "fff63b45f5a241fc965a9ca2e076df98",
       "version_major": 2,
       "version_minor": 0
      },
      "text/plain": [
       "  0%|          | 0/2 [00:00<?, ?it/s]"
      ]
     },
     "metadata": {},
     "output_type": "display_data"
    }
   ],
   "source": [
    "# next time, if we only want a few examples:\n",
    "dataset = datasets.load_dataset('yelp_polarity')"
   ]
  },
  {
   "cell_type": "markdown",
   "metadata": {
    "id": "FVKe_r2RliGN"
   },
   "source": [
    "## Task 2.1\n",
    "Decide on a suitable language model from the HuggingFace model zoo (a library providing pretrained models)."
   ]
  },
  {
   "cell_type": "code",
   "execution_count": null,
   "metadata": {
    "id": "NUBoedLUliGO"
   },
   "outputs": [],
   "source": [
    "# The data consists of an english case language thus we use bert cased"
   ]
  },
  {
   "cell_type": "markdown",
   "metadata": {
    "id": "l7Q-bJS5liGO"
   },
   "source": [
    "## Task 2.2\n",
    "\n",
    "For the model to process the intended way, we need the tokenizer that was used during training. Luckily Hugging Face both provides pretrained models and tokenizer. After in Task 2.1 decided for a language model, please load the corresponding tokenizer."
   ]
  },
  {
   "cell_type": "code",
   "execution_count": null,
   "metadata": {
    "colab": {
     "base_uri": "https://localhost:8080/"
    },
    "id": "13PDE8Ed6Y9m",
    "outputId": "88f6c7e9-7d67-48f1-d3e8-cf506acd8aea"
   },
   "outputs": [
    {
     "name": "stderr",
     "output_type": "stream",
     "text": [
      "loading configuration file https://huggingface.co/bert-base-cased/resolve/main/config.json from cache at /root/.cache/huggingface/transformers/a803e0468a8fe090683bdc453f4fac622804f49de86d7cecaee92365d4a0f829.a64a22196690e0e82ead56f388a3ef3a50de93335926ccfa20610217db589307\n",
      "Model config BertConfig {\n",
      "  \"_name_or_path\": \"bert-base-cased\",\n",
      "  \"architectures\": [\n",
      "    \"BertForMaskedLM\"\n",
      "  ],\n",
      "  \"attention_probs_dropout_prob\": 0.1,\n",
      "  \"classifier_dropout\": null,\n",
      "  \"gradient_checkpointing\": false,\n",
      "  \"hidden_act\": \"gelu\",\n",
      "  \"hidden_dropout_prob\": 0.1,\n",
      "  \"hidden_size\": 768,\n",
      "  \"initializer_range\": 0.02,\n",
      "  \"intermediate_size\": 3072,\n",
      "  \"layer_norm_eps\": 1e-12,\n",
      "  \"max_position_embeddings\": 512,\n",
      "  \"model_type\": \"bert\",\n",
      "  \"num_attention_heads\": 12,\n",
      "  \"num_hidden_layers\": 12,\n",
      "  \"pad_token_id\": 0,\n",
      "  \"position_embedding_type\": \"absolute\",\n",
      "  \"transformers_version\": \"4.17.0\",\n",
      "  \"type_vocab_size\": 2,\n",
      "  \"use_cache\": true,\n",
      "  \"vocab_size\": 28996\n",
      "}\n",
      "\n",
      "loading file https://huggingface.co/bert-base-cased/resolve/main/vocab.txt from cache at /root/.cache/huggingface/transformers/6508e60ab3c1200bffa26c95f4b58ac6b6d95fba4db1f195f632fa3cd7bc64cc.437aa611e89f6fc6675a049d2b5545390adbc617e7d655286421c191d2be2791\n",
      "loading file https://huggingface.co/bert-base-cased/resolve/main/tokenizer.json from cache at /root/.cache/huggingface/transformers/226a307193a9f4344264cdc76a12988448a25345ba172f2c7421f3b6810fddad.3dab63143af66769bbb35e3811f75f7e16b2320e12b7935e216bd6159ce6d9a6\n",
      "loading file https://huggingface.co/bert-base-cased/resolve/main/added_tokens.json from cache at None\n",
      "loading file https://huggingface.co/bert-base-cased/resolve/main/special_tokens_map.json from cache at None\n",
      "loading file https://huggingface.co/bert-base-cased/resolve/main/tokenizer_config.json from cache at /root/.cache/huggingface/transformers/ec84e86ee39bfe112543192cf981deebf7e6cbe8c91b8f7f8f63c9be44366158.ec5c189f89475aac7d8cbd243960a0655cfadc3d0474da8ff2ed0bf1699c2a5f\n",
      "loading configuration file https://huggingface.co/bert-base-cased/resolve/main/config.json from cache at /root/.cache/huggingface/transformers/a803e0468a8fe090683bdc453f4fac622804f49de86d7cecaee92365d4a0f829.a64a22196690e0e82ead56f388a3ef3a50de93335926ccfa20610217db589307\n",
      "Model config BertConfig {\n",
      "  \"_name_or_path\": \"bert-base-cased\",\n",
      "  \"architectures\": [\n",
      "    \"BertForMaskedLM\"\n",
      "  ],\n",
      "  \"attention_probs_dropout_prob\": 0.1,\n",
      "  \"classifier_dropout\": null,\n",
      "  \"gradient_checkpointing\": false,\n",
      "  \"hidden_act\": \"gelu\",\n",
      "  \"hidden_dropout_prob\": 0.1,\n",
      "  \"hidden_size\": 768,\n",
      "  \"initializer_range\": 0.02,\n",
      "  \"intermediate_size\": 3072,\n",
      "  \"layer_norm_eps\": 1e-12,\n",
      "  \"max_position_embeddings\": 512,\n",
      "  \"model_type\": \"bert\",\n",
      "  \"num_attention_heads\": 12,\n",
      "  \"num_hidden_layers\": 12,\n",
      "  \"pad_token_id\": 0,\n",
      "  \"position_embedding_type\": \"absolute\",\n",
      "  \"transformers_version\": \"4.17.0\",\n",
      "  \"type_vocab_size\": 2,\n",
      "  \"use_cache\": true,\n",
      "  \"vocab_size\": 28996\n",
      "}\n",
      "\n"
     ]
    }
   ],
   "source": [
    "tokenizer = AutoTokenizer.from_pretrained(\"bert-base-cased\")"
   ]
  },
  {
   "cell_type": "markdown",
   "metadata": {
    "id": "qUbYT2PPliGP"
   },
   "source": [
    "## Task 2.3\n",
    "Load the language model from HuggingFace."
   ]
  },
  {
   "cell_type": "code",
   "execution_count": null,
   "metadata": {
    "colab": {
     "base_uri": "https://localhost:8080/"
    },
    "id": "ZT_1BdHi6fpG",
    "outputId": "36a40ab5-460a-4da1-bf0d-f49f834df151"
   },
   "outputs": [
    {
     "name": "stderr",
     "output_type": "stream",
     "text": [
      "loading configuration file https://huggingface.co/bert-base-cased/resolve/main/config.json from cache at /root/.cache/huggingface/transformers/a803e0468a8fe090683bdc453f4fac622804f49de86d7cecaee92365d4a0f829.a64a22196690e0e82ead56f388a3ef3a50de93335926ccfa20610217db589307\n",
      "Model config BertConfig {\n",
      "  \"_name_or_path\": \"bert-base-cased\",\n",
      "  \"architectures\": [\n",
      "    \"BertForMaskedLM\"\n",
      "  ],\n",
      "  \"attention_probs_dropout_prob\": 0.1,\n",
      "  \"classifier_dropout\": null,\n",
      "  \"gradient_checkpointing\": false,\n",
      "  \"hidden_act\": \"gelu\",\n",
      "  \"hidden_dropout_prob\": 0.1,\n",
      "  \"hidden_size\": 768,\n",
      "  \"id2label\": {\n",
      "    \"0\": \"LABEL_0\",\n",
      "    \"1\": \"LABEL_1\",\n",
      "    \"2\": \"LABEL_2\",\n",
      "    \"3\": \"LABEL_3\",\n",
      "    \"4\": \"LABEL_4\"\n",
      "  },\n",
      "  \"initializer_range\": 0.02,\n",
      "  \"intermediate_size\": 3072,\n",
      "  \"label2id\": {\n",
      "    \"LABEL_0\": 0,\n",
      "    \"LABEL_1\": 1,\n",
      "    \"LABEL_2\": 2,\n",
      "    \"LABEL_3\": 3,\n",
      "    \"LABEL_4\": 4\n",
      "  },\n",
      "  \"layer_norm_eps\": 1e-12,\n",
      "  \"max_position_embeddings\": 512,\n",
      "  \"model_type\": \"bert\",\n",
      "  \"num_attention_heads\": 12,\n",
      "  \"num_hidden_layers\": 12,\n",
      "  \"pad_token_id\": 0,\n",
      "  \"position_embedding_type\": \"absolute\",\n",
      "  \"transformers_version\": \"4.17.0\",\n",
      "  \"type_vocab_size\": 2,\n",
      "  \"use_cache\": true,\n",
      "  \"vocab_size\": 28996\n",
      "}\n",
      "\n",
      "loading weights file https://huggingface.co/bert-base-cased/resolve/main/pytorch_model.bin from cache at /root/.cache/huggingface/transformers/092cc582560fc3833e556b3f833695c26343cb54b7e88cd02d40821462a74999.1f48cab6c959fc6c360d22bea39d06959e90f5b002e77e836d2da45464875cda\n",
      "Some weights of the model checkpoint at bert-base-cased were not used when initializing BertForSequenceClassification: ['cls.seq_relationship.bias', 'cls.predictions.bias', 'cls.predictions.decoder.weight', 'cls.predictions.transform.dense.bias', 'cls.predictions.transform.dense.weight', 'cls.predictions.transform.LayerNorm.weight', 'cls.predictions.transform.LayerNorm.bias', 'cls.seq_relationship.weight']\n",
      "- This IS expected if you are initializing BertForSequenceClassification from the checkpoint of a model trained on another task or with another architecture (e.g. initializing a BertForSequenceClassification model from a BertForPreTraining model).\n",
      "- This IS NOT expected if you are initializing BertForSequenceClassification from the checkpoint of a model that you expect to be exactly identical (initializing a BertForSequenceClassification model from a BertForSequenceClassification model).\n",
      "Some weights of BertForSequenceClassification were not initialized from the model checkpoint at bert-base-cased and are newly initialized: ['classifier.bias', 'classifier.weight']\n",
      "You should probably TRAIN this model on a down-stream task to be able to use it for predictions and inference.\n"
     ]
    }
   ],
   "source": [
    "from transformers import AutoModelForSequenceClassification\n",
    "\n",
    "model = AutoModelForSequenceClassification.from_pretrained(\"bert-base-cased\", num_labels=5)"
   ]
  },
  {
   "cell_type": "markdown",
   "metadata": {
    "id": "bh4sr-BFliGP"
   },
   "source": [
    "## Task 2.4\n",
    "Fine-tune your model on the Yelp Review Polarity training data set."
   ]
  },
  {
   "cell_type": "code",
   "execution_count": null,
   "metadata": {
    "id": "7SoNMrLC9lDg"
   },
   "outputs": [],
   "source": [
    "def tokenize_function(examples):\n",
    "    return tokenizer(examples[\"text\"], padding=\"max_length\", truncation=True)"
   ]
  },
  {
   "cell_type": "code",
   "execution_count": null,
   "metadata": {
    "colab": {
     "base_uri": "https://localhost:8080/",
     "height": 81,
     "referenced_widgets": [
      "37af4bb880024f40a568c4eb4be8d071",
      "1ea849dff31c49959756615eef9ffa1b",
      "ce12ac09b7854548b5b3057b359c9319",
      "0d0f97ccf0b74cea94969833c2df1231",
      "e972a2b507484028ba8110e80bbdc4cc",
      "a21cd815ab4d432e8bcc8bc8b01f2f75",
      "44c3e73ed37d4dd2ab40d0365ba96ccc",
      "06dae62671b946699cd2d0138ce0d3f7",
      "0c14f87453f04ca8b0248e5b393ac127",
      "384e3a7c95c647458d19a7892544253c",
      "2dea9993f95e433c88cd23da56abb3fd",
      "0700ac28f3974e11a65512d4c74b741d",
      "c17c2d5a028043a6888f30b1908fc966",
      "11c1dff3287347b9b31c438fe906e406",
      "0fa955ca47d344f2948dc9b8c8064430",
      "36c736ca88804bbca0783d8ed85f0c3c",
      "dd154a5f4d0349788dd1ab3e6571749d",
      "28d02a5ba1f84e0db93bbd6659f71d1a",
      "58d1978b6a314c48b4d8401457bb12fb",
      "56cc1ebd31744d5bb6701334fb8fbe0b",
      "eabfd2ab30c94aa58a07743bd4daff5e",
      "472546b9949946f097a07b54047dc8ea"
     ]
    },
    "id": "hphucMu-9m03",
    "outputId": "229dce22-a304-4005-861e-d1cda55de829"
   },
   "outputs": [
    {
     "data": {
      "application/vnd.jupyter.widget-view+json": {
       "model_id": "37af4bb880024f40a568c4eb4be8d071",
       "version_major": 2,
       "version_minor": 0
      },
      "text/plain": [
       "  0%|          | 0/560 [00:00<?, ?ba/s]"
      ]
     },
     "metadata": {},
     "output_type": "display_data"
    },
    {
     "data": {
      "application/vnd.jupyter.widget-view+json": {
       "model_id": "0700ac28f3974e11a65512d4c74b741d",
       "version_major": 2,
       "version_minor": 0
      },
      "text/plain": [
       "  0%|          | 0/38 [00:00<?, ?ba/s]"
      ]
     },
     "metadata": {},
     "output_type": "display_data"
    }
   ],
   "source": [
    "tokenized_datasets = dataset.map(tokenize_function, batched=True)"
   ]
  },
  {
   "cell_type": "code",
   "execution_count": null,
   "metadata": {
    "colab": {
     "base_uri": "https://localhost:8080/"
    },
    "id": "D5M-8FIY6npn",
    "outputId": "c3ccd221-6182-44cd-efe5-aae21bfe6091"
   },
   "outputs": [
    {
     "name": "stderr",
     "output_type": "stream",
     "text": [
      "PyTorch: setting up devices\n",
      "The default value for the training argument `--report_to` will change in v5 (from all installed integrations to none). In v5, you will need to use `--report_to all` to get the same behavior as now. You should start updating your code and make this info disappear :-).\n"
     ]
    }
   ],
   "source": [
    "from transformers import TrainingArguments\n",
    "\n",
    "training_args = TrainingArguments(output_dir=\"test_trainer\")"
   ]
  },
  {
   "cell_type": "code",
   "execution_count": null,
   "metadata": {
    "id": "Vz4r_2xl-egK"
   },
   "outputs": [],
   "source": [
    "small_train_dataset = tokenized_datasets[\"train\"].shuffle(seed=42).select(range(1000))\n",
    "small_eval_dataset = tokenized_datasets[\"test\"].shuffle(seed=42).select(range(1000))"
   ]
  },
  {
   "cell_type": "code",
   "execution_count": null,
   "metadata": {
    "id": "kbhVgXbZ_ljl"
   },
   "outputs": [],
   "source": [
    "def compute_metrics(eval_pred):\n",
    "    logits, labels = eval_pred\n",
    "    refs = labels.flatten()\n",
    "    predictions = np.argmax(logits, axis=-1)\n",
    "    print(logits.shape)\n",
    "    print(predictions.shape)\n",
    "    pred = predictions.flatten()\n",
    "    return {\n",
    "        \"accuracy\": accuracy.compute(predictions=pred, references=refs)[\"accuracy\"],\n",
    "        \"f1_micro\": f1_metric.compute(predictions=pred, references=refs, average=\"micro\")[\"f1\"],\n",
    "        \"f1_macro\": f1_metric.compute(predictions=pred, references=refs, average=\"macro\")[\"f1\"],\n",
    "    }"
   ]
  },
  {
   "cell_type": "code",
   "execution_count": null,
   "metadata": {
    "colab": {
     "base_uri": "https://localhost:8080/"
    },
    "id": "2QkoaKCmA2wy",
    "outputId": "fa53d30b-e923-4806-e5d3-a432af79925f"
   },
   "outputs": [
    {
     "name": "stderr",
     "output_type": "stream",
     "text": [
      "PyTorch: setting up devices\n",
      "The default value for the training argument `--report_to` will change in v5 (from all installed integrations to none). In v5, you will need to use `--report_to all` to get the same behavior as now. You should start updating your code and make this info disappear :-).\n"
     ]
    }
   ],
   "source": [
    "# train for 2 epochs, evaluate after each epoch\n",
    "training_args = TrainingArguments(\n",
    "    \"test_trainer\",\n",
    "    num_train_epochs=2,\n",
    "    evaluation_strategy=\"epoch\"\n",
    ")\n",
    "trainer = Trainer(\n",
    "    model=model,\n",
    "    args=training_args,\n",
    "    train_dataset=small_train_dataset,\n",
    "    eval_dataset=small_eval_dataset,\n",
    ")"
   ]
  },
  {
   "cell_type": "code",
   "execution_count": null,
   "metadata": {
    "colab": {
     "base_uri": "https://localhost:8080/",
     "height": 614
    },
    "id": "gnlIuXX7B-dX",
    "outputId": "bf0ba566-58ae-45e0-f28a-1dadc4a49526"
   },
   "outputs": [
    {
     "name": "stderr",
     "output_type": "stream",
     "text": [
      "The following columns in the training set  don't have a corresponding argument in `BertForSequenceClassification.forward` and have been ignored: text. If text are not expected by `BertForSequenceClassification.forward`,  you can safely ignore this message.\n",
      "/usr/local/lib/python3.7/dist-packages/transformers/optimization.py:309: FutureWarning: This implementation of AdamW is deprecated and will be removed in a future version. Use the PyTorch implementation torch.optim.AdamW instead, or set `no_deprecation_warning=True` to disable this warning\n",
      "  FutureWarning,\n",
      "***** Running training *****\n",
      "  Num examples = 1000\n",
      "  Num Epochs = 2\n",
      "  Instantaneous batch size per device = 8\n",
      "  Total train batch size (w. parallel, distributed & accumulation) = 8\n",
      "  Gradient Accumulation steps = 1\n",
      "  Total optimization steps = 250\n",
      "Automatic Weights & Biases logging enabled, to disable set os.environ[\"WANDB_DISABLED\"] = \"true\"\n"
     ]
    },
    {
     "data": {
      "text/html": [
       "\n",
       "    <div>\n",
       "      \n",
       "      <progress value='250' max='250' style='width:300px; height:20px; vertical-align: middle;'></progress>\n",
       "      [250/250 4:08:12, Epoch 2/2]\n",
       "    </div>\n",
       "    <table border=\"1\" class=\"dataframe\">\n",
       "  <thead>\n",
       " <tr style=\"text-align: left;\">\n",
       "      <th>Epoch</th>\n",
       "      <th>Training Loss</th>\n",
       "      <th>Validation Loss</th>\n",
       "    </tr>\n",
       "  </thead>\n",
       "  <tbody>\n",
       "    <tr>\n",
       "      <td>1</td>\n",
       "      <td>No log</td>\n",
       "      <td>0.408908</td>\n",
       "    </tr>\n",
       "    <tr>\n",
       "      <td>2</td>\n",
       "      <td>No log</td>\n",
       "      <td>0.350397</td>\n",
       "    </tr>\n",
       "  </tbody>\n",
       "</table><p>"
      ],
      "text/plain": [
       "<IPython.core.display.HTML object>"
      ]
     },
     "metadata": {},
     "output_type": "display_data"
    },
    {
     "name": "stderr",
     "output_type": "stream",
     "text": [
      "The following columns in the evaluation set  don't have a corresponding argument in `BertForSequenceClassification.forward` and have been ignored: text. If text are not expected by `BertForSequenceClassification.forward`,  you can safely ignore this message.\n",
      "***** Running Evaluation *****\n",
      "  Num examples = 1000\n",
      "  Batch size = 8\n",
      "The following columns in the evaluation set  don't have a corresponding argument in `BertForSequenceClassification.forward` and have been ignored: text. If text are not expected by `BertForSequenceClassification.forward`,  you can safely ignore this message.\n",
      "***** Running Evaluation *****\n",
      "  Num examples = 1000\n",
      "  Batch size = 8\n",
      "\n",
      "\n",
      "Training completed. Do not forget to share your model on huggingface.co/models =)\n",
      "\n",
      "\n"
     ]
    },
    {
     "data": {
      "text/plain": [
       "TrainOutput(global_step=250, training_loss=0.28746905517578125, metrics={'train_runtime': 14951.5601, 'train_samples_per_second': 0.134, 'train_steps_per_second': 0.017, 'total_flos': 526236284928000.0, 'train_loss': 0.28746905517578125, 'epoch': 2.0})"
      ]
     },
     "execution_count": 71,
     "metadata": {},
     "output_type": "execute_result"
    }
   ],
   "source": [
    "trainer.train()"
   ]
  },
  {
   "cell_type": "markdown",
   "metadata": {
    "id": "_3pzKUR9liGQ"
   },
   "source": [
    "## Task 2.5\n",
    "Evaluate your model, following the evaluation protocol you defined in the Theory Question, on the test part of the Yelp Review Polarity data set."
   ]
  },
  {
   "cell_type": "code",
   "execution_count": null,
   "metadata": {
    "colab": {
     "base_uri": "https://localhost:8080/",
     "height": 376,
     "referenced_widgets": [
      "ec3eabc3a9134da289ba9ddae8450513",
      "1170c648aaf94e0ba82e0edc33527e8c",
      "c143bc8b098643f9be6b78615dff612d",
      "154482ed66df40ef8ef4cc43711c5f48",
      "8dedbb64babc4c1aa8a594668aba4469",
      "8e5fd821a2714ec9a7b710465720ba49",
      "37eb6d8510804b3b85fdd8eac3e3572d",
      "8f140e78828e4d41a63ef5881592323b",
      "87b3ec81552e496da3f8758e8e6628be",
      "74066b37dfdd4bc197eedf2ef4fbb31c",
      "b7fcad7c2c414f0181d974368acf875a",
      "77b5375b507047d6bf4f0968caaf3a9c",
      "b41e23e4c0264cb2b51661978c44062a",
      "a74b36b5ae044c21804977413f2fae68",
      "b7a8839ad40844559949b338e554f376",
      "51947584165f4584a310aba3db04c557",
      "87596bd7da014a31af2ac5a43e4ce208",
      "69e51e291ac64a159c28029acec6ddf2",
      "e12eb3ea3dc3473da0f6035993c20227",
      "9c1972a1f9c64d36aee8997e3055c3da",
      "f25e538f0fd94580942fd09f8a92c716",
      "4554c080b6a045a498882ee1b9c3c0d5"
     ]
    },
    "id": "sQd5xZiW-N-m",
    "outputId": "2a169ea1-2001-4b3d-80f5-b81e9bd26d0c"
   },
   "outputs": [
    {
     "data": {
      "application/vnd.jupyter.widget-view+json": {
       "model_id": "ec3eabc3a9134da289ba9ddae8450513",
       "version_major": 2,
       "version_minor": 0
      },
      "text/plain": [
       "Downloading:   0%|          | 0.00/1.41k [00:00<?, ?B/s]"
      ]
     },
     "metadata": {},
     "output_type": "display_data"
    },
    {
     "data": {
      "application/vnd.jupyter.widget-view+json": {
       "model_id": "77b5375b507047d6bf4f0968caaf3a9c",
       "version_major": 2,
       "version_minor": 0
      },
      "text/plain": [
       "Downloading:   0%|          | 0.00/2.06k [00:00<?, ?B/s]"
      ]
     },
     "metadata": {},
     "output_type": "display_data"
    },
    {
     "name": "stderr",
     "output_type": "stream",
     "text": [
      "The following columns in the evaluation set  don't have a corresponding argument in `BertForSequenceClassification.forward` and have been ignored: text. If text are not expected by `BertForSequenceClassification.forward`,  you can safely ignore this message.\n",
      "***** Running Evaluation *****\n",
      "  Num examples = 1000\n",
      "  Batch size = 8\n"
     ]
    },
    {
     "data": {
      "text/html": [
       "\n",
       "    <div>\n",
       "      \n",
       "      <progress value='125' max='125' style='width:300px; height:20px; vertical-align: middle;'></progress>\n",
       "      [125/125 28:23]\n",
       "    </div>\n",
       "    "
      ],
      "text/plain": [
       "<IPython.core.display.HTML object>"
      ]
     },
     "metadata": {},
     "output_type": "display_data"
    },
    {
     "name": "stderr",
     "output_type": "stream",
     "text": [
      "Automatic Weights & Biases logging enabled, to disable set os.environ[\"WANDB_DISABLED\"] = \"true\"\n"
     ]
    },
    {
     "name": "stdout",
     "output_type": "stream",
     "text": [
      "(1000, 5)\n",
      "(1000,)\n"
     ]
    },
    {
     "data": {
      "text/plain": [
       "{'eval_accuracy': 0.919,\n",
       " 'eval_f1_macro': 0.9189409079218751,\n",
       " 'eval_f1_micro': 0.919,\n",
       " 'eval_loss': 0.3503974378108978,\n",
       " 'eval_runtime': 1717.0967,\n",
       " 'eval_samples_per_second': 0.582,\n",
       " 'eval_steps_per_second': 0.073}"
      ]
     },
     "execution_count": 72,
     "metadata": {},
     "output_type": "execute_result"
    }
   ],
   "source": [
    "accuracy = load_metric(\"accuracy\")\n",
    "f1_metric = load_metric(\"f1\")\n",
    "# train set eval\n",
    "Trainer(\n",
    "    model=model,\n",
    "    args=training_args,\n",
    "    eval_dataset=small_eval_dataset,\n",
    "    compute_metrics=compute_metrics,\n",
    ").evaluate()"
   ]
  },
  {
   "cell_type": "markdown",
   "metadata": {
    "id": "8KFA_ulrliGR"
   },
   "source": [
    "# Task 3\n",
    "Visualize and interpret the attention weights of one correctly classified example of the Yelp Review Polarity test data using [BertViz](https://github.com/jessevig/bertviz)'s model_view."
   ]
  },
  {
   "cell_type": "code",
   "execution_count": 7,
   "metadata": {
    "colab": {
     "base_uri": "https://localhost:8080/"
    },
    "id": "ietnYl5wliGU",
    "outputId": "ba54e4e2-8842-4959-bde9-108e4e7688ca"
   },
   "outputs": [
    {
     "name": "stdout",
     "output_type": "stream",
     "text": [
      "Requirement already satisfied: bertviz in /usr/local/lib/python3.7/dist-packages (1.3.0)\n",
      "Requirement already satisfied: regex in /usr/local/lib/python3.7/dist-packages (from bertviz) (2019.12.20)\n",
      "Requirement already satisfied: boto3 in /usr/local/lib/python3.7/dist-packages (from bertviz) (1.21.18)\n",
      "Requirement already satisfied: sentencepiece in /usr/local/lib/python3.7/dist-packages (from bertviz) (0.1.96)\n",
      "Requirement already satisfied: tqdm in /usr/local/lib/python3.7/dist-packages (from bertviz) (4.63.0)\n",
      "Requirement already satisfied: transformers>=2.0 in /usr/local/lib/python3.7/dist-packages (from bertviz) (4.17.0)\n",
      "Requirement already satisfied: torch>=1.0 in /usr/local/lib/python3.7/dist-packages (from bertviz) (1.10.0+cu111)\n",
      "Requirement already satisfied: requests in /usr/local/lib/python3.7/dist-packages (from bertviz) (2.23.0)\n",
      "Requirement already satisfied: typing-extensions in /usr/local/lib/python3.7/dist-packages (from torch>=1.0->bertviz) (3.10.0.2)\n",
      "Requirement already satisfied: pyyaml>=5.1 in /usr/local/lib/python3.7/dist-packages (from transformers>=2.0->bertviz) (6.0)\n",
      "Requirement already satisfied: filelock in /usr/local/lib/python3.7/dist-packages (from transformers>=2.0->bertviz) (3.6.0)\n",
      "Requirement already satisfied: packaging>=20.0 in /usr/local/lib/python3.7/dist-packages (from transformers>=2.0->bertviz) (21.3)\n",
      "Requirement already satisfied: tokenizers!=0.11.3,>=0.11.1 in /usr/local/lib/python3.7/dist-packages (from transformers>=2.0->bertviz) (0.11.6)\n",
      "Requirement already satisfied: numpy>=1.17 in /usr/local/lib/python3.7/dist-packages (from transformers>=2.0->bertviz) (1.21.5)\n",
      "Requirement already satisfied: huggingface-hub<1.0,>=0.1.0 in /usr/local/lib/python3.7/dist-packages (from transformers>=2.0->bertviz) (0.4.0)\n",
      "Requirement already satisfied: sacremoses in /usr/local/lib/python3.7/dist-packages (from transformers>=2.0->bertviz) (0.0.47)\n",
      "Requirement already satisfied: importlib-metadata in /usr/local/lib/python3.7/dist-packages (from transformers>=2.0->bertviz) (4.11.2)\n",
      "Requirement already satisfied: pyparsing!=3.0.5,>=2.0.2 in /usr/local/lib/python3.7/dist-packages (from packaging>=20.0->transformers>=2.0->bertviz) (3.0.7)\n",
      "Requirement already satisfied: botocore<1.25.0,>=1.24.18 in /usr/local/lib/python3.7/dist-packages (from boto3->bertviz) (1.24.18)\n",
      "Requirement already satisfied: jmespath<1.0.0,>=0.7.1 in /usr/local/lib/python3.7/dist-packages (from boto3->bertviz) (0.10.0)\n",
      "Requirement already satisfied: s3transfer<0.6.0,>=0.5.0 in /usr/local/lib/python3.7/dist-packages (from boto3->bertviz) (0.5.2)\n",
      "Requirement already satisfied: python-dateutil<3.0.0,>=2.1 in /usr/local/lib/python3.7/dist-packages (from botocore<1.25.0,>=1.24.18->boto3->bertviz) (2.8.2)\n",
      "Requirement already satisfied: urllib3<1.27,>=1.25.4 in /usr/local/lib/python3.7/dist-packages (from botocore<1.25.0,>=1.24.18->boto3->bertviz) (1.25.11)\n",
      "Requirement already satisfied: six>=1.5 in /usr/local/lib/python3.7/dist-packages (from python-dateutil<3.0.0,>=2.1->botocore<1.25.0,>=1.24.18->boto3->bertviz) (1.15.0)\n",
      "Requirement already satisfied: zipp>=0.5 in /usr/local/lib/python3.7/dist-packages (from importlib-metadata->transformers>=2.0->bertviz) (3.7.0)\n",
      "Requirement already satisfied: certifi>=2017.4.17 in /usr/local/lib/python3.7/dist-packages (from requests->bertviz) (2021.10.8)\n",
      "Requirement already satisfied: chardet<4,>=3.0.2 in /usr/local/lib/python3.7/dist-packages (from requests->bertviz) (3.0.4)\n",
      "Requirement already satisfied: idna<3,>=2.5 in /usr/local/lib/python3.7/dist-packages (from requests->bertviz) (2.10)\n",
      "Requirement already satisfied: click in /usr/local/lib/python3.7/dist-packages (from sacremoses->transformers>=2.0->bertviz) (7.1.2)\n",
      "Requirement already satisfied: joblib in /usr/local/lib/python3.7/dist-packages (from sacremoses->transformers>=2.0->bertviz) (1.1.0)\n"
     ]
    }
   ],
   "source": [
    "!pip install bertviz"
   ]
  },
  {
   "cell_type": "code",
   "execution_count": 10,
   "metadata": {
    "colab": {
     "base_uri": "https://localhost:8080/",
     "height": 851
    },
    "id": "c0nyV_mRgfCg",
    "outputId": "f0597e29-4312-429f-b49b-8635326c65b4"
   },
   "outputs": [
    {
     "data": {
      "text/html": [
       "<script src=\"https://cdnjs.cloudflare.com/ajax/libs/require.js/2.3.6/require.min.js\"></script>"
      ],
      "text/plain": [
       "<IPython.core.display.HTML object>"
      ]
     },
     "metadata": {},
     "output_type": "display_data"
    },
    {
     "data": {
      "text/html": [
       "      \n",
       "        <div id='bertviz-d98532981eb14b309ebab11c9993cdad'>\n",
       "            <span style=\"user-select:none\">\n",
       "                \n",
       "            </span>\n",
       "            <div id='vis'></div>\n",
       "        </div>\n",
       "    "
      ],
      "text/plain": [
       "<IPython.core.display.HTML object>"
      ]
     },
     "metadata": {},
     "output_type": "display_data"
    },
    {
     "data": {
      "application/javascript": [
       "/**\n",
       " * @fileoverview Transformer Visualization D3 javascript code.\n",
       " *\n",
       " * Based on: https://github.com/tensorflow/tensor2tensor/blob/master/tensor2tensor/visualization/attention.js\n",
       " *\n",
       " * Change log:\n",
       " *\n",
       " * 02/01/19  Jesse Vig   Initial implementation\n",
       " * 12/31/20  Jesse Vig   Support multiple visualizations in single notebook.\n",
       " * 01/19/21  Jesse Vig   Support light/dark modes\n",
       " * 02/06/21  Jesse Vig   Move require config from separate jupyter notebook step\n",
       " * 05/03/21  Jesse Vig   Adjust visualization height dynamically\n",
       " **/\n",
       "\n",
       "require.config({\n",
       "  paths: {\n",
       "      d3: '//cdnjs.cloudflare.com/ajax/libs/d3/5.7.0/d3.min',\n",
       "    jquery: '//ajax.googleapis.com/ajax/libs/jquery/2.0.0/jquery.min',\n",
       "  }\n",
       "});\n",
       "\n",
       "requirejs(['jquery', 'd3'], function($, d3) {\n",
       "\n",
       "        const params = {\"attention\": [{\"name\": null, \"attn\": [[[[0.2473641186952591, 0.12032148987054825, 0.10827425867319107, 0.10943346470594406, 0.05505514517426491, 0.0986444279551506, 0.1783944070339203, 0.0825127586722374], [0.3607475757598877, 0.05545555427670479, 0.21354207396507263, 0.05998995527625084, 0.0689888447523117, 0.07473485916852951, 0.09926076233386993, 0.06728032231330872], [0.10338938981294632, 0.03575102612376213, 0.292574942111969, 0.1414497196674347, 0.06509847193956375, 0.04726366698741913, 0.2150520384311676, 0.09942074865102768], [0.1911238729953766, 0.04402076452970505, 0.38559475541114807, 0.08881596475839615, 0.06288845837116241, 0.04269850626587868, 0.11302836984395981, 0.07182928174734116], [0.4264465868473053, 0.012802367098629475, 0.2717544138431549, 0.06759095191955566, 0.02867966890335083, 0.01039794273674488, 0.13438032567501068, 0.047947682440280914], [0.404105007648468, 0.03876470401883125, 0.1710183173418045, 0.049951691180467606, 0.1192198246717453, 0.04102730751037598, 0.08981583267450333, 0.08609727770090103], [0.1146804690361023, 0.01838584430515766, 0.4152982234954834, 0.2585364580154419, 0.031813252717256546, 0.01809775084257126, 0.07385396212339401, 0.06933403015136719], [0.38892921805381775, 0.04426196217536926, 0.25357136130332947, 0.03444039449095726, 0.03659387305378914, 0.056760482490062714, 0.11028651893138885, 0.07515616714954376]], [[0.8465763330459595, 0.022952772676944733, 0.015816256403923035, 0.00241761258803308, 0.061511095613241196, 0.025066249072551727, 0.008973971009254456, 0.01668562740087509], [0.24428413808345795, 0.15012986958026886, 0.07203838229179382, 0.0441737025976181, 0.16910049319267273, 0.18032070994377136, 0.042778097093105316, 0.09717460721731186], [0.4796109199523926, 0.06719084084033966, 0.05159798264503479, 0.02595379203557968, 0.04241490364074707, 0.1019255742430687, 0.07476886361837387, 0.1565370410680771], [0.18239636719226837, 0.0221804641187191, 0.19288784265518188, 0.02298841066658497, 0.018079672008752823, 0.03764214366674423, 0.1733323186635971, 0.3504927158355713], [0.0934431254863739, 0.06969032436609268, 0.2520611584186554, 0.14078553020954132, 0.026984119787812233, 0.13939735293388367, 0.1204577088356018, 0.15718072652816772], [0.11618828028440475, 0.16074709594249725, 0.09452717006206512, 0.07212729752063751, 0.13777481019496918, 0.20692066848278046, 0.07442735135555267, 0.13728727400302887], [0.45640063285827637, 0.019434219226241112, 0.1700063794851303, 0.008418121375143528, 0.021440912038087845, 0.04522182419896126, 0.04276292026042938, 0.23631501197814941], [0.30852261185646057, 0.1297517567873001, 0.08107295632362366, 0.01746295392513275, 0.14685720205307007, 0.16298796236515045, 0.058837227523326874, 0.09450732171535492]], [[0.773880660533905, 0.031172975897789, 0.026219621300697327, 0.024773886427283287, 0.028529712930321693, 0.013078248128294945, 0.049342889338731766, 0.05300195515155792], [0.916000485420227, 0.015151970088481903, 0.009693109430372715, 0.017446273937821388, 0.024467844516038895, 0.010955758392810822, 0.0043524582870304585, 0.0019320962019264698], [0.4821045696735382, 0.12991853058338165, 0.07605063915252686, 0.0522829070687294, 0.022882280871272087, 0.0009031954687088728, 0.22659790515899658, 0.009259973652660847], [0.2211424559354782, 0.0028738323599100113, 0.6916725039482117, 0.00043514600838534534, 0.0016297020483762026, 0.017250921577215195, 0.022007593885064125, 0.04298796132206917], [0.02284909039735794, 0.005573371425271034, 0.0015294220065698028, 0.9546753168106079, 0.006628197152167559, 0.002168868202716112, 0.004142599646002054, 0.002433127723634243], [0.0590808130800724, 0.009509723633527756, 0.0005149072385393083, 0.025037121027708054, 0.8500751852989197, 0.007751057390123606, 0.003733917372301221, 0.0442972369492054], [0.05142892524600029, 0.0019960803911089897, 0.14225457608699799, 0.013790297321975231, 0.09137480705976486, 0.4616086483001709, 0.08948461711406708, 0.1480620950460434], [0.0223259087651968, 0.00201384536921978, 0.00037327679456211627, 0.008735248818993568, 0.00026294327108189464, 0.00420016935095191, 0.9384675025939941, 0.02362104132771492]], [[0.7908865213394165, 0.0167897529900074, 0.04190085083246231, 0.05429019406437874, 0.027493229135870934, 0.0067940568551421165, 0.03821209818124771, 0.02363329380750656], [0.8268232345581055, 0.01936529390513897, 0.087186798453331, 0.040196020156145096, 0.0011967971222475171, 0.0047108386643230915, 0.014347514137625694, 0.006173626519739628], [0.9874144196510315, 0.007401261944323778, 0.004000956658273935, 0.0005968752084299922, 2.361015503993258e-06, 2.3734039132250473e-05, 0.0005410715821199119, 1.91964500118047e-05], [0.7174856662750244, 0.03653596341609955, 0.18793830275535583, 0.02422413043677807, 0.0007353953551501036, 0.004758529365062714, 0.020634500309824944, 0.007687395438551903], [0.005504933185875416, 0.023773159831762314, 0.3350895643234253, 0.619676947593689, 0.0006529992097057402, 0.0013097439659759402, 0.011074624955654144, 0.0029180629644542933], [0.025708692148327827, 0.032751068472862244, 0.15304124355316162, 0.41853296756744385, 0.18013980984687805, 0.06783358007669449, 0.06214775890111923, 0.059844885021448135], [0.40341028571128845, 0.0044995578937232494, 0.008537345565855503, 0.019589759409427643, 0.12994180619716644, 0.35411515831947327, 0.056633301079273224, 0.02327265776693821], [0.29523903131484985, 0.007594986353069544, 0.001150605152361095, 0.014309274032711983, 0.00024293354363180697, 0.09874054044485092, 0.5150960683822632, 0.06762649863958359]], [[0.45134806632995605, 0.036669593304395676, 0.11802268028259277, 0.07429910451173782, 0.07066328078508377, 0.028293542563915253, 0.11351320892572403, 0.1071905568242073], [0.20175743103027344, 0.04968472942709923, 0.04793422296643257, 0.39404618740081787, 0.01983460783958435, 0.0618448480963707, 0.17092730104923248, 0.053970761597156525], [0.15411756932735443, 0.06888754665851593, 0.06269658356904984, 0.3977143168449402, 0.10148733854293823, 0.05219646915793419, 0.11968670040369034, 0.04321347177028656], [0.16055411100387573, 0.10503685474395752, 0.1517082005739212, 0.0452280156314373, 0.22358834743499756, 0.11430010944604874, 0.07715605944395065, 0.12242835015058517], [0.10744117200374603, 0.026179317384958267, 0.07409300655126572, 0.6324372887611389, 0.0075058527290821075, 0.020103011280298233, 0.10475938022136688, 0.027480876073241234], [0.09296511113643646, 0.054452259093523026, 0.05794656649231911, 0.5149326324462891, 0.01389533281326294, 0.033900078386068344, 0.21566028892993927, 0.016247684136033058], [0.2980741262435913, 0.083467498421669, 0.15418830513954163, 0.1353043168783188, 0.2045305371284485, 0.05236441642045975, 0.025994371622800827, 0.04607636108994484], [0.5330021977424622, 0.04303745925426483, 0.012484269216656685, 0.02970833145081997, 0.057196807116270065, 0.07759121805429459, 0.03418836370110512, 0.21279121935367584]], [[0.5274474620819092, 0.12539222836494446, 0.022463826462626457, 0.006641705520451069, 0.06813469529151917, 0.185603529214859, 0.02005608007311821, 0.044260408729314804], [0.4949108958244324, 0.07880742847919464, 0.07212743163108826, 0.028038715943694115, 0.08424022048711777, 0.12315021455287933, 0.022461187094449997, 0.09626393020153046], [0.2998574376106262, 0.07883433997631073, 0.04808104783296585, 0.2198563814163208, 0.042106032371520996, 0.1348206251859665, 0.08570846170186996, 0.09073562920093536], [0.43523284792900085, 0.06253104656934738, 0.02860148251056671, 0.05543765053153038, 0.01732698641717434, 0.18583378195762634, 0.1711510866880417, 0.043885208666324615], [0.3793778717517853, 0.035237379372119904, 0.1449260711669922, 0.041160158812999725, 0.01609412394464016, 0.10065926611423492, 0.1983046680688858, 0.0842403769493103], [0.6379245519638062, 0.05203444883227348, 0.06578468531370163, 0.024250371381640434, 0.04592730104923248, 0.05905952304601669, 0.031070321798324585, 0.08394879102706909], [0.07204774767160416, 0.05842030420899391, 0.24792805314064026, 0.10340587794780731, 0.10026457905769348, 0.12483382225036621, 0.13772128522396088, 0.15537840127944946], [0.5035632252693176, 0.06944085657596588, 0.03539452701807022, 0.0074791014194488525, 0.08063985407352448, 0.17500890791416168, 0.01564629189670086, 0.11282728612422943]], [[0.15493321418762207, 0.30997157096862793, 0.012022312730550766, 0.00621378468349576, 0.010788222774863243, 0.48756328225135803, 0.014739523641765118, 0.003768125083297491], [0.07555457204580307, 0.054179541766643524, 0.10916311293840408, 0.2749266028404236, 0.10840760916471481, 0.04457354173064232, 0.14005111157894135, 0.1931437999010086], [0.12298071384429932, 0.016678232699632645, 0.35956746339797974, 0.17933155596256256, 0.03676970303058624, 0.018866227939724922, 0.10417567193508148, 0.16163036227226257], [0.06917980313301086, 0.053654950112104416, 0.08531540632247925, 0.2226484715938568, 0.0736757144331932, 0.06770412623882294, 0.2740464508533478, 0.15377512574195862], [0.19469748437404633, 0.01940077729523182, 0.10488101840019226, 0.42626938223838806, 0.05024387314915657, 0.013032396323978901, 0.09224851429462433, 0.09922653436660767], [0.03722980245947838, 0.1386529803276062, 0.11284783482551575, 0.17768655717372894, 0.1450909972190857, 0.08081044256687164, 0.13443203270435333, 0.17324936389923096], [0.017826734110713005, 0.04111107438802719, 0.060856353491544724, 0.22345899045467377, 0.06454280763864517, 0.019498256966471672, 0.45399922132492065, 0.1187065914273262], [0.031203564256429672, 0.2648119330406189, 0.04469676688313484, 0.04666053503751755, 0.23657841980457306, 0.260273814201355, 0.049244821071624756, 0.06653016805648804]], [[0.4534682631492615, 0.0009647588012740016, 0.06364284455776215, 0.043237295001745224, 0.038062818348407745, 0.0006666556000709534, 0.06144515052437782, 0.33851224184036255], [0.37965157628059387, 0.02872375026345253, 0.10505767911672592, 0.11066313087940216, 0.04654255136847496, 0.029527870938181877, 0.14267635345458984, 0.15715715289115906], [0.10542549192905426, 0.019170381128787994, 0.3757340610027313, 0.16706210374832153, 0.05390333756804466, 0.018139401450753212, 0.23316064476966858, 0.027404528111219406], [0.11155591905117035, 0.007289329078048468, 0.31685560941696167, 0.08897624909877777, 0.10309051722288132, 0.0096974428743124, 0.11493310332298279, 0.24760174751281738], [0.40293896198272705, 0.02878190204501152, 0.11435630172491074, 0.06475259363651276, 0.06378257274627686, 0.017754508182406425, 0.14669308066368103, 0.1609400361776352], [0.18189305067062378, 0.12612862884998322, 0.07606974989175797, 0.08199190348386765, 0.12100217491388321, 0.09892143309116364, 0.16318291425704956, 0.15081018209457397], [0.11652680486440659, 0.008656107820570469, 0.48067161440849304, 0.13218991458415985, 0.09208372980356216, 0.010737490840256214, 0.06528466194868088, 0.09384968876838684], [0.41981935501098633, 0.057743098586797714, 0.0964127853512764, 0.08684104681015015, 0.08233910799026489, 0.05827302113175392, 0.16139133274555206, 0.03718012943863869]], [[0.3880222737789154, 0.0871121883392334, 0.25254717469215393, 0.06157038360834122, 0.03472162410616875, 0.06989854574203491, 0.10085650533437729, 0.0052713858895003796], [0.030666178092360497, 0.06826278567314148, 0.046603139489889145, 0.3642398715019226, 0.08477669209241867, 0.1846863031387329, 0.1501302868127823, 0.07063475996255875], [0.09080943465232849, 0.04118988662958145, 0.06769878417253494, 0.2438446581363678, 0.07716654241085052, 0.15453921258449554, 0.2830844223499298, 0.04166705906391144], [0.05307654291391373, 0.022449001669883728, 0.062216002494096756, 0.08493708819150925, 0.04432327672839165, 0.057765159755945206, 0.5100091695785522, 0.16522376239299774], [0.01669844053685665, 0.01951000839471817, 0.03217856213450432, 0.1684802919626236, 0.0035302522592246532, 0.03810850530862808, 0.5008202195167542, 0.22067375481128693], [0.0052892109379172325, 0.10061099380254745, 0.032617539167404175, 0.345947802066803, 0.026413924992084503, 0.09889641404151917, 0.14186862111091614, 0.24835552275180817], [0.07804930210113525, 0.07727845013141632, 0.173355832695961, 0.1299029439687729, 0.022004352882504463, 0.1485351324081421, 0.2552306354045868, 0.11564335227012634], [0.0865340381860733, 0.2280224859714508, 0.07511767745018005, 0.07803145796060562, 0.05079783499240875, 0.38854265213012695, 0.08547312766313553, 0.007480714004486799]], [[0.43429189920425415, 0.027762293815612793, 0.08935867995023727, 0.18102459609508514, 0.056140221655368805, 0.027851760387420654, 0.05395088344812393, 0.12961965799331665], [0.4296032190322876, 0.017573822289705276, 0.08296921849250793, 0.08049715310335159, 0.04506378620862961, 0.06267868727445602, 0.03431539610028267, 0.24729867279529572], [0.027654416859149933, 0.013098340481519699, 0.6021143794059753, 0.017950575798749924, 0.06827335804700851, 0.023543942719697952, 0.05088333413004875, 0.19648167490959167], [0.3132321536540985, 0.01614363305270672, 0.10420577228069305, 0.20102770626544952, 0.028221018612384796, 0.03226084262132645, 0.18046873807907104, 0.12444012612104416], [0.4355068802833557, 0.015563554130494595, 0.11158082634210587, 0.18286824226379395, 0.008623809553682804, 0.010703101754188538, 0.12018422037363052, 0.11496938019990921], [0.33476391434669495, 0.06324558705091476, 0.17195968329906464, 0.14416193962097168, 0.029925664886832237, 0.028894251212477684, 0.04205504432320595, 0.1849938929080963], [0.12268051505088806, 0.0986950621008873, 0.2204078584909439, 0.26177990436553955, 0.08609090000391006, 0.04569279029965401, 0.1350271999835968, 0.029625825583934784], [0.2855921685695648, 0.04809485003352165, 0.07211443036794662, 0.3548707365989685, 0.11027193814516068, 0.05742578208446503, 0.05945981666445732, 0.012170299887657166]], [[0.7064619064331055, 0.042273931205272675, 0.038079869002103806, 0.04691862687468529, 0.0249751228839159, 0.023363739252090454, 0.06353941559791565, 0.054387349635362625], [0.00013053478323854506, 0.002160238102078438, 0.9845007658004761, 0.007495366968214512, 0.00047081135562621057, 0.0008008495788089931, 0.0017106352606788278, 0.0027306885458528996], [0.011687243357300758, 0.09700188040733337, 0.0848277136683464, 0.7264523506164551, 0.028193024918437004, 0.00863571185618639, 0.040419965982437134, 0.0027821336407214403], [0.002113988157361746, 0.00715026818215847, 0.014575112611055374, 0.0040853600949049, 0.5954450368881226, 0.14920222759246826, 0.020452305674552917, 0.2069757580757141], [0.01438651978969574, 0.0029692586977034807, 0.004394585266709328, 0.006959834601730108, 0.0034601048100739717, 0.5737115740776062, 0.3873450756072998, 0.006773047614842653], [0.00010239261609967798, 0.0006375702214427292, 0.00014009805454406887, 0.01197177916765213, 0.0002457423834130168, 0.002872544340789318, 0.9748212695121765, 0.009208607487380505], [0.0017284220084547997, 0.00044253779924474657, 0.0069519029930233955, 0.0012700861552730203, 0.0034893180709332228, 0.009185118600726128, 0.0076155876740813255, 0.9693170189857483], [0.7499168515205383, 0.0001894301822176203, 0.0005053309723734856, 0.013290825299918652, 0.002251979662105441, 0.07728261500597, 0.04956713691353798, 0.10699581354856491]], [[0.24888931214809418, 0.005006661172956228, 0.0344591960310936, 0.110835500061512, 0.0007691056234762073, 0.037939924746751785, 0.5177471041679382, 0.04435326159000397], [0.3781035244464874, 0.011933065950870514, 0.11839761584997177, 0.16954725980758667, 0.004376943223178387, 0.059950169175863266, 0.2049587517976761, 0.05273256078362465], [0.05374980717897415, 0.09312660992145538, 0.04114045202732086, 0.034042079001665115, 0.07770592719316483, 0.0688723772764206, 0.3615474998950958, 0.2698151767253876], [0.16607439517974854, 0.008433324284851551, 0.06536254286766052, 0.0777287632226944, 0.012223782949149609, 0.025165487080812454, 0.42173299193382263, 0.2232787162065506], [0.15479613840579987, 0.02155429869890213, 0.2569395899772644, 0.2009180188179016, 0.007131779566407204, 0.08418542146682739, 0.19593751430511475, 0.07853725552558899], [0.1273854374885559, 0.026477834209799767, 0.033924635499715805, 0.20646122097969055, 0.01764596626162529, 0.055793359875679016, 0.3553880751132965, 0.17692339420318604], [0.06376615911722183, 0.018571941182017326, 0.06213286891579628, 0.15377774834632874, 0.022691862657666206, 0.13279959559440613, 0.06357382982969284, 0.48268601298332214], [0.12016862630844116, 0.008068709634244442, 0.051521655172109604, 0.09901616722345352, 0.0018655394669622183, 0.046382348984479904, 0.5311397910118103, 0.1418371945619583]]], [[[0.525549590587616, 0.04999905824661255, 0.02216583676636219, 0.02745305746793747, 0.126352459192276, 0.05357882380485535, 0.03144488111138344, 0.16345630586147308], [0.10965824127197266, 0.06988082826137543, 0.25671184062957764, 0.06750006973743439, 0.18112623691558838, 0.0777282863855362, 0.1450182944536209, 0.09237619489431381], [0.26602786779403687, 0.061318833380937576, 0.08860059082508087, 0.20482784509658813, 0.052588604390621185, 0.08461465686559677, 0.009658695198595524, 0.23236297070980072], [0.049064457416534424, 0.04393952712416649, 0.03324645757675171, 0.016892004758119583, 0.421279639005661, 0.05800378695130348, 0.25106972455978394, 0.12650445103645325], [0.5665513873100281, 0.06842267513275146, 0.037427373230457306, 0.0237565990537405, 0.06904921680688858, 0.08122920989990234, 0.0997755154967308, 0.05378804728388786], [0.3215605318546295, 0.0778314545750618, 0.09446821361780167, 0.0165836364030838, 0.17812223732471466, 0.07324494421482086, 0.16370001435279846, 0.07448897510766983], [0.022637423127889633, 0.11817654967308044, 0.08555085957050323, 0.07339129596948624, 0.051216065883636475, 0.1417599618434906, 0.26502725481987, 0.2422405183315277], [0.35460323095321655, 0.07650939375162125, 0.06556094437837601, 0.11792971193790436, 0.14304280281066895, 0.06788874417543411, 0.09787703305482864, 0.07658818364143372]], [[0.7417870163917542, 0.029865363612771034, 0.015905356034636497, 0.021620577201247215, 0.03116775117814541, 0.030211061239242554, 0.008642719127237797, 0.12080033868551254], [0.047615256160497665, 0.02040771208703518, 0.8677869439125061, 0.007760903798043728, 0.0009004141320474446, 0.003286783117800951, 0.00012443875311873853, 0.052117615938186646], [0.2136566936969757, 0.007344813086092472, 0.3578173518180847, 0.40099257230758667, 0.00732001755386591, 0.0012792441993951797, 0.0008379400824196637, 0.010751353576779366], [0.17653730511665344, 0.00037373515078797936, 0.00033295960747636855, 0.004263135138899088, 0.7134160399436951, 0.0017672174144536257, 0.00010710775677580386, 0.1032024621963501], [0.012148465029895306, 0.007344777230173349, 0.0028288187459111214, 0.0010726980399340391, 0.001247821026481688, 0.9712050557136536, 0.0038813352584838867, 0.00027104097534902394], [0.014725470915436745, 0.030026640743017197, 0.0022750652860850096, 0.006002579815685749, 0.00016460193728562444, 0.028429778292775154, 0.89276522397995, 0.025610676035284996], [0.03126317262649536, 5.521377897821367e-05, 0.0002227916120318696, 0.0001937377528520301, 0.00015720154624432325, 0.0001114553670049645, 0.000622657360509038, 0.967373788356781], [0.8382721543312073, 5.103931107441895e-05, 0.000947551045101136, 0.01212173793464899, 0.006364639848470688, 0.024003108963370323, 0.001693418249487877, 0.11654622107744217]], [[0.5595059990882874, 0.057426609098911285, 0.028222084045410156, 0.07548534870147705, 0.0361306369304657, 0.030876561999320984, 0.018712719902396202, 0.1936400979757309], [0.3886619806289673, 0.05905694141983986, 0.04554958641529083, 0.15286628901958466, 0.03213929012417793, 0.022636599838733673, 0.01895126700401306, 0.2801380753517151], [0.20880761742591858, 0.019088026136159897, 0.022784719243645668, 0.3679332733154297, 0.010281870141625404, 0.006418721284717321, 0.008593622595071793, 0.35609209537506104], [0.20074690878391266, 0.058325059711933136, 0.09594829380512238, 0.17953555285930634, 0.048425596207380295, 0.04572996497154236, 0.0150905791670084, 0.3561980724334717], [0.25106316804885864, 0.05367610976099968, 0.08022572845220566, 0.09638238698244095, 0.021894054487347603, 0.024201661348342896, 0.04432527720928192, 0.42823168635368347], [0.22358062863349915, 0.07200782746076584, 0.11381861567497253, 0.1833590865135193, 0.05685190111398697, 0.03784921392798424, 0.026515457779169083, 0.2860172390937805], [0.094418004155159, 0.07206815481185913, 0.05577322840690613, 0.5424095392227173, 0.10322380810976028, 0.07157177478075027, 0.009948295541107655, 0.05058707669377327], [0.42318451404571533, 0.07042239606380463, 0.06225161626935005, 0.12998563051223755, 0.05835682526230812, 0.04751552268862724, 0.029231926426291466, 0.1790515035390854]], [[0.5120847821235657, 0.10308048129081726, 0.005696726031601429, 0.029340162873268127, 0.0621982179582119, 0.11493329703807831, 0.018724093213677406, 0.1539422571659088], [0.28591373562812805, 0.151524156332016, 0.02091994509100914, 0.03244365006685257, 0.06253738701343536, 0.15843366086483002, 0.05688978731632233, 0.231337770819664], [0.2761899530887604, 0.03689195215702057, 0.03255473077297211, 0.034805383533239365, 0.12364782392978668, 0.03224525600671768, 0.3159578740596771, 0.14770707488059998], [0.2867002487182617, 0.04598033428192139, 0.035998404026031494, 0.03225908800959587, 0.043950825929641724, 0.026941072195768356, 0.42821383476257324, 0.09995628148317337], [0.3715217113494873, 0.08126126974821091, 0.020774537697434425, 0.14164642989635468, 0.03947768360376358, 0.05513095110654831, 0.10173414647579193, 0.1884532868862152], [0.2934102714061737, 0.17859534919261932, 0.02548062428832054, 0.061581242829561234, 0.07057681679725647, 0.14762239158153534, 0.04499759525060654, 0.17773564159870148], [0.09735870361328125, 0.010125167667865753, 0.10838635265827179, 0.16991972923278809, 0.14156880974769592, 0.009531378746032715, 0.43615198135375977, 0.02695779874920845], [0.5393019318580627, 0.08491726219654083, 0.003973791375756264, 0.029914606362581253, 0.0860498696565628, 0.1244998574256897, 0.028067700564861298, 0.10327493399381638]], [[0.6376750469207764, 0.10549712926149368, 0.014151121489703655, 0.042907316237688065, 0.07463841140270233, 0.04306211322546005, 0.022590553387999535, 0.059478361159563065], [0.9082961082458496, 0.07481696456670761, 0.0012606364907696843, 0.0005537709803320467, 0.013658701442182064, 0.0011654229601845145, 0.000201237722649239, 4.711871952167712e-05], [0.0005571671645157039, 0.9979588985443115, 0.0014566386817023158, 8.993996743811294e-06, 1.2435358485163306e-06, 2.533348379074596e-06, 1.1636700037342962e-05, 2.948971541627543e-06], [0.41293683648109436, 0.4005095064640045, 0.13307739794254303, 0.03029659204185009, 0.0008353732409887016, 0.004690727684646845, 0.0006668683490715921, 0.016986701637506485], [0.005012547131627798, 0.00041049113497138023, 0.0006030892254784703, 0.9924896359443665, 0.0010912846773862839, 6.543441122630611e-05, 2.165072328352835e-05, 0.0003057942958548665], [0.014290299266576767, 0.002910671755671501, 0.00011361134966136888, 0.001458446029573679, 0.9713071584701538, 0.005221456754952669, 0.0004262437578290701, 0.004272049758583307], [0.4832867383956909, 0.000235893894569017, 1.4034257219464052e-05, 0.0001054831373039633, 0.0495142862200737, 0.45448023080825806, 0.0034352880902588367, 0.008927891962230206], [0.19196756184101105, 0.04460036754608154, 5.268040331429802e-05, 0.0016918117180466652, 0.004672331269830465, 0.014384384267032146, 0.6630631685256958, 0.07956769317388535]], [[0.6313725709915161, 0.028943456709384918, 0.028621550649404526, 0.03227156028151512, 0.02506813034415245, 0.03283846750855446, 0.015655789524316788, 0.2052283138036728], [0.4511803090572357, 0.024959838017821312, 0.01679653860628605, 0.016748296096920967, 0.013592036440968513, 0.0312079768627882, 0.008449847809970379, 0.43706515431404114], [0.4302622973918915, 0.08448174595832825, 0.033928241580724716, 0.0476834662258625, 0.02358543500304222, 0.05550128221511841, 0.0627414807677269, 0.2618160843849182], [0.5287742614746094, 0.01747020147740841, 0.033517349511384964, 0.03227469325065613, 0.02896217815577984, 0.013544406741857529, 0.042141035199165344, 0.3033158779144287], [0.23396606743335724, 0.06543820351362228, 0.0553055964410305, 0.05499241128563881, 0.044349413365125656, 0.10054508596658707, 0.21333542466163635, 0.2320677638053894], [0.4369827210903168, 0.057765476405620575, 0.05184977129101753, 0.06470869481563568, 0.054343756288290024, 0.04563601315021515, 0.026811204850673676, 0.2619023025035858], [0.2754128575325012, 0.08175985515117645, 0.06893724948167801, 0.14641313254833221, 0.12737393379211426, 0.058887630701065063, 0.05765114724636078, 0.18356414139270782], [0.6489206552505493, 0.03236430510878563, 0.021146925166249275, 0.04091418907046318, 0.015820814296603203, 0.03723783791065216, 0.024683557450771332, 0.1789117008447647]], [[0.3202044665813446, 0.06626085191965103, 0.05731876194477081, 0.05969534069299698, 0.27886271476745605, 0.09581964462995529, 0.03021012619137764, 0.09162828326225281], [0.0756324976682663, 0.14396636188030243, 0.03251924365758896, 0.17325346171855927, 0.44397616386413574, 0.007152245845645666, 0.0019811957608908415, 0.12151884287595749], [0.054460808634757996, 0.5006924271583557, 0.012351950630545616, 0.0005701823974959552, 0.31327226758003235, 0.11757579445838928, 1.6028199752327055e-05, 0.001060480484738946], [0.12475226819515228, 0.18114972114562988, 0.0001495874603278935, 0.001715544844046235, 0.28972622752189636, 0.387424498796463, 0.005660143215209246, 0.009422099217772484], [0.02549220807850361, 0.06472410261631012, 0.036178331822156906, 0.014791140332818031, 0.0047118933871388435, 0.01049313135445118, 0.11786240339279175, 0.725746750831604], [0.016582529991865158, 5.196384518058039e-05, 0.000987327191978693, 0.01869003288447857, 0.0008698656456544995, 0.0024342103861272335, 0.012495175935328007, 0.9478888511657715], [0.5627243518829346, 0.0003952000115532428, 5.1449234888423234e-05, 0.01647724024951458, 0.03878023847937584, 0.014646176248788834, 0.014075254090130329, 0.35285019874572754], [0.3195651173591614, 0.0066217402927577496, 7.723175076534972e-05, 0.002255722414702177, 0.24267244338989258, 0.18136371672153473, 0.023059502243995667, 0.2243845909833908]], [[0.8392136096954346, 0.022476647049188614, 0.01267990656197071, 0.026680201292037964, 0.007448315620422363, 0.018376631662249565, 0.007904516533017159, 0.06522014737129211], [0.3368631601333618, 0.13183484971523285, 0.0508602112531662, 0.08905468136072159, 0.03001329116523266, 0.07477214932441711, 0.05270221084356308, 0.23389944434165955], [0.11530500650405884, 0.06474141776561737, 0.0350663885474205, 0.4084678590297699, 0.031018707901239395, 0.036518484354019165, 0.10495155304670334, 0.20393060147762299], [0.10504422336816788, 0.07997264713048935, 0.10809046775102615, 0.1010541021823883, 0.080037921667099, 0.05216722935438156, 0.22039110958576202, 0.25324222445487976], [0.3584614396095276, 0.1926497370004654, 0.06324560195207596, 0.06829842180013657, 0.019689984619617462, 0.0942971333861351, 0.057663444429636, 0.1456942856311798], [0.28830158710479736, 0.14521734416484833, 0.06824105978012085, 0.10002785176038742, 0.04702384024858475, 0.10263807326555252, 0.07589885592460632, 0.17265135049819946], [0.031053775921463966, 0.030868802219629288, 0.029687780886888504, 0.5561010241508484, 0.03242381662130356, 0.02440868318080902, 0.12605975568294525, 0.16939644515514374], [0.8679189682006836, 0.01642225682735443, 0.007514443248510361, 0.025307079777121544, 0.005755603313446045, 0.010913959704339504, 0.0062769087962806225, 0.05989070236682892]], [[0.503487229347229, 0.05346940457820892, 0.0440245047211647, 0.07396930456161499, 0.07187061011791229, 0.04121483117341995, 0.03546325862407684, 0.1765008121728897], [0.3255389332771301, 0.1120712086558342, 0.17050054669380188, 0.033075183629989624, 0.03066965378820896, 0.056916743516922, 0.033588431775569916, 0.23763920366764069], [0.5816279649734497, 0.07256820797920227, 0.003495498327538371, 0.04645538702607155, 0.06082208454608917, 0.04829283431172371, 0.03227447345852852, 0.15446360409259796], [0.782772421836853, 0.044134095311164856, 0.019103912636637688, 0.002469264669343829, 0.009184029884636402, 0.035175420343875885, 0.014672874473035336, 0.09248790889978409], [0.5061923861503601, 0.0591980442404747, 0.035135503858327866, 0.13037483394145966, 0.012852910906076431, 0.03856157138943672, 0.02507399022579193, 0.19261080026626587], [0.595566987991333, 0.05158670246601105, 0.07664088904857635, 0.03210696578025818, 0.02515631541609764, 0.037657927721738815, 0.02457185462117195, 0.15671230852603912], [0.6266146898269653, 0.0910252034664154, 0.03613259270787239, 0.048074059188365936, 0.016353607177734375, 0.10125105828046799, 0.006941345054656267, 0.07360745221376419], [0.5598187446594238, 0.06251715123653412, 0.038762785494327545, 0.05238225311040878, 0.07670673727989197, 0.04874422028660774, 0.024874946102499962, 0.13619311153888702]], [[0.4004637598991394, 0.0899449810385704, 0.042011357843875885, 0.08888746798038483, 0.07059860229492188, 0.09705556929111481, 0.05294715240597725, 0.15809117257595062], [0.3568149209022522, 0.06678823381662369, 0.06992130726575851, 0.08471617847681046, 0.04023457318544388, 0.055966757237911224, 0.05921554192900658, 0.26634255051612854], [0.2483775019645691, 0.08466188609600067, 0.00770829850807786, 0.10851647704839706, 0.1366748958826065, 0.04898637533187866, 0.02390558086335659, 0.3411690890789032], [0.6107678413391113, 0.06188323721289635, 0.06187407672405243, 0.00403283815830946, 0.06604640930891037, 0.04625844210386276, 0.011186592280864716, 0.1379505842924118], [0.25127601623535156, 0.17605264484882355, 0.10831224173307419, 0.02024233713746071, 0.0453154593706131, 0.20564734935760498, 0.07901330292224884, 0.11414052546024323], [0.2883579432964325, 0.11564434319734573, 0.08799730986356735, 0.05965026840567589, 0.06552336364984512, 0.0959206372499466, 0.09211699664592743, 0.19478914141654968], [0.4262121021747589, 0.0841573178768158, 0.09437227994203568, 0.07961077243089676, 0.044718481600284576, 0.054841093719005585, 0.01740383543074131, 0.19868408143520355], [0.23719371855258942, 0.11381462961435318, 0.10420248657464981, 0.09451546519994736, 0.0820096880197525, 0.11850444972515106, 0.11516236513853073, 0.13459722697734833]], [[0.762343168258667, 0.041241277009248734, 0.013635609298944473, 0.023487016558647156, 0.01750245876610279, 0.024467412382364273, 0.012838111259043217, 0.10448509454727173], [0.8877238631248474, 0.00782798882573843, 0.00560788856819272, 0.004248850047588348, 0.008364683017134666, 0.009273059666156769, 0.005278201773762703, 0.07167541980743408], [0.9406681060791016, 0.006147093139588833, 0.002680264413356781, 0.013287247158586979, 0.013852992095053196, 0.01079920120537281, 0.0060308631509542465, 0.00653415871784091], [0.8165256977081299, 0.02866925485432148, 0.007285818457603455, 0.01328269299119711, 0.009359334595501423, 0.023126961663365364, 0.0508781298995018, 0.050872184336185455], [0.16762565076351166, 0.3015669286251068, 0.09730079025030136, 0.07800192385911942, 0.01002521626651287, 0.03560223430395126, 0.11519799381494522, 0.19467926025390625], [0.3011222183704376, 0.3142712712287903, 0.08544144779443741, 0.025622349232435226, 0.0152747118845582, 0.032025452703237534, 0.017225874587893486, 0.20901665091514587], [0.5551539063453674, 0.07335219532251358, 0.015225929208099842, 0.14446231722831726, 0.07783715426921844, 0.06931116431951523, 0.014352593570947647, 0.05030477046966553], [0.7655530571937561, 0.06310788542032242, 0.006991624366492033, 0.01934429071843624, 0.015227490104734898, 0.041890956461429596, 0.01279710978269577, 0.07508764415979385]], [[0.5010798573493958, 0.03441885486245155, 0.03976159542798996, 0.03305497765541077, 0.04155298322439194, 0.026827024295926094, 0.018716679885983467, 0.30458807945251465], [0.6079753041267395, 0.007929544895887375, 0.027178078889846802, 0.03753933310508728, 0.041440486907958984, 0.050658226013183594, 0.016220606863498688, 0.21105830371379852], [0.019560007378458977, 0.0014546065358445048, 0.9552607536315918, 0.0037215931806713343, 0.003073630854487419, 0.004097883123904467, 0.003954032436013222, 0.008877428248524666], [0.24846714735031128, 0.01123036164790392, 0.032064761966466904, 0.46038004755973816, 0.01051527913659811, 0.013049260713160038, 0.020831594243645668, 0.20346149802207947], [0.28296777606010437, 0.030950523912906647, 0.11914478242397308, 0.0853036493062973, 0.16762800514698029, 0.024990733712911606, 0.040293414145708084, 0.2487211376428604], [0.42915359139442444, 0.11478359252214432, 0.04746862128376961, 0.09306663274765015, 0.049794211983680725, 0.013183197937905788, 0.011883449740707874, 0.24066665768623352], [0.2582969069480896, 0.02050984837114811, 0.15952201187610626, 0.33795714378356934, 0.017834864556789398, 0.007880988530814648, 0.11884389072656631, 0.07915433496236801], [0.4088670015335083, 0.08983716368675232, 0.09120219945907593, 0.19982115924358368, 0.08806955814361572, 0.056300435215234756, 0.01462710089981556, 0.05127536877989769]]], [[[0.7039808630943298, 0.0010768523206934333, 0.0027982331812381744, 0.03768483176827431, 0.015940871089696884, 0.011758782900869846, 0.00441939290612936, 0.22234013676643372], [1.1594551707627687e-10, 5.897171195812234e-09, 0.9999755620956421, 2.4286800908157602e-05, 3.2996094344908385e-15, 5.590079441009088e-11, 1.0955031153059291e-11, 6.609033675886167e-08], [1.2512178670931462e-07, 4.0183879986520343e-14, 1.1627294952631928e-05, 0.9999845027923584, 1.2757771228333326e-10, 1.3698736054193212e-14, 4.624567487343577e-16, 3.6971468944102526e-06], [0.004463656805455685, 2.5201850155365246e-12, 1.6435420135962886e-08, 0.05275007709860802, 0.9230135083198547, 4.5501593604058144e-08, 2.4045722010757054e-11, 0.019772659987211227], [2.083254548779223e-05, 3.783108866173279e-07, 2.4249713348467594e-10, 5.227988875144973e-11, 1.309080062128487e-06, 0.9999756813049316, 2.642771619321138e-07, 1.5714233541075373e-06], [2.9223322144389385e-06, 1.583981247677002e-05, 6.825461696280399e-06, 9.17084762477316e-05, 3.5984121238286093e-10, 2.535275234549772e-05, 0.9998371601104736, 2.0092318663955666e-05], [8.665078894409817e-07, 5.676799989421744e-16, 1.2555748107878628e-11, 1.331446100039102e-07, 6.383995437321544e-13, 2.086157657550853e-15, 2.317235812954177e-11, 0.9999990463256836], [0.7478634715080261, 7.009219871179084e-10, 8.364911430192024e-09, 0.0005836924538016319, 0.00035500613739714026, 2.4247152396128513e-05, 1.042369124348852e-08, 0.25117364525794983]], [[0.5393067598342896, 0.059324961155653, 0.00681672478094697, 0.04827132076025009, 0.06246171519160271, 0.043835774064064026, 0.019246231764554977, 0.22073650360107422], [0.7468156814575195, 0.028960928320884705, 0.009857350960373878, 0.03471061959862709, 0.026560502126812935, 0.0035810486879199743, 0.002143692458048463, 0.1473700851202011], [0.6411656737327576, 0.09996140003204346, 0.014612003229558468, 0.0602823942899704, 0.00932694785296917, 0.006190059706568718, 0.001948398887179792, 0.16651305556297302], [0.687258243560791, 0.017626870423555374, 0.0014718911843374372, 0.0015952411340549588, 0.20347481966018677, 0.007424565497785807, 0.0002605453773867339, 0.08088784664869308], [0.6063785552978516, 0.055890344083309174, 0.0012493187095969915, 0.1890973150730133, 0.0029248008504509926, 0.03025211952626705, 0.0007200201507657766, 0.11348750442266464], [0.5779407024383545, 0.04404536634683609, 0.0039012874476611614, 0.08567041903734207, 0.03331119939684868, 0.018827518448233604, 0.008946869522333145, 0.22735662758350372], [0.8352155685424805, 0.006727992556989193, 0.00020208793284837157, 0.0008081224514171481, 0.047514207661151886, 0.016482993960380554, 0.000685374194290489, 0.09236361086368561], [0.7056238651275635, 0.03728180006146431, 0.002581806853413582, 0.015898801386356354, 0.010969236493110657, 0.0190679132938385, 0.002887088805437088, 0.20568959414958954]], [[0.4704464077949524, 0.05871415138244629, 0.018280187621712685, 0.1458674818277359, 0.036956656724214554, 0.053059689700603485, 0.05728424713015556, 0.15939117968082428], [0.5241182446479797, 0.027046235278248787, 0.04229715093970299, 0.16271264851093292, 0.050752054899930954, 0.02999129705131054, 0.059692930430173874, 0.10338940471410751], [0.2534720301628113, 0.07661598920822144, 0.244828000664711, 0.1019679456949234, 0.06168585643172264, 0.05839748680591583, 0.04698367789387703, 0.15604890882968903], [0.2839164733886719, 0.03415648639202118, 0.46892449259757996, 0.004505922552198172, 0.05976208671927452, 0.04332786798477173, 0.01945754885673523, 0.0859491154551506], [0.6946039795875549, 0.019649457186460495, 0.05561097711324692, 0.0919308215379715, 0.018642205744981766, 0.01581372693181038, 0.028772762045264244, 0.07497590780258179], [0.4497523307800293, 0.04122493788599968, 0.04707681015133858, 0.20030851662158966, 0.04084772616624832, 0.037270285189151764, 0.05265561863780022, 0.13086377084255219], [0.22701790928840637, 0.058326639235019684, 0.19003327190876007, 0.08317891508340836, 0.13448390364646912, 0.07120202481746674, 0.016834205016493797, 0.21892301738262177], [0.2795504331588745, 0.0931721180677414, 0.010860859416425228, 0.13756221532821655, 0.04377290606498718, 0.06811194121837616, 0.06548009812831879, 0.3014895021915436]], [[0.4509560763835907, 0.06380915641784668, 0.045166946947574615, 0.10325320810079575, 0.04741328954696655, 0.061677154153585434, 0.05141553282737732, 0.17630860209465027], [0.26587551832199097, 0.08933181315660477, 0.04440362751483917, 0.12873442471027374, 0.08196999877691269, 0.08891275525093079, 0.07629453390836716, 0.22447723150253296], [0.1998922973871231, 0.13174907863140106, 0.014517445117235184, 0.18057021498680115, 0.051373980939388275, 0.17064443230628967, 0.04024248570203781, 0.21101003885269165], [0.247621089220047, 0.16917520761489868, 0.055111389607191086, 0.014216288924217224, 0.11350313574075699, 0.137773334980011, 0.046774543821811676, 0.21582499146461487], [0.3092036247253418, 0.10355067998170853, 0.03610239177942276, 0.15783224999904633, 0.042045775800943375, 0.08173511922359467, 0.06538553535938263, 0.20414461195468903], [0.2790067195892334, 0.09214352071285248, 0.04841053485870361, 0.12251569330692291, 0.06489995867013931, 0.0655478984117508, 0.09456086158752441, 0.2329147756099701], [0.31142330169677734, 0.14297060668468475, 0.042308542877435684, 0.03286956250667572, 0.10161163657903671, 0.1662222445011139, 0.007611126638948917, 0.19498293101787567], [0.612326443195343, 0.04829741641879082, 0.015167875215411186, 0.04902835190296173, 0.032723475247621536, 0.041534483432769775, 0.039757195860147476, 0.16116482019424438]], [[0.5533304214477539, 0.06363845616579056, 0.015026157721877098, 0.06201697513461113, 0.04671883583068848, 0.07544334977865219, 0.027070090174674988, 0.15675559639930725], [0.33111605048179626, 0.11784370243549347, 0.026639282703399658, 0.14773324131965637, 0.02701963298022747, 0.06845329701900482, 0.0681891217827797, 0.2130056470632553], [0.2603433132171631, 0.19930122792720795, 0.10239404439926147, 0.15937481820583344, 0.02373492531478405, 0.042646508663892746, 0.050777968019247055, 0.16142722964286804], [0.10877827554941177, 0.029270561411976814, 0.30216333270072937, 0.46823856234550476, 0.01739019714295864, 0.010182245634496212, 0.02994592674076557, 0.03403095155954361], [0.27578791975975037, 0.015232736244797707, 0.00928321573883295, 0.5170074701309204, 0.037683624774217606, 0.023506542667746544, 0.026781238615512848, 0.09471723437309265], [0.35119467973709106, 0.07448672503232956, 0.03818857669830322, 0.24167032539844513, 0.03521967679262161, 0.06746179610490799, 0.03791406378149986, 0.1538640707731247], [0.2769266664981842, 0.058949362486600876, 0.05610526725649834, 0.14343883097171783, 0.06296346336603165, 0.04040159657597542, 0.029337773099541664, 0.3318771421909332], [0.4392731487751007, 0.0985516905784607, 0.009574963711202145, 0.024019664153456688, 0.029279716312885284, 0.10472997277975082, 0.02105983905494213, 0.27351096272468567]], [[0.28989776968955994, 0.050397101789712906, 0.03784990310668945, 0.1165873110294342, 0.03605206683278084, 0.07965947687625885, 0.22412046790122986, 0.16543586552143097], [0.10094333440065384, 0.0443359911441803, 0.17999237775802612, 0.3198886811733246, 0.043637871742248535, 0.05723016336560249, 0.16019649803638458, 0.09377512335777283], [0.18740443885326385, 0.07899788022041321, 0.2795332670211792, 0.105122409760952, 0.05509626492857933, 0.03564384579658508, 0.003971240948885679, 0.25423064827919006], [0.3416653871536255, 0.044968776404857635, 0.11157350242137909, 0.028178147971630096, 0.04046819359064102, 0.03844218701124191, 0.00796482153236866, 0.386739045381546], [0.17523781955242157, 0.047919098287820816, 0.06269127130508423, 0.06753133982419968, 0.1465880274772644, 0.1008816733956337, 0.07706866413354874, 0.32208213210105896], [0.08599943667650223, 0.031857769936323166, 0.08989572525024414, 0.15604838728904724, 0.06013663485646248, 0.12689094245433807, 0.3533565104007721, 0.09581456333398819], [0.16823652386665344, 0.011730124242603779, 0.037412598729133606, 0.006962509360164404, 0.019626636058092117, 0.02431384287774563, 0.03480110317468643, 0.6969166398048401], [0.21865910291671753, 0.037464920431375504, 0.04863046482205391, 0.11107268184423447, 0.03238154947757721, 0.07884687185287476, 0.34027037024497986, 0.13267408311367035]], [[0.17706087231636047, 0.17713384330272675, 0.04702821373939514, 0.08508827537298203, 0.07800037413835526, 0.15245452523231506, 0.05841447412967682, 0.2248193919658661], [0.19625787436962128, 0.24080803990364075, 0.03271007537841797, 0.08859826624393463, 0.02885318361222744, 0.2884475290775299, 0.00655842199921608, 0.11776655167341232], [0.3807869851589203, 0.016435163095593452, 0.2613288462162018, 0.0041920095682144165, 0.007117775734513998, 0.014080200344324112, 0.008860636502504349, 0.30719834566116333], [0.23282915353775024, 0.21365542709827423, 0.0017728271195665002, 0.13436287641525269, 0.01170064602047205, 0.13567018508911133, 0.010454365983605385, 0.2595544755458832], [0.19925864040851593, 0.11104073375463486, 0.07056228071451187, 0.05154065787792206, 0.28302130103111267, 0.04625876620411873, 0.00508273858577013, 0.2332349717617035], [0.15078438818454742, 0.41597968339920044, 0.0372484028339386, 0.07304062694311142, 0.016143087297677994, 0.14202828705310822, 0.018071461468935013, 0.14670398831367493], [0.34646186232566833, 0.04803360626101494, 0.008470945991575718, 0.12960410118103027, 0.0070006526075303555, 0.08871952444314957, 0.0817844569683075, 0.2899248003959656], [0.19923686981201172, 0.11801357567310333, 0.01850532740354538, 0.13158315420150757, 0.08450229465961456, 0.16071338951587677, 0.0839061364531517, 0.20353925228118896]], [[0.587621808052063, 0.056631531566381454, 0.020913442596793175, 0.05933023989200592, 0.055435482412576675, 0.036773230880498886, 0.03298761323094368, 0.15030676126480103], [0.41164883971214294, 0.11332331597805023, 0.04858721047639847, 0.09723205864429474, 0.08125367760658264, 0.06202048808336258, 0.031407784670591354, 0.15452666580677032], [0.2185484915971756, 0.11067155003547668, 0.027888955548405647, 0.20827390253543854, 0.03901543468236923, 0.09796411544084549, 0.1230168417096138, 0.17462070286273956], [0.05868169665336609, 0.0967172235250473, 0.3658742606639862, 0.1523170918226242, 0.019915809854865074, 0.08020686358213425, 0.18387433886528015, 0.04241267964243889], [0.29172417521476746, 0.0815720185637474, 0.10178905725479126, 0.2455790936946869, 0.027158962562680244, 0.045556653290987015, 0.12323083728551865, 0.08338917791843414], [0.25987792015075684, 0.15189769864082336, 0.08589004725217819, 0.1685897409915924, 0.07773613184690475, 0.08581940829753876, 0.06620529294013977, 0.10398369282484055], [0.05719192698597908, 0.07498772442340851, 0.19949015974998474, 0.33545446395874023, 0.03943868726491928, 0.13443301618099213, 0.04040730744600296, 0.118596650660038], [0.8285368084907532, 0.020693132653832436, 0.0018125871429219842, 0.007172524929046631, 0.02118387632071972, 0.008361347950994968, 0.011346575804054737, 0.10089308023452759]], [[0.5425900220870972, 0.04907518997788429, 0.009916954673826694, 0.06660835444927216, 0.03907587006688118, 0.058572959154844284, 0.03287366032600403, 0.20128695666790009], [0.16981714963912964, 0.1455102264881134, 0.02080315165221691, 0.10551661998033524, 0.10601045936346054, 0.24543437361717224, 0.055924173444509506, 0.15098388493061066], [0.17865847051143646, 0.07203418016433716, 0.09126193076372147, 0.21685609221458435, 0.09993550926446915, 0.12338752299547195, 0.1714332550764084, 0.04643302410840988], [0.03309517726302147, 0.02939196676015854, 0.026303192600607872, 0.7392755746841431, 0.03630553558468819, 0.06501088291406631, 0.06175323575735092, 0.008864417672157288], [0.5367668271064758, 0.11461690813302994, 0.007039740215986967, 0.04840974882245064, 0.03311987593770027, 0.11049341410398483, 0.010737344622612, 0.13881619274616241], [0.2676531672477722, 0.12997156381607056, 0.01194546278566122, 0.10208328813314438, 0.0924316868185997, 0.21823257207870483, 0.05015166848897934, 0.1275305300951004], [0.25702226161956787, 0.09940475225448608, 0.06894097477197647, 0.18168561160564423, 0.0921243205666542, 0.1749718338251114, 0.0655604898929596, 0.06028979644179344], [0.7093876600265503, 0.040475815534591675, 0.00370207941159606, 0.03171754255890846, 0.021021949127316475, 0.058784931898117065, 0.007804778404533863, 0.1271052062511444]], [[0.4359230101108551, 0.022287238389253616, 0.03504341095685959, 0.1455332189798355, 0.025367967784404755, 0.07345880568027496, 0.011655009351670742, 0.25073128938674927], [1.2546488847853254e-10, 2.1909685177234905e-09, 0.9999778270721436, 2.212891740782652e-05, 3.707540798350041e-14, 1.4921583066374033e-11, 2.6878014245702853e-13, 5.380704326540808e-09], [2.0183514581884054e-10, 1.0337372200375141e-15, 1.86958222911926e-05, 0.9999812841415405, 1.550162450660031e-13, 5.749069369877073e-17, 7.981845716618056e-19, 2.2761859064246437e-10], [2.2194029952515848e-05, 1.2942234089985405e-12, 3.9305202648165505e-08, 0.9899963140487671, 0.009835041128098965, 3.672561277312525e-08, 2.0649458434395668e-13, 0.00014640211884398013], [3.166222450090572e-05, 2.933561290774378e-06, 1.521303261142748e-08, 4.673864850701648e-09, 2.31996978072857e-06, 0.9999624490737915, 5.3327781301959476e-08, 5.743779070144228e-07], [4.094497126061469e-05, 4.151802932028659e-05, 1.4549563275068067e-05, 0.00033307381090708077, 6.844512512316214e-09, 3.902363823726773e-05, 0.999455988407135, 7.498153718188405e-05], [5.241078724793624e-06, 1.2640305197941099e-13, 1.902830959465973e-08, 4.702539229128888e-07, 8.014181332449688e-12, 1.5612653585326403e-13, 2.425835088359918e-10, 0.9999942779541016], [0.9595475196838379, 2.7365878452201287e-09, 2.9952715863146295e-08, 0.015927297994494438, 0.00011479964450700209, 1.9378871002118103e-05, 7.870440299484471e-09, 0.02439102903008461]], [[0.5562211275100708, 0.05164104700088501, 0.019148044288158417, 0.025934183970093727, 0.03435730189085007, 0.04127601906657219, 0.022510822862386703, 0.24891136586666107], [0.373638391494751, 0.08783383667469025, 0.07174409180879593, 0.0554707795381546, 0.056917764246463776, 0.07444550842046738, 0.06499786674976349, 0.2149517983198166], [0.04016062989830971, 0.3282475471496582, 0.13908711075782776, 0.07409337162971497, 0.03401977941393852, 0.1709221750497818, 0.1823025494813919, 0.031166886910796165], [0.20611576735973358, 0.054718729108572006, 0.07251668721437454, 0.45531708002090454, 0.01963593252003193, 0.04209589213132858, 0.048620883375406265, 0.10097898542881012], [0.596294641494751, 0.03989790752530098, 0.018208224326372147, 0.1298646777868271, 0.01056305505335331, 0.03977527096867561, 0.04920625314116478, 0.11619003862142563], [0.34028998017311096, 0.09213870018720627, 0.06132560223340988, 0.08558065444231033, 0.05153448507189751, 0.07169539481401443, 0.10287027806043625, 0.1945647895336151], [0.16307179629802704, 0.19290506839752197, 0.009510443545877934, 0.2647947072982788, 0.02632160671055317, 0.122272789478302, 0.058045435696840286, 0.163078173995018], [0.8656315207481384, 0.015112228691577911, 0.002671890426427126, 0.00314489402808249, 0.012781471945345402, 0.012895933352410793, 0.004185343626886606, 0.08357669413089752]], [[0.639248788356781, 0.03288338705897331, 0.007080580573529005, 0.024008503183722496, 0.02395271323621273, 0.0453653559088707, 0.02472924441099167, 0.20273135602474213], [0.11001460999250412, 0.05346965044736862, 0.08507329225540161, 0.2196498066186905, 0.06101435422897339, 0.09581683576107025, 0.17740820348262787, 0.19755332171916962], [0.15283794701099396, 0.06700890511274338, 0.042269378900527954, 0.1455303132534027, 0.0656699687242508, 0.14480258524417877, 0.16388829052448273, 0.2179926037788391], [0.03233867138624191, 0.015179824084043503, 0.05795717239379883, 0.07013512402772903, 0.019077688455581665, 0.023518415167927742, 0.673018217086792, 0.10877488553524017], [0.5309568643569946, 0.03691723570227623, 0.010922824032604694, 0.028051624074578285, 0.00911023374646902, 0.026896435767412186, 0.05005330219864845, 0.30709147453308105], [0.26904296875, 0.07483895868062973, 0.07370665669441223, 0.12199423462152481, 0.03923863545060158, 0.051658887416124344, 0.10143136233091354, 0.2680884003639221], [0.39262810349464417, 0.033048901706933975, 0.021037302911281586, 0.29663121700286865, 0.025972703471779823, 0.02726198546588421, 0.018624957650899887, 0.1847948282957077], [0.902683675289154, 0.013753318227827549, 0.0007850422407500446, 0.002988070249557495, 0.0070791663601994514, 0.018853792920708656, 0.0024646667297929525, 0.051392313092947006]]], [[[0.0663825049996376, 0.006925258319824934, 0.0060669612139463425, 0.0022547179833054543, 0.0026080573443323374, 0.008018606342375278, 0.0006292336620390415, 0.9071146249771118], [0.0884908065199852, 0.01904940977692604, 0.0005760699277743697, 9.022996528074145e-05, 0.0007103000534698367, 0.02052214927971363, 4.949888534611091e-05, 0.870511531829834], [0.0175880566239357, 0.0026342598721385, 0.9538429379463196, 0.00044060134678147733, 0.0012721082894131541, 0.003180266357958317, 0.004533718805760145, 0.016507936641573906], [0.018087781965732574, 2.412805952189956e-05, 4.394029019749723e-06, 0.00021280259534250945, 1.1218219242437044e-06, 7.815359276719391e-05, 8.695724318386056e-06, 0.9815829396247864], [0.046546246856451035, 0.0014573049265891314, 0.00016944616800174117, 9.043914178619161e-05, 0.04358534887433052, 0.0011142578441649675, 1.4517936506308615e-05, 0.9070224761962891], [0.05134961009025574, 0.010963152162730694, 0.00032248839852400124, 0.0002050758630502969, 0.00037584640085697174, 0.0060422830283641815, 1.3491228855855297e-05, 0.930728018283844], [0.02208213321864605, 0.00019895545847248286, 0.0003894660621881485, 0.0002231568214483559, 2.2661535695078783e-05, 0.00018830114277079701, 0.022052373737096786, 0.9548428654670715], [0.10654834657907486, 0.003929494880139828, 0.002653476782143116, 0.00668714614585042, 0.004489428363740444, 0.005976999644190073, 0.0023262486793100834, 0.8673888444900513]], [[0.15352003276348114, 0.07142087817192078, 0.0407058410346508, 0.10995516180992126, 0.04727926105260849, 0.053340207785367966, 0.2518733739852905, 0.2719052731990814], [0.28712910413742065, 0.05441652238368988, 0.030899636447429657, 0.11123616248369217, 0.01530027762055397, 0.0433056615293026, 0.02342366985976696, 0.434288889169693], [0.30721163749694824, 0.10001019388437271, 0.015571708790957928, 0.1798420250415802, 0.026426618918776512, 0.05193691328167915, 0.02463698200881481, 0.29436391592025757], [0.183357834815979, 0.1334419697523117, 0.13382309675216675, 0.02377353422343731, 0.15164770185947418, 0.128481924533844, 0.06761215627193451, 0.17786166071891785], [0.20008859038352966, 0.01732269674539566, 0.06591233611106873, 0.23053893446922302, 0.020102830603718758, 0.016344519332051277, 0.06489891558885574, 0.38479119539260864], [0.2868095934391022, 0.05121541768312454, 0.04300093278288841, 0.10443776845932007, 0.02188943699002266, 0.042179174721241, 0.033901382237672806, 0.4165661633014679], [0.03107037954032421, 0.021982165053486824, 0.010812179185450077, 0.014384383335709572, 0.006129858549684286, 0.011692559346556664, 0.03182410076260567, 0.8721043467521667], [0.18377330899238586, 0.0150169488042593, 0.005671405699104071, 0.006016632076352835, 0.006147095002233982, 0.007739294320344925, 0.02104635164141655, 0.7545889019966125]], [[0.005748216062784195, 0.01719132624566555, 0.0380503349006176, 0.8128986358642578, 0.008760946802794933, 0.008980512619018555, 0.08896159380674362, 0.019408483058214188], [0.2488093227148056, 0.19928273558616638, 0.00849889311939478, 0.0070920116268098354, 0.02099839597940445, 0.13156132400035858, 0.0016798160504549742, 0.3820774257183075], [0.404772013425827, 0.11372027546167374, 0.020043227821588516, 0.008360919542610645, 0.07111398130655289, 0.10497079789638519, 0.006346341222524643, 0.27067244052886963], [0.1908285915851593, 0.1155468299984932, 0.019002562388777733, 0.0032261989545077085, 0.1257360726594925, 0.1258784681558609, 0.002074755961075425, 0.4177064895629883], [0.2263595014810562, 0.10089441388845444, 0.010538256727159023, 0.00957611482590437, 0.1762707233428955, 0.17411702871322632, 0.0057855090126395226, 0.2964584231376648], [0.22528614103794098, 0.28245431184768677, 0.00766349071636796, 0.006725822109729052, 0.028655389323830605, 0.16915614902973175, 0.0017748805694282055, 0.2782837748527527], [0.3176029324531555, 0.03507983684539795, 0.017211493104696274, 0.0073182545602321625, 0.1434735208749771, 0.059121791273355484, 0.0010175250936299562, 0.41917452216148376], [0.08103828132152557, 0.014924689196050167, 0.012065412476658821, 0.08507784456014633, 0.0171620175242424, 0.0113918362185359, 0.010979886166751385, 0.7673600316047668]], [[0.18090513348579407, 0.03893699124455452, 0.033755455166101456, 0.08240430802106857, 0.11288759857416153, 0.07136102020740509, 0.1467958241701126, 0.33295366168022156], [0.06033595651388168, 0.03085622563958168, 0.08364791423082352, 0.11903417855501175, 0.45959433913230896, 0.12123898416757584, 0.06245221570134163, 0.06284014880657196], [0.0992731899023056, 0.013229504227638245, 0.013229390606284142, 0.09103599190711975, 0.20348559319972992, 0.12248684465885162, 0.22667554020881653, 0.23058389127254486], [0.1646071821451187, 0.002027408452704549, 0.005678058136254549, 0.004375668242573738, 0.0626513659954071, 0.031243324279785156, 0.051556043326854706, 0.6778609752655029], [0.07699225097894669, 0.005987956188619137, 0.01057987380772829, 0.004972974769771099, 0.02447200007736683, 0.03367496281862259, 0.791302502155304, 0.05201750621199608], [0.2011571079492569, 0.008018622174859047, 0.015186291188001633, 0.06549132615327835, 0.07475674897432327, 0.03636908158659935, 0.21236634254455566, 0.38665446639060974], [0.19499528408050537, 0.0005815762560814619, 0.0013973158784210682, 0.0011867277789860964, 0.005655886605381966, 0.0005620730808004737, 0.0011811725562438369, 0.7944400310516357], [0.2056439369916916, 0.00808302778750658, 0.002878101309761405, 0.005506691988557577, 0.011515222489833832, 0.006712434347718954, 0.010931810364127159, 0.7487287521362305]], [[0.06941816955804825, 0.022615820169448853, 0.04568767547607422, 0.07027649134397507, 0.046184152364730835, 0.019031353294849396, 0.1163744330406189, 0.6104118824005127], [0.1050150915980339, 0.04052656888961792, 0.052330248057842255, 0.24155721068382263, 0.02663654275238514, 0.02144487574696541, 0.05794143304228783, 0.4545479714870453], [0.03521750122308731, 0.008166534826159477, 0.0069228122010827065, 0.10689614713191986, 0.01654367707669735, 0.005970002617686987, 0.02631586603820324, 0.7939674258232117], [0.10515787452459335, 0.03021703101694584, 0.015651697292923927, 0.08228806406259537, 0.11323846876621246, 0.06252865493297577, 0.03376559168100357, 0.5571526288986206], [0.12814942002296448, 0.044429976493120193, 0.022172434255480766, 0.15357626974582672, 0.01651531271636486, 0.033150434494018555, 0.02631278522312641, 0.5756933689117432], [0.0624106265604496, 0.030166031792759895, 0.04799535125494003, 0.5750501751899719, 0.03450445085763931, 0.01650404743850231, 0.1131146177649498, 0.12025472521781921], [0.010004431940615177, 0.02042149007320404, 0.04161439463496208, 0.5970812439918518, 0.10868183523416519, 0.022478705272078514, 0.04032203555107117, 0.15939591825008392], [0.10716962814331055, 0.003507837885990739, 0.0011057555675506592, 0.00020593046792782843, 0.004709733184427023, 0.006919337902218103, 0.002579186577349901, 0.8738026022911072]], [[0.3104344308376312, 0.09716171026229858, 0.06552857905626297, 0.034463103860616684, 0.16242705285549164, 0.09521277993917465, 0.1973150074481964, 0.03745723515748978], [0.5172959566116333, 0.048535823822021484, 0.0002803234674502164, 0.0002139841963071376, 0.3778577446937561, 0.002005277667194605, 0.009013291448354721, 0.044797636568546295], [0.01885971985757351, 0.9652484059333801, 0.012510566972196102, 6.694552575936541e-05, 0.0002389764558756724, 0.00028378667775541544, 0.0025408058427274227, 0.00025073240976780653], [0.03542668744921684, 0.23857662081718445, 0.7087382078170776, 0.0058763460256159306, 0.000128401632537134, 0.005393390078097582, 0.005469702184200287, 0.0003906675265170634], [0.0026339911855757236, 0.0001865743543021381, 0.00844709761440754, 0.9817190766334534, 0.005772406235337257, 0.0005632464890368283, 0.00015128457744140178, 0.0005263321800157428], [0.001814886461943388, 0.00012952064571436495, 4.667795110435691e-06, 0.00014246781938709319, 0.9949159622192383, 0.0022747120819985867, 0.00018108529911842197, 0.0005366423283703625], [0.07087557762861252, 0.0013295692624524236, 0.001753607764840126, 0.0005544493906199932, 0.05221956968307495, 0.7413737773895264, 0.12982311844825745, 0.0020703584887087345], [0.7804684042930603, 0.032377101480960846, 0.006328715477138758, 0.03470834717154503, 0.038729384541511536, 0.04446820914745331, 0.03458971157670021, 0.02833012491464615]], [[0.03144586458802223, 0.013919166289269924, 0.05909837409853935, 0.6339128613471985, 0.0053262859582901, 0.010334002785384655, 0.11182666569948196, 0.1341368556022644], [0.31118664145469666, 0.08964136987924576, 0.16468006372451782, 0.009287997148931026, 0.015762528404593468, 0.04910711199045181, 0.047323063015937805, 0.31301116943359375], [0.25905749201774597, 0.09469921141862869, 0.12778760492801666, 0.0019844151102006435, 0.01193710882216692, 0.04001440480351448, 0.01263392437249422, 0.451885849237442], [0.29975447058677673, 0.056807421147823334, 0.02258470095694065, 0.0013309522764757276, 0.027783498167991638, 0.024528199806809425, 0.010190158151090145, 0.5570205450057983], [0.22520074248313904, 0.03593837469816208, 0.016417188569903374, 0.03103932924568653, 0.1286328136920929, 0.040565717965364456, 0.018516022711992264, 0.5036897659301758], [0.30278605222702026, 0.09397540241479874, 0.09263142943382263, 0.036770738661289215, 0.03342587873339653, 0.08195255696773529, 0.07570238411426544, 0.2827555537223816], [0.2993202805519104, 0.008894268423318863, 0.005459242034703493, 0.001616401132196188, 0.008995520882308483, 0.01049837563186884, 0.0003989600809291005, 0.6648169159889221], [0.1231546476483345, 0.007888130843639374, 0.011216298677027225, 0.017142534255981445, 0.011251336894929409, 0.009388166479766369, 0.022546732798218727, 0.7974122166633606]], [[0.19333112239837646, 0.12611426413059235, 0.06829722970724106, 0.1693842113018036, 0.08478944003582001, 0.1143912523984909, 0.0510021336376667, 0.19269037246704102], [0.08531191200017929, 0.24377480149269104, 0.08277382701635361, 0.06443922966718674, 0.15255194902420044, 0.15790626406669617, 0.07397007942199707, 0.13927188515663147], [0.09593397378921509, 0.19359004497528076, 0.014668063260614872, 0.020616846159100533, 0.12133192270994186, 0.17232125997543335, 0.024003636091947556, 0.3575342893600464], [0.21532145142555237, 0.2025313675403595, 0.03350519388914108, 0.009362269192934036, 0.07845685631036758, 0.11565173417329788, 0.004896777682006359, 0.34027430415153503], [0.2648899555206299, 0.045438501983881, 0.024503840133547783, 0.12624210119247437, 0.203770712018013, 0.04543517157435417, 0.025367112830281258, 0.26435256004333496], [0.2018916755914688, 0.16589902341365814, 0.05387582257390022, 0.08806023746728897, 0.15611355006694794, 0.11664596199989319, 0.057990361005067825, 0.1595233827829361], [0.2707328796386719, 0.12019835412502289, 0.010795253328979015, 0.010054088197648525, 0.06723076105117798, 0.11619160324335098, 0.01210572849959135, 0.39269134402275085], [0.08824247121810913, 0.005636575631797314, 0.0018436809768900275, 0.02533373236656189, 0.009411766193807125, 0.006530587561428547, 0.007394167594611645, 0.8556069731712341]], [[0.23279576003551483, 0.032975148409605026, 0.03134382888674736, 0.16265767812728882, 0.02501515857875347, 0.024534374475479126, 0.050180766731500626, 0.44049736857414246], [0.10829129070043564, 0.03466147929430008, 0.06560730189085007, 0.4497533142566681, 0.02695581130683422, 0.03098457306623459, 0.021186919882893562, 0.26255935430526733], [0.03622864559292793, 0.08369692414999008, 0.2852458655834198, 0.28055691719055176, 0.023197684437036514, 0.021102910861372948, 0.05711248889565468, 0.21285849809646606], [0.013664969243109226, 0.03655307739973068, 0.09708552807569504, 0.6909670829772949, 0.04709120839834213, 0.01650000736117363, 0.028147302567958832, 0.06999081373214722], [0.06622850894927979, 0.019047383219003677, 0.030212700366973877, 0.5881351828575134, 0.019414806738495827, 0.019300386309623718, 0.040607720613479614, 0.21705326437950134], [0.0600016824901104, 0.027695490047335625, 0.04414062574505806, 0.6950494647026062, 0.03799905627965927, 0.021321283653378487, 0.028818827122449875, 0.08497360348701477], [0.010547640733420849, 0.01701461337506771, 0.01745035871863365, 0.8547762036323547, 0.02914893440902233, 0.013248738832771778, 0.010093132965266705, 0.047720279544591904], [0.19149236381053925, 0.002370155416429043, 0.004603832960128784, 0.016659561544656754, 0.004372352734208107, 0.004081583581864834, 0.007751192897558212, 0.7686689496040344]], [[0.40004590153694153, 0.02883288823068142, 0.03297346830368042, 0.10032183676958084, 0.05431630462408066, 0.035402145236730576, 0.10254528373479843, 0.2455621361732483], [0.006739095319062471, 0.00045325246173888445, 0.6562631130218506, 0.32908564805984497, 0.0006748436135239899, 0.00024956645211204886, 0.001348791061900556, 0.0051857479847967625], [0.006488516461104155, 3.206936889910139e-05, 0.012686209753155708, 0.9769731760025024, 0.00028602121165022254, 4.9446691264165565e-05, 5.36879560968373e-05, 0.003430762328207493], [0.08023996651172638, 0.0002552567166276276, 0.008195629343390465, 0.14894352853298187, 0.6614503264427185, 0.010660071857273579, 0.0017123556463047862, 0.08854281902313232], [0.038157422095537186, 0.005766973365098238, 0.00678491173312068, 0.0036849630996584892, 0.00694294972345233, 0.32934829592704773, 0.5891615748405457, 0.0201528649777174], [0.13609130680561066, 0.003169682342559099, 0.06300737708806992, 0.059893134981393814, 0.00871142465621233, 0.03009573183953762, 0.6439729928970337, 0.055058397352695465], [0.9795976281166077, 6.100837254052749e-06, 1.8561902834335342e-05, 0.0002215121639892459, 3.946849756175652e-05, 1.586321377544664e-05, 9.740518726175651e-05, 0.020003408193588257], [0.7826246023178101, 0.013470121659338474, 0.001055664848536253, 0.005788029171526432, 0.06493151187896729, 0.02694873698055744, 0.009213641285896301, 0.09596774727106094]], [[0.1163364127278328, 0.03179515153169632, 0.03435640409588814, 0.05294026806950569, 0.021665532141923904, 0.034363072365522385, 0.07404663413763046, 0.6344964504241943], [0.0689808651804924, 0.006932646967470646, 0.06321283429861069, 0.050783347338438034, 0.003438807325437665, 0.009747347794473171, 0.04564273729920387, 0.7512614727020264], [0.04308338835835457, 0.0016645471332594752, 0.009913738816976547, 0.03687015548348427, 0.0004099261132068932, 0.0021719220094382763, 0.04814046993851662, 0.857745885848999], [0.22712573409080505, 0.010937605053186417, 0.028427133336663246, 0.13771569728851318, 0.010054570622742176, 0.033183444291353226, 0.11438515782356262, 0.4381706416606903], [0.032865993678569794, 0.01048482209444046, 0.004019915591925383, 0.0410129576921463, 0.003443139838054776, 0.025134313851594925, 0.8384159207344055, 0.04462294280529022], [0.06428850442171097, 0.009547680616378784, 0.02161838859319687, 0.13462099432945251, 0.007818054407835007, 0.015334435738623142, 0.12123571336269379, 0.6255362629890442], [0.023700278252363205, 0.0007288614870049059, 0.0007716356194578111, 0.09302882105112076, 0.0008559509296901524, 0.002115861978381872, 0.0029791139531880617, 0.8758195042610168], [0.12103979289531708, 0.0016608890146017075, 0.0005680066533386707, 0.00409870408475399, 0.0019086857791990042, 0.0025855947751551867, 0.004409553483128548, 0.8637287616729736]], [[0.26404935121536255, 0.09671781957149506, 0.03461826220154762, 0.07293196767568588, 0.12428122758865356, 0.08442935347557068, 0.038360048085451126, 0.2846119999885559], [0.232198104262352, 0.013709095306694508, 0.0033148268703371286, 0.005901449825614691, 0.021582840010523796, 0.006172716151922941, 0.0034070161636918783, 0.7137140035629272], [0.1308383047580719, 0.02939101681113243, 0.0037861685268580914, 0.005099935922771692, 0.002646137261763215, 0.003308334620669484, 0.005543104838579893, 0.8193870186805725], [0.23722495138645172, 0.10452299565076828, 0.021405847743153572, 0.005528476554900408, 0.02003980614244938, 0.04327384755015373, 0.008427789434790611, 0.5595762729644775], [0.04928373545408249, 0.20837007462978363, 0.32594719529151917, 0.30761390924453735, 0.019282162189483643, 0.027681877836585045, 0.0032553058117628098, 0.05856576934456825], [0.03494449332356453, 0.036604203283786774, 0.12220905721187592, 0.3601234257221222, 0.19763433933258057, 0.021705424413084984, 0.005207394249737263, 0.22157153487205505], [0.03721652925014496, 0.008007367141544819, 0.008045177906751633, 0.21000932157039642, 0.3916546404361725, 0.05606028437614441, 0.023661956191062927, 0.26534464955329895], [0.5878320336341858, 0.02456062287092209, 0.004278183914721012, 0.0069197118282318115, 0.0169716514647007, 0.02233949303627014, 0.006425409112125635, 0.33067286014556885]]], [[[0.015711193904280663, 0.00034465250791981816, 0.0005026315338909626, 0.00017917368677444756, 0.00012128170055802912, 0.0001425002992618829, 0.0027308273129165173, 0.9802677631378174], [0.0016949549317359924, 0.0003427125629968941, 0.0019153420580551028, 0.01250211801379919, 0.0003919237933587283, 0.00020427799609024078, 0.023095902055501938, 0.9598527550697327], [0.000424485479015857, 0.0002812353486660868, 0.0007667418103665113, 0.00617403956130147, 0.00011000118684023619, 5.9730798966484144e-05, 0.010403139516711235, 0.9817806482315063], [0.00021860894048586488, 0.0003541996702551842, 9.315118222730234e-05, 0.0014687771908938885, 7.388673111563548e-05, 0.0001549149747006595, 0.0047839307226240635, 0.992852509021759], [0.0029446701519191265, 0.004395920317620039, 0.004817175213247538, 0.5501481294631958, 0.000961214944254607, 0.005421159788966179, 0.1405712217092514, 0.2907405495643616], [0.0023172644432634115, 0.00267845974303782, 0.006184586323797703, 0.10377474874258041, 0.004804680589586496, 0.0016289693303406239, 0.11446911096572876, 0.7641422152519226], [0.0077882204204797745, 0.0015313299372792244, 0.002730805892497301, 0.008179419673979282, 0.0007557839853689075, 0.0006044285255484283, 0.008332828991115093, 0.9700772166252136], [0.0021119299344718456, 7.234357326524332e-05, 3.878758798236959e-05, 0.00018246169202029705, 3.615683090174571e-05, 9.322111145593226e-05, 0.002746497979387641, 0.9947185516357422]], [[0.009506843984127045, 0.001936522894538939, 0.03922686353325844, 0.10400950908660889, 0.0005655240966007113, 0.0011982732685282826, 0.8405221104621887, 0.00303442869335413], [0.03361883386969566, 0.14095130562782288, 0.03326413780450821, 0.05080481618642807, 0.13120700418949127, 0.2913631200790405, 0.2738150656223297, 0.04497573897242546], [0.04133995249867439, 0.09020465612411499, 0.018733838573098183, 0.059494711458683014, 0.056558217853307724, 0.24011914432048798, 0.05272529274225235, 0.4408242106437683], [0.0009124580537900329, 0.003358431626111269, 0.0002796687767840922, 0.003108876058831811, 0.0014122012071311474, 0.005130678415298462, 0.0002254209975944832, 0.9855722784996033], [0.030801067128777504, 0.28059524297714233, 0.0213457178324461, 0.02105771377682686, 0.08303665369749069, 0.3405768573284149, 0.01631992869079113, 0.20626682043075562], [0.01636343263089657, 0.14411334693431854, 0.019017310813069344, 0.022420095279812813, 0.03589431941509247, 0.2144971340894699, 0.017713502049446106, 0.5299808979034424], [0.024614062160253525, 0.057759325951337814, 0.00598815968260169, 0.052393753081560135, 0.03414863348007202, 0.07314927875995636, 0.0077090151607990265, 0.7442377805709839], [0.013108452782034874, 0.004273157101124525, 0.0031892312690615654, 0.021923284977674484, 0.005834375042468309, 0.005161711014807224, 0.007585375104099512, 0.9389244318008423]], [[0.00025585119146853685, 0.002641188446432352, 0.007695729844272137, 0.971991240978241, 0.0002863621630240232, 0.0007556895143352449, 0.014148276299238205, 0.0022256984375417233], [0.23464079201221466, 0.16794884204864502, 0.02468007802963257, 0.018981268629431725, 0.0689958855509758, 0.1495649218559265, 0.02532830834388733, 0.3098599910736084], [0.08870762586593628, 0.02649267576634884, 0.001296968082897365, 0.0014946053270250559, 0.00275762309320271, 0.026265591382980347, 0.006494892295449972, 0.8464900255203247], [0.07207339257001877, 0.011279863305389881, 0.003362849820405245, 0.0029944528359919786, 0.010051672346889973, 0.00820617750287056, 0.0021301754750311375, 0.8899014592170715], [0.09972074627876282, 0.047719333320856094, 0.025815436616539955, 0.008778451010584831, 0.05830523744225502, 0.06382737308740616, 0.011834916658699512, 0.6839984655380249], [0.35217687487602234, 0.08082449436187744, 0.010110709816217422, 0.010181307792663574, 0.05325904116034508, 0.13482454419136047, 0.018477633595466614, 0.34014543890953064], [0.11619699746370316, 0.002380415564402938, 0.0057710618712008, 0.000465771445306018, 0.00877644494175911, 0.01902838423848152, 0.0003693558683153242, 0.8470115661621094], [0.032833267003297806, 0.008277158252894878, 0.006380392238497734, 0.003374741179868579, 0.014483202248811722, 0.020066019147634506, 0.003891461296007037, 0.9106937646865845]], [[0.05446833372116089, 0.005870371125638485, 0.004208581056445837, 0.010014787316322327, 0.0055202916264534, 0.0025084326043725014, 0.0059240637347102165, 0.9114851355552673], [0.009943467564880848, 0.013302461244165897, 0.00027659398620016873, 0.0002903845743276179, 9.875570685835555e-05, 0.0019714529626071453, 0.0019482935313135386, 0.9721686244010925], [0.009901228360831738, 4.25875696237199e-05, 0.0873984843492508, 0.003346041077747941, 2.733549081312958e-05, 0.00012041055742884055, 0.0034708960447460413, 0.8956930637359619], [0.00023335030709858984, 5.889355065846757e-07, 1.2395965995892766e-06, 0.0005645427154377103, 7.299054232134949e-06, 8.004971618902346e-07, 2.473435779393185e-05, 0.9991674423217773], [0.00011057487427024171, 2.1464001065396587e-07, 6.173967648237522e-08, 6.9784964580321684e-06, 0.00041716473060660064, 2.423121259198524e-07, 1.80627421286772e-06, 0.9994630217552185], [0.0037860553711652756, 0.0063652414828538895, 0.0007870768895372748, 0.0007773250108584762, 0.0001481873623561114, 0.009359332732856274, 0.0014443635009229183, 0.977332353591919], [9.386976307723671e-05, 2.907642965510604e-06, 2.3466109269065782e-06, 0.00020566588500514627, 7.363818781414011e-07, 1.8429511783324415e-06, 0.0003988548123743385, 0.9992938041687012], [0.0010639933170750737, 8.659651211928576e-05, 3.2779364119051024e-05, 0.0002351354924030602, 8.038780651986599e-05, 5.0068865675712004e-05, 0.00015767426521051675, 0.9982933402061462]], [[0.003928986843675375, 0.001520381192676723, 0.0028781152796000242, 0.6310300230979919, 0.004770551808178425, 0.0002085044834529981, 0.03391486406326294, 0.3217484951019287], [0.004628320690244436, 0.014337863773107529, 0.01396107953041792, 0.3762455880641937, 0.017507705837488174, 0.0019205283606424928, 0.006132268812507391, 0.5652666091918945], [0.0015667257830500603, 0.009898348711431026, 0.005249494221061468, 0.3152700960636139, 0.0068379915319383144, 0.002113585826009512, 0.007569796871393919, 0.6514939665794373], [0.002334992866963148, 0.05318820849061012, 0.012746787630021572, 0.20149925351142883, 0.062372077256441116, 0.035526618361473083, 0.01689857989549637, 0.6154334545135498], [0.0010172855108976364, 0.015274468809366226, 0.012201204895973206, 0.287749707698822, 0.040682584047317505, 0.003598931711167097, 0.011648643761873245, 0.6278271079063416], [0.001429701573215425, 0.015557080507278442, 0.01126235444098711, 0.445500910282135, 0.027882196009159088, 0.0019190690945833921, 0.006155039649456739, 0.49029362201690674], [0.0001807354565244168, 0.0007289782515726984, 0.0008044209680519998, 0.04927990585565567, 0.004262053407728672, 0.0005152601515874267, 0.0018069755751639605, 0.9424216151237488], [4.8001238610595465e-05, 7.194297359092161e-05, 5.9757367125712335e-05, 0.007182337809354067, 0.00012181762576801702, 2.6336820155847818e-05, 0.0003364479052834213, 0.9921533465385437]], [[0.009312252514064312, 0.0018608702812343836, 0.0035199348349124193, 0.03316393122076988, 0.0038311700336635113, 0.0015404295409098268, 0.009075446985661983, 0.9376960396766663], [0.03117167390882969, 0.003299339674413204, 0.5078189969062805, 0.34660792350769043, 0.062295250594615936, 0.007169821299612522, 0.012229987420141697, 0.02940690703690052], [0.010352127254009247, 0.002281780121847987, 0.010694963857531548, 0.07804473489522934, 0.027723141014575958, 0.033263735473155975, 0.003915382549166679, 0.8337241411209106], [0.0019664920400828123, 0.0002922905841842294, 0.0010465551167726517, 0.0043188133276999, 0.022321635857224464, 0.004447064362466335, 0.026248762384057045, 0.9393584132194519], [0.027726035565137863, 0.0002438448864268139, 0.0033864439465105534, 0.0014987094327807426, 0.0009878600249066949, 0.0025954467710107565, 0.9397948384284973, 0.023766737431287766], [0.04675488919019699, 0.0006788761238567531, 0.009009091183543205, 0.01590084843337536, 0.012213677167892456, 0.012514914385974407, 0.31064578890800476, 0.5922819375991821], [0.00028300422127358615, 3.467150963842869e-05, 0.0002697644813451916, 0.002949604531750083, 0.0010116457706317306, 0.0001818217133404687, 0.0012852596119046211, 0.9939842820167542], [0.001383284805342555, 0.00048150058137252927, 0.0020095317158848047, 0.00772290350869298, 0.0034480756148695946, 0.0017236804123967886, 0.008663536049425602, 0.9745674729347229]], [[0.0003363144933246076, 1.4904655472491868e-05, 7.242001629492734e-06, 9.319506352767348e-05, 1.75553941517137e-05, 3.7959071050863713e-06, 0.000779018213506788, 0.9987479448318481], [0.012941960245370865, 0.010783830657601357, 0.007884455844759941, 0.013221247121691704, 0.009077160619199276, 0.003460788866505027, 0.11997335404157639, 0.8226572275161743], [0.06013927236199379, 0.08626651018857956, 0.019965816289186478, 0.10409653931856155, 0.006441785953938961, 0.009047755040228367, 0.3969106376171112, 0.3171316683292389], [0.0030012603383511305, 0.017825771123170853, 0.006084436550736427, 0.023603668436408043, 0.007185251917690039, 0.003525773761793971, 0.10604344308376312, 0.8327304124832153], [0.0055399686098098755, 0.006821527611464262, 0.002775317756459117, 0.013500669971108437, 0.003486227709800005, 0.0012407278409227729, 0.018577469512820244, 0.9480581283569336], [0.006094879005104303, 0.010139659978449345, 0.0045125968754291534, 0.07983227074146271, 0.02358812279999256, 0.0027815939392894506, 0.043915651738643646, 0.8291352391242981], [0.01288216095417738, 0.00902932696044445, 0.003545639803633094, 0.08991916477680206, 0.13339972496032715, 0.015779558569192886, 0.036087267100811005, 0.6993571519851685], [6.970659160288051e-05, 2.126561594195664e-05, 1.1260818610026035e-05, 8.041341789066792e-05, 1.7656331692705862e-05, 8.42026111058658e-06, 0.00030423543648794293, 0.999487042427063]], [[0.012027140706777573, 0.0041853939183056355, 0.005131620913743973, 0.014725410379469395, 0.016078943386673927, 0.0028829823713749647, 0.011884231120347977, 0.9330843091011047], [0.0011437247740104795, 0.0015488332137465477, 0.0009544510394334793, 0.009428168646991253, 0.006591451819986105, 6.918106373632327e-05, 0.0023333739954978228, 0.9779307842254639], [0.005645943805575371, 0.023258425295352936, 0.004724021535366774, 0.002781585557386279, 0.00026490376330912113, 0.00021699639910366386, 0.004131190944463015, 0.9589769840240479], [0.0005639885785058141, 0.0002092700742650777, 0.0004996157367713749, 0.0018152499105781317, 0.00028913194546476007, 7.831314724171534e-05, 0.001435406506061554, 0.9951090216636658], [0.006543740630149841, 0.000260410102782771, 0.0010748500935733318, 0.7474341988563538, 0.003510500770062208, 0.0004518868518061936, 0.12443450838327408, 0.11628985404968262], [0.01568388007581234, 0.008560732007026672, 0.00609221076592803, 0.11329736560583115, 0.27584394812583923, 0.0031172875314950943, 0.019683683291077614, 0.5577208995819092], [0.002290820237249136, 0.0007673286600038409, 0.0002232730039395392, 0.005307808518409729, 0.030244914814829826, 0.0018637793837115169, 0.0033423181157559156, 0.9559597373008728], [0.0005650384118780494, 0.0004957026103511453, 0.0004281833244021982, 0.002348397858440876, 0.0023005413822829723, 0.00061993976123631, 0.0026615364477038383, 0.9905807375907898]], [[0.014698962680995464, 0.011722113937139511, 0.011113351210951805, 0.006436623632907867, 0.004434407688677311, 0.0020352948922663927, 0.008266975171864033, 0.9412922263145447], [0.08348149806261063, 0.03839222341775894, 0.023940619081258774, 0.09343253076076508, 0.03267582505941391, 0.06065700948238373, 0.043482158333063126, 0.6239381432533264], [0.07916027307510376, 0.04203307628631592, 0.06630578637123108, 0.06082139164209366, 0.0057325465604662895, 0.01908005401492119, 0.03712382912635803, 0.6897430419921875], [0.01961904764175415, 0.00363285094499588, 0.004652275238186121, 0.008417293429374695, 0.0008192691602744162, 0.002186146331951022, 0.012766682542860508, 0.9479064345359802], [0.03138232231140137, 0.007832566276192665, 0.0044486187398433685, 0.03694233298301697, 0.0031768351327627897, 0.004543397109955549, 0.03383859246969223, 0.8778352737426758], [0.04572742432355881, 0.023421192541718483, 0.015696976333856583, 0.05482222139835358, 0.033464543521404266, 0.04279080405831337, 0.06555579602718353, 0.7185210585594177], [0.007482126820832491, 0.011231382377445698, 0.0124072739854455, 0.002746534300968051, 0.0025544981472194195, 0.004021266475319862, 0.0018350522732362151, 0.9577218294143677], [0.004289546981453896, 0.004854587372392416, 0.00314212660305202, 0.004193443339318037, 0.0021731285378336906, 0.0017309184186160564, 0.009132454171776772, 0.9704838395118713]], [[0.025712238624691963, 0.015934452414512634, 0.02378718927502632, 0.1538042277097702, 0.018000278621912003, 0.012443210929632187, 0.03708780184388161, 0.7132306694984436], [0.09838994592428207, 0.1012355238199234, 0.05155942961573601, 0.032549966126680374, 0.005563537590205669, 0.10797090828418732, 0.021264484152197838, 0.5814661979675293], [0.04816717654466629, 0.028192443773150444, 0.006432184483855963, 0.20000316202640533, 0.019709287211298943, 0.044862378388643265, 0.13135100901126862, 0.5212823152542114], [0.3717183470726013, 0.03546576574444771, 0.06377027183771133, 0.014473846182227135, 0.03614534065127373, 0.009570395573973656, 0.0545167550444603, 0.41433924436569214], [0.08590176701545715, 0.01100255735218525, 0.008820978924632072, 0.02917833812534809, 0.03635300695896149, 0.010098310187458992, 0.03598688542842865, 0.7826582193374634], [0.13417403399944305, 0.09178803861141205, 0.06287769228219986, 0.038076430559158325, 0.01969926431775093, 0.10327852517366409, 0.03522088751196861, 0.5148851871490479], [0.11678673326969147, 0.01617390289902687, 0.05320990830659866, 0.15130160748958588, 0.08585013449192047, 0.010511013679206371, 0.021067505702376366, 0.545099139213562], [0.023511623963713646, 0.0020638410933315754, 0.002210494363680482, 0.009551973082125187, 0.0057584373280406, 0.0005145568866282701, 0.005105832125991583, 0.9512832760810852]], [[0.01168487686663866, 0.0065251742489635944, 0.010736259631812572, 0.01766820065677166, 0.0020027237478643656, 0.0018410286866128445, 0.002565107773989439, 0.9469766616821289], [0.02327825501561165, 0.11118047684431076, 0.06492259353399277, 0.09840420633554459, 0.007151648867875338, 0.002568937838077545, 0.027125371620059013, 0.6653684973716736], [0.0199066624045372, 0.0794072076678276, 0.02153027057647705, 0.019066788256168365, 0.0014060786925256252, 0.0009927642531692982, 0.005737044382840395, 0.8519532084465027], [0.014311816543340683, 0.016247546300292015, 0.05051928013563156, 0.01312212459743023, 0.0010037538595497608, 0.00042849135934375226, 0.002517953747883439, 0.9018489718437195], [0.1316089630126953, 0.07173577696084976, 0.1787872463464737, 0.22044362127780914, 0.03369839861989021, 0.01002976018935442, 0.01670534722507, 0.3369908928871155], [0.07456858456134796, 0.23183700442314148, 0.10149975121021271, 0.11756855994462967, 0.05885665863752365, 0.0331147275865078, 0.02882438898086548, 0.3537302613258362], [0.008476662449538708, 0.0022548988927155733, 0.00409795343875885, 0.003356310073286295, 0.010459352284669876, 0.007129846140742302, 0.0009683495736680925, 0.9632566571235657], [0.0026082522235810757, 0.0011609933571889997, 0.0055456263944506645, 0.003939813934266567, 0.0012233456363901496, 0.0016921182395890355, 0.0025084440130740404, 0.981321394443512]], [[0.08135923743247986, 0.09514190256595612, 0.10049460083246231, 0.05607074871659279, 0.03091868758201599, 0.003879176452755928, 0.07607147842645645, 0.556064248085022], [0.018170572817325592, 0.002560585970059037, 0.8547697067260742, 0.020518161356449127, 3.5090477467747405e-05, 0.00029494924820028245, 0.017707163468003273, 0.08594382554292679], [0.015069354325532913, 0.0006418897537514567, 0.028534667566418648, 0.4345717430114746, 0.0026863582897931337, 0.0009876012336462736, 0.006181126460433006, 0.5113272070884705], [0.004215255845338106, 0.0003782666171900928, 0.0028324187733232975, 0.020025910809636116, 0.23315680027008057, 0.012870733626186848, 0.0013003721833229065, 0.725220263004303], [0.0029130508191883564, 0.0006753357592970133, 0.0024380083195865154, 0.00019818493456114084, 0.0021431120112538338, 0.08550863713026047, 0.3284923732280731, 0.5776312947273254], [0.033472731709480286, 0.0019394230330362916, 0.22185175120830536, 0.005274488590657711, 0.0003150940756313503, 0.002653684699907899, 0.4484861195087433, 0.2860066890716553], [0.00432252325117588, 0.001023732591420412, 0.004213570151478052, 0.00226741936057806, 0.00044483100646175444, 8.130563946906477e-05, 0.017366167157888412, 0.9702804088592529], [0.009089910425245762, 0.013491001911461353, 0.008252426981925964, 0.011666089296340942, 0.021772531792521477, 0.011305926367640495, 0.02884102426469326, 0.895581066608429]]], [[[0.013991267420351505, 0.007283530663698912, 0.02111426554620266, 0.08647573739290237, 0.002562673296779394, 0.0006571435951627791, 0.03660096228122711, 0.8313144445419312], [0.03354619815945625, 0.009421399794518948, 0.251849889755249, 0.04250672087073326, 0.002185181714594364, 0.0028753739316016436, 0.014830553904175758, 0.642784595489502], [0.0011046422878280282, 5.850387969985604e-05, 0.0007140273228287697, 0.0004314453690312803, 6.455121183535084e-05, 6.009814751450904e-05, 0.00019110649009235203, 0.9973756074905396], [0.0041028037667274475, 0.0004947175621055067, 0.01042818184942007, 0.0012163296341896057, 0.00034796391264535487, 0.0029168131295591593, 0.03026178665459156, 0.9502314329147339], [0.009174053557217121, 0.0008483278215862811, 0.026899365708231926, 0.005301184486597776, 0.0016578180948272347, 0.007177856285125017, 0.4241359233856201, 0.5248055458068848], [0.029716163873672485, 0.0014639789005741477, 0.21290813386440277, 0.018624065443873405, 0.003957452718168497, 0.005713565740734339, 0.5556129217147827, 0.17200370132923126], [0.0011088112369179726, 3.4160333598265424e-05, 0.00022913799330126494, 0.000977980438619852, 5.8220124628860503e-05, 1.398768199578626e-05, 0.011828492395579815, 0.9857491254806519], [0.007529014255851507, 0.0022389404475688934, 0.012458864599466324, 0.012130123563110828, 0.0015302656684070826, 0.001790673122741282, 0.021474773064255714, 0.9408473372459412]], [[0.0029576385859400034, 0.0005900791147723794, 0.0005487466114573181, 0.0012251059524714947, 0.001141202519647777, 0.0003868735511787236, 0.004185812547802925, 0.9889645576477051], [0.00020016792404931039, 0.00019381486345082521, 0.0004324107721913606, 0.0024613034911453724, 0.00019872085249517113, 2.0729396055685356e-05, 0.0005570572684518993, 0.9959357976913452], [0.0009050905937328935, 0.0012841427233070135, 0.004180694930255413, 0.010657909326255322, 0.0006087421206757426, 5.435826096800156e-05, 0.0005991412908770144, 0.981709897518158], [9.395428787684068e-05, 2.570030301285442e-05, 8.998424891615286e-05, 0.0010373429395258427, 0.00011938143143197522, 7.697438377363142e-06, 4.7717359848320484e-05, 0.9985781908035278], [0.0011100039118900895, 0.000390604545827955, 0.00012756057549268007, 0.9368629455566406, 0.00902449619024992, 0.0011261841282248497, 0.0005596277769654989, 0.050798509269952774], [0.020034249871969223, 0.01256638951599598, 0.03219759464263916, 0.11601687222719193, 0.33699914813041687, 0.020280128344893456, 0.02241683192551136, 0.4394887685775757], [0.000540410925168544, 8.292122947750613e-05, 0.0006512218387797475, 0.002307336078956723, 0.00686424458399415, 0.0009610966662876308, 0.003399668261408806, 0.985193133354187], [0.0008613026002421975, 0.0004310116346459836, 0.0004033786535728723, 0.0070640044286847115, 0.0013615030329674482, 0.0002357538469368592, 0.00112763955257833, 0.9885154366493225]], [[0.0012715125922113657, 0.009649120271205902, 0.020594656467437744, 0.009872080758213997, 0.002883572829887271, 0.0004833533603232354, 0.049923401325941086, 0.9053223133087158], [0.01877797208726406, 0.033541373908519745, 0.056543800979852676, 0.19161345064640045, 0.030310284346342087, 0.003467769594863057, 0.0300308745354414, 0.6357145309448242], [0.006857025902718306, 0.04506748169660568, 0.008439483121037483, 0.03218977525830269, 0.013530334457755089, 0.009103861637413502, 0.004680631682276726, 0.8801313638687134], [0.0012189035769551992, 0.006667200475931168, 0.00145377975422889, 0.003758114529773593, 0.0027247194666415453, 0.002071608556434512, 0.000693231588229537, 0.981412410736084], [0.001609035418368876, 0.0017503215931355953, 0.004131631925702095, 0.01339374016970396, 0.0016079525230452418, 0.00021908010239712894, 0.00564137427136302, 0.9716468453407288], [0.007128918077796698, 0.02169768698513508, 0.06273627281188965, 0.5070903301239014, 0.00912372674793005, 0.0010238430695608258, 0.08407329767942429, 0.3071259558200836], [0.001325760269537568, 0.0019147727871313691, 0.0022585454862564802, 0.003439313033595681, 0.0005649923696182668, 0.0006557652377523482, 0.0005770555580966175, 0.9892638325691223], [0.0029474550392478704, 0.006123496685177088, 0.0022613562177866697, 0.0015009072376415133, 0.0034582798834890127, 0.001829654211178422, 0.0013229061150923371, 0.9805559515953064]], [[0.008002341724932194, 0.006049959920346737, 0.00552983907982707, 0.01563963294029236, 0.0014416583580896258, 0.0012233690358698368, 0.0022107523400336504, 0.9599024653434753], [0.004849110264331102, 0.005702809896320105, 0.01158925425261259, 0.040837716311216354, 0.002813788829371333, 0.0009894397808238864, 0.0012375719379633665, 0.9319802522659302], [0.0036285221576690674, 0.0015845716698095202, 0.0031197413336485624, 0.0024053272791206837, 0.00025531218852847815, 0.00015822696150280535, 0.0018097724532708526, 0.9870384931564331], [0.005086812190711498, 0.023015053942799568, 0.04373724013566971, 0.048049893230199814, 0.003870252287015319, 0.002359121572226286, 0.013508855365216732, 0.86037278175354], [0.014550321735441685, 0.05772934854030609, 0.0968223363161087, 0.3743312656879425, 0.008035929873585701, 0.010783510282635689, 0.01925690844655037, 0.41849035024642944], [0.02251332253217697, 0.07887917011976242, 0.06302842497825623, 0.13988888263702393, 0.010042564012110233, 0.012600071728229523, 0.007356832269579172, 0.6656906604766846], [0.001993810525164008, 0.002350678900256753, 0.003835645504295826, 0.004940380807965994, 0.003219438251107931, 0.000966471794527024, 0.002914097858592868, 0.9797794222831726], [0.00417743157595396, 0.004249700345098972, 0.007607806473970413, 0.006082992535084486, 0.00228738971054554, 0.0008604809991084039, 0.005069530103355646, 0.9696646928787231]], [[0.007222010754048824, 0.07150493562221527, 0.013914969749748707, 0.18618366122245789, 0.022732002660632133, 0.018822260200977325, 0.0808667242527008, 0.5987534523010254], [0.06965263932943344, 0.06545127183198929, 0.02362058311700821, 0.036841534078121185, 0.0009532403200864792, 0.007540849037468433, 0.033834006637334824, 0.7621059417724609], [0.01216927170753479, 0.034748513251543045, 0.0073721022345125675, 0.03316954895853996, 0.0006262719398364425, 0.007575777359306812, 0.1855909824371338, 0.7187474966049194], [0.17979806661605835, 0.015202263370156288, 0.019427236169576645, 0.005267721135169268, 0.006020136643201113, 0.025007016956806183, 0.2044171243906021, 0.5448604226112366], [0.0206721443682909, 0.0014241929166018963, 0.0009577065357007086, 0.026388345286250114, 0.030835982412099838, 0.005330879241228104, 0.046859804540872574, 0.8675309419631958], [0.2309074103832245, 0.041964415460824966, 0.02690112218260765, 0.08792225271463394, 0.02527901530265808, 0.027783405035734177, 0.0378635972738266, 0.521378755569458], [0.05556689202785492, 0.008293168619275093, 0.04648653417825699, 0.08265744894742966, 0.069403275847435, 0.010330339893698692, 0.03918510302901268, 0.6880772113800049], [0.006750311236828566, 0.0020321703050285578, 0.0051549565978348255, 0.020204337313771248, 0.008880417793989182, 0.0009931038366630673, 0.01105526927858591, 0.9449294209480286]], [[0.00145717931445688, 0.0008474212954752147, 0.01034949254244566, 0.0023115985095500946, 0.00017641969316173345, 8.208394137909636e-05, 0.0029982468113303185, 0.981777548789978], [0.014645617455244064, 0.017585068941116333, 0.03584994003176689, 0.01323577482253313, 0.0018189438851550221, 0.006564060226082802, 0.01043832115828991, 0.8998622894287109], [0.004483476746827364, 0.0017949767643585801, 0.09178303182125092, 0.0007366868667304516, 2.4594652131781913e-05, 0.00015136980800889432, 0.002040025545284152, 0.8989858627319336], [0.0002775197208393365, 7.183291745604947e-05, 0.00041681749280542135, 0.0028820920269936323, 0.00024409372417721897, 2.625673914735671e-05, 0.0025922569911926985, 0.993489146232605], [0.0016805779887363315, 0.0008527751779183745, 0.00032442776137031615, 0.0057524871081113815, 0.5721820592880249, 0.004057790152728558, 0.008727800101041794, 0.40642213821411133], [0.012279785238206387, 0.011541895568370819, 0.006948669906705618, 0.07242096215486526, 0.37766119837760925, 0.09751205146312714, 0.04472482204437256, 0.37691062688827515], [0.00150762137491256, 0.002379234880208969, 0.0031476097647100687, 0.028576325625181198, 0.005743446294218302, 0.002437497256323695, 0.03396099433302879, 0.9222472906112671], [0.0014364909147843719, 0.0004974837065674365, 0.0018546958453953266, 0.0023338685277849436, 0.0004414322320371866, 0.00024083022435661405, 0.005036203656345606, 0.9881590008735657]], [[0.0014663476031273603, 0.0004118680953979492, 0.00019328332564327866, 0.0025818441063165665, 0.0005452706827782094, 0.00020424387184903026, 0.0014977357350289822, 0.9930993318557739], [0.00019637768855318427, 7.044245285214856e-05, 0.00016932141443248838, 0.002638341626152396, 0.0002388928405707702, 6.097334789956221e-06, 5.1596991397673264e-05, 0.9966289401054382], [0.00109346944373101, 0.00048033089842647314, 0.0002086545864585787, 0.009469137527048588, 1.0958750863210298e-05, 3.5077985103271203e-06, 0.00013424543431028724, 0.9885996580123901], [0.0019075054442510009, 0.001665759366005659, 0.004257068503648043, 0.03850293532013893, 0.009540689177811146, 0.0011200526496395469, 0.0009870511712506413, 0.9420189261436462], [0.0035988958552479744, 0.0007091706502251327, 0.006505509838461876, 0.9469587802886963, 0.00022910512052476406, 0.00025699991965666413, 0.0014102647546678782, 0.04033110290765762], [0.007609417196363211, 0.0012824699515476823, 0.009171905927360058, 0.0899985060095787, 0.019911881536245346, 0.0009244881221093237, 0.0018970946548506618, 0.8692042231559753], [0.0012808009050786495, 0.00020962566486559808, 0.00018930570513475686, 0.007830491289496422, 0.18037943542003632, 0.0027969141956418753, 0.003639133647084236, 0.8036743402481079], [0.0039595733396708965, 0.003755092853680253, 0.0009690677979961038, 0.005102838389575481, 0.006048030685633421, 0.004098006058484316, 0.011503126472234726, 0.9645642638206482]], [[0.007365301251411438, 0.004095480311661959, 0.049749381840229034, 0.6718742847442627, 0.036913126707077026, 0.0011040278477594256, 0.0421440564095974, 0.1867542713880539], [0.0017656070413067937, 0.001043783500790596, 0.032975226640701294, 0.24443694949150085, 0.002307751914486289, 0.00060979527188465, 0.011064503341913223, 0.7057964205741882], [0.0001267900224775076, 0.00039122180896811187, 0.0009816639358177781, 0.013973117806017399, 0.0005573326488956809, 0.0002762996300589293, 0.020047074183821678, 0.9636464715003967], [7.252943760249764e-05, 0.00023988678003661335, 0.0014578100526705384, 0.027271578088402748, 0.0027157769072800875, 0.0010630876058712602, 0.03378529101610184, 0.9333940148353577], [0.0005067626480013132, 0.0002680085599422455, 0.0008174239774234593, 0.025654863566160202, 0.0026810965500772, 0.0019516204483807087, 0.9577243328094482, 0.010395869612693787], [0.00212299101985991, 0.0006465365295298398, 0.013316529802978039, 0.08451773226261139, 0.00623066583648324, 0.0070124478079378605, 0.393374502658844, 0.49277862906455994], [9.221873256137769e-07, 3.6585234397534805e-07, 9.13681105885189e-07, 0.0001777232246240601, 1.953440232682624e-06, 8.065983365668217e-07, 0.0004414278664626181, 0.9993758797645569], [0.0007305878680199385, 0.00029663395253010094, 0.0007619851385243237, 0.005223360378295183, 0.0010690923081710935, 0.00018808561435434967, 0.011651725508272648, 0.9800785779953003]], [[0.03455596789717674, 0.01087386254221201, 0.020894741639494896, 0.056394919753074646, 0.03354903310537338, 0.00630883639678359, 0.0615437775850296, 0.7758788466453552], [0.051093507558107376, 0.030751274898648262, 0.04894118756055832, 0.3912438750267029, 0.09871596843004227, 0.08296111226081848, 0.13942570984363556, 0.1568673998117447], [0.015023753978312016, 0.004244352225214243, 0.0054861814714968204, 0.060881905257701874, 0.008611452765762806, 0.007956563495099545, 0.047340333461761475, 0.8504554629325867], [0.012731759808957577, 0.003542613470926881, 0.0017756593879312277, 0.022948404774069786, 0.011062235571444035, 0.007685567252337933, 0.05585577338933945, 0.8843979835510254], [0.00493966368958354, 0.00031111270072869956, 0.00024130647943820804, 0.004467072896659374, 0.00041241254075430334, 0.00041326278005726635, 0.004616183694452047, 0.9845989942550659], [0.01608419604599476, 0.0026366394013166428, 0.005119508597999811, 0.03345228359103203, 0.003455203725025058, 0.0026206106413155794, 0.032279789447784424, 0.9043517708778381], [0.0002260946639580652, 3.0167379009071738e-05, 8.318275831697974e-06, 0.0001401689078193158, 0.0001509484281996265, 9.932158718584105e-05, 0.00027699637576006353, 0.9990679621696472], [0.002743442077189684, 0.00019949849229305983, 0.0001712329831207171, 0.002256286097690463, 0.000905781053006649, 0.0004232677456457168, 0.004308754578232765, 0.9889917373657227]], [[0.056349027901887894, 0.010945775546133518, 0.041631557047367096, 0.0077548548579216, 0.0017773857107385993, 9.484783367952332e-05, 0.08923819661140442, 0.7922083735466003], [0.005262430757284164, 0.0011051422916352749, 0.5114670991897583, 0.04118933156132698, 0.0001495515025453642, 3.881999873556197e-05, 0.04252489656209946, 0.3982626795768738], [3.460843436187133e-05, 2.7556509962778364e-07, 1.3139451766619459e-05, 0.008794514462351799, 3.835712504951516e-06, 6.441110400601247e-08, 0.0001009503030218184, 0.9910525679588318], [0.00558372400701046, 0.00016391313693020493, 0.0011799766216427088, 0.0012852023355662823, 0.011445383541285992, 0.00042569104698486626, 0.000317518541123718, 0.9795985221862793], [0.0013402588665485382, 0.0005553094670176506, 0.00985113438218832, 0.0008733628783375025, 7.522976375184953e-05, 0.0033425919245928526, 0.9365952610969543, 0.04736682027578354], [0.0016739359125494957, 0.00022326550970319659, 0.02423880435526371, 0.007834338583052158, 0.000672400463372469, 0.0009056398412212729, 0.7904493808746338, 0.17400214076042175], [1.3128473256074358e-05, 2.511235663860134e-09, 3.668219505925663e-08, 2.784923758269997e-08, 7.592548456614168e-08, 1.0364420433006671e-09, 4.568657459458336e-06, 0.9999821186065674], [0.1264394074678421, 0.002255607396364212, 0.007171235978603363, 0.00450245151296258, 0.009871628135442734, 0.0023183785378932953, 0.0330350436270237, 0.8144062757492065]], [[0.006810409016907215, 0.002113607944920659, 0.0011520740808919072, 0.033211927860975266, 0.03714670240879059, 0.0020163897424936295, 0.024608450010418892, 0.8929404020309448], [0.0005114412633702159, 0.0001673614460742101, 8.826387784210965e-05, 0.005163171794265509, 0.0049624936655163765, 1.169277948065428e-05, 0.0004898185725323856, 0.988605797290802], [0.008361182175576687, 0.027023563161492348, 0.0003175096644554287, 0.060403019189834595, 0.004736737813800573, 0.00027536158449947834, 0.0015745714772492647, 0.8973080515861511], [0.008887868374586105, 0.08647129684686661, 0.03903278335928917, 0.05242671072483063, 0.002194005763158202, 0.0016469825059175491, 0.0013957532355561852, 0.8079445362091064], [0.009813103824853897, 0.0719001293182373, 0.16921555995941162, 0.5686404705047607, 0.0037590251304209232, 0.001575720845721662, 0.00197378802113235, 0.17312224209308624], [0.006740538403391838, 0.004088967107236385, 0.004443025216460228, 0.7739498019218445, 0.10702287405729294, 0.0004002871864940971, 0.0008939352119341493, 0.10246055573225021], [0.0024463203735649586, 0.0024290939327329397, 0.0003338044334668666, 0.01656360737979412, 0.17193016409873962, 0.011637449264526367, 0.012051217257976532, 0.7826083302497864], [0.006684320047497749, 0.011230452917516232, 0.0066602579317986965, 0.012378571555018425, 0.014817867428064346, 0.0047907778061926365, 0.016313105821609497, 0.9271246194839478]], [[0.013151859864592552, 0.0014703237684443593, 0.0011282553896307945, 0.019082047045230865, 0.003193083917722106, 0.0009043990867212415, 0.013011590577661991, 0.9480584859848022], [0.08614586293697357, 0.00577175710350275, 0.001371096121147275, 0.47346463799476624, 0.01623772457242012, 0.007563678082078695, 0.008686068467795849, 0.4007592499256134], [0.005977901164442301, 0.0003127894306089729, 0.0011232405668124557, 0.042263422161340714, 0.0013204391580075026, 0.00019525110838003457, 0.013145257718861103, 0.9356617331504822], [0.0005690206307917833, 0.00010017082968261093, 0.00020587265316862613, 0.010160629637539387, 0.010523905977606773, 5.880203752894886e-05, 0.010476730763912201, 0.9679048657417297], [0.0005368951824493706, 7.448867108905688e-05, 6.366203160723671e-05, 0.002365752123296261, 0.0005003625992685556, 6.684460822725669e-05, 0.0215371735394001, 0.9748548269271851], [0.034771598875522614, 0.002733035944402218, 0.0005177621496841311, 0.023011179640889168, 0.008687272667884827, 0.01036142185330391, 0.1163264662027359, 0.803591251373291], [0.0012130826944485307, 0.0005417731590569019, 0.0012902341550216079, 0.014677232131361961, 0.004593914840370417, 0.0007119817310012877, 0.030981751158833504, 0.9459900259971619], [0.004010980017483234, 0.0016452412819489837, 0.0019757323898375034, 0.007270493544638157, 0.003812122857198119, 0.0008912009652704, 0.02024499885737896, 0.9601492285728455]]], [[[0.008023662492632866, 0.01564856991171837, 0.0016888170503079891, 0.48872995376586914, 0.1770295649766922, 0.04624144732952118, 0.0057016657665371895, 0.2569362223148346], [0.002151019172742963, 0.0038608114700764418, 0.01213187538087368, 0.3783233165740967, 0.013777153566479683, 0.00225908774882555, 0.0012765142600983381, 0.5862202048301697], [0.00418650358915329, 0.014634974300861359, 0.16805961728096008, 0.1303117275238037, 0.01916956715285778, 0.0032936481293290854, 0.010680180974304676, 0.6496637463569641], [0.0004052128060720861, 0.000477167428471148, 0.0023105524014681578, 0.05014635622501373, 0.00544425193220377, 0.0003576725721359253, 0.0014090656768530607, 0.9394497275352478], [0.0003715086786542088, 0.0003898138820659369, 0.0008437877404503524, 0.03833375126123428, 0.11313720792531967, 0.003702309913933277, 0.004125359933823347, 0.8390962481498718], [0.00039713410660624504, 0.0004226581659168005, 0.001194448908790946, 0.035746980458498, 0.018341539427638054, 0.0033593352418392897, 0.0051567950285971165, 0.9353811144828796], [0.0003862707526423037, 0.00021246523829177022, 0.001260157092474401, 0.023808496072888374, 0.005430534947663546, 0.0014563414733856916, 0.011541658081114292, 0.9559040665626526], [0.0006557966116815805, 0.0003308527229819447, 0.0010878820903599262, 0.008560010232031345, 0.00036242007627151906, 0.00014992483193054795, 0.001256780349649489, 0.9875963926315308]], [[0.000715607893653214, 0.0059462543576955795, 0.009436444379389286, 0.014226005412638187, 0.0007641610573045909, 0.0015216981992125511, 0.009130524471402168, 0.9582593441009521], [0.020761175081133842, 0.006464413367211819, 0.020864317193627357, 0.039561811834573746, 0.014000347815454006, 0.001988277304917574, 0.0325901135802269, 0.8637695908546448], [0.000902133178897202, 0.0005030267057009041, 0.0004495377652347088, 0.004281545523554087, 0.002362763974815607, 0.0003889329091180116, 0.0010875153820961714, 0.9900245666503906], [0.025604620575904846, 0.017899639904499054, 0.026366932317614555, 0.03884804993867874, 0.03831781819462776, 0.005188307724893093, 0.018990466371178627, 0.8287841081619263], [0.00881583709269762, 0.006161975208669901, 0.10284251719713211, 0.05104996636509895, 0.018395163118839264, 0.0009513270342722535, 0.09266846626996994, 0.7191147208213806], [0.00792753230780363, 0.021010752767324448, 0.13128843903541565, 0.020491499453783035, 0.00436138641089201, 0.00028289880719967186, 0.04510949179530144, 0.7695280313491821], [0.00012881224392913282, 9.409458289155737e-05, 0.0016554772155359387, 0.003430143464356661, 0.00023922600666992366, 5.6713262893026695e-05, 0.0005377495544962585, 0.9938578009605408], [0.0013798912987113, 0.0026170930359512568, 0.008545980788767338, 0.008723203092813492, 0.00153719715308398, 0.0008731767884455621, 0.004124905914068222, 0.972198486328125]], [[0.0007839500322006643, 0.00754579110071063, 0.0017297379672527313, 0.049056049436330795, 0.008392680436372757, 0.0017210892401635647, 0.0028273938223719597, 0.9279433488845825], [0.0075513627380132675, 0.004643777851015329, 0.004741190001368523, 0.044138651341199875, 0.00044272502418607473, 0.00019563603564165533, 0.00267645507119596, 0.9356101751327515], [0.0025563996750861406, 0.007281286176294088, 0.002671155845746398, 0.01742984727025032, 0.002093635266646743, 0.00019798229914158583, 0.0030456124804913998, 0.9647241234779358], [0.03181961551308632, 0.011197823099792004, 0.0036709385458379984, 0.025930222123861313, 0.0069959936663508415, 0.007992476224899292, 0.008548499085009098, 0.90384441614151], [0.011893065646290779, 0.041490357369184494, 0.010429859161376953, 0.12332595139741898, 0.017197538167238235, 0.006840188521891832, 0.0028071890119463205, 0.7860158681869507], [0.017180319875478745, 0.021967804059386253, 0.011248115450143814, 0.06522145867347717, 0.0014928941382095218, 0.0014040085952728987, 0.0006874330574646592, 0.8807979822158813], [0.00040582616929896176, 0.001577595598064363, 0.0004824671195819974, 0.09985204041004181, 0.008874982595443726, 0.0045741042122244835, 0.005102901253849268, 0.8791300654411316], [0.008719217032194138, 0.01104879193007946, 0.007214948534965515, 0.04493185132741928, 0.006841645110398531, 0.005263771861791611, 0.015017266385257244, 0.9009625315666199]], [[0.0013347093481570482, 9.959694580174983e-05, 0.0001462900108890608, 0.028560364618897438, 0.001072978600859642, 5.387367491493933e-05, 0.004628094378858805, 0.9641041159629822], [0.0007926389807835221, 0.00017624600150156766, 0.00016195638454519212, 0.12109457701444626, 0.0010827073128893971, 1.2259182767593302e-05, 0.0003927140205632895, 0.8762869238853455], [0.00269950064830482, 0.0017524356953799725, 0.0020094236824661493, 0.1502113789319992, 0.002424330450594425, 5.362110096029937e-05, 0.004657473880797625, 0.8361918330192566], [0.0004889226402156055, 8.001680544111878e-05, 0.00022848839580547065, 0.010260580107569695, 0.001522224280051887, 2.531250902393367e-05, 0.00022659401292912662, 0.9871678948402405], [0.0001432860444765538, 0.00026106886798515916, 0.00030199726461432874, 0.8944893479347229, 0.000855318212416023, 2.8536422178149223e-05, 0.0003124415234196931, 0.10360802710056305], [0.00010222070704912767, 9.558897727401927e-05, 8.786615217104554e-05, 0.939673900604248, 0.01737358793616295, 2.8404241675161757e-05, 0.00021284092508722097, 0.04242556914687157], [0.0013274457305669785, 2.1017276594648138e-05, 0.00021351029863581061, 0.0036761220544576645, 0.03494376316666603, 0.0002664347121026367, 0.01582607999444008, 0.9437255859375], [0.03416360169649124, 0.0028639815282076597, 0.0036026190500706434, 0.05513310804963112, 0.013447331264615059, 0.0031949991825968027, 0.017749471589922905, 0.8698448538780212]], [[0.0002882051921915263, 0.0008856166969053447, 0.04554973915219307, 0.3216722905635834, 0.012346584349870682, 0.00019601325038820505, 0.0011468046577647328, 0.6179147362709045], [0.00036642816849052906, 0.0014355864841490984, 0.03335423395037651, 0.2669360637664795, 0.005245901644229889, 0.0003216516342945397, 0.0007848964887671173, 0.6915552616119385], [0.00010718002886278555, 0.00033974749385379255, 0.0006056991405785084, 0.00795353576540947, 0.0014405515976250172, 2.466398655087687e-05, 0.0003074622945860028, 0.9892210960388184], [0.00013896130258217454, 0.0017578982515260577, 0.017760833725333214, 0.09637422859668732, 0.0010750091169029474, 2.8411070161382668e-05, 4.773329783347435e-05, 0.8828169703483582], [2.003156805585604e-05, 0.000278090505162254, 0.0008072340860962868, 0.9981362819671631, 0.0002866133872885257, 6.981843034736812e-05, 2.6250616429024376e-05, 0.0003754895005840808], [0.00037540390621870756, 0.002086101332679391, 0.00713437469676137, 0.9413343667984009, 0.0037308225873857737, 0.0012744879350066185, 0.000678381125908345, 0.04338609427213669], [0.009148412384092808, 0.004219037014991045, 0.0013493264559656382, 0.026596320793032646, 0.03214101865887642, 0.01306117046624422, 0.016753317788243294, 0.8967313766479492], [0.0005753280129283667, 0.0017296124715358019, 0.007410586811602116, 0.021904369816184044, 0.002481935080140829, 0.0002730635169427842, 0.0013846434885635972, 0.9642404913902283]], [[0.00456427875906229, 0.0039046749006956816, 0.029800381511449814, 0.3504719138145447, 0.026403091847896576, 0.002897033467888832, 0.040798597037792206, 0.541159987449646], [0.0011399456998333335, 0.000547317205928266, 0.06285549700260162, 0.7533860206604004, 0.0010824460769072175, 0.00010914570884779096, 0.001146745402365923, 0.17973297834396362], [0.000489816244225949, 0.00022623420227319002, 0.0028806100599467754, 0.27414655685424805, 0.000645519292447716, 0.00011079046089434996, 0.004605839028954506, 0.7168946266174316], [0.0007602586410939693, 0.00018046087643597275, 0.001488322508521378, 0.10478170961141586, 0.010764913633465767, 0.0012422864092513919, 0.016772117465734482, 0.8640098571777344], [0.009827951900660992, 0.0005187903880141675, 0.004864235408604145, 0.1015346422791481, 0.0010167798027396202, 0.0009885814506560564, 0.7021845579147339, 0.17906440794467926], [0.012447966262698174, 0.00012901471927762032, 0.016037655994296074, 0.07440414279699326, 0.001258066506125033, 3.960722824558616e-05, 0.13575643301010132, 0.7599270939826965], [0.00033030964550562203, 3.885059868480312e-06, 0.00013254189980216324, 0.001665392192080617, 0.0006630711141042411, 7.966184057295322e-06, 0.002841892186552286, 0.9943549633026123], [0.00039865009603090584, 8.55597245390527e-05, 0.0009856682736426592, 0.020600663498044014, 0.00055034359684214, 0.00010849316458916292, 0.0028928297106176615, 0.9743777513504028]], [[0.00362017541192472, 0.32106977701187134, 0.10916244983673096, 0.1316162794828415, 0.007272967137396336, 0.0026506450958549976, 0.21240927278995514, 0.2121983766555786], [0.006058151833713055, 0.006514459382742643, 0.06500062346458435, 0.3780105412006378, 0.022930225357413292, 0.004868658259510994, 0.056440699845552444, 0.460176557302475], [0.0027469987981021404, 0.0018160380423069, 0.0030117861460894346, 0.14248919486999512, 0.015160765498876572, 0.002228572964668274, 0.01593085005879402, 0.8166157603263855], [0.008628604002296925, 0.008960934355854988, 0.03580683842301369, 0.07817640155553818, 0.07224778085947037, 0.0410190150141716, 0.08393717557191849, 0.6712233424186707], [0.003068600781261921, 0.0008139241836033762, 0.0078415647149086, 0.027044499292969704, 0.0014167397748678923, 0.0024503630120307207, 0.442966490983963, 0.5143977999687195], [0.011350056156516075, 0.0007211588672362268, 0.02805728279054165, 0.06558811664581299, 0.0024084339383989573, 0.0012637252220883965, 0.43829023838043213, 0.45232102274894714], [0.00043982520583085716, 8.258004527306184e-05, 0.00014550959167536348, 0.0010690382914617658, 0.0001389260869473219, 3.171026401105337e-05, 0.001690366887487471, 0.9964020252227783], [0.005050335079431534, 0.004687838722020388, 0.012536182068288326, 0.018824463710188866, 0.004627052694559097, 0.0030851182527840137, 0.027354935184121132, 0.9238340258598328]], [[0.0027968930080533028, 0.0015730229206383228, 0.03664620220661163, 0.07767882943153381, 0.001422791974619031, 0.0008095722296275198, 0.11366800218820572, 0.7654047012329102], [0.07916384190320969, 0.011158335953950882, 0.049920257180929184, 0.025736501440405846, 0.0039102728478610516, 0.0025855926796793938, 0.05192498490214348, 0.7756001949310303], [0.022345658391714096, 0.0024056830443441868, 0.008993870578706264, 0.03198980167508125, 0.005370546597987413, 0.007317475974559784, 0.11638279259204865, 0.8051941990852356], [0.011165075935423374, 0.005548396613448858, 0.010614587925374508, 0.004951095208525658, 0.0028231292963027954, 0.004356874153017998, 0.03861311450600624, 0.921927809715271], [0.022186456248164177, 0.0030978985596448183, 0.01709718629717827, 0.037606969475746155, 0.0025933736469596624, 0.0026248896028846502, 0.026721954345703125, 0.8880712985992432], [0.024730348959565163, 0.004371372051537037, 0.03410843014717102, 0.054460227489471436, 0.004551862366497517, 0.0020830717403441668, 0.037147678434848785, 0.8385469913482666], [0.027898713946342468, 0.007816961966454983, 0.11530987918376923, 0.045036859810352325, 0.006249348632991314, 0.004186647012829781, 0.005128758028149605, 0.7883728742599487], [0.0057425731793046, 0.0027005530428141356, 0.00992698036134243, 0.002248524921014905, 0.0006902176537550986, 0.00036375486524775624, 0.005947948899120092, 0.9723795056343079]], [[0.01042686402797699, 0.010359643027186394, 0.004305390175431967, 0.016897644847631454, 0.009088615886867046, 0.001786458888091147, 0.026983240619301796, 0.9201521873474121], [0.046330228447914124, 0.018071720376610756, 0.012576437555253506, 0.01651238463819027, 0.004884165711700916, 0.0019539876375347376, 0.005890214815735817, 0.8937808871269226], [0.0054923612624406815, 0.0030471300706267357, 0.0024659272748976946, 0.004260911140590906, 0.006968829780817032, 0.0014815839240327477, 0.05616818368434906, 0.920115053653717], [0.03285456448793411, 0.011777598410844803, 0.019399024546146393, 0.023419855162501335, 0.010798903182148933, 0.0019687365274876356, 0.027280041947960854, 0.8725013136863708], [0.03739667683839798, 0.029792925342917442, 0.059276025742292404, 0.056899294257164, 0.12365925312042236, 0.042921070009469986, 0.023298747837543488, 0.6267560124397278], [0.09844838827848434, 0.026038292795419693, 0.043400559574365616, 0.039790213108062744, 0.057573478668928146, 0.03590241074562073, 0.009698783047497272, 0.6891478300094604], [0.004659645259380341, 0.0028810063377022743, 0.007447171490639448, 0.012672464363276958, 0.03849226236343384, 0.03754325211048126, 0.15670984983444214, 0.7395943403244019], [0.020768536254763603, 0.018443230539560318, 0.01919223740696907, 0.02359427884221077, 0.013452990911900997, 0.00472472095862031, 0.029796019196510315, 0.8700279593467712]], [[0.0008153077797032893, 0.0066126869060099125, 0.004180415067821741, 0.00819116085767746, 0.0019279679981991649, 0.00032456786721013486, 0.005525815766304731, 0.9724221229553223], [0.0005518448306247592, 0.000402345962356776, 0.0009402854484505951, 0.004337566904723644, 5.372122905100696e-05, 1.0895945479205693e-06, 0.0016021374613046646, 0.9921109676361084], [0.023509925231337547, 0.7751970887184143, 0.01987002231180668, 0.019553834572434425, 0.0029789586551487446, 0.0009522921754978597, 0.026114268228411674, 0.13182352483272552], [0.01457298919558525, 0.07119086384773254, 0.04602210968732834, 0.04465365782380104, 0.0018649769481271505, 0.0008655220153741539, 0.018132062628865242, 0.8026978373527527], [0.02873310260474682, 0.07439485937356949, 0.027797628194093704, 0.12245554476976395, 0.02447671815752983, 0.004105451982468367, 0.0009229755960404873, 0.7171136736869812], [0.003680306952446699, 0.0005488216411322355, 0.0011480997782200575, 0.8209346532821655, 0.04497826099395752, 0.0001407029340043664, 0.0003816342505160719, 0.12818758189678192], [0.0017801627982407808, 0.00459070410579443, 0.0007116520428098738, 0.02404727414250374, 0.8801355361938477, 0.04309077560901642, 0.0029060763772577047, 0.04273787885904312], [0.010683231987059116, 0.015972688794136047, 0.006248875055462122, 0.020707497373223305, 0.008341583423316479, 0.0032651256769895554, 0.01542937196791172, 0.9193515777587891]], [[0.0003798716061282903, 0.0002787303819786757, 0.0025684128049761057, 0.00321221724152565, 0.00014627182099502534, 1.569911910337396e-05, 0.00042462634155526757, 0.9929741621017456], [2.0600213247234933e-05, 2.942263563454617e-06, 0.00020894179760944098, 0.00029305779025889933, 5.2647195843746886e-05, 9.713572808323079e-07, 0.0002952773938886821, 0.9991255402565002], [0.00017865460540633649, 0.0001857541938079521, 0.000564025598578155, 0.0003558684838935733, 0.00017037442012224346, 9.993474122893531e-06, 0.00037790334317833185, 0.9981574416160583], [0.0006629957933910191, 0.003416129620745778, 0.004968015477061272, 0.0007785689667798579, 0.0007752027013339102, 0.00012765899009536952, 0.0023116618394851685, 0.9869597554206848], [0.004032630007714033, 0.0026232916861772537, 0.010650565847754478, 0.8692615032196045, 0.015376048162579536, 0.0005816281773149967, 0.012464902363717556, 0.08500941097736359], [0.0034109822008758783, 0.0002745580568443984, 0.017466995865106583, 0.06837905943393707, 0.0031870531383901834, 8.109506597975269e-05, 0.010975182056427002, 0.8962250351905823], [0.00019627451547421515, 8.62337947182823e-06, 0.0001091591693693772, 0.008501366712152958, 0.0029931142926216125, 3.434187237871811e-05, 0.002024660352617502, 0.9861325025558472], [0.002955436473712325, 0.0011521747801452875, 0.0022025583311915398, 0.008108595386147499, 0.0009574482101015747, 0.0004947228007949889, 0.005437285173684359, 0.9786917567253113]], [[0.0005302916979417205, 0.0011316596064716578, 0.000817013205960393, 0.03804875910282135, 0.004785729106515646, 0.0016319769201800227, 0.028081009164452553, 0.9249735474586487], [4.500324939726852e-05, 3.67044958693441e-05, 1.3929289707448334e-05, 0.00038320093881338835, 0.0002562366134952754, 1.6697597402526299e-06, 0.0005452718469314277, 0.9987180233001709], [0.008738796226680279, 0.03841548413038254, 0.0001739167346386239, 0.010065571404993534, 0.0013988668797537684, 0.0007822313345968723, 0.003775622695684433, 0.9366495609283447], [0.0004150159365963191, 0.004809393547475338, 0.017624657601118088, 0.007801931817084551, 0.0006540556205436587, 0.0007718478445895016, 0.0008475117501802742, 0.9670755863189697], [0.0005609391373582184, 0.0006630216958001256, 0.0038137787487357855, 0.767711341381073, 0.00046034480328671634, 0.00011004845146089792, 0.00012251576117705554, 0.2265581339597702], [0.0013445599470287561, 0.0005285872030071914, 0.00017627129273023456, 0.05019907280802727, 0.20293530821800232, 0.0008245474891737103, 0.00040551929851062596, 0.7435861229896545], [0.0005943405558355153, 0.00012111898104194552, 1.0383241715317126e-05, 0.0005833393079228699, 0.017666414380073547, 0.007488436531275511, 0.011996161192655563, 0.9615398049354553], [0.00206906464882195, 0.003601018339395523, 0.006477865856140852, 0.01572818122804165, 0.003371207742020488, 0.0032223649322986603, 0.03283504396677017, 0.9326952695846558]]], [[[0.0007466618553735316, 0.0031739105470478535, 0.007324111182242632, 0.05035024136304855, 0.002268105512484908, 0.001387878553941846, 0.0047638132236897945, 0.9299853444099426], [0.026450462639331818, 0.008594051003456116, 0.021316876634955406, 0.015482286922633648, 0.0018038590205833316, 0.0005577680421993136, 0.01321166381239891, 0.9125829935073853], [0.03750893846154213, 0.027700260281562805, 0.02607872150838375, 0.01924358867108822, 0.00408645486459136, 0.0015044944593682885, 0.008097016252577305, 0.8757805824279785], [0.022729922086000443, 0.020133187994360924, 0.022922061383724213, 0.023202048614621162, 0.0037305394653230906, 0.0037009185180068016, 0.019344165921211243, 0.8842372298240662], [0.0802183598279953, 0.26623696088790894, 0.03886771947145462, 0.27661368250846863, 0.008549495600163937, 0.023985423147678375, 0.01360443513840437, 0.2919238805770874], [0.030334772542119026, 0.09333624690771103, 0.01465146616101265, 0.7113564014434814, 0.0031343456357717514, 0.005494541022926569, 0.0027133766561746597, 0.13897888362407684], [0.006509831175208092, 0.0016225653234869242, 0.006256047636270523, 0.18946325778961182, 0.0020703179761767387, 0.0009121338953264058, 0.010876301676034927, 0.7822895050048828], [0.0025196929927915335, 0.0013317713746801019, 0.0055209738202393055, 0.018296051770448685, 0.0019167433492839336, 0.00042975536780431867, 0.013838501647114754, 0.9561465382575989]], [[0.0014936100924387574, 0.02363271266222, 0.03467804938554764, 0.884977400302887, 0.02706173062324524, 0.0033942803274840117, 0.021535787731409073, 0.003226530272513628], [0.009663259610533714, 0.005159533582627773, 0.04143082723021507, 0.9008042216300964, 0.02080475352704525, 0.004372079391032457, 0.0031959284096956253, 0.014569367282092571], [0.019711628556251526, 0.0260346420109272, 0.04783855751156807, 0.5374986529350281, 0.07732674479484558, 0.011484724469482899, 0.009410795755684376, 0.2706943452358246], [0.003042933065444231, 0.008867665193974972, 0.009648717939853668, 0.03314056247472763, 0.04277313873171806, 0.04624547064304352, 0.12874524295330048, 0.7275362610816956], [0.0033593373373150826, 0.0014593449886888266, 0.08809464424848557, 0.049550630152225494, 0.006767264101654291, 0.0027025165036320686, 0.370012104511261, 0.47805407643318176], [0.0035625130403786898, 0.0004287601332180202, 0.026836160570383072, 0.3436238169670105, 0.001659524510614574, 0.000528586155269295, 0.08103283494710922, 0.5423278212547302], [0.0002681089681573212, 0.00022495409939438105, 0.00031609879806637764, 0.003692307509481907, 0.0005876182694919407, 0.00019332427473273128, 0.0032722826581448317, 0.9914453029632568], [0.0019329807255417109, 0.0008097828249447048, 0.0021355212666094303, 0.057692211121320724, 0.0029085546266287565, 0.000855264428537339, 0.011116552166640759, 0.9225491285324097]], [[0.0010446443920955062, 0.012946432456374168, 0.38677605986595154, 0.11168389022350311, 0.00293193687684834, 0.014764133840799332, 0.12610431015491486, 0.34374862909317017], [0.0013763838214799762, 0.00030427309684455395, 0.011340864934027195, 0.269032746553421, 0.0011999618727713823, 0.00012036581756547093, 0.004213521722704172, 0.7124118208885193], [0.0006457128911279142, 8.164985047187656e-05, 0.0012817931128665805, 0.27476316690444946, 0.0008637623395770788, 0.00040422246092930436, 0.007435594219714403, 0.7145240306854248], [0.0012475926196202636, 0.0008294281433336437, 0.0016442220658063889, 0.013450205326080322, 0.0066186049953103065, 0.01131821796298027, 0.007767462637275457, 0.9571242332458496], [0.0014429205330088735, 0.0007431457634083927, 0.0007500640349462628, 0.008679906837642193, 0.010789530351758003, 0.02686714194715023, 0.05120602995157242, 0.8995212912559509], [0.00354916974902153, 0.0005954096559435129, 0.006970817223191261, 0.09728699922561646, 0.025533027946949005, 0.00834529846906662, 0.23474015295505524, 0.6229791641235352], [8.823307871352881e-05, 0.00016347439668606967, 0.00014913271297700703, 0.010998470708727837, 0.0004987097927369177, 0.0012008657213300467, 0.01897146739065647, 0.9679296612739563], [0.0022789915092289448, 0.0021971941459923983, 0.004551280755549669, 0.03861452639102936, 0.006256069056689739, 0.008123518899083138, 0.032842494547367096, 0.9051359295845032]], [[0.003634363180026412, 0.0022709129843860865, 0.007228276692330837, 0.0032591724302619696, 0.0007069468265399337, 0.00024605405633337796, 0.04742097482085228, 0.9352332949638367], [0.00616871053352952, 0.001512982533313334, 0.0026616533286869526, 0.03715551644563675, 9.876710828393698e-05, 4.275630635675043e-05, 0.0048704855144023895, 0.9474890828132629], [0.0019115976756438613, 0.0014005019329488277, 0.010623588226735592, 0.006308278534561396, 0.0004170419997535646, 3.60050835297443e-05, 0.01976778730750084, 0.9595351815223694], [0.002967732958495617, 0.0005723076756112278, 0.0013043500948697329, 0.0016521167708560824, 0.000358332326868549, 8.027771400520578e-05, 0.0038940568920224905, 0.9891708493232727], [0.0008747591054998338, 0.00013516224862542003, 0.00030923960730433464, 0.25923895835876465, 0.010428431443870068, 0.00014859881775919348, 0.03750954568386078, 0.691355288028717], [0.0007232594070956111, 0.00020828550623264164, 0.0020762220956385136, 0.39204534888267517, 0.009189452975988388, 0.00010523121454752982, 0.051007356494665146, 0.544644832611084], [0.0005275274161249399, 0.00010315476538380608, 0.0004765102348756045, 0.015838846564292908, 0.0020156048703938723, 6.263566319830716e-05, 0.02480764128267765, 0.9561681151390076], [0.022959144786000252, 0.0020798598416149616, 0.00255564134567976, 0.00961832981556654, 0.0006177875911816955, 0.00029365080990828574, 0.02434445545077324, 0.9375311732292175]], [[0.003244642401114106, 0.0030610866378992796, 0.002172214677557349, 0.0025690682232379913, 0.003073647618293762, 0.01167986635118723, 0.002246304415166378, 0.9719531536102295], [0.0012299384688958526, 8.820278890198097e-05, 0.0001374561688862741, 0.0005307866376824677, 1.715707367111463e-05, 1.8382039570497e-06, 0.0018545392667874694, 0.9961400628089905], [0.10306470096111298, 0.05928703397512436, 0.002134663751348853, 0.003414720995351672, 0.011348970234394073, 0.01890098862349987, 0.001686182920821011, 0.8001627922058105], [0.0016575417248532176, 0.0035204237792640924, 0.08483655750751495, 0.011751432903110981, 2.387993663433008e-05, 4.467729013413191e-05, 0.007236497011035681, 0.8909289836883545], [0.0031181664671748877, 1.717944542178884e-05, 0.002055441029369831, 0.46344736218452454, 0.00254385476000607, 1.686256473476533e-05, 0.006014219019562006, 0.5227868556976318], [0.0052420273423194885, 1.004061778075993e-05, 2.9731470931437798e-05, 0.0992322638630867, 0.8619134426116943, 0.0001905771641759202, 0.0011589167406782508, 0.032222989946603775], [0.0036243340000510216, 0.00025469763204455376, 2.843142101482954e-05, 0.0013950151624158025, 0.05624762177467346, 0.0289927888661623, 0.012489908374845982, 0.8969672322273254], [0.002815418876707554, 0.0017074091592803597, 0.00849317479878664, 0.010451821610331535, 0.0024497320409864187, 0.0015612469287589192, 0.016455115750432014, 0.9560660719871521]], [[0.014533438719809055, 0.004577270243316889, 0.07285599410533905, 0.23703181743621826, 0.0034912116825580597, 0.0005696333828382194, 0.23527809977531433, 0.43166249990463257], [0.020291898399591446, 0.009861274622380733, 0.06183040887117386, 0.5604084730148315, 0.028248175978660583, 0.012719854712486267, 0.059763818979263306, 0.24687610566616058], [0.0019483098294585943, 0.0002442740951664746, 0.006230388768017292, 0.014727442525327206, 0.00033913293736986816, 0.000444666831754148, 0.08013544976711273, 0.895930290222168], [0.001751051051542163, 0.000557703198865056, 0.003292276058346033, 0.0071929944679141045, 0.0013295364333316684, 0.0014998737024143338, 0.03193154186010361, 0.9524450302124023], [0.001126558636315167, 0.00013026785745751113, 0.03765913471579552, 0.8153759241104126, 0.00025184228434227407, 2.7075000616605394e-05, 0.026154272258281708, 0.11927490681409836], [0.0001299604628002271, 2.010569369303994e-05, 0.03619547188282013, 0.9591965079307556, 4.0492406697012484e-05, 3.7062345654703677e-06, 0.002343791304156184, 0.0020699899177998304], [0.001283617108128965, 0.0002223542978754267, 0.011993622407317162, 0.05150775983929634, 4.248399272910319e-05, 5.644587508868426e-05, 0.009811059571802616, 0.9250826835632324], [0.00026641806471161544, 5.083039286546409e-05, 0.0007629913161508739, 0.006658108904957771, 1.924500429595355e-05, 2.0248011423973367e-05, 0.0028369321953505278, 0.9893853068351746]], [[0.0030147554352879524, 0.00044550903839990497, 0.0027833578642457724, 0.018982889130711555, 0.0009779295651242137, 0.0007008202956058085, 0.0197868961840868, 0.9533078670501709], [0.004664321430027485, 0.00028938704053871334, 0.01138235256075859, 0.05518892779946327, 0.003085379721596837, 0.0007517416379414499, 0.0007431688718497753, 0.9238947033882141], [0.0023461710661649704, 0.00016998458886519074, 0.0029301587492227554, 0.0104123679921031, 0.0002692805137485266, 0.00034339618287049234, 0.00225377781316638, 0.9812749028205872], [0.004031376913189888, 0.003286868566647172, 0.013259971514344215, 0.02117033675312996, 0.00626674247905612, 0.004210495389997959, 0.005553935654461384, 0.9422202706336975], [0.002312595024704933, 4.234710650052875e-05, 0.0016207039589062333, 0.04862821474671364, 0.010962205938994884, 0.00035102482070215046, 0.023461654782295227, 0.9126212000846863], [0.004797809757292271, 0.00010258677502861246, 0.015857024118304253, 0.017815645784139633, 0.01870640739798546, 0.007981345057487488, 0.02318059839308262, 0.9115586280822754], [0.00018809887114912271, 4.753487246489385e-06, 3.719744927366264e-05, 8.522737334715202e-05, 5.80589403398335e-06, 4.028154307889054e-06, 0.002465443452820182, 0.9972094893455505], [0.018297400325536728, 0.0014113986399024725, 0.0055770124308764935, 0.006527791265398264, 0.000594120123423636, 0.0006948329973965883, 0.02348906919360161, 0.9434083700180054]], [[0.006833448074758053, 0.0019762227311730385, 0.03475722298026085, 0.03559861704707146, 0.0011406394187361002, 0.00013030543050263077, 0.21749472618103027, 0.7020688652992249], [0.0017726542428135872, 0.0002909868198912591, 0.00016077482723630965, 0.0104509387165308, 0.00011859834921779111, 2.3391025024466217e-05, 0.005207423120737076, 0.981975257396698], [0.008632351644337177, 0.024057859554886818, 0.007515572477132082, 0.05446581169962883, 0.0009704618714749813, 0.0005413518520072103, 0.03352297097444534, 0.8702936172485352], [0.0007107146084308624, 0.0010504111414775252, 0.00043126201489940286, 0.008708721026778221, 3.053908949368633e-05, 8.294601866509765e-05, 0.003236409043893218, 0.9857490658760071], [0.0007565319538116455, 0.00024377299996558577, 5.291514389682561e-05, 0.030615171417593956, 0.0006241656956262887, 9.105491335503757e-05, 0.008562743663787842, 0.959053635597229], [0.02452700398862362, 0.000701459008269012, 0.005133486352860928, 0.3324893116950989, 0.025969307869672775, 0.0006601658533327281, 0.022064002230763435, 0.588455319404602], [0.006247619166970253, 0.0009078613948076963, 0.00393035588786006, 0.015330451540648937, 0.0023217799607664347, 0.0011392248561605811, 0.08476603031158447, 0.8853567242622375], [0.004190793260931969, 0.002851906232535839, 0.003391793929040432, 0.018357640132308006, 0.0006091410759836435, 0.001061845337972045, 0.019882289692759514, 0.9496546387672424]], [[0.016712430864572525, 0.007053997367620468, 0.024277128279209137, 0.0887068584561348, 0.0037255228962749243, 0.0005514867953024805, 0.02845587208867073, 0.8305166959762573], [0.3152161240577698, 0.04659441113471985, 0.008446157909929752, 0.12548373639583588, 0.00763229513540864, 0.00130281294696033, 0.03828777000308037, 0.4570367634296417], [0.012525192461907864, 0.002270487602800131, 0.019927578046917915, 0.7916041016578674, 0.02925242856144905, 0.0018559715244919062, 0.008140083402395248, 0.13442422449588776], [0.043361663818359375, 0.011969616636633873, 0.004736457020044327, 0.009745857678353786, 0.0008314584265463054, 0.00030836131190881133, 0.009691433049738407, 0.9193550944328308], [0.12759098410606384, 0.019021060317754745, 0.007886798121035099, 0.07025458663702011, 0.006216808222234249, 0.00026671684463508427, 0.017970839515328407, 0.7507922053337097], [0.2083836793899536, 0.025579562410712242, 0.005249478854238987, 0.04145359620451927, 0.018811004236340523, 0.0017644788604229689, 0.049491036683321, 0.6492672562599182], [0.0012634291779249907, 0.0005301854689605534, 0.001088038901798427, 0.006794746499508619, 0.0010952985612675548, 0.0002181593736167997, 0.020001767203211784, 0.9690084457397461], [0.006453933659940958, 0.0037004027981311083, 0.0028512408025562763, 0.013305185362696648, 0.0013605505228042603, 0.00040488626109436154, 0.03158428147435188, 0.9403395056724548]], [[0.00016556333866901696, 0.0003321845142636448, 0.0015877983532845974, 0.013562476262450218, 0.001395264407619834, 0.0002018759259954095, 0.0025220548268407583, 0.980232834815979], [0.0014809140702709556, 0.000888825161382556, 0.002811744809150696, 0.06455384939908981, 0.004445571452379227, 3.3643675124039873e-05, 0.0021864543668925762, 0.9235989451408386], [0.0009530400275252759, 0.028797607868909836, 0.0241710152477026, 0.006966856773942709, 0.006642916239798069, 0.0011099685216322541, 0.008389323949813843, 0.9229692220687866], [0.0016740631544962525, 0.002560592256486416, 0.00116721133235842, 0.0017695606220513582, 0.0003284446429461241, 0.00025827999343164265, 0.005654394160956144, 0.9865874648094177], [0.0025959634222090244, 0.00029722548788413405, 0.0015035428805276752, 0.8556246161460876, 0.03477101027965546, 0.0002262437337776646, 0.0032473213504999876, 0.1017339825630188], [0.00041079468792304397, 1.683475056779571e-05, 9.587693784851581e-05, 0.8048387169837952, 0.1940171867609024, 2.3452403183910064e-05, 8.31663710414432e-05, 0.0005139614804647863], [0.0018951635574921966, 0.00047793466364964843, 0.0019527433905750513, 0.17271508276462555, 0.7284379005432129, 0.005619076080620289, 0.007465230766683817, 0.08143682032823563], [0.0032306432258337736, 0.0024794519413262606, 0.007793731987476349, 0.022125866264104843, 0.0073859128169715405, 0.0015120204770937562, 0.013679958879947662, 0.9417924284934998]], [[0.0025207947473973036, 0.024170763790607452, 0.06125516816973686, 0.03791598230600357, 0.02350807376205921, 0.025583826005458832, 0.04903487116098404, 0.7760105133056641], [0.004274014383554459, 0.0007466919487342238, 0.8211122155189514, 0.04209129512310028, 0.0011213012039661407, 0.0007652986096218228, 0.04185393825173378, 0.08803536742925644], [0.00047417840687558055, 0.00012755098578054458, 0.0022735658567398787, 0.007013943511992693, 0.001416406244970858, 0.002000602427870035, 0.008232813328504562, 0.978460967540741], [0.00580578064545989, 0.002391120186075568, 0.033764589577913284, 0.026896627619862556, 0.029806114733219147, 0.05223061516880989, 0.21756277978420258, 0.6315423846244812], [0.0008325157104991376, 2.8566150831466075e-06, 0.005978199653327465, 0.0009329942404292524, 0.00017748447135090828, 0.00022193622135091573, 0.988450288772583, 0.003403658280149102], [0.0027996832504868507, 2.39664109358273e-06, 0.3128456473350525, 0.0030785356648266315, 4.8971436626743525e-05, 9.239993232768029e-06, 0.6625039577484131, 0.018711645156145096], [0.0002591665543150157, 2.749425038928166e-05, 0.00024225706874858588, 0.0011708615347743034, 0.00011184907634742558, 4.2578569264151156e-05, 0.027241021394729614, 0.9709048271179199], [0.005786158610135317, 0.0029293992556631565, 0.026218129321932793, 0.015223009511828423, 0.005560679826885462, 0.0041865636594593525, 0.07073912769556046, 0.8693569898605347]], [[0.008114008232951164, 0.006351047195494175, 0.0027218987233936787, 0.008671187795698643, 0.03951654210686684, 0.0319402813911438, 0.16147269308567047, 0.7412123084068298], [0.00031470879912376404, 0.00010364513582317159, 0.00014000174996908754, 0.001422080327756703, 4.440440170583315e-05, 6.415924872271717e-05, 0.0032534084748476744, 0.994657576084137], [0.0007397032459266484, 0.00490029389038682, 0.00842279102653265, 0.013316195458173752, 0.0001674405939411372, 0.0012132039992138743, 0.0038647267501801252, 0.9673756957054138], [0.002520326990634203, 0.023202382028102875, 0.009977259673178196, 0.09497188776731491, 0.0015159185277298093, 0.015589918941259384, 0.014575631357729435, 0.8376466035842896], [0.0006126906373538077, 9.948000661097467e-05, 0.004626347217708826, 0.05174614489078522, 0.0003964021452702582, 4.5922053686808795e-05, 0.007241280749440193, 0.9352317452430725], [0.0014825266553089023, 4.496115798247047e-05, 0.0014548299368470907, 0.0014237577561289072, 0.00036450280458666384, 0.00010883834329433739, 0.011217658407986164, 0.9839029312133789], [0.0010692395735532045, 0.00030818983213976026, 0.0010700883576646447, 0.0032768554519861937, 0.0003254497132729739, 0.002684933366253972, 0.016780145466327667, 0.9744850397109985], [0.001952740247361362, 0.0025599312502890825, 0.005986787378787994, 0.034322161227464676, 0.00120034150313586, 0.003062445903196931, 0.05681933835148811, 0.8940962553024292]]], [[[0.004839023109525442, 0.008393170312047005, 0.25086522102355957, 0.4945347011089325, 0.00030089460778981447, 1.6511872672708705e-05, 0.0851130560040474, 0.15593744814395905], [0.02686990238726139, 0.01401099655777216, 0.04971972852945328, 0.19703251123428345, 0.0029140810947865248, 0.0006528719677589834, 0.27782130241394043, 0.43097856640815735], [0.015308291651308537, 0.0013616702053695917, 0.033700522035360336, 0.020410070195794106, 0.00035428829141892493, 7.183895650086924e-05, 0.18132805824279785, 0.7474652528762817], [0.0552094466984272, 0.009626953862607479, 0.016219817101955414, 0.05534450337290764, 0.01033622957766056, 0.0025267640594393015, 0.23035220801830292, 0.6203840970993042], [0.00295728980563581, 0.0005325744277797639, 0.00579605670645833, 0.032797884196043015, 0.0023566836025565863, 0.00021811708575114608, 0.2161186933517456, 0.7392227649688721], [0.004111787769943476, 0.0024894201196730137, 0.024476099759340286, 0.11471482366323471, 0.0036630022805184126, 0.0010314994724467397, 0.3660137355327606, 0.4834997355937958], [0.0027274827007204294, 0.00021839076362084597, 0.0016463930951431394, 0.006895354483276606, 3.705096241901629e-05, 1.0103700333274901e-05, 0.048263996839523315, 0.9402012228965759], [0.01644827052950859, 0.005210663191974163, 0.020278368145227432, 0.053255096077919006, 0.0011256905272603035, 0.00032158021349459887, 0.1284591108560562, 0.7749012112617493]], [[0.020722119137644768, 0.025643624365329742, 0.037292756140232086, 0.45009613037109375, 0.013053799979388714, 0.002169799292460084, 0.0877072662115097, 0.36331456899642944], [0.030313409864902496, 0.0005231958348304033, 0.013642881065607071, 0.0037052195984870195, 0.0014121957356110215, 0.00021905403991695493, 0.17039090394973755, 0.7797930836677551], [0.03479525074362755, 0.005106331780552864, 0.024073299020528793, 0.03037966787815094, 0.004048154689371586, 0.0007411965052597225, 0.2340025007724762, 0.666853666305542], [0.03735113516449928, 0.00219392660073936, 0.03685895726084709, 0.010204113088548183, 0.008711754344403744, 0.0029522271361202, 0.32537636160850525, 0.5763515830039978], [0.017137089744210243, 0.0023510283790528774, 0.046893879771232605, 0.009454295970499516, 0.05588340386748314, 0.01041019894182682, 0.6087920665740967, 0.24907802045345306], [0.043783385306596756, 0.0018864813027903438, 0.04587841033935547, 0.007639739196747541, 0.03365004062652588, 0.006452781148254871, 0.5633746981620789, 0.2973344922065735], [0.015575048513710499, 0.008005005307495594, 0.027420394122600555, 0.021256599575281143, 0.007483588065952063, 0.005534426309168339, 0.26663562655448914, 0.6480892896652222], [0.02591685764491558, 0.010082048363983631, 0.029319290071725845, 0.028550157323479652, 0.004814851097762585, 0.002436659764498472, 0.10714185237884521, 0.7917382717132568]], [[0.00035887747071683407, 0.00018167131929658353, 0.001492730458267033, 0.002141515025869012, 1.830114342737943e-05, 3.0008977773832157e-06, 0.003393544815480709, 0.99241042137146], [0.000359054422006011, 0.00036689743865281343, 0.024993928149342537, 0.05671625956892967, 0.00010655286314431578, 2.7330520424584392e-06, 0.0022576169576495886, 0.9151968955993652], [5.658126246999018e-05, 1.360451165055565e-06, 3.428277705097571e-05, 0.0017324163345620036, 1.1711901493072219e-07, 4.262928232634522e-09, 8.067198359640315e-05, 0.9980946183204651], [0.015347082167863846, 0.009049366228282452, 0.0065477159805595875, 0.018780402839183807, 0.028869759291410446, 0.015129650942981243, 0.02829260751605034, 0.8779833912849426], [0.00015885145694483072, 0.0003974097780883312, 0.0001804966595955193, 0.00563234556466341, 0.0003697440552059561, 0.0014917285880073905, 0.009830500930547714, 0.981938898563385], [0.00030705935205332935, 0.00032967395964078605, 0.00395828764885664, 0.055770810693502426, 0.0009870765497907996, 0.0005178418359719217, 0.08065017312765121, 0.8574790954589844], [0.0001518583740107715, 2.983253034472e-05, 0.00013088289415463805, 0.0009778758976608515, 3.5379080145503394e-06, 1.1683907814585837e-06, 0.0026734774000942707, 0.9960313439369202], [0.020722832530736923, 0.005568521562963724, 0.014581501483917236, 0.050009869039058685, 0.003209601156413555, 0.0017050509341061115, 0.0633259266614914, 0.8408766984939575]], [[8.079810504568741e-05, 0.0001647844328545034, 0.0038042007945477962, 0.005124584771692753, 3.7404493923531845e-05, 3.748132257896941e-06, 0.021445579826831818, 0.9693388342857361], [0.002524635987356305, 0.0007471929420717061, 0.011527313850820065, 0.0062649971805512905, 0.00021040430874563754, 6.581552588613704e-05, 0.10099998861551285, 0.8776596784591675], [0.0003373114741407335, 0.0007985178381204605, 0.04365284740924835, 0.003946774639189243, 9.569488611305133e-05, 1.088167482521385e-05, 0.06869293004274368, 0.8824650645256042], [0.0017961404519155622, 0.0009043100872077048, 0.008932744152843952, 0.01773103140294552, 0.00035755123826675117, 6.819600093876943e-05, 0.07518621534109116, 0.8950238227844238], [0.0008818262140266597, 0.0003535581345204264, 0.008284777402877808, 0.01829679124057293, 0.0019823170732706785, 5.1874878408852965e-05, 0.03222327306866646, 0.9379256367683411], [0.00827592983841896, 0.0011033493792638183, 0.014579631388187408, 0.030541235581040382, 0.0021527744829654694, 0.0005095580127090216, 0.11608497053384781, 0.8267524838447571], [0.0011753906728699803, 0.0011122083524242043, 0.021610036492347717, 0.014482689090073109, 5.441501343739219e-05, 1.3472951650328469e-05, 0.06127148121595383, 0.9002803564071655], [0.002045303350314498, 0.0019257590174674988, 0.013727935962378979, 0.022128643468022346, 0.000322886771755293, 7.525804539909586e-05, 0.02590540237724781, 0.9338687658309937]], [[0.0006687919376417994, 0.00877538975328207, 0.07751930505037308, 0.25580281019210815, 0.0062385424971580505, 0.0010564849944785237, 0.013506032526493073, 0.6364327073097229], [0.03576619550585747, 0.012806967832148075, 0.1343860924243927, 0.1705959588289261, 0.4089091420173645, 0.013266951777040958, 0.04691721871495247, 0.17735154926776886], [0.005437192972749472, 0.0019112423760816455, 0.05737004056572914, 0.012402882799506187, 0.0006237223860807717, 6.15181343164295e-05, 0.00706928176805377, 0.9151241183280945], [0.0008860391099005938, 0.0003354917571414262, 0.005190017633140087, 0.001180675346404314, 5.3531319281319156e-05, 3.160370033583604e-05, 0.00653295312076807, 0.9857897162437439], [0.0009153805440291762, 0.0001721137814456597, 0.017640721052885056, 0.012924659997224808, 0.0005296960007399321, 4.029212868772447e-05, 0.026102939620614052, 0.9416741728782654], [0.008411484770476818, 0.002669587265700102, 0.07306069880723953, 0.10771074891090393, 0.019125381484627724, 0.0007225322187878191, 0.07781492918729782, 0.7104846835136414], [0.008658844977617264, 0.0006323031848296523, 0.013628993183374405, 0.010162700898945332, 4.5675162255065516e-05, 2.8844488042523153e-05, 0.030884340405464172, 0.9359583258628845], [0.0015756733482703567, 0.0012627368560060859, 0.010512973181903362, 0.02152714878320694, 0.0003755530924536288, 0.0001742946624290198, 0.027156958356499672, 0.9374146461486816]], [[0.0027270850259810686, 0.025925608351826668, 0.012330945581197739, 0.862165629863739, 0.0004939375212416053, 2.360763755859807e-05, 0.0064422087743878365, 0.08989087492227554], [0.007908494211733341, 0.02090698666870594, 0.03227284178137779, 0.5136858820915222, 0.0032862962689250708, 0.00013205540017224848, 0.004765703808516264, 0.4170418083667755], [0.002020068233832717, 0.0002490630140528083, 0.0011620338773354888, 0.023662623018026352, 0.000136180009576492, 6.1791829466528725e-06, 0.004273302387446165, 0.9684905409812927], [0.016895459964871407, 0.009455366991460323, 0.009008810855448246, 0.10079878568649292, 0.04795399680733681, 0.02866113930940628, 0.1506109982728958, 0.6366154551506042], [0.0008560367277823389, 0.0001941246446222067, 0.004055106546729803, 0.00802069716155529, 0.001051576342433691, 0.002722716424614191, 0.5218731760978699, 0.46122658252716064], [0.0022082487121224403, 0.001928722020238638, 0.048357684165239334, 0.10392436385154724, 0.0016971257282420993, 0.002306346083059907, 0.2712955176830292, 0.5682819485664368], [0.0010721692815423012, 0.0002148174389731139, 0.0015467099146917462, 0.007746271789073944, 3.3438911486882716e-05, 1.8492239178158343e-05, 0.02921469882130623, 0.9601534008979797], [0.012336920946836472, 0.006411820184439421, 0.011012463830411434, 0.09710141271352768, 0.0024785699788480997, 0.0007669517653994262, 0.062338851392269135, 0.8075529932975769]], [[4.7105757403187454e-05, 0.0002857884101103991, 0.0002267972013214603, 0.002833639271557331, 8.890896424418315e-05, 2.051927822321886e-06, 0.0032370220869779587, 0.9932786822319031], [0.000507374934386462, 0.0002871667384169996, 0.00042966348701156676, 0.006615381687879562, 0.0002776401524897665, 2.5303759230155265e-06, 0.0019104243256151676, 0.989969789981842], [0.0002107161417370662, 0.0003346478333696723, 0.0007003647624514997, 0.002578339073807001, 1.9740664356504567e-05, 1.4533750345435692e-06, 0.0020087717566639185, 0.9941459894180298], [0.00027041544672101736, 0.001676365383900702, 0.002305344445630908, 0.01065567322075367, 0.00018596250447444618, 4.417822492541745e-05, 0.0040342193096876144, 0.9808278679847717], [0.0017434516921639442, 0.00034498702734708786, 0.001916613895446062, 0.07688212394714355, 0.018671739846467972, 0.00010181665857089683, 0.02032139152288437, 0.8800178170204163], [0.0012534274719655514, 0.00014691503020003438, 0.0005966851022094488, 0.016157003119587898, 0.2830464541912079, 0.00023533670173492283, 0.01348357368260622, 0.6850805878639221], [0.0006525471108034253, 0.0001219914629473351, 0.0004531097656581551, 0.004998359829187393, 0.0012278532376512885, 3.501179162412882e-05, 0.018170462921261787, 0.9743406176567078], [0.002681664191186428, 0.0031472030095756054, 0.009433090686798096, 0.02936423197388649, 0.004046161659061909, 0.0004434212460182607, 0.03757108747959137, 0.9133131504058838]], [[0.0025811968371272087, 0.00042727074469439685, 0.024951381608843803, 0.08127883076667786, 0.014517501927912235, 0.00010165656567551196, 0.8027774095535278, 0.07336478680372238], [0.012231137603521347, 0.0016223916318267584, 0.026051761582493782, 0.14724621176719666, 0.3301381766796112, 0.015360181219875813, 0.23698581755161285, 0.23036442697048187], [0.011026804335415363, 0.0030994333792477846, 0.02744239754974842, 0.06996993720531464, 0.013156233355402946, 0.0016487943939864635, 0.14261648058891296, 0.7310399413108826], [0.004595576319843531, 0.002157667651772499, 0.012939057312905788, 0.04815782979130745, 0.006292155012488365, 0.0013150006998330355, 0.12398156523704529, 0.8005611300468445], [0.0046629528515040874, 0.0023845441173762083, 0.013111773878335953, 0.16910329461097717, 0.018064530566334724, 0.0011077590752393007, 0.05065980926156044, 0.7409053444862366], [0.007578402757644653, 0.0014223332982510328, 0.046473708003759384, 0.39843544363975525, 0.09869349002838135, 0.00316997361369431, 0.11574933677911758, 0.32847729325294495], [0.003090377664193511, 0.007112736813724041, 0.03325854614377022, 0.03409804031252861, 0.0004396035219542682, 0.0002563039306551218, 0.04254859685897827, 0.8791958689689636], [0.011480034328997135, 0.010709644295275211, 0.03890935704112053, 0.059932682663202286, 0.0031662823166698217, 0.0009884960018098354, 0.10496525466442108, 0.7698482275009155]], [[0.004287539515644312, 0.004064658656716347, 0.06505607813596725, 0.436193585395813, 0.007520601153373718, 0.0007065550307743251, 0.31666088104248047, 0.16551005840301514], [0.04531189054250717, 0.028314998373389244, 0.07450687140226364, 0.3811000883579254, 0.01154289860278368, 0.005028280895203352, 0.1192825436592102, 0.3349124491214752], [0.014429589733481407, 0.018592283129692078, 0.11071395128965378, 0.21475082635879517, 0.023008907213807106, 0.004311056341975927, 0.09010069817304611, 0.5240927338600159], [0.040888797491788864, 0.021995484828948975, 0.058390550315380096, 0.25041377544403076, 0.02452421374619007, 0.005366920027881861, 0.06514833122491837, 0.5332719087600708], [0.05805402621626854, 0.022427456453442574, 0.03344661369919777, 0.35244983434677124, 0.02257361263036728, 0.0073464736342430115, 0.03768600523471832, 0.46601602435112], [0.020446131005883217, 0.015042553655803204, 0.022620948031544685, 0.6638839840888977, 0.006972621660679579, 0.0023885557893663645, 0.04839989170432091, 0.22024527192115784], [0.0027856649830937386, 0.0022607308346778154, 0.028924455866217613, 0.09348150342702866, 0.0033318970818072557, 0.00033177962177433074, 0.031436748802661896, 0.8374471664428711], [0.001624400494620204, 0.0012016907567158341, 0.006865309551358223, 0.018823780119419098, 0.0010570064187049866, 0.00014016320346854627, 0.012262682430446148, 0.9580249190330505]], [[0.005098707042634487, 0.015919197350740433, 0.04657813906669617, 0.15352028608322144, 0.007840722799301147, 0.0024145955685526133, 0.15982647240161896, 0.6088019013404846], [0.14528150856494904, 0.006407449953258038, 0.05562666803598404, 0.39382728934288025, 0.34522467851638794, 0.009994459338486195, 0.014990882016718388, 0.02864706888794899], [0.04361938685178757, 0.002299496904015541, 0.05369776487350464, 0.45350679755210876, 0.12187833338975906, 0.0009071895619854331, 0.04191634804010391, 0.282174676656723], [0.034875694662332535, 0.009837023913860321, 0.031230930238962173, 0.02244957536458969, 0.007986597716808319, 0.00634755427017808, 0.26954472064971924, 0.6177279353141785], [0.029561521485447884, 0.000409148313337937, 0.012330465018749237, 0.11934353411197662, 0.012079569511115551, 0.001331188133917749, 0.19708044826984406, 0.6278641819953918], [0.043902408331632614, 0.0018343767151236534, 0.014980045147240162, 0.6467662453651428, 0.06744241714477539, 0.0027269674465060234, 0.08319192379713058, 0.13915562629699707], [0.0008075748919509351, 0.000171310908626765, 0.0016603658441454172, 0.007430571131408215, 7.683588046347722e-05, 2.3783970391377807e-05, 0.08746573328971863, 0.9023638367652893], [0.0032497907523065805, 0.002621689112856984, 0.013754189014434814, 0.047950878739356995, 0.0015155378496274352, 0.00039754659519530833, 0.04726544767618179, 0.8832449316978455]], [[6.651955482084304e-05, 0.0003564508515410125, 0.0037527892272919416, 0.01890525408089161, 1.4949574506317731e-05, 6.004768238199176e-07, 0.0012743648840114474, 0.9756290912628174], [0.0011475271312519908, 0.0029915969353169203, 0.02392444759607315, 0.2058764100074768, 0.0005611248197965324, 2.6710731617640704e-05, 0.02324051782488823, 0.7422316670417786], [0.00034270319156348705, 0.00021103626932017505, 0.011496078222990036, 0.007799520157277584, 2.5078834369196557e-05, 1.691642410150962e-06, 0.0053199040703475475, 0.9748039245605469], [0.0005544188315980136, 0.004504573997110128, 0.03468518331646919, 0.016172543168067932, 0.0002540952991694212, 5.079706170363352e-05, 0.027220584452152252, 0.916557788848877], [0.0016967195551842451, 0.008449205197393894, 0.43986502289772034, 0.08942372351884842, 0.0005860401433892548, 5.932683779974468e-05, 0.07001803070306778, 0.3899019658565521], [0.0017873256001621485, 0.0012399087427183986, 0.0049104769714176655, 0.4671958386898041, 0.0019465889781713486, 0.00012792993220500648, 0.11436331272125244, 0.4084286093711853], [4.548403012449853e-05, 4.340182931628078e-05, 0.0003836250107269734, 0.0034194665495306253, 1.4908512639522087e-05, 6.507806574518327e-06, 0.007502568885684013, 0.988584041595459], [0.0008827699930407107, 0.00405435124412179, 0.03127095848321915, 0.037909019738435745, 0.00047425535740330815, 0.00011710957187460735, 0.021233277395367622, 0.9040582180023193]], [[0.0067801158875226974, 0.001738469465635717, 0.0072145359590649605, 0.06363353878259659, 0.0002615730627439916, 2.078949910355732e-05, 0.022131921723484993, 0.8982190489768982], [0.0265740267932415, 0.008805527351796627, 0.004392063245177269, 0.23148852586746216, 0.000261776294792071, 0.00023264589253813028, 0.05015784874558449, 0.678087592124939], [0.019677678123116493, 0.010017642751336098, 0.018465248867869377, 0.06892123073339462, 0.0013114867033436894, 0.0011019648518413305, 0.1469525843858719, 0.7335522174835205], [0.005139451008290052, 0.0011158823035657406, 0.0038040284998714924, 0.008815091103315353, 0.00011328141408739612, 0.0003141418274026364, 0.05807308480143547, 0.9226250052452087], [0.007014498580247164, 0.0026849843561649323, 0.007372523657977581, 0.5453979969024658, 0.0017445412231609225, 0.00035300859599374235, 0.017473643645644188, 0.4179588556289673], [0.0021454221569001675, 0.0006409006891772151, 0.002516797510907054, 0.9015899896621704, 0.0020306319929659367, 4.654270742321387e-05, 0.0036507132463157177, 0.08737915754318237], [0.004017242696136236, 0.0027023169677704573, 0.019762124866247177, 0.10651586204767227, 0.0036449076142162085, 0.0002075788943329826, 0.04318016394972801, 0.8199698328971863], [0.0023630696814507246, 0.0017709048697724938, 0.010465064086019993, 0.0355435349047184, 0.001114302547648549, 0.0002752048894762993, 0.058214060962200165, 0.8902539014816284]]], [[[0.0436258427798748, 0.018219616264104843, 0.12466605752706528, 0.112128347158432, 0.05117645114660263, 0.0033547021448612213, 0.17242905497550964, 0.47439998388290405], [0.04119935259222984, 0.048448942601680756, 0.0705382227897644, 0.03999653458595276, 0.04666342958807945, 0.008540995419025421, 0.06780359894037247, 0.6768088936805725], [0.01019233651459217, 0.0014071728801354766, 0.05592827871441841, 0.04361002519726753, 0.00321412505581975, 0.00012919183063786477, 0.15861018002033234, 0.7269086241722107], [0.01915608160197735, 0.003540949895977974, 0.04446438327431679, 0.06441246718168259, 0.006757653784006834, 0.0005078897229395807, 0.14231818914413452, 0.7188424468040466], [0.038182906806468964, 0.011522263288497925, 0.03737456351518631, 0.0677497535943985, 0.07393547147512436, 0.0039474391378462315, 0.09420378506183624, 0.6730839014053345], [0.04158792272210121, 0.06500401347875595, 0.07311150431632996, 0.06379776448011398, 0.24089105427265167, 0.11208249628543854, 0.09296916425228119, 0.3105560839176178], [0.006862785201519728, 0.0004862585919909179, 0.029306329786777496, 0.04349417984485626, 0.0012249840656295419, 5.634958506561816e-05, 0.269457072019577, 0.6491119861602783], [0.012278587557375431, 0.003149508498609066, 0.09017492830753326, 0.08355095237493515, 0.0031559865456074476, 0.00032479927176609635, 0.25462275743484497, 0.5527425408363342]], [[0.056215204298496246, 0.042900558561086655, 0.23186546564102173, 0.23095737397670746, 0.020871184766292572, 0.007758860010653734, 0.19270476698875427, 0.216726616024971], [0.00035387612297199667, 6.659620765958607e-08, 0.9202088117599487, 0.0006941944011487067, 3.61770139534201e-06, 1.9284803087771252e-08, 0.06408443301916122, 0.014654941856861115], [0.005215385463088751, 0.00011126313620479777, 0.26128432154655457, 0.03235593065619469, 0.0006848496268503368, 2.288140240125358e-05, 0.2606610059738159, 0.439664363861084], [0.006559357512742281, 0.00018998798623215407, 0.30574411153793335, 0.029175283387303352, 0.001460612053051591, 6.065013803890906e-05, 0.4186657965183258, 0.23814420402050018], [0.0023706359788775444, 1.257561507372884e-06, 0.5517250299453735, 0.002728099701926112, 5.63711510039866e-05, 5.739250354963588e-06, 0.3602043688297272, 0.08290857076644897], [0.008556333370506763, 1.4770495226912317e-06, 0.6994484066963196, 0.001764759887009859, 3.526070941006765e-05, 1.5658533811802045e-05, 0.2160530686378479, 0.07412495464086533], [0.006045763846486807, 0.000593655975535512, 0.04855084791779518, 0.06410903483629227, 0.0014225057093426585, 8.480100950691849e-05, 0.21421068906784058, 0.6649827361106873], [0.008238088339567184, 0.0005610886728391051, 0.054780684411525726, 0.067209392786026, 0.001542996265925467, 7.441952038789168e-05, 0.2175120860338211, 0.650081217288971]], [[0.008215201087296009, 0.0007957760826684535, 0.07703354209661484, 0.49538472294807434, 0.008671509101986885, 1.8723250832408667e-05, 0.15672527253627777, 0.25315529108047485], [0.0005114785162732005, 2.438267301840824e-06, 0.0058655510656535625, 0.9028460383415222, 5.7888420997187495e-05, 5.503501654402498e-09, 0.03427289053797722, 0.05644353851675987], [0.013890814036130905, 0.001963962335139513, 0.06278545409440994, 0.3612433075904846, 0.008562183007597923, 6.261798262130469e-05, 0.19269533455371857, 0.3587963283061981], [0.053146082907915115, 0.0030625828076153994, 0.09138178080320358, 0.10948736220598221, 0.005116376560181379, 0.00013402433251030743, 0.15428857505321503, 0.5833832025527954], [0.008406744338572025, 0.00025862609618343413, 0.025893237441778183, 0.658610999584198, 0.0012216054601594806, 1.5504297152801882e-06, 0.08135250210762024, 0.22425468266010284], [7.049350097076967e-05, 4.87413842620299e-07, 0.001123785856179893, 0.9861623048782349, 1.202609928441234e-05, 3.18667148224705e-10, 0.004057419486343861, 0.008573492988944054], [0.025814931839704514, 0.012409660033881664, 0.10459012538194656, 0.47730767726898193, 0.01849277876317501, 0.0001999284722842276, 0.10713444650173187, 0.25405043363571167], [0.005101082380861044, 0.001735600526444614, 0.04758106544613838, 0.42986199259757996, 0.0037274500355124474, 3.366195596754551e-05, 0.11457761377096176, 0.3973814845085144]], [[0.0003177835023961961, 0.049351297318935394, 0.008329224772751331, 0.3723349869251251, 0.00028179577202536166, 2.4105074203362165e-07, 0.08080250024795532, 0.48858216404914856], [0.004122013226151466, 0.0003313056658953428, 0.005891833454370499, 0.18303413689136505, 0.0004955691983923316, 1.175827219412895e-05, 0.11778464913368225, 0.6883286833763123], [0.008905096910893917, 0.008635315112769604, 0.03521179407835007, 0.16920925676822662, 0.001929829828441143, 6.635735917370766e-05, 0.1298425793647766, 0.6461997628211975], [0.02375008352100849, 0.014536699280142784, 0.04869911074638367, 0.06255088001489639, 0.007706935051828623, 0.0010756680276244879, 0.09219244867563248, 0.7494882345199585], [0.0056809913367033005, 0.0004810814280062914, 0.011776339262723923, 0.3729250729084015, 0.0030339357908815145, 5.462391345645301e-05, 0.11042725294828415, 0.4956206679344177], [0.004261173773556948, 0.0001845536899054423, 0.009080196730792522, 0.29903411865234375, 0.008202839642763138, 0.0004214431974105537, 0.20445410907268524, 0.4743615686893463], [0.007428815122693777, 0.002906911075115204, 0.028568752110004425, 0.14582209289073944, 0.00497575243934989, 0.00018914845713879913, 0.1519920527935028, 0.6581164002418518], [0.021017299965023994, 0.003522500628605485, 0.039036404341459274, 0.05660835653543472, 0.00267887394875288, 0.0005447481526061893, 0.15073971450328827, 0.7258520722389221]], [[0.024392729625105858, 0.023951245471835136, 0.09596986323595047, 0.38066890835762024, 0.006136402953416109, 9.154385338661086e-07, 0.06453923135995865, 0.4043407738208771], [0.003830166533589363, 0.0006611556746065617, 0.012062456458806992, 0.9298504590988159, 0.0031369240023195744, 7.084061053319601e-07, 0.020085439085960388, 0.03037264011800289], [0.003848574822768569, 0.0001739095605444163, 0.03346521779894829, 0.18124954402446747, 0.000632568437140435, 1.834386011978495e-06, 0.14408303797245026, 0.6365453004837036], [0.007174600847065449, 0.00039924102020449936, 0.05644698068499565, 0.1610417366027832, 0.000437642855104059, 2.7347291506885085e-06, 0.13960440456867218, 0.6348926424980164], [0.0037448180373758078, 0.00023464023252017796, 0.010634238831698895, 0.8210242390632629, 0.001387479598633945, 4.970306690665893e-07, 0.04047936201095581, 0.12249475717544556], [0.0028944092337042093, 0.003984141629189253, 0.0043058558367192745, 0.9598399996757507, 0.020411932840943336, 1.3389885680226143e-05, 0.003327664453536272, 0.005222653970122337], [0.006934614386409521, 0.00045846079592593014, 0.033945683389902115, 0.23502135276794434, 0.0002325901441508904, 1.8940071413453552e-06, 0.08954929560422897, 0.6338560581207275], [0.002762667601928115, 8.270951366284862e-05, 0.02277214080095291, 0.04371152073144913, 0.00015230650024022907, 2.940051672339905e-06, 0.11067138612270355, 0.8198443651199341]], [[0.004922735504806042, 6.2206981965573505e-06, 0.016404496505856514, 0.019595006480813026, 6.279340595938265e-05, 3.345836603330099e-07, 0.3858014941215515, 0.5732069611549377], [0.004387171007692814, 1.1447576753198518e-06, 0.02631210908293724, 0.018849069252610207, 3.2039042707765475e-05, 1.9684672736275388e-07, 0.39182695746421814, 0.558591365814209], [0.0160286333411932, 0.0005920873372815549, 0.059512823820114136, 0.11206517368555069, 0.005246901419013739, 9.171429701382294e-05, 0.36185044050216675, 0.44461220502853394], [0.019309816882014275, 0.0020237015560269356, 0.10955067723989487, 0.15842805802822113, 0.012555671855807304, 0.00033691644784994423, 0.31410157680511475, 0.3836935758590698], [0.00544546777382493, 3.730804746737704e-05, 0.04974233731627464, 0.04373098909854889, 0.00025208908482454717, 5.328942279447801e-06, 0.3788793981075287, 0.5219070911407471], [0.0008852125611156225, 1.5461630198387866e-07, 0.01828511618077755, 0.005460834130644798, 2.732997472776333e-06, 1.8877102547776303e-08, 0.3746468722820282, 0.6007190346717834], [0.01355954259634018, 0.0022993420716375113, 0.12126277387142181, 0.20330403745174408, 0.010671011172235012, 0.0002717478491831571, 0.33861345052719116, 0.3100181221961975], [0.006103619001805782, 0.003376905107870698, 0.09322765469551086, 0.19636471569538116, 0.011533589102327824, 0.000337512930855155, 0.31014537811279297, 0.378910630941391]], [[0.0029525288846343756, 0.00015316451026592404, 0.00896555744111538, 0.021858027204871178, 0.0010318211279809475, 5.613483153865673e-06, 0.34911835193634033, 0.6159150004386902], [0.0009570496040396392, 7.393132818833692e-06, 0.013548056595027447, 0.005753867328166962, 1.2005486951238709e-06, 2.4104993556761656e-09, 0.11239957809448242, 0.8673328161239624], [0.0018084126058965921, 6.0655915149254724e-05, 0.017275061458349228, 0.011256824247539043, 5.0726575864246115e-05, 3.9730738876642135e-07, 0.13033175468444824, 0.8392162322998047], [0.005744084715843201, 0.00019639644597191364, 0.010524140670895576, 0.02756703458726406, 7.292494410648942e-05, 1.6894189229788026e-06, 0.09467356652021408, 0.861220121383667], [0.0013411690015345812, 8.769234227656852e-06, 0.00831058993935585, 0.012081611901521683, 1.987553696380928e-05, 6.145145903246885e-08, 0.1545940488576889, 0.8236438035964966], [0.0009995232103392482, 6.049615421943599e-06, 0.008351022377610207, 0.014919556677341461, 2.334102646273095e-05, 1.9355907454610133e-07, 0.25754234194755554, 0.7181580066680908], [0.004036248195916414, 0.00021773821208626032, 0.005173117388039827, 0.01336238905787468, 0.00024769280571490526, 1.1536731108208187e-05, 0.2317792773246765, 0.7451719641685486], [0.02963094599545002, 0.0028932043351233006, 0.02043762244284153, 0.03058617375791073, 0.0009215767495334148, 0.00021105665655341, 0.12196160852909088, 0.7933578491210938]], [[0.13076986372470856, 0.00035719783045351505, 0.09515633434057236, 0.16558313369750977, 0.00014869800361339003, 3.375837138719362e-07, 0.18240706622600555, 0.42557743191719055], [0.015624511055648327, 0.02722778357565403, 0.19385693967342377, 0.4469599723815918, 0.09631902724504471, 0.000900118553545326, 0.04306885227560997, 0.17604286968708038], [0.002330328105017543, 7.178586383815855e-05, 0.05965375900268555, 0.12079362571239471, 0.0003662437666207552, 1.063898935171892e-06, 0.216932475566864, 0.5998506546020508], [0.0068480754271149635, 0.0006417786935344338, 0.06412065029144287, 0.11561259627342224, 0.0019687737803906202, 2.112030597345438e-05, 0.22306281328201294, 0.5877241492271423], [0.002639920450747013, 0.0005043486598879099, 0.03773949295282364, 0.3736794590950012, 0.003162837354466319, 1.087046075554099e-05, 0.11194449663162231, 0.47031858563423157], [0.0014842042000964284, 8.678022277308628e-05, 0.07961081713438034, 0.4216395318508148, 0.001355598447844386, 2.3656082248635357e-06, 0.12090490758419037, 0.37491580843925476], [0.002348401816561818, 5.080884511698969e-05, 0.03224215656518936, 0.05726231262087822, 9.493347170064226e-05, 8.579559107602108e-07, 0.34026065468788147, 0.5677399039268494], [0.0011474669445306063, 3.214163371012546e-05, 0.021282415837049484, 0.03928133472800255, 0.00012411009811330587, 1.1990393886662787e-06, 0.21384987235069275, 0.7242814898490906]], [[0.00434821005910635, 0.010932372882962227, 0.06197202205657959, 0.6880993247032166, 0.019110282883048058, 0.00035496687632985413, 0.06873178482055664, 0.14645105600357056], [0.008271667174994946, 1.4311573977465741e-05, 0.017705585807561874, 0.01638629287481308, 7.167651347117499e-05, 1.941382379300194e-06, 0.036548782140016556, 0.9209997057914734], [0.012114325538277626, 0.0004807509249076247, 0.07806610316038132, 0.09766829758882523, 0.001655082916840911, 2.1466736143338494e-05, 0.1945612132549286, 0.6154327988624573], [0.022585878148674965, 0.0014072881313040853, 0.04628157615661621, 0.13812491297721863, 0.008176184259355068, 0.0004572382604237646, 0.13960257172584534, 0.6433643698692322], [0.0018160371109843254, 4.879358129983302e-06, 0.015210872516036034, 0.03115115314722061, 7.592765177832916e-05, 7.270205060194712e-07, 0.09800659120082855, 0.8537337779998779], [0.05058163031935692, 1.440148480469361e-05, 0.15728239715099335, 0.026218676939606667, 0.0004698687989730388, 0.00012220535427331924, 0.26566967368125916, 0.49964120984077454], [0.014740947633981705, 0.003667631885036826, 0.07548630237579346, 0.17868894338607788, 0.010746076703071594, 0.0003688206779770553, 0.33029991388320923, 0.3860014081001282], [0.22088134288787842, 0.10073012858629227, 0.12612281739711761, 0.12093105167150497, 0.08088810741901398, 0.042563170194625854, 0.13719576597213745, 0.17068761587142944]], [[0.002391670597717166, 0.0004714291135314852, 0.012342794798314571, 0.040579430758953094, 0.00042793844477273524, 7.42965676181484e-06, 0.07802613079547882, 0.865753173828125], [4.250523852533661e-05, 2.9138602258171886e-05, 0.00036352997994981706, 0.007671232335269451, 1.3797811334370635e-05, 1.1817379430567598e-07, 0.008551140315830708, 0.9833285808563232], [0.0031492584384977818, 0.004765975754708052, 0.02397250011563301, 0.07617849111557007, 0.0033708629198372364, 0.00013278624101076275, 0.07661478966474533, 0.8118153214454651], [0.0009113309788517654, 0.0023276489228010178, 0.016682785004377365, 0.04393547400832176, 0.0012853903463110328, 4.567415817291476e-05, 0.03642371669411659, 0.8983879685401917], [0.00045701672206632793, 0.0016491874121129513, 0.001880331663414836, 0.16344740986824036, 0.0036134279798716307, 0.00010329674842068925, 0.020605869591236115, 0.8082433938980103], [0.002136619994416833, 0.0019575695041567087, 0.00179261714220047, 0.13589437305927277, 0.005824317689985037, 0.0005481509724631906, 0.036425985395908356, 0.8154203295707703], [0.005225293338298798, 0.011346780695021152, 0.01803985983133316, 0.07167632132768631, 0.006494519766420126, 0.0006175576709210873, 0.06882232427597046, 0.8177773356437683], [0.00965181551873684, 0.010352695360779762, 0.029286038130521774, 0.11744551360607147, 0.006292435806244612, 0.000503610644955188, 0.08736961334943771, 0.7390983700752258]], [[0.07620778679847717, 0.005352940410375595, 0.12448273599147797, 0.07094340026378632, 0.00868028961122036, 0.0002915683726314455, 0.4901287257671356, 0.2239125818014145], [0.13921622931957245, 0.00012915980187244713, 0.09069924056529999, 0.004056439734995365, 0.5264877676963806, 0.007310973480343819, 0.2162233591079712, 0.01587686315178871], [0.07265335321426392, 0.006091657560318708, 0.11565931886434555, 0.09785173088312149, 0.04043281450867653, 0.0014585586031898856, 0.2744186222553253, 0.391433984041214], [0.17023664712905884, 0.0010439770994707942, 0.12375703454017639, 0.03589529171586037, 0.06564328074455261, 0.002057628007605672, 0.3659875988960266, 0.23537850379943848], [0.08559770882129669, 0.00014118332182988524, 0.10095418989658356, 0.02819308266043663, 0.035744618624448776, 0.00026321999030187726, 0.35615789890289307, 0.39294809103012085], [0.09419243782758713, 3.816129901679233e-05, 0.19076621532440186, 0.019802680239081383, 0.059480395168066025, 0.0001511616283096373, 0.464506059885025, 0.17106284201145172], [0.023588484153151512, 0.003305853111669421, 0.052440863102674484, 0.10936856269836426, 0.0029013303574174643, 0.0001183370768558234, 0.1304183304309845, 0.6778582334518433], [0.042958665639162064, 0.0026125803124159575, 0.06671334058046341, 0.11055707186460495, 0.007602408062666655, 0.00019059772603213787, 0.1793166846036911, 0.590048611164093]], [[0.02526528388261795, 0.0005049621686339378, 0.051802992820739746, 0.03379948437213898, 0.002309307223185897, 0.0002832602767739445, 0.391580194234848, 0.4944544732570648], [0.002504489151760936, 7.43863040497672e-07, 0.02015744335949421, 0.00747787207365036, 0.00016752266674302518, 6.3649858930148184e-06, 0.7888196110725403, 0.18086600303649902], [0.005942865274846554, 2.8434285923140123e-05, 0.016427792608737946, 0.01144014298915863, 0.0002651930844876915, 2.7740610676119104e-05, 0.4285556375980377, 0.5373121500015259], [0.024042071774601936, 0.0008540821727365255, 0.05304108187556267, 0.021727075800299644, 0.0031347093172371387, 0.000761684263125062, 0.43800127506256104, 0.4584380090236664], [0.0014374578604474664, 5.729903023166116e-07, 0.007912867702543736, 0.002904736204072833, 1.1386489859432913e-05, 4.848036496696295e-07, 0.5563441514968872, 0.43138834834098816], [0.0032990435138344765, 5.176512786420062e-06, 0.026131082326173782, 0.007016859017312527, 0.00014089436444919556, 3.996491614088882e-06, 0.6566271781921387, 0.3067757487297058], [0.03838924318552017, 0.0035072823520749807, 0.08259996771812439, 0.0369475781917572, 0.004309072159230709, 0.0016662743873894215, 0.1499655395746231, 0.6826150417327881], [0.10397463291883469, 0.05960550904273987, 0.14155802130699158, 0.1598013937473297, 0.07156995683908463, 0.0405954048037529, 0.18934044241905212, 0.2335546612739563]]], [[[5.514135636985884e-07, 6.914458339224439e-08, 0.00010415525321150199, 0.0009490048396401107, 3.650632436347223e-07, 1.3193951486911715e-09, 0.0007426845841109753, 0.9982031583786011], [0.004574997816234827, 0.004394218325614929, 0.11607788503170013, 0.6961617469787598, 0.004126510117202997, 1.2407588656060398e-05, 0.07790986448526382, 0.09674230217933655], [1.898209461614897e-06, 5.37376809717216e-09, 7.501985237468034e-05, 0.00020245318592060357, 8.341351076524006e-08, 1.1428065160856704e-09, 0.0010927775874733925, 0.998627781867981], [4.612389238900505e-05, 2.482399850123329e-07, 0.0006568312528543174, 0.0013245516456663609, 1.70127282217436e-06, 7.364803877862869e-08, 0.00620558625087142, 0.9917648434638977], [0.00014553900109604, 5.064434844825882e-07, 0.0031945551745593548, 0.008764035068452358, 4.304843514546519e-06, 3.906077594706403e-08, 0.020622385665774345, 0.9672685861587524], [0.003594053443521261, 0.020530156791210175, 0.11179594695568085, 0.7873339653015137, 0.013894148170948029, 2.7494032110553235e-05, 0.0422409288585186, 0.02058333531022072], [6.057852715457557e-06, 9.796089273095276e-08, 0.00017808610573410988, 0.00046156704775057733, 7.661681138415588e-07, 2.0585599003197785e-08, 0.002081750426441431, 0.9972715973854065], [0.0026012093294411898, 0.00031228523585014045, 0.011607656255364418, 0.012485395185649395, 0.000994145986624062, 0.0003188416885677725, 0.04017990827560425, 0.9315005540847778]], [[0.0005026145372539759, 4.145694219914731e-06, 0.0532757006585598, 0.051202502101659775, 2.509197838662658e-05, 1.071176211553393e-05, 0.8796030282974243, 0.015376169234514236], [0.0001264743332285434, 1.2221932593092788e-05, 0.01818268559873104, 0.02007230930030346, 6.874827522551641e-05, 2.756516096269479e-06, 0.21124376356601715, 0.7502910494804382], [3.591800577851245e-06, 6.124814149188751e-07, 0.0004283027083147317, 0.00041840545600280166, 2.3582194899063325e-06, 7.005287727679388e-08, 0.004861125256866217, 0.994285523891449], [7.63691969041247e-06, 1.0529790870350553e-06, 0.0006477587739937007, 0.001173251774162054, 5.3188446145213675e-06, 1.2094167800569267e-07, 0.008738025091588497, 0.989426851272583], [2.1325026864360552e-06, 6.044874112376419e-07, 0.0003451238153502345, 0.0005025594145990908, 4.159760919719702e-06, 6.67199131498819e-08, 0.006221371237188578, 0.9929239749908447], [5.842340033268556e-05, 4.279100721760187e-06, 0.01089380867779255, 0.015163918025791645, 2.9071061362628825e-05, 1.6492384702360141e-06, 0.1934286653995514, 0.780420184135437], [2.847533323802054e-05, 2.040570052486146e-06, 0.0021573631092906, 0.0022976284381002188, 1.0063003173854668e-05, 4.865721052738081e-07, 0.03596409037709236, 0.9595398306846619], [0.00024439714616164565, 2.890464566007722e-05, 0.003165419911965728, 0.0034730674233287573, 8.10976343927905e-05, 4.887865998171037e-06, 0.016709910705685616, 0.9762923121452332]], [[6.09450762567576e-06, 3.2752706147221033e-07, 0.00040077505400404334, 0.0012984269997105002, 1.6483985518789268e-06, 1.584917308505851e-09, 0.0014501806581392884, 0.9968425035476685], [7.856954766793933e-07, 3.251282620908569e-08, 2.8321126592345536e-05, 0.00012138004240114242, 1.4504647083413147e-07, 2.9815561131130153e-10, 0.00016852511907927692, 0.9996808767318726], [2.5376757548656315e-05, 2.684603487068671e-06, 0.0006329884636215866, 0.0017706890357658267, 8.422265636909287e-06, 5.802963798373639e-08, 0.0021501309238374233, 0.9954096674919128], [6.19643833488226e-05, 5.647527814289788e-06, 0.001030448474921286, 0.0025508147664368153, 2.0399182176333852e-05, 2.1619763401758973e-07, 0.0036972849629819393, 0.9926331639289856], [1.8606472167448374e-06, 1.1319990278479963e-07, 6.959524034755304e-05, 0.00028207749710418284, 6.459209771492169e-07, 2.2531754240162627e-09, 0.0003495702694635838, 0.9992960691452026], [3.248536017963488e-08, 7.208421637372453e-10, 1.7517403421152267e-06, 1.4254382222134154e-05, 7.675993174416362e-09, 6.160605445920675e-12, 1.7265412679989822e-05, 0.9999667406082153], [4.780425297212787e-05, 4.946159606333822e-06, 0.0008767282124608755, 0.0025440978351980448, 1.8974677004734986e-05, 1.606161816880558e-07, 0.0032927009742707014, 0.9932146072387695], [0.00041553378105163574, 0.0001280851720366627, 0.0031472870614379644, 0.006526102311909199, 0.00023685322958044708, 1.3202689842728432e-05, 0.006966544780880213, 0.9825663566589355]], [[0.0008938433020375669, 1.82573444362788e-06, 0.007779525127261877, 0.009229564107954502, 8.104456355795264e-06, 1.8641448207290523e-07, 0.04832660034298897, 0.9337603449821472], [0.00045130151556804776, 1.3603771549242083e-06, 0.0028407557401806116, 0.004476656671613455, 3.2481111702509224e-06, 4.5687545480177505e-07, 0.02972818911075592, 0.9624980092048645], [0.0008574071689508855, 4.3139811168657616e-05, 0.006242438219487667, 0.012846233323216438, 8.124695887090638e-05, 3.846215804514941e-06, 0.02390628680586815, 0.9560194611549377], [0.0022822769824415445, 0.00016354348917957395, 0.01045356597751379, 0.013659645803272724, 0.00023324201174546033, 3.1686187867308035e-05, 0.03296443074941635, 0.9402115345001221], [0.0003802696301136166, 5.290720309858443e-06, 0.0030611029360443354, 0.006784291006624699, 9.095820132642984e-06, 7.641021966264816e-07, 0.024540292099118233, 0.9652188420295715], [0.00016179101658053696, 1.8187883199516364e-07, 0.0018251793226227164, 0.006183170247823, 7.154648073992576e-07, 1.1736928762218213e-08, 0.030467545613646507, 0.9613614082336426], [0.003381559159606695, 0.00015500298468396068, 0.019818654283881187, 0.03020678646862507, 0.0003365975571796298, 1.4006791388965212e-05, 0.04847337678074837, 0.897614061832428], [0.08399792015552521, 0.02494671754539013, 0.15956468880176544, 0.19033478200435638, 0.03312483802437782, 0.00932319089770317, 0.20977656543254852, 0.288931280374527]], [[0.0016431468538939953, 0.00018852466018870473, 0.025376994162797928, 0.06245496869087219, 0.000677802599966526, 6.791947271267418e-06, 0.06267714500427246, 0.8469746708869934], [7.69730395404622e-05, 1.302242935707909e-07, 0.003089864505454898, 0.003129121847450733, 2.1083385490783257e-06, 2.862770021039296e-09, 0.008897146210074425, 0.984804630279541], [0.0005654820706695318, 6.490769465017365e-06, 0.006393440533429384, 0.011337644420564175, 4.7586840082658455e-05, 7.035393991827732e-07, 0.025291142985224724, 0.9563575387001038], [0.0008362305234186351, 4.222789812047267e-06, 0.008778732270002365, 0.012126567773520947, 3.127154559479095e-05, 4.093795666904043e-07, 0.029719239100813866, 0.948503315448761], [0.000301898893667385, 1.3255843214210472e-06, 0.0074701495468616486, 0.00968261156231165, 1.3258859326015227e-05, 5.919642376284173e-08, 0.02580743469297886, 0.9567232728004456], [1.677871659921948e-05, 7.024657833198944e-08, 0.001947401324287057, 0.002544057322666049, 1.5467062439711299e-06, 9.404541589930204e-10, 0.00419902428984642, 0.9912911653518677], [0.00033987784991040826, 1.2239523130119778e-05, 0.00646551139652729, 0.01653304509818554, 6.835009844508022e-05, 9.300400165557221e-07, 0.020212003961205482, 0.9563680291175842], [0.0005877119838260114, 8.775304013397545e-05, 0.009717077948153019, 0.018114807084202766, 0.0002681683108676225, 9.59563931246521e-06, 0.013450468890368938, 0.9577643871307373]], [[0.00012994158896617591, 3.45948756148573e-05, 0.00763242831453681, 0.045807912945747375, 0.0002512594510335475, 4.2113865106330195e-07, 0.016608361154794693, 0.9295350909233093], [7.504622772103176e-07, 1.1496349117123827e-07, 0.00037092872662469745, 0.003100260393694043, 2.640423417687998e-06, 2.332928850101723e-10, 0.0005989450146444142, 0.9959263801574707], [1.6155898265424185e-05, 5.236975084699225e-06, 0.003029066603630781, 0.011750287376344204, 5.476306250784546e-05, 3.084468858105538e-08, 0.0040421555750072, 0.9811022877693176], [1.2494857401179615e-05, 3.419107542868005e-06, 0.0018266196129843593, 0.014164640568196774, 4.725111648440361e-05, 2.364131113097301e-08, 0.0033974749967455864, 0.9805480241775513], [9.66102220445464e-07, 2.3555358552584948e-07, 0.0003501540923025459, 0.0021095487754791975, 6.917797691130545e-06, 1.1977185909728405e-09, 0.0007890216074883938, 0.9967431426048279], [9.225887254160625e-08, 1.1802220534207208e-08, 6.860600842628628e-05, 0.0005238305893726647, 4.7595418095625064e-07, 3.849893667751125e-11, 0.00016768326167948544, 0.9992393255233765], [3.4328993933741e-05, 1.072822942660423e-05, 0.0033523596357554197, 0.01371011883020401, 0.0001051371218636632, 1.2096990076315706e-07, 0.008443128317594528, 0.9743441343307495], [0.0003435957187321037, 0.00010085586836794391, 0.01076492853462696, 0.029028117656707764, 0.0006489671068266034, 3.284088052168954e-06, 0.018343131989240646, 0.9407671689987183]], [[6.8519284468493424e-06, 6.360119897408367e-08, 0.0010823991615325212, 0.0012960577150806785, 1.8149778497900115e-06, 5.04692954095276e-10, 0.004562494810670614, 0.9930503368377686], [2.0527993910945952e-05, 8.172801813088881e-08, 0.0011863448889926076, 0.0010835665743798018, 2.3344769033428747e-06, 7.682624536542448e-10, 0.006447216030210257, 0.9912599921226501], [2.5282361093559302e-06, 7.655196476719084e-09, 0.00018263680976815522, 0.0002684108621906489, 2.361370121661821e-07, 9.570381986900856e-11, 0.0015104009071364999, 0.998035728931427], [7.662626558158081e-06, 2.3166185414424945e-08, 0.0002886933507397771, 0.0004489929706323892, 5.655637664858659e-07, 4.160292388366571e-10, 0.0023982194252312183, 0.9968558549880981], [4.752714630740229e-06, 1.833752527602428e-08, 0.00042487832251936197, 0.0005464355926960707, 7.122076226551144e-07, 2.1571942843134906e-10, 0.0038851858116686344, 0.9951379895210266], [1.2862996300100349e-05, 1.1026157409332882e-07, 0.0012324710842221975, 0.0013452410930767655, 4.452125267562224e-06, 2.3303516893946608e-09, 0.006376408506184816, 0.9910284876823425], [4.54916562375729e-06, 2.741257532079544e-08, 0.00026044060359708965, 0.00047240679850801826, 6.948284863028675e-07, 6.225975845985943e-10, 0.001808843924663961, 0.9974530339241028], [7.592430483782664e-05, 2.330002189410152e-06, 0.000868570466991514, 0.001748478738591075, 1.5103361874935217e-05, 1.34683673991276e-07, 0.0028573486488312483, 0.9944321513175964]], [[0.01590927690267563, 3.199329148628749e-05, 0.0487118624150753, 0.023637453094124794, 0.00030344343394972384, 2.636726776472642e-06, 0.221538707613945, 0.6898646354675293], [0.4099346697330475, 0.08410871773958206, 0.1005372703075409, 0.029517609626054764, 0.03938540443778038, 0.07047933340072632, 0.1944090873003006, 0.07162794470787048], [0.0005903544370085001, 1.936692751769442e-05, 0.007872814312577248, 0.007611562497913837, 0.00011217310384381562, 1.1056195035052951e-06, 0.03386133909225464, 0.9499313235282898], [0.0007225840236060321, 0.00010522678348934278, 0.010610961355268955, 0.01016839686781168, 0.00033590832026675344, 1.0333258614991792e-05, 0.028540607541799545, 0.9495059847831726], [0.005014061462134123, 0.0005083269788883626, 0.023326920345425606, 0.017224736511707306, 0.000977164483629167, 5.133905870025046e-05, 0.08532174676656723, 0.8675757646560669], [0.43661487102508545, 0.03994686156511307, 0.12639985978603363, 0.03679703548550606, 0.03164111450314522, 0.008342523127794266, 0.26491445302963257, 0.0553433783352375], [0.0029059206135571003, 5.737757601309568e-05, 0.021525172516703606, 0.015427547506988049, 0.0003406296600587666, 5.290482022246579e-06, 0.06580179184675217, 0.8939362168312073], [0.0006985698128119111, 6.196039612405002e-05, 0.013439159840345383, 0.024862399324774742, 0.0003870774817187339, 5.661130217049504e-06, 0.03027890808880329, 0.930266261100769]], [[8.010919145817752e-07, 7.352207287425472e-09, 0.00021060463041067123, 0.0006396783282980323, 2.058834667195697e-07, 2.827310217543011e-12, 0.0003320294781588018, 0.998816728591919], [1.2308335499255918e-05, 1.685819057684057e-07, 0.0007566028507426381, 0.0015260938089340925, 1.8842944200514467e-06, 9.246026166920274e-11, 0.0005160262226127088, 0.9971869587898254], [9.373408829560503e-06, 3.7925795481896785e-07, 0.0005075777880847454, 0.0014751148410141468, 2.8293732157180784e-06, 1.158303897241808e-09, 0.0008843879913911223, 0.9971203804016113], [6.751531327608973e-05, 5.5793861974962056e-06, 0.0015395692316815257, 0.00472387857735157, 2.5943005312001333e-05, 4.42645067266767e-08, 0.002734061097726226, 0.9909034371376038], [8.335478014487308e-06, 2.0891891949759156e-07, 0.0005102180875837803, 0.0012697401689365506, 1.6712375554561731e-06, 2.6590510349144836e-10, 0.0006363801076076925, 0.9975734353065491], [1.5053761899253004e-06, 1.183017506178885e-08, 0.00013061249046586454, 0.000393949041608721, 2.280035715784834e-07, 1.0991934792925484e-11, 0.00012134652206441388, 0.9993523955345154], [3.509820453473367e-05, 8.94903337211872e-07, 0.0011483639245852828, 0.003362881951034069, 9.547575245960616e-06, 6.431151611252517e-09, 0.0030078082345426083, 0.9924353957176208], [0.0029614646919071674, 0.0015047398628666997, 0.026868652552366257, 0.057928405702114105, 0.0038773072883486748, 0.00014186617045197636, 0.03157102316617966, 0.8751465678215027]], [[8.910261417582888e-10, 2.0242194032071836e-10, 2.8477768410084536e-06, 1.2694024007942062e-05, 2.1244097592187927e-09, 1.4015534338576024e-13, 5.642603355227038e-05, 0.9999279975891113], [6.767927329676127e-10, 1.1841797542544441e-09, 2.0439488253032323e-06, 2.5414525225642137e-05, 7.822776204591264e-09, 6.961131432565992e-13, 4.2126208427362144e-05, 0.9999303817749023], [1.1201027660945329e-08, 7.2399313211235494e-09, 1.7072468835976906e-05, 5.614940164377913e-05, 4.788655516563267e-08, 1.3405163264146314e-11, 0.00019926750974263996, 0.9997274279594421], [4.845446355261629e-08, 2.982541147389384e-08, 3.307238148408942e-05, 0.0002881650871131569, 1.6654706769259064e-07, 9.680112961207854e-11, 0.00036254312726669014, 0.9993159770965576], [2.0046717619237597e-09, 2.817646782560246e-09, 3.258666311012348e-06, 2.8182412279420532e-05, 3.608807119803714e-08, 4.893353083845753e-12, 6.493484397651628e-05, 0.9999035596847534], [1.784812853067308e-10, 2.4654833730153314e-10, 3.739002636393707e-07, 6.542211849591695e-06, 2.760953909941577e-09, 3.9810391311637106e-13, 1.4387959708983544e-05, 0.9999786615371704], [3.31918279528054e-08, 2.1021930862730187e-08, 2.917689380410593e-05, 0.0001013650035019964, 1.510709211061112e-07, 1.1271463623563349e-10, 0.0004866211675107479, 0.9993826150894165], [8.79443086887477e-06, 1.2862389667134266e-05, 0.0007664448930881917, 0.0019891266711056232, 4.050838833791204e-05, 4.7039242190294317e-07, 0.0036014069337397814, 0.9935803413391113]], [[0.0008440289529971778, 2.361156020924682e-06, 0.14365117251873016, 0.09461211413145065, 0.00024068511265795678, 2.058008448102555e-07, 0.14541642367839813, 0.6152329444885254], [0.028108613565564156, 1.2598086868820246e-05, 0.0774199366569519, 0.08110743761062622, 0.0002714086731430143, 5.294266429700656e-06, 0.42635369300842285, 0.38672104477882385], [0.011099127121269703, 1.4185264262778219e-05, 0.13130226731300354, 0.07086363434791565, 0.0003472845710348338, 3.926249064534204e-06, 0.5312314033508301, 0.25513821840286255], [0.027662398293614388, 3.570124681573361e-05, 0.0633210837841034, 0.10283313691616058, 0.0007267280598171055, 3.759819082915783e-05, 0.5860337018966675, 0.2193496972322464], [0.021445510908961296, 6.478062914538896e-06, 0.05879581719636917, 0.059993401169776917, 0.00028257464873604476, 6.2569060901296325e-06, 0.44409114122390747, 0.41537877917289734], [0.011085102334618568, 9.162376954918727e-06, 0.08178418129682541, 0.06437607109546661, 0.0005098916008137167, 1.751064155541826e-05, 0.19648477435112, 0.6457333564758301], [0.010070210322737694, 8.127514593070373e-05, 0.13687996566295624, 0.11945699900388718, 0.0014307004166767001, 2.1407604435808025e-05, 0.3742736279964447, 0.35778576135635376], [0.050215717405080795, 0.020122380927205086, 0.1735938936471939, 0.16709798574447632, 0.03226461261510849, 0.006840674672275782, 0.1696764975786209, 0.3801882863044739]], [[0.0003822151629719883, 2.4839047910063528e-05, 0.009190067648887634, 0.044318459928035736, 0.00012441337457858026, 5.84420320137724e-07, 0.034366071224212646, 0.9115933775901794], [0.0011347136460244656, 0.00031088097603060305, 0.043652258813381195, 0.20295177400112152, 0.0006778935785405338, 3.6125850328971865e-06, 0.05727527663111687, 0.6939935684204102], [0.00017722274060361087, 1.5867468391661532e-05, 0.005218550097197294, 0.015633277595043182, 5.441705070552416e-05, 3.710010787472129e-07, 0.011868798173964024, 0.9670315384864807], [0.0002218273439211771, 2.2870055545354262e-05, 0.007137218024581671, 0.014855215325951576, 6.668994319625199e-05, 7.93035837887146e-07, 0.01503106951713562, 0.9626643657684326], [0.0001540144148748368, 9.491209311818238e-06, 0.005687098018825054, 0.02003132738173008, 3.201429717591964e-05, 1.4928221503396344e-07, 0.013686704449355602, 0.9603992104530334], [0.00035531437606550753, 1.199164216814097e-05, 0.010095112025737762, 0.037244413048028946, 6.394527008524165e-05, 8.948613583470433e-08, 0.019928310066461563, 0.932300865650177], [0.0004315707483328879, 1.4042949260328896e-05, 0.0051354533061385155, 0.013876842334866524, 5.5749707826180384e-05, 4.1812177187239286e-07, 0.013097485527396202, 0.967388391494751], [0.013719972223043442, 0.0008543189615011215, 0.02276550605893135, 0.031167156994342804, 0.0017220183508470654, 0.00010607706644805148, 0.04092349112033844, 0.8887414336204529]]], [[[0.1853177845478058, 0.006214981898665428, 0.1538943201303482, 0.10231571644544601, 0.013176512904465199, 0.004735685884952545, 0.39155933260917664, 0.1427856981754303], [0.19760657846927643, 0.011892711743712425, 0.18037332594394684, 0.12499464303255081, 0.0217891912907362, 0.00695141963660717, 0.3075687289237976, 0.14882338047027588], [0.1463574916124344, 0.014003042131662369, 0.172826886177063, 0.12585215270519257, 0.02259208634495735, 0.008593703620135784, 0.2833356261253357, 0.2264389991760254], [0.15569888055324554, 0.015207643620669842, 0.1723933219909668, 0.1252153217792511, 0.023969214409589767, 0.009687231853604317, 0.28150174021720886, 0.21632659435272217], [0.16427397727966309, 0.013343716971576214, 0.17902156710624695, 0.11966873705387115, 0.02149694226682186, 0.008454887196421623, 0.2925778329372406, 0.20116229355335236], [0.18166354298591614, 0.012561109848320484, 0.20142146944999695, 0.1381598562002182, 0.025439120829105377, 0.005985939409583807, 0.3043955862522125, 0.13037343323230743], [0.13896343111991882, 0.015528342686593533, 0.17415301501750946, 0.12715019285678864, 0.02482941374182701, 0.009664333425462246, 0.2842770516872406, 0.22543427348136902], [0.12376050651073456, 0.011190610937774181, 0.18427824974060059, 0.1438741832971573, 0.018358634784817696, 0.004760982934385538, 0.2665729224681854, 0.24720396101474762]], [[0.14481250941753387, 0.0005999688873998821, 0.13454608619213104, 0.0443401038646698, 0.004281285218894482, 0.000715807662345469, 0.6465436220169067, 0.024160604923963547], [0.18100161850452423, 0.0009615854360163212, 0.15024612843990326, 0.056195493787527084, 0.0062213921919465065, 0.0010543384123593569, 0.5095135569572449, 0.09480593353509903], [0.1166779026389122, 0.010315452702343464, 0.19020523130893707, 0.1271640658378601, 0.030282549560070038, 0.008610640652477741, 0.3800812065601349, 0.13666293025016785], [0.11770568042993546, 0.011071369051933289, 0.17856721580028534, 0.12262146174907684, 0.030088869854807854, 0.009067034348845482, 0.35263341665267944, 0.17824497818946838], [0.15009988844394684, 0.0027802372351288795, 0.17538651823997498, 0.07749354094266891, 0.012195751070976257, 0.0028858575969934464, 0.45581868290901184, 0.12333954870700836], [0.17864733934402466, 0.000464115320937708, 0.15474222600460052, 0.045446332544088364, 0.0040903836488723755, 0.0005144439055584371, 0.544286847114563, 0.07180825620889664], [0.11282282322645187, 0.011007742956280708, 0.18032710254192352, 0.1273230016231537, 0.03160387650132179, 0.00984849315136671, 0.37218549847602844, 0.15488150715827942], [0.053301744163036346, 0.029358698055148125, 0.12129954993724823, 0.13014797866344452, 0.04975925385951996, 0.020575322210788727, 0.15604248642921448, 0.4395149052143097]], [[0.033615592867136, 0.1878342181444168, 0.13474655151367188, 0.3276592791080475, 0.19898098707199097, 0.015217338688671589, 0.07302258908748627, 0.02892345003783703], [0.0430835485458374, 0.2131371796131134, 0.10662422329187393, 0.2008950412273407, 0.28212082386016846, 0.0639185905456543, 0.06647525727748871, 0.023745322600007057], [0.058894071727991104, 0.13388603925704956, 0.1503334641456604, 0.21913012862205505, 0.1471431702375412, 0.04438977688550949, 0.1271851360797882, 0.11903825402259827], [0.07022443413734436, 0.15069010853767395, 0.1318400651216507, 0.19193802773952484, 0.1714657098054886, 0.07005221396684647, 0.11498159170150757, 0.09880790114402771], [0.059672459959983826, 0.18717989325523376, 0.11190379410982132, 0.1755305975675583, 0.24141982197761536, 0.09274344146251678, 0.08671945333480835, 0.044830452650785446], [0.06828674674034119, 0.17823104560375214, 0.12765705585479736, 0.22108380496501923, 0.25212863087654114, 0.04667331278324127, 0.08376948535442352, 0.02216995507478714], [0.08569473773241043, 0.13084480166435242, 0.1580115109682083, 0.21838344633579254, 0.13712750375270844, 0.04124779254198074, 0.1326262354850769, 0.09606397897005081], [0.0748836100101471, 0.08819092810153961, 0.13434995710849762, 0.16241715848445892, 0.06951881945133209, 0.03792651742696762, 0.15716369450092316, 0.2755492627620697]], [[0.04424804076552391, 0.18629445135593414, 0.1458425521850586, 0.23407545685768127, 0.2254864126443863, 0.04208604246377945, 0.09440360218286514, 0.027563447132706642], [0.04388835281133652, 0.10917709022760391, 0.18819715082645416, 0.2514762580394745, 0.15065787732601166, 0.02968323603272438, 0.12108390033245087, 0.10583613067865372], [0.046040017157793045, 0.05191206932067871, 0.1440098136663437, 0.1720883548259735, 0.06271219253540039, 0.020980950444936752, 0.15845152735710144, 0.34380507469177246], [0.04190785810351372, 0.043083470314741135, 0.13276080787181854, 0.16221068799495697, 0.05574289709329605, 0.01966601237654686, 0.1568044275045395, 0.38782384991645813], [0.0399523563683033, 0.06293296068906784, 0.16618932783603668, 0.2064511477947235, 0.08596440404653549, 0.0234176404774189, 0.15323776006698608, 0.26185452938079834], [0.03345107287168503, 0.0800650492310524, 0.1991577446460724, 0.28807857632637024, 0.11739162355661392, 0.016235174611210823, 0.12885873019695282, 0.1367620825767517], [0.04833047091960907, 0.05278772488236427, 0.14182552695274353, 0.1925715208053589, 0.06513430923223495, 0.020222852006554604, 0.1763642132282257, 0.3027633726596832], [0.029355041682720184, 0.015420659445226192, 0.08034518361091614, 0.08954762667417526, 0.018315555527806282, 0.0065831951797008514, 0.11016429215669632, 0.6502683758735657]], [[0.03731006011366844, 0.1194034069776535, 0.19079706072807312, 0.37539446353912354, 0.1119091808795929, 0.015655750408768654, 0.12501376867294312, 0.024516308680176735], [0.13112078607082367, 0.08613850176334381, 0.21670903265476227, 0.22809998691082, 0.08145581930875778, 0.02182256616652012, 0.18424898386001587, 0.050404246896505356], [0.07045479118824005, 0.061243150383234024, 0.21100352704524994, 0.2711321711540222, 0.06970646977424622, 0.016821954399347305, 0.20372048020362854, 0.09591741114854813], [0.08285544812679291, 0.06326419115066528, 0.2043663114309311, 0.24297700822353363, 0.07023690640926361, 0.020589400082826614, 0.20428620278835297, 0.11142455041408539], [0.09874584525823593, 0.07495661824941635, 0.21899010241031647, 0.24500209093093872, 0.07580068707466125, 0.02084834687411785, 0.19020715355873108, 0.07544912397861481], [0.14455479383468628, 0.07153941690921783, 0.2317645251750946, 0.23482243716716766, 0.07531826198101044, 0.01766400784254074, 0.18334223330020905, 0.040994368493556976], [0.06866390258073807, 0.07158100605010986, 0.20251959562301636, 0.27773424983024597, 0.07944435626268387, 0.01906318962574005, 0.18872950971126556, 0.09226412326097488], [0.10242906957864761, 0.03649342432618141, 0.18105532228946686, 0.19922266900539398, 0.04868464544415474, 0.013612526468932629, 0.20381423830986023, 0.21468810737133026]], [[0.04249531030654907, 0.006313994061201811, 0.2501004636287689, 0.1958107203245163, 0.015612686984241009, 0.0010972525924444199, 0.34638673067092896, 0.142182856798172], [0.11716431379318237, 0.012072117067873478, 0.21901686489582062, 0.15304741263389587, 0.023017577826976776, 0.0033172923140227795, 0.26634320616722107, 0.206021249294281], [0.047187257558107376, 0.006007627584040165, 0.15973211824893951, 0.11971800774335861, 0.010390717536211014, 0.0020470188464969397, 0.28706735372543335, 0.36784985661506653], [0.06826189160346985, 0.009781718254089355, 0.16336628794670105, 0.14193926751613617, 0.015646368265151978, 0.0035635698586702347, 0.28060415387153625, 0.31683671474456787], [0.07160800695419312, 0.00958478357642889, 0.18085159361362457, 0.12669916450977325, 0.015472198836505413, 0.0030668657273054123, 0.25404682755470276, 0.33867064118385315], [0.09447365999221802, 0.009173939935863018, 0.23615802824497223, 0.1515500843524933, 0.0192627664655447, 0.0024753829929977655, 0.2853047549724579, 0.20160138607025146], [0.04180679842829704, 0.007450073957443237, 0.16189506649971008, 0.1347871869802475, 0.01205558329820633, 0.0027178556192666292, 0.29912102222442627, 0.3401663899421692], [0.03800471872091293, 0.014141758903861046, 0.10636238753795624, 0.10108762979507446, 0.018729882314801216, 0.0083711426705122, 0.18436840176582336, 0.5289340615272522]], [[0.2394244223833084, 0.005131339654326439, 0.18313072621822357, 0.09896053373813629, 0.013340339064598083, 0.007625266443938017, 0.4199029505252838, 0.03248438984155655], [0.29231956601142883, 0.004620163701474667, 0.17243991792201996, 0.09795349091291428, 0.007755836937576532, 0.0036162612959742546, 0.35937461256980896, 0.06192009523510933], [0.2459648847579956, 0.009022559970617294, 0.17247430980205536, 0.11722392588853836, 0.01498363260179758, 0.006959236226975918, 0.3526597321033478, 0.08071180433034897], [0.22780996561050415, 0.009701056405901909, 0.16635452210903168, 0.11962326616048813, 0.015011613257229328, 0.007521398831158876, 0.3448379933834076, 0.10914020240306854], [0.2792399823665619, 0.006438061129301786, 0.17171065509319305, 0.10763714462518692, 0.009589248336851597, 0.0046988436952233315, 0.343066543340683, 0.07761948555707932], [0.2882053852081299, 0.006100344005972147, 0.16514712572097778, 0.10604941844940186, 0.009366726502776146, 0.004300231114029884, 0.3289441764354706, 0.09188658744096756], [0.19899553060531616, 0.019397124648094177, 0.17334742844104767, 0.13455016911029816, 0.028271378949284554, 0.01684492826461792, 0.3114893436431885, 0.1171041801571846], [0.08258100599050522, 0.03560655936598778, 0.09690525382757187, 0.10380096733570099, 0.025894254446029663, 0.019233962520956993, 0.15613974630832672, 0.4798383116722107]], [[2.232064798590727e-05, 0.001000722753815353, 0.0003355553199071437, 0.0005448457668535411, 9.806002708501182e-06, 0.000766562472563237, 0.0012675850884988904, 0.996052622795105], [0.004398430697619915, 0.05367714911699295, 0.007632572669535875, 0.010511966422200203, 0.0015456696273759007, 0.08506012707948685, 0.014117332175374031, 0.823056697845459], [0.0003400231071282178, 0.0037993632722646, 0.0025888511445373297, 0.0038053703028708696, 0.00023947478621266782, 0.002312538679689169, 0.006640919484198093, 0.9802734851837158], [0.0011176071129739285, 0.009039470925927162, 0.005115734413266182, 0.007601155899465084, 0.0007430175319314003, 0.007101433351635933, 0.012041476555168629, 0.957240104675293], [0.0011807916453108191, 0.0151545824483037, 0.005041218362748623, 0.008064511232078075, 0.0010605179704725742, 0.012777116149663925, 0.010856027714908123, 0.9458652138710022], [0.005929070059210062, 0.08118046075105667, 0.00728533836081624, 0.010269379243254662, 0.0015330052701756358, 0.18117524683475494, 0.013573741540312767, 0.6990537643432617], [0.0007470294367522001, 0.005630794912576675, 0.004390816204249859, 0.006121900398284197, 0.0004647873865906149, 0.0038117559161037207, 0.010988264344632626, 0.9678446650505066], [0.0029419686179608107, 0.018975988030433655, 0.010259709320962429, 0.01404726505279541, 0.0026138650719076395, 0.01519770547747612, 0.018953219056129456, 0.9170102477073669]], [[0.0712180882692337, 0.0014368799747899175, 0.12216052412986755, 0.07431106269359589, 0.002283072331920266, 0.0008887678268365562, 0.4380333721637726, 0.2896682024002075], [0.1646680235862732, 0.054322440177202225, 0.18748511373996735, 0.17608316242694855, 0.09203093498945236, 0.03824865072965622, 0.20128460228443146, 0.08587709814310074], [0.09862837195396423, 0.01103951595723629, 0.19783689081668854, 0.14166459441184998, 0.01691499911248684, 0.006315434817224741, 0.32928624749183655, 0.198313906788826], [0.11441589891910553, 0.020605944097042084, 0.18917453289031982, 0.18312852084636688, 0.030975481495261192, 0.012202841229736805, 0.28193506598472595, 0.16756166517734528], [0.14011205732822418, 0.07118190824985504, 0.16377508640289307, 0.18011900782585144, 0.11967373639345169, 0.0585981048643589, 0.18308371305465698, 0.08345638960599899], [0.1547335386276245, 0.0485929511487484, 0.1914161741733551, 0.17245705425739288, 0.10162344574928284, 0.04557245224714279, 0.2164188176393509, 0.06918548792600632], [0.09564034640789032, 0.009955302812159061, 0.1758260577917099, 0.13160492479801178, 0.014939894899725914, 0.006104662083089352, 0.36208394169807434, 0.2038448452949524], [0.05838291719555855, 0.014051013626158237, 0.16147978603839874, 0.12647253274917603, 0.019245753064751625, 0.006976066157221794, 0.2988733947277069, 0.3145185708999634]], [[0.1251806765794754, 0.10889393836259842, 0.1758885532617569, 0.16816477477550507, 0.11106660217046738, 0.08259478956460953, 0.20839545130729675, 0.01981518417596817], [0.12224254757165909, 0.19107532501220703, 0.0980062335729599, 0.10190434008836746, 0.253059446811676, 0.14909608662128448, 0.06772618740797043, 0.016889818012714386], [0.11929816007614136, 0.12313979119062424, 0.14639736711978912, 0.14494936168193817, 0.123783178627491, 0.10021873563528061, 0.15532377362251282, 0.08688970655202866], [0.12851817905902863, 0.1364089846611023, 0.12634578347206116, 0.13309547305107117, 0.15396855771541595, 0.12437932193279266, 0.12426851689815521, 0.0730152502655983], [0.145265132188797, 0.1611795574426651, 0.10621857643127441, 0.10014046728610992, 0.20483921468257904, 0.16083335876464844, 0.09179587662220001, 0.029727859422564507], [0.12131600826978683, 0.18388673663139343, 0.1008443683385849, 0.10494308918714523, 0.2663921117782593, 0.14037741720676422, 0.06505598872900009, 0.017184225842356682], [0.13507598638534546, 0.10450896620750427, 0.14680634438991547, 0.13466817140579224, 0.11364711821079254, 0.09970535337924957, 0.17668631672859192, 0.0889018103480339], [0.09414713084697723, 0.10772866010665894, 0.13749340176582336, 0.16561655700206757, 0.1044471487402916, 0.0661018118262291, 0.1277216374874115, 0.1967436522245407]], [[0.048887934535741806, 0.0655338391661644, 0.23511870205402374, 0.34440678358078003, 0.11808790266513824, 0.007779366802424192, 0.14691925048828125, 0.033266179263591766], [0.07333921641111374, 0.04994279146194458, 0.24048830568790436, 0.26795288920402527, 0.0884317085146904, 0.009121411480009556, 0.18713262677192688, 0.08359099924564362], [0.04935748875141144, 0.052158091217279434, 0.20987163484096527, 0.2659854590892792, 0.08116044104099274, 0.012383955530822277, 0.19298449158668518, 0.13609839975833893], [0.05897189676761627, 0.05965246632695198, 0.20256543159484863, 0.28986209630966187, 0.08540317416191101, 0.014826889149844646, 0.18314756453037262, 0.10557045042514801], [0.03991677239537239, 0.04261687025427818, 0.22962592542171478, 0.2559414207935333, 0.07793430238962173, 0.008269441314041615, 0.1854807585477829, 0.16021451354026794], [0.0839514508843422, 0.034070856869220734, 0.25939396023750305, 0.24284179508686066, 0.07355569303035736, 0.005619419272989035, 0.2097642421722412, 0.09080258756875992], [0.055020250380039215, 0.05193671956658363, 0.20663565397262573, 0.2659895122051239, 0.08116044849157333, 0.013136617839336395, 0.195452481508255, 0.13066838681697845], [0.07484527677297592, 0.04940972104668617, 0.1705400049686432, 0.2236221432685852, 0.06464815884828568, 0.020546773448586464, 0.18265505135059357, 0.21373285353183746]], [[0.0021180850453674793, 0.0011518046958371997, 0.08101321756839752, 0.12146218866109848, 0.0038028827402740717, 8.433491893811151e-05, 0.1640516221523285, 0.6263158917427063], [0.009044372476637363, 0.003387049539014697, 0.09777641296386719, 0.11358891427516937, 0.008837884292006493, 0.0005826738197356462, 0.17782020568847656, 0.5889625549316406], [0.0074708168394863605, 0.002791370265185833, 0.08166950196027756, 0.10113368928432465, 0.006079482845962048, 0.0005571082001551986, 0.17071470618247986, 0.6295833587646484], [0.011134333908557892, 0.004503580741584301, 0.08927267789840698, 0.11537756025791168, 0.009089257568120956, 0.0011608197819441557, 0.18111705780029297, 0.5883447527885437], [0.008123375475406647, 0.0032239039428532124, 0.09169437736272812, 0.10834619402885437, 0.00846156757324934, 0.0005767809343524277, 0.16684359312057495, 0.6127301454544067], [0.012612791731953621, 0.0031884144991636276, 0.11226234585046768, 0.11077291518449783, 0.010234486311674118, 0.0005647959769703448, 0.20235121250152588, 0.5480129718780518], [0.009933946654200554, 0.0036733460146933794, 0.08919337391853333, 0.11393646895885468, 0.008269893005490303, 0.0008020597160793841, 0.18513768911361694, 0.589053213596344], [0.015095510520040989, 0.005006957333534956, 0.06731892377138138, 0.0773095116019249, 0.007931999862194061, 0.0021482871379703283, 0.13209699094295502, 0.6930918097496033]]]], \"left_text\": [\"[CLS]\", \"the\", \"cat\", \"sat\", \"on\", \"the\", \"mat\", \"[SEP]\"], \"right_text\": [\"[CLS]\", \"the\", \"cat\", \"sat\", \"on\", \"the\", \"mat\", \"[SEP]\"]}], \"default_filter\": \"0\", \"display_mode\": \"dark\", \"root_div_id\": \"bertviz-d98532981eb14b309ebab11c9993cdad\", \"include_layers\": [0, 1, 2, 3, 4, 5, 6, 7, 8, 9, 10, 11], \"include_heads\": [0, 1, 2, 3, 4, 5, 6, 7, 8, 9, 10, 11], \"total_heads\": 12}; // HACK: {\"attention\": [{\"name\": null, \"attn\": [[[[0.2473641186952591, 0.12032148987054825, 0.10827425867319107, 0.10943346470594406, 0.05505514517426491, 0.0986444279551506, 0.1783944070339203, 0.0825127586722374], [0.3607475757598877, 0.05545555427670479, 0.21354207396507263, 0.05998995527625084, 0.0689888447523117, 0.07473485916852951, 0.09926076233386993, 0.06728032231330872], [0.10338938981294632, 0.03575102612376213, 0.292574942111969, 0.1414497196674347, 0.06509847193956375, 0.04726366698741913, 0.2150520384311676, 0.09942074865102768], [0.1911238729953766, 0.04402076452970505, 0.38559475541114807, 0.08881596475839615, 0.06288845837116241, 0.04269850626587868, 0.11302836984395981, 0.07182928174734116], [0.4264465868473053, 0.012802367098629475, 0.2717544138431549, 0.06759095191955566, 0.02867966890335083, 0.01039794273674488, 0.13438032567501068, 0.047947682440280914], [0.404105007648468, 0.03876470401883125, 0.1710183173418045, 0.049951691180467606, 0.1192198246717453, 0.04102730751037598, 0.08981583267450333, 0.08609727770090103], [0.1146804690361023, 0.01838584430515766, 0.4152982234954834, 0.2585364580154419, 0.031813252717256546, 0.01809775084257126, 0.07385396212339401, 0.06933403015136719], [0.38892921805381775, 0.04426196217536926, 0.25357136130332947, 0.03444039449095726, 0.03659387305378914, 0.056760482490062714, 0.11028651893138885, 0.07515616714954376]], [[0.8465763330459595, 0.022952772676944733, 0.015816256403923035, 0.00241761258803308, 0.061511095613241196, 0.025066249072551727, 0.008973971009254456, 0.01668562740087509], [0.24428413808345795, 0.15012986958026886, 0.07203838229179382, 0.0441737025976181, 0.16910049319267273, 0.18032070994377136, 0.042778097093105316, 0.09717460721731186], [0.4796109199523926, 0.06719084084033966, 0.05159798264503479, 0.02595379203557968, 0.04241490364074707, 0.1019255742430687, 0.07476886361837387, 0.1565370410680771], [0.18239636719226837, 0.0221804641187191, 0.19288784265518188, 0.02298841066658497, 0.018079672008752823, 0.03764214366674423, 0.1733323186635971, 0.3504927158355713], [0.0934431254863739, 0.06969032436609268, 0.2520611584186554, 0.14078553020954132, 0.026984119787812233, 0.13939735293388367, 0.1204577088356018, 0.15718072652816772], [0.11618828028440475, 0.16074709594249725, 0.09452717006206512, 0.07212729752063751, 0.13777481019496918, 0.20692066848278046, 0.07442735135555267, 0.13728727400302887], [0.45640063285827637, 0.019434219226241112, 0.1700063794851303, 0.008418121375143528, 0.021440912038087845, 0.04522182419896126, 0.04276292026042938, 0.23631501197814941], [0.30852261185646057, 0.1297517567873001, 0.08107295632362366, 0.01746295392513275, 0.14685720205307007, 0.16298796236515045, 0.058837227523326874, 0.09450732171535492]], [[0.773880660533905, 0.031172975897789, 0.026219621300697327, 0.024773886427283287, 0.028529712930321693, 0.013078248128294945, 0.049342889338731766, 0.05300195515155792], [0.916000485420227, 0.015151970088481903, 0.009693109430372715, 0.017446273937821388, 0.024467844516038895, 0.010955758392810822, 0.0043524582870304585, 0.0019320962019264698], [0.4821045696735382, 0.12991853058338165, 0.07605063915252686, 0.0522829070687294, 0.022882280871272087, 0.0009031954687088728, 0.22659790515899658, 0.009259973652660847], [0.2211424559354782, 0.0028738323599100113, 0.6916725039482117, 0.00043514600838534534, 0.0016297020483762026, 0.017250921577215195, 0.022007593885064125, 0.04298796132206917], [0.02284909039735794, 0.005573371425271034, 0.0015294220065698028, 0.9546753168106079, 0.006628197152167559, 0.002168868202716112, 0.004142599646002054, 0.002433127723634243], [0.0590808130800724, 0.009509723633527756, 0.0005149072385393083, 0.025037121027708054, 0.8500751852989197, 0.007751057390123606, 0.003733917372301221, 0.0442972369492054], [0.05142892524600029, 0.0019960803911089897, 0.14225457608699799, 0.013790297321975231, 0.09137480705976486, 0.4616086483001709, 0.08948461711406708, 0.1480620950460434], [0.0223259087651968, 0.00201384536921978, 0.00037327679456211627, 0.008735248818993568, 0.00026294327108189464, 0.00420016935095191, 0.9384675025939941, 0.02362104132771492]], [[0.7908865213394165, 0.0167897529900074, 0.04190085083246231, 0.05429019406437874, 0.027493229135870934, 0.0067940568551421165, 0.03821209818124771, 0.02363329380750656], [0.8268232345581055, 0.01936529390513897, 0.087186798453331, 0.040196020156145096, 0.0011967971222475171, 0.0047108386643230915, 0.014347514137625694, 0.006173626519739628], [0.9874144196510315, 0.007401261944323778, 0.004000956658273935, 0.0005968752084299922, 2.361015503993258e-06, 2.3734039132250473e-05, 0.0005410715821199119, 1.91964500118047e-05], [0.7174856662750244, 0.03653596341609955, 0.18793830275535583, 0.02422413043677807, 0.0007353953551501036, 0.004758529365062714, 0.020634500309824944, 0.007687395438551903], [0.005504933185875416, 0.023773159831762314, 0.3350895643234253, 0.619676947593689, 0.0006529992097057402, 0.0013097439659759402, 0.011074624955654144, 0.0029180629644542933], [0.025708692148327827, 0.032751068472862244, 0.15304124355316162, 0.41853296756744385, 0.18013980984687805, 0.06783358007669449, 0.06214775890111923, 0.059844885021448135], [0.40341028571128845, 0.0044995578937232494, 0.008537345565855503, 0.019589759409427643, 0.12994180619716644, 0.35411515831947327, 0.056633301079273224, 0.02327265776693821], [0.29523903131484985, 0.007594986353069544, 0.001150605152361095, 0.014309274032711983, 0.00024293354363180697, 0.09874054044485092, 0.5150960683822632, 0.06762649863958359]], [[0.45134806632995605, 0.036669593304395676, 0.11802268028259277, 0.07429910451173782, 0.07066328078508377, 0.028293542563915253, 0.11351320892572403, 0.1071905568242073], [0.20175743103027344, 0.04968472942709923, 0.04793422296643257, 0.39404618740081787, 0.01983460783958435, 0.0618448480963707, 0.17092730104923248, 0.053970761597156525], [0.15411756932735443, 0.06888754665851593, 0.06269658356904984, 0.3977143168449402, 0.10148733854293823, 0.05219646915793419, 0.11968670040369034, 0.04321347177028656], [0.16055411100387573, 0.10503685474395752, 0.1517082005739212, 0.0452280156314373, 0.22358834743499756, 0.11430010944604874, 0.07715605944395065, 0.12242835015058517], [0.10744117200374603, 0.026179317384958267, 0.07409300655126572, 0.6324372887611389, 0.0075058527290821075, 0.020103011280298233, 0.10475938022136688, 0.027480876073241234], [0.09296511113643646, 0.054452259093523026, 0.05794656649231911, 0.5149326324462891, 0.01389533281326294, 0.033900078386068344, 0.21566028892993927, 0.016247684136033058], [0.2980741262435913, 0.083467498421669, 0.15418830513954163, 0.1353043168783188, 0.2045305371284485, 0.05236441642045975, 0.025994371622800827, 0.04607636108994484], [0.5330021977424622, 0.04303745925426483, 0.012484269216656685, 0.02970833145081997, 0.057196807116270065, 0.07759121805429459, 0.03418836370110512, 0.21279121935367584]], [[0.5274474620819092, 0.12539222836494446, 0.022463826462626457, 0.006641705520451069, 0.06813469529151917, 0.185603529214859, 0.02005608007311821, 0.044260408729314804], [0.4949108958244324, 0.07880742847919464, 0.07212743163108826, 0.028038715943694115, 0.08424022048711777, 0.12315021455287933, 0.022461187094449997, 0.09626393020153046], [0.2998574376106262, 0.07883433997631073, 0.04808104783296585, 0.2198563814163208, 0.042106032371520996, 0.1348206251859665, 0.08570846170186996, 0.09073562920093536], [0.43523284792900085, 0.06253104656934738, 0.02860148251056671, 0.05543765053153038, 0.01732698641717434, 0.18583378195762634, 0.1711510866880417, 0.043885208666324615], [0.3793778717517853, 0.035237379372119904, 0.1449260711669922, 0.041160158812999725, 0.01609412394464016, 0.10065926611423492, 0.1983046680688858, 0.0842403769493103], [0.6379245519638062, 0.05203444883227348, 0.06578468531370163, 0.024250371381640434, 0.04592730104923248, 0.05905952304601669, 0.031070321798324585, 0.08394879102706909], [0.07204774767160416, 0.05842030420899391, 0.24792805314064026, 0.10340587794780731, 0.10026457905769348, 0.12483382225036621, 0.13772128522396088, 0.15537840127944946], [0.5035632252693176, 0.06944085657596588, 0.03539452701807022, 0.0074791014194488525, 0.08063985407352448, 0.17500890791416168, 0.01564629189670086, 0.11282728612422943]], [[0.15493321418762207, 0.30997157096862793, 0.012022312730550766, 0.00621378468349576, 0.010788222774863243, 0.48756328225135803, 0.014739523641765118, 0.003768125083297491], [0.07555457204580307, 0.054179541766643524, 0.10916311293840408, 0.2749266028404236, 0.10840760916471481, 0.04457354173064232, 0.14005111157894135, 0.1931437999010086], [0.12298071384429932, 0.016678232699632645, 0.35956746339797974, 0.17933155596256256, 0.03676970303058624, 0.018866227939724922, 0.10417567193508148, 0.16163036227226257], [0.06917980313301086, 0.053654950112104416, 0.08531540632247925, 0.2226484715938568, 0.0736757144331932, 0.06770412623882294, 0.2740464508533478, 0.15377512574195862], [0.19469748437404633, 0.01940077729523182, 0.10488101840019226, 0.42626938223838806, 0.05024387314915657, 0.013032396323978901, 0.09224851429462433, 0.09922653436660767], [0.03722980245947838, 0.1386529803276062, 0.11284783482551575, 0.17768655717372894, 0.1450909972190857, 0.08081044256687164, 0.13443203270435333, 0.17324936389923096], [0.017826734110713005, 0.04111107438802719, 0.060856353491544724, 0.22345899045467377, 0.06454280763864517, 0.019498256966471672, 0.45399922132492065, 0.1187065914273262], [0.031203564256429672, 0.2648119330406189, 0.04469676688313484, 0.04666053503751755, 0.23657841980457306, 0.260273814201355, 0.049244821071624756, 0.06653016805648804]], [[0.4534682631492615, 0.0009647588012740016, 0.06364284455776215, 0.043237295001745224, 0.038062818348407745, 0.0006666556000709534, 0.06144515052437782, 0.33851224184036255], [0.37965157628059387, 0.02872375026345253, 0.10505767911672592, 0.11066313087940216, 0.04654255136847496, 0.029527870938181877, 0.14267635345458984, 0.15715715289115906], [0.10542549192905426, 0.019170381128787994, 0.3757340610027313, 0.16706210374832153, 0.05390333756804466, 0.018139401450753212, 0.23316064476966858, 0.027404528111219406], [0.11155591905117035, 0.007289329078048468, 0.31685560941696167, 0.08897624909877777, 0.10309051722288132, 0.0096974428743124, 0.11493310332298279, 0.24760174751281738], [0.40293896198272705, 0.02878190204501152, 0.11435630172491074, 0.06475259363651276, 0.06378257274627686, 0.017754508182406425, 0.14669308066368103, 0.1609400361776352], [0.18189305067062378, 0.12612862884998322, 0.07606974989175797, 0.08199190348386765, 0.12100217491388321, 0.09892143309116364, 0.16318291425704956, 0.15081018209457397], [0.11652680486440659, 0.008656107820570469, 0.48067161440849304, 0.13218991458415985, 0.09208372980356216, 0.010737490840256214, 0.06528466194868088, 0.09384968876838684], [0.41981935501098633, 0.057743098586797714, 0.0964127853512764, 0.08684104681015015, 0.08233910799026489, 0.05827302113175392, 0.16139133274555206, 0.03718012943863869]], [[0.3880222737789154, 0.0871121883392334, 0.25254717469215393, 0.06157038360834122, 0.03472162410616875, 0.06989854574203491, 0.10085650533437729, 0.0052713858895003796], [0.030666178092360497, 0.06826278567314148, 0.046603139489889145, 0.3642398715019226, 0.08477669209241867, 0.1846863031387329, 0.1501302868127823, 0.07063475996255875], [0.09080943465232849, 0.04118988662958145, 0.06769878417253494, 0.2438446581363678, 0.07716654241085052, 0.15453921258449554, 0.2830844223499298, 0.04166705906391144], [0.05307654291391373, 0.022449001669883728, 0.062216002494096756, 0.08493708819150925, 0.04432327672839165, 0.057765159755945206, 0.5100091695785522, 0.16522376239299774], [0.01669844053685665, 0.01951000839471817, 0.03217856213450432, 0.1684802919626236, 0.0035302522592246532, 0.03810850530862808, 0.5008202195167542, 0.22067375481128693], [0.0052892109379172325, 0.10061099380254745, 0.032617539167404175, 0.345947802066803, 0.026413924992084503, 0.09889641404151917, 0.14186862111091614, 0.24835552275180817], [0.07804930210113525, 0.07727845013141632, 0.173355832695961, 0.1299029439687729, 0.022004352882504463, 0.1485351324081421, 0.2552306354045868, 0.11564335227012634], [0.0865340381860733, 0.2280224859714508, 0.07511767745018005, 0.07803145796060562, 0.05079783499240875, 0.38854265213012695, 0.08547312766313553, 0.007480714004486799]], [[0.43429189920425415, 0.027762293815612793, 0.08935867995023727, 0.18102459609508514, 0.056140221655368805, 0.027851760387420654, 0.05395088344812393, 0.12961965799331665], [0.4296032190322876, 0.017573822289705276, 0.08296921849250793, 0.08049715310335159, 0.04506378620862961, 0.06267868727445602, 0.03431539610028267, 0.24729867279529572], [0.027654416859149933, 0.013098340481519699, 0.6021143794059753, 0.017950575798749924, 0.06827335804700851, 0.023543942719697952, 0.05088333413004875, 0.19648167490959167], [0.3132321536540985, 0.01614363305270672, 0.10420577228069305, 0.20102770626544952, 0.028221018612384796, 0.03226084262132645, 0.18046873807907104, 0.12444012612104416], [0.4355068802833557, 0.015563554130494595, 0.11158082634210587, 0.18286824226379395, 0.008623809553682804, 0.010703101754188538, 0.12018422037363052, 0.11496938019990921], [0.33476391434669495, 0.06324558705091476, 0.17195968329906464, 0.14416193962097168, 0.029925664886832237, 0.028894251212477684, 0.04205504432320595, 0.1849938929080963], [0.12268051505088806, 0.0986950621008873, 0.2204078584909439, 0.26177990436553955, 0.08609090000391006, 0.04569279029965401, 0.1350271999835968, 0.029625825583934784], [0.2855921685695648, 0.04809485003352165, 0.07211443036794662, 0.3548707365989685, 0.11027193814516068, 0.05742578208446503, 0.05945981666445732, 0.012170299887657166]], [[0.7064619064331055, 0.042273931205272675, 0.038079869002103806, 0.04691862687468529, 0.0249751228839159, 0.023363739252090454, 0.06353941559791565, 0.054387349635362625], [0.00013053478323854506, 0.002160238102078438, 0.9845007658004761, 0.007495366968214512, 0.00047081135562621057, 0.0008008495788089931, 0.0017106352606788278, 0.0027306885458528996], [0.011687243357300758, 0.09700188040733337, 0.0848277136683464, 0.7264523506164551, 0.028193024918437004, 0.00863571185618639, 0.040419965982437134, 0.0027821336407214403], [0.002113988157361746, 0.00715026818215847, 0.014575112611055374, 0.0040853600949049, 0.5954450368881226, 0.14920222759246826, 0.020452305674552917, 0.2069757580757141], [0.01438651978969574, 0.0029692586977034807, 0.004394585266709328, 0.006959834601730108, 0.0034601048100739717, 0.5737115740776062, 0.3873450756072998, 0.006773047614842653], [0.00010239261609967798, 0.0006375702214427292, 0.00014009805454406887, 0.01197177916765213, 0.0002457423834130168, 0.002872544340789318, 0.9748212695121765, 0.009208607487380505], [0.0017284220084547997, 0.00044253779924474657, 0.0069519029930233955, 0.0012700861552730203, 0.0034893180709332228, 0.009185118600726128, 0.0076155876740813255, 0.9693170189857483], [0.7499168515205383, 0.0001894301822176203, 0.0005053309723734856, 0.013290825299918652, 0.002251979662105441, 0.07728261500597, 0.04956713691353798, 0.10699581354856491]], [[0.24888931214809418, 0.005006661172956228, 0.0344591960310936, 0.110835500061512, 0.0007691056234762073, 0.037939924746751785, 0.5177471041679382, 0.04435326159000397], [0.3781035244464874, 0.011933065950870514, 0.11839761584997177, 0.16954725980758667, 0.004376943223178387, 0.059950169175863266, 0.2049587517976761, 0.05273256078362465], [0.05374980717897415, 0.09312660992145538, 0.04114045202732086, 0.034042079001665115, 0.07770592719316483, 0.0688723772764206, 0.3615474998950958, 0.2698151767253876], [0.16607439517974854, 0.008433324284851551, 0.06536254286766052, 0.0777287632226944, 0.012223782949149609, 0.025165487080812454, 0.42173299193382263, 0.2232787162065506], [0.15479613840579987, 0.02155429869890213, 0.2569395899772644, 0.2009180188179016, 0.007131779566407204, 0.08418542146682739, 0.19593751430511475, 0.07853725552558899], [0.1273854374885559, 0.026477834209799767, 0.033924635499715805, 0.20646122097969055, 0.01764596626162529, 0.055793359875679016, 0.3553880751132965, 0.17692339420318604], [0.06376615911722183, 0.018571941182017326, 0.06213286891579628, 0.15377774834632874, 0.022691862657666206, 0.13279959559440613, 0.06357382982969284, 0.48268601298332214], [0.12016862630844116, 0.008068709634244442, 0.051521655172109604, 0.09901616722345352, 0.0018655394669622183, 0.046382348984479904, 0.5311397910118103, 0.1418371945619583]]], [[[0.525549590587616, 0.04999905824661255, 0.02216583676636219, 0.02745305746793747, 0.126352459192276, 0.05357882380485535, 0.03144488111138344, 0.16345630586147308], [0.10965824127197266, 0.06988082826137543, 0.25671184062957764, 0.06750006973743439, 0.18112623691558838, 0.0777282863855362, 0.1450182944536209, 0.09237619489431381], [0.26602786779403687, 0.061318833380937576, 0.08860059082508087, 0.20482784509658813, 0.052588604390621185, 0.08461465686559677, 0.009658695198595524, 0.23236297070980072], [0.049064457416534424, 0.04393952712416649, 0.03324645757675171, 0.016892004758119583, 0.421279639005661, 0.05800378695130348, 0.25106972455978394, 0.12650445103645325], [0.5665513873100281, 0.06842267513275146, 0.037427373230457306, 0.0237565990537405, 0.06904921680688858, 0.08122920989990234, 0.0997755154967308, 0.05378804728388786], [0.3215605318546295, 0.0778314545750618, 0.09446821361780167, 0.0165836364030838, 0.17812223732471466, 0.07324494421482086, 0.16370001435279846, 0.07448897510766983], [0.022637423127889633, 0.11817654967308044, 0.08555085957050323, 0.07339129596948624, 0.051216065883636475, 0.1417599618434906, 0.26502725481987, 0.2422405183315277], [0.35460323095321655, 0.07650939375162125, 0.06556094437837601, 0.11792971193790436, 0.14304280281066895, 0.06788874417543411, 0.09787703305482864, 0.07658818364143372]], [[0.7417870163917542, 0.029865363612771034, 0.015905356034636497, 0.021620577201247215, 0.03116775117814541, 0.030211061239242554, 0.008642719127237797, 0.12080033868551254], [0.047615256160497665, 0.02040771208703518, 0.8677869439125061, 0.007760903798043728, 0.0009004141320474446, 0.003286783117800951, 0.00012443875311873853, 0.052117615938186646], [0.2136566936969757, 0.007344813086092472, 0.3578173518180847, 0.40099257230758667, 0.00732001755386591, 0.0012792441993951797, 0.0008379400824196637, 0.010751353576779366], [0.17653730511665344, 0.00037373515078797936, 0.00033295960747636855, 0.004263135138899088, 0.7134160399436951, 0.0017672174144536257, 0.00010710775677580386, 0.1032024621963501], [0.012148465029895306, 0.007344777230173349, 0.0028288187459111214, 0.0010726980399340391, 0.001247821026481688, 0.9712050557136536, 0.0038813352584838867, 0.00027104097534902394], [0.014725470915436745, 0.030026640743017197, 0.0022750652860850096, 0.006002579815685749, 0.00016460193728562444, 0.028429778292775154, 0.89276522397995, 0.025610676035284996], [0.03126317262649536, 5.521377897821367e-05, 0.0002227916120318696, 0.0001937377528520301, 0.00015720154624432325, 0.0001114553670049645, 0.000622657360509038, 0.967373788356781], [0.8382721543312073, 5.103931107441895e-05, 0.000947551045101136, 0.01212173793464899, 0.006364639848470688, 0.024003108963370323, 0.001693418249487877, 0.11654622107744217]], [[0.5595059990882874, 0.057426609098911285, 0.028222084045410156, 0.07548534870147705, 0.0361306369304657, 0.030876561999320984, 0.018712719902396202, 0.1936400979757309], [0.3886619806289673, 0.05905694141983986, 0.04554958641529083, 0.15286628901958466, 0.03213929012417793, 0.022636599838733673, 0.01895126700401306, 0.2801380753517151], [0.20880761742591858, 0.019088026136159897, 0.022784719243645668, 0.3679332733154297, 0.010281870141625404, 0.006418721284717321, 0.008593622595071793, 0.35609209537506104], [0.20074690878391266, 0.058325059711933136, 0.09594829380512238, 0.17953555285930634, 0.048425596207380295, 0.04572996497154236, 0.0150905791670084, 0.3561980724334717], [0.25106316804885864, 0.05367610976099968, 0.08022572845220566, 0.09638238698244095, 0.021894054487347603, 0.024201661348342896, 0.04432527720928192, 0.42823168635368347], [0.22358062863349915, 0.07200782746076584, 0.11381861567497253, 0.1833590865135193, 0.05685190111398697, 0.03784921392798424, 0.026515457779169083, 0.2860172390937805], [0.094418004155159, 0.07206815481185913, 0.05577322840690613, 0.5424095392227173, 0.10322380810976028, 0.07157177478075027, 0.009948295541107655, 0.05058707669377327], [0.42318451404571533, 0.07042239606380463, 0.06225161626935005, 0.12998563051223755, 0.05835682526230812, 0.04751552268862724, 0.029231926426291466, 0.1790515035390854]], [[0.5120847821235657, 0.10308048129081726, 0.005696726031601429, 0.029340162873268127, 0.0621982179582119, 0.11493329703807831, 0.018724093213677406, 0.1539422571659088], [0.28591373562812805, 0.151524156332016, 0.02091994509100914, 0.03244365006685257, 0.06253738701343536, 0.15843366086483002, 0.05688978731632233, 0.231337770819664], [0.2761899530887604, 0.03689195215702057, 0.03255473077297211, 0.034805383533239365, 0.12364782392978668, 0.03224525600671768, 0.3159578740596771, 0.14770707488059998], [0.2867002487182617, 0.04598033428192139, 0.035998404026031494, 0.03225908800959587, 0.043950825929641724, 0.026941072195768356, 0.42821383476257324, 0.09995628148317337], [0.3715217113494873, 0.08126126974821091, 0.020774537697434425, 0.14164642989635468, 0.03947768360376358, 0.05513095110654831, 0.10173414647579193, 0.1884532868862152], [0.2934102714061737, 0.17859534919261932, 0.02548062428832054, 0.061581242829561234, 0.07057681679725647, 0.14762239158153534, 0.04499759525060654, 0.17773564159870148], [0.09735870361328125, 0.010125167667865753, 0.10838635265827179, 0.16991972923278809, 0.14156880974769592, 0.009531378746032715, 0.43615198135375977, 0.02695779874920845], [0.5393019318580627, 0.08491726219654083, 0.003973791375756264, 0.029914606362581253, 0.0860498696565628, 0.1244998574256897, 0.028067700564861298, 0.10327493399381638]], [[0.6376750469207764, 0.10549712926149368, 0.014151121489703655, 0.042907316237688065, 0.07463841140270233, 0.04306211322546005, 0.022590553387999535, 0.059478361159563065], [0.9082961082458496, 0.07481696456670761, 0.0012606364907696843, 0.0005537709803320467, 0.013658701442182064, 0.0011654229601845145, 0.000201237722649239, 4.711871952167712e-05], [0.0005571671645157039, 0.9979588985443115, 0.0014566386817023158, 8.993996743811294e-06, 1.2435358485163306e-06, 2.533348379074596e-06, 1.1636700037342962e-05, 2.948971541627543e-06], [0.41293683648109436, 0.4005095064640045, 0.13307739794254303, 0.03029659204185009, 0.0008353732409887016, 0.004690727684646845, 0.0006668683490715921, 0.016986701637506485], [0.005012547131627798, 0.00041049113497138023, 0.0006030892254784703, 0.9924896359443665, 0.0010912846773862839, 6.543441122630611e-05, 2.165072328352835e-05, 0.0003057942958548665], [0.014290299266576767, 0.002910671755671501, 0.00011361134966136888, 0.001458446029573679, 0.9713071584701538, 0.005221456754952669, 0.0004262437578290701, 0.004272049758583307], [0.4832867383956909, 0.000235893894569017, 1.4034257219464052e-05, 0.0001054831373039633, 0.0495142862200737, 0.45448023080825806, 0.0034352880902588367, 0.008927891962230206], [0.19196756184101105, 0.04460036754608154, 5.268040331429802e-05, 0.0016918117180466652, 0.004672331269830465, 0.014384384267032146, 0.6630631685256958, 0.07956769317388535]], [[0.6313725709915161, 0.028943456709384918, 0.028621550649404526, 0.03227156028151512, 0.02506813034415245, 0.03283846750855446, 0.015655789524316788, 0.2052283138036728], [0.4511803090572357, 0.024959838017821312, 0.01679653860628605, 0.016748296096920967, 0.013592036440968513, 0.0312079768627882, 0.008449847809970379, 0.43706515431404114], [0.4302622973918915, 0.08448174595832825, 0.033928241580724716, 0.0476834662258625, 0.02358543500304222, 0.05550128221511841, 0.0627414807677269, 0.2618160843849182], [0.5287742614746094, 0.01747020147740841, 0.033517349511384964, 0.03227469325065613, 0.02896217815577984, 0.013544406741857529, 0.042141035199165344, 0.3033158779144287], [0.23396606743335724, 0.06543820351362228, 0.0553055964410305, 0.05499241128563881, 0.044349413365125656, 0.10054508596658707, 0.21333542466163635, 0.2320677638053894], [0.4369827210903168, 0.057765476405620575, 0.05184977129101753, 0.06470869481563568, 0.054343756288290024, 0.04563601315021515, 0.026811204850673676, 0.2619023025035858], [0.2754128575325012, 0.08175985515117645, 0.06893724948167801, 0.14641313254833221, 0.12737393379211426, 0.058887630701065063, 0.05765114724636078, 0.18356414139270782], [0.6489206552505493, 0.03236430510878563, 0.021146925166249275, 0.04091418907046318, 0.015820814296603203, 0.03723783791065216, 0.024683557450771332, 0.1789117008447647]], [[0.3202044665813446, 0.06626085191965103, 0.05731876194477081, 0.05969534069299698, 0.27886271476745605, 0.09581964462995529, 0.03021012619137764, 0.09162828326225281], [0.0756324976682663, 0.14396636188030243, 0.03251924365758896, 0.17325346171855927, 0.44397616386413574, 0.007152245845645666, 0.0019811957608908415, 0.12151884287595749], [0.054460808634757996, 0.5006924271583557, 0.012351950630545616, 0.0005701823974959552, 0.31327226758003235, 0.11757579445838928, 1.6028199752327055e-05, 0.001060480484738946], [0.12475226819515228, 0.18114972114562988, 0.0001495874603278935, 0.001715544844046235, 0.28972622752189636, 0.387424498796463, 0.005660143215209246, 0.009422099217772484], [0.02549220807850361, 0.06472410261631012, 0.036178331822156906, 0.014791140332818031, 0.0047118933871388435, 0.01049313135445118, 0.11786240339279175, 0.725746750831604], [0.016582529991865158, 5.196384518058039e-05, 0.000987327191978693, 0.01869003288447857, 0.0008698656456544995, 0.0024342103861272335, 0.012495175935328007, 0.9478888511657715], [0.5627243518829346, 0.0003952000115532428, 5.1449234888423234e-05, 0.01647724024951458, 0.03878023847937584, 0.014646176248788834, 0.014075254090130329, 0.35285019874572754], [0.3195651173591614, 0.0066217402927577496, 7.723175076534972e-05, 0.002255722414702177, 0.24267244338989258, 0.18136371672153473, 0.023059502243995667, 0.2243845909833908]], [[0.8392136096954346, 0.022476647049188614, 0.01267990656197071, 0.026680201292037964, 0.007448315620422363, 0.018376631662249565, 0.007904516533017159, 0.06522014737129211], [0.3368631601333618, 0.13183484971523285, 0.0508602112531662, 0.08905468136072159, 0.03001329116523266, 0.07477214932441711, 0.05270221084356308, 0.23389944434165955], [0.11530500650405884, 0.06474141776561737, 0.0350663885474205, 0.4084678590297699, 0.031018707901239395, 0.036518484354019165, 0.10495155304670334, 0.20393060147762299], [0.10504422336816788, 0.07997264713048935, 0.10809046775102615, 0.1010541021823883, 0.080037921667099, 0.05216722935438156, 0.22039110958576202, 0.25324222445487976], [0.3584614396095276, 0.1926497370004654, 0.06324560195207596, 0.06829842180013657, 0.019689984619617462, 0.0942971333861351, 0.057663444429636, 0.1456942856311798], [0.28830158710479736, 0.14521734416484833, 0.06824105978012085, 0.10002785176038742, 0.04702384024858475, 0.10263807326555252, 0.07589885592460632, 0.17265135049819946], [0.031053775921463966, 0.030868802219629288, 0.029687780886888504, 0.5561010241508484, 0.03242381662130356, 0.02440868318080902, 0.12605975568294525, 0.16939644515514374], [0.8679189682006836, 0.01642225682735443, 0.007514443248510361, 0.025307079777121544, 0.005755603313446045, 0.010913959704339504, 0.0062769087962806225, 0.05989070236682892]], [[0.503487229347229, 0.05346940457820892, 0.0440245047211647, 0.07396930456161499, 0.07187061011791229, 0.04121483117341995, 0.03546325862407684, 0.1765008121728897], [0.3255389332771301, 0.1120712086558342, 0.17050054669380188, 0.033075183629989624, 0.03066965378820896, 0.056916743516922, 0.033588431775569916, 0.23763920366764069], [0.5816279649734497, 0.07256820797920227, 0.003495498327538371, 0.04645538702607155, 0.06082208454608917, 0.04829283431172371, 0.03227447345852852, 0.15446360409259796], [0.782772421836853, 0.044134095311164856, 0.019103912636637688, 0.002469264669343829, 0.009184029884636402, 0.035175420343875885, 0.014672874473035336, 0.09248790889978409], [0.5061923861503601, 0.0591980442404747, 0.035135503858327866, 0.13037483394145966, 0.012852910906076431, 0.03856157138943672, 0.02507399022579193, 0.19261080026626587], [0.595566987991333, 0.05158670246601105, 0.07664088904857635, 0.03210696578025818, 0.02515631541609764, 0.037657927721738815, 0.02457185462117195, 0.15671230852603912], [0.6266146898269653, 0.0910252034664154, 0.03613259270787239, 0.048074059188365936, 0.016353607177734375, 0.10125105828046799, 0.006941345054656267, 0.07360745221376419], [0.5598187446594238, 0.06251715123653412, 0.038762785494327545, 0.05238225311040878, 0.07670673727989197, 0.04874422028660774, 0.024874946102499962, 0.13619311153888702]], [[0.4004637598991394, 0.0899449810385704, 0.042011357843875885, 0.08888746798038483, 0.07059860229492188, 0.09705556929111481, 0.05294715240597725, 0.15809117257595062], [0.3568149209022522, 0.06678823381662369, 0.06992130726575851, 0.08471617847681046, 0.04023457318544388, 0.055966757237911224, 0.05921554192900658, 0.26634255051612854], [0.2483775019645691, 0.08466188609600067, 0.00770829850807786, 0.10851647704839706, 0.1366748958826065, 0.04898637533187866, 0.02390558086335659, 0.3411690890789032], [0.6107678413391113, 0.06188323721289635, 0.06187407672405243, 0.00403283815830946, 0.06604640930891037, 0.04625844210386276, 0.011186592280864716, 0.1379505842924118], [0.25127601623535156, 0.17605264484882355, 0.10831224173307419, 0.02024233713746071, 0.0453154593706131, 0.20564734935760498, 0.07901330292224884, 0.11414052546024323], [0.2883579432964325, 0.11564434319734573, 0.08799730986356735, 0.05965026840567589, 0.06552336364984512, 0.0959206372499466, 0.09211699664592743, 0.19478914141654968], [0.4262121021747589, 0.0841573178768158, 0.09437227994203568, 0.07961077243089676, 0.044718481600284576, 0.054841093719005585, 0.01740383543074131, 0.19868408143520355], [0.23719371855258942, 0.11381462961435318, 0.10420248657464981, 0.09451546519994736, 0.0820096880197525, 0.11850444972515106, 0.11516236513853073, 0.13459722697734833]], [[0.762343168258667, 0.041241277009248734, 0.013635609298944473, 0.023487016558647156, 0.01750245876610279, 0.024467412382364273, 0.012838111259043217, 0.10448509454727173], [0.8877238631248474, 0.00782798882573843, 0.00560788856819272, 0.004248850047588348, 0.008364683017134666, 0.009273059666156769, 0.005278201773762703, 0.07167541980743408], [0.9406681060791016, 0.006147093139588833, 0.002680264413356781, 0.013287247158586979, 0.013852992095053196, 0.01079920120537281, 0.0060308631509542465, 0.00653415871784091], [0.8165256977081299, 0.02866925485432148, 0.007285818457603455, 0.01328269299119711, 0.009359334595501423, 0.023126961663365364, 0.0508781298995018, 0.050872184336185455], [0.16762565076351166, 0.3015669286251068, 0.09730079025030136, 0.07800192385911942, 0.01002521626651287, 0.03560223430395126, 0.11519799381494522, 0.19467926025390625], [0.3011222183704376, 0.3142712712287903, 0.08544144779443741, 0.025622349232435226, 0.0152747118845582, 0.032025452703237534, 0.017225874587893486, 0.20901665091514587], [0.5551539063453674, 0.07335219532251358, 0.015225929208099842, 0.14446231722831726, 0.07783715426921844, 0.06931116431951523, 0.014352593570947647, 0.05030477046966553], [0.7655530571937561, 0.06310788542032242, 0.006991624366492033, 0.01934429071843624, 0.015227490104734898, 0.041890956461429596, 0.01279710978269577, 0.07508764415979385]], [[0.5010798573493958, 0.03441885486245155, 0.03976159542798996, 0.03305497765541077, 0.04155298322439194, 0.026827024295926094, 0.018716679885983467, 0.30458807945251465], [0.6079753041267395, 0.007929544895887375, 0.027178078889846802, 0.03753933310508728, 0.041440486907958984, 0.050658226013183594, 0.016220606863498688, 0.21105830371379852], [0.019560007378458977, 0.0014546065358445048, 0.9552607536315918, 0.0037215931806713343, 0.003073630854487419, 0.004097883123904467, 0.003954032436013222, 0.008877428248524666], [0.24846714735031128, 0.01123036164790392, 0.032064761966466904, 0.46038004755973816, 0.01051527913659811, 0.013049260713160038, 0.020831594243645668, 0.20346149802207947], [0.28296777606010437, 0.030950523912906647, 0.11914478242397308, 0.0853036493062973, 0.16762800514698029, 0.024990733712911606, 0.040293414145708084, 0.2487211376428604], [0.42915359139442444, 0.11478359252214432, 0.04746862128376961, 0.09306663274765015, 0.049794211983680725, 0.013183197937905788, 0.011883449740707874, 0.24066665768623352], [0.2582969069480896, 0.02050984837114811, 0.15952201187610626, 0.33795714378356934, 0.017834864556789398, 0.007880988530814648, 0.11884389072656631, 0.07915433496236801], [0.4088670015335083, 0.08983716368675232, 0.09120219945907593, 0.19982115924358368, 0.08806955814361572, 0.056300435215234756, 0.01462710089981556, 0.05127536877989769]]], [[[0.7039808630943298, 0.0010768523206934333, 0.0027982331812381744, 0.03768483176827431, 0.015940871089696884, 0.011758782900869846, 0.00441939290612936, 0.22234013676643372], [1.1594551707627687e-10, 5.897171195812234e-09, 0.9999755620956421, 2.4286800908157602e-05, 3.2996094344908385e-15, 5.590079441009088e-11, 1.0955031153059291e-11, 6.609033675886167e-08], [1.2512178670931462e-07, 4.0183879986520343e-14, 1.1627294952631928e-05, 0.9999845027923584, 1.2757771228333326e-10, 1.3698736054193212e-14, 4.624567487343577e-16, 3.6971468944102526e-06], [0.004463656805455685, 2.5201850155365246e-12, 1.6435420135962886e-08, 0.05275007709860802, 0.9230135083198547, 4.5501593604058144e-08, 2.4045722010757054e-11, 0.019772659987211227], [2.083254548779223e-05, 3.783108866173279e-07, 2.4249713348467594e-10, 5.227988875144973e-11, 1.309080062128487e-06, 0.9999756813049316, 2.642771619321138e-07, 1.5714233541075373e-06], [2.9223322144389385e-06, 1.583981247677002e-05, 6.825461696280399e-06, 9.17084762477316e-05, 3.5984121238286093e-10, 2.535275234549772e-05, 0.9998371601104736, 2.0092318663955666e-05], [8.665078894409817e-07, 5.676799989421744e-16, 1.2555748107878628e-11, 1.331446100039102e-07, 6.383995437321544e-13, 2.086157657550853e-15, 2.317235812954177e-11, 0.9999990463256836], [0.7478634715080261, 7.009219871179084e-10, 8.364911430192024e-09, 0.0005836924538016319, 0.00035500613739714026, 2.4247152396128513e-05, 1.042369124348852e-08, 0.25117364525794983]], [[0.5393067598342896, 0.059324961155653, 0.00681672478094697, 0.04827132076025009, 0.06246171519160271, 0.043835774064064026, 0.019246231764554977, 0.22073650360107422], [0.7468156814575195, 0.028960928320884705, 0.009857350960373878, 0.03471061959862709, 0.026560502126812935, 0.0035810486879199743, 0.002143692458048463, 0.1473700851202011], [0.6411656737327576, 0.09996140003204346, 0.014612003229558468, 0.0602823942899704, 0.00932694785296917, 0.006190059706568718, 0.001948398887179792, 0.16651305556297302], [0.687258243560791, 0.017626870423555374, 0.0014718911843374372, 0.0015952411340549588, 0.20347481966018677, 0.007424565497785807, 0.0002605453773867339, 0.08088784664869308], [0.6063785552978516, 0.055890344083309174, 0.0012493187095969915, 0.1890973150730133, 0.0029248008504509926, 0.03025211952626705, 0.0007200201507657766, 0.11348750442266464], [0.5779407024383545, 0.04404536634683609, 0.0039012874476611614, 0.08567041903734207, 0.03331119939684868, 0.018827518448233604, 0.008946869522333145, 0.22735662758350372], [0.8352155685424805, 0.006727992556989193, 0.00020208793284837157, 0.0008081224514171481, 0.047514207661151886, 0.016482993960380554, 0.000685374194290489, 0.09236361086368561], [0.7056238651275635, 0.03728180006146431, 0.002581806853413582, 0.015898801386356354, 0.010969236493110657, 0.0190679132938385, 0.002887088805437088, 0.20568959414958954]], [[0.4704464077949524, 0.05871415138244629, 0.018280187621712685, 0.1458674818277359, 0.036956656724214554, 0.053059689700603485, 0.05728424713015556, 0.15939117968082428], [0.5241182446479797, 0.027046235278248787, 0.04229715093970299, 0.16271264851093292, 0.050752054899930954, 0.02999129705131054, 0.059692930430173874, 0.10338940471410751], [0.2534720301628113, 0.07661598920822144, 0.244828000664711, 0.1019679456949234, 0.06168585643172264, 0.05839748680591583, 0.04698367789387703, 0.15604890882968903], [0.2839164733886719, 0.03415648639202118, 0.46892449259757996, 0.004505922552198172, 0.05976208671927452, 0.04332786798477173, 0.01945754885673523, 0.0859491154551506], [0.6946039795875549, 0.019649457186460495, 0.05561097711324692, 0.0919308215379715, 0.018642205744981766, 0.01581372693181038, 0.028772762045264244, 0.07497590780258179], [0.4497523307800293, 0.04122493788599968, 0.04707681015133858, 0.20030851662158966, 0.04084772616624832, 0.037270285189151764, 0.05265561863780022, 0.13086377084255219], [0.22701790928840637, 0.058326639235019684, 0.19003327190876007, 0.08317891508340836, 0.13448390364646912, 0.07120202481746674, 0.016834205016493797, 0.21892301738262177], [0.2795504331588745, 0.0931721180677414, 0.010860859416425228, 0.13756221532821655, 0.04377290606498718, 0.06811194121837616, 0.06548009812831879, 0.3014895021915436]], [[0.4509560763835907, 0.06380915641784668, 0.045166946947574615, 0.10325320810079575, 0.04741328954696655, 0.061677154153585434, 0.05141553282737732, 0.17630860209465027], [0.26587551832199097, 0.08933181315660477, 0.04440362751483917, 0.12873442471027374, 0.08196999877691269, 0.08891275525093079, 0.07629453390836716, 0.22447723150253296], [0.1998922973871231, 0.13174907863140106, 0.014517445117235184, 0.18057021498680115, 0.051373980939388275, 0.17064443230628967, 0.04024248570203781, 0.21101003885269165], [0.247621089220047, 0.16917520761489868, 0.055111389607191086, 0.014216288924217224, 0.11350313574075699, 0.137773334980011, 0.046774543821811676, 0.21582499146461487], [0.3092036247253418, 0.10355067998170853, 0.03610239177942276, 0.15783224999904633, 0.042045775800943375, 0.08173511922359467, 0.06538553535938263, 0.20414461195468903], [0.2790067195892334, 0.09214352071285248, 0.04841053485870361, 0.12251569330692291, 0.06489995867013931, 0.0655478984117508, 0.09456086158752441, 0.2329147756099701], [0.31142330169677734, 0.14297060668468475, 0.042308542877435684, 0.03286956250667572, 0.10161163657903671, 0.1662222445011139, 0.007611126638948917, 0.19498293101787567], [0.612326443195343, 0.04829741641879082, 0.015167875215411186, 0.04902835190296173, 0.032723475247621536, 0.041534483432769775, 0.039757195860147476, 0.16116482019424438]], [[0.5533304214477539, 0.06363845616579056, 0.015026157721877098, 0.06201697513461113, 0.04671883583068848, 0.07544334977865219, 0.027070090174674988, 0.15675559639930725], [0.33111605048179626, 0.11784370243549347, 0.026639282703399658, 0.14773324131965637, 0.02701963298022747, 0.06845329701900482, 0.0681891217827797, 0.2130056470632553], [0.2603433132171631, 0.19930122792720795, 0.10239404439926147, 0.15937481820583344, 0.02373492531478405, 0.042646508663892746, 0.050777968019247055, 0.16142722964286804], [0.10877827554941177, 0.029270561411976814, 0.30216333270072937, 0.46823856234550476, 0.01739019714295864, 0.010182245634496212, 0.02994592674076557, 0.03403095155954361], [0.27578791975975037, 0.015232736244797707, 0.00928321573883295, 0.5170074701309204, 0.037683624774217606, 0.023506542667746544, 0.026781238615512848, 0.09471723437309265], [0.35119467973709106, 0.07448672503232956, 0.03818857669830322, 0.24167032539844513, 0.03521967679262161, 0.06746179610490799, 0.03791406378149986, 0.1538640707731247], [0.2769266664981842, 0.058949362486600876, 0.05610526725649834, 0.14343883097171783, 0.06296346336603165, 0.04040159657597542, 0.029337773099541664, 0.3318771421909332], [0.4392731487751007, 0.0985516905784607, 0.009574963711202145, 0.024019664153456688, 0.029279716312885284, 0.10472997277975082, 0.02105983905494213, 0.27351096272468567]], [[0.28989776968955994, 0.050397101789712906, 0.03784990310668945, 0.1165873110294342, 0.03605206683278084, 0.07965947687625885, 0.22412046790122986, 0.16543586552143097], [0.10094333440065384, 0.0443359911441803, 0.17999237775802612, 0.3198886811733246, 0.043637871742248535, 0.05723016336560249, 0.16019649803638458, 0.09377512335777283], [0.18740443885326385, 0.07899788022041321, 0.2795332670211792, 0.105122409760952, 0.05509626492857933, 0.03564384579658508, 0.003971240948885679, 0.25423064827919006], [0.3416653871536255, 0.044968776404857635, 0.11157350242137909, 0.028178147971630096, 0.04046819359064102, 0.03844218701124191, 0.00796482153236866, 0.386739045381546], [0.17523781955242157, 0.047919098287820816, 0.06269127130508423, 0.06753133982419968, 0.1465880274772644, 0.1008816733956337, 0.07706866413354874, 0.32208213210105896], [0.08599943667650223, 0.031857769936323166, 0.08989572525024414, 0.15604838728904724, 0.06013663485646248, 0.12689094245433807, 0.3533565104007721, 0.09581456333398819], [0.16823652386665344, 0.011730124242603779, 0.037412598729133606, 0.006962509360164404, 0.019626636058092117, 0.02431384287774563, 0.03480110317468643, 0.6969166398048401], [0.21865910291671753, 0.037464920431375504, 0.04863046482205391, 0.11107268184423447, 0.03238154947757721, 0.07884687185287476, 0.34027037024497986, 0.13267408311367035]], [[0.17706087231636047, 0.17713384330272675, 0.04702821373939514, 0.08508827537298203, 0.07800037413835526, 0.15245452523231506, 0.05841447412967682, 0.2248193919658661], [0.19625787436962128, 0.24080803990364075, 0.03271007537841797, 0.08859826624393463, 0.02885318361222744, 0.2884475290775299, 0.00655842199921608, 0.11776655167341232], [0.3807869851589203, 0.016435163095593452, 0.2613288462162018, 0.0041920095682144165, 0.007117775734513998, 0.014080200344324112, 0.008860636502504349, 0.30719834566116333], [0.23282915353775024, 0.21365542709827423, 0.0017728271195665002, 0.13436287641525269, 0.01170064602047205, 0.13567018508911133, 0.010454365983605385, 0.2595544755458832], [0.19925864040851593, 0.11104073375463486, 0.07056228071451187, 0.05154065787792206, 0.28302130103111267, 0.04625876620411873, 0.00508273858577013, 0.2332349717617035], [0.15078438818454742, 0.41597968339920044, 0.0372484028339386, 0.07304062694311142, 0.016143087297677994, 0.14202828705310822, 0.018071461468935013, 0.14670398831367493], [0.34646186232566833, 0.04803360626101494, 0.008470945991575718, 0.12960410118103027, 0.0070006526075303555, 0.08871952444314957, 0.0817844569683075, 0.2899248003959656], [0.19923686981201172, 0.11801357567310333, 0.01850532740354538, 0.13158315420150757, 0.08450229465961456, 0.16071338951587677, 0.0839061364531517, 0.20353925228118896]], [[0.587621808052063, 0.056631531566381454, 0.020913442596793175, 0.05933023989200592, 0.055435482412576675, 0.036773230880498886, 0.03298761323094368, 0.15030676126480103], [0.41164883971214294, 0.11332331597805023, 0.04858721047639847, 0.09723205864429474, 0.08125367760658264, 0.06202048808336258, 0.031407784670591354, 0.15452666580677032], [0.2185484915971756, 0.11067155003547668, 0.027888955548405647, 0.20827390253543854, 0.03901543468236923, 0.09796411544084549, 0.1230168417096138, 0.17462070286273956], [0.05868169665336609, 0.0967172235250473, 0.3658742606639862, 0.1523170918226242, 0.019915809854865074, 0.08020686358213425, 0.18387433886528015, 0.04241267964243889], [0.29172417521476746, 0.0815720185637474, 0.10178905725479126, 0.2455790936946869, 0.027158962562680244, 0.045556653290987015, 0.12323083728551865, 0.08338917791843414], [0.25987792015075684, 0.15189769864082336, 0.08589004725217819, 0.1685897409915924, 0.07773613184690475, 0.08581940829753876, 0.06620529294013977, 0.10398369282484055], [0.05719192698597908, 0.07498772442340851, 0.19949015974998474, 0.33545446395874023, 0.03943868726491928, 0.13443301618099213, 0.04040730744600296, 0.118596650660038], [0.8285368084907532, 0.020693132653832436, 0.0018125871429219842, 0.007172524929046631, 0.02118387632071972, 0.008361347950994968, 0.011346575804054737, 0.10089308023452759]], [[0.5425900220870972, 0.04907518997788429, 0.009916954673826694, 0.06660835444927216, 0.03907587006688118, 0.058572959154844284, 0.03287366032600403, 0.20128695666790009], [0.16981714963912964, 0.1455102264881134, 0.02080315165221691, 0.10551661998033524, 0.10601045936346054, 0.24543437361717224, 0.055924173444509506, 0.15098388493061066], [0.17865847051143646, 0.07203418016433716, 0.09126193076372147, 0.21685609221458435, 0.09993550926446915, 0.12338752299547195, 0.1714332550764084, 0.04643302410840988], [0.03309517726302147, 0.02939196676015854, 0.026303192600607872, 0.7392755746841431, 0.03630553558468819, 0.06501088291406631, 0.06175323575735092, 0.008864417672157288], [0.5367668271064758, 0.11461690813302994, 0.007039740215986967, 0.04840974882245064, 0.03311987593770027, 0.11049341410398483, 0.010737344622612, 0.13881619274616241], [0.2676531672477722, 0.12997156381607056, 0.01194546278566122, 0.10208328813314438, 0.0924316868185997, 0.21823257207870483, 0.05015166848897934, 0.1275305300951004], [0.25702226161956787, 0.09940475225448608, 0.06894097477197647, 0.18168561160564423, 0.0921243205666542, 0.1749718338251114, 0.0655604898929596, 0.06028979644179344], [0.7093876600265503, 0.040475815534591675, 0.00370207941159606, 0.03171754255890846, 0.021021949127316475, 0.058784931898117065, 0.007804778404533863, 0.1271052062511444]], [[0.4359230101108551, 0.022287238389253616, 0.03504341095685959, 0.1455332189798355, 0.025367967784404755, 0.07345880568027496, 0.011655009351670742, 0.25073128938674927], [1.2546488847853254e-10, 2.1909685177234905e-09, 0.9999778270721436, 2.212891740782652e-05, 3.707540798350041e-14, 1.4921583066374033e-11, 2.6878014245702853e-13, 5.380704326540808e-09], [2.0183514581884054e-10, 1.0337372200375141e-15, 1.86958222911926e-05, 0.9999812841415405, 1.550162450660031e-13, 5.749069369877073e-17, 7.981845716618056e-19, 2.2761859064246437e-10], [2.2194029952515848e-05, 1.2942234089985405e-12, 3.9305202648165505e-08, 0.9899963140487671, 0.009835041128098965, 3.672561277312525e-08, 2.0649458434395668e-13, 0.00014640211884398013], [3.166222450090572e-05, 2.933561290774378e-06, 1.521303261142748e-08, 4.673864850701648e-09, 2.31996978072857e-06, 0.9999624490737915, 5.3327781301959476e-08, 5.743779070144228e-07], [4.094497126061469e-05, 4.151802932028659e-05, 1.4549563275068067e-05, 0.00033307381090708077, 6.844512512316214e-09, 3.902363823726773e-05, 0.999455988407135, 7.498153718188405e-05], [5.241078724793624e-06, 1.2640305197941099e-13, 1.902830959465973e-08, 4.702539229128888e-07, 8.014181332449688e-12, 1.5612653585326403e-13, 2.425835088359918e-10, 0.9999942779541016], [0.9595475196838379, 2.7365878452201287e-09, 2.9952715863146295e-08, 0.015927297994494438, 0.00011479964450700209, 1.9378871002118103e-05, 7.870440299484471e-09, 0.02439102903008461]], [[0.5562211275100708, 0.05164104700088501, 0.019148044288158417, 0.025934183970093727, 0.03435730189085007, 0.04127601906657219, 0.022510822862386703, 0.24891136586666107], [0.373638391494751, 0.08783383667469025, 0.07174409180879593, 0.0554707795381546, 0.056917764246463776, 0.07444550842046738, 0.06499786674976349, 0.2149517983198166], [0.04016062989830971, 0.3282475471496582, 0.13908711075782776, 0.07409337162971497, 0.03401977941393852, 0.1709221750497818, 0.1823025494813919, 0.031166886910796165], [0.20611576735973358, 0.054718729108572006, 0.07251668721437454, 0.45531708002090454, 0.01963593252003193, 0.04209589213132858, 0.048620883375406265, 0.10097898542881012], [0.596294641494751, 0.03989790752530098, 0.018208224326372147, 0.1298646777868271, 0.01056305505335331, 0.03977527096867561, 0.04920625314116478, 0.11619003862142563], [0.34028998017311096, 0.09213870018720627, 0.06132560223340988, 0.08558065444231033, 0.05153448507189751, 0.07169539481401443, 0.10287027806043625, 0.1945647895336151], [0.16307179629802704, 0.19290506839752197, 0.009510443545877934, 0.2647947072982788, 0.02632160671055317, 0.122272789478302, 0.058045435696840286, 0.163078173995018], [0.8656315207481384, 0.015112228691577911, 0.002671890426427126, 0.00314489402808249, 0.012781471945345402, 0.012895933352410793, 0.004185343626886606, 0.08357669413089752]], [[0.639248788356781, 0.03288338705897331, 0.007080580573529005, 0.024008503183722496, 0.02395271323621273, 0.0453653559088707, 0.02472924441099167, 0.20273135602474213], [0.11001460999250412, 0.05346965044736862, 0.08507329225540161, 0.2196498066186905, 0.06101435422897339, 0.09581683576107025, 0.17740820348262787, 0.19755332171916962], [0.15283794701099396, 0.06700890511274338, 0.042269378900527954, 0.1455303132534027, 0.0656699687242508, 0.14480258524417877, 0.16388829052448273, 0.2179926037788391], [0.03233867138624191, 0.015179824084043503, 0.05795717239379883, 0.07013512402772903, 0.019077688455581665, 0.023518415167927742, 0.673018217086792, 0.10877488553524017], [0.5309568643569946, 0.03691723570227623, 0.010922824032604694, 0.028051624074578285, 0.00911023374646902, 0.026896435767412186, 0.05005330219864845, 0.30709147453308105], [0.26904296875, 0.07483895868062973, 0.07370665669441223, 0.12199423462152481, 0.03923863545060158, 0.051658887416124344, 0.10143136233091354, 0.2680884003639221], [0.39262810349464417, 0.033048901706933975, 0.021037302911281586, 0.29663121700286865, 0.025972703471779823, 0.02726198546588421, 0.018624957650899887, 0.1847948282957077], [0.902683675289154, 0.013753318227827549, 0.0007850422407500446, 0.002988070249557495, 0.0070791663601994514, 0.018853792920708656, 0.0024646667297929525, 0.051392313092947006]]], [[[0.0663825049996376, 0.006925258319824934, 0.0060669612139463425, 0.0022547179833054543, 0.0026080573443323374, 0.008018606342375278, 0.0006292336620390415, 0.9071146249771118], [0.0884908065199852, 0.01904940977692604, 0.0005760699277743697, 9.022996528074145e-05, 0.0007103000534698367, 0.02052214927971363, 4.949888534611091e-05, 0.870511531829834], [0.0175880566239357, 0.0026342598721385, 0.9538429379463196, 0.00044060134678147733, 0.0012721082894131541, 0.003180266357958317, 0.004533718805760145, 0.016507936641573906], [0.018087781965732574, 2.412805952189956e-05, 4.394029019749723e-06, 0.00021280259534250945, 1.1218219242437044e-06, 7.815359276719391e-05, 8.695724318386056e-06, 0.9815829396247864], [0.046546246856451035, 0.0014573049265891314, 0.00016944616800174117, 9.043914178619161e-05, 0.04358534887433052, 0.0011142578441649675, 1.4517936506308615e-05, 0.9070224761962891], [0.05134961009025574, 0.010963152162730694, 0.00032248839852400124, 0.0002050758630502969, 0.00037584640085697174, 0.0060422830283641815, 1.3491228855855297e-05, 0.930728018283844], [0.02208213321864605, 0.00019895545847248286, 0.0003894660621881485, 0.0002231568214483559, 2.2661535695078783e-05, 0.00018830114277079701, 0.022052373737096786, 0.9548428654670715], [0.10654834657907486, 0.003929494880139828, 0.002653476782143116, 0.00668714614585042, 0.004489428363740444, 0.005976999644190073, 0.0023262486793100834, 0.8673888444900513]], [[0.15352003276348114, 0.07142087817192078, 0.0407058410346508, 0.10995516180992126, 0.04727926105260849, 0.053340207785367966, 0.2518733739852905, 0.2719052731990814], [0.28712910413742065, 0.05441652238368988, 0.030899636447429657, 0.11123616248369217, 0.01530027762055397, 0.0433056615293026, 0.02342366985976696, 0.434288889169693], [0.30721163749694824, 0.10001019388437271, 0.015571708790957928, 0.1798420250415802, 0.026426618918776512, 0.05193691328167915, 0.02463698200881481, 0.29436391592025757], [0.183357834815979, 0.1334419697523117, 0.13382309675216675, 0.02377353422343731, 0.15164770185947418, 0.128481924533844, 0.06761215627193451, 0.17786166071891785], [0.20008859038352966, 0.01732269674539566, 0.06591233611106873, 0.23053893446922302, 0.020102830603718758, 0.016344519332051277, 0.06489891558885574, 0.38479119539260864], [0.2868095934391022, 0.05121541768312454, 0.04300093278288841, 0.10443776845932007, 0.02188943699002266, 0.042179174721241, 0.033901382237672806, 0.4165661633014679], [0.03107037954032421, 0.021982165053486824, 0.010812179185450077, 0.014384383335709572, 0.006129858549684286, 0.011692559346556664, 0.03182410076260567, 0.8721043467521667], [0.18377330899238586, 0.0150169488042593, 0.005671405699104071, 0.006016632076352835, 0.006147095002233982, 0.007739294320344925, 0.02104635164141655, 0.7545889019966125]], [[0.005748216062784195, 0.01719132624566555, 0.0380503349006176, 0.8128986358642578, 0.008760946802794933, 0.008980512619018555, 0.08896159380674362, 0.019408483058214188], [0.2488093227148056, 0.19928273558616638, 0.00849889311939478, 0.0070920116268098354, 0.02099839597940445, 0.13156132400035858, 0.0016798160504549742, 0.3820774257183075], [0.404772013425827, 0.11372027546167374, 0.020043227821588516, 0.008360919542610645, 0.07111398130655289, 0.10497079789638519, 0.006346341222524643, 0.27067244052886963], [0.1908285915851593, 0.1155468299984932, 0.019002562388777733, 0.0032261989545077085, 0.1257360726594925, 0.1258784681558609, 0.002074755961075425, 0.4177064895629883], [0.2263595014810562, 0.10089441388845444, 0.010538256727159023, 0.00957611482590437, 0.1762707233428955, 0.17411702871322632, 0.0057855090126395226, 0.2964584231376648], [0.22528614103794098, 0.28245431184768677, 0.00766349071636796, 0.006725822109729052, 0.028655389323830605, 0.16915614902973175, 0.0017748805694282055, 0.2782837748527527], [0.3176029324531555, 0.03507983684539795, 0.017211493104696274, 0.0073182545602321625, 0.1434735208749771, 0.059121791273355484, 0.0010175250936299562, 0.41917452216148376], [0.08103828132152557, 0.014924689196050167, 0.012065412476658821, 0.08507784456014633, 0.0171620175242424, 0.0113918362185359, 0.010979886166751385, 0.7673600316047668]], [[0.18090513348579407, 0.03893699124455452, 0.033755455166101456, 0.08240430802106857, 0.11288759857416153, 0.07136102020740509, 0.1467958241701126, 0.33295366168022156], [0.06033595651388168, 0.03085622563958168, 0.08364791423082352, 0.11903417855501175, 0.45959433913230896, 0.12123898416757584, 0.06245221570134163, 0.06284014880657196], [0.0992731899023056, 0.013229504227638245, 0.013229390606284142, 0.09103599190711975, 0.20348559319972992, 0.12248684465885162, 0.22667554020881653, 0.23058389127254486], [0.1646071821451187, 0.002027408452704549, 0.005678058136254549, 0.004375668242573738, 0.0626513659954071, 0.031243324279785156, 0.051556043326854706, 0.6778609752655029], [0.07699225097894669, 0.005987956188619137, 0.01057987380772829, 0.004972974769771099, 0.02447200007736683, 0.03367496281862259, 0.791302502155304, 0.05201750621199608], [0.2011571079492569, 0.008018622174859047, 0.015186291188001633, 0.06549132615327835, 0.07475674897432327, 0.03636908158659935, 0.21236634254455566, 0.38665446639060974], [0.19499528408050537, 0.0005815762560814619, 0.0013973158784210682, 0.0011867277789860964, 0.005655886605381966, 0.0005620730808004737, 0.0011811725562438369, 0.7944400310516357], [0.2056439369916916, 0.00808302778750658, 0.002878101309761405, 0.005506691988557577, 0.011515222489833832, 0.006712434347718954, 0.010931810364127159, 0.7487287521362305]], [[0.06941816955804825, 0.022615820169448853, 0.04568767547607422, 0.07027649134397507, 0.046184152364730835, 0.019031353294849396, 0.1163744330406189, 0.6104118824005127], [0.1050150915980339, 0.04052656888961792, 0.052330248057842255, 0.24155721068382263, 0.02663654275238514, 0.02144487574696541, 0.05794143304228783, 0.4545479714870453], [0.03521750122308731, 0.008166534826159477, 0.0069228122010827065, 0.10689614713191986, 0.01654367707669735, 0.005970002617686987, 0.02631586603820324, 0.7939674258232117], [0.10515787452459335, 0.03021703101694584, 0.015651697292923927, 0.08228806406259537, 0.11323846876621246, 0.06252865493297577, 0.03376559168100357, 0.5571526288986206], [0.12814942002296448, 0.044429976493120193, 0.022172434255480766, 0.15357626974582672, 0.01651531271636486, 0.033150434494018555, 0.02631278522312641, 0.5756933689117432], [0.0624106265604496, 0.030166031792759895, 0.04799535125494003, 0.5750501751899719, 0.03450445085763931, 0.01650404743850231, 0.1131146177649498, 0.12025472521781921], [0.010004431940615177, 0.02042149007320404, 0.04161439463496208, 0.5970812439918518, 0.10868183523416519, 0.022478705272078514, 0.04032203555107117, 0.15939591825008392], [0.10716962814331055, 0.003507837885990739, 0.0011057555675506592, 0.00020593046792782843, 0.004709733184427023, 0.006919337902218103, 0.002579186577349901, 0.8738026022911072]], [[0.3104344308376312, 0.09716171026229858, 0.06552857905626297, 0.034463103860616684, 0.16242705285549164, 0.09521277993917465, 0.1973150074481964, 0.03745723515748978], [0.5172959566116333, 0.048535823822021484, 0.0002803234674502164, 0.0002139841963071376, 0.3778577446937561, 0.002005277667194605, 0.009013291448354721, 0.044797636568546295], [0.01885971985757351, 0.9652484059333801, 0.012510566972196102, 6.694552575936541e-05, 0.0002389764558756724, 0.00028378667775541544, 0.0025408058427274227, 0.00025073240976780653], [0.03542668744921684, 0.23857662081718445, 0.7087382078170776, 0.0058763460256159306, 0.000128401632537134, 0.005393390078097582, 0.005469702184200287, 0.0003906675265170634], [0.0026339911855757236, 0.0001865743543021381, 0.00844709761440754, 0.9817190766334534, 0.005772406235337257, 0.0005632464890368283, 0.00015128457744140178, 0.0005263321800157428], [0.001814886461943388, 0.00012952064571436495, 4.667795110435691e-06, 0.00014246781938709319, 0.9949159622192383, 0.0022747120819985867, 0.00018108529911842197, 0.0005366423283703625], [0.07087557762861252, 0.0013295692624524236, 0.001753607764840126, 0.0005544493906199932, 0.05221956968307495, 0.7413737773895264, 0.12982311844825745, 0.0020703584887087345], [0.7804684042930603, 0.032377101480960846, 0.006328715477138758, 0.03470834717154503, 0.038729384541511536, 0.04446820914745331, 0.03458971157670021, 0.02833012491464615]], [[0.03144586458802223, 0.013919166289269924, 0.05909837409853935, 0.6339128613471985, 0.0053262859582901, 0.010334002785384655, 0.11182666569948196, 0.1341368556022644], [0.31118664145469666, 0.08964136987924576, 0.16468006372451782, 0.009287997148931026, 0.015762528404593468, 0.04910711199045181, 0.047323063015937805, 0.31301116943359375], [0.25905749201774597, 0.09469921141862869, 0.12778760492801666, 0.0019844151102006435, 0.01193710882216692, 0.04001440480351448, 0.01263392437249422, 0.451885849237442], [0.29975447058677673, 0.056807421147823334, 0.02258470095694065, 0.0013309522764757276, 0.027783498167991638, 0.024528199806809425, 0.010190158151090145, 0.5570205450057983], [0.22520074248313904, 0.03593837469816208, 0.016417188569903374, 0.03103932924568653, 0.1286328136920929, 0.040565717965364456, 0.018516022711992264, 0.5036897659301758], [0.30278605222702026, 0.09397540241479874, 0.09263142943382263, 0.036770738661289215, 0.03342587873339653, 0.08195255696773529, 0.07570238411426544, 0.2827555537223816], [0.2993202805519104, 0.008894268423318863, 0.005459242034703493, 0.001616401132196188, 0.008995520882308483, 0.01049837563186884, 0.0003989600809291005, 0.6648169159889221], [0.1231546476483345, 0.007888130843639374, 0.011216298677027225, 0.017142534255981445, 0.011251336894929409, 0.009388166479766369, 0.022546732798218727, 0.7974122166633606]], [[0.19333112239837646, 0.12611426413059235, 0.06829722970724106, 0.1693842113018036, 0.08478944003582001, 0.1143912523984909, 0.0510021336376667, 0.19269037246704102], [0.08531191200017929, 0.24377480149269104, 0.08277382701635361, 0.06443922966718674, 0.15255194902420044, 0.15790626406669617, 0.07397007942199707, 0.13927188515663147], [0.09593397378921509, 0.19359004497528076, 0.014668063260614872, 0.020616846159100533, 0.12133192270994186, 0.17232125997543335, 0.024003636091947556, 0.3575342893600464], [0.21532145142555237, 0.2025313675403595, 0.03350519388914108, 0.009362269192934036, 0.07845685631036758, 0.11565173417329788, 0.004896777682006359, 0.34027430415153503], [0.2648899555206299, 0.045438501983881, 0.024503840133547783, 0.12624210119247437, 0.203770712018013, 0.04543517157435417, 0.025367112830281258, 0.26435256004333496], [0.2018916755914688, 0.16589902341365814, 0.05387582257390022, 0.08806023746728897, 0.15611355006694794, 0.11664596199989319, 0.057990361005067825, 0.1595233827829361], [0.2707328796386719, 0.12019835412502289, 0.010795253328979015, 0.010054088197648525, 0.06723076105117798, 0.11619160324335098, 0.01210572849959135, 0.39269134402275085], [0.08824247121810913, 0.005636575631797314, 0.0018436809768900275, 0.02533373236656189, 0.009411766193807125, 0.006530587561428547, 0.007394167594611645, 0.8556069731712341]], [[0.23279576003551483, 0.032975148409605026, 0.03134382888674736, 0.16265767812728882, 0.02501515857875347, 0.024534374475479126, 0.050180766731500626, 0.44049736857414246], [0.10829129070043564, 0.03466147929430008, 0.06560730189085007, 0.4497533142566681, 0.02695581130683422, 0.03098457306623459, 0.021186919882893562, 0.26255935430526733], [0.03622864559292793, 0.08369692414999008, 0.2852458655834198, 0.28055691719055176, 0.023197684437036514, 0.021102910861372948, 0.05711248889565468, 0.21285849809646606], [0.013664969243109226, 0.03655307739973068, 0.09708552807569504, 0.6909670829772949, 0.04709120839834213, 0.01650000736117363, 0.028147302567958832, 0.06999081373214722], [0.06622850894927979, 0.019047383219003677, 0.030212700366973877, 0.5881351828575134, 0.019414806738495827, 0.019300386309623718, 0.040607720613479614, 0.21705326437950134], [0.0600016824901104, 0.027695490047335625, 0.04414062574505806, 0.6950494647026062, 0.03799905627965927, 0.021321283653378487, 0.028818827122449875, 0.08497360348701477], [0.010547640733420849, 0.01701461337506771, 0.01745035871863365, 0.8547762036323547, 0.02914893440902233, 0.013248738832771778, 0.010093132965266705, 0.047720279544591904], [0.19149236381053925, 0.002370155416429043, 0.004603832960128784, 0.016659561544656754, 0.004372352734208107, 0.004081583581864834, 0.007751192897558212, 0.7686689496040344]], [[0.40004590153694153, 0.02883288823068142, 0.03297346830368042, 0.10032183676958084, 0.05431630462408066, 0.035402145236730576, 0.10254528373479843, 0.2455621361732483], [0.006739095319062471, 0.00045325246173888445, 0.6562631130218506, 0.32908564805984497, 0.0006748436135239899, 0.00024956645211204886, 0.001348791061900556, 0.0051857479847967625], [0.006488516461104155, 3.206936889910139e-05, 0.012686209753155708, 0.9769731760025024, 0.00028602121165022254, 4.9446691264165565e-05, 5.36879560968373e-05, 0.003430762328207493], [0.08023996651172638, 0.0002552567166276276, 0.008195629343390465, 0.14894352853298187, 0.6614503264427185, 0.010660071857273579, 0.0017123556463047862, 0.08854281902313232], [0.038157422095537186, 0.005766973365098238, 0.00678491173312068, 0.0036849630996584892, 0.00694294972345233, 0.32934829592704773, 0.5891615748405457, 0.0201528649777174], [0.13609130680561066, 0.003169682342559099, 0.06300737708806992, 0.059893134981393814, 0.00871142465621233, 0.03009573183953762, 0.6439729928970337, 0.055058397352695465], [0.9795976281166077, 6.100837254052749e-06, 1.8561902834335342e-05, 0.0002215121639892459, 3.946849756175652e-05, 1.586321377544664e-05, 9.740518726175651e-05, 0.020003408193588257], [0.7826246023178101, 0.013470121659338474, 0.001055664848536253, 0.005788029171526432, 0.06493151187896729, 0.02694873698055744, 0.009213641285896301, 0.09596774727106094]], [[0.1163364127278328, 0.03179515153169632, 0.03435640409588814, 0.05294026806950569, 0.021665532141923904, 0.034363072365522385, 0.07404663413763046, 0.6344964504241943], [0.0689808651804924, 0.006932646967470646, 0.06321283429861069, 0.050783347338438034, 0.003438807325437665, 0.009747347794473171, 0.04564273729920387, 0.7512614727020264], [0.04308338835835457, 0.0016645471332594752, 0.009913738816976547, 0.03687015548348427, 0.0004099261132068932, 0.0021719220094382763, 0.04814046993851662, 0.857745885848999], [0.22712573409080505, 0.010937605053186417, 0.028427133336663246, 0.13771569728851318, 0.010054570622742176, 0.033183444291353226, 0.11438515782356262, 0.4381706416606903], [0.032865993678569794, 0.01048482209444046, 0.004019915591925383, 0.0410129576921463, 0.003443139838054776, 0.025134313851594925, 0.8384159207344055, 0.04462294280529022], [0.06428850442171097, 0.009547680616378784, 0.02161838859319687, 0.13462099432945251, 0.007818054407835007, 0.015334435738623142, 0.12123571336269379, 0.6255362629890442], [0.023700278252363205, 0.0007288614870049059, 0.0007716356194578111, 0.09302882105112076, 0.0008559509296901524, 0.002115861978381872, 0.0029791139531880617, 0.8758195042610168], [0.12103979289531708, 0.0016608890146017075, 0.0005680066533386707, 0.00409870408475399, 0.0019086857791990042, 0.0025855947751551867, 0.004409553483128548, 0.8637287616729736]], [[0.26404935121536255, 0.09671781957149506, 0.03461826220154762, 0.07293196767568588, 0.12428122758865356, 0.08442935347557068, 0.038360048085451126, 0.2846119999885559], [0.232198104262352, 0.013709095306694508, 0.0033148268703371286, 0.005901449825614691, 0.021582840010523796, 0.006172716151922941, 0.0034070161636918783, 0.7137140035629272], [0.1308383047580719, 0.02939101681113243, 0.0037861685268580914, 0.005099935922771692, 0.002646137261763215, 0.003308334620669484, 0.005543104838579893, 0.8193870186805725], [0.23722495138645172, 0.10452299565076828, 0.021405847743153572, 0.005528476554900408, 0.02003980614244938, 0.04327384755015373, 0.008427789434790611, 0.5595762729644775], [0.04928373545408249, 0.20837007462978363, 0.32594719529151917, 0.30761390924453735, 0.019282162189483643, 0.027681877836585045, 0.0032553058117628098, 0.05856576934456825], [0.03494449332356453, 0.036604203283786774, 0.12220905721187592, 0.3601234257221222, 0.19763433933258057, 0.021705424413084984, 0.005207394249737263, 0.22157153487205505], [0.03721652925014496, 0.008007367141544819, 0.008045177906751633, 0.21000932157039642, 0.3916546404361725, 0.05606028437614441, 0.023661956191062927, 0.26534464955329895], [0.5878320336341858, 0.02456062287092209, 0.004278183914721012, 0.0069197118282318115, 0.0169716514647007, 0.02233949303627014, 0.006425409112125635, 0.33067286014556885]]], [[[0.015711193904280663, 0.00034465250791981816, 0.0005026315338909626, 0.00017917368677444756, 0.00012128170055802912, 0.0001425002992618829, 0.0027308273129165173, 0.9802677631378174], [0.0016949549317359924, 0.0003427125629968941, 0.0019153420580551028, 0.01250211801379919, 0.0003919237933587283, 0.00020427799609024078, 0.023095902055501938, 0.9598527550697327], [0.000424485479015857, 0.0002812353486660868, 0.0007667418103665113, 0.00617403956130147, 0.00011000118684023619, 5.9730798966484144e-05, 0.010403139516711235, 0.9817806482315063], [0.00021860894048586488, 0.0003541996702551842, 9.315118222730234e-05, 0.0014687771908938885, 7.388673111563548e-05, 0.0001549149747006595, 0.0047839307226240635, 0.992852509021759], [0.0029446701519191265, 0.004395920317620039, 0.004817175213247538, 0.5501481294631958, 0.000961214944254607, 0.005421159788966179, 0.1405712217092514, 0.2907405495643616], [0.0023172644432634115, 0.00267845974303782, 0.006184586323797703, 0.10377474874258041, 0.004804680589586496, 0.0016289693303406239, 0.11446911096572876, 0.7641422152519226], [0.0077882204204797745, 0.0015313299372792244, 0.002730805892497301, 0.008179419673979282, 0.0007557839853689075, 0.0006044285255484283, 0.008332828991115093, 0.9700772166252136], [0.0021119299344718456, 7.234357326524332e-05, 3.878758798236959e-05, 0.00018246169202029705, 3.615683090174571e-05, 9.322111145593226e-05, 0.002746497979387641, 0.9947185516357422]], [[0.009506843984127045, 0.001936522894538939, 0.03922686353325844, 0.10400950908660889, 0.0005655240966007113, 0.0011982732685282826, 0.8405221104621887, 0.00303442869335413], [0.03361883386969566, 0.14095130562782288, 0.03326413780450821, 0.05080481618642807, 0.13120700418949127, 0.2913631200790405, 0.2738150656223297, 0.04497573897242546], [0.04133995249867439, 0.09020465612411499, 0.018733838573098183, 0.059494711458683014, 0.056558217853307724, 0.24011914432048798, 0.05272529274225235, 0.4408242106437683], [0.0009124580537900329, 0.003358431626111269, 0.0002796687767840922, 0.003108876058831811, 0.0014122012071311474, 0.005130678415298462, 0.0002254209975944832, 0.9855722784996033], [0.030801067128777504, 0.28059524297714233, 0.0213457178324461, 0.02105771377682686, 0.08303665369749069, 0.3405768573284149, 0.01631992869079113, 0.20626682043075562], [0.01636343263089657, 0.14411334693431854, 0.019017310813069344, 0.022420095279812813, 0.03589431941509247, 0.2144971340894699, 0.017713502049446106, 0.5299808979034424], [0.024614062160253525, 0.057759325951337814, 0.00598815968260169, 0.052393753081560135, 0.03414863348007202, 0.07314927875995636, 0.0077090151607990265, 0.7442377805709839], [0.013108452782034874, 0.004273157101124525, 0.0031892312690615654, 0.021923284977674484, 0.005834375042468309, 0.005161711014807224, 0.007585375104099512, 0.9389244318008423]], [[0.00025585119146853685, 0.002641188446432352, 0.007695729844272137, 0.971991240978241, 0.0002863621630240232, 0.0007556895143352449, 0.014148276299238205, 0.0022256984375417233], [0.23464079201221466, 0.16794884204864502, 0.02468007802963257, 0.018981268629431725, 0.0689958855509758, 0.1495649218559265, 0.02532830834388733, 0.3098599910736084], [0.08870762586593628, 0.02649267576634884, 0.001296968082897365, 0.0014946053270250559, 0.00275762309320271, 0.026265591382980347, 0.006494892295449972, 0.8464900255203247], [0.07207339257001877, 0.011279863305389881, 0.003362849820405245, 0.0029944528359919786, 0.010051672346889973, 0.00820617750287056, 0.0021301754750311375, 0.8899014592170715], [0.09972074627876282, 0.047719333320856094, 0.025815436616539955, 0.008778451010584831, 0.05830523744225502, 0.06382737308740616, 0.011834916658699512, 0.6839984655380249], [0.35217687487602234, 0.08082449436187744, 0.010110709816217422, 0.010181307792663574, 0.05325904116034508, 0.13482454419136047, 0.018477633595466614, 0.34014543890953064], [0.11619699746370316, 0.002380415564402938, 0.0057710618712008, 0.000465771445306018, 0.00877644494175911, 0.01902838423848152, 0.0003693558683153242, 0.8470115661621094], [0.032833267003297806, 0.008277158252894878, 0.006380392238497734, 0.003374741179868579, 0.014483202248811722, 0.020066019147634506, 0.003891461296007037, 0.9106937646865845]], [[0.05446833372116089, 0.005870371125638485, 0.004208581056445837, 0.010014787316322327, 0.0055202916264534, 0.0025084326043725014, 0.0059240637347102165, 0.9114851355552673], [0.009943467564880848, 0.013302461244165897, 0.00027659398620016873, 0.0002903845743276179, 9.875570685835555e-05, 0.0019714529626071453, 0.0019482935313135386, 0.9721686244010925], [0.009901228360831738, 4.25875696237199e-05, 0.0873984843492508, 0.003346041077747941, 2.733549081312958e-05, 0.00012041055742884055, 0.0034708960447460413, 0.8956930637359619], [0.00023335030709858984, 5.889355065846757e-07, 1.2395965995892766e-06, 0.0005645427154377103, 7.299054232134949e-06, 8.004971618902346e-07, 2.473435779393185e-05, 0.9991674423217773], [0.00011057487427024171, 2.1464001065396587e-07, 6.173967648237522e-08, 6.9784964580321684e-06, 0.00041716473060660064, 2.423121259198524e-07, 1.80627421286772e-06, 0.9994630217552185], [0.0037860553711652756, 0.0063652414828538895, 0.0007870768895372748, 0.0007773250108584762, 0.0001481873623561114, 0.009359332732856274, 0.0014443635009229183, 0.977332353591919], [9.386976307723671e-05, 2.907642965510604e-06, 2.3466109269065782e-06, 0.00020566588500514627, 7.363818781414011e-07, 1.8429511783324415e-06, 0.0003988548123743385, 0.9992938041687012], [0.0010639933170750737, 8.659651211928576e-05, 3.2779364119051024e-05, 0.0002351354924030602, 8.038780651986599e-05, 5.0068865675712004e-05, 0.00015767426521051675, 0.9982933402061462]], [[0.003928986843675375, 0.001520381192676723, 0.0028781152796000242, 0.6310300230979919, 0.004770551808178425, 0.0002085044834529981, 0.03391486406326294, 0.3217484951019287], [0.004628320690244436, 0.014337863773107529, 0.01396107953041792, 0.3762455880641937, 0.017507705837488174, 0.0019205283606424928, 0.006132268812507391, 0.5652666091918945], [0.0015667257830500603, 0.009898348711431026, 0.005249494221061468, 0.3152700960636139, 0.0068379915319383144, 0.002113585826009512, 0.007569796871393919, 0.6514939665794373], [0.002334992866963148, 0.05318820849061012, 0.012746787630021572, 0.20149925351142883, 0.062372077256441116, 0.035526618361473083, 0.01689857989549637, 0.6154334545135498], [0.0010172855108976364, 0.015274468809366226, 0.012201204895973206, 0.287749707698822, 0.040682584047317505, 0.003598931711167097, 0.011648643761873245, 0.6278271079063416], [0.001429701573215425, 0.015557080507278442, 0.01126235444098711, 0.445500910282135, 0.027882196009159088, 0.0019190690945833921, 0.006155039649456739, 0.49029362201690674], [0.0001807354565244168, 0.0007289782515726984, 0.0008044209680519998, 0.04927990585565567, 0.004262053407728672, 0.0005152601515874267, 0.0018069755751639605, 0.9424216151237488], [4.8001238610595465e-05, 7.194297359092161e-05, 5.9757367125712335e-05, 0.007182337809354067, 0.00012181762576801702, 2.6336820155847818e-05, 0.0003364479052834213, 0.9921533465385437]], [[0.009312252514064312, 0.0018608702812343836, 0.0035199348349124193, 0.03316393122076988, 0.0038311700336635113, 0.0015404295409098268, 0.009075446985661983, 0.9376960396766663], [0.03117167390882969, 0.003299339674413204, 0.5078189969062805, 0.34660792350769043, 0.062295250594615936, 0.007169821299612522, 0.012229987420141697, 0.02940690703690052], [0.010352127254009247, 0.002281780121847987, 0.010694963857531548, 0.07804473489522934, 0.027723141014575958, 0.033263735473155975, 0.003915382549166679, 0.8337241411209106], [0.0019664920400828123, 0.0002922905841842294, 0.0010465551167726517, 0.0043188133276999, 0.022321635857224464, 0.004447064362466335, 0.026248762384057045, 0.9393584132194519], [0.027726035565137863, 0.0002438448864268139, 0.0033864439465105534, 0.0014987094327807426, 0.0009878600249066949, 0.0025954467710107565, 0.9397948384284973, 0.023766737431287766], [0.04675488919019699, 0.0006788761238567531, 0.009009091183543205, 0.01590084843337536, 0.012213677167892456, 0.012514914385974407, 0.31064578890800476, 0.5922819375991821], [0.00028300422127358615, 3.467150963842869e-05, 0.0002697644813451916, 0.002949604531750083, 0.0010116457706317306, 0.0001818217133404687, 0.0012852596119046211, 0.9939842820167542], [0.001383284805342555, 0.00048150058137252927, 0.0020095317158848047, 0.00772290350869298, 0.0034480756148695946, 0.0017236804123967886, 0.008663536049425602, 0.9745674729347229]], [[0.0003363144933246076, 1.4904655472491868e-05, 7.242001629492734e-06, 9.319506352767348e-05, 1.75553941517137e-05, 3.7959071050863713e-06, 0.000779018213506788, 0.9987479448318481], [0.012941960245370865, 0.010783830657601357, 0.007884455844759941, 0.013221247121691704, 0.009077160619199276, 0.003460788866505027, 0.11997335404157639, 0.8226572275161743], [0.06013927236199379, 0.08626651018857956, 0.019965816289186478, 0.10409653931856155, 0.006441785953938961, 0.009047755040228367, 0.3969106376171112, 0.3171316683292389], [0.0030012603383511305, 0.017825771123170853, 0.006084436550736427, 0.023603668436408043, 0.007185251917690039, 0.003525773761793971, 0.10604344308376312, 0.8327304124832153], [0.0055399686098098755, 0.006821527611464262, 0.002775317756459117, 0.013500669971108437, 0.003486227709800005, 0.0012407278409227729, 0.018577469512820244, 0.9480581283569336], [0.006094879005104303, 0.010139659978449345, 0.0045125968754291534, 0.07983227074146271, 0.02358812279999256, 0.0027815939392894506, 0.043915651738643646, 0.8291352391242981], [0.01288216095417738, 0.00902932696044445, 0.003545639803633094, 0.08991916477680206, 0.13339972496032715, 0.015779558569192886, 0.036087267100811005, 0.6993571519851685], [6.970659160288051e-05, 2.126561594195664e-05, 1.1260818610026035e-05, 8.041341789066792e-05, 1.7656331692705862e-05, 8.42026111058658e-06, 0.00030423543648794293, 0.999487042427063]], [[0.012027140706777573, 0.0041853939183056355, 0.005131620913743973, 0.014725410379469395, 0.016078943386673927, 0.0028829823713749647, 0.011884231120347977, 0.9330843091011047], [0.0011437247740104795, 0.0015488332137465477, 0.0009544510394334793, 0.009428168646991253, 0.006591451819986105, 6.918106373632327e-05, 0.0023333739954978228, 0.9779307842254639], [0.005645943805575371, 0.023258425295352936, 0.004724021535366774, 0.002781585557386279, 0.00026490376330912113, 0.00021699639910366386, 0.004131190944463015, 0.9589769840240479], [0.0005639885785058141, 0.0002092700742650777, 0.0004996157367713749, 0.0018152499105781317, 0.00028913194546476007, 7.831314724171534e-05, 0.001435406506061554, 0.9951090216636658], [0.006543740630149841, 0.000260410102782771, 0.0010748500935733318, 0.7474341988563538, 0.003510500770062208, 0.0004518868518061936, 0.12443450838327408, 0.11628985404968262], [0.01568388007581234, 0.008560732007026672, 0.00609221076592803, 0.11329736560583115, 0.27584394812583923, 0.0031172875314950943, 0.019683683291077614, 0.5577208995819092], [0.002290820237249136, 0.0007673286600038409, 0.0002232730039395392, 0.005307808518409729, 0.030244914814829826, 0.0018637793837115169, 0.0033423181157559156, 0.9559597373008728], [0.0005650384118780494, 0.0004957026103511453, 0.0004281833244021982, 0.002348397858440876, 0.0023005413822829723, 0.00061993976123631, 0.0026615364477038383, 0.9905807375907898]], [[0.014698962680995464, 0.011722113937139511, 0.011113351210951805, 0.006436623632907867, 0.004434407688677311, 0.0020352948922663927, 0.008266975171864033, 0.9412922263145447], [0.08348149806261063, 0.03839222341775894, 0.023940619081258774, 0.09343253076076508, 0.03267582505941391, 0.06065700948238373, 0.043482158333063126, 0.6239381432533264], [0.07916027307510376, 0.04203307628631592, 0.06630578637123108, 0.06082139164209366, 0.0057325465604662895, 0.01908005401492119, 0.03712382912635803, 0.6897430419921875], [0.01961904764175415, 0.00363285094499588, 0.004652275238186121, 0.008417293429374695, 0.0008192691602744162, 0.002186146331951022, 0.012766682542860508, 0.9479064345359802], [0.03138232231140137, 0.007832566276192665, 0.0044486187398433685, 0.03694233298301697, 0.0031768351327627897, 0.004543397109955549, 0.03383859246969223, 0.8778352737426758], [0.04572742432355881, 0.023421192541718483, 0.015696976333856583, 0.05482222139835358, 0.033464543521404266, 0.04279080405831337, 0.06555579602718353, 0.7185210585594177], [0.007482126820832491, 0.011231382377445698, 0.0124072739854455, 0.002746534300968051, 0.0025544981472194195, 0.004021266475319862, 0.0018350522732362151, 0.9577218294143677], [0.004289546981453896, 0.004854587372392416, 0.00314212660305202, 0.004193443339318037, 0.0021731285378336906, 0.0017309184186160564, 0.009132454171776772, 0.9704838395118713]], [[0.025712238624691963, 0.015934452414512634, 0.02378718927502632, 0.1538042277097702, 0.018000278621912003, 0.012443210929632187, 0.03708780184388161, 0.7132306694984436], [0.09838994592428207, 0.1012355238199234, 0.05155942961573601, 0.032549966126680374, 0.005563537590205669, 0.10797090828418732, 0.021264484152197838, 0.5814661979675293], [0.04816717654466629, 0.028192443773150444, 0.006432184483855963, 0.20000316202640533, 0.019709287211298943, 0.044862378388643265, 0.13135100901126862, 0.5212823152542114], [0.3717183470726013, 0.03546576574444771, 0.06377027183771133, 0.014473846182227135, 0.03614534065127373, 0.009570395573973656, 0.0545167550444603, 0.41433924436569214], [0.08590176701545715, 0.01100255735218525, 0.008820978924632072, 0.02917833812534809, 0.03635300695896149, 0.010098310187458992, 0.03598688542842865, 0.7826582193374634], [0.13417403399944305, 0.09178803861141205, 0.06287769228219986, 0.038076430559158325, 0.01969926431775093, 0.10327852517366409, 0.03522088751196861, 0.5148851871490479], [0.11678673326969147, 0.01617390289902687, 0.05320990830659866, 0.15130160748958588, 0.08585013449192047, 0.010511013679206371, 0.021067505702376366, 0.545099139213562], [0.023511623963713646, 0.0020638410933315754, 0.002210494363680482, 0.009551973082125187, 0.0057584373280406, 0.0005145568866282701, 0.005105832125991583, 0.9512832760810852]], [[0.01168487686663866, 0.0065251742489635944, 0.010736259631812572, 0.01766820065677166, 0.0020027237478643656, 0.0018410286866128445, 0.002565107773989439, 0.9469766616821289], [0.02327825501561165, 0.11118047684431076, 0.06492259353399277, 0.09840420633554459, 0.007151648867875338, 0.002568937838077545, 0.027125371620059013, 0.6653684973716736], [0.0199066624045372, 0.0794072076678276, 0.02153027057647705, 0.019066788256168365, 0.0014060786925256252, 0.0009927642531692982, 0.005737044382840395, 0.8519532084465027], [0.014311816543340683, 0.016247546300292015, 0.05051928013563156, 0.01312212459743023, 0.0010037538595497608, 0.00042849135934375226, 0.002517953747883439, 0.9018489718437195], [0.1316089630126953, 0.07173577696084976, 0.1787872463464737, 0.22044362127780914, 0.03369839861989021, 0.01002976018935442, 0.01670534722507, 0.3369908928871155], [0.07456858456134796, 0.23183700442314148, 0.10149975121021271, 0.11756855994462967, 0.05885665863752365, 0.0331147275865078, 0.02882438898086548, 0.3537302613258362], [0.008476662449538708, 0.0022548988927155733, 0.00409795343875885, 0.003356310073286295, 0.010459352284669876, 0.007129846140742302, 0.0009683495736680925, 0.9632566571235657], [0.0026082522235810757, 0.0011609933571889997, 0.0055456263944506645, 0.003939813934266567, 0.0012233456363901496, 0.0016921182395890355, 0.0025084440130740404, 0.981321394443512]], [[0.08135923743247986, 0.09514190256595612, 0.10049460083246231, 0.05607074871659279, 0.03091868758201599, 0.003879176452755928, 0.07607147842645645, 0.556064248085022], [0.018170572817325592, 0.002560585970059037, 0.8547697067260742, 0.020518161356449127, 3.5090477467747405e-05, 0.00029494924820028245, 0.017707163468003273, 0.08594382554292679], [0.015069354325532913, 0.0006418897537514567, 0.028534667566418648, 0.4345717430114746, 0.0026863582897931337, 0.0009876012336462736, 0.006181126460433006, 0.5113272070884705], [0.004215255845338106, 0.0003782666171900928, 0.0028324187733232975, 0.020025910809636116, 0.23315680027008057, 0.012870733626186848, 0.0013003721833229065, 0.725220263004303], [0.0029130508191883564, 0.0006753357592970133, 0.0024380083195865154, 0.00019818493456114084, 0.0021431120112538338, 0.08550863713026047, 0.3284923732280731, 0.5776312947273254], [0.033472731709480286, 0.0019394230330362916, 0.22185175120830536, 0.005274488590657711, 0.0003150940756313503, 0.002653684699907899, 0.4484861195087433, 0.2860066890716553], [0.00432252325117588, 0.001023732591420412, 0.004213570151478052, 0.00226741936057806, 0.00044483100646175444, 8.130563946906477e-05, 0.017366167157888412, 0.9702804088592529], [0.009089910425245762, 0.013491001911461353, 0.008252426981925964, 0.011666089296340942, 0.021772531792521477, 0.011305926367640495, 0.02884102426469326, 0.895581066608429]]], [[[0.013991267420351505, 0.007283530663698912, 0.02111426554620266, 0.08647573739290237, 0.002562673296779394, 0.0006571435951627791, 0.03660096228122711, 0.8313144445419312], [0.03354619815945625, 0.009421399794518948, 0.251849889755249, 0.04250672087073326, 0.002185181714594364, 0.0028753739316016436, 0.014830553904175758, 0.642784595489502], [0.0011046422878280282, 5.850387969985604e-05, 0.0007140273228287697, 0.0004314453690312803, 6.455121183535084e-05, 6.009814751450904e-05, 0.00019110649009235203, 0.9973756074905396], [0.0041028037667274475, 0.0004947175621055067, 0.01042818184942007, 0.0012163296341896057, 0.00034796391264535487, 0.0029168131295591593, 0.03026178665459156, 0.9502314329147339], [0.009174053557217121, 0.0008483278215862811, 0.026899365708231926, 0.005301184486597776, 0.0016578180948272347, 0.007177856285125017, 0.4241359233856201, 0.5248055458068848], [0.029716163873672485, 0.0014639789005741477, 0.21290813386440277, 0.018624065443873405, 0.003957452718168497, 0.005713565740734339, 0.5556129217147827, 0.17200370132923126], [0.0011088112369179726, 3.4160333598265424e-05, 0.00022913799330126494, 0.000977980438619852, 5.8220124628860503e-05, 1.398768199578626e-05, 0.011828492395579815, 0.9857491254806519], [0.007529014255851507, 0.0022389404475688934, 0.012458864599466324, 0.012130123563110828, 0.0015302656684070826, 0.001790673122741282, 0.021474773064255714, 0.9408473372459412]], [[0.0029576385859400034, 0.0005900791147723794, 0.0005487466114573181, 0.0012251059524714947, 0.001141202519647777, 0.0003868735511787236, 0.004185812547802925, 0.9889645576477051], [0.00020016792404931039, 0.00019381486345082521, 0.0004324107721913606, 0.0024613034911453724, 0.00019872085249517113, 2.0729396055685356e-05, 0.0005570572684518993, 0.9959357976913452], [0.0009050905937328935, 0.0012841427233070135, 0.004180694930255413, 0.010657909326255322, 0.0006087421206757426, 5.435826096800156e-05, 0.0005991412908770144, 0.981709897518158], [9.395428787684068e-05, 2.570030301285442e-05, 8.998424891615286e-05, 0.0010373429395258427, 0.00011938143143197522, 7.697438377363142e-06, 4.7717359848320484e-05, 0.9985781908035278], [0.0011100039118900895, 0.000390604545827955, 0.00012756057549268007, 0.9368629455566406, 0.00902449619024992, 0.0011261841282248497, 0.0005596277769654989, 0.050798509269952774], [0.020034249871969223, 0.01256638951599598, 0.03219759464263916, 0.11601687222719193, 0.33699914813041687, 0.020280128344893456, 0.02241683192551136, 0.4394887685775757], [0.000540410925168544, 8.292122947750613e-05, 0.0006512218387797475, 0.002307336078956723, 0.00686424458399415, 0.0009610966662876308, 0.003399668261408806, 0.985193133354187], [0.0008613026002421975, 0.0004310116346459836, 0.0004033786535728723, 0.0070640044286847115, 0.0013615030329674482, 0.0002357538469368592, 0.00112763955257833, 0.9885154366493225]], [[0.0012715125922113657, 0.009649120271205902, 0.020594656467437744, 0.009872080758213997, 0.002883572829887271, 0.0004833533603232354, 0.049923401325941086, 0.9053223133087158], [0.01877797208726406, 0.033541373908519745, 0.056543800979852676, 0.19161345064640045, 0.030310284346342087, 0.003467769594863057, 0.0300308745354414, 0.6357145309448242], [0.006857025902718306, 0.04506748169660568, 0.008439483121037483, 0.03218977525830269, 0.013530334457755089, 0.009103861637413502, 0.004680631682276726, 0.8801313638687134], [0.0012189035769551992, 0.006667200475931168, 0.00145377975422889, 0.003758114529773593, 0.0027247194666415453, 0.002071608556434512, 0.000693231588229537, 0.981412410736084], [0.001609035418368876, 0.0017503215931355953, 0.004131631925702095, 0.01339374016970396, 0.0016079525230452418, 0.00021908010239712894, 0.00564137427136302, 0.9716468453407288], [0.007128918077796698, 0.02169768698513508, 0.06273627281188965, 0.5070903301239014, 0.00912372674793005, 0.0010238430695608258, 0.08407329767942429, 0.3071259558200836], [0.001325760269537568, 0.0019147727871313691, 0.0022585454862564802, 0.003439313033595681, 0.0005649923696182668, 0.0006557652377523482, 0.0005770555580966175, 0.9892638325691223], [0.0029474550392478704, 0.006123496685177088, 0.0022613562177866697, 0.0015009072376415133, 0.0034582798834890127, 0.001829654211178422, 0.0013229061150923371, 0.9805559515953064]], [[0.008002341724932194, 0.006049959920346737, 0.00552983907982707, 0.01563963294029236, 0.0014416583580896258, 0.0012233690358698368, 0.0022107523400336504, 0.9599024653434753], [0.004849110264331102, 0.005702809896320105, 0.01158925425261259, 0.040837716311216354, 0.002813788829371333, 0.0009894397808238864, 0.0012375719379633665, 0.9319802522659302], [0.0036285221576690674, 0.0015845716698095202, 0.0031197413336485624, 0.0024053272791206837, 0.00025531218852847815, 0.00015822696150280535, 0.0018097724532708526, 0.9870384931564331], [0.005086812190711498, 0.023015053942799568, 0.04373724013566971, 0.048049893230199814, 0.003870252287015319, 0.002359121572226286, 0.013508855365216732, 0.86037278175354], [0.014550321735441685, 0.05772934854030609, 0.0968223363161087, 0.3743312656879425, 0.008035929873585701, 0.010783510282635689, 0.01925690844655037, 0.41849035024642944], [0.02251332253217697, 0.07887917011976242, 0.06302842497825623, 0.13988888263702393, 0.010042564012110233, 0.012600071728229523, 0.007356832269579172, 0.6656906604766846], [0.001993810525164008, 0.002350678900256753, 0.003835645504295826, 0.004940380807965994, 0.003219438251107931, 0.000966471794527024, 0.002914097858592868, 0.9797794222831726], [0.00417743157595396, 0.004249700345098972, 0.007607806473970413, 0.006082992535084486, 0.00228738971054554, 0.0008604809991084039, 0.005069530103355646, 0.9696646928787231]], [[0.007222010754048824, 0.07150493562221527, 0.013914969749748707, 0.18618366122245789, 0.022732002660632133, 0.018822260200977325, 0.0808667242527008, 0.5987534523010254], [0.06965263932943344, 0.06545127183198929, 0.02362058311700821, 0.036841534078121185, 0.0009532403200864792, 0.007540849037468433, 0.033834006637334824, 0.7621059417724609], [0.01216927170753479, 0.034748513251543045, 0.0073721022345125675, 0.03316954895853996, 0.0006262719398364425, 0.007575777359306812, 0.1855909824371338, 0.7187474966049194], [0.17979806661605835, 0.015202263370156288, 0.019427236169576645, 0.005267721135169268, 0.006020136643201113, 0.025007016956806183, 0.2044171243906021, 0.5448604226112366], [0.0206721443682909, 0.0014241929166018963, 0.0009577065357007086, 0.026388345286250114, 0.030835982412099838, 0.005330879241228104, 0.046859804540872574, 0.8675309419631958], [0.2309074103832245, 0.041964415460824966, 0.02690112218260765, 0.08792225271463394, 0.02527901530265808, 0.027783405035734177, 0.0378635972738266, 0.521378755569458], [0.05556689202785492, 0.008293168619275093, 0.04648653417825699, 0.08265744894742966, 0.069403275847435, 0.010330339893698692, 0.03918510302901268, 0.6880772113800049], [0.006750311236828566, 0.0020321703050285578, 0.0051549565978348255, 0.020204337313771248, 0.008880417793989182, 0.0009931038366630673, 0.01105526927858591, 0.9449294209480286]], [[0.00145717931445688, 0.0008474212954752147, 0.01034949254244566, 0.0023115985095500946, 0.00017641969316173345, 8.208394137909636e-05, 0.0029982468113303185, 0.981777548789978], [0.014645617455244064, 0.017585068941116333, 0.03584994003176689, 0.01323577482253313, 0.0018189438851550221, 0.006564060226082802, 0.01043832115828991, 0.8998622894287109], [0.004483476746827364, 0.0017949767643585801, 0.09178303182125092, 0.0007366868667304516, 2.4594652131781913e-05, 0.00015136980800889432, 0.002040025545284152, 0.8989858627319336], [0.0002775197208393365, 7.183291745604947e-05, 0.00041681749280542135, 0.0028820920269936323, 0.00024409372417721897, 2.625673914735671e-05, 0.0025922569911926985, 0.993489146232605], [0.0016805779887363315, 0.0008527751779183745, 0.00032442776137031615, 0.0057524871081113815, 0.5721820592880249, 0.004057790152728558, 0.008727800101041794, 0.40642213821411133], [0.012279785238206387, 0.011541895568370819, 0.006948669906705618, 0.07242096215486526, 0.37766119837760925, 0.09751205146312714, 0.04472482204437256, 0.37691062688827515], [0.00150762137491256, 0.002379234880208969, 0.0031476097647100687, 0.028576325625181198, 0.005743446294218302, 0.002437497256323695, 0.03396099433302879, 0.9222472906112671], [0.0014364909147843719, 0.0004974837065674365, 0.0018546958453953266, 0.0023338685277849436, 0.0004414322320371866, 0.00024083022435661405, 0.005036203656345606, 0.9881590008735657]], [[0.0014663476031273603, 0.0004118680953979492, 0.00019328332564327866, 0.0025818441063165665, 0.0005452706827782094, 0.00020424387184903026, 0.0014977357350289822, 0.9930993318557739], [0.00019637768855318427, 7.044245285214856e-05, 0.00016932141443248838, 0.002638341626152396, 0.0002388928405707702, 6.097334789956221e-06, 5.1596991397673264e-05, 0.9966289401054382], [0.00109346944373101, 0.00048033089842647314, 0.0002086545864585787, 0.009469137527048588, 1.0958750863210298e-05, 3.5077985103271203e-06, 0.00013424543431028724, 0.9885996580123901], [0.0019075054442510009, 0.001665759366005659, 0.004257068503648043, 0.03850293532013893, 0.009540689177811146, 0.0011200526496395469, 0.0009870511712506413, 0.9420189261436462], [0.0035988958552479744, 0.0007091706502251327, 0.006505509838461876, 0.9469587802886963, 0.00022910512052476406, 0.00025699991965666413, 0.0014102647546678782, 0.04033110290765762], [0.007609417196363211, 0.0012824699515476823, 0.009171905927360058, 0.0899985060095787, 0.019911881536245346, 0.0009244881221093237, 0.0018970946548506618, 0.8692042231559753], [0.0012808009050786495, 0.00020962566486559808, 0.00018930570513475686, 0.007830491289496422, 0.18037943542003632, 0.0027969141956418753, 0.003639133647084236, 0.8036743402481079], [0.0039595733396708965, 0.003755092853680253, 0.0009690677979961038, 0.005102838389575481, 0.006048030685633421, 0.004098006058484316, 0.011503126472234726, 0.9645642638206482]], [[0.007365301251411438, 0.004095480311661959, 0.049749381840229034, 0.6718742847442627, 0.036913126707077026, 0.0011040278477594256, 0.0421440564095974, 0.1867542713880539], [0.0017656070413067937, 0.001043783500790596, 0.032975226640701294, 0.24443694949150085, 0.002307751914486289, 0.00060979527188465, 0.011064503341913223, 0.7057964205741882], [0.0001267900224775076, 0.00039122180896811187, 0.0009816639358177781, 0.013973117806017399, 0.0005573326488956809, 0.0002762996300589293, 0.020047074183821678, 0.9636464715003967], [7.252943760249764e-05, 0.00023988678003661335, 0.0014578100526705384, 0.027271578088402748, 0.0027157769072800875, 0.0010630876058712602, 0.03378529101610184, 0.9333940148353577], [0.0005067626480013132, 0.0002680085599422455, 0.0008174239774234593, 0.025654863566160202, 0.0026810965500772, 0.0019516204483807087, 0.9577243328094482, 0.010395869612693787], [0.00212299101985991, 0.0006465365295298398, 0.013316529802978039, 0.08451773226261139, 0.00623066583648324, 0.0070124478079378605, 0.393374502658844, 0.49277862906455994], [9.221873256137769e-07, 3.6585234397534805e-07, 9.13681105885189e-07, 0.0001777232246240601, 1.953440232682624e-06, 8.065983365668217e-07, 0.0004414278664626181, 0.9993758797645569], [0.0007305878680199385, 0.00029663395253010094, 0.0007619851385243237, 0.005223360378295183, 0.0010690923081710935, 0.00018808561435434967, 0.011651725508272648, 0.9800785779953003]], [[0.03455596789717674, 0.01087386254221201, 0.020894741639494896, 0.056394919753074646, 0.03354903310537338, 0.00630883639678359, 0.0615437775850296, 0.7758788466453552], [0.051093507558107376, 0.030751274898648262, 0.04894118756055832, 0.3912438750267029, 0.09871596843004227, 0.08296111226081848, 0.13942570984363556, 0.1568673998117447], [0.015023753978312016, 0.004244352225214243, 0.0054861814714968204, 0.060881905257701874, 0.008611452765762806, 0.007956563495099545, 0.047340333461761475, 0.8504554629325867], [0.012731759808957577, 0.003542613470926881, 0.0017756593879312277, 0.022948404774069786, 0.011062235571444035, 0.007685567252337933, 0.05585577338933945, 0.8843979835510254], [0.00493966368958354, 0.00031111270072869956, 0.00024130647943820804, 0.004467072896659374, 0.00041241254075430334, 0.00041326278005726635, 0.004616183694452047, 0.9845989942550659], [0.01608419604599476, 0.0026366394013166428, 0.005119508597999811, 0.03345228359103203, 0.003455203725025058, 0.0026206106413155794, 0.032279789447784424, 0.9043517708778381], [0.0002260946639580652, 3.0167379009071738e-05, 8.318275831697974e-06, 0.0001401689078193158, 0.0001509484281996265, 9.932158718584105e-05, 0.00027699637576006353, 0.9990679621696472], [0.002743442077189684, 0.00019949849229305983, 0.0001712329831207171, 0.002256286097690463, 0.000905781053006649, 0.0004232677456457168, 0.004308754578232765, 0.9889917373657227]], [[0.056349027901887894, 0.010945775546133518, 0.041631557047367096, 0.0077548548579216, 0.0017773857107385993, 9.484783367952332e-05, 0.08923819661140442, 0.7922083735466003], [0.005262430757284164, 0.0011051422916352749, 0.5114670991897583, 0.04118933156132698, 0.0001495515025453642, 3.881999873556197e-05, 0.04252489656209946, 0.3982626795768738], [3.460843436187133e-05, 2.7556509962778364e-07, 1.3139451766619459e-05, 0.008794514462351799, 3.835712504951516e-06, 6.441110400601247e-08, 0.0001009503030218184, 0.9910525679588318], [0.00558372400701046, 0.00016391313693020493, 0.0011799766216427088, 0.0012852023355662823, 0.011445383541285992, 0.00042569104698486626, 0.000317518541123718, 0.9795985221862793], [0.0013402588665485382, 0.0005553094670176506, 0.00985113438218832, 0.0008733628783375025, 7.522976375184953e-05, 0.0033425919245928526, 0.9365952610969543, 0.04736682027578354], [0.0016739359125494957, 0.00022326550970319659, 0.02423880435526371, 0.007834338583052158, 0.000672400463372469, 0.0009056398412212729, 0.7904493808746338, 0.17400214076042175], [1.3128473256074358e-05, 2.511235663860134e-09, 3.668219505925663e-08, 2.784923758269997e-08, 7.592548456614168e-08, 1.0364420433006671e-09, 4.568657459458336e-06, 0.9999821186065674], [0.1264394074678421, 0.002255607396364212, 0.007171235978603363, 0.00450245151296258, 0.009871628135442734, 0.0023183785378932953, 0.0330350436270237, 0.8144062757492065]], [[0.006810409016907215, 0.002113607944920659, 0.0011520740808919072, 0.033211927860975266, 0.03714670240879059, 0.0020163897424936295, 0.024608450010418892, 0.8929404020309448], [0.0005114412633702159, 0.0001673614460742101, 8.826387784210965e-05, 0.005163171794265509, 0.0049624936655163765, 1.169277948065428e-05, 0.0004898185725323856, 0.988605797290802], [0.008361182175576687, 0.027023563161492348, 0.0003175096644554287, 0.060403019189834595, 0.004736737813800573, 0.00027536158449947834, 0.0015745714772492647, 0.8973080515861511], [0.008887868374586105, 0.08647129684686661, 0.03903278335928917, 0.05242671072483063, 0.002194005763158202, 0.0016469825059175491, 0.0013957532355561852, 0.8079445362091064], [0.009813103824853897, 0.0719001293182373, 0.16921555995941162, 0.5686404705047607, 0.0037590251304209232, 0.001575720845721662, 0.00197378802113235, 0.17312224209308624], [0.006740538403391838, 0.004088967107236385, 0.004443025216460228, 0.7739498019218445, 0.10702287405729294, 0.0004002871864940971, 0.0008939352119341493, 0.10246055573225021], [0.0024463203735649586, 0.0024290939327329397, 0.0003338044334668666, 0.01656360737979412, 0.17193016409873962, 0.011637449264526367, 0.012051217257976532, 0.7826083302497864], [0.006684320047497749, 0.011230452917516232, 0.0066602579317986965, 0.012378571555018425, 0.014817867428064346, 0.0047907778061926365, 0.016313105821609497, 0.9271246194839478]], [[0.013151859864592552, 0.0014703237684443593, 0.0011282553896307945, 0.019082047045230865, 0.003193083917722106, 0.0009043990867212415, 0.013011590577661991, 0.9480584859848022], [0.08614586293697357, 0.00577175710350275, 0.001371096121147275, 0.47346463799476624, 0.01623772457242012, 0.007563678082078695, 0.008686068467795849, 0.4007592499256134], [0.005977901164442301, 0.0003127894306089729, 0.0011232405668124557, 0.042263422161340714, 0.0013204391580075026, 0.00019525110838003457, 0.013145257718861103, 0.9356617331504822], [0.0005690206307917833, 0.00010017082968261093, 0.00020587265316862613, 0.010160629637539387, 0.010523905977606773, 5.880203752894886e-05, 0.010476730763912201, 0.9679048657417297], [0.0005368951824493706, 7.448867108905688e-05, 6.366203160723671e-05, 0.002365752123296261, 0.0005003625992685556, 6.684460822725669e-05, 0.0215371735394001, 0.9748548269271851], [0.034771598875522614, 0.002733035944402218, 0.0005177621496841311, 0.023011179640889168, 0.008687272667884827, 0.01036142185330391, 0.1163264662027359, 0.803591251373291], [0.0012130826944485307, 0.0005417731590569019, 0.0012902341550216079, 0.014677232131361961, 0.004593914840370417, 0.0007119817310012877, 0.030981751158833504, 0.9459900259971619], [0.004010980017483234, 0.0016452412819489837, 0.0019757323898375034, 0.007270493544638157, 0.003812122857198119, 0.0008912009652704, 0.02024499885737896, 0.9601492285728455]]], [[[0.008023662492632866, 0.01564856991171837, 0.0016888170503079891, 0.48872995376586914, 0.1770295649766922, 0.04624144732952118, 0.0057016657665371895, 0.2569362223148346], [0.002151019172742963, 0.0038608114700764418, 0.01213187538087368, 0.3783233165740967, 0.013777153566479683, 0.00225908774882555, 0.0012765142600983381, 0.5862202048301697], [0.00418650358915329, 0.014634974300861359, 0.16805961728096008, 0.1303117275238037, 0.01916956715285778, 0.0032936481293290854, 0.010680180974304676, 0.6496637463569641], [0.0004052128060720861, 0.000477167428471148, 0.0023105524014681578, 0.05014635622501373, 0.00544425193220377, 0.0003576725721359253, 0.0014090656768530607, 0.9394497275352478], [0.0003715086786542088, 0.0003898138820659369, 0.0008437877404503524, 0.03833375126123428, 0.11313720792531967, 0.003702309913933277, 0.004125359933823347, 0.8390962481498718], [0.00039713410660624504, 0.0004226581659168005, 0.001194448908790946, 0.035746980458498, 0.018341539427638054, 0.0033593352418392897, 0.0051567950285971165, 0.9353811144828796], [0.0003862707526423037, 0.00021246523829177022, 0.001260157092474401, 0.023808496072888374, 0.005430534947663546, 0.0014563414733856916, 0.011541658081114292, 0.9559040665626526], [0.0006557966116815805, 0.0003308527229819447, 0.0010878820903599262, 0.008560010232031345, 0.00036242007627151906, 0.00014992483193054795, 0.001256780349649489, 0.9875963926315308]], [[0.000715607893653214, 0.0059462543576955795, 0.009436444379389286, 0.014226005412638187, 0.0007641610573045909, 0.0015216981992125511, 0.009130524471402168, 0.9582593441009521], [0.020761175081133842, 0.006464413367211819, 0.020864317193627357, 0.039561811834573746, 0.014000347815454006, 0.001988277304917574, 0.0325901135802269, 0.8637695908546448], [0.000902133178897202, 0.0005030267057009041, 0.0004495377652347088, 0.004281545523554087, 0.002362763974815607, 0.0003889329091180116, 0.0010875153820961714, 0.9900245666503906], [0.025604620575904846, 0.017899639904499054, 0.026366932317614555, 0.03884804993867874, 0.03831781819462776, 0.005188307724893093, 0.018990466371178627, 0.8287841081619263], [0.00881583709269762, 0.006161975208669901, 0.10284251719713211, 0.05104996636509895, 0.018395163118839264, 0.0009513270342722535, 0.09266846626996994, 0.7191147208213806], [0.00792753230780363, 0.021010752767324448, 0.13128843903541565, 0.020491499453783035, 0.00436138641089201, 0.00028289880719967186, 0.04510949179530144, 0.7695280313491821], [0.00012881224392913282, 9.409458289155737e-05, 0.0016554772155359387, 0.003430143464356661, 0.00023922600666992366, 5.6713262893026695e-05, 0.0005377495544962585, 0.9938578009605408], [0.0013798912987113, 0.0026170930359512568, 0.008545980788767338, 0.008723203092813492, 0.00153719715308398, 0.0008731767884455621, 0.004124905914068222, 0.972198486328125]], [[0.0007839500322006643, 0.00754579110071063, 0.0017297379672527313, 0.049056049436330795, 0.008392680436372757, 0.0017210892401635647, 0.0028273938223719597, 0.9279433488845825], [0.0075513627380132675, 0.004643777851015329, 0.004741190001368523, 0.044138651341199875, 0.00044272502418607473, 0.00019563603564165533, 0.00267645507119596, 0.9356101751327515], [0.0025563996750861406, 0.007281286176294088, 0.002671155845746398, 0.01742984727025032, 0.002093635266646743, 0.00019798229914158583, 0.0030456124804913998, 0.9647241234779358], [0.03181961551308632, 0.011197823099792004, 0.0036709385458379984, 0.025930222123861313, 0.0069959936663508415, 0.007992476224899292, 0.008548499085009098, 0.90384441614151], [0.011893065646290779, 0.041490357369184494, 0.010429859161376953, 0.12332595139741898, 0.017197538167238235, 0.006840188521891832, 0.0028071890119463205, 0.7860158681869507], [0.017180319875478745, 0.021967804059386253, 0.011248115450143814, 0.06522145867347717, 0.0014928941382095218, 0.0014040085952728987, 0.0006874330574646592, 0.8807979822158813], [0.00040582616929896176, 0.001577595598064363, 0.0004824671195819974, 0.09985204041004181, 0.008874982595443726, 0.0045741042122244835, 0.005102901253849268, 0.8791300654411316], [0.008719217032194138, 0.01104879193007946, 0.007214948534965515, 0.04493185132741928, 0.006841645110398531, 0.005263771861791611, 0.015017266385257244, 0.9009625315666199]], [[0.0013347093481570482, 9.959694580174983e-05, 0.0001462900108890608, 0.028560364618897438, 0.001072978600859642, 5.387367491493933e-05, 0.004628094378858805, 0.9641041159629822], [0.0007926389807835221, 0.00017624600150156766, 0.00016195638454519212, 0.12109457701444626, 0.0010827073128893971, 1.2259182767593302e-05, 0.0003927140205632895, 0.8762869238853455], [0.00269950064830482, 0.0017524356953799725, 0.0020094236824661493, 0.1502113789319992, 0.002424330450594425, 5.362110096029937e-05, 0.004657473880797625, 0.8361918330192566], [0.0004889226402156055, 8.001680544111878e-05, 0.00022848839580547065, 0.010260580107569695, 0.001522224280051887, 2.531250902393367e-05, 0.00022659401292912662, 0.9871678948402405], [0.0001432860444765538, 0.00026106886798515916, 0.00030199726461432874, 0.8944893479347229, 0.000855318212416023, 2.8536422178149223e-05, 0.0003124415234196931, 0.10360802710056305], [0.00010222070704912767, 9.558897727401927e-05, 8.786615217104554e-05, 0.939673900604248, 0.01737358793616295, 2.8404241675161757e-05, 0.00021284092508722097, 0.04242556914687157], [0.0013274457305669785, 2.1017276594648138e-05, 0.00021351029863581061, 0.0036761220544576645, 0.03494376316666603, 0.0002664347121026367, 0.01582607999444008, 0.9437255859375], [0.03416360169649124, 0.0028639815282076597, 0.0036026190500706434, 0.05513310804963112, 0.013447331264615059, 0.0031949991825968027, 0.017749471589922905, 0.8698448538780212]], [[0.0002882051921915263, 0.0008856166969053447, 0.04554973915219307, 0.3216722905635834, 0.012346584349870682, 0.00019601325038820505, 0.0011468046577647328, 0.6179147362709045], [0.00036642816849052906, 0.0014355864841490984, 0.03335423395037651, 0.2669360637664795, 0.005245901644229889, 0.0003216516342945397, 0.0007848964887671173, 0.6915552616119385], [0.00010718002886278555, 0.00033974749385379255, 0.0006056991405785084, 0.00795353576540947, 0.0014405515976250172, 2.466398655087687e-05, 0.0003074622945860028, 0.9892210960388184], [0.00013896130258217454, 0.0017578982515260577, 0.017760833725333214, 0.09637422859668732, 0.0010750091169029474, 2.8411070161382668e-05, 4.773329783347435e-05, 0.8828169703483582], [2.003156805585604e-05, 0.000278090505162254, 0.0008072340860962868, 0.9981362819671631, 0.0002866133872885257, 6.981843034736812e-05, 2.6250616429024376e-05, 0.0003754895005840808], [0.00037540390621870756, 0.002086101332679391, 0.00713437469676137, 0.9413343667984009, 0.0037308225873857737, 0.0012744879350066185, 0.000678381125908345, 0.04338609427213669], [0.009148412384092808, 0.004219037014991045, 0.0013493264559656382, 0.026596320793032646, 0.03214101865887642, 0.01306117046624422, 0.016753317788243294, 0.8967313766479492], [0.0005753280129283667, 0.0017296124715358019, 0.007410586811602116, 0.021904369816184044, 0.002481935080140829, 0.0002730635169427842, 0.0013846434885635972, 0.9642404913902283]], [[0.00456427875906229, 0.0039046749006956816, 0.029800381511449814, 0.3504719138145447, 0.026403091847896576, 0.002897033467888832, 0.040798597037792206, 0.541159987449646], [0.0011399456998333335, 0.000547317205928266, 0.06285549700260162, 0.7533860206604004, 0.0010824460769072175, 0.00010914570884779096, 0.001146745402365923, 0.17973297834396362], [0.000489816244225949, 0.00022623420227319002, 0.0028806100599467754, 0.27414655685424805, 0.000645519292447716, 0.00011079046089434996, 0.004605839028954506, 0.7168946266174316], [0.0007602586410939693, 0.00018046087643597275, 0.001488322508521378, 0.10478170961141586, 0.010764913633465767, 0.0012422864092513919, 0.016772117465734482, 0.8640098571777344], [0.009827951900660992, 0.0005187903880141675, 0.004864235408604145, 0.1015346422791481, 0.0010167798027396202, 0.0009885814506560564, 0.7021845579147339, 0.17906440794467926], [0.012447966262698174, 0.00012901471927762032, 0.016037655994296074, 0.07440414279699326, 0.001258066506125033, 3.960722824558616e-05, 0.13575643301010132, 0.7599270939826965], [0.00033030964550562203, 3.885059868480312e-06, 0.00013254189980216324, 0.001665392192080617, 0.0006630711141042411, 7.966184057295322e-06, 0.002841892186552286, 0.9943549633026123], [0.00039865009603090584, 8.55597245390527e-05, 0.0009856682736426592, 0.020600663498044014, 0.00055034359684214, 0.00010849316458916292, 0.0028928297106176615, 0.9743777513504028]], [[0.00362017541192472, 0.32106977701187134, 0.10916244983673096, 0.1316162794828415, 0.007272967137396336, 0.0026506450958549976, 0.21240927278995514, 0.2121983766555786], [0.006058151833713055, 0.006514459382742643, 0.06500062346458435, 0.3780105412006378, 0.022930225357413292, 0.004868658259510994, 0.056440699845552444, 0.460176557302475], [0.0027469987981021404, 0.0018160380423069, 0.0030117861460894346, 0.14248919486999512, 0.015160765498876572, 0.002228572964668274, 0.01593085005879402, 0.8166157603263855], [0.008628604002296925, 0.008960934355854988, 0.03580683842301369, 0.07817640155553818, 0.07224778085947037, 0.0410190150141716, 0.08393717557191849, 0.6712233424186707], [0.003068600781261921, 0.0008139241836033762, 0.0078415647149086, 0.027044499292969704, 0.0014167397748678923, 0.0024503630120307207, 0.442966490983963, 0.5143977999687195], [0.011350056156516075, 0.0007211588672362268, 0.02805728279054165, 0.06558811664581299, 0.0024084339383989573, 0.0012637252220883965, 0.43829023838043213, 0.45232102274894714], [0.00043982520583085716, 8.258004527306184e-05, 0.00014550959167536348, 0.0010690382914617658, 0.0001389260869473219, 3.171026401105337e-05, 0.001690366887487471, 0.9964020252227783], [0.005050335079431534, 0.004687838722020388, 0.012536182068288326, 0.018824463710188866, 0.004627052694559097, 0.0030851182527840137, 0.027354935184121132, 0.9238340258598328]], [[0.0027968930080533028, 0.0015730229206383228, 0.03664620220661163, 0.07767882943153381, 0.001422791974619031, 0.0008095722296275198, 0.11366800218820572, 0.7654047012329102], [0.07916384190320969, 0.011158335953950882, 0.049920257180929184, 0.025736501440405846, 0.0039102728478610516, 0.0025855926796793938, 0.05192498490214348, 0.7756001949310303], [0.022345658391714096, 0.0024056830443441868, 0.008993870578706264, 0.03198980167508125, 0.005370546597987413, 0.007317475974559784, 0.11638279259204865, 0.8051941990852356], [0.011165075935423374, 0.005548396613448858, 0.010614587925374508, 0.004951095208525658, 0.0028231292963027954, 0.004356874153017998, 0.03861311450600624, 0.921927809715271], [0.022186456248164177, 0.0030978985596448183, 0.01709718629717827, 0.037606969475746155, 0.0025933736469596624, 0.0026248896028846502, 0.026721954345703125, 0.8880712985992432], [0.024730348959565163, 0.004371372051537037, 0.03410843014717102, 0.054460227489471436, 0.004551862366497517, 0.0020830717403441668, 0.037147678434848785, 0.8385469913482666], [0.027898713946342468, 0.007816961966454983, 0.11530987918376923, 0.045036859810352325, 0.006249348632991314, 0.004186647012829781, 0.005128758028149605, 0.7883728742599487], [0.0057425731793046, 0.0027005530428141356, 0.00992698036134243, 0.002248524921014905, 0.0006902176537550986, 0.00036375486524775624, 0.005947948899120092, 0.9723795056343079]], [[0.01042686402797699, 0.010359643027186394, 0.004305390175431967, 0.016897644847631454, 0.009088615886867046, 0.001786458888091147, 0.026983240619301796, 0.9201521873474121], [0.046330228447914124, 0.018071720376610756, 0.012576437555253506, 0.01651238463819027, 0.004884165711700916, 0.0019539876375347376, 0.005890214815735817, 0.8937808871269226], [0.0054923612624406815, 0.0030471300706267357, 0.0024659272748976946, 0.004260911140590906, 0.006968829780817032, 0.0014815839240327477, 0.05616818368434906, 0.920115053653717], [0.03285456448793411, 0.011777598410844803, 0.019399024546146393, 0.023419855162501335, 0.010798903182148933, 0.0019687365274876356, 0.027280041947960854, 0.8725013136863708], [0.03739667683839798, 0.029792925342917442, 0.059276025742292404, 0.056899294257164, 0.12365925312042236, 0.042921070009469986, 0.023298747837543488, 0.6267560124397278], [0.09844838827848434, 0.026038292795419693, 0.043400559574365616, 0.039790213108062744, 0.057573478668928146, 0.03590241074562073, 0.009698783047497272, 0.6891478300094604], [0.004659645259380341, 0.0028810063377022743, 0.007447171490639448, 0.012672464363276958, 0.03849226236343384, 0.03754325211048126, 0.15670984983444214, 0.7395943403244019], [0.020768536254763603, 0.018443230539560318, 0.01919223740696907, 0.02359427884221077, 0.013452990911900997, 0.00472472095862031, 0.029796019196510315, 0.8700279593467712]], [[0.0008153077797032893, 0.0066126869060099125, 0.004180415067821741, 0.00819116085767746, 0.0019279679981991649, 0.00032456786721013486, 0.005525815766304731, 0.9724221229553223], [0.0005518448306247592, 0.000402345962356776, 0.0009402854484505951, 0.004337566904723644, 5.372122905100696e-05, 1.0895945479205693e-06, 0.0016021374613046646, 0.9921109676361084], [0.023509925231337547, 0.7751970887184143, 0.01987002231180668, 0.019553834572434425, 0.0029789586551487446, 0.0009522921754978597, 0.026114268228411674, 0.13182352483272552], [0.01457298919558525, 0.07119086384773254, 0.04602210968732834, 0.04465365782380104, 0.0018649769481271505, 0.0008655220153741539, 0.018132062628865242, 0.8026978373527527], [0.02873310260474682, 0.07439485937356949, 0.027797628194093704, 0.12245554476976395, 0.02447671815752983, 0.004105451982468367, 0.0009229755960404873, 0.7171136736869812], [0.003680306952446699, 0.0005488216411322355, 0.0011480997782200575, 0.8209346532821655, 0.04497826099395752, 0.0001407029340043664, 0.0003816342505160719, 0.12818758189678192], [0.0017801627982407808, 0.00459070410579443, 0.0007116520428098738, 0.02404727414250374, 0.8801355361938477, 0.04309077560901642, 0.0029060763772577047, 0.04273787885904312], [0.010683231987059116, 0.015972688794136047, 0.006248875055462122, 0.020707497373223305, 0.008341583423316479, 0.0032651256769895554, 0.01542937196791172, 0.9193515777587891]], [[0.0003798716061282903, 0.0002787303819786757, 0.0025684128049761057, 0.00321221724152565, 0.00014627182099502534, 1.569911910337396e-05, 0.00042462634155526757, 0.9929741621017456], [2.0600213247234933e-05, 2.942263563454617e-06, 0.00020894179760944098, 0.00029305779025889933, 5.2647195843746886e-05, 9.713572808323079e-07, 0.0002952773938886821, 0.9991255402565002], [0.00017865460540633649, 0.0001857541938079521, 0.000564025598578155, 0.0003558684838935733, 0.00017037442012224346, 9.993474122893531e-06, 0.00037790334317833185, 0.9981574416160583], [0.0006629957933910191, 0.003416129620745778, 0.004968015477061272, 0.0007785689667798579, 0.0007752027013339102, 0.00012765899009536952, 0.0023116618394851685, 0.9869597554206848], [0.004032630007714033, 0.0026232916861772537, 0.010650565847754478, 0.8692615032196045, 0.015376048162579536, 0.0005816281773149967, 0.012464902363717556, 0.08500941097736359], [0.0034109822008758783, 0.0002745580568443984, 0.017466995865106583, 0.06837905943393707, 0.0031870531383901834, 8.109506597975269e-05, 0.010975182056427002, 0.8962250351905823], [0.00019627451547421515, 8.62337947182823e-06, 0.0001091591693693772, 0.008501366712152958, 0.0029931142926216125, 3.434187237871811e-05, 0.002024660352617502, 0.9861325025558472], [0.002955436473712325, 0.0011521747801452875, 0.0022025583311915398, 0.008108595386147499, 0.0009574482101015747, 0.0004947228007949889, 0.005437285173684359, 0.9786917567253113]], [[0.0005302916979417205, 0.0011316596064716578, 0.000817013205960393, 0.03804875910282135, 0.004785729106515646, 0.0016319769201800227, 0.028081009164452553, 0.9249735474586487], [4.500324939726852e-05, 3.67044958693441e-05, 1.3929289707448334e-05, 0.00038320093881338835, 0.0002562366134952754, 1.6697597402526299e-06, 0.0005452718469314277, 0.9987180233001709], [0.008738796226680279, 0.03841548413038254, 0.0001739167346386239, 0.010065571404993534, 0.0013988668797537684, 0.0007822313345968723, 0.003775622695684433, 0.9366495609283447], [0.0004150159365963191, 0.004809393547475338, 0.017624657601118088, 0.007801931817084551, 0.0006540556205436587, 0.0007718478445895016, 0.0008475117501802742, 0.9670755863189697], [0.0005609391373582184, 0.0006630216958001256, 0.0038137787487357855, 0.767711341381073, 0.00046034480328671634, 0.00011004845146089792, 0.00012251576117705554, 0.2265581339597702], [0.0013445599470287561, 0.0005285872030071914, 0.00017627129273023456, 0.05019907280802727, 0.20293530821800232, 0.0008245474891737103, 0.00040551929851062596, 0.7435861229896545], [0.0005943405558355153, 0.00012111898104194552, 1.0383241715317126e-05, 0.0005833393079228699, 0.017666414380073547, 0.007488436531275511, 0.011996161192655563, 0.9615398049354553], [0.00206906464882195, 0.003601018339395523, 0.006477865856140852, 0.01572818122804165, 0.003371207742020488, 0.0032223649322986603, 0.03283504396677017, 0.9326952695846558]]], [[[0.0007466618553735316, 0.0031739105470478535, 0.007324111182242632, 0.05035024136304855, 0.002268105512484908, 0.001387878553941846, 0.0047638132236897945, 0.9299853444099426], [0.026450462639331818, 0.008594051003456116, 0.021316876634955406, 0.015482286922633648, 0.0018038590205833316, 0.0005577680421993136, 0.01321166381239891, 0.9125829935073853], [0.03750893846154213, 0.027700260281562805, 0.02607872150838375, 0.01924358867108822, 0.00408645486459136, 0.0015044944593682885, 0.008097016252577305, 0.8757805824279785], [0.022729922086000443, 0.020133187994360924, 0.022922061383724213, 0.023202048614621162, 0.0037305394653230906, 0.0037009185180068016, 0.019344165921211243, 0.8842372298240662], [0.0802183598279953, 0.26623696088790894, 0.03886771947145462, 0.27661368250846863, 0.008549495600163937, 0.023985423147678375, 0.01360443513840437, 0.2919238805770874], [0.030334772542119026, 0.09333624690771103, 0.01465146616101265, 0.7113564014434814, 0.0031343456357717514, 0.005494541022926569, 0.0027133766561746597, 0.13897888362407684], [0.006509831175208092, 0.0016225653234869242, 0.006256047636270523, 0.18946325778961182, 0.0020703179761767387, 0.0009121338953264058, 0.010876301676034927, 0.7822895050048828], [0.0025196929927915335, 0.0013317713746801019, 0.0055209738202393055, 0.018296051770448685, 0.0019167433492839336, 0.00042975536780431867, 0.013838501647114754, 0.9561465382575989]], [[0.0014936100924387574, 0.02363271266222, 0.03467804938554764, 0.884977400302887, 0.02706173062324524, 0.0033942803274840117, 0.021535787731409073, 0.003226530272513628], [0.009663259610533714, 0.005159533582627773, 0.04143082723021507, 0.9008042216300964, 0.02080475352704525, 0.004372079391032457, 0.0031959284096956253, 0.014569367282092571], [0.019711628556251526, 0.0260346420109272, 0.04783855751156807, 0.5374986529350281, 0.07732674479484558, 0.011484724469482899, 0.009410795755684376, 0.2706943452358246], [0.003042933065444231, 0.008867665193974972, 0.009648717939853668, 0.03314056247472763, 0.04277313873171806, 0.04624547064304352, 0.12874524295330048, 0.7275362610816956], [0.0033593373373150826, 0.0014593449886888266, 0.08809464424848557, 0.049550630152225494, 0.006767264101654291, 0.0027025165036320686, 0.370012104511261, 0.47805407643318176], [0.0035625130403786898, 0.0004287601332180202, 0.026836160570383072, 0.3436238169670105, 0.001659524510614574, 0.000528586155269295, 0.08103283494710922, 0.5423278212547302], [0.0002681089681573212, 0.00022495409939438105, 0.00031609879806637764, 0.003692307509481907, 0.0005876182694919407, 0.00019332427473273128, 0.0032722826581448317, 0.9914453029632568], [0.0019329807255417109, 0.0008097828249447048, 0.0021355212666094303, 0.057692211121320724, 0.0029085546266287565, 0.000855264428537339, 0.011116552166640759, 0.9225491285324097]], [[0.0010446443920955062, 0.012946432456374168, 0.38677605986595154, 0.11168389022350311, 0.00293193687684834, 0.014764133840799332, 0.12610431015491486, 0.34374862909317017], [0.0013763838214799762, 0.00030427309684455395, 0.011340864934027195, 0.269032746553421, 0.0011999618727713823, 0.00012036581756547093, 0.004213521722704172, 0.7124118208885193], [0.0006457128911279142, 8.164985047187656e-05, 0.0012817931128665805, 0.27476316690444946, 0.0008637623395770788, 0.00040422246092930436, 0.007435594219714403, 0.7145240306854248], [0.0012475926196202636, 0.0008294281433336437, 0.0016442220658063889, 0.013450205326080322, 0.0066186049953103065, 0.01131821796298027, 0.007767462637275457, 0.9571242332458496], [0.0014429205330088735, 0.0007431457634083927, 0.0007500640349462628, 0.008679906837642193, 0.010789530351758003, 0.02686714194715023, 0.05120602995157242, 0.8995212912559509], [0.00354916974902153, 0.0005954096559435129, 0.006970817223191261, 0.09728699922561646, 0.025533027946949005, 0.00834529846906662, 0.23474015295505524, 0.6229791641235352], [8.823307871352881e-05, 0.00016347439668606967, 0.00014913271297700703, 0.010998470708727837, 0.0004987097927369177, 0.0012008657213300467, 0.01897146739065647, 0.9679296612739563], [0.0022789915092289448, 0.0021971941459923983, 0.004551280755549669, 0.03861452639102936, 0.006256069056689739, 0.008123518899083138, 0.032842494547367096, 0.9051359295845032]], [[0.003634363180026412, 0.0022709129843860865, 0.007228276692330837, 0.0032591724302619696, 0.0007069468265399337, 0.00024605405633337796, 0.04742097482085228, 0.9352332949638367], [0.00616871053352952, 0.001512982533313334, 0.0026616533286869526, 0.03715551644563675, 9.876710828393698e-05, 4.275630635675043e-05, 0.0048704855144023895, 0.9474890828132629], [0.0019115976756438613, 0.0014005019329488277, 0.010623588226735592, 0.006308278534561396, 0.0004170419997535646, 3.60050835297443e-05, 0.01976778730750084, 0.9595351815223694], [0.002967732958495617, 0.0005723076756112278, 0.0013043500948697329, 0.0016521167708560824, 0.000358332326868549, 8.027771400520578e-05, 0.0038940568920224905, 0.9891708493232727], [0.0008747591054998338, 0.00013516224862542003, 0.00030923960730433464, 0.25923895835876465, 0.010428431443870068, 0.00014859881775919348, 0.03750954568386078, 0.691355288028717], [0.0007232594070956111, 0.00020828550623264164, 0.0020762220956385136, 0.39204534888267517, 0.009189452975988388, 0.00010523121454752982, 0.051007356494665146, 0.544644832611084], [0.0005275274161249399, 0.00010315476538380608, 0.0004765102348756045, 0.015838846564292908, 0.0020156048703938723, 6.263566319830716e-05, 0.02480764128267765, 0.9561681151390076], [0.022959144786000252, 0.0020798598416149616, 0.00255564134567976, 0.00961832981556654, 0.0006177875911816955, 0.00029365080990828574, 0.02434445545077324, 0.9375311732292175]], [[0.003244642401114106, 0.0030610866378992796, 0.002172214677557349, 0.0025690682232379913, 0.003073647618293762, 0.01167986635118723, 0.002246304415166378, 0.9719531536102295], [0.0012299384688958526, 8.820278890198097e-05, 0.0001374561688862741, 0.0005307866376824677, 1.715707367111463e-05, 1.8382039570497e-06, 0.0018545392667874694, 0.9961400628089905], [0.10306470096111298, 0.05928703397512436, 0.002134663751348853, 0.003414720995351672, 0.011348970234394073, 0.01890098862349987, 0.001686182920821011, 0.8001627922058105], [0.0016575417248532176, 0.0035204237792640924, 0.08483655750751495, 0.011751432903110981, 2.387993663433008e-05, 4.467729013413191e-05, 0.007236497011035681, 0.8909289836883545], [0.0031181664671748877, 1.717944542178884e-05, 0.002055441029369831, 0.46344736218452454, 0.00254385476000607, 1.686256473476533e-05, 0.006014219019562006, 0.5227868556976318], [0.0052420273423194885, 1.004061778075993e-05, 2.9731470931437798e-05, 0.0992322638630867, 0.8619134426116943, 0.0001905771641759202, 0.0011589167406782508, 0.032222989946603775], [0.0036243340000510216, 0.00025469763204455376, 2.843142101482954e-05, 0.0013950151624158025, 0.05624762177467346, 0.0289927888661623, 0.012489908374845982, 0.8969672322273254], [0.002815418876707554, 0.0017074091592803597, 0.00849317479878664, 0.010451821610331535, 0.0024497320409864187, 0.0015612469287589192, 0.016455115750432014, 0.9560660719871521]], [[0.014533438719809055, 0.004577270243316889, 0.07285599410533905, 0.23703181743621826, 0.0034912116825580597, 0.0005696333828382194, 0.23527809977531433, 0.43166249990463257], [0.020291898399591446, 0.009861274622380733, 0.06183040887117386, 0.5604084730148315, 0.028248175978660583, 0.012719854712486267, 0.059763818979263306, 0.24687610566616058], [0.0019483098294585943, 0.0002442740951664746, 0.006230388768017292, 0.014727442525327206, 0.00033913293736986816, 0.000444666831754148, 0.08013544976711273, 0.895930290222168], [0.001751051051542163, 0.000557703198865056, 0.003292276058346033, 0.0071929944679141045, 0.0013295364333316684, 0.0014998737024143338, 0.03193154186010361, 0.9524450302124023], [0.001126558636315167, 0.00013026785745751113, 0.03765913471579552, 0.8153759241104126, 0.00025184228434227407, 2.7075000616605394e-05, 0.026154272258281708, 0.11927490681409836], [0.0001299604628002271, 2.010569369303994e-05, 0.03619547188282013, 0.9591965079307556, 4.0492406697012484e-05, 3.7062345654703677e-06, 0.002343791304156184, 0.0020699899177998304], [0.001283617108128965, 0.0002223542978754267, 0.011993622407317162, 0.05150775983929634, 4.248399272910319e-05, 5.644587508868426e-05, 0.009811059571802616, 0.9250826835632324], [0.00026641806471161544, 5.083039286546409e-05, 0.0007629913161508739, 0.006658108904957771, 1.924500429595355e-05, 2.0248011423973367e-05, 0.0028369321953505278, 0.9893853068351746]], [[0.0030147554352879524, 0.00044550903839990497, 0.0027833578642457724, 0.018982889130711555, 0.0009779295651242137, 0.0007008202956058085, 0.0197868961840868, 0.9533078670501709], [0.004664321430027485, 0.00028938704053871334, 0.01138235256075859, 0.05518892779946327, 0.003085379721596837, 0.0007517416379414499, 0.0007431688718497753, 0.9238947033882141], [0.0023461710661649704, 0.00016998458886519074, 0.0029301587492227554, 0.0104123679921031, 0.0002692805137485266, 0.00034339618287049234, 0.00225377781316638, 0.9812749028205872], [0.004031376913189888, 0.003286868566647172, 0.013259971514344215, 0.02117033675312996, 0.00626674247905612, 0.004210495389997959, 0.005553935654461384, 0.9422202706336975], [0.002312595024704933, 4.234710650052875e-05, 0.0016207039589062333, 0.04862821474671364, 0.010962205938994884, 0.00035102482070215046, 0.023461654782295227, 0.9126212000846863], [0.004797809757292271, 0.00010258677502861246, 0.015857024118304253, 0.017815645784139633, 0.01870640739798546, 0.007981345057487488, 0.02318059839308262, 0.9115586280822754], [0.00018809887114912271, 4.753487246489385e-06, 3.719744927366264e-05, 8.522737334715202e-05, 5.80589403398335e-06, 4.028154307889054e-06, 0.002465443452820182, 0.9972094893455505], [0.018297400325536728, 0.0014113986399024725, 0.0055770124308764935, 0.006527791265398264, 0.000594120123423636, 0.0006948329973965883, 0.02348906919360161, 0.9434083700180054]], [[0.006833448074758053, 0.0019762227311730385, 0.03475722298026085, 0.03559861704707146, 0.0011406394187361002, 0.00013030543050263077, 0.21749472618103027, 0.7020688652992249], [0.0017726542428135872, 0.0002909868198912591, 0.00016077482723630965, 0.0104509387165308, 0.00011859834921779111, 2.3391025024466217e-05, 0.005207423120737076, 0.981975257396698], [0.008632351644337177, 0.024057859554886818, 0.007515572477132082, 0.05446581169962883, 0.0009704618714749813, 0.0005413518520072103, 0.03352297097444534, 0.8702936172485352], [0.0007107146084308624, 0.0010504111414775252, 0.00043126201489940286, 0.008708721026778221, 3.053908949368633e-05, 8.294601866509765e-05, 0.003236409043893218, 0.9857490658760071], [0.0007565319538116455, 0.00024377299996558577, 5.291514389682561e-05, 0.030615171417593956, 0.0006241656956262887, 9.105491335503757e-05, 0.008562743663787842, 0.959053635597229], [0.02452700398862362, 0.000701459008269012, 0.005133486352860928, 0.3324893116950989, 0.025969307869672775, 0.0006601658533327281, 0.022064002230763435, 0.588455319404602], [0.006247619166970253, 0.0009078613948076963, 0.00393035588786006, 0.015330451540648937, 0.0023217799607664347, 0.0011392248561605811, 0.08476603031158447, 0.8853567242622375], [0.004190793260931969, 0.002851906232535839, 0.003391793929040432, 0.018357640132308006, 0.0006091410759836435, 0.001061845337972045, 0.019882289692759514, 0.9496546387672424]], [[0.016712430864572525, 0.007053997367620468, 0.024277128279209137, 0.0887068584561348, 0.0037255228962749243, 0.0005514867953024805, 0.02845587208867073, 0.8305166959762573], [0.3152161240577698, 0.04659441113471985, 0.008446157909929752, 0.12548373639583588, 0.00763229513540864, 0.00130281294696033, 0.03828777000308037, 0.4570367634296417], [0.012525192461907864, 0.002270487602800131, 0.019927578046917915, 0.7916041016578674, 0.02925242856144905, 0.0018559715244919062, 0.008140083402395248, 0.13442422449588776], [0.043361663818359375, 0.011969616636633873, 0.004736457020044327, 0.009745857678353786, 0.0008314584265463054, 0.00030836131190881133, 0.009691433049738407, 0.9193550944328308], [0.12759098410606384, 0.019021060317754745, 0.007886798121035099, 0.07025458663702011, 0.006216808222234249, 0.00026671684463508427, 0.017970839515328407, 0.7507922053337097], [0.2083836793899536, 0.025579562410712242, 0.005249478854238987, 0.04145359620451927, 0.018811004236340523, 0.0017644788604229689, 0.049491036683321, 0.6492672562599182], [0.0012634291779249907, 0.0005301854689605534, 0.001088038901798427, 0.006794746499508619, 0.0010952985612675548, 0.0002181593736167997, 0.020001767203211784, 0.9690084457397461], [0.006453933659940958, 0.0037004027981311083, 0.0028512408025562763, 0.013305185362696648, 0.0013605505228042603, 0.00040488626109436154, 0.03158428147435188, 0.9403395056724548]], [[0.00016556333866901696, 0.0003321845142636448, 0.0015877983532845974, 0.013562476262450218, 0.001395264407619834, 0.0002018759259954095, 0.0025220548268407583, 0.980232834815979], [0.0014809140702709556, 0.000888825161382556, 0.002811744809150696, 0.06455384939908981, 0.004445571452379227, 3.3643675124039873e-05, 0.0021864543668925762, 0.9235989451408386], [0.0009530400275252759, 0.028797607868909836, 0.0241710152477026, 0.006966856773942709, 0.006642916239798069, 0.0011099685216322541, 0.008389323949813843, 0.9229692220687866], [0.0016740631544962525, 0.002560592256486416, 0.00116721133235842, 0.0017695606220513582, 0.0003284446429461241, 0.00025827999343164265, 0.005654394160956144, 0.9865874648094177], [0.0025959634222090244, 0.00029722548788413405, 0.0015035428805276752, 0.8556246161460876, 0.03477101027965546, 0.0002262437337776646, 0.0032473213504999876, 0.1017339825630188], [0.00041079468792304397, 1.683475056779571e-05, 9.587693784851581e-05, 0.8048387169837952, 0.1940171867609024, 2.3452403183910064e-05, 8.31663710414432e-05, 0.0005139614804647863], [0.0018951635574921966, 0.00047793466364964843, 0.0019527433905750513, 0.17271508276462555, 0.7284379005432129, 0.005619076080620289, 0.007465230766683817, 0.08143682032823563], [0.0032306432258337736, 0.0024794519413262606, 0.007793731987476349, 0.022125866264104843, 0.0073859128169715405, 0.0015120204770937562, 0.013679958879947662, 0.9417924284934998]], [[0.0025207947473973036, 0.024170763790607452, 0.06125516816973686, 0.03791598230600357, 0.02350807376205921, 0.025583826005458832, 0.04903487116098404, 0.7760105133056641], [0.004274014383554459, 0.0007466919487342238, 0.8211122155189514, 0.04209129512310028, 0.0011213012039661407, 0.0007652986096218228, 0.04185393825173378, 0.08803536742925644], [0.00047417840687558055, 0.00012755098578054458, 0.0022735658567398787, 0.007013943511992693, 0.001416406244970858, 0.002000602427870035, 0.008232813328504562, 0.978460967540741], [0.00580578064545989, 0.002391120186075568, 0.033764589577913284, 0.026896627619862556, 0.029806114733219147, 0.05223061516880989, 0.21756277978420258, 0.6315423846244812], [0.0008325157104991376, 2.8566150831466075e-06, 0.005978199653327465, 0.0009329942404292524, 0.00017748447135090828, 0.00022193622135091573, 0.988450288772583, 0.003403658280149102], [0.0027996832504868507, 2.39664109358273e-06, 0.3128456473350525, 0.0030785356648266315, 4.8971436626743525e-05, 9.239993232768029e-06, 0.6625039577484131, 0.018711645156145096], [0.0002591665543150157, 2.749425038928166e-05, 0.00024225706874858588, 0.0011708615347743034, 0.00011184907634742558, 4.2578569264151156e-05, 0.027241021394729614, 0.9709048271179199], [0.005786158610135317, 0.0029293992556631565, 0.026218129321932793, 0.015223009511828423, 0.005560679826885462, 0.0041865636594593525, 0.07073912769556046, 0.8693569898605347]], [[0.008114008232951164, 0.006351047195494175, 0.0027218987233936787, 0.008671187795698643, 0.03951654210686684, 0.0319402813911438, 0.16147269308567047, 0.7412123084068298], [0.00031470879912376404, 0.00010364513582317159, 0.00014000174996908754, 0.001422080327756703, 4.440440170583315e-05, 6.415924872271717e-05, 0.0032534084748476744, 0.994657576084137], [0.0007397032459266484, 0.00490029389038682, 0.00842279102653265, 0.013316195458173752, 0.0001674405939411372, 0.0012132039992138743, 0.0038647267501801252, 0.9673756957054138], [0.002520326990634203, 0.023202382028102875, 0.009977259673178196, 0.09497188776731491, 0.0015159185277298093, 0.015589918941259384, 0.014575631357729435, 0.8376466035842896], [0.0006126906373538077, 9.948000661097467e-05, 0.004626347217708826, 0.05174614489078522, 0.0003964021452702582, 4.5922053686808795e-05, 0.007241280749440193, 0.9352317452430725], [0.0014825266553089023, 4.496115798247047e-05, 0.0014548299368470907, 0.0014237577561289072, 0.00036450280458666384, 0.00010883834329433739, 0.011217658407986164, 0.9839029312133789], [0.0010692395735532045, 0.00030818983213976026, 0.0010700883576646447, 0.0032768554519861937, 0.0003254497132729739, 0.002684933366253972, 0.016780145466327667, 0.9744850397109985], [0.001952740247361362, 0.0025599312502890825, 0.005986787378787994, 0.034322161227464676, 0.00120034150313586, 0.003062445903196931, 0.05681933835148811, 0.8940962553024292]]], [[[0.004839023109525442, 0.008393170312047005, 0.25086522102355957, 0.4945347011089325, 0.00030089460778981447, 1.6511872672708705e-05, 0.0851130560040474, 0.15593744814395905], [0.02686990238726139, 0.01401099655777216, 0.04971972852945328, 0.19703251123428345, 0.0029140810947865248, 0.0006528719677589834, 0.27782130241394043, 0.43097856640815735], [0.015308291651308537, 0.0013616702053695917, 0.033700522035360336, 0.020410070195794106, 0.00035428829141892493, 7.183895650086924e-05, 0.18132805824279785, 0.7474652528762817], [0.0552094466984272, 0.009626953862607479, 0.016219817101955414, 0.05534450337290764, 0.01033622957766056, 0.0025267640594393015, 0.23035220801830292, 0.6203840970993042], [0.00295728980563581, 0.0005325744277797639, 0.00579605670645833, 0.032797884196043015, 0.0023566836025565863, 0.00021811708575114608, 0.2161186933517456, 0.7392227649688721], [0.004111787769943476, 0.0024894201196730137, 0.024476099759340286, 0.11471482366323471, 0.0036630022805184126, 0.0010314994724467397, 0.3660137355327606, 0.4834997355937958], [0.0027274827007204294, 0.00021839076362084597, 0.0016463930951431394, 0.006895354483276606, 3.705096241901629e-05, 1.0103700333274901e-05, 0.048263996839523315, 0.9402012228965759], [0.01644827052950859, 0.005210663191974163, 0.020278368145227432, 0.053255096077919006, 0.0011256905272603035, 0.00032158021349459887, 0.1284591108560562, 0.7749012112617493]], [[0.020722119137644768, 0.025643624365329742, 0.037292756140232086, 0.45009613037109375, 0.013053799979388714, 0.002169799292460084, 0.0877072662115097, 0.36331456899642944], [0.030313409864902496, 0.0005231958348304033, 0.013642881065607071, 0.0037052195984870195, 0.0014121957356110215, 0.00021905403991695493, 0.17039090394973755, 0.7797930836677551], [0.03479525074362755, 0.005106331780552864, 0.024073299020528793, 0.03037966787815094, 0.004048154689371586, 0.0007411965052597225, 0.2340025007724762, 0.666853666305542], [0.03735113516449928, 0.00219392660073936, 0.03685895726084709, 0.010204113088548183, 0.008711754344403744, 0.0029522271361202, 0.32537636160850525, 0.5763515830039978], [0.017137089744210243, 0.0023510283790528774, 0.046893879771232605, 0.009454295970499516, 0.05588340386748314, 0.01041019894182682, 0.6087920665740967, 0.24907802045345306], [0.043783385306596756, 0.0018864813027903438, 0.04587841033935547, 0.007639739196747541, 0.03365004062652588, 0.006452781148254871, 0.5633746981620789, 0.2973344922065735], [0.015575048513710499, 0.008005005307495594, 0.027420394122600555, 0.021256599575281143, 0.007483588065952063, 0.005534426309168339, 0.26663562655448914, 0.6480892896652222], [0.02591685764491558, 0.010082048363983631, 0.029319290071725845, 0.028550157323479652, 0.004814851097762585, 0.002436659764498472, 0.10714185237884521, 0.7917382717132568]], [[0.00035887747071683407, 0.00018167131929658353, 0.001492730458267033, 0.002141515025869012, 1.830114342737943e-05, 3.0008977773832157e-06, 0.003393544815480709, 0.99241042137146], [0.000359054422006011, 0.00036689743865281343, 0.024993928149342537, 0.05671625956892967, 0.00010655286314431578, 2.7330520424584392e-06, 0.0022576169576495886, 0.9151968955993652], [5.658126246999018e-05, 1.360451165055565e-06, 3.428277705097571e-05, 0.0017324163345620036, 1.1711901493072219e-07, 4.262928232634522e-09, 8.067198359640315e-05, 0.9980946183204651], [0.015347082167863846, 0.009049366228282452, 0.0065477159805595875, 0.018780402839183807, 0.028869759291410446, 0.015129650942981243, 0.02829260751605034, 0.8779833912849426], [0.00015885145694483072, 0.0003974097780883312, 0.0001804966595955193, 0.00563234556466341, 0.0003697440552059561, 0.0014917285880073905, 0.009830500930547714, 0.981938898563385], [0.00030705935205332935, 0.00032967395964078605, 0.00395828764885664, 0.055770810693502426, 0.0009870765497907996, 0.0005178418359719217, 0.08065017312765121, 0.8574790954589844], [0.0001518583740107715, 2.983253034472e-05, 0.00013088289415463805, 0.0009778758976608515, 3.5379080145503394e-06, 1.1683907814585837e-06, 0.0026734774000942707, 0.9960313439369202], [0.020722832530736923, 0.005568521562963724, 0.014581501483917236, 0.050009869039058685, 0.003209601156413555, 0.0017050509341061115, 0.0633259266614914, 0.8408766984939575]], [[8.079810504568741e-05, 0.0001647844328545034, 0.0038042007945477962, 0.005124584771692753, 3.7404493923531845e-05, 3.748132257896941e-06, 0.021445579826831818, 0.9693388342857361], [0.002524635987356305, 0.0007471929420717061, 0.011527313850820065, 0.0062649971805512905, 0.00021040430874563754, 6.581552588613704e-05, 0.10099998861551285, 0.8776596784591675], [0.0003373114741407335, 0.0007985178381204605, 0.04365284740924835, 0.003946774639189243, 9.569488611305133e-05, 1.088167482521385e-05, 0.06869293004274368, 0.8824650645256042], [0.0017961404519155622, 0.0009043100872077048, 0.008932744152843952, 0.01773103140294552, 0.00035755123826675117, 6.819600093876943e-05, 0.07518621534109116, 0.8950238227844238], [0.0008818262140266597, 0.0003535581345204264, 0.008284777402877808, 0.01829679124057293, 0.0019823170732706785, 5.1874878408852965e-05, 0.03222327306866646, 0.9379256367683411], [0.00827592983841896, 0.0011033493792638183, 0.014579631388187408, 0.030541235581040382, 0.0021527744829654694, 0.0005095580127090216, 0.11608497053384781, 0.8267524838447571], [0.0011753906728699803, 0.0011122083524242043, 0.021610036492347717, 0.014482689090073109, 5.441501343739219e-05, 1.3472951650328469e-05, 0.06127148121595383, 0.9002803564071655], [0.002045303350314498, 0.0019257590174674988, 0.013727935962378979, 0.022128643468022346, 0.000322886771755293, 7.525804539909586e-05, 0.02590540237724781, 0.9338687658309937]], [[0.0006687919376417994, 0.00877538975328207, 0.07751930505037308, 0.25580281019210815, 0.0062385424971580505, 0.0010564849944785237, 0.013506032526493073, 0.6364327073097229], [0.03576619550585747, 0.012806967832148075, 0.1343860924243927, 0.1705959588289261, 0.4089091420173645, 0.013266951777040958, 0.04691721871495247, 0.17735154926776886], [0.005437192972749472, 0.0019112423760816455, 0.05737004056572914, 0.012402882799506187, 0.0006237223860807717, 6.15181343164295e-05, 0.00706928176805377, 0.9151241183280945], [0.0008860391099005938, 0.0003354917571414262, 0.005190017633140087, 0.001180675346404314, 5.3531319281319156e-05, 3.160370033583604e-05, 0.00653295312076807, 0.9857897162437439], [0.0009153805440291762, 0.0001721137814456597, 0.017640721052885056, 0.012924659997224808, 0.0005296960007399321, 4.029212868772447e-05, 0.026102939620614052, 0.9416741728782654], [0.008411484770476818, 0.002669587265700102, 0.07306069880723953, 0.10771074891090393, 0.019125381484627724, 0.0007225322187878191, 0.07781492918729782, 0.7104846835136414], [0.008658844977617264, 0.0006323031848296523, 0.013628993183374405, 0.010162700898945332, 4.5675162255065516e-05, 2.8844488042523153e-05, 0.030884340405464172, 0.9359583258628845], [0.0015756733482703567, 0.0012627368560060859, 0.010512973181903362, 0.02152714878320694, 0.0003755530924536288, 0.0001742946624290198, 0.027156958356499672, 0.9374146461486816]], [[0.0027270850259810686, 0.025925608351826668, 0.012330945581197739, 0.862165629863739, 0.0004939375212416053, 2.360763755859807e-05, 0.0064422087743878365, 0.08989087492227554], [0.007908494211733341, 0.02090698666870594, 0.03227284178137779, 0.5136858820915222, 0.0032862962689250708, 0.00013205540017224848, 0.004765703808516264, 0.4170418083667755], [0.002020068233832717, 0.0002490630140528083, 0.0011620338773354888, 0.023662623018026352, 0.000136180009576492, 6.1791829466528725e-06, 0.004273302387446165, 0.9684905409812927], [0.016895459964871407, 0.009455366991460323, 0.009008810855448246, 0.10079878568649292, 0.04795399680733681, 0.02866113930940628, 0.1506109982728958, 0.6366154551506042], [0.0008560367277823389, 0.0001941246446222067, 0.004055106546729803, 0.00802069716155529, 0.001051576342433691, 0.002722716424614191, 0.5218731760978699, 0.46122658252716064], [0.0022082487121224403, 0.001928722020238638, 0.048357684165239334, 0.10392436385154724, 0.0016971257282420993, 0.002306346083059907, 0.2712955176830292, 0.5682819485664368], [0.0010721692815423012, 0.0002148174389731139, 0.0015467099146917462, 0.007746271789073944, 3.3438911486882716e-05, 1.8492239178158343e-05, 0.02921469882130623, 0.9601534008979797], [0.012336920946836472, 0.006411820184439421, 0.011012463830411434, 0.09710141271352768, 0.0024785699788480997, 0.0007669517653994262, 0.062338851392269135, 0.8075529932975769]], [[4.7105757403187454e-05, 0.0002857884101103991, 0.0002267972013214603, 0.002833639271557331, 8.890896424418315e-05, 2.051927822321886e-06, 0.0032370220869779587, 0.9932786822319031], [0.000507374934386462, 0.0002871667384169996, 0.00042966348701156676, 0.006615381687879562, 0.0002776401524897665, 2.5303759230155265e-06, 0.0019104243256151676, 0.989969789981842], [0.0002107161417370662, 0.0003346478333696723, 0.0007003647624514997, 0.002578339073807001, 1.9740664356504567e-05, 1.4533750345435692e-06, 0.0020087717566639185, 0.9941459894180298], [0.00027041544672101736, 0.001676365383900702, 0.002305344445630908, 0.01065567322075367, 0.00018596250447444618, 4.417822492541745e-05, 0.0040342193096876144, 0.9808278679847717], [0.0017434516921639442, 0.00034498702734708786, 0.001916613895446062, 0.07688212394714355, 0.018671739846467972, 0.00010181665857089683, 0.02032139152288437, 0.8800178170204163], [0.0012534274719655514, 0.00014691503020003438, 0.0005966851022094488, 0.016157003119587898, 0.2830464541912079, 0.00023533670173492283, 0.01348357368260622, 0.6850805878639221], [0.0006525471108034253, 0.0001219914629473351, 0.0004531097656581551, 0.004998359829187393, 0.0012278532376512885, 3.501179162412882e-05, 0.018170462921261787, 0.9743406176567078], [0.002681664191186428, 0.0031472030095756054, 0.009433090686798096, 0.02936423197388649, 0.004046161659061909, 0.0004434212460182607, 0.03757108747959137, 0.9133131504058838]], [[0.0025811968371272087, 0.00042727074469439685, 0.024951381608843803, 0.08127883076667786, 0.014517501927912235, 0.00010165656567551196, 0.8027774095535278, 0.07336478680372238], [0.012231137603521347, 0.0016223916318267584, 0.026051761582493782, 0.14724621176719666, 0.3301381766796112, 0.015360181219875813, 0.23698581755161285, 0.23036442697048187], [0.011026804335415363, 0.0030994333792477846, 0.02744239754974842, 0.06996993720531464, 0.013156233355402946, 0.0016487943939864635, 0.14261648058891296, 0.7310399413108826], [0.004595576319843531, 0.002157667651772499, 0.012939057312905788, 0.04815782979130745, 0.006292155012488365, 0.0013150006998330355, 0.12398156523704529, 0.8005611300468445], [0.0046629528515040874, 0.0023845441173762083, 0.013111773878335953, 0.16910329461097717, 0.018064530566334724, 0.0011077590752393007, 0.05065980926156044, 0.7409053444862366], [0.007578402757644653, 0.0014223332982510328, 0.046473708003759384, 0.39843544363975525, 0.09869349002838135, 0.00316997361369431, 0.11574933677911758, 0.32847729325294495], [0.003090377664193511, 0.007112736813724041, 0.03325854614377022, 0.03409804031252861, 0.0004396035219542682, 0.0002563039306551218, 0.04254859685897827, 0.8791958689689636], [0.011480034328997135, 0.010709644295275211, 0.03890935704112053, 0.059932682663202286, 0.0031662823166698217, 0.0009884960018098354, 0.10496525466442108, 0.7698482275009155]], [[0.004287539515644312, 0.004064658656716347, 0.06505607813596725, 0.436193585395813, 0.007520601153373718, 0.0007065550307743251, 0.31666088104248047, 0.16551005840301514], [0.04531189054250717, 0.028314998373389244, 0.07450687140226364, 0.3811000883579254, 0.01154289860278368, 0.005028280895203352, 0.1192825436592102, 0.3349124491214752], [0.014429589733481407, 0.018592283129692078, 0.11071395128965378, 0.21475082635879517, 0.023008907213807106, 0.004311056341975927, 0.09010069817304611, 0.5240927338600159], [0.040888797491788864, 0.021995484828948975, 0.058390550315380096, 0.25041377544403076, 0.02452421374619007, 0.005366920027881861, 0.06514833122491837, 0.5332719087600708], [0.05805402621626854, 0.022427456453442574, 0.03344661369919777, 0.35244983434677124, 0.02257361263036728, 0.0073464736342430115, 0.03768600523471832, 0.46601602435112], [0.020446131005883217, 0.015042553655803204, 0.022620948031544685, 0.6638839840888977, 0.006972621660679579, 0.0023885557893663645, 0.04839989170432091, 0.22024527192115784], [0.0027856649830937386, 0.0022607308346778154, 0.028924455866217613, 0.09348150342702866, 0.0033318970818072557, 0.00033177962177433074, 0.031436748802661896, 0.8374471664428711], [0.001624400494620204, 0.0012016907567158341, 0.006865309551358223, 0.018823780119419098, 0.0010570064187049866, 0.00014016320346854627, 0.012262682430446148, 0.9580249190330505]], [[0.005098707042634487, 0.015919197350740433, 0.04657813906669617, 0.15352028608322144, 0.007840722799301147, 0.0024145955685526133, 0.15982647240161896, 0.6088019013404846], [0.14528150856494904, 0.006407449953258038, 0.05562666803598404, 0.39382728934288025, 0.34522467851638794, 0.009994459338486195, 0.014990882016718388, 0.02864706888794899], [0.04361938685178757, 0.002299496904015541, 0.05369776487350464, 0.45350679755210876, 0.12187833338975906, 0.0009071895619854331, 0.04191634804010391, 0.282174676656723], [0.034875694662332535, 0.009837023913860321, 0.031230930238962173, 0.02244957536458969, 0.007986597716808319, 0.00634755427017808, 0.26954472064971924, 0.6177279353141785], [0.029561521485447884, 0.000409148313337937, 0.012330465018749237, 0.11934353411197662, 0.012079569511115551, 0.001331188133917749, 0.19708044826984406, 0.6278641819953918], [0.043902408331632614, 0.0018343767151236534, 0.014980045147240162, 0.6467662453651428, 0.06744241714477539, 0.0027269674465060234, 0.08319192379713058, 0.13915562629699707], [0.0008075748919509351, 0.000171310908626765, 0.0016603658441454172, 0.007430571131408215, 7.683588046347722e-05, 2.3783970391377807e-05, 0.08746573328971863, 0.9023638367652893], [0.0032497907523065805, 0.002621689112856984, 0.013754189014434814, 0.047950878739356995, 0.0015155378496274352, 0.00039754659519530833, 0.04726544767618179, 0.8832449316978455]], [[6.651955482084304e-05, 0.0003564508515410125, 0.0037527892272919416, 0.01890525408089161, 1.4949574506317731e-05, 6.004768238199176e-07, 0.0012743648840114474, 0.9756290912628174], [0.0011475271312519908, 0.0029915969353169203, 0.02392444759607315, 0.2058764100074768, 0.0005611248197965324, 2.6710731617640704e-05, 0.02324051782488823, 0.7422316670417786], [0.00034270319156348705, 0.00021103626932017505, 0.011496078222990036, 0.007799520157277584, 2.5078834369196557e-05, 1.691642410150962e-06, 0.0053199040703475475, 0.9748039245605469], [0.0005544188315980136, 0.004504573997110128, 0.03468518331646919, 0.016172543168067932, 0.0002540952991694212, 5.079706170363352e-05, 0.027220584452152252, 0.916557788848877], [0.0016967195551842451, 0.008449205197393894, 0.43986502289772034, 0.08942372351884842, 0.0005860401433892548, 5.932683779974468e-05, 0.07001803070306778, 0.3899019658565521], [0.0017873256001621485, 0.0012399087427183986, 0.0049104769714176655, 0.4671958386898041, 0.0019465889781713486, 0.00012792993220500648, 0.11436331272125244, 0.4084286093711853], [4.548403012449853e-05, 4.340182931628078e-05, 0.0003836250107269734, 0.0034194665495306253, 1.4908512639522087e-05, 6.507806574518327e-06, 0.007502568885684013, 0.988584041595459], [0.0008827699930407107, 0.00405435124412179, 0.03127095848321915, 0.037909019738435745, 0.00047425535740330815, 0.00011710957187460735, 0.021233277395367622, 0.9040582180023193]], [[0.0067801158875226974, 0.001738469465635717, 0.0072145359590649605, 0.06363353878259659, 0.0002615730627439916, 2.078949910355732e-05, 0.022131921723484993, 0.8982190489768982], [0.0265740267932415, 0.008805527351796627, 0.004392063245177269, 0.23148852586746216, 0.000261776294792071, 0.00023264589253813028, 0.05015784874558449, 0.678087592124939], [0.019677678123116493, 0.010017642751336098, 0.018465248867869377, 0.06892123073339462, 0.0013114867033436894, 0.0011019648518413305, 0.1469525843858719, 0.7335522174835205], [0.005139451008290052, 0.0011158823035657406, 0.0038040284998714924, 0.008815091103315353, 0.00011328141408739612, 0.0003141418274026364, 0.05807308480143547, 0.9226250052452087], [0.007014498580247164, 0.0026849843561649323, 0.007372523657977581, 0.5453979969024658, 0.0017445412231609225, 0.00035300859599374235, 0.017473643645644188, 0.4179588556289673], [0.0021454221569001675, 0.0006409006891772151, 0.002516797510907054, 0.9015899896621704, 0.0020306319929659367, 4.654270742321387e-05, 0.0036507132463157177, 0.08737915754318237], [0.004017242696136236, 0.0027023169677704573, 0.019762124866247177, 0.10651586204767227, 0.0036449076142162085, 0.0002075788943329826, 0.04318016394972801, 0.8199698328971863], [0.0023630696814507246, 0.0017709048697724938, 0.010465064086019993, 0.0355435349047184, 0.001114302547648549, 0.0002752048894762993, 0.058214060962200165, 0.8902539014816284]]], [[[0.0436258427798748, 0.018219616264104843, 0.12466605752706528, 0.112128347158432, 0.05117645114660263, 0.0033547021448612213, 0.17242905497550964, 0.47439998388290405], [0.04119935259222984, 0.048448942601680756, 0.0705382227897644, 0.03999653458595276, 0.04666342958807945, 0.008540995419025421, 0.06780359894037247, 0.6768088936805725], [0.01019233651459217, 0.0014071728801354766, 0.05592827871441841, 0.04361002519726753, 0.00321412505581975, 0.00012919183063786477, 0.15861018002033234, 0.7269086241722107], [0.01915608160197735, 0.003540949895977974, 0.04446438327431679, 0.06441246718168259, 0.006757653784006834, 0.0005078897229395807, 0.14231818914413452, 0.7188424468040466], [0.038182906806468964, 0.011522263288497925, 0.03737456351518631, 0.0677497535943985, 0.07393547147512436, 0.0039474391378462315, 0.09420378506183624, 0.6730839014053345], [0.04158792272210121, 0.06500401347875595, 0.07311150431632996, 0.06379776448011398, 0.24089105427265167, 0.11208249628543854, 0.09296916425228119, 0.3105560839176178], [0.006862785201519728, 0.0004862585919909179, 0.029306329786777496, 0.04349417984485626, 0.0012249840656295419, 5.634958506561816e-05, 0.269457072019577, 0.6491119861602783], [0.012278587557375431, 0.003149508498609066, 0.09017492830753326, 0.08355095237493515, 0.0031559865456074476, 0.00032479927176609635, 0.25462275743484497, 0.5527425408363342]], [[0.056215204298496246, 0.042900558561086655, 0.23186546564102173, 0.23095737397670746, 0.020871184766292572, 0.007758860010653734, 0.19270476698875427, 0.216726616024971], [0.00035387612297199667, 6.659620765958607e-08, 0.9202088117599487, 0.0006941944011487067, 3.61770139534201e-06, 1.9284803087771252e-08, 0.06408443301916122, 0.014654941856861115], [0.005215385463088751, 0.00011126313620479777, 0.26128432154655457, 0.03235593065619469, 0.0006848496268503368, 2.288140240125358e-05, 0.2606610059738159, 0.439664363861084], [0.006559357512742281, 0.00018998798623215407, 0.30574411153793335, 0.029175283387303352, 0.001460612053051591, 6.065013803890906e-05, 0.4186657965183258, 0.23814420402050018], [0.0023706359788775444, 1.257561507372884e-06, 0.5517250299453735, 0.002728099701926112, 5.63711510039866e-05, 5.739250354963588e-06, 0.3602043688297272, 0.08290857076644897], [0.008556333370506763, 1.4770495226912317e-06, 0.6994484066963196, 0.001764759887009859, 3.526070941006765e-05, 1.5658533811802045e-05, 0.2160530686378479, 0.07412495464086533], [0.006045763846486807, 0.000593655975535512, 0.04855084791779518, 0.06410903483629227, 0.0014225057093426585, 8.480100950691849e-05, 0.21421068906784058, 0.6649827361106873], [0.008238088339567184, 0.0005610886728391051, 0.054780684411525726, 0.067209392786026, 0.001542996265925467, 7.441952038789168e-05, 0.2175120860338211, 0.650081217288971]], [[0.008215201087296009, 0.0007957760826684535, 0.07703354209661484, 0.49538472294807434, 0.008671509101986885, 1.8723250832408667e-05, 0.15672527253627777, 0.25315529108047485], [0.0005114785162732005, 2.438267301840824e-06, 0.0058655510656535625, 0.9028460383415222, 5.7888420997187495e-05, 5.503501654402498e-09, 0.03427289053797722, 0.05644353851675987], [0.013890814036130905, 0.001963962335139513, 0.06278545409440994, 0.3612433075904846, 0.008562183007597923, 6.261798262130469e-05, 0.19269533455371857, 0.3587963283061981], [0.053146082907915115, 0.0030625828076153994, 0.09138178080320358, 0.10948736220598221, 0.005116376560181379, 0.00013402433251030743, 0.15428857505321503, 0.5833832025527954], [0.008406744338572025, 0.00025862609618343413, 0.025893237441778183, 0.658610999584198, 0.0012216054601594806, 1.5504297152801882e-06, 0.08135250210762024, 0.22425468266010284], [7.049350097076967e-05, 4.87413842620299e-07, 0.001123785856179893, 0.9861623048782349, 1.202609928441234e-05, 3.18667148224705e-10, 0.004057419486343861, 0.008573492988944054], [0.025814931839704514, 0.012409660033881664, 0.10459012538194656, 0.47730767726898193, 0.01849277876317501, 0.0001999284722842276, 0.10713444650173187, 0.25405043363571167], [0.005101082380861044, 0.001735600526444614, 0.04758106544613838, 0.42986199259757996, 0.0037274500355124474, 3.366195596754551e-05, 0.11457761377096176, 0.3973814845085144]], [[0.0003177835023961961, 0.049351297318935394, 0.008329224772751331, 0.3723349869251251, 0.00028179577202536166, 2.4105074203362165e-07, 0.08080250024795532, 0.48858216404914856], [0.004122013226151466, 0.0003313056658953428, 0.005891833454370499, 0.18303413689136505, 0.0004955691983923316, 1.175827219412895e-05, 0.11778464913368225, 0.6883286833763123], [0.008905096910893917, 0.008635315112769604, 0.03521179407835007, 0.16920925676822662, 0.001929829828441143, 6.635735917370766e-05, 0.1298425793647766, 0.6461997628211975], [0.02375008352100849, 0.014536699280142784, 0.04869911074638367, 0.06255088001489639, 0.007706935051828623, 0.0010756680276244879, 0.09219244867563248, 0.7494882345199585], [0.0056809913367033005, 0.0004810814280062914, 0.011776339262723923, 0.3729250729084015, 0.0030339357908815145, 5.462391345645301e-05, 0.11042725294828415, 0.4956206679344177], [0.004261173773556948, 0.0001845536899054423, 0.009080196730792522, 0.29903411865234375, 0.008202839642763138, 0.0004214431974105537, 0.20445410907268524, 0.4743615686893463], [0.007428815122693777, 0.002906911075115204, 0.028568752110004425, 0.14582209289073944, 0.00497575243934989, 0.00018914845713879913, 0.1519920527935028, 0.6581164002418518], [0.021017299965023994, 0.003522500628605485, 0.039036404341459274, 0.05660835653543472, 0.00267887394875288, 0.0005447481526061893, 0.15073971450328827, 0.7258520722389221]], [[0.024392729625105858, 0.023951245471835136, 0.09596986323595047, 0.38066890835762024, 0.006136402953416109, 9.154385338661086e-07, 0.06453923135995865, 0.4043407738208771], [0.003830166533589363, 0.0006611556746065617, 0.012062456458806992, 0.9298504590988159, 0.0031369240023195744, 7.084061053319601e-07, 0.020085439085960388, 0.03037264011800289], [0.003848574822768569, 0.0001739095605444163, 0.03346521779894829, 0.18124954402446747, 0.000632568437140435, 1.834386011978495e-06, 0.14408303797245026, 0.6365453004837036], [0.007174600847065449, 0.00039924102020449936, 0.05644698068499565, 0.1610417366027832, 0.000437642855104059, 2.7347291506885085e-06, 0.13960440456867218, 0.6348926424980164], [0.0037448180373758078, 0.00023464023252017796, 0.010634238831698895, 0.8210242390632629, 0.001387479598633945, 4.970306690665893e-07, 0.04047936201095581, 0.12249475717544556], [0.0028944092337042093, 0.003984141629189253, 0.0043058558367192745, 0.9598399996757507, 0.020411932840943336, 1.3389885680226143e-05, 0.003327664453536272, 0.005222653970122337], [0.006934614386409521, 0.00045846079592593014, 0.033945683389902115, 0.23502135276794434, 0.0002325901441508904, 1.8940071413453552e-06, 0.08954929560422897, 0.6338560581207275], [0.002762667601928115, 8.270951366284862e-05, 0.02277214080095291, 0.04371152073144913, 0.00015230650024022907, 2.940051672339905e-06, 0.11067138612270355, 0.8198443651199341]], [[0.004922735504806042, 6.2206981965573505e-06, 0.016404496505856514, 0.019595006480813026, 6.279340595938265e-05, 3.345836603330099e-07, 0.3858014941215515, 0.5732069611549377], [0.004387171007692814, 1.1447576753198518e-06, 0.02631210908293724, 0.018849069252610207, 3.2039042707765475e-05, 1.9684672736275388e-07, 0.39182695746421814, 0.558591365814209], [0.0160286333411932, 0.0005920873372815549, 0.059512823820114136, 0.11206517368555069, 0.005246901419013739, 9.171429701382294e-05, 0.36185044050216675, 0.44461220502853394], [0.019309816882014275, 0.0020237015560269356, 0.10955067723989487, 0.15842805802822113, 0.012555671855807304, 0.00033691644784994423, 0.31410157680511475, 0.3836935758590698], [0.00544546777382493, 3.730804746737704e-05, 0.04974233731627464, 0.04373098909854889, 0.00025208908482454717, 5.328942279447801e-06, 0.3788793981075287, 0.5219070911407471], [0.0008852125611156225, 1.5461630198387866e-07, 0.01828511618077755, 0.005460834130644798, 2.732997472776333e-06, 1.8877102547776303e-08, 0.3746468722820282, 0.6007190346717834], [0.01355954259634018, 0.0022993420716375113, 0.12126277387142181, 0.20330403745174408, 0.010671011172235012, 0.0002717478491831571, 0.33861345052719116, 0.3100181221961975], [0.006103619001805782, 0.003376905107870698, 0.09322765469551086, 0.19636471569538116, 0.011533589102327824, 0.000337512930855155, 0.31014537811279297, 0.378910630941391]], [[0.0029525288846343756, 0.00015316451026592404, 0.00896555744111538, 0.021858027204871178, 0.0010318211279809475, 5.613483153865673e-06, 0.34911835193634033, 0.6159150004386902], [0.0009570496040396392, 7.393132818833692e-06, 0.013548056595027447, 0.005753867328166962, 1.2005486951238709e-06, 2.4104993556761656e-09, 0.11239957809448242, 0.8673328161239624], [0.0018084126058965921, 6.0655915149254724e-05, 0.017275061458349228, 0.011256824247539043, 5.0726575864246115e-05, 3.9730738876642135e-07, 0.13033175468444824, 0.8392162322998047], [0.005744084715843201, 0.00019639644597191364, 0.010524140670895576, 0.02756703458726406, 7.292494410648942e-05, 1.6894189229788026e-06, 0.09467356652021408, 0.861220121383667], [0.0013411690015345812, 8.769234227656852e-06, 0.00831058993935585, 0.012081611901521683, 1.987553696380928e-05, 6.145145903246885e-08, 0.1545940488576889, 0.8236438035964966], [0.0009995232103392482, 6.049615421943599e-06, 0.008351022377610207, 0.014919556677341461, 2.334102646273095e-05, 1.9355907454610133e-07, 0.25754234194755554, 0.7181580066680908], [0.004036248195916414, 0.00021773821208626032, 0.005173117388039827, 0.01336238905787468, 0.00024769280571490526, 1.1536731108208187e-05, 0.2317792773246765, 0.7451719641685486], [0.02963094599545002, 0.0028932043351233006, 0.02043762244284153, 0.03058617375791073, 0.0009215767495334148, 0.00021105665655341, 0.12196160852909088, 0.7933578491210938]], [[0.13076986372470856, 0.00035719783045351505, 0.09515633434057236, 0.16558313369750977, 0.00014869800361339003, 3.375837138719362e-07, 0.18240706622600555, 0.42557743191719055], [0.015624511055648327, 0.02722778357565403, 0.19385693967342377, 0.4469599723815918, 0.09631902724504471, 0.000900118553545326, 0.04306885227560997, 0.17604286968708038], [0.002330328105017543, 7.178586383815855e-05, 0.05965375900268555, 0.12079362571239471, 0.0003662437666207552, 1.063898935171892e-06, 0.216932475566864, 0.5998506546020508], [0.0068480754271149635, 0.0006417786935344338, 0.06412065029144287, 0.11561259627342224, 0.0019687737803906202, 2.112030597345438e-05, 0.22306281328201294, 0.5877241492271423], [0.002639920450747013, 0.0005043486598879099, 0.03773949295282364, 0.3736794590950012, 0.003162837354466319, 1.087046075554099e-05, 0.11194449663162231, 0.47031858563423157], [0.0014842042000964284, 8.678022277308628e-05, 0.07961081713438034, 0.4216395318508148, 0.001355598447844386, 2.3656082248635357e-06, 0.12090490758419037, 0.37491580843925476], [0.002348401816561818, 5.080884511698969e-05, 0.03224215656518936, 0.05726231262087822, 9.493347170064226e-05, 8.579559107602108e-07, 0.34026065468788147, 0.5677399039268494], [0.0011474669445306063, 3.214163371012546e-05, 0.021282415837049484, 0.03928133472800255, 0.00012411009811330587, 1.1990393886662787e-06, 0.21384987235069275, 0.7242814898490906]], [[0.00434821005910635, 0.010932372882962227, 0.06197202205657959, 0.6880993247032166, 0.019110282883048058, 0.00035496687632985413, 0.06873178482055664, 0.14645105600357056], [0.008271667174994946, 1.4311573977465741e-05, 0.017705585807561874, 0.01638629287481308, 7.167651347117499e-05, 1.941382379300194e-06, 0.036548782140016556, 0.9209997057914734], [0.012114325538277626, 0.0004807509249076247, 0.07806610316038132, 0.09766829758882523, 0.001655082916840911, 2.1466736143338494e-05, 0.1945612132549286, 0.6154327988624573], [0.022585878148674965, 0.0014072881313040853, 0.04628157615661621, 0.13812491297721863, 0.008176184259355068, 0.0004572382604237646, 0.13960257172584534, 0.6433643698692322], [0.0018160371109843254, 4.879358129983302e-06, 0.015210872516036034, 0.03115115314722061, 7.592765177832916e-05, 7.270205060194712e-07, 0.09800659120082855, 0.8537337779998779], [0.05058163031935692, 1.440148480469361e-05, 0.15728239715099335, 0.026218676939606667, 0.0004698687989730388, 0.00012220535427331924, 0.26566967368125916, 0.49964120984077454], [0.014740947633981705, 0.003667631885036826, 0.07548630237579346, 0.17868894338607788, 0.010746076703071594, 0.0003688206779770553, 0.33029991388320923, 0.3860014081001282], [0.22088134288787842, 0.10073012858629227, 0.12612281739711761, 0.12093105167150497, 0.08088810741901398, 0.042563170194625854, 0.13719576597213745, 0.17068761587142944]], [[0.002391670597717166, 0.0004714291135314852, 0.012342794798314571, 0.040579430758953094, 0.00042793844477273524, 7.42965676181484e-06, 0.07802613079547882, 0.865753173828125], [4.250523852533661e-05, 2.9138602258171886e-05, 0.00036352997994981706, 0.007671232335269451, 1.3797811334370635e-05, 1.1817379430567598e-07, 0.008551140315830708, 0.9833285808563232], [0.0031492584384977818, 0.004765975754708052, 0.02397250011563301, 0.07617849111557007, 0.0033708629198372364, 0.00013278624101076275, 0.07661478966474533, 0.8118153214454651], [0.0009113309788517654, 0.0023276489228010178, 0.016682785004377365, 0.04393547400832176, 0.0012853903463110328, 4.567415817291476e-05, 0.03642371669411659, 0.8983879685401917], [0.00045701672206632793, 0.0016491874121129513, 0.001880331663414836, 0.16344740986824036, 0.0036134279798716307, 0.00010329674842068925, 0.020605869591236115, 0.8082433938980103], [0.002136619994416833, 0.0019575695041567087, 0.00179261714220047, 0.13589437305927277, 0.005824317689985037, 0.0005481509724631906, 0.036425985395908356, 0.8154203295707703], [0.005225293338298798, 0.011346780695021152, 0.01803985983133316, 0.07167632132768631, 0.006494519766420126, 0.0006175576709210873, 0.06882232427597046, 0.8177773356437683], [0.00965181551873684, 0.010352695360779762, 0.029286038130521774, 0.11744551360607147, 0.006292435806244612, 0.000503610644955188, 0.08736961334943771, 0.7390983700752258]], [[0.07620778679847717, 0.005352940410375595, 0.12448273599147797, 0.07094340026378632, 0.00868028961122036, 0.0002915683726314455, 0.4901287257671356, 0.2239125818014145], [0.13921622931957245, 0.00012915980187244713, 0.09069924056529999, 0.004056439734995365, 0.5264877676963806, 0.007310973480343819, 0.2162233591079712, 0.01587686315178871], [0.07265335321426392, 0.006091657560318708, 0.11565931886434555, 0.09785173088312149, 0.04043281450867653, 0.0014585586031898856, 0.2744186222553253, 0.391433984041214], [0.17023664712905884, 0.0010439770994707942, 0.12375703454017639, 0.03589529171586037, 0.06564328074455261, 0.002057628007605672, 0.3659875988960266, 0.23537850379943848], [0.08559770882129669, 0.00014118332182988524, 0.10095418989658356, 0.02819308266043663, 0.035744618624448776, 0.00026321999030187726, 0.35615789890289307, 0.39294809103012085], [0.09419243782758713, 3.816129901679233e-05, 0.19076621532440186, 0.019802680239081383, 0.059480395168066025, 0.0001511616283096373, 0.464506059885025, 0.17106284201145172], [0.023588484153151512, 0.003305853111669421, 0.052440863102674484, 0.10936856269836426, 0.0029013303574174643, 0.0001183370768558234, 0.1304183304309845, 0.6778582334518433], [0.042958665639162064, 0.0026125803124159575, 0.06671334058046341, 0.11055707186460495, 0.007602408062666655, 0.00019059772603213787, 0.1793166846036911, 0.590048611164093]], [[0.02526528388261795, 0.0005049621686339378, 0.051802992820739746, 0.03379948437213898, 0.002309307223185897, 0.0002832602767739445, 0.391580194234848, 0.4944544732570648], [0.002504489151760936, 7.43863040497672e-07, 0.02015744335949421, 0.00747787207365036, 0.00016752266674302518, 6.3649858930148184e-06, 0.7888196110725403, 0.18086600303649902], [0.005942865274846554, 2.8434285923140123e-05, 0.016427792608737946, 0.01144014298915863, 0.0002651930844876915, 2.7740610676119104e-05, 0.4285556375980377, 0.5373121500015259], [0.024042071774601936, 0.0008540821727365255, 0.05304108187556267, 0.021727075800299644, 0.0031347093172371387, 0.000761684263125062, 0.43800127506256104, 0.4584380090236664], [0.0014374578604474664, 5.729903023166116e-07, 0.007912867702543736, 0.002904736204072833, 1.1386489859432913e-05, 4.848036496696295e-07, 0.5563441514968872, 0.43138834834098816], [0.0032990435138344765, 5.176512786420062e-06, 0.026131082326173782, 0.007016859017312527, 0.00014089436444919556, 3.996491614088882e-06, 0.6566271781921387, 0.3067757487297058], [0.03838924318552017, 0.0035072823520749807, 0.08259996771812439, 0.0369475781917572, 0.004309072159230709, 0.0016662743873894215, 0.1499655395746231, 0.6826150417327881], [0.10397463291883469, 0.05960550904273987, 0.14155802130699158, 0.1598013937473297, 0.07156995683908463, 0.0405954048037529, 0.18934044241905212, 0.2335546612739563]]], [[[5.514135636985884e-07, 6.914458339224439e-08, 0.00010415525321150199, 0.0009490048396401107, 3.650632436347223e-07, 1.3193951486911715e-09, 0.0007426845841109753, 0.9982031583786011], [0.004574997816234827, 0.004394218325614929, 0.11607788503170013, 0.6961617469787598, 0.004126510117202997, 1.2407588656060398e-05, 0.07790986448526382, 0.09674230217933655], [1.898209461614897e-06, 5.37376809717216e-09, 7.501985237468034e-05, 0.00020245318592060357, 8.341351076524006e-08, 1.1428065160856704e-09, 0.0010927775874733925, 0.998627781867981], [4.612389238900505e-05, 2.482399850123329e-07, 0.0006568312528543174, 0.0013245516456663609, 1.70127282217436e-06, 7.364803877862869e-08, 0.00620558625087142, 0.9917648434638977], [0.00014553900109604, 5.064434844825882e-07, 0.0031945551745593548, 0.008764035068452358, 4.304843514546519e-06, 3.906077594706403e-08, 0.020622385665774345, 0.9672685861587524], [0.003594053443521261, 0.020530156791210175, 0.11179594695568085, 0.7873339653015137, 0.013894148170948029, 2.7494032110553235e-05, 0.0422409288585186, 0.02058333531022072], [6.057852715457557e-06, 9.796089273095276e-08, 0.00017808610573410988, 0.00046156704775057733, 7.661681138415588e-07, 2.0585599003197785e-08, 0.002081750426441431, 0.9972715973854065], [0.0026012093294411898, 0.00031228523585014045, 0.011607656255364418, 0.012485395185649395, 0.000994145986624062, 0.0003188416885677725, 0.04017990827560425, 0.9315005540847778]], [[0.0005026145372539759, 4.145694219914731e-06, 0.0532757006585598, 0.051202502101659775, 2.509197838662658e-05, 1.071176211553393e-05, 0.8796030282974243, 0.015376169234514236], [0.0001264743332285434, 1.2221932593092788e-05, 0.01818268559873104, 0.02007230930030346, 6.874827522551641e-05, 2.756516096269479e-06, 0.21124376356601715, 0.7502910494804382], [3.591800577851245e-06, 6.124814149188751e-07, 0.0004283027083147317, 0.00041840545600280166, 2.3582194899063325e-06, 7.005287727679388e-08, 0.004861125256866217, 0.994285523891449], [7.63691969041247e-06, 1.0529790870350553e-06, 0.0006477587739937007, 0.001173251774162054, 5.3188446145213675e-06, 1.2094167800569267e-07, 0.008738025091588497, 0.989426851272583], [2.1325026864360552e-06, 6.044874112376419e-07, 0.0003451238153502345, 0.0005025594145990908, 4.159760919719702e-06, 6.67199131498819e-08, 0.006221371237188578, 0.9929239749908447], [5.842340033268556e-05, 4.279100721760187e-06, 0.01089380867779255, 0.015163918025791645, 2.9071061362628825e-05, 1.6492384702360141e-06, 0.1934286653995514, 0.780420184135437], [2.847533323802054e-05, 2.040570052486146e-06, 0.0021573631092906, 0.0022976284381002188, 1.0063003173854668e-05, 4.865721052738081e-07, 0.03596409037709236, 0.9595398306846619], [0.00024439714616164565, 2.890464566007722e-05, 0.003165419911965728, 0.0034730674233287573, 8.10976343927905e-05, 4.887865998171037e-06, 0.016709910705685616, 0.9762923121452332]], [[6.09450762567576e-06, 3.2752706147221033e-07, 0.00040077505400404334, 0.0012984269997105002, 1.6483985518789268e-06, 1.584917308505851e-09, 0.0014501806581392884, 0.9968425035476685], [7.856954766793933e-07, 3.251282620908569e-08, 2.8321126592345536e-05, 0.00012138004240114242, 1.4504647083413147e-07, 2.9815561131130153e-10, 0.00016852511907927692, 0.9996808767318726], [2.5376757548656315e-05, 2.684603487068671e-06, 0.0006329884636215866, 0.0017706890357658267, 8.422265636909287e-06, 5.802963798373639e-08, 0.0021501309238374233, 0.9954096674919128], [6.19643833488226e-05, 5.647527814289788e-06, 0.001030448474921286, 0.0025508147664368153, 2.0399182176333852e-05, 2.1619763401758973e-07, 0.0036972849629819393, 0.9926331639289856], [1.8606472167448374e-06, 1.1319990278479963e-07, 6.959524034755304e-05, 0.00028207749710418284, 6.459209771492169e-07, 2.2531754240162627e-09, 0.0003495702694635838, 0.9992960691452026], [3.248536017963488e-08, 7.208421637372453e-10, 1.7517403421152267e-06, 1.4254382222134154e-05, 7.675993174416362e-09, 6.160605445920675e-12, 1.7265412679989822e-05, 0.9999667406082153], [4.780425297212787e-05, 4.946159606333822e-06, 0.0008767282124608755, 0.0025440978351980448, 1.8974677004734986e-05, 1.606161816880558e-07, 0.0032927009742707014, 0.9932146072387695], [0.00041553378105163574, 0.0001280851720366627, 0.0031472870614379644, 0.006526102311909199, 0.00023685322958044708, 1.3202689842728432e-05, 0.006966544780880213, 0.9825663566589355]], [[0.0008938433020375669, 1.82573444362788e-06, 0.007779525127261877, 0.009229564107954502, 8.104456355795264e-06, 1.8641448207290523e-07, 0.04832660034298897, 0.9337603449821472], [0.00045130151556804776, 1.3603771549242083e-06, 0.0028407557401806116, 0.004476656671613455, 3.2481111702509224e-06, 4.5687545480177505e-07, 0.02972818911075592, 0.9624980092048645], [0.0008574071689508855, 4.3139811168657616e-05, 0.006242438219487667, 0.012846233323216438, 8.124695887090638e-05, 3.846215804514941e-06, 0.02390628680586815, 0.9560194611549377], [0.0022822769824415445, 0.00016354348917957395, 0.01045356597751379, 0.013659645803272724, 0.00023324201174546033, 3.1686187867308035e-05, 0.03296443074941635, 0.9402115345001221], [0.0003802696301136166, 5.290720309858443e-06, 0.0030611029360443354, 0.006784291006624699, 9.095820132642984e-06, 7.641021966264816e-07, 0.024540292099118233, 0.9652188420295715], [0.00016179101658053696, 1.8187883199516364e-07, 0.0018251793226227164, 0.006183170247823, 7.154648073992576e-07, 1.1736928762218213e-08, 0.030467545613646507, 0.9613614082336426], [0.003381559159606695, 0.00015500298468396068, 0.019818654283881187, 0.03020678646862507, 0.0003365975571796298, 1.4006791388965212e-05, 0.04847337678074837, 0.897614061832428], [0.08399792015552521, 0.02494671754539013, 0.15956468880176544, 0.19033478200435638, 0.03312483802437782, 0.00932319089770317, 0.20977656543254852, 0.288931280374527]], [[0.0016431468538939953, 0.00018852466018870473, 0.025376994162797928, 0.06245496869087219, 0.000677802599966526, 6.791947271267418e-06, 0.06267714500427246, 0.8469746708869934], [7.69730395404622e-05, 1.302242935707909e-07, 0.003089864505454898, 0.003129121847450733, 2.1083385490783257e-06, 2.862770021039296e-09, 0.008897146210074425, 0.984804630279541], [0.0005654820706695318, 6.490769465017365e-06, 0.006393440533429384, 0.011337644420564175, 4.7586840082658455e-05, 7.035393991827732e-07, 0.025291142985224724, 0.9563575387001038], [0.0008362305234186351, 4.222789812047267e-06, 0.008778732270002365, 0.012126567773520947, 3.127154559479095e-05, 4.093795666904043e-07, 0.029719239100813866, 0.948503315448761], [0.000301898893667385, 1.3255843214210472e-06, 0.0074701495468616486, 0.00968261156231165, 1.3258859326015227e-05, 5.919642376284173e-08, 0.02580743469297886, 0.9567232728004456], [1.677871659921948e-05, 7.024657833198944e-08, 0.001947401324287057, 0.002544057322666049, 1.5467062439711299e-06, 9.404541589930204e-10, 0.00419902428984642, 0.9912911653518677], [0.00033987784991040826, 1.2239523130119778e-05, 0.00646551139652729, 0.01653304509818554, 6.835009844508022e-05, 9.300400165557221e-07, 0.020212003961205482, 0.9563680291175842], [0.0005877119838260114, 8.775304013397545e-05, 0.009717077948153019, 0.018114807084202766, 0.0002681683108676225, 9.59563931246521e-06, 0.013450468890368938, 0.9577643871307373]], [[0.00012994158896617591, 3.45948756148573e-05, 0.00763242831453681, 0.045807912945747375, 0.0002512594510335475, 4.2113865106330195e-07, 0.016608361154794693, 0.9295350909233093], [7.504622772103176e-07, 1.1496349117123827e-07, 0.00037092872662469745, 0.003100260393694043, 2.640423417687998e-06, 2.332928850101723e-10, 0.0005989450146444142, 0.9959263801574707], [1.6155898265424185e-05, 5.236975084699225e-06, 0.003029066603630781, 0.011750287376344204, 5.476306250784546e-05, 3.084468858105538e-08, 0.0040421555750072, 0.9811022877693176], [1.2494857401179615e-05, 3.419107542868005e-06, 0.0018266196129843593, 0.014164640568196774, 4.725111648440361e-05, 2.364131113097301e-08, 0.0033974749967455864, 0.9805480241775513], [9.66102220445464e-07, 2.3555358552584948e-07, 0.0003501540923025459, 0.0021095487754791975, 6.917797691130545e-06, 1.1977185909728405e-09, 0.0007890216074883938, 0.9967431426048279], [9.225887254160625e-08, 1.1802220534207208e-08, 6.860600842628628e-05, 0.0005238305893726647, 4.7595418095625064e-07, 3.849893667751125e-11, 0.00016768326167948544, 0.9992393255233765], [3.4328993933741e-05, 1.072822942660423e-05, 0.0033523596357554197, 0.01371011883020401, 0.0001051371218636632, 1.2096990076315706e-07, 0.008443128317594528, 0.9743441343307495], [0.0003435957187321037, 0.00010085586836794391, 0.01076492853462696, 0.029028117656707764, 0.0006489671068266034, 3.284088052168954e-06, 0.018343131989240646, 0.9407671689987183]], [[6.8519284468493424e-06, 6.360119897408367e-08, 0.0010823991615325212, 0.0012960577150806785, 1.8149778497900115e-06, 5.04692954095276e-10, 0.004562494810670614, 0.9930503368377686], [2.0527993910945952e-05, 8.172801813088881e-08, 0.0011863448889926076, 0.0010835665743798018, 2.3344769033428747e-06, 7.682624536542448e-10, 0.006447216030210257, 0.9912599921226501], [2.5282361093559302e-06, 7.655196476719084e-09, 0.00018263680976815522, 0.0002684108621906489, 2.361370121661821e-07, 9.570381986900856e-11, 0.0015104009071364999, 0.998035728931427], [7.662626558158081e-06, 2.3166185414424945e-08, 0.0002886933507397771, 0.0004489929706323892, 5.655637664858659e-07, 4.160292388366571e-10, 0.0023982194252312183, 0.9968558549880981], [4.752714630740229e-06, 1.833752527602428e-08, 0.00042487832251936197, 0.0005464355926960707, 7.122076226551144e-07, 2.1571942843134906e-10, 0.0038851858116686344, 0.9951379895210266], [1.2862996300100349e-05, 1.1026157409332882e-07, 0.0012324710842221975, 0.0013452410930767655, 4.452125267562224e-06, 2.3303516893946608e-09, 0.006376408506184816, 0.9910284876823425], [4.54916562375729e-06, 2.741257532079544e-08, 0.00026044060359708965, 0.00047240679850801826, 6.948284863028675e-07, 6.225975845985943e-10, 0.001808843924663961, 0.9974530339241028], [7.592430483782664e-05, 2.330002189410152e-06, 0.000868570466991514, 0.001748478738591075, 1.5103361874935217e-05, 1.34683673991276e-07, 0.0028573486488312483, 0.9944321513175964]], [[0.01590927690267563, 3.199329148628749e-05, 0.0487118624150753, 0.023637453094124794, 0.00030344343394972384, 2.636726776472642e-06, 0.221538707613945, 0.6898646354675293], [0.4099346697330475, 0.08410871773958206, 0.1005372703075409, 0.029517609626054764, 0.03938540443778038, 0.07047933340072632, 0.1944090873003006, 0.07162794470787048], [0.0005903544370085001, 1.936692751769442e-05, 0.007872814312577248, 0.007611562497913837, 0.00011217310384381562, 1.1056195035052951e-06, 0.03386133909225464, 0.9499313235282898], [0.0007225840236060321, 0.00010522678348934278, 0.010610961355268955, 0.01016839686781168, 0.00033590832026675344, 1.0333258614991792e-05, 0.028540607541799545, 0.9495059847831726], [0.005014061462134123, 0.0005083269788883626, 0.023326920345425606, 0.017224736511707306, 0.000977164483629167, 5.133905870025046e-05, 0.08532174676656723, 0.8675757646560669], [0.43661487102508545, 0.03994686156511307, 0.12639985978603363, 0.03679703548550606, 0.03164111450314522, 0.008342523127794266, 0.26491445302963257, 0.0553433783352375], [0.0029059206135571003, 5.737757601309568e-05, 0.021525172516703606, 0.015427547506988049, 0.0003406296600587666, 5.290482022246579e-06, 0.06580179184675217, 0.8939362168312073], [0.0006985698128119111, 6.196039612405002e-05, 0.013439159840345383, 0.024862399324774742, 0.0003870774817187339, 5.661130217049504e-06, 0.03027890808880329, 0.930266261100769]], [[8.010919145817752e-07, 7.352207287425472e-09, 0.00021060463041067123, 0.0006396783282980323, 2.058834667195697e-07, 2.827310217543011e-12, 0.0003320294781588018, 0.998816728591919], [1.2308335499255918e-05, 1.685819057684057e-07, 0.0007566028507426381, 0.0015260938089340925, 1.8842944200514467e-06, 9.246026166920274e-11, 0.0005160262226127088, 0.9971869587898254], [9.373408829560503e-06, 3.7925795481896785e-07, 0.0005075777880847454, 0.0014751148410141468, 2.8293732157180784e-06, 1.158303897241808e-09, 0.0008843879913911223, 0.9971203804016113], [6.751531327608973e-05, 5.5793861974962056e-06, 0.0015395692316815257, 0.00472387857735157, 2.5943005312001333e-05, 4.42645067266767e-08, 0.002734061097726226, 0.9909034371376038], [8.335478014487308e-06, 2.0891891949759156e-07, 0.0005102180875837803, 0.0012697401689365506, 1.6712375554561731e-06, 2.6590510349144836e-10, 0.0006363801076076925, 0.9975734353065491], [1.5053761899253004e-06, 1.183017506178885e-08, 0.00013061249046586454, 0.000393949041608721, 2.280035715784834e-07, 1.0991934792925484e-11, 0.00012134652206441388, 0.9993523955345154], [3.509820453473367e-05, 8.94903337211872e-07, 0.0011483639245852828, 0.003362881951034069, 9.547575245960616e-06, 6.431151611252517e-09, 0.0030078082345426083, 0.9924353957176208], [0.0029614646919071674, 0.0015047398628666997, 0.026868652552366257, 0.057928405702114105, 0.0038773072883486748, 0.00014186617045197636, 0.03157102316617966, 0.8751465678215027]], [[8.910261417582888e-10, 2.0242194032071836e-10, 2.8477768410084536e-06, 1.2694024007942062e-05, 2.1244097592187927e-09, 1.4015534338576024e-13, 5.642603355227038e-05, 0.9999279975891113], [6.767927329676127e-10, 1.1841797542544441e-09, 2.0439488253032323e-06, 2.5414525225642137e-05, 7.822776204591264e-09, 6.961131432565992e-13, 4.2126208427362144e-05, 0.9999303817749023], [1.1201027660945329e-08, 7.2399313211235494e-09, 1.7072468835976906e-05, 5.614940164377913e-05, 4.788655516563267e-08, 1.3405163264146314e-11, 0.00019926750974263996, 0.9997274279594421], [4.845446355261629e-08, 2.982541147389384e-08, 3.307238148408942e-05, 0.0002881650871131569, 1.6654706769259064e-07, 9.680112961207854e-11, 0.00036254312726669014, 0.9993159770965576], [2.0046717619237597e-09, 2.817646782560246e-09, 3.258666311012348e-06, 2.8182412279420532e-05, 3.608807119803714e-08, 4.893353083845753e-12, 6.493484397651628e-05, 0.9999035596847534], [1.784812853067308e-10, 2.4654833730153314e-10, 3.739002636393707e-07, 6.542211849591695e-06, 2.760953909941577e-09, 3.9810391311637106e-13, 1.4387959708983544e-05, 0.9999786615371704], [3.31918279528054e-08, 2.1021930862730187e-08, 2.917689380410593e-05, 0.0001013650035019964, 1.510709211061112e-07, 1.1271463623563349e-10, 0.0004866211675107479, 0.9993826150894165], [8.79443086887477e-06, 1.2862389667134266e-05, 0.0007664448930881917, 0.0019891266711056232, 4.050838833791204e-05, 4.7039242190294317e-07, 0.0036014069337397814, 0.9935803413391113]], [[0.0008440289529971778, 2.361156020924682e-06, 0.14365117251873016, 0.09461211413145065, 0.00024068511265795678, 2.058008448102555e-07, 0.14541642367839813, 0.6152329444885254], [0.028108613565564156, 1.2598086868820246e-05, 0.0774199366569519, 0.08110743761062622, 0.0002714086731430143, 5.294266429700656e-06, 0.42635369300842285, 0.38672104477882385], [0.011099127121269703, 1.4185264262778219e-05, 0.13130226731300354, 0.07086363434791565, 0.0003472845710348338, 3.926249064534204e-06, 0.5312314033508301, 0.25513821840286255], [0.027662398293614388, 3.570124681573361e-05, 0.0633210837841034, 0.10283313691616058, 0.0007267280598171055, 3.759819082915783e-05, 0.5860337018966675, 0.2193496972322464], [0.021445510908961296, 6.478062914538896e-06, 0.05879581719636917, 0.059993401169776917, 0.00028257464873604476, 6.2569060901296325e-06, 0.44409114122390747, 0.41537877917289734], [0.011085102334618568, 9.162376954918727e-06, 0.08178418129682541, 0.06437607109546661, 0.0005098916008137167, 1.751064155541826e-05, 0.19648477435112, 0.6457333564758301], [0.010070210322737694, 8.127514593070373e-05, 0.13687996566295624, 0.11945699900388718, 0.0014307004166767001, 2.1407604435808025e-05, 0.3742736279964447, 0.35778576135635376], [0.050215717405080795, 0.020122380927205086, 0.1735938936471939, 0.16709798574447632, 0.03226461261510849, 0.006840674672275782, 0.1696764975786209, 0.3801882863044739]], [[0.0003822151629719883, 2.4839047910063528e-05, 0.009190067648887634, 0.044318459928035736, 0.00012441337457858026, 5.84420320137724e-07, 0.034366071224212646, 0.9115933775901794], [0.0011347136460244656, 0.00031088097603060305, 0.043652258813381195, 0.20295177400112152, 0.0006778935785405338, 3.6125850328971865e-06, 0.05727527663111687, 0.6939935684204102], [0.00017722274060361087, 1.5867468391661532e-05, 0.005218550097197294, 0.015633277595043182, 5.441705070552416e-05, 3.710010787472129e-07, 0.011868798173964024, 0.9670315384864807], [0.0002218273439211771, 2.2870055545354262e-05, 0.007137218024581671, 0.014855215325951576, 6.668994319625199e-05, 7.93035837887146e-07, 0.01503106951713562, 0.9626643657684326], [0.0001540144148748368, 9.491209311818238e-06, 0.005687098018825054, 0.02003132738173008, 3.201429717591964e-05, 1.4928221503396344e-07, 0.013686704449355602, 0.9603992104530334], [0.00035531437606550753, 1.199164216814097e-05, 0.010095112025737762, 0.037244413048028946, 6.394527008524165e-05, 8.948613583470433e-08, 0.019928310066461563, 0.932300865650177], [0.0004315707483328879, 1.4042949260328896e-05, 0.0051354533061385155, 0.013876842334866524, 5.5749707826180384e-05, 4.1812177187239286e-07, 0.013097485527396202, 0.967388391494751], [0.013719972223043442, 0.0008543189615011215, 0.02276550605893135, 0.031167156994342804, 0.0017220183508470654, 0.00010607706644805148, 0.04092349112033844, 0.8887414336204529]]], [[[0.1853177845478058, 0.006214981898665428, 0.1538943201303482, 0.10231571644544601, 0.013176512904465199, 0.004735685884952545, 0.39155933260917664, 0.1427856981754303], [0.19760657846927643, 0.011892711743712425, 0.18037332594394684, 0.12499464303255081, 0.0217891912907362, 0.00695141963660717, 0.3075687289237976, 0.14882338047027588], [0.1463574916124344, 0.014003042131662369, 0.172826886177063, 0.12585215270519257, 0.02259208634495735, 0.008593703620135784, 0.2833356261253357, 0.2264389991760254], [0.15569888055324554, 0.015207643620669842, 0.1723933219909668, 0.1252153217792511, 0.023969214409589767, 0.009687231853604317, 0.28150174021720886, 0.21632659435272217], [0.16427397727966309, 0.013343716971576214, 0.17902156710624695, 0.11966873705387115, 0.02149694226682186, 0.008454887196421623, 0.2925778329372406, 0.20116229355335236], [0.18166354298591614, 0.012561109848320484, 0.20142146944999695, 0.1381598562002182, 0.025439120829105377, 0.005985939409583807, 0.3043955862522125, 0.13037343323230743], [0.13896343111991882, 0.015528342686593533, 0.17415301501750946, 0.12715019285678864, 0.02482941374182701, 0.009664333425462246, 0.2842770516872406, 0.22543427348136902], [0.12376050651073456, 0.011190610937774181, 0.18427824974060059, 0.1438741832971573, 0.018358634784817696, 0.004760982934385538, 0.2665729224681854, 0.24720396101474762]], [[0.14481250941753387, 0.0005999688873998821, 0.13454608619213104, 0.0443401038646698, 0.004281285218894482, 0.000715807662345469, 0.6465436220169067, 0.024160604923963547], [0.18100161850452423, 0.0009615854360163212, 0.15024612843990326, 0.056195493787527084, 0.0062213921919465065, 0.0010543384123593569, 0.5095135569572449, 0.09480593353509903], [0.1166779026389122, 0.010315452702343464, 0.19020523130893707, 0.1271640658378601, 0.030282549560070038, 0.008610640652477741, 0.3800812065601349, 0.13666293025016785], [0.11770568042993546, 0.011071369051933289, 0.17856721580028534, 0.12262146174907684, 0.030088869854807854, 0.009067034348845482, 0.35263341665267944, 0.17824497818946838], [0.15009988844394684, 0.0027802372351288795, 0.17538651823997498, 0.07749354094266891, 0.012195751070976257, 0.0028858575969934464, 0.45581868290901184, 0.12333954870700836], [0.17864733934402466, 0.000464115320937708, 0.15474222600460052, 0.045446332544088364, 0.0040903836488723755, 0.0005144439055584371, 0.544286847114563, 0.07180825620889664], [0.11282282322645187, 0.011007742956280708, 0.18032710254192352, 0.1273230016231537, 0.03160387650132179, 0.00984849315136671, 0.37218549847602844, 0.15488150715827942], [0.053301744163036346, 0.029358698055148125, 0.12129954993724823, 0.13014797866344452, 0.04975925385951996, 0.020575322210788727, 0.15604248642921448, 0.4395149052143097]], [[0.033615592867136, 0.1878342181444168, 0.13474655151367188, 0.3276592791080475, 0.19898098707199097, 0.015217338688671589, 0.07302258908748627, 0.02892345003783703], [0.0430835485458374, 0.2131371796131134, 0.10662422329187393, 0.2008950412273407, 0.28212082386016846, 0.0639185905456543, 0.06647525727748871, 0.023745322600007057], [0.058894071727991104, 0.13388603925704956, 0.1503334641456604, 0.21913012862205505, 0.1471431702375412, 0.04438977688550949, 0.1271851360797882, 0.11903825402259827], [0.07022443413734436, 0.15069010853767395, 0.1318400651216507, 0.19193802773952484, 0.1714657098054886, 0.07005221396684647, 0.11498159170150757, 0.09880790114402771], [0.059672459959983826, 0.18717989325523376, 0.11190379410982132, 0.1755305975675583, 0.24141982197761536, 0.09274344146251678, 0.08671945333480835, 0.044830452650785446], [0.06828674674034119, 0.17823104560375214, 0.12765705585479736, 0.22108380496501923, 0.25212863087654114, 0.04667331278324127, 0.08376948535442352, 0.02216995507478714], [0.08569473773241043, 0.13084480166435242, 0.1580115109682083, 0.21838344633579254, 0.13712750375270844, 0.04124779254198074, 0.1326262354850769, 0.09606397897005081], [0.0748836100101471, 0.08819092810153961, 0.13434995710849762, 0.16241715848445892, 0.06951881945133209, 0.03792651742696762, 0.15716369450092316, 0.2755492627620697]], [[0.04424804076552391, 0.18629445135593414, 0.1458425521850586, 0.23407545685768127, 0.2254864126443863, 0.04208604246377945, 0.09440360218286514, 0.027563447132706642], [0.04388835281133652, 0.10917709022760391, 0.18819715082645416, 0.2514762580394745, 0.15065787732601166, 0.02968323603272438, 0.12108390033245087, 0.10583613067865372], [0.046040017157793045, 0.05191206932067871, 0.1440098136663437, 0.1720883548259735, 0.06271219253540039, 0.020980950444936752, 0.15845152735710144, 0.34380507469177246], [0.04190785810351372, 0.043083470314741135, 0.13276080787181854, 0.16221068799495697, 0.05574289709329605, 0.01966601237654686, 0.1568044275045395, 0.38782384991645813], [0.0399523563683033, 0.06293296068906784, 0.16618932783603668, 0.2064511477947235, 0.08596440404653549, 0.0234176404774189, 0.15323776006698608, 0.26185452938079834], [0.03345107287168503, 0.0800650492310524, 0.1991577446460724, 0.28807857632637024, 0.11739162355661392, 0.016235174611210823, 0.12885873019695282, 0.1367620825767517], [0.04833047091960907, 0.05278772488236427, 0.14182552695274353, 0.1925715208053589, 0.06513430923223495, 0.020222852006554604, 0.1763642132282257, 0.3027633726596832], [0.029355041682720184, 0.015420659445226192, 0.08034518361091614, 0.08954762667417526, 0.018315555527806282, 0.0065831951797008514, 0.11016429215669632, 0.6502683758735657]], [[0.03731006011366844, 0.1194034069776535, 0.19079706072807312, 0.37539446353912354, 0.1119091808795929, 0.015655750408768654, 0.12501376867294312, 0.024516308680176735], [0.13112078607082367, 0.08613850176334381, 0.21670903265476227, 0.22809998691082, 0.08145581930875778, 0.02182256616652012, 0.18424898386001587, 0.050404246896505356], [0.07045479118824005, 0.061243150383234024, 0.21100352704524994, 0.2711321711540222, 0.06970646977424622, 0.016821954399347305, 0.20372048020362854, 0.09591741114854813], [0.08285544812679291, 0.06326419115066528, 0.2043663114309311, 0.24297700822353363, 0.07023690640926361, 0.020589400082826614, 0.20428620278835297, 0.11142455041408539], [0.09874584525823593, 0.07495661824941635, 0.21899010241031647, 0.24500209093093872, 0.07580068707466125, 0.02084834687411785, 0.19020715355873108, 0.07544912397861481], [0.14455479383468628, 0.07153941690921783, 0.2317645251750946, 0.23482243716716766, 0.07531826198101044, 0.01766400784254074, 0.18334223330020905, 0.040994368493556976], [0.06866390258073807, 0.07158100605010986, 0.20251959562301636, 0.27773424983024597, 0.07944435626268387, 0.01906318962574005, 0.18872950971126556, 0.09226412326097488], [0.10242906957864761, 0.03649342432618141, 0.18105532228946686, 0.19922266900539398, 0.04868464544415474, 0.013612526468932629, 0.20381423830986023, 0.21468810737133026]], [[0.04249531030654907, 0.006313994061201811, 0.2501004636287689, 0.1958107203245163, 0.015612686984241009, 0.0010972525924444199, 0.34638673067092896, 0.142182856798172], [0.11716431379318237, 0.012072117067873478, 0.21901686489582062, 0.15304741263389587, 0.023017577826976776, 0.0033172923140227795, 0.26634320616722107, 0.206021249294281], [0.047187257558107376, 0.006007627584040165, 0.15973211824893951, 0.11971800774335861, 0.010390717536211014, 0.0020470188464969397, 0.28706735372543335, 0.36784985661506653], [0.06826189160346985, 0.009781718254089355, 0.16336628794670105, 0.14193926751613617, 0.015646368265151978, 0.0035635698586702347, 0.28060415387153625, 0.31683671474456787], [0.07160800695419312, 0.00958478357642889, 0.18085159361362457, 0.12669916450977325, 0.015472198836505413, 0.0030668657273054123, 0.25404682755470276, 0.33867064118385315], [0.09447365999221802, 0.009173939935863018, 0.23615802824497223, 0.1515500843524933, 0.0192627664655447, 0.0024753829929977655, 0.2853047549724579, 0.20160138607025146], [0.04180679842829704, 0.007450073957443237, 0.16189506649971008, 0.1347871869802475, 0.01205558329820633, 0.0027178556192666292, 0.29912102222442627, 0.3401663899421692], [0.03800471872091293, 0.014141758903861046, 0.10636238753795624, 0.10108762979507446, 0.018729882314801216, 0.0083711426705122, 0.18436840176582336, 0.5289340615272522]], [[0.2394244223833084, 0.005131339654326439, 0.18313072621822357, 0.09896053373813629, 0.013340339064598083, 0.007625266443938017, 0.4199029505252838, 0.03248438984155655], [0.29231956601142883, 0.004620163701474667, 0.17243991792201996, 0.09795349091291428, 0.007755836937576532, 0.0036162612959742546, 0.35937461256980896, 0.06192009523510933], [0.2459648847579956, 0.009022559970617294, 0.17247430980205536, 0.11722392588853836, 0.01498363260179758, 0.006959236226975918, 0.3526597321033478, 0.08071180433034897], [0.22780996561050415, 0.009701056405901909, 0.16635452210903168, 0.11962326616048813, 0.015011613257229328, 0.007521398831158876, 0.3448379933834076, 0.10914020240306854], [0.2792399823665619, 0.006438061129301786, 0.17171065509319305, 0.10763714462518692, 0.009589248336851597, 0.0046988436952233315, 0.343066543340683, 0.07761948555707932], [0.2882053852081299, 0.006100344005972147, 0.16514712572097778, 0.10604941844940186, 0.009366726502776146, 0.004300231114029884, 0.3289441764354706, 0.09188658744096756], [0.19899553060531616, 0.019397124648094177, 0.17334742844104767, 0.13455016911029816, 0.028271378949284554, 0.01684492826461792, 0.3114893436431885, 0.1171041801571846], [0.08258100599050522, 0.03560655936598778, 0.09690525382757187, 0.10380096733570099, 0.025894254446029663, 0.019233962520956993, 0.15613974630832672, 0.4798383116722107]], [[2.232064798590727e-05, 0.001000722753815353, 0.0003355553199071437, 0.0005448457668535411, 9.806002708501182e-06, 0.000766562472563237, 0.0012675850884988904, 0.996052622795105], [0.004398430697619915, 0.05367714911699295, 0.007632572669535875, 0.010511966422200203, 0.0015456696273759007, 0.08506012707948685, 0.014117332175374031, 0.823056697845459], [0.0003400231071282178, 0.0037993632722646, 0.0025888511445373297, 0.0038053703028708696, 0.00023947478621266782, 0.002312538679689169, 0.006640919484198093, 0.9802734851837158], [0.0011176071129739285, 0.009039470925927162, 0.005115734413266182, 0.007601155899465084, 0.0007430175319314003, 0.007101433351635933, 0.012041476555168629, 0.957240104675293], [0.0011807916453108191, 0.0151545824483037, 0.005041218362748623, 0.008064511232078075, 0.0010605179704725742, 0.012777116149663925, 0.010856027714908123, 0.9458652138710022], [0.005929070059210062, 0.08118046075105667, 0.00728533836081624, 0.010269379243254662, 0.0015330052701756358, 0.18117524683475494, 0.013573741540312767, 0.6990537643432617], [0.0007470294367522001, 0.005630794912576675, 0.004390816204249859, 0.006121900398284197, 0.0004647873865906149, 0.0038117559161037207, 0.010988264344632626, 0.9678446650505066], [0.0029419686179608107, 0.018975988030433655, 0.010259709320962429, 0.01404726505279541, 0.0026138650719076395, 0.01519770547747612, 0.018953219056129456, 0.9170102477073669]], [[0.0712180882692337, 0.0014368799747899175, 0.12216052412986755, 0.07431106269359589, 0.002283072331920266, 0.0008887678268365562, 0.4380333721637726, 0.2896682024002075], [0.1646680235862732, 0.054322440177202225, 0.18748511373996735, 0.17608316242694855, 0.09203093498945236, 0.03824865072965622, 0.20128460228443146, 0.08587709814310074], [0.09862837195396423, 0.01103951595723629, 0.19783689081668854, 0.14166459441184998, 0.01691499911248684, 0.006315434817224741, 0.32928624749183655, 0.198313906788826], [0.11441589891910553, 0.020605944097042084, 0.18917453289031982, 0.18312852084636688, 0.030975481495261192, 0.012202841229736805, 0.28193506598472595, 0.16756166517734528], [0.14011205732822418, 0.07118190824985504, 0.16377508640289307, 0.18011900782585144, 0.11967373639345169, 0.0585981048643589, 0.18308371305465698, 0.08345638960599899], [0.1547335386276245, 0.0485929511487484, 0.1914161741733551, 0.17245705425739288, 0.10162344574928284, 0.04557245224714279, 0.2164188176393509, 0.06918548792600632], [0.09564034640789032, 0.009955302812159061, 0.1758260577917099, 0.13160492479801178, 0.014939894899725914, 0.006104662083089352, 0.36208394169807434, 0.2038448452949524], [0.05838291719555855, 0.014051013626158237, 0.16147978603839874, 0.12647253274917603, 0.019245753064751625, 0.006976066157221794, 0.2988733947277069, 0.3145185708999634]], [[0.1251806765794754, 0.10889393836259842, 0.1758885532617569, 0.16816477477550507, 0.11106660217046738, 0.08259478956460953, 0.20839545130729675, 0.01981518417596817], [0.12224254757165909, 0.19107532501220703, 0.0980062335729599, 0.10190434008836746, 0.253059446811676, 0.14909608662128448, 0.06772618740797043, 0.016889818012714386], [0.11929816007614136, 0.12313979119062424, 0.14639736711978912, 0.14494936168193817, 0.123783178627491, 0.10021873563528061, 0.15532377362251282, 0.08688970655202866], [0.12851817905902863, 0.1364089846611023, 0.12634578347206116, 0.13309547305107117, 0.15396855771541595, 0.12437932193279266, 0.12426851689815521, 0.0730152502655983], [0.145265132188797, 0.1611795574426651, 0.10621857643127441, 0.10014046728610992, 0.20483921468257904, 0.16083335876464844, 0.09179587662220001, 0.029727859422564507], [0.12131600826978683, 0.18388673663139343, 0.1008443683385849, 0.10494308918714523, 0.2663921117782593, 0.14037741720676422, 0.06505598872900009, 0.017184225842356682], [0.13507598638534546, 0.10450896620750427, 0.14680634438991547, 0.13466817140579224, 0.11364711821079254, 0.09970535337924957, 0.17668631672859192, 0.0889018103480339], [0.09414713084697723, 0.10772866010665894, 0.13749340176582336, 0.16561655700206757, 0.1044471487402916, 0.0661018118262291, 0.1277216374874115, 0.1967436522245407]], [[0.048887934535741806, 0.0655338391661644, 0.23511870205402374, 0.34440678358078003, 0.11808790266513824, 0.007779366802424192, 0.14691925048828125, 0.033266179263591766], [0.07333921641111374, 0.04994279146194458, 0.24048830568790436, 0.26795288920402527, 0.0884317085146904, 0.009121411480009556, 0.18713262677192688, 0.08359099924564362], [0.04935748875141144, 0.052158091217279434, 0.20987163484096527, 0.2659854590892792, 0.08116044104099274, 0.012383955530822277, 0.19298449158668518, 0.13609839975833893], [0.05897189676761627, 0.05965246632695198, 0.20256543159484863, 0.28986209630966187, 0.08540317416191101, 0.014826889149844646, 0.18314756453037262, 0.10557045042514801], [0.03991677239537239, 0.04261687025427818, 0.22962592542171478, 0.2559414207935333, 0.07793430238962173, 0.008269441314041615, 0.1854807585477829, 0.16021451354026794], [0.0839514508843422, 0.034070856869220734, 0.25939396023750305, 0.24284179508686066, 0.07355569303035736, 0.005619419272989035, 0.2097642421722412, 0.09080258756875992], [0.055020250380039215, 0.05193671956658363, 0.20663565397262573, 0.2659895122051239, 0.08116044849157333, 0.013136617839336395, 0.195452481508255, 0.13066838681697845], [0.07484527677297592, 0.04940972104668617, 0.1705400049686432, 0.2236221432685852, 0.06464815884828568, 0.020546773448586464, 0.18265505135059357, 0.21373285353183746]], [[0.0021180850453674793, 0.0011518046958371997, 0.08101321756839752, 0.12146218866109848, 0.0038028827402740717, 8.433491893811151e-05, 0.1640516221523285, 0.6263158917427063], [0.009044372476637363, 0.003387049539014697, 0.09777641296386719, 0.11358891427516937, 0.008837884292006493, 0.0005826738197356462, 0.17782020568847656, 0.5889625549316406], [0.0074708168394863605, 0.002791370265185833, 0.08166950196027756, 0.10113368928432465, 0.006079482845962048, 0.0005571082001551986, 0.17071470618247986, 0.6295833587646484], [0.011134333908557892, 0.004503580741584301, 0.08927267789840698, 0.11537756025791168, 0.009089257568120956, 0.0011608197819441557, 0.18111705780029297, 0.5883447527885437], [0.008123375475406647, 0.0032239039428532124, 0.09169437736272812, 0.10834619402885437, 0.00846156757324934, 0.0005767809343524277, 0.16684359312057495, 0.6127301454544067], [0.012612791731953621, 0.0031884144991636276, 0.11226234585046768, 0.11077291518449783, 0.010234486311674118, 0.0005647959769703448, 0.20235121250152588, 0.5480129718780518], [0.009933946654200554, 0.0036733460146933794, 0.08919337391853333, 0.11393646895885468, 0.008269893005490303, 0.0008020597160793841, 0.18513768911361694, 0.589053213596344], [0.015095510520040989, 0.005006957333534956, 0.06731892377138138, 0.0773095116019249, 0.007931999862194061, 0.0021482871379703283, 0.13209699094295502, 0.6930918097496033]]]], \"left_text\": [\"[CLS]\", \"the\", \"cat\", \"sat\", \"on\", \"the\", \"mat\", \"[SEP]\"], \"right_text\": [\"[CLS]\", \"the\", \"cat\", \"sat\", \"on\", \"the\", \"mat\", \"[SEP]\"]}], \"default_filter\": \"0\", \"display_mode\": \"dark\", \"root_div_id\": \"bertviz-d98532981eb14b309ebab11c9993cdad\", \"include_layers\": [0, 1, 2, 3, 4, 5, 6, 7, 8, 9, 10, 11], \"include_heads\": [0, 1, 2, 3, 4, 5, 6, 7, 8, 9, 10, 11], \"total_heads\": 12} is a template marker that is replaced by actual params.\n",
       "        const config = {};\n",
       "\n",
       "        const MIN_X = 0;\n",
       "        const MIN_Y = 0;\n",
       "        const DIV_WIDTH = 970;\n",
       "        const THUMBNAIL_PADDING = 5;\n",
       "        const DETAIL_WIDTH = 300;\n",
       "        const DETAIL_ATTENTION_WIDTH = 140;\n",
       "        const DETAIL_BOX_WIDTH = 80;\n",
       "        const DETAIL_BOX_HEIGHT = 18;\n",
       "        const DETAIL_PADDING = 15;\n",
       "        const ATTN_PADDING = 0;\n",
       "        const DETAIL_HEADING_HEIGHT = 25;\n",
       "        const HEADING_TEXT_SIZE = 15;\n",
       "        const HEADING_PADDING = 5;\n",
       "        const TEXT_SIZE = 13;\n",
       "        const TEXT_PADDING = 5;\n",
       "        const LAYER_COLORS = d3.schemeCategory10;\n",
       "        const PALETTE = {\n",
       "            'light': {\n",
       "                'text': 'black',\n",
       "                'background': 'white',\n",
       "                'highlight': '#F5F5F5'\n",
       "            },\n",
       "            'dark': {\n",
       "                'text': '#ccc',\n",
       "                'background': 'black',\n",
       "                'highlight': '#222'\n",
       "            }\n",
       "        }\n",
       "\n",
       "        function render() {\n",
       "\n",
       "            // Set global state variables\n",
       "\n",
       "            var attData = config.attention[config.filter];\n",
       "            config.leftText = attData.left_text;\n",
       "            config.rightText = attData.right_text;\n",
       "            config.attn = attData.attn;\n",
       "            config.numLayers = config.attn.length;\n",
       "            config.numHeads = config.attn[0].length;\n",
       "            config.thumbnailBoxHeight = 7 * (12 / config.totalHeads);\n",
       "            const axisSize = HEADING_TEXT_SIZE + HEADING_PADDING + TEXT_SIZE + TEXT_PADDING;\n",
       "            config.thumbnailHeight = Math.max(config.leftText.length, config.rightText.length) * config.thumbnailBoxHeight + 2 * THUMBNAIL_PADDING;\n",
       "            config.thumbnailWidth = (DIV_WIDTH - axisSize) / config.totalHeads;\n",
       "            config.detailHeight = Math.max(config.leftText.length, config.rightText.length) * DETAIL_BOX_HEIGHT + 2 * DETAIL_PADDING + DETAIL_HEADING_HEIGHT;\n",
       "            config.divHeight = Math.max(config.numLayers * config.thumbnailHeight + axisSize, config.detailHeight);\n",
       "\n",
       "            const vis = $(`#${config.rootDivId} #vis`)\n",
       "            vis.empty();\n",
       "            vis.attr(\"height\", config.divHeight);\n",
       "            config.svg = d3.select(`#${config.rootDivId} #vis`)\n",
       "                .append('svg')\n",
       "                .attr(\"width\", DIV_WIDTH)\n",
       "                .attr(\"height\", config.divHeight)\n",
       "                .attr(\"fill\", getBackgroundColor());\n",
       "\n",
       "            renderAxisLabels();\n",
       "\n",
       "            var i;\n",
       "            var j;\n",
       "            for (i = 0; i < config.numLayers; i++) {\n",
       "                for (j = 0; j < config.numHeads; j++) {\n",
       "                    renderThumbnail(i, j);\n",
       "                }\n",
       "            }\n",
       "        }\n",
       "\n",
       "        function renderAxisLabels() {\n",
       "            const axisSize = HEADING_TEXT_SIZE + HEADING_PADDING + TEXT_SIZE + TEXT_PADDING;\n",
       "            const tableWidth = config.thumbnailWidth * config.heads.length;\n",
       "            config.svg.append(\"text\")\n",
       "                .text(\"Heads\")\n",
       "                .attr(\"fill\", \"black\")\n",
       "                .attr(\"font-weight\", \"bold\")\n",
       "                .attr(\"font-size\", HEADING_TEXT_SIZE + \"px\")\n",
       "                .attr(\"x\", axisSize + tableWidth / 2)\n",
       "                .attr(\"text-anchor\", \"middle\")\n",
       "                .attr(\"y\", 0)\n",
       "                .attr(\"dy\", HEADING_TEXT_SIZE);\n",
       "            for (let i = 0; i < config.numHeads; i++) {\n",
       "                config.svg.append(\"text\")\n",
       "                    .text(config.heads[i])\n",
       "                    .attr(\"fill\", \"black\")\n",
       "                    .attr(\"font-size\", TEXT_SIZE + \"px\")\n",
       "                    .attr(\"x\", axisSize + (i + .5) * config.thumbnailWidth)\n",
       "                    .attr(\"text-anchor\", \"middle\")\n",
       "                    .attr(\"y\", HEADING_TEXT_SIZE + HEADING_PADDING)\n",
       "                    .attr(\"dy\", TEXT_SIZE);\n",
       "            }\n",
       "            let x = 0;\n",
       "            let y = axisSize + config.thumbnailHeight * config.layers.length / 2;\n",
       "            console.log(\"x\", x, y)\n",
       "            config.svg.append(\"text\")\n",
       "                .text(\"Layers\")\n",
       "                .attr(\"fill\", \"black\")\n",
       "                .attr(\"font-weight\", \"bold\")\n",
       "                .attr(\"transform\", \"rotate(270, \" + x  + \", \" + y + \")\")\n",
       "                .attr(\"font-size\", HEADING_TEXT_SIZE + \"px\")\n",
       "                .attr(\"x\", x)\n",
       "                .attr(\"text-anchor\", \"middle\")\n",
       "                .attr(\"y\", y)\n",
       "                .attr(\"dy\", HEADING_TEXT_SIZE);\n",
       "            for (let i = 0; i < config.numLayers; i++) {\n",
       "                x = HEADING_TEXT_SIZE + HEADING_PADDING + TEXT_SIZE; // HACK\n",
       "                y = axisSize + (i + .5) * config.thumbnailHeight;\n",
       "                config.svg.append(\"text\")\n",
       "                    .text(config.layers[i])\n",
       "                    .attr(\"fill\", \"black\")\n",
       "                    .attr(\"font-size\", TEXT_SIZE + \"px\")\n",
       "                    .attr(\"x\", x)\n",
       "                    .attr(\"text-anchor\", \"end\")\n",
       "                    .attr(\"y\", y)\n",
       "                    .attr(\"dy\", TEXT_SIZE / 2);\n",
       "            }\n",
       "        }\n",
       "\n",
       "\n",
       "        function renderThumbnail(layerIndex, headIndex) {\n",
       "            const axisSize = HEADING_TEXT_SIZE + HEADING_PADDING + TEXT_SIZE + TEXT_PADDING\n",
       "            const x = headIndex * config.thumbnailWidth + axisSize;\n",
       "            const y = layerIndex * config.thumbnailHeight + axisSize;\n",
       "            renderThumbnailAttn(x, y, config.attn[layerIndex][headIndex], layerIndex, headIndex);\n",
       "        }\n",
       "\n",
       "        function renderDetail(att, layerIndex, headIndex) {\n",
       "            const axisSize = TEXT_SIZE + HEADING_PADDING + TEXT_SIZE + TEXT_PADDING;\n",
       "            var xOffset = .8 * config.thumbnailWidth;\n",
       "            var maxX = DIV_WIDTH;\n",
       "            var maxY = config.divHeight - 3;\n",
       "            var leftPos = axisSize + headIndex * config.thumbnailWidth;\n",
       "            var x = leftPos + THUMBNAIL_PADDING + xOffset;\n",
       "            if (x < MIN_X) {\n",
       "                x = MIN_X;\n",
       "            } else if (x + DETAIL_WIDTH > maxX) {\n",
       "                x = leftPos + THUMBNAIL_PADDING - DETAIL_WIDTH + 8;\n",
       "            }\n",
       "            var posLeftText = x;\n",
       "            var posAttention = posLeftText + DETAIL_BOX_WIDTH;\n",
       "            var posRightText = posAttention + DETAIL_ATTENTION_WIDTH;\n",
       "            var thumbnailHeight = Math.max(config.leftText.length, config.rightText.length) * config.thumbnailBoxHeight + 2 * THUMBNAIL_PADDING;\n",
       "            var yOffset = 20;\n",
       "            var y = layerIndex * thumbnailHeight + THUMBNAIL_PADDING + yOffset;\n",
       "            if (y < MIN_Y) {\n",
       "                y = MIN_Y;\n",
       "            } else if (y + config.detailHeight > maxY) {\n",
       "                y = maxY - config.detailHeight;\n",
       "            }\n",
       "            renderDetailFrame(x, y, layerIndex);\n",
       "            y = y + DETAIL_PADDING;\n",
       "            renderDetailHeading(x, y, layerIndex, headIndex);\n",
       "            y = y + DETAIL_HEADING_HEIGHT;\n",
       "            renderDetailText(config.leftText, \"leftText\", posLeftText, y , layerIndex);\n",
       "            renderDetailAttn(posAttention, y, att, layerIndex, headIndex);\n",
       "            renderDetailText(config.rightText, \"rightText\", posRightText, y, layerIndex);\n",
       "        }\n",
       "\n",
       "        function renderDetailHeading(x, y, layerIndex, headIndex) {\n",
       "            var fillColor = getTextColor();\n",
       "            config.svg.append(\"text\")\n",
       "                .classed(\"detail\", true)\n",
       "                .text('Layer ' + config.layers[layerIndex] + \", Head \" + config.heads[headIndex])\n",
       "                .attr(\"font-size\", TEXT_SIZE + \"px\")\n",
       "                .attr(\"font-weight\", \"bold\")\n",
       "                .style(\"cursor\", \"default\")\n",
       "                .style(\"-webkit-user-select\", \"none\")\n",
       "                .attr(\"fill\", fillColor)\n",
       "                .attr(\"x\", x + DETAIL_WIDTH / 2)\n",
       "                .attr(\"text-anchor\", \"middle\")\n",
       "                .attr(\"y\", y)\n",
       "                .attr(\"height\", DETAIL_HEADING_HEIGHT)\n",
       "                .attr(\"width\", DETAIL_WIDTH)\n",
       "                .attr(\"dy\", HEADING_TEXT_SIZE);\n",
       "        }\n",
       "\n",
       "        function renderDetailText(text, id, x, y, layerIndex) {\n",
       "            var tokenContainer = config.svg.append(\"svg:g\")\n",
       "                .classed(\"detail\", true)\n",
       "                .selectAll(\"g\")\n",
       "                .data(text)\n",
       "                .enter()\n",
       "                .append(\"g\");\n",
       "\n",
       "            var fillColor = getTextColor();\n",
       "\n",
       "            tokenContainer.append(\"rect\")\n",
       "                .classed(\"highlight\", true)\n",
       "                .attr(\"fill\", fillColor)\n",
       "                .style(\"opacity\", 0.0)\n",
       "                .attr(\"height\", DETAIL_BOX_HEIGHT)\n",
       "                .attr(\"width\", DETAIL_BOX_WIDTH)\n",
       "                .attr(\"x\", x)\n",
       "                .attr(\"y\", function (d, i) {\n",
       "                    return y + i * DETAIL_BOX_HEIGHT;\n",
       "                });\n",
       "\n",
       "            var textContainer = tokenContainer.append(\"text\")\n",
       "                .classed(\"token\", true)\n",
       "                .text(function (d) {\n",
       "                    return d;\n",
       "                })\n",
       "                .attr(\"font-size\", TEXT_SIZE + \"px\")\n",
       "                .style(\"cursor\", \"default\")\n",
       "                .style(\"-webkit-user-select\", \"none\")\n",
       "                .attr(\"fill\", fillColor)\n",
       "                .attr(\"x\", x)\n",
       "                .attr(\"y\", function (d, i) {\n",
       "                    return i * DETAIL_BOX_HEIGHT + y;\n",
       "                })\n",
       "                .attr(\"height\", DETAIL_BOX_HEIGHT)\n",
       "                .attr(\"width\", DETAIL_BOX_WIDTH)\n",
       "                .attr(\"dy\", TEXT_SIZE);\n",
       "\n",
       "            if (id == \"leftText\") {\n",
       "                textContainer.style(\"text-anchor\", \"end\")\n",
       "                    .attr(\"dx\", DETAIL_BOX_WIDTH - 2);\n",
       "                tokenContainer.on(\"mouseover\", function (d, index) {\n",
       "                    highlightSelection(index);\n",
       "                });\n",
       "                tokenContainer.on(\"mouseleave\", function () {\n",
       "                    unhighlightSelection();\n",
       "                });\n",
       "            }\n",
       "        }\n",
       "\n",
       "        function highlightSelection(index) {\n",
       "            config.svg.select(\"#leftText\")\n",
       "                .selectAll(\".highlight\")\n",
       "                .style(\"opacity\", function (d, i) {\n",
       "                    return i == index ? 1.0 : 0.0;\n",
       "                });\n",
       "            config.svg.selectAll(\".attn-line-group\")\n",
       "                .style(\"opacity\", function (d, i) {\n",
       "                    return i == index ? 1.0 : 0.0;\n",
       "                });\n",
       "        }\n",
       "\n",
       "        function unhighlightSelection() {\n",
       "            config.svg.select(\"#leftText\")\n",
       "                .selectAll(\".highlight\")\n",
       "                .style(\"opacity\", 0.0);\n",
       "            config.svg.selectAll(\".attn-line-group\")\n",
       "                .style(\"opacity\", 1);\n",
       "        }\n",
       "\n",
       "        function renderThumbnailAttn(x, y, att, layerIndex, headIndex) {\n",
       "\n",
       "            var attnContainer = config.svg.append(\"svg:g\");\n",
       "\n",
       "            var attnBackground = attnContainer.append(\"rect\")\n",
       "                .attr(\"id\", 'attn_background_' + layerIndex + \"_\" + headIndex)\n",
       "                .classed(\"attn_background\", true)\n",
       "                .attr(\"x\", x)\n",
       "                .attr(\"y\", y)\n",
       "                .attr(\"height\", config.thumbnailHeight)\n",
       "                .attr(\"width\", config.thumbnailWidth)\n",
       "                .attr(\"stroke-width\", 2)\n",
       "                .attr(\"stroke\", getLayerColor(layerIndex))\n",
       "                .attr(\"stroke-opacity\", 0)\n",
       "                .attr(\"fill\", getBackgroundColor());\n",
       "            var x1 = x + THUMBNAIL_PADDING;\n",
       "            var x2 = x1 + config.thumbnailWidth - 14;\n",
       "            var y1 = y + THUMBNAIL_PADDING;\n",
       "\n",
       "            attnContainer.selectAll(\"g\")\n",
       "                .data(att)\n",
       "                .enter()\n",
       "                .append(\"g\") // Add group for each source token\n",
       "                .attr(\"source-index\", function (d, i) { // Save index of source token\n",
       "                    return i;\n",
       "                })\n",
       "                .selectAll(\"line\")\n",
       "                .data(function (d) { // Loop over all target tokens\n",
       "                    return d;\n",
       "                })\n",
       "                .enter() // When entering\n",
       "                .append(\"line\")\n",
       "                .attr(\"x1\", x1)\n",
       "                .attr(\"y1\", function (d) {\n",
       "                    var sourceIndex = +this.parentNode.getAttribute(\"source-index\");\n",
       "                    return y1 + (sourceIndex + .5) * config.thumbnailBoxHeight;\n",
       "                })\n",
       "                .attr(\"x2\", x2)\n",
       "                .attr(\"y2\", function (d, targetIndex) {\n",
       "                    return y1 + (targetIndex + .5) * config.thumbnailBoxHeight;\n",
       "                })\n",
       "                .attr(\"stroke-width\", 2.2)\n",
       "                .attr(\"stroke\", getLayerColor(layerIndex))\n",
       "                .attr(\"stroke-opacity\", function (d) {\n",
       "                    return d;\n",
       "                });\n",
       "\n",
       "            var clickRegion = attnContainer.append(\"rect\")\n",
       "                .attr(\"x\", x)\n",
       "                .attr(\"y\", y)\n",
       "                .attr(\"height\", config.thumbnailHeight)\n",
       "                .attr(\"width\", config.thumbnailWidth)\n",
       "                .style(\"opacity\", 0);\n",
       "\n",
       "            clickRegion.on(\"click\", function (d, index) {\n",
       "                var attnBackgroundOther = config.svg.selectAll(\".attn_background\");\n",
       "                attnBackgroundOther.attr(\"fill\", getBackgroundColor());\n",
       "                attnBackgroundOther.attr(\"stroke-opacity\", 0);\n",
       "\n",
       "                config.svg.selectAll(\".detail\").remove();\n",
       "                if (config.detail_layer != layerIndex || config.detail_head != headIndex) {\n",
       "                    renderDetail(att, layerIndex, headIndex);\n",
       "                    config.detail_layer = layerIndex;\n",
       "                    config.detail_head = headIndex;\n",
       "                    attnBackground.attr(\"fill\", getHighlightColor());\n",
       "                    attnBackground.attr(\"stroke-opacity\", .8);\n",
       "                } else {\n",
       "                    config.detail_layer = null;\n",
       "                    config.detail_head = null;\n",
       "                    attnBackground.attr(\"fill\", getBackgroundColor());\n",
       "                    attnBackground.attr(\"stroke-opacity\", 0);\n",
       "                }\n",
       "            });\n",
       "\n",
       "            clickRegion.on(\"mouseover\", function (d) {\n",
       "                d3.select(this).style(\"cursor\", \"pointer\");\n",
       "            });\n",
       "        }\n",
       "\n",
       "        function renderDetailFrame(x, y, layerIndex) {\n",
       "            var detailFrame = config.svg.append(\"rect\")\n",
       "                .classed(\"detail\", true)\n",
       "                .attr(\"x\", x)\n",
       "                .attr(\"y\", y)\n",
       "                .attr(\"height\", config.detailHeight)\n",
       "                .attr(\"width\", DETAIL_WIDTH)\n",
       "                .style(\"opacity\", 1)\n",
       "                .attr(\"stroke-width\", 1.5)\n",
       "                .attr(\"stroke-opacity\", 0.7)\n",
       "                .attr(\"stroke\", getLayerColor(layerIndex));\n",
       "        }\n",
       "\n",
       "        function renderDetailAttn(x, y, att, layerIndex) {\n",
       "            var attnContainer = config.svg.append(\"svg:g\")\n",
       "                .classed(\"detail\", true)\n",
       "                .attr(\"pointer-events\", \"none\");\n",
       "            attnContainer.selectAll(\"g\")\n",
       "                .data(att)\n",
       "                .enter()\n",
       "                .append(\"g\") // Add group for each source token\n",
       "                .classed('attn-line-group', true)\n",
       "                .attr(\"source-index\", function (d, i) { // Save index of source token\n",
       "                    return i;\n",
       "                })\n",
       "                .selectAll(\"line\")\n",
       "                .data(function (d) { // Loop over all target tokens\n",
       "                    return d;\n",
       "                })\n",
       "                .enter()\n",
       "                .append(\"line\")\n",
       "                .attr(\"x1\", x + ATTN_PADDING)\n",
       "                .attr(\"y1\", function (d) {\n",
       "                    var sourceIndex = +this.parentNode.getAttribute(\"source-index\");\n",
       "                    return y + (sourceIndex + .5) * DETAIL_BOX_HEIGHT;\n",
       "                })\n",
       "                .attr(\"x2\", x + DETAIL_ATTENTION_WIDTH - ATTN_PADDING)\n",
       "                .attr(\"y2\", function (d, targetIndex) {\n",
       "                    return y + (targetIndex + .5) * DETAIL_BOX_HEIGHT;\n",
       "                })\n",
       "                .attr(\"stroke-width\", 2.2)\n",
       "                .attr(\"stroke\", getLayerColor(layerIndex))\n",
       "                .attr(\"stroke-opacity\", function (d) {\n",
       "                    return d;\n",
       "                });\n",
       "        }\n",
       "\n",
       "        function getLayerColor(layer) {\n",
       "          return LAYER_COLORS[config.layers[layer] % 10];\n",
       "        }\n",
       "\n",
       "        function getTextColor() {\n",
       "            return PALETTE[config.mode]['text']\n",
       "        }\n",
       "\n",
       "        function getBackgroundColor() {\n",
       "           return PALETTE[config.mode]['background']\n",
       "        }\n",
       "\n",
       "        function getHighlightColor() {\n",
       "           return PALETTE[config.mode]['highlight']\n",
       "        }\n",
       "\n",
       "        function initialize() {\n",
       "            config.attention = params['attention'];\n",
       "            config.filter = params['default_filter'];\n",
       "            config.mode = params['display_mode'];\n",
       "            config.layers = params['include_layers']\n",
       "            config.heads = params['include_heads']\n",
       "            config.totalHeads = params['total_heads']\n",
       "            config.rootDivId = params['root_div_id'];\n",
       "            $(`#${config.rootDivId} #filter`).on('change', function (e) {\n",
       "                config.filter = e.currentTarget.value;\n",
       "                render();\n",
       "            });\n",
       "        }\n",
       "\n",
       "        initialize();\n",
       "        render();\n",
       "\n",
       "    });"
      ],
      "text/plain": [
       "<IPython.core.display.Javascript object>"
      ]
     },
     "metadata": {},
     "output_type": "display_data"
    }
   ],
   "source": [
    "from transformers import AutoTokenizer, AutoModel, utils\n",
    "from bertviz import model_view\n",
    "utils.logging.set_verbosity_error()  # Suppress standard warnings\n",
    "\n",
    "model_name = \"textattack/bert-base-uncased-yelp-polarity\"  # Find popular HuggingFace models here: https://huggingface.co/models\n",
    "input_text = \"The cat sat on the mat\"  \n",
    "model = AutoModel.from_pretrained(model_name, output_attentions=True)  # Configure model to return attention values\n",
    "tokenizer = AutoTokenizer.from_pretrained(model_name)\n",
    "inputs = tokenizer.encode(input_text, return_tensors='pt')  # Tokenize input text\n",
    "outputs = model(inputs)  # Run model\n",
    "attention = outputs[-1]  # Retrieve attention from model outputs\n",
    "tokens = tokenizer.convert_ids_to_tokens(inputs[0])  # Convert input ids to token strings\n",
    "model_view(attention, tokens)  # Display model view"
   ]
  },
  {
   "cell_type": "markdown",
   "metadata": {
    "id": "ulYMqZJpliGU"
   },
   "source": [
    "# Task 4\n",
    "Please describe your team's implementation of this project, including your personal contribution, in 1000-1500 characters. Each team member must explain the main aspects of the team's implementation, and may not discuss this summary with other students. You are allowed to use figures and tables to clarify. This summary constitutes a separately and individually graded piece of work.\n",
    "\n",
    "## Theory Question 2\n",
    "Moreover, in your own words, describe how the attention mechanism in a transformer works in the case of self-attention and cross-attention, identifying in each case the keys, queries, and values. Give two examples of alignment models and describe how they affect the output using a simple example. This part of the written report can be done in collaboration with your group."
   ]
  },
  {
   "cell_type": "code",
   "execution_count": null,
   "metadata": {
    "id": "ET2MUz_5gdsx"
   },
   "outputs": [],
   "source": []
  },
  {
   "cell_type": "code",
   "execution_count": null,
   "metadata": {
    "id": "BsgNEGNmliGU"
   },
   "outputs": [],
   "source": []
  }
 ],
 "metadata": {
  "colab": {
   "name": "project_1_transformers.ipynb",
   "provenance": []
  },
  "kernelspec": {
   "display_name": "Python 3",
   "language": "python",
   "name": "python3"
  },
  "language_info": {
   "codemirror_mode": {
    "name": "ipython",
    "version": 3
   },
   "file_extension": ".py",
   "mimetype": "text/x-python",
   "name": "python",
   "nbconvert_exporter": "python",
   "pygments_lexer": "ipython3",
   "version": "3.8.5"
  },
  "widgets": {
   "application/vnd.jupyter.widget-state+json": {
    "06dae62671b946699cd2d0138ce0d3f7": {
     "model_module": "@jupyter-widgets/controls",
     "model_module_version": "1.5.0",
     "model_name": "ProgressStyleModel",
     "state": {
      "_model_module": "@jupyter-widgets/controls",
      "_model_module_version": "1.5.0",
      "_model_name": "ProgressStyleModel",
      "_view_count": null,
      "_view_module": "@jupyter-widgets/base",
      "_view_module_version": "1.2.0",
      "_view_name": "StyleView",
      "bar_color": null,
      "description_width": ""
     }
    },
    "0700ac28f3974e11a65512d4c74b741d": {
     "model_module": "@jupyter-widgets/controls",
     "model_module_version": "1.5.0",
     "model_name": "HBoxModel",
     "state": {
      "_dom_classes": [],
      "_model_module": "@jupyter-widgets/controls",
      "_model_module_version": "1.5.0",
      "_model_name": "HBoxModel",
      "_view_count": null,
      "_view_module": "@jupyter-widgets/controls",
      "_view_module_version": "1.5.0",
      "_view_name": "HBoxView",
      "box_style": "",
      "children": [
       "IPY_MODEL_11c1dff3287347b9b31c438fe906e406",
       "IPY_MODEL_0fa955ca47d344f2948dc9b8c8064430",
       "IPY_MODEL_36c736ca88804bbca0783d8ed85f0c3c"
      ],
      "layout": "IPY_MODEL_c17c2d5a028043a6888f30b1908fc966"
     }
    },
    "0c14f87453f04ca8b0248e5b393ac127": {
     "model_module": "@jupyter-widgets/base",
     "model_module_version": "1.2.0",
     "model_name": "LayoutModel",
     "state": {
      "_model_module": "@jupyter-widgets/base",
      "_model_module_version": "1.2.0",
      "_model_name": "LayoutModel",
      "_view_count": null,
      "_view_module": "@jupyter-widgets/base",
      "_view_module_version": "1.2.0",
      "_view_name": "LayoutView",
      "align_content": null,
      "align_items": null,
      "align_self": null,
      "border": null,
      "bottom": null,
      "display": null,
      "flex": null,
      "flex_flow": null,
      "grid_area": null,
      "grid_auto_columns": null,
      "grid_auto_flow": null,
      "grid_auto_rows": null,
      "grid_column": null,
      "grid_gap": null,
      "grid_row": null,
      "grid_template_areas": null,
      "grid_template_columns": null,
      "grid_template_rows": null,
      "height": null,
      "justify_content": null,
      "justify_items": null,
      "left": null,
      "margin": null,
      "max_height": null,
      "max_width": null,
      "min_height": null,
      "min_width": null,
      "object_fit": null,
      "object_position": null,
      "order": null,
      "overflow": null,
      "overflow_x": null,
      "overflow_y": null,
      "padding": null,
      "right": null,
      "top": null,
      "visibility": null,
      "width": null
     }
    },
    "0d0f97ccf0b74cea94969833c2df1231": {
     "model_module": "@jupyter-widgets/controls",
     "model_module_version": "1.5.0",
     "model_name": "FloatProgressModel",
     "state": {
      "_dom_classes": [],
      "_model_module": "@jupyter-widgets/controls",
      "_model_module_version": "1.5.0",
      "_model_name": "FloatProgressModel",
      "_view_count": null,
      "_view_module": "@jupyter-widgets/controls",
      "_view_module_version": "1.5.0",
      "_view_name": "ProgressView",
      "bar_style": "success",
      "description": "",
      "description_tooltip": null,
      "layout": "IPY_MODEL_0c14f87453f04ca8b0248e5b393ac127",
      "max": 560,
      "min": 0,
      "orientation": "horizontal",
      "style": "IPY_MODEL_06dae62671b946699cd2d0138ce0d3f7",
      "value": 560
     }
    },
    "0fa955ca47d344f2948dc9b8c8064430": {
     "model_module": "@jupyter-widgets/controls",
     "model_module_version": "1.5.0",
     "model_name": "FloatProgressModel",
     "state": {
      "_dom_classes": [],
      "_model_module": "@jupyter-widgets/controls",
      "_model_module_version": "1.5.0",
      "_model_name": "FloatProgressModel",
      "_view_count": null,
      "_view_module": "@jupyter-widgets/controls",
      "_view_module_version": "1.5.0",
      "_view_name": "ProgressView",
      "bar_style": "success",
      "description": "",
      "description_tooltip": null,
      "layout": "IPY_MODEL_56cc1ebd31744d5bb6701334fb8fbe0b",
      "max": 38,
      "min": 0,
      "orientation": "horizontal",
      "style": "IPY_MODEL_58d1978b6a314c48b4d8401457bb12fb",
      "value": 38
     }
    },
    "1170c648aaf94e0ba82e0edc33527e8c": {
     "model_module": "@jupyter-widgets/base",
     "model_module_version": "1.2.0",
     "model_name": "LayoutModel",
     "state": {
      "_model_module": "@jupyter-widgets/base",
      "_model_module_version": "1.2.0",
      "_model_name": "LayoutModel",
      "_view_count": null,
      "_view_module": "@jupyter-widgets/base",
      "_view_module_version": "1.2.0",
      "_view_name": "LayoutView",
      "align_content": null,
      "align_items": null,
      "align_self": null,
      "border": null,
      "bottom": null,
      "display": null,
      "flex": null,
      "flex_flow": null,
      "grid_area": null,
      "grid_auto_columns": null,
      "grid_auto_flow": null,
      "grid_auto_rows": null,
      "grid_column": null,
      "grid_gap": null,
      "grid_row": null,
      "grid_template_areas": null,
      "grid_template_columns": null,
      "grid_template_rows": null,
      "height": null,
      "justify_content": null,
      "justify_items": null,
      "left": null,
      "margin": null,
      "max_height": null,
      "max_width": null,
      "min_height": null,
      "min_width": null,
      "object_fit": null,
      "object_position": null,
      "order": null,
      "overflow": null,
      "overflow_x": null,
      "overflow_y": null,
      "padding": null,
      "right": null,
      "top": null,
      "visibility": null,
      "width": null
     }
    },
    "11c1dff3287347b9b31c438fe906e406": {
     "model_module": "@jupyter-widgets/controls",
     "model_module_version": "1.5.0",
     "model_name": "HTMLModel",
     "state": {
      "_dom_classes": [],
      "_model_module": "@jupyter-widgets/controls",
      "_model_module_version": "1.5.0",
      "_model_name": "HTMLModel",
      "_view_count": null,
      "_view_module": "@jupyter-widgets/controls",
      "_view_module_version": "1.5.0",
      "_view_name": "HTMLView",
      "description": "",
      "description_tooltip": null,
      "layout": "IPY_MODEL_28d02a5ba1f84e0db93bbd6659f71d1a",
      "placeholder": "​",
      "style": "IPY_MODEL_dd154a5f4d0349788dd1ab3e6571749d",
      "value": "100%"
     }
    },
    "154482ed66df40ef8ef4cc43711c5f48": {
     "model_module": "@jupyter-widgets/controls",
     "model_module_version": "1.5.0",
     "model_name": "FloatProgressModel",
     "state": {
      "_dom_classes": [],
      "_model_module": "@jupyter-widgets/controls",
      "_model_module_version": "1.5.0",
      "_model_name": "FloatProgressModel",
      "_view_count": null,
      "_view_module": "@jupyter-widgets/controls",
      "_view_module_version": "1.5.0",
      "_view_name": "ProgressView",
      "bar_style": "success",
      "description": "",
      "description_tooltip": null,
      "layout": "IPY_MODEL_87b3ec81552e496da3f8758e8e6628be",
      "max": 1411,
      "min": 0,
      "orientation": "horizontal",
      "style": "IPY_MODEL_8f140e78828e4d41a63ef5881592323b",
      "value": 1411
     }
    },
    "1ea849dff31c49959756615eef9ffa1b": {
     "model_module": "@jupyter-widgets/base",
     "model_module_version": "1.2.0",
     "model_name": "LayoutModel",
     "state": {
      "_model_module": "@jupyter-widgets/base",
      "_model_module_version": "1.2.0",
      "_model_name": "LayoutModel",
      "_view_count": null,
      "_view_module": "@jupyter-widgets/base",
      "_view_module_version": "1.2.0",
      "_view_name": "LayoutView",
      "align_content": null,
      "align_items": null,
      "align_self": null,
      "border": null,
      "bottom": null,
      "display": null,
      "flex": null,
      "flex_flow": null,
      "grid_area": null,
      "grid_auto_columns": null,
      "grid_auto_flow": null,
      "grid_auto_rows": null,
      "grid_column": null,
      "grid_gap": null,
      "grid_row": null,
      "grid_template_areas": null,
      "grid_template_columns": null,
      "grid_template_rows": null,
      "height": null,
      "justify_content": null,
      "justify_items": null,
      "left": null,
      "margin": null,
      "max_height": null,
      "max_width": null,
      "min_height": null,
      "min_width": null,
      "object_fit": null,
      "object_position": null,
      "order": null,
      "overflow": null,
      "overflow_x": null,
      "overflow_y": null,
      "padding": null,
      "right": null,
      "top": null,
      "visibility": null,
      "width": null
     }
    },
    "28d02a5ba1f84e0db93bbd6659f71d1a": {
     "model_module": "@jupyter-widgets/base",
     "model_module_version": "1.2.0",
     "model_name": "LayoutModel",
     "state": {
      "_model_module": "@jupyter-widgets/base",
      "_model_module_version": "1.2.0",
      "_model_name": "LayoutModel",
      "_view_count": null,
      "_view_module": "@jupyter-widgets/base",
      "_view_module_version": "1.2.0",
      "_view_name": "LayoutView",
      "align_content": null,
      "align_items": null,
      "align_self": null,
      "border": null,
      "bottom": null,
      "display": null,
      "flex": null,
      "flex_flow": null,
      "grid_area": null,
      "grid_auto_columns": null,
      "grid_auto_flow": null,
      "grid_auto_rows": null,
      "grid_column": null,
      "grid_gap": null,
      "grid_row": null,
      "grid_template_areas": null,
      "grid_template_columns": null,
      "grid_template_rows": null,
      "height": null,
      "justify_content": null,
      "justify_items": null,
      "left": null,
      "margin": null,
      "max_height": null,
      "max_width": null,
      "min_height": null,
      "min_width": null,
      "object_fit": null,
      "object_position": null,
      "order": null,
      "overflow": null,
      "overflow_x": null,
      "overflow_y": null,
      "padding": null,
      "right": null,
      "top": null,
      "visibility": null,
      "width": null
     }
    },
    "2dea9993f95e433c88cd23da56abb3fd": {
     "model_module": "@jupyter-widgets/base",
     "model_module_version": "1.2.0",
     "model_name": "LayoutModel",
     "state": {
      "_model_module": "@jupyter-widgets/base",
      "_model_module_version": "1.2.0",
      "_model_name": "LayoutModel",
      "_view_count": null,
      "_view_module": "@jupyter-widgets/base",
      "_view_module_version": "1.2.0",
      "_view_name": "LayoutView",
      "align_content": null,
      "align_items": null,
      "align_self": null,
      "border": null,
      "bottom": null,
      "display": null,
      "flex": null,
      "flex_flow": null,
      "grid_area": null,
      "grid_auto_columns": null,
      "grid_auto_flow": null,
      "grid_auto_rows": null,
      "grid_column": null,
      "grid_gap": null,
      "grid_row": null,
      "grid_template_areas": null,
      "grid_template_columns": null,
      "grid_template_rows": null,
      "height": null,
      "justify_content": null,
      "justify_items": null,
      "left": null,
      "margin": null,
      "max_height": null,
      "max_width": null,
      "min_height": null,
      "min_width": null,
      "object_fit": null,
      "object_position": null,
      "order": null,
      "overflow": null,
      "overflow_x": null,
      "overflow_y": null,
      "padding": null,
      "right": null,
      "top": null,
      "visibility": null,
      "width": null
     }
    },
    "3236d81a0a7f46b99c6679fa38f05c95": {
     "model_module": "@jupyter-widgets/controls",
     "model_module_version": "1.5.0",
     "model_name": "FloatProgressModel",
     "state": {
      "_dom_classes": [],
      "_model_module": "@jupyter-widgets/controls",
      "_model_module_version": "1.5.0",
      "_model_name": "FloatProgressModel",
      "_view_count": null,
      "_view_module": "@jupyter-widgets/controls",
      "_view_module_version": "1.5.0",
      "_view_name": "ProgressView",
      "bar_style": "success",
      "description": "",
      "description_tooltip": null,
      "layout": "IPY_MODEL_4a0673472df34ff0a6b9a8e7742a051c",
      "max": 2,
      "min": 0,
      "orientation": "horizontal",
      "style": "IPY_MODEL_be905f2a0d12454aae8747ccbbcb5e84",
      "value": 2
     }
    },
    "36c736ca88804bbca0783d8ed85f0c3c": {
     "model_module": "@jupyter-widgets/controls",
     "model_module_version": "1.5.0",
     "model_name": "HTMLModel",
     "state": {
      "_dom_classes": [],
      "_model_module": "@jupyter-widgets/controls",
      "_model_module_version": "1.5.0",
      "_model_name": "HTMLModel",
      "_view_count": null,
      "_view_module": "@jupyter-widgets/controls",
      "_view_module_version": "1.5.0",
      "_view_name": "HTMLView",
      "description": "",
      "description_tooltip": null,
      "layout": "IPY_MODEL_472546b9949946f097a07b54047dc8ea",
      "placeholder": "​",
      "style": "IPY_MODEL_eabfd2ab30c94aa58a07743bd4daff5e",
      "value": " 38/38 [00:20&lt;00:00,  1.86ba/s]"
     }
    },
    "37af4bb880024f40a568c4eb4be8d071": {
     "model_module": "@jupyter-widgets/controls",
     "model_module_version": "1.5.0",
     "model_name": "HBoxModel",
     "state": {
      "_dom_classes": [],
      "_model_module": "@jupyter-widgets/controls",
      "_model_module_version": "1.5.0",
      "_model_name": "HBoxModel",
      "_view_count": null,
      "_view_module": "@jupyter-widgets/controls",
      "_view_module_version": "1.5.0",
      "_view_name": "HBoxView",
      "box_style": "",
      "children": [
       "IPY_MODEL_ce12ac09b7854548b5b3057b359c9319",
       "IPY_MODEL_0d0f97ccf0b74cea94969833c2df1231",
       "IPY_MODEL_e972a2b507484028ba8110e80bbdc4cc"
      ],
      "layout": "IPY_MODEL_1ea849dff31c49959756615eef9ffa1b"
     }
    },
    "37eb6d8510804b3b85fdd8eac3e3572d": {
     "model_module": "@jupyter-widgets/base",
     "model_module_version": "1.2.0",
     "model_name": "LayoutModel",
     "state": {
      "_model_module": "@jupyter-widgets/base",
      "_model_module_version": "1.2.0",
      "_model_name": "LayoutModel",
      "_view_count": null,
      "_view_module": "@jupyter-widgets/base",
      "_view_module_version": "1.2.0",
      "_view_name": "LayoutView",
      "align_content": null,
      "align_items": null,
      "align_self": null,
      "border": null,
      "bottom": null,
      "display": null,
      "flex": null,
      "flex_flow": null,
      "grid_area": null,
      "grid_auto_columns": null,
      "grid_auto_flow": null,
      "grid_auto_rows": null,
      "grid_column": null,
      "grid_gap": null,
      "grid_row": null,
      "grid_template_areas": null,
      "grid_template_columns": null,
      "grid_template_rows": null,
      "height": null,
      "justify_content": null,
      "justify_items": null,
      "left": null,
      "margin": null,
      "max_height": null,
      "max_width": null,
      "min_height": null,
      "min_width": null,
      "object_fit": null,
      "object_position": null,
      "order": null,
      "overflow": null,
      "overflow_x": null,
      "overflow_y": null,
      "padding": null,
      "right": null,
      "top": null,
      "visibility": null,
      "width": null
     }
    },
    "384e3a7c95c647458d19a7892544253c": {
     "model_module": "@jupyter-widgets/controls",
     "model_module_version": "1.5.0",
     "model_name": "DescriptionStyleModel",
     "state": {
      "_model_module": "@jupyter-widgets/controls",
      "_model_module_version": "1.5.0",
      "_model_name": "DescriptionStyleModel",
      "_view_count": null,
      "_view_module": "@jupyter-widgets/base",
      "_view_module_version": "1.2.0",
      "_view_name": "StyleView",
      "description_width": ""
     }
    },
    "44c3e73ed37d4dd2ab40d0365ba96ccc": {
     "model_module": "@jupyter-widgets/base",
     "model_module_version": "1.2.0",
     "model_name": "LayoutModel",
     "state": {
      "_model_module": "@jupyter-widgets/base",
      "_model_module_version": "1.2.0",
      "_model_name": "LayoutModel",
      "_view_count": null,
      "_view_module": "@jupyter-widgets/base",
      "_view_module_version": "1.2.0",
      "_view_name": "LayoutView",
      "align_content": null,
      "align_items": null,
      "align_self": null,
      "border": null,
      "bottom": null,
      "display": null,
      "flex": null,
      "flex_flow": null,
      "grid_area": null,
      "grid_auto_columns": null,
      "grid_auto_flow": null,
      "grid_auto_rows": null,
      "grid_column": null,
      "grid_gap": null,
      "grid_row": null,
      "grid_template_areas": null,
      "grid_template_columns": null,
      "grid_template_rows": null,
      "height": null,
      "justify_content": null,
      "justify_items": null,
      "left": null,
      "margin": null,
      "max_height": null,
      "max_width": null,
      "min_height": null,
      "min_width": null,
      "object_fit": null,
      "object_position": null,
      "order": null,
      "overflow": null,
      "overflow_x": null,
      "overflow_y": null,
      "padding": null,
      "right": null,
      "top": null,
      "visibility": null,
      "width": null
     }
    },
    "4554c080b6a045a498882ee1b9c3c0d5": {
     "model_module": "@jupyter-widgets/base",
     "model_module_version": "1.2.0",
     "model_name": "LayoutModel",
     "state": {
      "_model_module": "@jupyter-widgets/base",
      "_model_module_version": "1.2.0",
      "_model_name": "LayoutModel",
      "_view_count": null,
      "_view_module": "@jupyter-widgets/base",
      "_view_module_version": "1.2.0",
      "_view_name": "LayoutView",
      "align_content": null,
      "align_items": null,
      "align_self": null,
      "border": null,
      "bottom": null,
      "display": null,
      "flex": null,
      "flex_flow": null,
      "grid_area": null,
      "grid_auto_columns": null,
      "grid_auto_flow": null,
      "grid_auto_rows": null,
      "grid_column": null,
      "grid_gap": null,
      "grid_row": null,
      "grid_template_areas": null,
      "grid_template_columns": null,
      "grid_template_rows": null,
      "height": null,
      "justify_content": null,
      "justify_items": null,
      "left": null,
      "margin": null,
      "max_height": null,
      "max_width": null,
      "min_height": null,
      "min_width": null,
      "object_fit": null,
      "object_position": null,
      "order": null,
      "overflow": null,
      "overflow_x": null,
      "overflow_y": null,
      "padding": null,
      "right": null,
      "top": null,
      "visibility": null,
      "width": null
     }
    },
    "46d4ce4159954ba9b2ce3c5a83da063b": {
     "model_module": "@jupyter-widgets/base",
     "model_module_version": "1.2.0",
     "model_name": "LayoutModel",
     "state": {
      "_model_module": "@jupyter-widgets/base",
      "_model_module_version": "1.2.0",
      "_model_name": "LayoutModel",
      "_view_count": null,
      "_view_module": "@jupyter-widgets/base",
      "_view_module_version": "1.2.0",
      "_view_name": "LayoutView",
      "align_content": null,
      "align_items": null,
      "align_self": null,
      "border": null,
      "bottom": null,
      "display": null,
      "flex": null,
      "flex_flow": null,
      "grid_area": null,
      "grid_auto_columns": null,
      "grid_auto_flow": null,
      "grid_auto_rows": null,
      "grid_column": null,
      "grid_gap": null,
      "grid_row": null,
      "grid_template_areas": null,
      "grid_template_columns": null,
      "grid_template_rows": null,
      "height": null,
      "justify_content": null,
      "justify_items": null,
      "left": null,
      "margin": null,
      "max_height": null,
      "max_width": null,
      "min_height": null,
      "min_width": null,
      "object_fit": null,
      "object_position": null,
      "order": null,
      "overflow": null,
      "overflow_x": null,
      "overflow_y": null,
      "padding": null,
      "right": null,
      "top": null,
      "visibility": null,
      "width": null
     }
    },
    "472546b9949946f097a07b54047dc8ea": {
     "model_module": "@jupyter-widgets/base",
     "model_module_version": "1.2.0",
     "model_name": "LayoutModel",
     "state": {
      "_model_module": "@jupyter-widgets/base",
      "_model_module_version": "1.2.0",
      "_model_name": "LayoutModel",
      "_view_count": null,
      "_view_module": "@jupyter-widgets/base",
      "_view_module_version": "1.2.0",
      "_view_name": "LayoutView",
      "align_content": null,
      "align_items": null,
      "align_self": null,
      "border": null,
      "bottom": null,
      "display": null,
      "flex": null,
      "flex_flow": null,
      "grid_area": null,
      "grid_auto_columns": null,
      "grid_auto_flow": null,
      "grid_auto_rows": null,
      "grid_column": null,
      "grid_gap": null,
      "grid_row": null,
      "grid_template_areas": null,
      "grid_template_columns": null,
      "grid_template_rows": null,
      "height": null,
      "justify_content": null,
      "justify_items": null,
      "left": null,
      "margin": null,
      "max_height": null,
      "max_width": null,
      "min_height": null,
      "min_width": null,
      "object_fit": null,
      "object_position": null,
      "order": null,
      "overflow": null,
      "overflow_x": null,
      "overflow_y": null,
      "padding": null,
      "right": null,
      "top": null,
      "visibility": null,
      "width": null
     }
    },
    "4a0673472df34ff0a6b9a8e7742a051c": {
     "model_module": "@jupyter-widgets/base",
     "model_module_version": "1.2.0",
     "model_name": "LayoutModel",
     "state": {
      "_model_module": "@jupyter-widgets/base",
      "_model_module_version": "1.2.0",
      "_model_name": "LayoutModel",
      "_view_count": null,
      "_view_module": "@jupyter-widgets/base",
      "_view_module_version": "1.2.0",
      "_view_name": "LayoutView",
      "align_content": null,
      "align_items": null,
      "align_self": null,
      "border": null,
      "bottom": null,
      "display": null,
      "flex": null,
      "flex_flow": null,
      "grid_area": null,
      "grid_auto_columns": null,
      "grid_auto_flow": null,
      "grid_auto_rows": null,
      "grid_column": null,
      "grid_gap": null,
      "grid_row": null,
      "grid_template_areas": null,
      "grid_template_columns": null,
      "grid_template_rows": null,
      "height": null,
      "justify_content": null,
      "justify_items": null,
      "left": null,
      "margin": null,
      "max_height": null,
      "max_width": null,
      "min_height": null,
      "min_width": null,
      "object_fit": null,
      "object_position": null,
      "order": null,
      "overflow": null,
      "overflow_x": null,
      "overflow_y": null,
      "padding": null,
      "right": null,
      "top": null,
      "visibility": null,
      "width": null
     }
    },
    "51947584165f4584a310aba3db04c557": {
     "model_module": "@jupyter-widgets/controls",
     "model_module_version": "1.5.0",
     "model_name": "HTMLModel",
     "state": {
      "_dom_classes": [],
      "_model_module": "@jupyter-widgets/controls",
      "_model_module_version": "1.5.0",
      "_model_name": "HTMLModel",
      "_view_count": null,
      "_view_module": "@jupyter-widgets/controls",
      "_view_module_version": "1.5.0",
      "_view_name": "HTMLView",
      "description": "",
      "description_tooltip": null,
      "layout": "IPY_MODEL_4554c080b6a045a498882ee1b9c3c0d5",
      "placeholder": "​",
      "style": "IPY_MODEL_f25e538f0fd94580942fd09f8a92c716",
      "value": " 5.27k/? [00:00&lt;00:00, 146kB/s]"
     }
    },
    "56cc1ebd31744d5bb6701334fb8fbe0b": {
     "model_module": "@jupyter-widgets/base",
     "model_module_version": "1.2.0",
     "model_name": "LayoutModel",
     "state": {
      "_model_module": "@jupyter-widgets/base",
      "_model_module_version": "1.2.0",
      "_model_name": "LayoutModel",
      "_view_count": null,
      "_view_module": "@jupyter-widgets/base",
      "_view_module_version": "1.2.0",
      "_view_name": "LayoutView",
      "align_content": null,
      "align_items": null,
      "align_self": null,
      "border": null,
      "bottom": null,
      "display": null,
      "flex": null,
      "flex_flow": null,
      "grid_area": null,
      "grid_auto_columns": null,
      "grid_auto_flow": null,
      "grid_auto_rows": null,
      "grid_column": null,
      "grid_gap": null,
      "grid_row": null,
      "grid_template_areas": null,
      "grid_template_columns": null,
      "grid_template_rows": null,
      "height": null,
      "justify_content": null,
      "justify_items": null,
      "left": null,
      "margin": null,
      "max_height": null,
      "max_width": null,
      "min_height": null,
      "min_width": null,
      "object_fit": null,
      "object_position": null,
      "order": null,
      "overflow": null,
      "overflow_x": null,
      "overflow_y": null,
      "padding": null,
      "right": null,
      "top": null,
      "visibility": null,
      "width": null
     }
    },
    "58d1978b6a314c48b4d8401457bb12fb": {
     "model_module": "@jupyter-widgets/controls",
     "model_module_version": "1.5.0",
     "model_name": "ProgressStyleModel",
     "state": {
      "_model_module": "@jupyter-widgets/controls",
      "_model_module_version": "1.5.0",
      "_model_name": "ProgressStyleModel",
      "_view_count": null,
      "_view_module": "@jupyter-widgets/base",
      "_view_module_version": "1.2.0",
      "_view_name": "StyleView",
      "bar_color": null,
      "description_width": ""
     }
    },
    "69e51e291ac64a159c28029acec6ddf2": {
     "model_module": "@jupyter-widgets/base",
     "model_module_version": "1.2.0",
     "model_name": "LayoutModel",
     "state": {
      "_model_module": "@jupyter-widgets/base",
      "_model_module_version": "1.2.0",
      "_model_name": "LayoutModel",
      "_view_count": null,
      "_view_module": "@jupyter-widgets/base",
      "_view_module_version": "1.2.0",
      "_view_name": "LayoutView",
      "align_content": null,
      "align_items": null,
      "align_self": null,
      "border": null,
      "bottom": null,
      "display": null,
      "flex": null,
      "flex_flow": null,
      "grid_area": null,
      "grid_auto_columns": null,
      "grid_auto_flow": null,
      "grid_auto_rows": null,
      "grid_column": null,
      "grid_gap": null,
      "grid_row": null,
      "grid_template_areas": null,
      "grid_template_columns": null,
      "grid_template_rows": null,
      "height": null,
      "justify_content": null,
      "justify_items": null,
      "left": null,
      "margin": null,
      "max_height": null,
      "max_width": null,
      "min_height": null,
      "min_width": null,
      "object_fit": null,
      "object_position": null,
      "order": null,
      "overflow": null,
      "overflow_x": null,
      "overflow_y": null,
      "padding": null,
      "right": null,
      "top": null,
      "visibility": null,
      "width": null
     }
    },
    "74066b37dfdd4bc197eedf2ef4fbb31c": {
     "model_module": "@jupyter-widgets/controls",
     "model_module_version": "1.5.0",
     "model_name": "DescriptionStyleModel",
     "state": {
      "_model_module": "@jupyter-widgets/controls",
      "_model_module_version": "1.5.0",
      "_model_name": "DescriptionStyleModel",
      "_view_count": null,
      "_view_module": "@jupyter-widgets/base",
      "_view_module_version": "1.2.0",
      "_view_name": "StyleView",
      "description_width": ""
     }
    },
    "75a849fa919f40a1ac66e631b3f1f667": {
     "model_module": "@jupyter-widgets/base",
     "model_module_version": "1.2.0",
     "model_name": "LayoutModel",
     "state": {
      "_model_module": "@jupyter-widgets/base",
      "_model_module_version": "1.2.0",
      "_model_name": "LayoutModel",
      "_view_count": null,
      "_view_module": "@jupyter-widgets/base",
      "_view_module_version": "1.2.0",
      "_view_name": "LayoutView",
      "align_content": null,
      "align_items": null,
      "align_self": null,
      "border": null,
      "bottom": null,
      "display": null,
      "flex": null,
      "flex_flow": null,
      "grid_area": null,
      "grid_auto_columns": null,
      "grid_auto_flow": null,
      "grid_auto_rows": null,
      "grid_column": null,
      "grid_gap": null,
      "grid_row": null,
      "grid_template_areas": null,
      "grid_template_columns": null,
      "grid_template_rows": null,
      "height": null,
      "justify_content": null,
      "justify_items": null,
      "left": null,
      "margin": null,
      "max_height": null,
      "max_width": null,
      "min_height": null,
      "min_width": null,
      "object_fit": null,
      "object_position": null,
      "order": null,
      "overflow": null,
      "overflow_x": null,
      "overflow_y": null,
      "padding": null,
      "right": null,
      "top": null,
      "visibility": null,
      "width": null
     }
    },
    "77b5375b507047d6bf4f0968caaf3a9c": {
     "model_module": "@jupyter-widgets/controls",
     "model_module_version": "1.5.0",
     "model_name": "HBoxModel",
     "state": {
      "_dom_classes": [],
      "_model_module": "@jupyter-widgets/controls",
      "_model_module_version": "1.5.0",
      "_model_name": "HBoxModel",
      "_view_count": null,
      "_view_module": "@jupyter-widgets/controls",
      "_view_module_version": "1.5.0",
      "_view_name": "HBoxView",
      "box_style": "",
      "children": [
       "IPY_MODEL_a74b36b5ae044c21804977413f2fae68",
       "IPY_MODEL_b7a8839ad40844559949b338e554f376",
       "IPY_MODEL_51947584165f4584a310aba3db04c557"
      ],
      "layout": "IPY_MODEL_b41e23e4c0264cb2b51661978c44062a"
     }
    },
    "7d24f46f0d8f4f2ea2bdcd62c55a098c": {
     "model_module": "@jupyter-widgets/base",
     "model_module_version": "1.2.0",
     "model_name": "LayoutModel",
     "state": {
      "_model_module": "@jupyter-widgets/base",
      "_model_module_version": "1.2.0",
      "_model_name": "LayoutModel",
      "_view_count": null,
      "_view_module": "@jupyter-widgets/base",
      "_view_module_version": "1.2.0",
      "_view_name": "LayoutView",
      "align_content": null,
      "align_items": null,
      "align_self": null,
      "border": null,
      "bottom": null,
      "display": null,
      "flex": null,
      "flex_flow": null,
      "grid_area": null,
      "grid_auto_columns": null,
      "grid_auto_flow": null,
      "grid_auto_rows": null,
      "grid_column": null,
      "grid_gap": null,
      "grid_row": null,
      "grid_template_areas": null,
      "grid_template_columns": null,
      "grid_template_rows": null,
      "height": null,
      "justify_content": null,
      "justify_items": null,
      "left": null,
      "margin": null,
      "max_height": null,
      "max_width": null,
      "min_height": null,
      "min_width": null,
      "object_fit": null,
      "object_position": null,
      "order": null,
      "overflow": null,
      "overflow_x": null,
      "overflow_y": null,
      "padding": null,
      "right": null,
      "top": null,
      "visibility": null,
      "width": null
     }
    },
    "87596bd7da014a31af2ac5a43e4ce208": {
     "model_module": "@jupyter-widgets/controls",
     "model_module_version": "1.5.0",
     "model_name": "DescriptionStyleModel",
     "state": {
      "_model_module": "@jupyter-widgets/controls",
      "_model_module_version": "1.5.0",
      "_model_name": "DescriptionStyleModel",
      "_view_count": null,
      "_view_module": "@jupyter-widgets/base",
      "_view_module_version": "1.2.0",
      "_view_name": "StyleView",
      "description_width": ""
     }
    },
    "87b3ec81552e496da3f8758e8e6628be": {
     "model_module": "@jupyter-widgets/base",
     "model_module_version": "1.2.0",
     "model_name": "LayoutModel",
     "state": {
      "_model_module": "@jupyter-widgets/base",
      "_model_module_version": "1.2.0",
      "_model_name": "LayoutModel",
      "_view_count": null,
      "_view_module": "@jupyter-widgets/base",
      "_view_module_version": "1.2.0",
      "_view_name": "LayoutView",
      "align_content": null,
      "align_items": null,
      "align_self": null,
      "border": null,
      "bottom": null,
      "display": null,
      "flex": null,
      "flex_flow": null,
      "grid_area": null,
      "grid_auto_columns": null,
      "grid_auto_flow": null,
      "grid_auto_rows": null,
      "grid_column": null,
      "grid_gap": null,
      "grid_row": null,
      "grid_template_areas": null,
      "grid_template_columns": null,
      "grid_template_rows": null,
      "height": null,
      "justify_content": null,
      "justify_items": null,
      "left": null,
      "margin": null,
      "max_height": null,
      "max_width": null,
      "min_height": null,
      "min_width": null,
      "object_fit": null,
      "object_position": null,
      "order": null,
      "overflow": null,
      "overflow_x": null,
      "overflow_y": null,
      "padding": null,
      "right": null,
      "top": null,
      "visibility": null,
      "width": null
     }
    },
    "8dedbb64babc4c1aa8a594668aba4469": {
     "model_module": "@jupyter-widgets/controls",
     "model_module_version": "1.5.0",
     "model_name": "HTMLModel",
     "state": {
      "_dom_classes": [],
      "_model_module": "@jupyter-widgets/controls",
      "_model_module_version": "1.5.0",
      "_model_name": "HTMLModel",
      "_view_count": null,
      "_view_module": "@jupyter-widgets/controls",
      "_view_module_version": "1.5.0",
      "_view_name": "HTMLView",
      "description": "",
      "description_tooltip": null,
      "layout": "IPY_MODEL_b7fcad7c2c414f0181d974368acf875a",
      "placeholder": "​",
      "style": "IPY_MODEL_74066b37dfdd4bc197eedf2ef4fbb31c",
      "value": " 3.19k/? [00:00&lt;00:00, 59.8kB/s]"
     }
    },
    "8e5fd821a2714ec9a7b710465720ba49": {
     "model_module": "@jupyter-widgets/controls",
     "model_module_version": "1.5.0",
     "model_name": "DescriptionStyleModel",
     "state": {
      "_model_module": "@jupyter-widgets/controls",
      "_model_module_version": "1.5.0",
      "_model_name": "DescriptionStyleModel",
      "_view_count": null,
      "_view_module": "@jupyter-widgets/base",
      "_view_module_version": "1.2.0",
      "_view_name": "StyleView",
      "description_width": ""
     }
    },
    "8f140e78828e4d41a63ef5881592323b": {
     "model_module": "@jupyter-widgets/controls",
     "model_module_version": "1.5.0",
     "model_name": "ProgressStyleModel",
     "state": {
      "_model_module": "@jupyter-widgets/controls",
      "_model_module_version": "1.5.0",
      "_model_name": "ProgressStyleModel",
      "_view_count": null,
      "_view_module": "@jupyter-widgets/base",
      "_view_module_version": "1.2.0",
      "_view_name": "StyleView",
      "bar_color": null,
      "description_width": ""
     }
    },
    "9c1972a1f9c64d36aee8997e3055c3da": {
     "model_module": "@jupyter-widgets/base",
     "model_module_version": "1.2.0",
     "model_name": "LayoutModel",
     "state": {
      "_model_module": "@jupyter-widgets/base",
      "_model_module_version": "1.2.0",
      "_model_name": "LayoutModel",
      "_view_count": null,
      "_view_module": "@jupyter-widgets/base",
      "_view_module_version": "1.2.0",
      "_view_name": "LayoutView",
      "align_content": null,
      "align_items": null,
      "align_self": null,
      "border": null,
      "bottom": null,
      "display": null,
      "flex": null,
      "flex_flow": null,
      "grid_area": null,
      "grid_auto_columns": null,
      "grid_auto_flow": null,
      "grid_auto_rows": null,
      "grid_column": null,
      "grid_gap": null,
      "grid_row": null,
      "grid_template_areas": null,
      "grid_template_columns": null,
      "grid_template_rows": null,
      "height": null,
      "justify_content": null,
      "justify_items": null,
      "left": null,
      "margin": null,
      "max_height": null,
      "max_width": null,
      "min_height": null,
      "min_width": null,
      "object_fit": null,
      "object_position": null,
      "order": null,
      "overflow": null,
      "overflow_x": null,
      "overflow_y": null,
      "padding": null,
      "right": null,
      "top": null,
      "visibility": null,
      "width": null
     }
    },
    "a21cd815ab4d432e8bcc8bc8b01f2f75": {
     "model_module": "@jupyter-widgets/controls",
     "model_module_version": "1.5.0",
     "model_name": "DescriptionStyleModel",
     "state": {
      "_model_module": "@jupyter-widgets/controls",
      "_model_module_version": "1.5.0",
      "_model_name": "DescriptionStyleModel",
      "_view_count": null,
      "_view_module": "@jupyter-widgets/base",
      "_view_module_version": "1.2.0",
      "_view_name": "StyleView",
      "description_width": ""
     }
    },
    "a74b36b5ae044c21804977413f2fae68": {
     "model_module": "@jupyter-widgets/controls",
     "model_module_version": "1.5.0",
     "model_name": "HTMLModel",
     "state": {
      "_dom_classes": [],
      "_model_module": "@jupyter-widgets/controls",
      "_model_module_version": "1.5.0",
      "_model_name": "HTMLModel",
      "_view_count": null,
      "_view_module": "@jupyter-widgets/controls",
      "_view_module_version": "1.5.0",
      "_view_name": "HTMLView",
      "description": "",
      "description_tooltip": null,
      "layout": "IPY_MODEL_69e51e291ac64a159c28029acec6ddf2",
      "placeholder": "​",
      "style": "IPY_MODEL_87596bd7da014a31af2ac5a43e4ce208",
      "value": "Downloading: "
     }
    },
    "a9a9fec7243941adaa1c2bc0aec24e28": {
     "model_module": "@jupyter-widgets/controls",
     "model_module_version": "1.5.0",
     "model_name": "HTMLModel",
     "state": {
      "_dom_classes": [],
      "_model_module": "@jupyter-widgets/controls",
      "_model_module_version": "1.5.0",
      "_model_name": "HTMLModel",
      "_view_count": null,
      "_view_module": "@jupyter-widgets/controls",
      "_view_module_version": "1.5.0",
      "_view_name": "HTMLView",
      "description": "",
      "description_tooltip": null,
      "layout": "IPY_MODEL_7d24f46f0d8f4f2ea2bdcd62c55a098c",
      "placeholder": "​",
      "style": "IPY_MODEL_aa11c05ce6274f21a8e0c4cd78596169",
      "value": " 2/2 [00:00&lt;00:00, 25.23it/s]"
     }
    },
    "aa11c05ce6274f21a8e0c4cd78596169": {
     "model_module": "@jupyter-widgets/controls",
     "model_module_version": "1.5.0",
     "model_name": "DescriptionStyleModel",
     "state": {
      "_model_module": "@jupyter-widgets/controls",
      "_model_module_version": "1.5.0",
      "_model_name": "DescriptionStyleModel",
      "_view_count": null,
      "_view_module": "@jupyter-widgets/base",
      "_view_module_version": "1.2.0",
      "_view_name": "StyleView",
      "description_width": ""
     }
    },
    "b3a7d6a11ad448e684aee1902e1a8e4f": {
     "model_module": "@jupyter-widgets/controls",
     "model_module_version": "1.5.0",
     "model_name": "HTMLModel",
     "state": {
      "_dom_classes": [],
      "_model_module": "@jupyter-widgets/controls",
      "_model_module_version": "1.5.0",
      "_model_name": "HTMLModel",
      "_view_count": null,
      "_view_module": "@jupyter-widgets/controls",
      "_view_module_version": "1.5.0",
      "_view_name": "HTMLView",
      "description": "",
      "description_tooltip": null,
      "layout": "IPY_MODEL_75a849fa919f40a1ac66e631b3f1f667",
      "placeholder": "​",
      "style": "IPY_MODEL_f54625a88e074376887d3006063d9c78",
      "value": "100%"
     }
    },
    "b41e23e4c0264cb2b51661978c44062a": {
     "model_module": "@jupyter-widgets/base",
     "model_module_version": "1.2.0",
     "model_name": "LayoutModel",
     "state": {
      "_model_module": "@jupyter-widgets/base",
      "_model_module_version": "1.2.0",
      "_model_name": "LayoutModel",
      "_view_count": null,
      "_view_module": "@jupyter-widgets/base",
      "_view_module_version": "1.2.0",
      "_view_name": "LayoutView",
      "align_content": null,
      "align_items": null,
      "align_self": null,
      "border": null,
      "bottom": null,
      "display": null,
      "flex": null,
      "flex_flow": null,
      "grid_area": null,
      "grid_auto_columns": null,
      "grid_auto_flow": null,
      "grid_auto_rows": null,
      "grid_column": null,
      "grid_gap": null,
      "grid_row": null,
      "grid_template_areas": null,
      "grid_template_columns": null,
      "grid_template_rows": null,
      "height": null,
      "justify_content": null,
      "justify_items": null,
      "left": null,
      "margin": null,
      "max_height": null,
      "max_width": null,
      "min_height": null,
      "min_width": null,
      "object_fit": null,
      "object_position": null,
      "order": null,
      "overflow": null,
      "overflow_x": null,
      "overflow_y": null,
      "padding": null,
      "right": null,
      "top": null,
      "visibility": null,
      "width": null
     }
    },
    "b7a8839ad40844559949b338e554f376": {
     "model_module": "@jupyter-widgets/controls",
     "model_module_version": "1.5.0",
     "model_name": "FloatProgressModel",
     "state": {
      "_dom_classes": [],
      "_model_module": "@jupyter-widgets/controls",
      "_model_module_version": "1.5.0",
      "_model_name": "FloatProgressModel",
      "_view_count": null,
      "_view_module": "@jupyter-widgets/controls",
      "_view_module_version": "1.5.0",
      "_view_name": "ProgressView",
      "bar_style": "success",
      "description": "",
      "description_tooltip": null,
      "layout": "IPY_MODEL_9c1972a1f9c64d36aee8997e3055c3da",
      "max": 2059,
      "min": 0,
      "orientation": "horizontal",
      "style": "IPY_MODEL_e12eb3ea3dc3473da0f6035993c20227",
      "value": 2059
     }
    },
    "b7fcad7c2c414f0181d974368acf875a": {
     "model_module": "@jupyter-widgets/base",
     "model_module_version": "1.2.0",
     "model_name": "LayoutModel",
     "state": {
      "_model_module": "@jupyter-widgets/base",
      "_model_module_version": "1.2.0",
      "_model_name": "LayoutModel",
      "_view_count": null,
      "_view_module": "@jupyter-widgets/base",
      "_view_module_version": "1.2.0",
      "_view_name": "LayoutView",
      "align_content": null,
      "align_items": null,
      "align_self": null,
      "border": null,
      "bottom": null,
      "display": null,
      "flex": null,
      "flex_flow": null,
      "grid_area": null,
      "grid_auto_columns": null,
      "grid_auto_flow": null,
      "grid_auto_rows": null,
      "grid_column": null,
      "grid_gap": null,
      "grid_row": null,
      "grid_template_areas": null,
      "grid_template_columns": null,
      "grid_template_rows": null,
      "height": null,
      "justify_content": null,
      "justify_items": null,
      "left": null,
      "margin": null,
      "max_height": null,
      "max_width": null,
      "min_height": null,
      "min_width": null,
      "object_fit": null,
      "object_position": null,
      "order": null,
      "overflow": null,
      "overflow_x": null,
      "overflow_y": null,
      "padding": null,
      "right": null,
      "top": null,
      "visibility": null,
      "width": null
     }
    },
    "be905f2a0d12454aae8747ccbbcb5e84": {
     "model_module": "@jupyter-widgets/controls",
     "model_module_version": "1.5.0",
     "model_name": "ProgressStyleModel",
     "state": {
      "_model_module": "@jupyter-widgets/controls",
      "_model_module_version": "1.5.0",
      "_model_name": "ProgressStyleModel",
      "_view_count": null,
      "_view_module": "@jupyter-widgets/base",
      "_view_module_version": "1.2.0",
      "_view_name": "StyleView",
      "bar_color": null,
      "description_width": ""
     }
    },
    "c143bc8b098643f9be6b78615dff612d": {
     "model_module": "@jupyter-widgets/controls",
     "model_module_version": "1.5.0",
     "model_name": "HTMLModel",
     "state": {
      "_dom_classes": [],
      "_model_module": "@jupyter-widgets/controls",
      "_model_module_version": "1.5.0",
      "_model_name": "HTMLModel",
      "_view_count": null,
      "_view_module": "@jupyter-widgets/controls",
      "_view_module_version": "1.5.0",
      "_view_name": "HTMLView",
      "description": "",
      "description_tooltip": null,
      "layout": "IPY_MODEL_37eb6d8510804b3b85fdd8eac3e3572d",
      "placeholder": "​",
      "style": "IPY_MODEL_8e5fd821a2714ec9a7b710465720ba49",
      "value": "Downloading: "
     }
    },
    "c17c2d5a028043a6888f30b1908fc966": {
     "model_module": "@jupyter-widgets/base",
     "model_module_version": "1.2.0",
     "model_name": "LayoutModel",
     "state": {
      "_model_module": "@jupyter-widgets/base",
      "_model_module_version": "1.2.0",
      "_model_name": "LayoutModel",
      "_view_count": null,
      "_view_module": "@jupyter-widgets/base",
      "_view_module_version": "1.2.0",
      "_view_name": "LayoutView",
      "align_content": null,
      "align_items": null,
      "align_self": null,
      "border": null,
      "bottom": null,
      "display": null,
      "flex": null,
      "flex_flow": null,
      "grid_area": null,
      "grid_auto_columns": null,
      "grid_auto_flow": null,
      "grid_auto_rows": null,
      "grid_column": null,
      "grid_gap": null,
      "grid_row": null,
      "grid_template_areas": null,
      "grid_template_columns": null,
      "grid_template_rows": null,
      "height": null,
      "justify_content": null,
      "justify_items": null,
      "left": null,
      "margin": null,
      "max_height": null,
      "max_width": null,
      "min_height": null,
      "min_width": null,
      "object_fit": null,
      "object_position": null,
      "order": null,
      "overflow": null,
      "overflow_x": null,
      "overflow_y": null,
      "padding": null,
      "right": null,
      "top": null,
      "visibility": null,
      "width": null
     }
    },
    "ce12ac09b7854548b5b3057b359c9319": {
     "model_module": "@jupyter-widgets/controls",
     "model_module_version": "1.5.0",
     "model_name": "HTMLModel",
     "state": {
      "_dom_classes": [],
      "_model_module": "@jupyter-widgets/controls",
      "_model_module_version": "1.5.0",
      "_model_name": "HTMLModel",
      "_view_count": null,
      "_view_module": "@jupyter-widgets/controls",
      "_view_module_version": "1.5.0",
      "_view_name": "HTMLView",
      "description": "",
      "description_tooltip": null,
      "layout": "IPY_MODEL_44c3e73ed37d4dd2ab40d0365ba96ccc",
      "placeholder": "​",
      "style": "IPY_MODEL_a21cd815ab4d432e8bcc8bc8b01f2f75",
      "value": "100%"
     }
    },
    "dd154a5f4d0349788dd1ab3e6571749d": {
     "model_module": "@jupyter-widgets/controls",
     "model_module_version": "1.5.0",
     "model_name": "DescriptionStyleModel",
     "state": {
      "_model_module": "@jupyter-widgets/controls",
      "_model_module_version": "1.5.0",
      "_model_name": "DescriptionStyleModel",
      "_view_count": null,
      "_view_module": "@jupyter-widgets/base",
      "_view_module_version": "1.2.0",
      "_view_name": "StyleView",
      "description_width": ""
     }
    },
    "e12eb3ea3dc3473da0f6035993c20227": {
     "model_module": "@jupyter-widgets/controls",
     "model_module_version": "1.5.0",
     "model_name": "ProgressStyleModel",
     "state": {
      "_model_module": "@jupyter-widgets/controls",
      "_model_module_version": "1.5.0",
      "_model_name": "ProgressStyleModel",
      "_view_count": null,
      "_view_module": "@jupyter-widgets/base",
      "_view_module_version": "1.2.0",
      "_view_name": "StyleView",
      "bar_color": null,
      "description_width": ""
     }
    },
    "e972a2b507484028ba8110e80bbdc4cc": {
     "model_module": "@jupyter-widgets/controls",
     "model_module_version": "1.5.0",
     "model_name": "HTMLModel",
     "state": {
      "_dom_classes": [],
      "_model_module": "@jupyter-widgets/controls",
      "_model_module_version": "1.5.0",
      "_model_name": "HTMLModel",
      "_view_count": null,
      "_view_module": "@jupyter-widgets/controls",
      "_view_module_version": "1.5.0",
      "_view_name": "HTMLView",
      "description": "",
      "description_tooltip": null,
      "layout": "IPY_MODEL_2dea9993f95e433c88cd23da56abb3fd",
      "placeholder": "​",
      "style": "IPY_MODEL_384e3a7c95c647458d19a7892544253c",
      "value": " 560/560 [05:11&lt;00:00,  1.91ba/s]"
     }
    },
    "eabfd2ab30c94aa58a07743bd4daff5e": {
     "model_module": "@jupyter-widgets/controls",
     "model_module_version": "1.5.0",
     "model_name": "DescriptionStyleModel",
     "state": {
      "_model_module": "@jupyter-widgets/controls",
      "_model_module_version": "1.5.0",
      "_model_name": "DescriptionStyleModel",
      "_view_count": null,
      "_view_module": "@jupyter-widgets/base",
      "_view_module_version": "1.2.0",
      "_view_name": "StyleView",
      "description_width": ""
     }
    },
    "ec3eabc3a9134da289ba9ddae8450513": {
     "model_module": "@jupyter-widgets/controls",
     "model_module_version": "1.5.0",
     "model_name": "HBoxModel",
     "state": {
      "_dom_classes": [],
      "_model_module": "@jupyter-widgets/controls",
      "_model_module_version": "1.5.0",
      "_model_name": "HBoxModel",
      "_view_count": null,
      "_view_module": "@jupyter-widgets/controls",
      "_view_module_version": "1.5.0",
      "_view_name": "HBoxView",
      "box_style": "",
      "children": [
       "IPY_MODEL_c143bc8b098643f9be6b78615dff612d",
       "IPY_MODEL_154482ed66df40ef8ef4cc43711c5f48",
       "IPY_MODEL_8dedbb64babc4c1aa8a594668aba4469"
      ],
      "layout": "IPY_MODEL_1170c648aaf94e0ba82e0edc33527e8c"
     }
    },
    "f25e538f0fd94580942fd09f8a92c716": {
     "model_module": "@jupyter-widgets/controls",
     "model_module_version": "1.5.0",
     "model_name": "DescriptionStyleModel",
     "state": {
      "_model_module": "@jupyter-widgets/controls",
      "_model_module_version": "1.5.0",
      "_model_name": "DescriptionStyleModel",
      "_view_count": null,
      "_view_module": "@jupyter-widgets/base",
      "_view_module_version": "1.2.0",
      "_view_name": "StyleView",
      "description_width": ""
     }
    },
    "f54625a88e074376887d3006063d9c78": {
     "model_module": "@jupyter-widgets/controls",
     "model_module_version": "1.5.0",
     "model_name": "DescriptionStyleModel",
     "state": {
      "_model_module": "@jupyter-widgets/controls",
      "_model_module_version": "1.5.0",
      "_model_name": "DescriptionStyleModel",
      "_view_count": null,
      "_view_module": "@jupyter-widgets/base",
      "_view_module_version": "1.2.0",
      "_view_name": "StyleView",
      "description_width": ""
     }
    },
    "fff63b45f5a241fc965a9ca2e076df98": {
     "model_module": "@jupyter-widgets/controls",
     "model_module_version": "1.5.0",
     "model_name": "HBoxModel",
     "state": {
      "_dom_classes": [],
      "_model_module": "@jupyter-widgets/controls",
      "_model_module_version": "1.5.0",
      "_model_name": "HBoxModel",
      "_view_count": null,
      "_view_module": "@jupyter-widgets/controls",
      "_view_module_version": "1.5.0",
      "_view_name": "HBoxView",
      "box_style": "",
      "children": [
       "IPY_MODEL_b3a7d6a11ad448e684aee1902e1a8e4f",
       "IPY_MODEL_3236d81a0a7f46b99c6679fa38f05c95",
       "IPY_MODEL_a9a9fec7243941adaa1c2bc0aec24e28"
      ],
      "layout": "IPY_MODEL_46d4ce4159954ba9b2ce3c5a83da063b"
     }
    }
   }
  }
 },
 "nbformat": 4,
 "nbformat_minor": 1
}
