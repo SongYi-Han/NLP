{
 "cells": [
  {
   "cell_type": "markdown",
   "metadata": {
    "id": "86zA-HlTCBID"
   },
   "source": [
    "\n",
    "using Latent Dirichlet Allocation (LDA)  and Combined Topic Models (CTM).  \n",
    "## 1. Setup\n",
    "### 1.1 Dependencies\n",
    "Installing all dependencies needed to run the simulations"
   ]
  },
  {
   "cell_type": "code",
   "execution_count": null,
   "metadata": {
    "colab": {
     "base_uri": "https://localhost:8080/",
     "height": 1000
    },
    "id": "hENmFU8FmZbl",
    "outputId": "23887804-e6bc-460b-c40a-9890b200f89c"
   },
   "outputs": [],
   "source": [
    "!pip install contextualized-topic-models==2.2.0"
   ]
  },
  {
   "cell_type": "markdown",
   "metadata": {
    "id": "4vLndra3Nbqa"
   },
   "source": [
    "### 1.2 Imports"
   ]
  },
  {
   "cell_type": "code",
   "execution_count": null,
   "metadata": {
    "id": "Ci16zWWnlC1n"
   },
   "outputs": [],
   "source": [
    "import re\n",
    "import random\n",
    "import os\n",
    "import urllib\n",
    "import urllib.request\n",
    "import gzip\n",
    "import io\n",
    "import csv\n",
    "import random\n",
    "from collections import defaultdict\n",
    "from tqdm import tqdm\n",
    "from sklearn.decomposition import LatentDirichletAllocation\n",
    "from sklearn.feature_extraction.text import TfidfVectorizer, CountVectorizer"
   ]
  },
  {
   "cell_type": "markdown",
   "metadata": {
    "id": "qUHMJB4TR7rf"
   },
   "source": [
    "### 1.3 Google Drive\n",
    "We connect Google Drive in order to access stored data."
   ]
  },
  {
   "cell_type": "code",
   "execution_count": null,
   "metadata": {
    "colab": {
     "base_uri": "https://localhost:8080/"
    },
    "id": "dCpOpcUCsZQ2",
    "outputId": "97e7de89-73aa-4298-aad6-91fe29c2c9d7"
   },
   "outputs": [
    {
     "name": "stdout",
     "output_type": "stream",
     "text": [
      "Mounted at /content/drive/\n"
     ]
    }
   ],
   "source": [
    "# Enable access to files stored in Google Drive\n",
    "from google.colab import drive\n",
    "# Leave this like it is\n",
    "mountpoint = '/content/drive/' \n",
    "drive.mount(mountpoint)"
   ]
  },
  {
   "cell_type": "code",
   "execution_count": null,
   "metadata": {
    "colab": {
     "base_uri": "https://localhost:8080/"
    },
    "id": "DP0EqBjAwemg",
    "outputId": "364056aa-9f6a-494b-f8be-729673f59051"
   },
   "outputs": [
    {
     "name": "stdout",
     "output_type": "stream",
     "text": [
      "[Errno 2] No such file or directory: '/content/drive/My Drive/UZH_ML4NLP/Projects/Project-06/data'\n",
      "/content\n"
     ]
    }
   ],
   "source": [
    "# Adapt this path to the folder where your data is stored in google drive\n",
    "base_path = 'My Drive/UZH_ML4NLP/Projects/Project-06/data' \n",
    "data_path = os.path.join(mountpoint, base_path)\n",
    "# Cd into the directory with the git repo\n",
    "% cd $data_path"
   ]
  },
  {
   "cell_type": "markdown",
   "metadata": {
    "id": "2AiKDCyWSVE3"
   },
   "source": [
    "### 1.4 Constants\n"
   ]
  },
  {
   "cell_type": "code",
   "execution_count": null,
   "metadata": {
    "id": "m841xWt8SaiK"
   },
   "outputs": [],
   "source": [
    "NUM_LDA_TOPICS = 8 # The number of different topics to identify\n",
    "NUM_FEATURES = 10000\n",
    "MAX_DF=0.5\n",
    "MIN_DF=0.01"
   ]
  },
  {
   "cell_type": "code",
   "execution_count": null,
   "metadata": {
    "id": "Y_mkS_zeWbYW"
   },
   "outputs": [],
   "source": [
    "# Path to the data files\n",
    "path_before_1990 = 'titles_before_1990.txt'\n",
    "path_from_1990_to_2009 = 'titles_from_1990_to_2009.txt'\n",
    "path_from_2010 = 'titles_from_2010.txt'"
   ]
  },
  {
   "cell_type": "markdown",
   "metadata": {
    "id": "jdW1URDxY6V4"
   },
   "source": [
    "### 1.5 Data Acquisition"
   ]
  },
  {
   "cell_type": "code",
   "execution_count": null,
   "metadata": {
    "colab": {
     "base_uri": "https://localhost:8080/"
    },
    "id": "TUVy4jyGlVH3",
    "outputId": "aa9d2a04-a6d8-4e91-c70b-72fd53acf709"
   },
   "outputs": [
    {
     "name": "stdout",
     "output_type": "stream",
     "text": [
      "Mounted at /content/drive\n"
     ]
    },
    {
     "name": "stderr",
     "output_type": "stream",
     "text": [
      "13531631it [00:37, 356913.18it/s]\n"
     ]
    }
   ],
   "source": [
    "# Execute the following cell only once to download the data and write it as a file to your google drive. Afterwards, skip this cell or comment it out.\n",
    "\n",
    "from google.colab import drive\n",
    "drive.mount('/content/drive', force_remount=True)\n",
    "\n",
    "# to download the data manually or get more information, go to: https://dblp.org/faq/How+can+I+download+the+whole+dblp+dataset.html\n",
    "url = 'https://dblp.uni-trier.de/xml/dblp.xml.gz'\n",
    "num_titles = 500000  # the (max)number of titles to load \n",
    "\n",
    "\n",
    "def load_gzip_file(url):\n",
    "    \"\"\"Download Gzip-file.\"\"\"\n",
    "    response = urllib.request.urlopen(url)\n",
    "    compressed_file = io.BytesIO(response.read())\n",
    "    decompressed_file = gzip.GzipFile(fileobj=compressed_file)\n",
    "    return decompressed_file\n",
    "\n",
    "def extract_titles(input_file, max_num=40000):\n",
    "    \"\"\"Extract title and publication year of dblp papers, given as input file.\n",
    "    \n",
    "    Divide the papers into 3 time periods. \n",
    "    \n",
    "    Collect max max_num papers per time period.\n",
    "    \"\"\"\n",
    "    pairs_before_1990 = []\n",
    "    count_before_1990 = 0\n",
    "    pairs_from_1990_to_2009 = []\n",
    "    count_from_1990_to_2009 = 0\n",
    "    pairs_from_2010 = []\n",
    "    count_from_2010 = 0\n",
    "    got_title = False\n",
    "    for line in tqdm(input_file):\n",
    "        line_str = line.decode('utf-8')\n",
    "        if got_title: \n",
    "            # we have a title and check for the corresponding year\n",
    "            year_result = re.search(r'<year>(.*)</year>', line_str)\n",
    "            if year_result:\n",
    "                # we also have the year and thus save the title-year pair\n",
    "                year = int(year_result.group(1))\n",
    "                if year < 1990:\n",
    "                    pairs_before_1990.append((title, year))\n",
    "                    count_before_1990 += 1\n",
    "                elif year < 2010:\n",
    "                    pairs_from_1990_to_2009.append((title, year))\n",
    "                    count_from_1990_to_2009 += 1\n",
    "                else:\n",
    "                    pairs_from_2010.append((title, year))\n",
    "                    count_from_2010 += 1\n",
    "                got_title = False\n",
    "        else:\n",
    "            # we have no title and search for title\n",
    "            result = re.search(r'<title>(.*)</title>', line_str)\n",
    "            if result:\n",
    "                title = result.group(1)\n",
    "                if len(title.split(' ')) < 3:  \n",
    "                    # only include titles with at least four words\n",
    "                    continue\n",
    "                got_title = True\n",
    "        \n",
    "        if count_before_1990 >= max_num and count_from_1990_to_2009 >= max_num and count_from_2010 >= max_num:\n",
    "            return pairs_before_1990, pairs_from_1990_to_2009, pairs_from_2010\n",
    "    \n",
    "    return pairs_before_1990, pairs_from_1990_to_2009, pairs_from_2010\n",
    "\n",
    "def save_data(pairs, file_path):\n",
    "    with open(file_path, 'w') as fout:\n",
    "        writer = csv.writer(fout)\n",
    "        for pair in pairs:\n",
    "            writer.writerow(pair)\n",
    "\n",
    "in_file = load_gzip_file(url)\n",
    "pairs_before_1990, pairs_from_1990_to_2009, pairs_from_2010 = extract_titles(in_file)\n",
    "save_data(pairs_before_1990, path_before_1990)\n",
    "save_data(pairs_from_1990_to_2009, path_from_1990_to_2009)\n",
    "save_data(pairs_from_2010, path_from_2010)\n"
   ]
  },
  {
   "cell_type": "markdown",
   "metadata": {
    "id": "rDhEoD2Tsh3z"
   },
   "source": [
    "## 2. Topic Modeling\n",
    "### 2.1 Using Latent Dirichlet Allocation (LDA)"
   ]
  },
  {
   "cell_type": "code",
   "execution_count": null,
   "metadata": {
    "id": "xA-jeLNbJsjt"
   },
   "outputs": [],
   "source": [
    "def load_titles(path):\n",
    "  with open(path) as fin:\n",
    "    reader = csv.reader(fin)\n",
    "    titles = [row[0] for row in reader]\n",
    "  return titles"
   ]
  },
  {
   "cell_type": "code",
   "execution_count": null,
   "metadata": {
    "id": "0vb_BI1xZ4kb"
   },
   "outputs": [],
   "source": [
    "# Simple text preprocessing by removing \n",
    "# all letters which are not in roman alphabet\n",
    "def preprocess_text(text):\n",
    "    text = re.sub(r'[^a-zA-Z ]', '', text)\n",
    "    #text = re.sub(r'\\b\\w{1,3}\\b', ' ', text)\n",
    "    #text = re.sub(' +', ' ', text)\n",
    "    text = text.lower()\n",
    "    return text"
   ]
  },
  {
   "cell_type": "code",
   "execution_count": null,
   "metadata": {
    "id": "7MSaGhKXepPG"
   },
   "outputs": [],
   "source": [
    "# Now we turn the documents (or titles in this case) into a matrix feature representation.\n",
    "def vectorize_data(titles, max_df=MAX_DF, min_df=MIN_DF, max_features=NUM_FEATURES):\n",
    "  tf_vectorizer = CountVectorizer(max_df=max_df, min_df=min_df, max_features=max_features, stop_words='english')\n",
    "  tf = tf_vectorizer.fit_transform(titles)\n",
    "  tf_feature_names = tf_vectorizer.get_feature_names_out()\n",
    "  return tf, tf_feature_names"
   ]
  },
  {
   "cell_type": "markdown",
   "metadata": {
    "id": "lc09sFDe-5kn"
   },
   "source": [
    "#### 2.1.1 - Before the 1990s:"
   ]
  },
  {
   "cell_type": "code",
   "execution_count": null,
   "metadata": {
    "colab": {
     "base_uri": "https://localhost:8080/"
    },
    "id": "-Rwq6kF7vqUj",
    "outputId": "d790a22d-31e2-45ad-93ed-dcbf02dd38cd"
   },
   "outputs": [
    {
     "name": "stdout",
     "output_type": "stream",
     "text": [
      "40000 titles before 1990\n"
     ]
    }
   ],
   "source": [
    "# Load the titles\n",
    "titles_before_1990 = load_titles(path_before_1990)\n",
    "print(\"{} titles before 1990\".format(len(titles_before_1990)))"
   ]
  },
  {
   "cell_type": "code",
   "execution_count": null,
   "metadata": {
    "colab": {
     "base_uri": "https://localhost:8080/"
    },
    "id": "AnXGcMlIKxBS",
    "outputId": "7b024b8c-49ee-4ae7-fec7-6b70067281a1"
   },
   "outputs": [
    {
     "data": {
      "text/plain": [
       "['Notes from the Vice Chairperson.',\n",
       " 'Implications of holography for information systems.',\n",
       " 'Designing Networks with Compact Routing Tables.',\n",
       " 'Clausal Intuitionistic Logic I - Fixed-Point Semantics.',\n",
       " 'Balanced extensions of graphs and hypergraphs.',\n",
       " 'Extraction of chemical reaction information from primary journal text using computational linguistics techniques. 1. Lexical and syntactic phases.',\n",
       " 'A Message in Cipher Written by General Cornwallis during the Revolutionary War.',\n",
       " 'Discriminant analysis with a stochastic supervisor.',\n",
       " 'R68-42 On Designing Generalized File Records for Management Information Systems.',\n",
       " 'Teachware development for education in CAD.']"
      ]
     },
     "execution_count": 12,
     "metadata": {},
     "output_type": "execute_result"
    }
   ],
   "source": [
    "# Show some random samples\n",
    "random.sample(titles_before_1990, 10)"
   ]
  },
  {
   "cell_type": "code",
   "execution_count": null,
   "metadata": {
    "id": "1mulG5Sg2NBZ"
   },
   "outputs": [],
   "source": [
    "preprocessed_titles_before_1990 = [preprocess_text(title) for title in titles_before_1990]"
   ]
  },
  {
   "cell_type": "code",
   "execution_count": null,
   "metadata": {
    "colab": {
     "base_uri": "https://localhost:8080/"
    },
    "id": "Fi6xnCvjd8uq",
    "outputId": "5849e046-a8d9-4621-fc59-46197c41727d"
   },
   "outputs": [
    {
     "data": {
      "text/plain": [
       "['electronic scanners with speech output  a communication system for the physically handicapped and mentally retarded',\n",
       " 'programmable industrial automation',\n",
       " 'precise scientific computation with a microprocessor',\n",
       " 'application of phasecontrast metallography in a production laboratory',\n",
       " 'd reconstruction of the blood vessels of the brain from a stereoscopic pair of subtraction angiograms',\n",
       " 'reviews and things cryptologic',\n",
       " 'note on the iei',\n",
       " 'goumldels proof and the liar paradox',\n",
       " 'determination of transient response of a drift transistor using the diffusion equation',\n",
       " 'mosaic models for imagesii geometric properties of components in coverage mosaics']"
      ]
     },
     "execution_count": 14,
     "metadata": {},
     "output_type": "execute_result"
    }
   ],
   "source": [
    "# Show some preprocessed samples\n",
    "random.sample(preprocessed_titles_before_1990, 10)"
   ]
  },
  {
   "cell_type": "code",
   "execution_count": null,
   "metadata": {
    "id": "nhgxgCM_01mx"
   },
   "outputs": [],
   "source": [
    "tf_01, tf_feature_names_01 = vectorize_data(preprocessed_titles_before_1990, max_df=0.95, min_df=0.01)"
   ]
  },
  {
   "cell_type": "code",
   "execution_count": null,
   "metadata": {
    "id": "_927CQlk4C27"
   },
   "outputs": [],
   "source": [
    "lda_01 = LatentDirichletAllocation(n_components=8, max_iter=10, learning_method='online', random_state=42).fit(tf_01)"
   ]
  },
  {
   "cell_type": "code",
   "execution_count": null,
   "metadata": {
    "colab": {
     "base_uri": "https://localhost:8080/"
    },
    "id": "5-8NinuI4kMG",
    "outputId": "714c4d5d-5600-4a9a-dbc0-e4fc52d5f664"
   },
   "outputs": [
    {
     "name": "stdout",
     "output_type": "stream",
     "text": [
      "Topic 0: theory problems algorithms simulation decision parallel application solution applications optimal digital control\n",
      "Topic 1: computer logic model programs digital performance design networks using applications systems simulation\n",
      "Topic 2: problem programming optimal language digital processing software research solution parallel linear control\n",
      "Topic 3: data method network models application languages solution processing problem using analysis programming\n",
      "Topic 4: note information linear functions applications finite technical programming systems time problem decision\n",
      "Topic 5: algorithm design analysis approach sets performance new using implementation parallel linear digital\n",
      "Topic 6: systems using parallel performance implementation decision distributed linear control digital design processing\n",
      "Topic 7: control networks new recognition distributed time pattern optimal systems approach digital linear\n"
     ]
    }
   ],
   "source": [
    "for topic_idx, topic in enumerate(lda_01.components_):\n",
    "    print(f'Topic {topic_idx}:', end=' ')\n",
    "    print(' '.join([tf_feature_names_01[i] for i in topic.argsort()[:-12 - 1:-1]]))"
   ]
  },
  {
   "cell_type": "markdown",
   "metadata": {
    "id": "mbx0DythfCkP"
   },
   "source": [
    "Topics:\n",
    "0. Graph/networks algorithms (seems to be mostly about algorithms that (maybe) operate on graphs/networks)\n",
    "1. pattern recognition (and maybe robotics)\n",
    "2. ..."
   ]
  },
  {
   "cell_type": "markdown",
   "metadata": {
    "id": "iqioi0rG_Dz9"
   },
   "source": [
    "#### 2.1.2 - From 1990 to 2009:"
   ]
  },
  {
   "cell_type": "code",
   "execution_count": null,
   "metadata": {
    "colab": {
     "base_uri": "https://localhost:8080/"
    },
    "id": "C7cOeXDqXQo5",
    "outputId": "575fd99d-606f-418f-f9ae-9571049d729b"
   },
   "outputs": [
    {
     "name": "stdout",
     "output_type": "stream",
     "text": [
      "327307 titles from 1990 to 2009\n"
     ]
    }
   ],
   "source": [
    "titles_from_1990_to_2009 = load_titles(path_from_1990_to_2009)\n",
    "print(\"{} titles from 1990 to 2009\".format(len(titles_from_1990_to_2009)))"
   ]
  },
  {
   "cell_type": "code",
   "execution_count": null,
   "metadata": {
    "colab": {
     "base_uri": "https://localhost:8080/"
    },
    "id": "n-67SE1cXXd9",
    "outputId": "6097e95f-f106-472e-96c4-09311983701e"
   },
   "outputs": [
    {
     "data": {
      "text/plain": [
       "['Reinventing Academic Publishing Online. Part I: Rigor, Relevance and Practice.',\n",
       " 'A fuzzy-logic architecture for autonomous multisensor data fusion.',\n",
       " '3-D finite element analysis of induction logging in a dipping formation mark.',\n",
       " 'SVM-based feature selection of latent semantic features.',\n",
       " 'An extensive comparison of recent classification tools applied to microarray data.',\n",
       " 'Throughput Analysis of TCP-Friendly Rate Control in Mobile Hotspots.',\n",
       " 'Unequivocal majority and Maskin-monotonicity.',\n",
       " 'A new approach to the verification of chinese signatures with variant orientations and scales using relaxation and state-space search methods.',\n",
       " 'Algebraic Matching Theory.',\n",
       " 'Information systems evaluation and the information systems development process.']"
      ]
     },
     "execution_count": 19,
     "metadata": {},
     "output_type": "execute_result"
    }
   ],
   "source": [
    "random.sample(titles_from_1990_to_2009, 10)"
   ]
  },
  {
   "cell_type": "code",
   "execution_count": null,
   "metadata": {
    "id": "Vlb3X9hyaYTF"
   },
   "outputs": [],
   "source": [
    "preprocessed_titles_from_1990_to_2009 = [preprocess_text(title) for title in titles_from_1990_to_2009]"
   ]
  },
  {
   "cell_type": "code",
   "execution_count": null,
   "metadata": {
    "colab": {
     "base_uri": "https://localhost:8080/"
    },
    "id": "X4627RUxe1zf",
    "outputId": "4d9c6b4f-2240-4fff-8fbf-dbe626300283"
   },
   "outputs": [
    {
     "data": {
      "text/plain": [
       "['cue validity modulates the neural correlates of covert endogenous orienting of attention in parietal and frontal cortex',\n",
       " 'abstracting soft constraints framework properties examples',\n",
       " 'a comment on the severity of the effects of nonwhite noise in fmri timeseries',\n",
       " 'agent hell a scenario of worst practices',\n",
       " 'the evolution of sdh a view from telecom new zealand',\n",
       " 'accurate d image colour histogram transformation',\n",
       " 'solution of a semicoercive contact problem in a nonlinear thermoelastic rheology',\n",
       " 'an operadic approach to internal structures',\n",
       " 'layoff costs and underutilization of labour in fisheries',\n",
       " 'spectrum sensing architecture and use case study distributed sensing over rayleigh fading channels']"
      ]
     },
     "execution_count": 21,
     "metadata": {},
     "output_type": "execute_result"
    }
   ],
   "source": [
    "random.sample(preprocessed_titles_from_1990_to_2009, 10)"
   ]
  },
  {
   "cell_type": "code",
   "execution_count": null,
   "metadata": {
    "id": "oULIkhWnXLGX"
   },
   "outputs": [],
   "source": [
    "tf_02, tf_feature_names_02 = vectorize_data(titles_from_1990_to_2009, max_df=0.95, min_df=0.01)"
   ]
  },
  {
   "cell_type": "code",
   "execution_count": null,
   "metadata": {
    "id": "nh-AKJdlXntq"
   },
   "outputs": [],
   "source": [
    "lda_02 = LatentDirichletAllocation(n_components=8, max_iter=10, learning_method='online', random_state=42).fit(tf_02)"
   ]
  },
  {
   "cell_type": "code",
   "execution_count": null,
   "metadata": {
    "colab": {
     "base_uri": "https://localhost:8080/"
    },
    "id": "aaDUR7xpXqlV",
    "outputId": "dcfe0a93-5bfd-4d9f-c32b-ebc4679ec96e"
   },
   "outputs": [
    {
     "name": "stdout",
     "output_type": "stream",
     "text": [
      "Topic 0: time algorithm linear new network models algorithms efficient high robust equations management\n",
      "Topic 1: method study problems evaluation case space programming equations finite linear new performance\n",
      "Topic 2: design approach nonlinear optimal fuzzy modeling computing robust control equations new time\n",
      "Topic 3: based control model methods computer robust time linear simulation network detection dynamic\n",
      "Topic 4: using analysis networks performance problem multi dynamic neural wireless mobile recognition network\n",
      "Topic 5: systems data information multiple digital linear robust management time control nonlinear analysis\n",
      "Topic 6: adaptive application structure non theory knowledge scheme management robust linear control finite\n",
      "Topic 7: learning estimation applications order image distributed graphs web software power real development\n"
     ]
    }
   ],
   "source": [
    "for topic_idx, topic in enumerate(lda_02.components_):\n",
    "    print(f'Topic {topic_idx}:', end=' ')\n",
    "    print(' '.join([tf_feature_names_02[i] for i in topic.argsort()[:-12 - 1:-1]]))"
   ]
  },
  {
   "cell_type": "markdown",
   "metadata": {
    "id": "ip_z250Z_Mnz"
   },
   "source": [
    "#### 2.1.3 - From 2010 onwards:"
   ]
  },
  {
   "cell_type": "code",
   "execution_count": null,
   "metadata": {
    "colab": {
     "base_uri": "https://localhost:8080/"
    },
    "id": "9Xxhrl06aHKA",
    "outputId": "492974f9-0ec8-4ee1-a0d5-4a032c12dc6a"
   },
   "outputs": [
    {
     "name": "stdout",
     "output_type": "stream",
     "text": [
      "720322 titles from from 2010\n"
     ]
    }
   ],
   "source": [
    "# Load the titles\n",
    "titles_from_2010 = load_titles(path_from_2010)\n",
    "print(\"{} titles from from 2010\".format(len(titles_from_2010)))"
   ]
  },
  {
   "cell_type": "code",
   "execution_count": null,
   "metadata": {
    "colab": {
     "base_uri": "https://localhost:8080/"
    },
    "id": "lgi6gbvcX-n6",
    "outputId": "61f89cab-f4a6-4727-eac6-41ac879c3c61"
   },
   "outputs": [
    {
     "data": {
      "text/plain": [
       "['Power Sensitivity Analysis of Multi-Frequency, Multi-Polarized, Multi-Temporal SAR Data for Soil-Vegetation System Variables Characterization.',\n",
       " 'Schneier on Security: Privacy and Control.',\n",
       " 'Stability and implementation of a cycle-based max pressure controller for signalized traffic networks.',\n",
       " 'Modeling progressive mesh streaming: Does data dependency matter?',\n",
       " 'High order weighted essentially non-oscillatory WENO-Z schemes for hyperbolic conservation laws.',\n",
       " 'Wireless Information and Power Transfer in Multiway Massive MIMO Relay Networks.',\n",
       " 'Investigating Statistical Privacy Frameworks from the Perspective of Hypothesis Testing.',\n",
       " 'A complete 3D simulation of a crystallization process induced by supercritical CO<sub>2</sub> to predict particle size.',\n",
       " 'Test Architecture for Systolic Array of Edge-Based AI Accelerator.',\n",
       " 'Processing Speech and Thoughts during Silent Reading: Direct Reference Effects for Speech by Fictional Characters in Voice-Selective Auditory Cortex and a Theory-of-Mind Network.']"
      ]
     },
     "execution_count": 26,
     "metadata": {},
     "output_type": "execute_result"
    }
   ],
   "source": [
    "# Show some random samples\n",
    "random.sample(titles_from_2010, 10)"
   ]
  },
  {
   "cell_type": "code",
   "execution_count": null,
   "metadata": {
    "id": "erEowFQcabl2"
   },
   "outputs": [],
   "source": [
    "# Preprocess the titles by removing certain characters\n",
    "preprocessed_titles_from_2010 = [preprocess_text(title) for title in titles_from_2010]"
   ]
  },
  {
   "cell_type": "code",
   "execution_count": null,
   "metadata": {
    "id": "F3BQQX2MakvD"
   },
   "outputs": [],
   "source": [
    "# Vectorize\n",
    "tf_03, tf_feature_names_03 = vectorize_data(preprocessed_titles_from_2010, max_df=0.95, min_df=0.01)"
   ]
  },
  {
   "cell_type": "code",
   "execution_count": null,
   "metadata": {
    "id": "cKRd2B0ManH9"
   },
   "outputs": [],
   "source": [
    "lda_03 = LatentDirichletAllocation(n_components=8, max_iter=10, learning_method='online', random_state=42).fit(tf_03)"
   ]
  },
  {
   "cell_type": "code",
   "execution_count": null,
   "metadata": {
    "colab": {
     "base_uri": "https://localhost:8080/"
    },
    "id": "vKwtKuvKaofc",
    "outputId": "b7eab492-2cf4-4827-b0ed-b1ee0898e4c6"
   },
   "outputs": [
    {
     "name": "stdout",
     "output_type": "stream",
     "text": [
      "Topic 0: systems networks wireless performance novel evaluation sensing sensor communication linear distributed power\n",
      "Topic 1: based detection design linear mobile recognition prediction computing images cloud feature method\n",
      "Topic 2: data method network optimization application applications modeling equations methods hybrid cloud problems\n",
      "Topic 3: adaptive nonlinear information models framework energy deep management social scheduling systems tracking\n",
      "Topic 4: control model estimation robust sensor selection tracking systems linear nonlinear stochastic distributed\n",
      "Topic 5: learning neural efficient optimal distributed scheme problem multiple problems stochastic machine deep\n",
      "Topic 6: approach algorithm study new time algorithms online tracking case improved research optimization\n",
      "Topic 7: using analysis image dynamic power classification fuzzy communication machine feature learning selection\n"
     ]
    }
   ],
   "source": [
    "for topic_idx, topic in enumerate(lda_03.components_):\n",
    "    print(f'Topic {topic_idx}:', end=' ')\n",
    "    print(' '.join([tf_feature_names_03[i] for i in topic.argsort()[:-12 - 1:-1]]))"
   ]
  },
  {
   "cell_type": "markdown",
   "metadata": {
    "id": "pStFBikpsRTz"
   },
   "source": [
    "# Combined Topic Models\n",
    "\n",
    "New method developed by [Bianchi et al. 2021](https://aclanthology.org/2021.acl-short.96/). \n",
    "\n",
    "[A 6min presentation of the paper by one of the authors.](https://underline.io/lecture/25716-pre-training-is-a-hot-topic-contextualized-document-embeddings-improve-topic-coherence)\n",
    "\n",
    "Code: [https://github.com/MilaNLProc/contextualized-topic-models](https://github.com/MilaNLProc/contextualized-topic-models)\n",
    "\n",
    "Tutorial: [https://colab.research.google.com/drive/1fXJjr_rwqvpp1IdNQ4dxqN4Dp88cxO97?usp=sharing](https://colab.research.google.com/drive/1fXJjr_rwqvpp1IdNQ4dxqN4Dp88cxO97?usp=sharing)\n",
    "\n",
    "Again, perform topic modelling for the three time periods - this time using the combined topic models (CTMs). \n",
    "\n",
    "You can use and adapt the code from the tutorial linked above.\n",
    "\n",
    "Use the available GPU for faster running times."
   ]
  },
  {
   "cell_type": "code",
   "execution_count": null,
   "metadata": {
    "id": "aNsJrV2DJ8GO"
   },
   "outputs": [],
   "source": [
    "from contextualized_topic_models.models.ctm import CombinedTM\n",
    "from contextualized_topic_models.utils.data_preparation import TopicModelDataPreparation\n",
    "from contextualized_topic_models.utils.preprocessing import WhiteSpacePreprocessing\n",
    "\n",
    "num_ctm_topics = 8  # you can also choose a higher number of topics"
   ]
  },
  {
   "cell_type": "code",
   "execution_count": null,
   "metadata": {
    "colab": {
     "base_uri": "https://localhost:8080/"
    },
    "id": "4NpPMJFUh31u",
    "outputId": "b8a43f36-e06c-4ca3-bd0a-7279af5e5707"
   },
   "outputs": [
    {
     "name": "stdout",
     "output_type": "stream",
     "text": [
      "[nltk_data] Downloading package stopwords to /root/nltk_data...\n",
      "[nltk_data]   Unzipping corpora/stopwords.zip.\n",
      "[nltk_data] Downloading package wordnet to /root/nltk_data...\n",
      "[nltk_data]   Unzipping corpora/wordnet.zip.\n"
     ]
    }
   ],
   "source": [
    "import nltk\n",
    "\n",
    "nltk.download('stopwords')\n",
    "nltk.download('wordnet')\n",
    "from nltk.stem import WordNetLemmatizer\n",
    "\n",
    "# def lemmatization(sentence):\n",
    "#   words = sentence.split()\n",
    "#   lem_words = [WordNetLemmatizer().lemmatize(i) for i in words]\n",
    "#   new_sentence = ' '.join(lem_words)\n",
    "#   return new_sentence\n",
    "\n",
    "def load_text(text):\n",
    "  # lem_text = [lemmatization(i) for i in text]\n",
    "  sp = WhiteSpacePreprocessing(text, stopwords_language='english')\n",
    "  preprocessed_documents, unpreprocessed_corpus, vocab = sp.preprocess()\n",
    "  return preprocessed_documents, unpreprocessed_corpus, vocab"
   ]
  },
  {
   "cell_type": "code",
   "execution_count": null,
   "metadata": {
    "id": "959feQD0cG40"
   },
   "outputs": [],
   "source": [
    "all_titles = titles_before_1990 + titles_from_1990_to_2009 + titles_from_2010"
   ]
  },
  {
   "cell_type": "code",
   "execution_count": null,
   "metadata": {
    "colab": {
     "base_uri": "https://localhost:8080/"
    },
    "id": "VSMT5mAgcav5",
    "outputId": "b992b930-8e2b-4a7c-e5f3-0b5ce25a753b"
   },
   "outputs": [
    {
     "name": "stdout",
     "output_type": "stream",
     "text": [
      "the length of the list all_titles is 1087629\n"
     ]
    }
   ],
   "source": [
    "print(\"the length of the list all_titles is {}\".format(len(all_titles)))"
   ]
  },
  {
   "cell_type": "markdown",
   "metadata": {
    "id": "wSv9Ch46LFxp"
   },
   "source": [
    "### Before the 1990s:"
   ]
  },
  {
   "cell_type": "code",
   "execution_count": null,
   "metadata": {
    "colab": {
     "base_uri": "https://localhost:8080/"
    },
    "id": "1UobhOHjifyS",
    "outputId": "ff9744b8-54a6-4cb8-d1e1-df848308e5a7"
   },
   "outputs": [
    {
     "data": {
      "text/plain": [
       "['object model capabilities for distributed object management',\n",
       " 'distributed object management technology',\n",
       " 'muffin a distributed database machine',\n",
       " 'algebraical optimization of ftaexpressions',\n",
       " 'wissensrepraumlsentation und maschinelles lernen']"
      ]
     },
     "execution_count": 35,
     "metadata": {},
     "output_type": "execute_result"
    }
   ],
   "source": [
    "#check the processed data from part 1\n",
    "preprocessed_titles_before_1990[0:5]"
   ]
  },
  {
   "cell_type": "code",
   "execution_count": null,
   "metadata": {
    "colab": {
     "base_uri": "https://localhost:8080/"
    },
    "id": "vry-UZonUr38",
    "outputId": "0f76c90c-1789-42bd-e422-3aac7d4d1b95"
   },
   "outputs": [
    {
     "name": "stderr",
     "output_type": "stream",
     "text": [
      "/usr/local/lib/python3.7/dist-packages/sklearn/utils/deprecation.py:87: FutureWarning: Function get_feature_names is deprecated; get_feature_names is deprecated in 1.0 and will be removed in 1.2. Please use get_feature_names_out instead.\n",
      "  warnings.warn(msg, category=FutureWarning)\n"
     ]
    }
   ],
   "source": [
    "# here we do lemmatization, remove stop words, and return the processed, unprocessed, and vocabulary data \n",
    "preprocessed_documents_before_1990, unpreprocessed_corpus_before_1990, vocab_before_1990 = load_text(preprocessed_titles_before_1990)"
   ]
  },
  {
   "cell_type": "code",
   "execution_count": null,
   "metadata": {
    "id": "j5lxU82Jjse_"
   },
   "outputs": [],
   "source": [
    "contextualized_txt_01 = random.sample(all_titles,len(unpreprocessed_corpus_before_1990))"
   ]
  },
  {
   "cell_type": "code",
   "execution_count": null,
   "metadata": {
    "colab": {
     "base_uri": "https://localhost:8080/",
     "height": 104,
     "referenced_widgets": [
      "87c4c0890e0b49368687c25ea33e360c",
      "dc233c4cb86a455e96503ba711fda269",
      "975cf009bb644b2b9ba40c61fc407f60",
      "8b959230ad4844ba85131f85ba12afcf",
      "01a115242d4a47d4be518a71cc34f3a7",
      "b63672d2fa8242c795e86367cbe2dd41",
      "1f996e7148ae44aba98f125ed0a73a7f",
      "6daae0fba40d4785948c88f52b7acc7f",
      "03a1b0d01e254821ae0d1a4afb856007",
      "09d60c1f7bbc47a89bbd184c875e7cef",
      "0a459c8e94d34ddd98be45e494053bc8"
     ]
    },
    "id": "USNTetUfUr0S",
    "outputId": "7e162a22-82d7-4ac1-db55-902224c7b94a"
   },
   "outputs": [
    {
     "data": {
      "application/vnd.jupyter.widget-view+json": {
       "model_id": "87c4c0890e0b49368687c25ea33e360c",
       "version_major": 2,
       "version_minor": 0
      },
      "text/plain": [
       "Batches:   0%|          | 0/197 [00:00<?, ?it/s]"
      ]
     },
     "metadata": {},
     "output_type": "display_data"
    },
    {
     "name": "stderr",
     "output_type": "stream",
     "text": [
      "/usr/local/lib/python3.7/dist-packages/sklearn/utils/deprecation.py:87: FutureWarning: Function get_feature_names is deprecated; get_feature_names is deprecated in 1.0 and will be removed in 1.2. Please use get_feature_names_out instead.\n",
      "  warnings.warn(msg, category=FutureWarning)\n"
     ]
    }
   ],
   "source": [
    "# here we use the same model, paraphrase-distilroberta-base-v1, as in the tutorial\n",
    "tp = TopicModelDataPreparation(\"multi-qa-mpnet-base-cos-v1\")\n",
    "training_dataset = tp.fit(text_for_contextual=contextualized_txt_01, text_for_bow=preprocessed_documents_before_1990)"
   ]
  },
  {
   "cell_type": "code",
   "execution_count": null,
   "metadata": {
    "colab": {
     "base_uri": "https://localhost:8080/"
    },
    "id": "ICkdih24lz1H",
    "outputId": "30931bf4-56af-44cc-8c26-2d9dc6a74309"
   },
   "outputs": [
    {
     "name": "stderr",
     "output_type": "stream",
     "text": [
      "Epoch: [20/20]\t Seen Samples: [787640/787640]\tTrain Loss: 32.876268093633556\tTime: 0:00:05.907914: : 20it [01:57,  5.89s/it]\n"
     ]
    }
   ],
   "source": [
    "ctm1 = CombinedTM(bow_size=len(tp.vocab), contextual_size=768, n_components=num_ctm_topics, num_epochs=20)\n",
    "ctm1.fit(training_dataset) # run the model"
   ]
  },
  {
   "cell_type": "code",
   "execution_count": null,
   "metadata": {
    "colab": {
     "base_uri": "https://localhost:8080/"
    },
    "id": "beB9mh59-a8z",
    "outputId": "79ea69a3-915d-4547-f153-26c7e5132dbe"
   },
   "outputs": [
    {
     "name": "stdout",
     "output_type": "stream",
     "text": [
      "Topic 0: computer review introduction research software network new simulation graphics computers\n",
      "Topic 1: note problem problems technical programming solution editor letter optimal scheduling\n",
      "Topic 2: system data design information distributed processing language database management expert\n",
      "Topic 3: algorithm parallel algorithms sequential binary fast machines using circuits matrix\n",
      "Topic 4: sets der graphs und von automata finite zur properties ein\n",
      "Topic 5: control analysis systems recognition pattern adaptive using model linear optimal\n",
      "Topic 6: timing vehicle augmented biological multiprogramming combined priorities texts references usage\n",
      "Topic 7: logic theory de languages theorem modal propositional semantics calculus set\n"
     ]
    }
   ],
   "source": [
    "for i in range(0,8):\n",
    "    print(f'Topic {i}:', end=' ')\n",
    "    print(' '.join(ctm1.get_topic_lists(10)[i]))"
   ]
  },
  {
   "cell_type": "code",
   "execution_count": null,
   "metadata": {
    "id": "PNYEq_Kr_Pjx"
   },
   "outputs": [],
   "source": []
  },
  {
   "cell_type": "markdown",
   "metadata": {
    "id": "ZNRaJJEMiVQb"
   },
   "source": [
    "### From 1990 to 2009"
   ]
  },
  {
   "cell_type": "code",
   "execution_count": null,
   "metadata": {
    "colab": {
     "base_uri": "https://localhost:8080/"
    },
    "id": "QtkUBtOBjOsD",
    "outputId": "26b39a05-6edf-478c-e32c-fbd2f7ba4020"
   },
   "outputs": [
    {
     "data": {
      "text/plain": [
       "['an evaluation of objectoriented dbms developments  edition',\n",
       " 'darwin on the incremental migration of legacy information systems',\n",
       " 'integrating heterogeneous autonomous distributed applications using the dom prototype',\n",
       " 'integrating objectoriented applications and middleware with relational databases',\n",
       " 'towards a transaction management system for dom']"
      ]
     },
     "execution_count": 41,
     "metadata": {},
     "output_type": "execute_result"
    }
   ],
   "source": [
    "#check the processed data from part 1\n",
    "preprocessed_titles_from_1990_to_2009[0:5]"
   ]
  },
  {
   "cell_type": "code",
   "execution_count": null,
   "metadata": {
    "colab": {
     "base_uri": "https://localhost:8080/"
    },
    "id": "VpFS6zJVjbJ2",
    "outputId": "0bfc6807-7457-494d-e64a-a85a15991bc8"
   },
   "outputs": [
    {
     "name": "stderr",
     "output_type": "stream",
     "text": [
      "/usr/local/lib/python3.7/dist-packages/sklearn/utils/deprecation.py:87: FutureWarning: Function get_feature_names is deprecated; get_feature_names is deprecated in 1.0 and will be removed in 1.2. Please use get_feature_names_out instead.\n",
      "  warnings.warn(msg, category=FutureWarning)\n"
     ]
    }
   ],
   "source": [
    "# here we do lemmatization, remove stop words, and return the processed, unprocessed, and vocabulary data \n",
    "preprocessed_documents_from_1990_to_2009, unpreprocessed_corpus_from_1990_to_2009, vocab_from_1990_to_2009 = load_text(preprocessed_titles_from_1990_to_2009)"
   ]
  },
  {
   "cell_type": "code",
   "execution_count": null,
   "metadata": {
    "id": "x5wNDSumlydj"
   },
   "outputs": [],
   "source": [
    "contextualized_txt_02 = random.sample(all_titles,len(unpreprocessed_corpus_from_1990_to_2009))"
   ]
  },
  {
   "cell_type": "code",
   "execution_count": null,
   "metadata": {
    "colab": {
     "base_uri": "https://localhost:8080/",
     "height": 121,
     "referenced_widgets": [
      "8bd680bd36a647f1a6b8b38b360cd90f",
      "b35c86c4c62b42dcaa973342b46e2308",
      "6803ac3250cb487b9cb41214765504f5",
      "025ec161f54d49f0acb41b8fd35baa54",
      "eacfff922de445bcbec083da5f58d6dc",
      "2cc2238f934c420a828142b1d784a341",
      "0c53b42e55f2418eb75b27c459c498f3",
      "28de010d898249c38bf8d8f3c70aa377",
      "abdd82b5a8364eb684e2826f8ae54303",
      "daab05306fda44fd907a16190bed20c9",
      "f41ce41f69dd472a9123c7edce704082"
     ]
    },
    "id": "OwZGEEvNQSIn",
    "outputId": "e4a41e66-73da-4463-f48e-b88bd51f3349"
   },
   "outputs": [
    {
     "data": {
      "application/vnd.jupyter.widget-view+json": {
       "model_id": "8bd680bd36a647f1a6b8b38b360cd90f",
       "version_major": 2,
       "version_minor": 0
      },
      "text/plain": [
       "Batches:   0%|          | 0/1613 [00:00<?, ?it/s]"
      ]
     },
     "metadata": {},
     "output_type": "display_data"
    },
    {
     "name": "stderr",
     "output_type": "stream",
     "text": [
      "0it [2:00:50, ?it/s]\n",
      "/usr/local/lib/python3.7/dist-packages/sklearn/utils/deprecation.py:87: FutureWarning: Function get_feature_names is deprecated; get_feature_names is deprecated in 1.0 and will be removed in 1.2. Please use get_feature_names_out instead.\n",
      "  warnings.warn(msg, category=FutureWarning)\n"
     ]
    }
   ],
   "source": [
    "tp = TopicModelDataPreparation(\"multi-qa-mpnet-base-cos-v1\")\n",
    "training_dataset = tp.fit(text_for_contextual=contextualized_txt_02, text_for_bow=preprocessed_documents_from_1990_to_2009)"
   ]
  },
  {
   "cell_type": "code",
   "execution_count": null,
   "metadata": {
    "colab": {
     "base_uri": "https://localhost:8080/"
    },
    "id": "E7jrm7T7QTqf",
    "outputId": "f946313a-d7d3-44c8-f323-a742a95368c6"
   },
   "outputs": [
    {
     "name": "stderr",
     "output_type": "stream",
     "text": [
      "Epoch: [20/20]\t Seen Samples: [6451020/6451020]\tTrain Loss: 37.61339285155257\tTime: 0:00:45.557992: : 20it [15:10, 45.52s/it]\n"
     ]
    }
   ],
   "source": [
    "ctm2 = CombinedTM(bow_size=len(tp.vocab), contextual_size=768, n_components=num_ctm_topics, num_epochs=20)\n",
    "ctm2.fit(training_dataset) # run the model"
   ]
  },
  {
   "cell_type": "code",
   "execution_count": null,
   "metadata": {
    "colab": {
     "base_uri": "https://localhost:8080/"
    },
    "id": "s7cN0lwcQl4i",
    "outputId": "033d4616-7421-4953-b439-2b913dc96229"
   },
   "outputs": [
    {
     "name": "stdout",
     "output_type": "stream",
     "text": [
      "Topic 0: problems problem equations solution finite solutions numerical equation methods method\n",
      "Topic 1: theoretic rates spatially serial arrival modes simplified utilizing membership window\n",
      "Topic 2: information development case web knowledge study technology management research electronic\n",
      "Topic 3: networks wireless performance sensor mobile routing scheduling protocol network traffic\n",
      "Topic 4: systems control robust stability linear design adaptive uncertain nonlinear output\n",
      "Topic 5: special issue introduction computer editorial de logic intelligence book language\n",
      "Topic 6: analysis data model fuzzy neural models molecular approach classification prediction\n",
      "Topic 7: image images detection recognition segmentation using compression estimation brain speech\n"
     ]
    }
   ],
   "source": [
    "for i in range(0,8):\n",
    "    print(f'Topic {i}:', end=' ')\n",
    "    print(' '.join(ctm2.get_topic_lists(10)[i]))"
   ]
  },
  {
   "cell_type": "markdown",
   "metadata": {
    "id": "tfgbLy0KiZ5b"
   },
   "source": [
    "### From 2010 onwards"
   ]
  },
  {
   "cell_type": "code",
   "execution_count": null,
   "metadata": {
    "colab": {
     "base_uri": "https://localhost:8080/"
    },
    "id": "kd6_YFuUjPRV",
    "outputId": "0508ecfe-a19e-4a9a-e06e-97c6b404a16d"
   },
   "outputs": [
    {
     "data": {
      "text/plain": [
       "['spectre attacks exploiting speculative execution',\n",
       " 'computer science curricula ',\n",
       " 'differences in productivity and impact across the different computer science subareas',\n",
       " 'klaus tschira stiftung gemeinnuumltzige gmbh kts',\n",
       " 'catchment classification by runoff behaviour with selforganizing maps som']"
      ]
     },
     "execution_count": 48,
     "metadata": {},
     "output_type": "execute_result"
    }
   ],
   "source": [
    "#check the processed data from part 1\n",
    "preprocessed_titles_from_2010[0:5]"
   ]
  },
  {
   "cell_type": "code",
   "execution_count": null,
   "metadata": {
    "colab": {
     "base_uri": "https://localhost:8080/"
    },
    "id": "jPxq3FqCjcZ6",
    "outputId": "e73220b4-cc6c-4f3a-90e7-5e5cee5b980c"
   },
   "outputs": [
    {
     "name": "stderr",
     "output_type": "stream",
     "text": [
      "/usr/local/lib/python3.7/dist-packages/sklearn/utils/deprecation.py:87: FutureWarning: Function get_feature_names is deprecated; get_feature_names is deprecated in 1.0 and will be removed in 1.2. Please use get_feature_names_out instead.\n",
      "  warnings.warn(msg, category=FutureWarning)\n"
     ]
    }
   ],
   "source": [
    "# here we do lemmatization, remove stop words, and return the processed, unprocessed, and vocabulary data \n",
    "preprocessed_documents_from_2010, unpreprocessed_corpus_from_2010, vocab_from_2010 = load_text(preprocessed_titles_from_2010)"
   ]
  },
  {
   "cell_type": "code",
   "execution_count": null,
   "metadata": {
    "id": "m04Yl8zkl6qj"
   },
   "outputs": [],
   "source": [
    "contextualized_txt_03 = random.sample(all_titles,len(unpreprocessed_corpus_from_2010))"
   ]
  },
  {
   "cell_type": "code",
   "execution_count": null,
   "metadata": {
    "colab": {
     "base_uri": "https://localhost:8080/",
     "height": 104,
     "referenced_widgets": [
      "daba32049e564920a7747d1d2d837915",
      "f3aa5561c1d84ce4bc58f28c96a4069b",
      "120fc60744b84c34bcf5f7b406b35b1c",
      "aef261cad4b047cda7ec090e9a6ec9bd",
      "54e16c70253842c09ef71be5c7d52690",
      "021e16e453934622a13c66b65584bf17",
      "f7855ee89a0f4422a9c197aabdaf3545",
      "84c973b290854beb8765050203c88caa",
      "23072253719c411e960b31bd43a4076f",
      "ce720f5d1d63466fbc98799bc153c154",
      "24ae9a9d71d44169aada374f80849d2a"
     ]
    },
    "id": "vdDmYdt4QSu7",
    "outputId": "4c62f0a3-dd62-491a-ecf4-62f8c7d287ac"
   },
   "outputs": [
    {
     "data": {
      "application/vnd.jupyter.widget-view+json": {
       "model_id": "daba32049e564920a7747d1d2d837915",
       "version_major": 2,
       "version_minor": 0
      },
      "text/plain": [
       "Batches:   0%|          | 0/3567 [00:00<?, ?it/s]"
      ]
     },
     "metadata": {},
     "output_type": "display_data"
    },
    {
     "name": "stderr",
     "output_type": "stream",
     "text": [
      "/usr/local/lib/python3.7/dist-packages/sklearn/utils/deprecation.py:87: FutureWarning: Function get_feature_names is deprecated; get_feature_names is deprecated in 1.0 and will be removed in 1.2. Please use get_feature_names_out instead.\n",
      "  warnings.warn(msg, category=FutureWarning)\n"
     ]
    }
   ],
   "source": [
    "tp = TopicModelDataPreparation(\"multi-qa-mpnet-base-cos-v1\")\n",
    "training_dataset = tp.fit(text_for_contextual=contextualized_txt_03, text_for_bow=preprocessed_documents_from_2010)"
   ]
  },
  {
   "cell_type": "code",
   "execution_count": null,
   "metadata": {
    "colab": {
     "base_uri": "https://localhost:8080/"
    },
    "id": "7Hghu1k7jb84",
    "outputId": "b369478b-e8e3-42fa-e36f-1b50a1fb5cf3"
   },
   "outputs": [
    {
     "name": "stderr",
     "output_type": "stream",
     "text": [
      "Epoch: [20/20]\t Seen Samples: [14267720/14267720]\tTrain Loss: 44.330207667517456\tTime: 0:01:39.785597: : 20it [33:26, 100.34s/it]\n"
     ]
    }
   ],
   "source": [
    "ctm3 = CombinedTM(bow_size=len(tp.vocab), contextual_size=768, n_components=num_ctm_topics, num_epochs=20)\n",
    "ctm3.fit(training_dataset) # run the model"
   ]
  },
  {
   "cell_type": "code",
   "execution_count": null,
   "metadata": {
    "colab": {
     "base_uri": "https://localhost:8080/"
    },
    "id": "JgMpD7ebQmtM",
    "outputId": "0ad27fda-4b78-418c-d279-81c60a56d3d2"
   },
   "outputs": [
    {
     "name": "stdout",
     "output_type": "stream",
     "text": [
      "Topic 0: adjustment selforganizing window nested simplified weighting train progressive optimum cross\n",
      "Topic 1: analysis surface data imaging land models temperature using water estimation\n",
      "Topic 2: optimization fuzzy algorithm multiobjective problem decision swarm approach genetic evolutionary\n",
      "Topic 3: image deep learning detection recognition classification neural feature segmentation images\n",
      "Topic 4: networks wireless sensor power energy cognitive cellular allocation interference spectrum\n",
      "Topic 5: nonlinear systems control linear equations class boundary equation stability fractional\n",
      "Topic 6: computing cloud smart applications internet special things issue autonomous security\n",
      "Topic 7: social information online knowledge media case role technology factors review\n"
     ]
    }
   ],
   "source": [
    "for i in range(0,8):\n",
    "    print(f'Topic {i}:', end=' ')\n",
    "    print(' '.join(ctm3.get_topic_lists(10)[i]))"
   ]
  },
  {
   "cell_type": "markdown",
   "metadata": {
    "id": "ccuozZJEr5ZE"
   },
   "source": [
    "### Summary "
   ]
  },
  {
   "cell_type": "markdown",
   "metadata": {
    "id": "etAKDjdJag9D"
   },
   "source": [
    "Now, for the three periods, we have the topics generated by both the LDA and the Contextualized Topics Model(CTM). We are going to decide whether the CTM set of topics really has higher level of coherence than the topics set generated by LDA. A long standing open question is how to quantify coherence. Coherence can be measured in numerous ways, like [Lau et al., 2014; Roder et al. ¨ , 2015](https://dl.acm.org/doi/10.1145/2684822.2685324). In this assignment, we can tell that the topics generated by CTM are more coherent by simply human observation. "
   ]
  },
  {
   "cell_type": "markdown",
   "metadata": {
    "id": "9Pkrodvw-Svm"
   },
   "source": [
    "Assign a name to each topic based on the topic's top words:"
   ]
  },
  {
   "cell_type": "markdown",
   "metadata": {
    "id": "2D57hIzA-fh0"
   },
   "source": [
    "topics before 1990:"
   ]
  },
  {
   "cell_type": "code",
   "execution_count": null,
   "metadata": {
    "colab": {
     "base_uri": "https://localhost:8080/"
    },
    "id": "_zYTHF9JBxQo",
    "outputId": "3cb20df9-8ecc-4b9f-ad50-8e4123b453d1"
   },
   "outputs": [
    {
     "name": "stdout",
     "output_type": "stream",
     "text": [
      "Topic 0: computer review introduction research software network new simulation graphics computers technology artificial book science report intelligence operations architecture communication local\n",
      "Topic 1: note problem problems technical programming solution editor letter optimal scheduling networks solving times dynamic queues linear queue decision allocation integer\n",
      "Topic 2: system data design information distributed processing language database management expert structures chemical retrieval development interactive base systems online knowledge structure\n",
      "Topic 3: algorithm parallel algorithms sequential binary fast machines using circuits matrix detection method trees fault switching tree search efficient computing transform\n",
      "Topic 4: sets der graphs und von automata finite zur properties ein fuumlr boolean recursive uumlber die degrees automaten arithmetic eine relations\n",
      "Topic 5: control analysis systems recognition pattern adaptive using model linear optimal approach application estimation speech classification digital identification automatic image multivariable\n",
      "Topic 6: timing vehicle augmented biological multiprogramming combined priorities texts references usage disk reconfigurable magnetic emergency urban balancing signature uncertain secondary interference\n",
      "Topic 7: logic theory de languages theorem modal propositional semantics calculus set logics order symbolic grammars meeting association completeness first natural programs\n"
     ]
    }
   ],
   "source": [
    "for i in range(0,8):\n",
    "    print(f'Topic {i}:', end=' ')\n",
    "    print(' '.join(ctm1.get_topic_lists(20)[i]))"
   ]
  },
  {
   "cell_type": "markdown",
   "metadata": {
    "id": "cnHMcjfoCJrM"
   },
   "source": [
    "We can see that in this period, some topics generated by the CTM models are still not coherent enough or too ambiguous to show what is the topic. For example, in topic 0, there are keywords \"network\", \"architecture\",\"operations\"(more bottom layer) but there are also \"software\". However, generally for other topics, it is clear to tell what the keywords about. For example, topic 2, there are \"data\", \"system\", \"database\", \"management\", so we can tell that this topic is very likely to be \"Database System\". Other topics like \"parallel computing\",\"graph theory\" are also very clear. The last topic is interesting. It has keywords like \"languages\",\"logic\",\"semantics\",\"symbolic\",\"grammar\" so we called it \"Computational Linguistics\"."
   ]
  },
  {
   "cell_type": "code",
   "execution_count": null,
   "metadata": {
    "colab": {
     "base_uri": "https://localhost:8080/"
    },
    "id": "zaQTawbT-SNR",
    "outputId": "6122b6d4-279f-40b7-abef-2d542085a74e"
   },
   "outputs": [
    {
     "name": "stdout",
     "output_type": "stream",
     "text": [
      "1 Computer Network: \n",
      "computer review introduction research software\n",
      "-----------------------------------------------\n",
      "2 Programming: \n",
      "note problem problems technical programming\n",
      "-----------------------------------------------\n",
      "3 Database System: \n",
      "system data design information distributed\n",
      "-----------------------------------------------\n",
      "4 Parallel Computing: \n",
      "algorithm parallel algorithms sequential binary\n",
      "-----------------------------------------------\n",
      "5 Graph Theory: \n",
      "sets der graphs und von\n",
      "-----------------------------------------------\n",
      "6 Control System: \n",
      "control analysis systems recognition pattern\n",
      "-----------------------------------------------\n",
      "7 Multiprogramming: \n",
      "timing vehicle augmented biological multiprogramming\n",
      "-----------------------------------------------\n",
      "8 Computational Linguistics: \n",
      "logic theory de languages theorem\n",
      "-----------------------------------------------\n"
     ]
    }
   ],
   "source": [
    "assigned_topic1=['Computer Network','Programming','Database System','Parallel Computing','Graph Theory','Control System','Multiprogramming','Computational Linguistics']\n",
    "for i in range(0,8):\n",
    "    print(str(i+1)+' '+assigned_topic1[i], end=': \\n')\n",
    "    print(' '.join(ctm1.get_topic_lists(5)[i]))\n",
    "    print('-----------------------------------------------')"
   ]
  },
  {
   "cell_type": "markdown",
   "metadata": {
    "id": "EN0ksXHXB-Mt"
   },
   "source": [
    "topics from 1990 to 2009"
   ]
  },
  {
   "cell_type": "code",
   "execution_count": null,
   "metadata": {
    "colab": {
     "base_uri": "https://localhost:8080/"
    },
    "id": "_SjmOwvC_H81",
    "outputId": "9be09b1b-ac42-4489-9f95-65198e010db2"
   },
   "outputs": [
    {
     "name": "stdout",
     "output_type": "stream",
     "text": [
      "Topic 0: problems problem equations solution finite solutions numerical equation methods method solving order differential approximation generalized boundary functions convergence difference value\n",
      "Topic 1: theoretic rates spatially serial arrival modes simplified utilizing membership window composite cross underwater stage equivalent absolute replacement variations various transient\n",
      "Topic 2: information development case web knowledge study technology management research electronic system support collaborative paper software health business framework process online\n",
      "Topic 3: networks wireless performance sensor mobile routing scheduling protocol network traffic scheme access power distributed qos allocation atm dynamic communication packet\n",
      "Topic 4: systems control robust stability linear design adaptive uncertain nonlinear output feedback controller stabilization optimal discretetime state timevarying controllers approach delays\n",
      "Topic 5: special issue introduction computer editorial de logic intelligence book language guest semantics section review amp isbn applications advances pp conference\n",
      "Topic 6: analysis data model fuzzy neural models molecular approach classification prediction network gene modeling mining genetic application selection protein decision structure\n",
      "Topic 7: image images detection recognition segmentation using compression estimation brain speech imaging face magnetic radar reconstruction matching motion automatic sar signals\n"
     ]
    }
   ],
   "source": [
    "for i in range(0,8):\n",
    "    print(f'Topic {i}:', end=' ')\n",
    "    print(' '.join(ctm2.get_topic_lists(20)[i]))"
   ]
  },
  {
   "cell_type": "markdown",
   "metadata": {
    "id": "u_e6W3S9QY0F"
   },
   "source": [
    "Except topic 0 and topic 5, other topics are easy to decide. For example topic 7 includes many keywords related to computer vision, such as \"image\",\"detection\",\"segmentation\". Topic 3 includes many keywords related to Computer Networks, such as \"networks\",\"protocal\",\"traffic\"."
   ]
  },
  {
   "cell_type": "code",
   "execution_count": null,
   "metadata": {
    "colab": {
     "base_uri": "https://localhost:8080/"
    },
    "id": "6LhC_jchCHP5",
    "outputId": "cfcd4f45-ffbc-4e54-be5f-f8909450f58b"
   },
   "outputs": [
    {
     "name": "stdout",
     "output_type": "stream",
     "text": [
      "1 Programming: \n",
      "problems problem equations solution finite\n",
      "-----------------------------------------------\n",
      "2 Memory Management: \n",
      "theoretic rates spatially serial arrival\n",
      "-----------------------------------------------\n",
      "3 Internet technology: \n",
      "information development case web knowledge\n",
      "-----------------------------------------------\n",
      "4 Computer Networks: \n",
      "networks wireless performance sensor mobile\n",
      "-----------------------------------------------\n",
      "5 Control System: \n",
      "systems control robust stability linear\n",
      "-----------------------------------------------\n",
      "6 Digitalization: \n",
      "special issue introduction computer editorial\n",
      "-----------------------------------------------\n",
      "7 Neural Networks: \n",
      "analysis data model fuzzy neural\n",
      "-----------------------------------------------\n",
      "8 Computer Vision: \n",
      "image images detection recognition segmentation\n",
      "-----------------------------------------------\n"
     ]
    }
   ],
   "source": [
    "assigned_topic1=['Programming','Memory Management','Internet technology','Computer Networks','Control System','Digitalization','Neural Networks','Computer Vision']\n",
    "for i in range(0,8):\n",
    "    print(str(i+1)+' '+assigned_topic1[i], end=': \\n')\n",
    "    print(' '.join(ctm2.get_topic_lists(5)[i]))\n",
    "    print('-----------------------------------------------')"
   ]
  },
  {
   "cell_type": "markdown",
   "metadata": {
    "id": "KN9BvGoTJzRx"
   },
   "source": [
    "topics from 2009"
   ]
  },
  {
   "cell_type": "code",
   "execution_count": null,
   "metadata": {
    "colab": {
     "base_uri": "https://localhost:8080/"
    },
    "id": "ZoBNJTBDJjTs",
    "outputId": "ea198502-8f78-4b9a-f9aa-39544b6f96fc"
   },
   "outputs": [
    {
     "name": "stdout",
     "output_type": "stream",
     "text": [
      "Topic 0: adjustment selforganizing window nested simplified weighting train progressive optimum cross partition overlapping fractal impulse employing pairwise multi redundancy polar transformer\n",
      "Topic 1: analysis surface data imaging land models temperature using water estimation series forest satellite mapping modeling soil radar comparison field cover\n",
      "Topic 2: optimization fuzzy algorithm multiobjective problem decision swarm approach genetic evolutionary model hybrid particle new problems selection search programming set algorithms\n",
      "Topic 3: image deep learning detection recognition classification neural feature segmentation images representation network face convolutional object features based sparse machine fusion\n",
      "Topic 4: networks wireless sensor power energy cognitive cellular allocation interference spectrum channels channel radio protocol relay massive mimo ad cooperative communication\n",
      "Topic 5: nonlinear systems control linear equations class boundary equation stability fractional output differential finite order solutions stabilization timevarying input sliding unknown\n",
      "Topic 6: computing cloud smart applications internet special things issue autonomous security iot framework architecture editorial intelligent system big secure section environment\n",
      "Topic 7: social information online knowledge media case role technology factors review use study perspective systematic exploring students evidence behavior software health\n"
     ]
    }
   ],
   "source": [
    "for i in range(0,8):\n",
    "    print(f'Topic {i}:', end=' ')\n",
    "    print(' '.join(ctm3.get_topic_lists(20)[i]))"
   ]
  },
  {
   "cell_type": "markdown",
   "metadata": {
    "id": "vUkWoXRyQZpB"
   },
   "source": [
    "Except topic 0, topic 2 and topic 7, other topics are easy to decide. For example topic 4 includes many keywords related to deep learning, such as \"deep learning\",\"classification\",\"convolutional\". Topic 6 includes many keywords related to cloud computing, such as \"cloud\",\"iot\",\"security\"."
   ]
  },
  {
   "cell_type": "code",
   "execution_count": null,
   "metadata": {
    "colab": {
     "base_uri": "https://localhost:8080/"
    },
    "id": "P6QQPF_vJ4F1",
    "outputId": "096f703d-af8f-44dd-f2dc-94881a328dc0"
   },
   "outputs": [
    {
     "name": "stdout",
     "output_type": "stream",
     "text": [
      "1 : \n",
      "adjustment selforganizing window nested simplified\n",
      "-----------------------------------------------\n",
      "2 Big Data: \n",
      "analysis surface data imaging land\n",
      "-----------------------------------------------\n",
      "3 Optimization: \n",
      "optimization fuzzy algorithm multiobjective problem\n",
      "-----------------------------------------------\n",
      "4 Deep Learning: \n",
      "image deep learning detection recognition\n",
      "-----------------------------------------------\n",
      "5 Networks Science: \n",
      "networks wireless sensor power energy\n",
      "-----------------------------------------------\n",
      "6 Control System: \n",
      "nonlinear systems control linear equations\n",
      "-----------------------------------------------\n",
      "7 Cloud Computing: \n",
      "computing cloud smart applications internet\n",
      "-----------------------------------------------\n",
      "8 Knowledge Discovery: \n",
      "social information online knowledge media\n",
      "-----------------------------------------------\n"
     ]
    }
   ],
   "source": [
    "assigned_topic1=['','Big Data','Optimization','Deep Learning','Networks Science','Control System','Cloud Computing','Knowledge Discovery']\n",
    "for i in range(0,8):\n",
    "    print(str(i+1)+' '+assigned_topic1[i], end=': \\n')\n",
    "    print(' '.join(ctm3.get_topic_lists(5)[i]))\n",
    "    print('-----------------------------------------------')"
   ]
  }
 ],
 "metadata": {
  "accelerator": "GPU",
  "colab": {
   "collapsed_sections": [],
   "include_colab_link": true,
   "machine_shape": "hm",
   "name": "ex06_tm.ipynb",
   "provenance": []
  },
  "kernelspec": {
   "display_name": "Python 3",
   "language": "python",
   "name": "python3"
  },
  "language_info": {
   "codemirror_mode": {
    "name": "ipython",
    "version": 3
   },
   "file_extension": ".py",
   "mimetype": "text/x-python",
   "name": "python",
   "nbconvert_exporter": "python",
   "pygments_lexer": "ipython3",
   "version": "3.8.5"
  },
  "widgets": {
   "application/vnd.jupyter.widget-state+json": {
    "01a115242d4a47d4be518a71cc34f3a7": {
     "model_module": "@jupyter-widgets/controls",
     "model_module_version": "1.5.0",
     "model_name": "HTMLModel",
     "state": {
      "_dom_classes": [],
      "_model_module": "@jupyter-widgets/controls",
      "_model_module_version": "1.5.0",
      "_model_name": "HTMLModel",
      "_view_count": null,
      "_view_module": "@jupyter-widgets/controls",
      "_view_module_version": "1.5.0",
      "_view_name": "HTMLView",
      "description": "",
      "description_tooltip": null,
      "layout": "IPY_MODEL_0a459c8e94d34ddd98be45e494053bc8",
      "placeholder": "​",
      "style": "IPY_MODEL_09d60c1f7bbc47a89bbd184c875e7cef",
      "value": " 197/197 [00:45&lt;00:00,  9.58it/s]"
     }
    },
    "021e16e453934622a13c66b65584bf17": {
     "model_module": "@jupyter-widgets/controls",
     "model_module_version": "1.5.0",
     "model_name": "DescriptionStyleModel",
     "state": {
      "_model_module": "@jupyter-widgets/controls",
      "_model_module_version": "1.5.0",
      "_model_name": "DescriptionStyleModel",
      "_view_count": null,
      "_view_module": "@jupyter-widgets/base",
      "_view_module_version": "1.2.0",
      "_view_name": "StyleView",
      "description_width": ""
     }
    },
    "025ec161f54d49f0acb41b8fd35baa54": {
     "model_module": "@jupyter-widgets/controls",
     "model_module_version": "1.5.0",
     "model_name": "FloatProgressModel",
     "state": {
      "_dom_classes": [],
      "_model_module": "@jupyter-widgets/controls",
      "_model_module_version": "1.5.0",
      "_model_name": "FloatProgressModel",
      "_view_count": null,
      "_view_module": "@jupyter-widgets/controls",
      "_view_module_version": "1.5.0",
      "_view_name": "ProgressView",
      "bar_style": "success",
      "description": "",
      "description_tooltip": null,
      "layout": "IPY_MODEL_abdd82b5a8364eb684e2826f8ae54303",
      "max": 1613,
      "min": 0,
      "orientation": "horizontal",
      "style": "IPY_MODEL_28de010d898249c38bf8d8f3c70aa377",
      "value": 1613
     }
    },
    "03a1b0d01e254821ae0d1a4afb856007": {
     "model_module": "@jupyter-widgets/base",
     "model_module_version": "1.2.0",
     "model_name": "LayoutModel",
     "state": {
      "_model_module": "@jupyter-widgets/base",
      "_model_module_version": "1.2.0",
      "_model_name": "LayoutModel",
      "_view_count": null,
      "_view_module": "@jupyter-widgets/base",
      "_view_module_version": "1.2.0",
      "_view_name": "LayoutView",
      "align_content": null,
      "align_items": null,
      "align_self": null,
      "border": null,
      "bottom": null,
      "display": null,
      "flex": null,
      "flex_flow": null,
      "grid_area": null,
      "grid_auto_columns": null,
      "grid_auto_flow": null,
      "grid_auto_rows": null,
      "grid_column": null,
      "grid_gap": null,
      "grid_row": null,
      "grid_template_areas": null,
      "grid_template_columns": null,
      "grid_template_rows": null,
      "height": null,
      "justify_content": null,
      "justify_items": null,
      "left": null,
      "margin": null,
      "max_height": null,
      "max_width": null,
      "min_height": null,
      "min_width": null,
      "object_fit": null,
      "object_position": null,
      "order": null,
      "overflow": null,
      "overflow_x": null,
      "overflow_y": null,
      "padding": null,
      "right": null,
      "top": null,
      "visibility": null,
      "width": null
     }
    },
    "09d60c1f7bbc47a89bbd184c875e7cef": {
     "model_module": "@jupyter-widgets/controls",
     "model_module_version": "1.5.0",
     "model_name": "DescriptionStyleModel",
     "state": {
      "_model_module": "@jupyter-widgets/controls",
      "_model_module_version": "1.5.0",
      "_model_name": "DescriptionStyleModel",
      "_view_count": null,
      "_view_module": "@jupyter-widgets/base",
      "_view_module_version": "1.2.0",
      "_view_name": "StyleView",
      "description_width": ""
     }
    },
    "0a459c8e94d34ddd98be45e494053bc8": {
     "model_module": "@jupyter-widgets/base",
     "model_module_version": "1.2.0",
     "model_name": "LayoutModel",
     "state": {
      "_model_module": "@jupyter-widgets/base",
      "_model_module_version": "1.2.0",
      "_model_name": "LayoutModel",
      "_view_count": null,
      "_view_module": "@jupyter-widgets/base",
      "_view_module_version": "1.2.0",
      "_view_name": "LayoutView",
      "align_content": null,
      "align_items": null,
      "align_self": null,
      "border": null,
      "bottom": null,
      "display": null,
      "flex": null,
      "flex_flow": null,
      "grid_area": null,
      "grid_auto_columns": null,
      "grid_auto_flow": null,
      "grid_auto_rows": null,
      "grid_column": null,
      "grid_gap": null,
      "grid_row": null,
      "grid_template_areas": null,
      "grid_template_columns": null,
      "grid_template_rows": null,
      "height": null,
      "justify_content": null,
      "justify_items": null,
      "left": null,
      "margin": null,
      "max_height": null,
      "max_width": null,
      "min_height": null,
      "min_width": null,
      "object_fit": null,
      "object_position": null,
      "order": null,
      "overflow": null,
      "overflow_x": null,
      "overflow_y": null,
      "padding": null,
      "right": null,
      "top": null,
      "visibility": null,
      "width": null
     }
    },
    "0c53b42e55f2418eb75b27c459c498f3": {
     "model_module": "@jupyter-widgets/base",
     "model_module_version": "1.2.0",
     "model_name": "LayoutModel",
     "state": {
      "_model_module": "@jupyter-widgets/base",
      "_model_module_version": "1.2.0",
      "_model_name": "LayoutModel",
      "_view_count": null,
      "_view_module": "@jupyter-widgets/base",
      "_view_module_version": "1.2.0",
      "_view_name": "LayoutView",
      "align_content": null,
      "align_items": null,
      "align_self": null,
      "border": null,
      "bottom": null,
      "display": null,
      "flex": null,
      "flex_flow": null,
      "grid_area": null,
      "grid_auto_columns": null,
      "grid_auto_flow": null,
      "grid_auto_rows": null,
      "grid_column": null,
      "grid_gap": null,
      "grid_row": null,
      "grid_template_areas": null,
      "grid_template_columns": null,
      "grid_template_rows": null,
      "height": null,
      "justify_content": null,
      "justify_items": null,
      "left": null,
      "margin": null,
      "max_height": null,
      "max_width": null,
      "min_height": null,
      "min_width": null,
      "object_fit": null,
      "object_position": null,
      "order": null,
      "overflow": null,
      "overflow_x": null,
      "overflow_y": null,
      "padding": null,
      "right": null,
      "top": null,
      "visibility": null,
      "width": null
     }
    },
    "120fc60744b84c34bcf5f7b406b35b1c": {
     "model_module": "@jupyter-widgets/controls",
     "model_module_version": "1.5.0",
     "model_name": "HTMLModel",
     "state": {
      "_dom_classes": [],
      "_model_module": "@jupyter-widgets/controls",
      "_model_module_version": "1.5.0",
      "_model_name": "HTMLModel",
      "_view_count": null,
      "_view_module": "@jupyter-widgets/controls",
      "_view_module_version": "1.5.0",
      "_view_name": "HTMLView",
      "description": "",
      "description_tooltip": null,
      "layout": "IPY_MODEL_f7855ee89a0f4422a9c197aabdaf3545",
      "placeholder": "​",
      "style": "IPY_MODEL_021e16e453934622a13c66b65584bf17",
      "value": "Batches: 100%"
     }
    },
    "1f996e7148ae44aba98f125ed0a73a7f": {
     "model_module": "@jupyter-widgets/base",
     "model_module_version": "1.2.0",
     "model_name": "LayoutModel",
     "state": {
      "_model_module": "@jupyter-widgets/base",
      "_model_module_version": "1.2.0",
      "_model_name": "LayoutModel",
      "_view_count": null,
      "_view_module": "@jupyter-widgets/base",
      "_view_module_version": "1.2.0",
      "_view_name": "LayoutView",
      "align_content": null,
      "align_items": null,
      "align_self": null,
      "border": null,
      "bottom": null,
      "display": null,
      "flex": null,
      "flex_flow": null,
      "grid_area": null,
      "grid_auto_columns": null,
      "grid_auto_flow": null,
      "grid_auto_rows": null,
      "grid_column": null,
      "grid_gap": null,
      "grid_row": null,
      "grid_template_areas": null,
      "grid_template_columns": null,
      "grid_template_rows": null,
      "height": null,
      "justify_content": null,
      "justify_items": null,
      "left": null,
      "margin": null,
      "max_height": null,
      "max_width": null,
      "min_height": null,
      "min_width": null,
      "object_fit": null,
      "object_position": null,
      "order": null,
      "overflow": null,
      "overflow_x": null,
      "overflow_y": null,
      "padding": null,
      "right": null,
      "top": null,
      "visibility": null,
      "width": null
     }
    },
    "23072253719c411e960b31bd43a4076f": {
     "model_module": "@jupyter-widgets/base",
     "model_module_version": "1.2.0",
     "model_name": "LayoutModel",
     "state": {
      "_model_module": "@jupyter-widgets/base",
      "_model_module_version": "1.2.0",
      "_model_name": "LayoutModel",
      "_view_count": null,
      "_view_module": "@jupyter-widgets/base",
      "_view_module_version": "1.2.0",
      "_view_name": "LayoutView",
      "align_content": null,
      "align_items": null,
      "align_self": null,
      "border": null,
      "bottom": null,
      "display": null,
      "flex": null,
      "flex_flow": null,
      "grid_area": null,
      "grid_auto_columns": null,
      "grid_auto_flow": null,
      "grid_auto_rows": null,
      "grid_column": null,
      "grid_gap": null,
      "grid_row": null,
      "grid_template_areas": null,
      "grid_template_columns": null,
      "grid_template_rows": null,
      "height": null,
      "justify_content": null,
      "justify_items": null,
      "left": null,
      "margin": null,
      "max_height": null,
      "max_width": null,
      "min_height": null,
      "min_width": null,
      "object_fit": null,
      "object_position": null,
      "order": null,
      "overflow": null,
      "overflow_x": null,
      "overflow_y": null,
      "padding": null,
      "right": null,
      "top": null,
      "visibility": null,
      "width": null
     }
    },
    "24ae9a9d71d44169aada374f80849d2a": {
     "model_module": "@jupyter-widgets/base",
     "model_module_version": "1.2.0",
     "model_name": "LayoutModel",
     "state": {
      "_model_module": "@jupyter-widgets/base",
      "_model_module_version": "1.2.0",
      "_model_name": "LayoutModel",
      "_view_count": null,
      "_view_module": "@jupyter-widgets/base",
      "_view_module_version": "1.2.0",
      "_view_name": "LayoutView",
      "align_content": null,
      "align_items": null,
      "align_self": null,
      "border": null,
      "bottom": null,
      "display": null,
      "flex": null,
      "flex_flow": null,
      "grid_area": null,
      "grid_auto_columns": null,
      "grid_auto_flow": null,
      "grid_auto_rows": null,
      "grid_column": null,
      "grid_gap": null,
      "grid_row": null,
      "grid_template_areas": null,
      "grid_template_columns": null,
      "grid_template_rows": null,
      "height": null,
      "justify_content": null,
      "justify_items": null,
      "left": null,
      "margin": null,
      "max_height": null,
      "max_width": null,
      "min_height": null,
      "min_width": null,
      "object_fit": null,
      "object_position": null,
      "order": null,
      "overflow": null,
      "overflow_x": null,
      "overflow_y": null,
      "padding": null,
      "right": null,
      "top": null,
      "visibility": null,
      "width": null
     }
    },
    "28de010d898249c38bf8d8f3c70aa377": {
     "model_module": "@jupyter-widgets/controls",
     "model_module_version": "1.5.0",
     "model_name": "ProgressStyleModel",
     "state": {
      "_model_module": "@jupyter-widgets/controls",
      "_model_module_version": "1.5.0",
      "_model_name": "ProgressStyleModel",
      "_view_count": null,
      "_view_module": "@jupyter-widgets/base",
      "_view_module_version": "1.2.0",
      "_view_name": "StyleView",
      "bar_color": null,
      "description_width": ""
     }
    },
    "2cc2238f934c420a828142b1d784a341": {
     "model_module": "@jupyter-widgets/controls",
     "model_module_version": "1.5.0",
     "model_name": "DescriptionStyleModel",
     "state": {
      "_model_module": "@jupyter-widgets/controls",
      "_model_module_version": "1.5.0",
      "_model_name": "DescriptionStyleModel",
      "_view_count": null,
      "_view_module": "@jupyter-widgets/base",
      "_view_module_version": "1.2.0",
      "_view_name": "StyleView",
      "description_width": ""
     }
    },
    "54e16c70253842c09ef71be5c7d52690": {
     "model_module": "@jupyter-widgets/controls",
     "model_module_version": "1.5.0",
     "model_name": "HTMLModel",
     "state": {
      "_dom_classes": [],
      "_model_module": "@jupyter-widgets/controls",
      "_model_module_version": "1.5.0",
      "_model_name": "HTMLModel",
      "_view_count": null,
      "_view_module": "@jupyter-widgets/controls",
      "_view_module_version": "1.5.0",
      "_view_name": "HTMLView",
      "description": "",
      "description_tooltip": null,
      "layout": "IPY_MODEL_24ae9a9d71d44169aada374f80849d2a",
      "placeholder": "​",
      "style": "IPY_MODEL_ce720f5d1d63466fbc98799bc153c154",
      "value": " 3567/3567 [13:50&lt;00:00, 10.39it/s]"
     }
    },
    "6803ac3250cb487b9cb41214765504f5": {
     "model_module": "@jupyter-widgets/controls",
     "model_module_version": "1.5.0",
     "model_name": "HTMLModel",
     "state": {
      "_dom_classes": [],
      "_model_module": "@jupyter-widgets/controls",
      "_model_module_version": "1.5.0",
      "_model_name": "HTMLModel",
      "_view_count": null,
      "_view_module": "@jupyter-widgets/controls",
      "_view_module_version": "1.5.0",
      "_view_name": "HTMLView",
      "description": "",
      "description_tooltip": null,
      "layout": "IPY_MODEL_0c53b42e55f2418eb75b27c459c498f3",
      "placeholder": "​",
      "style": "IPY_MODEL_2cc2238f934c420a828142b1d784a341",
      "value": "Batches: 100%"
     }
    },
    "6daae0fba40d4785948c88f52b7acc7f": {
     "model_module": "@jupyter-widgets/controls",
     "model_module_version": "1.5.0",
     "model_name": "ProgressStyleModel",
     "state": {
      "_model_module": "@jupyter-widgets/controls",
      "_model_module_version": "1.5.0",
      "_model_name": "ProgressStyleModel",
      "_view_count": null,
      "_view_module": "@jupyter-widgets/base",
      "_view_module_version": "1.2.0",
      "_view_name": "StyleView",
      "bar_color": null,
      "description_width": ""
     }
    },
    "84c973b290854beb8765050203c88caa": {
     "model_module": "@jupyter-widgets/controls",
     "model_module_version": "1.5.0",
     "model_name": "ProgressStyleModel",
     "state": {
      "_model_module": "@jupyter-widgets/controls",
      "_model_module_version": "1.5.0",
      "_model_name": "ProgressStyleModel",
      "_view_count": null,
      "_view_module": "@jupyter-widgets/base",
      "_view_module_version": "1.2.0",
      "_view_name": "StyleView",
      "bar_color": null,
      "description_width": ""
     }
    },
    "87c4c0890e0b49368687c25ea33e360c": {
     "model_module": "@jupyter-widgets/controls",
     "model_module_version": "1.5.0",
     "model_name": "HBoxModel",
     "state": {
      "_dom_classes": [],
      "_model_module": "@jupyter-widgets/controls",
      "_model_module_version": "1.5.0",
      "_model_name": "HBoxModel",
      "_view_count": null,
      "_view_module": "@jupyter-widgets/controls",
      "_view_module_version": "1.5.0",
      "_view_name": "HBoxView",
      "box_style": "",
      "children": [
       "IPY_MODEL_975cf009bb644b2b9ba40c61fc407f60",
       "IPY_MODEL_8b959230ad4844ba85131f85ba12afcf",
       "IPY_MODEL_01a115242d4a47d4be518a71cc34f3a7"
      ],
      "layout": "IPY_MODEL_dc233c4cb86a455e96503ba711fda269"
     }
    },
    "8b959230ad4844ba85131f85ba12afcf": {
     "model_module": "@jupyter-widgets/controls",
     "model_module_version": "1.5.0",
     "model_name": "FloatProgressModel",
     "state": {
      "_dom_classes": [],
      "_model_module": "@jupyter-widgets/controls",
      "_model_module_version": "1.5.0",
      "_model_name": "FloatProgressModel",
      "_view_count": null,
      "_view_module": "@jupyter-widgets/controls",
      "_view_module_version": "1.5.0",
      "_view_name": "ProgressView",
      "bar_style": "success",
      "description": "",
      "description_tooltip": null,
      "layout": "IPY_MODEL_03a1b0d01e254821ae0d1a4afb856007",
      "max": 197,
      "min": 0,
      "orientation": "horizontal",
      "style": "IPY_MODEL_6daae0fba40d4785948c88f52b7acc7f",
      "value": 197
     }
    },
    "8bd680bd36a647f1a6b8b38b360cd90f": {
     "model_module": "@jupyter-widgets/controls",
     "model_module_version": "1.5.0",
     "model_name": "HBoxModel",
     "state": {
      "_dom_classes": [],
      "_model_module": "@jupyter-widgets/controls",
      "_model_module_version": "1.5.0",
      "_model_name": "HBoxModel",
      "_view_count": null,
      "_view_module": "@jupyter-widgets/controls",
      "_view_module_version": "1.5.0",
      "_view_name": "HBoxView",
      "box_style": "",
      "children": [
       "IPY_MODEL_6803ac3250cb487b9cb41214765504f5",
       "IPY_MODEL_025ec161f54d49f0acb41b8fd35baa54",
       "IPY_MODEL_eacfff922de445bcbec083da5f58d6dc"
      ],
      "layout": "IPY_MODEL_b35c86c4c62b42dcaa973342b46e2308"
     }
    },
    "975cf009bb644b2b9ba40c61fc407f60": {
     "model_module": "@jupyter-widgets/controls",
     "model_module_version": "1.5.0",
     "model_name": "HTMLModel",
     "state": {
      "_dom_classes": [],
      "_model_module": "@jupyter-widgets/controls",
      "_model_module_version": "1.5.0",
      "_model_name": "HTMLModel",
      "_view_count": null,
      "_view_module": "@jupyter-widgets/controls",
      "_view_module_version": "1.5.0",
      "_view_name": "HTMLView",
      "description": "",
      "description_tooltip": null,
      "layout": "IPY_MODEL_1f996e7148ae44aba98f125ed0a73a7f",
      "placeholder": "​",
      "style": "IPY_MODEL_b63672d2fa8242c795e86367cbe2dd41",
      "value": "Batches: 100%"
     }
    },
    "abdd82b5a8364eb684e2826f8ae54303": {
     "model_module": "@jupyter-widgets/base",
     "model_module_version": "1.2.0",
     "model_name": "LayoutModel",
     "state": {
      "_model_module": "@jupyter-widgets/base",
      "_model_module_version": "1.2.0",
      "_model_name": "LayoutModel",
      "_view_count": null,
      "_view_module": "@jupyter-widgets/base",
      "_view_module_version": "1.2.0",
      "_view_name": "LayoutView",
      "align_content": null,
      "align_items": null,
      "align_self": null,
      "border": null,
      "bottom": null,
      "display": null,
      "flex": null,
      "flex_flow": null,
      "grid_area": null,
      "grid_auto_columns": null,
      "grid_auto_flow": null,
      "grid_auto_rows": null,
      "grid_column": null,
      "grid_gap": null,
      "grid_row": null,
      "grid_template_areas": null,
      "grid_template_columns": null,
      "grid_template_rows": null,
      "height": null,
      "justify_content": null,
      "justify_items": null,
      "left": null,
      "margin": null,
      "max_height": null,
      "max_width": null,
      "min_height": null,
      "min_width": null,
      "object_fit": null,
      "object_position": null,
      "order": null,
      "overflow": null,
      "overflow_x": null,
      "overflow_y": null,
      "padding": null,
      "right": null,
      "top": null,
      "visibility": null,
      "width": null
     }
    },
    "aef261cad4b047cda7ec090e9a6ec9bd": {
     "model_module": "@jupyter-widgets/controls",
     "model_module_version": "1.5.0",
     "model_name": "FloatProgressModel",
     "state": {
      "_dom_classes": [],
      "_model_module": "@jupyter-widgets/controls",
      "_model_module_version": "1.5.0",
      "_model_name": "FloatProgressModel",
      "_view_count": null,
      "_view_module": "@jupyter-widgets/controls",
      "_view_module_version": "1.5.0",
      "_view_name": "ProgressView",
      "bar_style": "success",
      "description": "",
      "description_tooltip": null,
      "layout": "IPY_MODEL_23072253719c411e960b31bd43a4076f",
      "max": 3567,
      "min": 0,
      "orientation": "horizontal",
      "style": "IPY_MODEL_84c973b290854beb8765050203c88caa",
      "value": 3567
     }
    },
    "b35c86c4c62b42dcaa973342b46e2308": {
     "model_module": "@jupyter-widgets/base",
     "model_module_version": "1.2.0",
     "model_name": "LayoutModel",
     "state": {
      "_model_module": "@jupyter-widgets/base",
      "_model_module_version": "1.2.0",
      "_model_name": "LayoutModel",
      "_view_count": null,
      "_view_module": "@jupyter-widgets/base",
      "_view_module_version": "1.2.0",
      "_view_name": "LayoutView",
      "align_content": null,
      "align_items": null,
      "align_self": null,
      "border": null,
      "bottom": null,
      "display": null,
      "flex": null,
      "flex_flow": null,
      "grid_area": null,
      "grid_auto_columns": null,
      "grid_auto_flow": null,
      "grid_auto_rows": null,
      "grid_column": null,
      "grid_gap": null,
      "grid_row": null,
      "grid_template_areas": null,
      "grid_template_columns": null,
      "grid_template_rows": null,
      "height": null,
      "justify_content": null,
      "justify_items": null,
      "left": null,
      "margin": null,
      "max_height": null,
      "max_width": null,
      "min_height": null,
      "min_width": null,
      "object_fit": null,
      "object_position": null,
      "order": null,
      "overflow": null,
      "overflow_x": null,
      "overflow_y": null,
      "padding": null,
      "right": null,
      "top": null,
      "visibility": null,
      "width": null
     }
    },
    "b63672d2fa8242c795e86367cbe2dd41": {
     "model_module": "@jupyter-widgets/controls",
     "model_module_version": "1.5.0",
     "model_name": "DescriptionStyleModel",
     "state": {
      "_model_module": "@jupyter-widgets/controls",
      "_model_module_version": "1.5.0",
      "_model_name": "DescriptionStyleModel",
      "_view_count": null,
      "_view_module": "@jupyter-widgets/base",
      "_view_module_version": "1.2.0",
      "_view_name": "StyleView",
      "description_width": ""
     }
    },
    "ce720f5d1d63466fbc98799bc153c154": {
     "model_module": "@jupyter-widgets/controls",
     "model_module_version": "1.5.0",
     "model_name": "DescriptionStyleModel",
     "state": {
      "_model_module": "@jupyter-widgets/controls",
      "_model_module_version": "1.5.0",
      "_model_name": "DescriptionStyleModel",
      "_view_count": null,
      "_view_module": "@jupyter-widgets/base",
      "_view_module_version": "1.2.0",
      "_view_name": "StyleView",
      "description_width": ""
     }
    },
    "daab05306fda44fd907a16190bed20c9": {
     "model_module": "@jupyter-widgets/controls",
     "model_module_version": "1.5.0",
     "model_name": "DescriptionStyleModel",
     "state": {
      "_model_module": "@jupyter-widgets/controls",
      "_model_module_version": "1.5.0",
      "_model_name": "DescriptionStyleModel",
      "_view_count": null,
      "_view_module": "@jupyter-widgets/base",
      "_view_module_version": "1.2.0",
      "_view_name": "StyleView",
      "description_width": ""
     }
    },
    "daba32049e564920a7747d1d2d837915": {
     "model_module": "@jupyter-widgets/controls",
     "model_module_version": "1.5.0",
     "model_name": "HBoxModel",
     "state": {
      "_dom_classes": [],
      "_model_module": "@jupyter-widgets/controls",
      "_model_module_version": "1.5.0",
      "_model_name": "HBoxModel",
      "_view_count": null,
      "_view_module": "@jupyter-widgets/controls",
      "_view_module_version": "1.5.0",
      "_view_name": "HBoxView",
      "box_style": "",
      "children": [
       "IPY_MODEL_120fc60744b84c34bcf5f7b406b35b1c",
       "IPY_MODEL_aef261cad4b047cda7ec090e9a6ec9bd",
       "IPY_MODEL_54e16c70253842c09ef71be5c7d52690"
      ],
      "layout": "IPY_MODEL_f3aa5561c1d84ce4bc58f28c96a4069b"
     }
    },
    "dc233c4cb86a455e96503ba711fda269": {
     "model_module": "@jupyter-widgets/base",
     "model_module_version": "1.2.0",
     "model_name": "LayoutModel",
     "state": {
      "_model_module": "@jupyter-widgets/base",
      "_model_module_version": "1.2.0",
      "_model_name": "LayoutModel",
      "_view_count": null,
      "_view_module": "@jupyter-widgets/base",
      "_view_module_version": "1.2.0",
      "_view_name": "LayoutView",
      "align_content": null,
      "align_items": null,
      "align_self": null,
      "border": null,
      "bottom": null,
      "display": null,
      "flex": null,
      "flex_flow": null,
      "grid_area": null,
      "grid_auto_columns": null,
      "grid_auto_flow": null,
      "grid_auto_rows": null,
      "grid_column": null,
      "grid_gap": null,
      "grid_row": null,
      "grid_template_areas": null,
      "grid_template_columns": null,
      "grid_template_rows": null,
      "height": null,
      "justify_content": null,
      "justify_items": null,
      "left": null,
      "margin": null,
      "max_height": null,
      "max_width": null,
      "min_height": null,
      "min_width": null,
      "object_fit": null,
      "object_position": null,
      "order": null,
      "overflow": null,
      "overflow_x": null,
      "overflow_y": null,
      "padding": null,
      "right": null,
      "top": null,
      "visibility": null,
      "width": null
     }
    },
    "eacfff922de445bcbec083da5f58d6dc": {
     "model_module": "@jupyter-widgets/controls",
     "model_module_version": "1.5.0",
     "model_name": "HTMLModel",
     "state": {
      "_dom_classes": [],
      "_model_module": "@jupyter-widgets/controls",
      "_model_module_version": "1.5.0",
      "_model_name": "HTMLModel",
      "_view_count": null,
      "_view_module": "@jupyter-widgets/controls",
      "_view_module_version": "1.5.0",
      "_view_name": "HTMLView",
      "description": "",
      "description_tooltip": null,
      "layout": "IPY_MODEL_f41ce41f69dd472a9123c7edce704082",
      "placeholder": "​",
      "style": "IPY_MODEL_daab05306fda44fd907a16190bed20c9",
      "value": " 1613/1613 [06:17&lt;00:00,  8.34it/s]"
     }
    },
    "f3aa5561c1d84ce4bc58f28c96a4069b": {
     "model_module": "@jupyter-widgets/base",
     "model_module_version": "1.2.0",
     "model_name": "LayoutModel",
     "state": {
      "_model_module": "@jupyter-widgets/base",
      "_model_module_version": "1.2.0",
      "_model_name": "LayoutModel",
      "_view_count": null,
      "_view_module": "@jupyter-widgets/base",
      "_view_module_version": "1.2.0",
      "_view_name": "LayoutView",
      "align_content": null,
      "align_items": null,
      "align_self": null,
      "border": null,
      "bottom": null,
      "display": null,
      "flex": null,
      "flex_flow": null,
      "grid_area": null,
      "grid_auto_columns": null,
      "grid_auto_flow": null,
      "grid_auto_rows": null,
      "grid_column": null,
      "grid_gap": null,
      "grid_row": null,
      "grid_template_areas": null,
      "grid_template_columns": null,
      "grid_template_rows": null,
      "height": null,
      "justify_content": null,
      "justify_items": null,
      "left": null,
      "margin": null,
      "max_height": null,
      "max_width": null,
      "min_height": null,
      "min_width": null,
      "object_fit": null,
      "object_position": null,
      "order": null,
      "overflow": null,
      "overflow_x": null,
      "overflow_y": null,
      "padding": null,
      "right": null,
      "top": null,
      "visibility": null,
      "width": null
     }
    },
    "f41ce41f69dd472a9123c7edce704082": {
     "model_module": "@jupyter-widgets/base",
     "model_module_version": "1.2.0",
     "model_name": "LayoutModel",
     "state": {
      "_model_module": "@jupyter-widgets/base",
      "_model_module_version": "1.2.0",
      "_model_name": "LayoutModel",
      "_view_count": null,
      "_view_module": "@jupyter-widgets/base",
      "_view_module_version": "1.2.0",
      "_view_name": "LayoutView",
      "align_content": null,
      "align_items": null,
      "align_self": null,
      "border": null,
      "bottom": null,
      "display": null,
      "flex": null,
      "flex_flow": null,
      "grid_area": null,
      "grid_auto_columns": null,
      "grid_auto_flow": null,
      "grid_auto_rows": null,
      "grid_column": null,
      "grid_gap": null,
      "grid_row": null,
      "grid_template_areas": null,
      "grid_template_columns": null,
      "grid_template_rows": null,
      "height": null,
      "justify_content": null,
      "justify_items": null,
      "left": null,
      "margin": null,
      "max_height": null,
      "max_width": null,
      "min_height": null,
      "min_width": null,
      "object_fit": null,
      "object_position": null,
      "order": null,
      "overflow": null,
      "overflow_x": null,
      "overflow_y": null,
      "padding": null,
      "right": null,
      "top": null,
      "visibility": null,
      "width": null
     }
    },
    "f7855ee89a0f4422a9c197aabdaf3545": {
     "model_module": "@jupyter-widgets/base",
     "model_module_version": "1.2.0",
     "model_name": "LayoutModel",
     "state": {
      "_model_module": "@jupyter-widgets/base",
      "_model_module_version": "1.2.0",
      "_model_name": "LayoutModel",
      "_view_count": null,
      "_view_module": "@jupyter-widgets/base",
      "_view_module_version": "1.2.0",
      "_view_name": "LayoutView",
      "align_content": null,
      "align_items": null,
      "align_self": null,
      "border": null,
      "bottom": null,
      "display": null,
      "flex": null,
      "flex_flow": null,
      "grid_area": null,
      "grid_auto_columns": null,
      "grid_auto_flow": null,
      "grid_auto_rows": null,
      "grid_column": null,
      "grid_gap": null,
      "grid_row": null,
      "grid_template_areas": null,
      "grid_template_columns": null,
      "grid_template_rows": null,
      "height": null,
      "justify_content": null,
      "justify_items": null,
      "left": null,
      "margin": null,
      "max_height": null,
      "max_width": null,
      "min_height": null,
      "min_width": null,
      "object_fit": null,
      "object_position": null,
      "order": null,
      "overflow": null,
      "overflow_x": null,
      "overflow_y": null,
      "padding": null,
      "right": null,
      "top": null,
      "visibility": null,
      "width": null
     }
    }
   }
  }
 },
 "nbformat": 4,
 "nbformat_minor": 4
}
