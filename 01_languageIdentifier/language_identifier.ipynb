{
  "cells": [
    {
      "cell_type": "markdown",
      "metadata": {
        "id": "2f5ZNc1MNIyq"
      },
      "source": [
        "# Language Identification \n",
        "\n",
        "goal : Implement a language identifier that can detect the language of tweets.  \n",
        "\n",
        "We will train with tree different models : 1. SGC classifier (SVM, L2 regularizer), 2. Multinomial Naive Bayse classifer and 3. Multi layer perceptron and compare their F1 score. To find best model, we will try out different combination of hyperparemeter using grid search. Finally, we will evaluate the model accuracy with confusion matrix. "
      ]
    },
    {
      "cell_type": "code",
      "execution_count": 1,
      "metadata": {
        "colab": {
          "base_uri": "https://localhost:8080/"
        },
        "id": "UgM7VEXCdbTX",
        "outputId": "0de282b7-7203-41e6-b983-317f668f662d"
      },
      "outputs": [
        {
          "output_type": "stream",
          "name": "stdout",
          "text": [
            "Mounted at /content/drive\n"
          ]
        }
      ],
      "source": [
        "import pandas as pd\n",
        "import numpy as np\n",
        "import csv\n",
        "import re\n",
        "import string\n",
        "from collections import defaultdict\n",
        "from google.colab import drive\n",
        "drive.mount('/content/drive')"
      ]
    },
    {
      "cell_type": "markdown",
      "metadata": {
        "id": "WEtmPp7epxEZ"
      },
      "source": [
        "### 1. Load dataset \n",
        "\n",
        "Let's get the dataset using native REST API and load it as a dataframe using pandas"
      ]
    },
    {
      "cell_type": "code",
      "execution_count": 2,
      "metadata": {
        "id": "1BTTm7E7hz51"
      },
      "outputs": [],
      "source": [
        "url_train_dev = 'https://docs.google.com/spreadsheets/d/e/2PACX-1vTOZ2rC82rhNsJduoyKYTsVeH6ukd7Bpxvxn_afOibn3R-eadZGXu82eCU9IRpl4CK_gefEGsYrA_oM/pub?gid=1863430984&single=true&output=tsv'\n",
        "url_test = 'https://docs.google.com/spreadsheets/d/e/2PACX-1vT-KNR9nuYatLkSbzSRgpz6Ku1n4TN4w6kKmFLkA6QJHTfQzmX0puBsLF7PAAQJQAxUpgruDd_RRgK7/pub?gid=417546901&single=true&output=tsv'"
      ]
    },
    {
      "cell_type": "code",
      "execution_count": 3,
      "metadata": {
        "id": "5D8w9zd1c2IJ"
      },
      "outputs": [],
      "source": [
        "from io import StringIO\n",
        "import requests\n",
        "\n",
        "def load_dataset(url):\n",
        "    r = requests.get(url)\n",
        "    data = r.content.decode('utf8')\n",
        "    df = pd.read_csv(StringIO(data), sep='\\t')\n",
        "    df.columns = ['tweet', 'label']\n",
        "    return df"
      ]
    },
    {
      "cell_type": "code",
      "execution_count": 4,
      "metadata": {
        "id": "DNg0hoBsc5wL"
      },
      "outputs": [],
      "source": [
        "df_train_dev = load_dataset(url_train_dev)\n",
        "df_test = load_dataset(url_test)"
      ]
    },
    {
      "cell_type": "markdown",
      "metadata": {
        "id": "hm8oSC4uNIyy"
      },
      "source": [
        "### 2. Inspect dataset"
      ]
    },
    {
      "cell_type": "code",
      "execution_count": 5,
      "metadata": {
        "colab": {
          "base_uri": "https://localhost:8080/"
        },
        "id": "KWTvXPPgiDzU",
        "outputId": "5ce3be03-12d5-4586-8d79-9bc5816cba26"
      },
      "outputs": [
        {
          "output_type": "stream",
          "name": "stdout",
          "text": [
            "Infos train-dev-set:\n",
            "<class 'pandas.core.frame.DataFrame'>\n",
            "RangeIndex: 52675 entries, 0 to 52674\n",
            "Data columns (total 2 columns):\n",
            " #   Column  Non-Null Count  Dtype \n",
            "---  ------  --------------  ----- \n",
            " 0   tweet   52675 non-null  object\n",
            " 1   label   52675 non-null  object\n",
            "dtypes: object(2)\n",
            "memory usage: 823.2+ KB\n",
            "None\n"
          ]
        }
      ],
      "source": [
        "print('Infos train-dev-set:')\n",
        "print(df_train_dev.info())"
      ]
    },
    {
      "cell_type": "code",
      "execution_count": 6,
      "metadata": {
        "colab": {
          "base_uri": "https://localhost:8080/",
          "height": 206
        },
        "id": "h8lCjkb_kSOp",
        "outputId": "4d8d233e-55c7-4eee-a161-5641bd6e6756"
      },
      "outputs": [
        {
          "output_type": "execute_result",
          "data": {
            "text/plain": [
              "                                               tweet label\n",
              "0  يا من أناديها ويخنقني البكاء  ويكاد صمت الدمع ...    ar\n",
              "1  فيه فرق بين اهل غزة اللى مطحونين من ناحيتين وب...    ar\n",
              "2  ﻋﻦ ﺍﻟﻠﺤﻈﺔ اﻟﺤﻠﻮﺓﺓ ﺍﻟﻠﻲ ﺑﺘﻐﻤﺾ ﻓﻴﻬﺎ ﻋﻴﻨﻴﻚ ﺑﺘﻔﻜﺮ ...    ar\n",
              "3                                  يا ابو سلو عرفتني    ar\n",
              "4  ب50 ريال أكفل معتمر في رمضان ، ولك بإذن الله م...    ar"
            ],
            "text/html": [
              "\n",
              "  <div id=\"df-1ebc67e8-1a15-4aad-b908-eeb16f7db822\">\n",
              "    <div class=\"colab-df-container\">\n",
              "      <div>\n",
              "<style scoped>\n",
              "    .dataframe tbody tr th:only-of-type {\n",
              "        vertical-align: middle;\n",
              "    }\n",
              "\n",
              "    .dataframe tbody tr th {\n",
              "        vertical-align: top;\n",
              "    }\n",
              "\n",
              "    .dataframe thead th {\n",
              "        text-align: right;\n",
              "    }\n",
              "</style>\n",
              "<table border=\"1\" class=\"dataframe\">\n",
              "  <thead>\n",
              "    <tr style=\"text-align: right;\">\n",
              "      <th></th>\n",
              "      <th>tweet</th>\n",
              "      <th>label</th>\n",
              "    </tr>\n",
              "  </thead>\n",
              "  <tbody>\n",
              "    <tr>\n",
              "      <th>0</th>\n",
              "      <td>يا من أناديها ويخنقني البكاء  ويكاد صمت الدمع ...</td>\n",
              "      <td>ar</td>\n",
              "    </tr>\n",
              "    <tr>\n",
              "      <th>1</th>\n",
              "      <td>فيه فرق بين اهل غزة اللى مطحونين من ناحيتين وب...</td>\n",
              "      <td>ar</td>\n",
              "    </tr>\n",
              "    <tr>\n",
              "      <th>2</th>\n",
              "      <td>ﻋﻦ ﺍﻟﻠﺤﻈﺔ اﻟﺤﻠﻮﺓﺓ ﺍﻟﻠﻲ ﺑﺘﻐﻤﺾ ﻓﻴﻬﺎ ﻋﻴﻨﻴﻚ ﺑﺘﻔﻜﺮ ...</td>\n",
              "      <td>ar</td>\n",
              "    </tr>\n",
              "    <tr>\n",
              "      <th>3</th>\n",
              "      <td>يا ابو سلو عرفتني</td>\n",
              "      <td>ar</td>\n",
              "    </tr>\n",
              "    <tr>\n",
              "      <th>4</th>\n",
              "      <td>ب50 ريال أكفل معتمر في رمضان ، ولك بإذن الله م...</td>\n",
              "      <td>ar</td>\n",
              "    </tr>\n",
              "  </tbody>\n",
              "</table>\n",
              "</div>\n",
              "      <button class=\"colab-df-convert\" onclick=\"convertToInteractive('df-1ebc67e8-1a15-4aad-b908-eeb16f7db822')\"\n",
              "              title=\"Convert this dataframe to an interactive table.\"\n",
              "              style=\"display:none;\">\n",
              "        \n",
              "  <svg xmlns=\"http://www.w3.org/2000/svg\" height=\"24px\"viewBox=\"0 0 24 24\"\n",
              "       width=\"24px\">\n",
              "    <path d=\"M0 0h24v24H0V0z\" fill=\"none\"/>\n",
              "    <path d=\"M18.56 5.44l.94 2.06.94-2.06 2.06-.94-2.06-.94-.94-2.06-.94 2.06-2.06.94zm-11 1L8.5 8.5l.94-2.06 2.06-.94-2.06-.94L8.5 2.5l-.94 2.06-2.06.94zm10 10l.94 2.06.94-2.06 2.06-.94-2.06-.94-.94-2.06-.94 2.06-2.06.94z\"/><path d=\"M17.41 7.96l-1.37-1.37c-.4-.4-.92-.59-1.43-.59-.52 0-1.04.2-1.43.59L10.3 9.45l-7.72 7.72c-.78.78-.78 2.05 0 2.83L4 21.41c.39.39.9.59 1.41.59.51 0 1.02-.2 1.41-.59l7.78-7.78 2.81-2.81c.8-.78.8-2.07 0-2.86zM5.41 20L4 18.59l7.72-7.72 1.47 1.35L5.41 20z\"/>\n",
              "  </svg>\n",
              "      </button>\n",
              "      \n",
              "  <style>\n",
              "    .colab-df-container {\n",
              "      display:flex;\n",
              "      flex-wrap:wrap;\n",
              "      gap: 12px;\n",
              "    }\n",
              "\n",
              "    .colab-df-convert {\n",
              "      background-color: #E8F0FE;\n",
              "      border: none;\n",
              "      border-radius: 50%;\n",
              "      cursor: pointer;\n",
              "      display: none;\n",
              "      fill: #1967D2;\n",
              "      height: 32px;\n",
              "      padding: 0 0 0 0;\n",
              "      width: 32px;\n",
              "    }\n",
              "\n",
              "    .colab-df-convert:hover {\n",
              "      background-color: #E2EBFA;\n",
              "      box-shadow: 0px 1px 2px rgba(60, 64, 67, 0.3), 0px 1px 3px 1px rgba(60, 64, 67, 0.15);\n",
              "      fill: #174EA6;\n",
              "    }\n",
              "\n",
              "    [theme=dark] .colab-df-convert {\n",
              "      background-color: #3B4455;\n",
              "      fill: #D2E3FC;\n",
              "    }\n",
              "\n",
              "    [theme=dark] .colab-df-convert:hover {\n",
              "      background-color: #434B5C;\n",
              "      box-shadow: 0px 1px 3px 1px rgba(0, 0, 0, 0.15);\n",
              "      filter: drop-shadow(0px 1px 2px rgba(0, 0, 0, 0.3));\n",
              "      fill: #FFFFFF;\n",
              "    }\n",
              "  </style>\n",
              "\n",
              "      <script>\n",
              "        const buttonEl =\n",
              "          document.querySelector('#df-1ebc67e8-1a15-4aad-b908-eeb16f7db822 button.colab-df-convert');\n",
              "        buttonEl.style.display =\n",
              "          google.colab.kernel.accessAllowed ? 'block' : 'none';\n",
              "\n",
              "        async function convertToInteractive(key) {\n",
              "          const element = document.querySelector('#df-1ebc67e8-1a15-4aad-b908-eeb16f7db822');\n",
              "          const dataTable =\n",
              "            await google.colab.kernel.invokeFunction('convertToInteractive',\n",
              "                                                     [key], {});\n",
              "          if (!dataTable) return;\n",
              "\n",
              "          const docLinkHtml = 'Like what you see? Visit the ' +\n",
              "            '<a target=\"_blank\" href=https://colab.research.google.com/notebooks/data_table.ipynb>data table notebook</a>'\n",
              "            + ' to learn more about interactive tables.';\n",
              "          element.innerHTML = '';\n",
              "          dataTable['output_type'] = 'display_data';\n",
              "          await google.colab.output.renderOutput(dataTable, element);\n",
              "          const docLink = document.createElement('div');\n",
              "          docLink.innerHTML = docLinkHtml;\n",
              "          element.appendChild(docLink);\n",
              "        }\n",
              "      </script>\n",
              "    </div>\n",
              "  </div>\n",
              "  "
            ]
          },
          "metadata": {},
          "execution_count": 6
        }
      ],
      "source": [
        "df_train_dev.head()"
      ]
    },
    {
      "cell_type": "code",
      "execution_count": 7,
      "metadata": {
        "colab": {
          "base_uri": "https://localhost:8080/"
        },
        "id": "p-K1HUEordhz",
        "outputId": "d6a6ece7-4262-4d79-c758-f1377eca6c96"
      },
      "outputs": [
        {
          "output_type": "stream",
          "name": "stdout",
          "text": [
            "['ar' 'ar_LATN' 'az' 'bg' 'bn' 'bs' 'ca' 'cs' 'cy' 'da' 'de' 'dv' 'el'\n",
            " 'en' 'es' 'et' 'fa' 'fi' 'fr' 'gl' 'ha' 'he' 'hi' 'hi-Latn' 'hr' 'ht'\n",
            " 'hu' 'hy' 'id' 'is' 'it' 'ja' 'ja_LATN' 'jv' 'km' 'ko' 'ko_LATN' 'ms'\n",
            " 'ne' 'nl' 'no' 'pl' 'ps' 'ps_LATN' 'pt' 'ro' 'ru' 'si' 'sl' 'sq' 'sr'\n",
            " 'su' 'sv' 'sw' 'ta' 'ta_LATN' 'th' 'tl' 'tn' 'tr' 'uk' 'und' 'ur'\n",
            " 'ur_LATN' 'vi' 'wo' 'xh' 'zh-CN' 'zh-TW']\n",
            "69\n"
          ]
        }
      ],
      "source": [
        "# check the number of languages (label) in the datset \n",
        "\n",
        "print(df_train_dev.label.unique())\n",
        "print(len(df_train_dev.label.unique()))"
      ]
    },
    {
      "cell_type": "code",
      "execution_count": 8,
      "metadata": {
        "colab": {
          "base_uri": "https://localhost:8080/",
          "height": 384
        },
        "id": "mok54OinmXQw",
        "outputId": "d5c8d3d4-2d8c-42da-e7f2-d9f01ae6cd2d"
      },
      "outputs": [
        {
          "output_type": "execute_result",
          "data": {
            "text/plain": [
              "<matplotlib.axes._subplots.AxesSubplot at 0x7f2deb200810>"
            ]
          },
          "metadata": {},
          "execution_count": 8
        },
        {
          "output_type": "display_data",
          "data": {
            "text/plain": [
              "<Figure size 1440x360 with 1 Axes>"
            ],
            "image/png": "[encoded data removed]"
          },
          "metadata": {
            "needs_background": "light"
          }
        }
      ],
      "source": [
        "# check the language distribution with bar chart \n",
        "\n",
        "df_train_dev.groupby('label').size().sort_values(ascending = False).plot.bar(figsize=(20, 5))"
      ]
    },
    {
      "cell_type": "code",
      "execution_count": 9,
      "metadata": {
        "colab": {
          "base_uri": "https://localhost:8080/"
        },
        "id": "3f24YMQAz44u",
        "outputId": "4c76b908-514b-4678-b7ee-2a6389e1eba4"
      },
      "outputs": [
        {
          "output_type": "execute_result",
          "data": {
            "text/plain": [
              "label\n",
              "en         18508\n",
              "ja         10421\n",
              "es          5930\n",
              "und         4537\n",
              "id          3006\n",
              "           ...  \n",
              "tn             1\n",
              "dv             1\n",
              "ta_LATN        1\n",
              "si             1\n",
              "ko_LATN        1\n",
              "Length: 69, dtype: int64"
            ]
          },
          "metadata": {},
          "execution_count": 9
        }
      ],
      "source": [
        "df_train_dev.groupby('label').size().sort_values(ascending = False)"
      ]
    },
    {
      "cell_type": "markdown",
      "source": [
        "We can confirm that there is huge class imbalance between top 10 classes and the rest of them. One way to resolve this is unifying very rare classes (e.g. class with one member) and upsampling them."
      ],
      "metadata": {
        "id": "KCB8qF9FONZF"
      }
    },
    {
      "cell_type": "markdown",
      "metadata": {
        "id": "bHJz9Unop3tN"
      },
      "source": [
        "### 3. Balancing classes "
      ]
    },
    {
      "cell_type": "code",
      "execution_count": 10,
      "metadata": {
        "id": "8dBdrBI_d6pD"
      },
      "outputs": [],
      "source": [
        "# df_train_dev['label'] = df_train_dev['label'].apply(lambda x: x.strip().lower())\n",
        "# df_test['label'] = df_test['label'].apply(lambda x: x.strip().lower())"
      ]
    },
    {
      "cell_type": "code",
      "execution_count": 11,
      "metadata": {
        "id": "-KSwSCy_OY_r"
      },
      "outputs": [],
      "source": [
        "def unify_singleton_classes(df, threshold):\n",
        "    counts = df['label'].value_counts()\n",
        "    rare_labels = [label for label in counts[counts < threshold].index]\n",
        "    df.loc[(df.label.isin(rare_labels)), 'label'] = 'und'\n",
        "    return df\n",
        "\n",
        "df_train_dev_uni = unify_singleton_classes(df_train_dev, 3)"
      ]
    },
    {
      "cell_type": "code",
      "execution_count": 12,
      "metadata": {
        "id": "XdSkUrZueMU1"
      },
      "outputs": [],
      "source": [
        "from sklearn.utils import resample\n",
        "\n",
        "def upsample_rare_classes(df, threshold, sample_size):\n",
        "    \"\"\"Copy low frequent Tweets of languages, that have a number \n",
        "    of tweets below a certain threshold.\n",
        "    \n",
        "    :param data_train: dataframe\n",
        "    :param threshold: int\n",
        "    :param sample_size: int\n",
        "    \"\"\"\n",
        "    class_counts = defaultdict(int)\n",
        "    classes_to_upsample = set()\n",
        "    for index, row in df.iterrows():\n",
        "        class_counts[row['label']] += 1\n",
        "    for label, count in class_counts.items():\n",
        "        if count < threshold:\n",
        "            classes_to_upsample.add(label)\n",
        "    df_to_upsample = df[df['label'].isin(classes_to_upsample)]\n",
        "    upsampled_classes = pd.DataFrame(resample(df_to_upsample.to_numpy(), replace=True, n_samples=sample_size, random_state=42))\n",
        "    upsampled_classes.columns = ['tweet', 'label']\n",
        "    return pd.concat([df, upsampled_classes]).sample(frac=1)\n",
        "\n",
        "df_train_dev_up = upsample_rare_classes(df=df_train_dev_uni, threshold=50, sample_size=2000)"
      ]
    },
    {
      "cell_type": "code",
      "execution_count": 13,
      "metadata": {
        "colab": {
          "base_uri": "https://localhost:8080/"
        },
        "id": "Yg7Ot2RWeVHj",
        "outputId": "65e1b797-0278-43e3-f8d7-8ddfbaa365e2"
      },
      "outputs": [
        {
          "output_type": "stream",
          "name": "stdout",
          "text": [
            "(52675, 2)\n",
            "(54675, 2)\n"
          ]
        }
      ],
      "source": [
        "print(df_train_dev.shape)\n",
        "print(df_train_dev_up.shape)"
      ]
    },
    {
      "cell_type": "markdown",
      "metadata": {
        "id": "1qxb9qeRprB8"
      },
      "source": [
        "### 4. Label encoding"
      ]
    },
    {
      "cell_type": "code",
      "execution_count": 14,
      "metadata": {
        "id": "8FwgxNUdngK1"
      },
      "outputs": [],
      "source": [
        "from sklearn.preprocessing import LabelEncoder\n",
        "le_fitted = LabelEncoder().fit(df_train_dev_up['label'])"
      ]
    },
    {
      "cell_type": "code",
      "execution_count": 15,
      "metadata": {
        "colab": {
          "base_uri": "https://localhost:8080/"
        },
        "id": "2V6JkOLrn-75",
        "outputId": "558b0ac7-4c43-488f-a20a-a57f36f39573"
      },
      "outputs": [
        {
          "output_type": "stream",
          "name": "stdout",
          "text": [
            "[]\n"
          ]
        }
      ],
      "source": [
        "# map all classes that are not in train_dev to undefined\n",
        "for i, label in enumerate(df_test['label']):\n",
        "    df_test['label'][i] = 'und' if label not in le_fitted.classes_ else label\n",
        "    \n",
        "# check if it worked: should return an empty list\n",
        "print([label for label in df_test['label'] if label not in set(df_train_dev_up['label'])])"
      ]
    },
    {
      "cell_type": "code",
      "execution_count": 16,
      "metadata": {
        "id": "EV6KmRn4oOIF"
      },
      "outputs": [],
      "source": [
        "y_train_dev, y_test = le_fitted.transform(df_train_dev_up['label']), le_fitted.transform(df_test['label'])"
      ]
    },
    {
      "cell_type": "markdown",
      "metadata": {
        "id": "-0gShv_UsLiZ"
      },
      "source": [
        "### 5. Preprocess Tweets data \n",
        "\n",
        "* **Normalization** : clean the tweets by removing puntuation, newlines, white space and make them lowercase \n",
        "\n",
        "* **Feature extraction** : build bigram, compute vowel/consonant ratio, capitalization ration and count frequency of double characters\n",
        "\n",
        "* **Count vectorizer** : Convert a collection of text documents to a matrix of token counts\n",
        "\n",
        "* **one-hot encoding** : "
      ]
    },
    {
      "cell_type": "markdown",
      "metadata": {
        "id": "93UMrd5BtL-B"
      },
      "source": [
        "Pipeline classes:"
      ]
    },
    {
      "cell_type": "code",
      "execution_count": 17,
      "metadata": {
        "id": "M6iOls7ib_-H"
      },
      "outputs": [],
      "source": [
        "from sklearn.base import BaseEstimator, TransformerMixin\n",
        "from sklearn.preprocessing import MinMaxScaler\n",
        "from sklearn.preprocessing import OneHotEncoder\n",
        "\n",
        "\n",
        "class TweetNormalizer(BaseEstimator, TransformerMixin):\n",
        "\n",
        "    def __init__(self):\n",
        "        pass\n",
        "    \n",
        "    def fit(self, X, y=None):\n",
        "        return self \n",
        "\n",
        "    def _normalize_tweet(self, tweet):\n",
        "        \"\"\"Remove punctuation and newlines, lowercase, pad with spaces.\n",
        "\n",
        "        :param tweet: string\n",
        "        :return: normalized string\n",
        "        \"\"\"\n",
        "        tweet = tweet.translate(str.maketrans('', '', string.punctuation))\n",
        "        tweet = re.sub(r'\\n', r'', tweet)\n",
        "        tweet = tweet.lower()\n",
        "        tweet = re.sub(r'@\\w+\\b', r'', tweet)\n",
        "        tweet = re.sub(r'\\b\\S+//\\S+\\b', r'', tweet)\n",
        "        # tweet = ' ' + tweet + ' '\n",
        "        return tweet\n",
        "    \n",
        "    def transform(self, X, y=None):\n",
        "        tweets = []\n",
        "        for tweet in X:\n",
        "            tweets.append(self._normalize_tweet(tweet))\n",
        "        return np.array(tweets)\n",
        "\n",
        "\n",
        "class FeatureExtractor(BaseEstimator, TransformerMixin):\n",
        "\n",
        "\n",
        "    vowels = set([c for c in 'aeiouäöüàéèëï'])\n",
        "    consonants = set([c for c in 'bcdfghklmnlpqrstvwxyz'])\n",
        "\n",
        "    def __init__(self):\n",
        "        self.scaler = MinMaxScaler()\n",
        "\n",
        "    def _to_bigrams(self, tweet):\n",
        "        return [bg[0] + bg[1] for bg in zip(tweet, tweet[1:])]\n",
        "\n",
        "    def _get_vowel_consonant_ratio(self, tweet):\n",
        "        vf = 0\n",
        "        cf = 0\n",
        "        for c in tweet.lower():\n",
        "            if c in self.vowels:\n",
        "                vf =+ 1\n",
        "            elif c in self.consonants:\n",
        "                cf += 1\n",
        "        return vf / (cf + 1)\n",
        "\n",
        "    def _get_capitalization_ratio(self, tweet):\n",
        "        up_count = 0\n",
        "        for c in tweet:\n",
        "            if c.upper() == c:\n",
        "                up_count += 1\n",
        "        return up_count / (len(tweet) + 1)\n",
        "\n",
        "    def _get_double_char_freq(self, tweet):\n",
        "        double_freq = 0\n",
        "        for bg in self._to_bigrams(tweet):\n",
        "            if bg[0] == bg[1]:\n",
        "                double_freq += 1\n",
        "        return double_freq\n",
        "    \n",
        "    def _extract_num_features(self, tweets):\n",
        "        num_features = []\n",
        "        for tweet in tweets:\n",
        "            feat_tweet = []\n",
        "            feat_tweet.append(self._get_vowel_consonant_ratio(tweet))\n",
        "            feat_tweet.append(self._get_capitalization_ratio(tweet))\n",
        "            feat_tweet.append(self._get_double_char_freq(tweet))\n",
        "            num_features.append(feat_tweet)\n",
        "        return np.array(num_features)\n",
        "    \n",
        "    def fit(self, X, y=None):\n",
        "        numerical_features = self._extract_num_features(X)\n",
        "        self.scaler.fit(numerical_features)\n",
        "        return self\n",
        "    \n",
        "    def transform(self, X, y=None):\n",
        "        numerical_features= self._extract_num_features(X)\n",
        "        return X, self.scaler.transform(numerical_features)\n",
        "\n",
        "\n",
        "class MatrixToArrayConverter1(BaseEstimator, TransformerMixin):\n",
        "\n",
        "    def __init__(self):\n",
        "        pass\n",
        "    \n",
        "    def fit(self, X, y=None):\n",
        "        return self\n",
        "    \n",
        "    def transform(self, X, y=None):\n",
        "        return X[0].toarray(), X[1]\n",
        "\n",
        "\n",
        "class MatrixUnifier(BaseEstimator, TransformerMixin):\n",
        "\n",
        "    def __init__(self):\n",
        "        pass\n",
        "    \n",
        "    def fit(self, X, y=None):\n",
        "        return self\n",
        "    \n",
        "    def transform(self, X, y=None):\n",
        "        return np.concatenate([X[0].todense(), X[1]], axis=1)\n",
        "\n",
        "\n",
        "class CountVectorizerWrapper:\n",
        "\n",
        "    def __init__(self, ngram_range, analyzer, max_features, binary):\n",
        "        print('args:', str([ngram_range, analyzer, max_features, binary]))\n",
        "        self.countvec = CountVectorizer(ngram_range=ngram_range, analyzer=analyzer, max_features=max_features, binary=binary)\n",
        "    \n",
        "    def fit(self, X, y=None):\n",
        "        tweets, numerical_features = X\n",
        "        self.countvec.fit(tweets)\n",
        "        return self\n",
        "    \n",
        "    def transform(self, X, y=None):\n",
        "        tweets, numerical_features = X\n",
        "        return self.countvec.transform(tweets), numerical_features\n",
        "\n",
        "\n",
        "class OneHotEncoderWrapper:\n",
        "\n",
        "    def __init__(self, handle_unknown):\n",
        "        self.ohe = OneHotEncoder(handle_unknown=handle_unknown)\n",
        "    \n",
        "    def fit(self, X, y=None):\n",
        "        self.ohe.fit(X[0])\n",
        "        return self\n",
        "    \n",
        "    def transform(self, X, y=None):\n",
        "        return self.ohe.transform(X[0]), X[1]\n"
      ]
    },
    {
      "cell_type": "markdown",
      "metadata": {
        "id": "s3gvmuUPtS5j"
      },
      "source": [
        "Helper classes for the pipeline:"
      ]
    },
    {
      "cell_type": "code",
      "execution_count": 18,
      "metadata": {
        "id": "asuv2Ey8suTF"
      },
      "outputs": [],
      "source": [
        "class GenericClassifier(BaseEstimator):\n",
        "\n",
        "    def __init__(self, estimator):\n",
        "        self.clf = clf\n",
        "\n",
        "\n",
        "    def fit(self, X, y=None, **kwargs):\n",
        "        self.clf.fit(X, y)\n",
        "        return self\n",
        "\n",
        "\n",
        "    def predict(self, X, y=None):\n",
        "        return self.clf.predict(X)\n",
        "\n",
        "\n",
        "    def predict_proba(self, X):\n",
        "        return self.clf.predict_proba(X)\n",
        "\n",
        "\n",
        "    def score(self, X, y):\n",
        "        return self.clf.score(X, y)\n",
        "\n",
        "\n",
        "class Debug(BaseEstimator, TransformerMixin):\n",
        "\n",
        "    def transform(self, X):\n",
        "        import pdb; pdb.set_trace()\n",
        "        return X\n",
        "\n",
        "    def fit(self, X, y=None, **fit_params):\n",
        "        return self"
      ]
    },
    {
      "cell_type": "markdown",
      "metadata": {
        "id": "yerRC06qtabm"
      },
      "source": [
        "### 6. Training with GridSearch \n",
        "\n",
        "Try different hyperparameter to acheive optimal model using GridSearch\n",
        "\n",
        "https://scikit-learn.org/stable/modules/generated/sklearn.model_selection.GridSearchCV.html"
      ]
    },
    {
      "cell_type": "code",
      "execution_count": 22,
      "metadata": {
        "id": "uQq5eigQKi2D"
      },
      "outputs": [],
      "source": [
        "from sklearn.model_selection import GridSearchCV\n",
        "from sklearn.pipeline import Pipeline\n",
        "from sklearn.feature_extraction.text import CountVectorizer\n",
        "from sklearn.naive_bayes import MultinomialNB\n",
        "from sklearn.linear_model import SGDClassifier\n",
        "from sklearn.neural_network import MLPClassifier"
      ]
    },
    {
      "cell_type": "code",
      "execution_count": 25,
      "metadata": {
        "id": "4pDxK9slayq3"
      },
      "outputs": [],
      "source": [
        "clf_param_grid = {\n",
        "    'MultinomialNB': [MultinomialNB, {'CLF__alpha': [0.1, 1]}],\n",
        "    'SGDClassifier': [SGDClassifier, {'CLF__loss': ['hinge', 'log'], 'CLF__penalty': ['l2', 'l1'], 'CLF__max_iter': [100, 300], 'CLF__early_stopping': [True, False]}],\n",
        "    'MLPClassifier': [MLPClassifier, {'CLF__hidden_layer_sizes': (50, 100),'CLF__max_iter': (20,),'CLF__activation': ('logistic', 'relu'),'CLF__solver': ('sgd', 'adam'),'CLF__early_stopping': (True, False),}]\n",
        "}"
      ]
    },
    {
      "cell_type": "code",
      "execution_count": 26,
      "metadata": {
        "id": "YOsRd7OoFUWn",
        "colab": {
          "base_uri": "https://localhost:8080/"
        },
        "outputId": "277199f7-cfbb-4b73-a975-4d47d697b784"
      },
      "outputs": [
        {
          "output_type": "stream",
          "name": "stdout",
          "text": [
            "------------------------------\n",
            "MultinomialNB\n",
            "{'CLF__alpha': [0.1, 1]}\n",
            "args: [(2, 2), 'char_wb', 100, True]\n",
            "[Pipeline] ... (step 1 of 7) Processing TweetNormalizer, total=   1.5s\n",
            "[Pipeline] .. (step 2 of 7) Processing FeatureExtractor, total=   5.1s\n",
            "[Pipeline] .. (step 3 of 7) Processing BigramVectorizer, total=   6.6s\n",
            "[Pipeline]  (step 4 of 7) Processing MatrixToArrayConverter, total=   0.0s\n",
            "[Pipeline] ..... (step 5 of 7) Processing OneHotEncoder, total=   0.4s\n",
            "[Pipeline] ..... (step 6 of 7) Processing MatrixUnifier, total=   0.1s\n",
            "[Pipeline] ............... (step 7 of 7) Processing CLF, total=   0.1s\n"
          ]
        },
        {
          "output_type": "stream",
          "name": "stderr",
          "text": [
            "/usr/local/lib/python3.7/dist-packages/sklearn/utils/validation.py:598: FutureWarning: np.matrix usage is deprecated in 1.0 and will raise a TypeError in 1.2. Please convert to a numpy array with np.asarray. For more information see: https://numpy.org/doc/stable/reference/generated/numpy.matrix.html\n",
            "  FutureWarning,\n",
            "/usr/local/lib/python3.7/dist-packages/sklearn/utils/validation.py:598: FutureWarning: np.matrix usage is deprecated in 1.0 and will raise a TypeError in 1.2. Please convert to a numpy array with np.asarray. For more information see: https://numpy.org/doc/stable/reference/generated/numpy.matrix.html\n",
            "  FutureWarning,\n"
          ]
        },
        {
          "output_type": "stream",
          "name": "stdout",
          "text": [
            "[Pipeline] ... (step 1 of 7) Processing TweetNormalizer, total=   1.1s\n",
            "[Pipeline] .. (step 2 of 7) Processing FeatureExtractor, total=   5.0s\n",
            "[Pipeline] .. (step 3 of 7) Processing BigramVectorizer, total=   6.5s\n",
            "[Pipeline]  (step 4 of 7) Processing MatrixToArrayConverter, total=   0.0s\n",
            "[Pipeline] ..... (step 5 of 7) Processing OneHotEncoder, total=   0.4s\n",
            "[Pipeline] ..... (step 6 of 7) Processing MatrixUnifier, total=   0.1s\n",
            "[Pipeline] ............... (step 7 of 7) Processing CLF, total=   0.1s\n"
          ]
        },
        {
          "output_type": "stream",
          "name": "stderr",
          "text": [
            "/usr/local/lib/python3.7/dist-packages/sklearn/utils/validation.py:598: FutureWarning: np.matrix usage is deprecated in 1.0 and will raise a TypeError in 1.2. Please convert to a numpy array with np.asarray. For more information see: https://numpy.org/doc/stable/reference/generated/numpy.matrix.html\n",
            "  FutureWarning,\n",
            "/usr/local/lib/python3.7/dist-packages/sklearn/utils/validation.py:598: FutureWarning: np.matrix usage is deprecated in 1.0 and will raise a TypeError in 1.2. Please convert to a numpy array with np.asarray. For more information see: https://numpy.org/doc/stable/reference/generated/numpy.matrix.html\n",
            "  FutureWarning,\n"
          ]
        },
        {
          "output_type": "stream",
          "name": "stdout",
          "text": [
            "[Pipeline] ... (step 1 of 7) Processing TweetNormalizer, total=   1.2s\n",
            "[Pipeline] .. (step 2 of 7) Processing FeatureExtractor, total=   5.0s\n",
            "[Pipeline] .. (step 3 of 7) Processing BigramVectorizer, total=   6.4s\n",
            "[Pipeline]  (step 4 of 7) Processing MatrixToArrayConverter, total=   0.0s\n",
            "[Pipeline] ..... (step 5 of 7) Processing OneHotEncoder, total=   0.4s\n",
            "[Pipeline] ..... (step 6 of 7) Processing MatrixUnifier, total=   0.1s\n",
            "[Pipeline] ............... (step 7 of 7) Processing CLF, total=   0.1s\n"
          ]
        },
        {
          "output_type": "stream",
          "name": "stderr",
          "text": [
            "/usr/local/lib/python3.7/dist-packages/sklearn/utils/validation.py:598: FutureWarning: np.matrix usage is deprecated in 1.0 and will raise a TypeError in 1.2. Please convert to a numpy array with np.asarray. For more information see: https://numpy.org/doc/stable/reference/generated/numpy.matrix.html\n",
            "  FutureWarning,\n",
            "/usr/local/lib/python3.7/dist-packages/sklearn/utils/validation.py:598: FutureWarning: np.matrix usage is deprecated in 1.0 and will raise a TypeError in 1.2. Please convert to a numpy array with np.asarray. For more information see: https://numpy.org/doc/stable/reference/generated/numpy.matrix.html\n",
            "  FutureWarning,\n"
          ]
        },
        {
          "output_type": "stream",
          "name": "stdout",
          "text": [
            "[Pipeline] ... (step 1 of 7) Processing TweetNormalizer, total=   1.1s\n",
            "[Pipeline] .. (step 2 of 7) Processing FeatureExtractor, total=   5.1s\n",
            "[Pipeline] .. (step 3 of 7) Processing BigramVectorizer, total=   6.5s\n",
            "[Pipeline]  (step 4 of 7) Processing MatrixToArrayConverter, total=   0.0s\n",
            "[Pipeline] ..... (step 5 of 7) Processing OneHotEncoder, total=   0.4s\n",
            "[Pipeline] ..... (step 6 of 7) Processing MatrixUnifier, total=   0.1s\n",
            "[Pipeline] ............... (step 7 of 7) Processing CLF, total=   0.1s\n"
          ]
        },
        {
          "output_type": "stream",
          "name": "stderr",
          "text": [
            "/usr/local/lib/python3.7/dist-packages/sklearn/utils/validation.py:598: FutureWarning: np.matrix usage is deprecated in 1.0 and will raise a TypeError in 1.2. Please convert to a numpy array with np.asarray. For more information see: https://numpy.org/doc/stable/reference/generated/numpy.matrix.html\n",
            "  FutureWarning,\n",
            "/usr/local/lib/python3.7/dist-packages/sklearn/utils/validation.py:598: FutureWarning: np.matrix usage is deprecated in 1.0 and will raise a TypeError in 1.2. Please convert to a numpy array with np.asarray. For more information see: https://numpy.org/doc/stable/reference/generated/numpy.matrix.html\n",
            "  FutureWarning,\n"
          ]
        },
        {
          "output_type": "stream",
          "name": "stdout",
          "text": [
            "[Pipeline] ... (step 1 of 7) Processing TweetNormalizer, total=   1.1s\n",
            "[Pipeline] .. (step 2 of 7) Processing FeatureExtractor, total=   5.1s\n",
            "[Pipeline] .. (step 3 of 7) Processing BigramVectorizer, total=  10.8s\n",
            "[Pipeline]  (step 4 of 7) Processing MatrixToArrayConverter, total=   0.0s\n",
            "[Pipeline] ..... (step 5 of 7) Processing OneHotEncoder, total=   0.6s\n",
            "[Pipeline] ..... (step 6 of 7) Processing MatrixUnifier, total=   0.1s\n"
          ]
        },
        {
          "output_type": "stream",
          "name": "stderr",
          "text": [
            "/usr/local/lib/python3.7/dist-packages/sklearn/utils/validation.py:598: FutureWarning: np.matrix usage is deprecated in 1.0 and will raise a TypeError in 1.2. Please convert to a numpy array with np.asarray. For more information see: https://numpy.org/doc/stable/reference/generated/numpy.matrix.html\n",
            "  FutureWarning,\n"
          ]
        },
        {
          "output_type": "stream",
          "name": "stdout",
          "text": [
            "[Pipeline] ............... (step 7 of 7) Processing CLF, total=   0.2s\n"
          ]
        },
        {
          "output_type": "stream",
          "name": "stderr",
          "text": [
            "/usr/local/lib/python3.7/dist-packages/sklearn/utils/validation.py:598: FutureWarning: np.matrix usage is deprecated in 1.0 and will raise a TypeError in 1.2. Please convert to a numpy array with np.asarray. For more information see: https://numpy.org/doc/stable/reference/generated/numpy.matrix.html\n",
            "  FutureWarning,\n"
          ]
        },
        {
          "output_type": "stream",
          "name": "stdout",
          "text": [
            "[Pipeline] ... (step 1 of 7) Processing TweetNormalizer, total=   1.1s\n",
            "[Pipeline] .. (step 2 of 7) Processing FeatureExtractor, total=   5.1s\n",
            "[Pipeline] .. (step 3 of 7) Processing BigramVectorizer, total=   6.5s\n",
            "[Pipeline]  (step 4 of 7) Processing MatrixToArrayConverter, total=   0.0s\n",
            "[Pipeline] ..... (step 5 of 7) Processing OneHotEncoder, total=   0.4s\n",
            "[Pipeline] ..... (step 6 of 7) Processing MatrixUnifier, total=   0.1s\n",
            "[Pipeline] ............... (step 7 of 7) Processing CLF, total=   0.1s\n"
          ]
        },
        {
          "output_type": "stream",
          "name": "stderr",
          "text": [
            "/usr/local/lib/python3.7/dist-packages/sklearn/utils/validation.py:598: FutureWarning: np.matrix usage is deprecated in 1.0 and will raise a TypeError in 1.2. Please convert to a numpy array with np.asarray. For more information see: https://numpy.org/doc/stable/reference/generated/numpy.matrix.html\n",
            "  FutureWarning,\n",
            "/usr/local/lib/python3.7/dist-packages/sklearn/utils/validation.py:598: FutureWarning: np.matrix usage is deprecated in 1.0 and will raise a TypeError in 1.2. Please convert to a numpy array with np.asarray. For more information see: https://numpy.org/doc/stable/reference/generated/numpy.matrix.html\n",
            "  FutureWarning,\n"
          ]
        },
        {
          "output_type": "stream",
          "name": "stdout",
          "text": [
            "[Pipeline] ... (step 1 of 7) Processing TweetNormalizer, total=   1.1s\n",
            "[Pipeline] .. (step 2 of 7) Processing FeatureExtractor, total=   5.0s\n",
            "[Pipeline] .. (step 3 of 7) Processing BigramVectorizer, total=   6.5s\n",
            "[Pipeline]  (step 4 of 7) Processing MatrixToArrayConverter, total=   0.0s\n",
            "[Pipeline] ..... (step 5 of 7) Processing OneHotEncoder, total=   0.4s\n",
            "[Pipeline] ..... (step 6 of 7) Processing MatrixUnifier, total=   0.1s\n",
            "[Pipeline] ............... (step 7 of 7) Processing CLF, total=   0.1s\n"
          ]
        },
        {
          "output_type": "stream",
          "name": "stderr",
          "text": [
            "/usr/local/lib/python3.7/dist-packages/sklearn/utils/validation.py:598: FutureWarning: np.matrix usage is deprecated in 1.0 and will raise a TypeError in 1.2. Please convert to a numpy array with np.asarray. For more information see: https://numpy.org/doc/stable/reference/generated/numpy.matrix.html\n",
            "  FutureWarning,\n",
            "/usr/local/lib/python3.7/dist-packages/sklearn/utils/validation.py:598: FutureWarning: np.matrix usage is deprecated in 1.0 and will raise a TypeError in 1.2. Please convert to a numpy array with np.asarray. For more information see: https://numpy.org/doc/stable/reference/generated/numpy.matrix.html\n",
            "  FutureWarning,\n"
          ]
        },
        {
          "output_type": "stream",
          "name": "stdout",
          "text": [
            "[Pipeline] ... (step 1 of 7) Processing TweetNormalizer, total=   0.9s\n",
            "[Pipeline] .. (step 2 of 7) Processing FeatureExtractor, total=   4.2s\n",
            "[Pipeline] .. (step 3 of 7) Processing BigramVectorizer, total=   5.5s\n",
            "[Pipeline]  (step 4 of 7) Processing MatrixToArrayConverter, total=   0.0s\n",
            "[Pipeline] ..... (step 5 of 7) Processing OneHotEncoder, total=   0.4s\n",
            "[Pipeline] ..... (step 6 of 7) Processing MatrixUnifier, total=   0.1s\n",
            "[Pipeline] ............... (step 7 of 7) Processing CLF, total=   0.1s\n"
          ]
        },
        {
          "output_type": "stream",
          "name": "stderr",
          "text": [
            "/usr/local/lib/python3.7/dist-packages/sklearn/utils/validation.py:598: FutureWarning: np.matrix usage is deprecated in 1.0 and will raise a TypeError in 1.2. Please convert to a numpy array with np.asarray. For more information see: https://numpy.org/doc/stable/reference/generated/numpy.matrix.html\n",
            "  FutureWarning,\n",
            "/usr/local/lib/python3.7/dist-packages/sklearn/utils/validation.py:598: FutureWarning: np.matrix usage is deprecated in 1.0 and will raise a TypeError in 1.2. Please convert to a numpy array with np.asarray. For more information see: https://numpy.org/doc/stable/reference/generated/numpy.matrix.html\n",
            "  FutureWarning,\n"
          ]
        },
        {
          "output_type": "stream",
          "name": "stdout",
          "text": [
            "[Pipeline] ... (step 1 of 7) Processing TweetNormalizer, total=   1.2s\n",
            "[Pipeline] .. (step 2 of 7) Processing FeatureExtractor, total=   5.0s\n",
            "[Pipeline] .. (step 3 of 7) Processing BigramVectorizer, total=   6.5s\n",
            "[Pipeline]  (step 4 of 7) Processing MatrixToArrayConverter, total=   0.0s\n",
            "[Pipeline] ..... (step 5 of 7) Processing OneHotEncoder, total=   0.4s\n",
            "[Pipeline] ..... (step 6 of 7) Processing MatrixUnifier, total=   0.1s\n",
            "[Pipeline] ............... (step 7 of 7) Processing CLF, total=   0.1s\n"
          ]
        },
        {
          "output_type": "stream",
          "name": "stderr",
          "text": [
            "/usr/local/lib/python3.7/dist-packages/sklearn/utils/validation.py:598: FutureWarning: np.matrix usage is deprecated in 1.0 and will raise a TypeError in 1.2. Please convert to a numpy array with np.asarray. For more information see: https://numpy.org/doc/stable/reference/generated/numpy.matrix.html\n",
            "  FutureWarning,\n",
            "/usr/local/lib/python3.7/dist-packages/sklearn/utils/validation.py:598: FutureWarning: np.matrix usage is deprecated in 1.0 and will raise a TypeError in 1.2. Please convert to a numpy array with np.asarray. For more information see: https://numpy.org/doc/stable/reference/generated/numpy.matrix.html\n",
            "  FutureWarning,\n"
          ]
        },
        {
          "output_type": "stream",
          "name": "stdout",
          "text": [
            "[Pipeline] ... (step 1 of 7) Processing TweetNormalizer, total=   1.1s\n",
            "[Pipeline] .. (step 2 of 7) Processing FeatureExtractor, total=   5.0s\n",
            "[Pipeline] .. (step 3 of 7) Processing BigramVectorizer, total=   6.4s\n",
            "[Pipeline]  (step 4 of 7) Processing MatrixToArrayConverter, total=   0.0s\n",
            "[Pipeline] ..... (step 5 of 7) Processing OneHotEncoder, total=   0.4s\n",
            "[Pipeline] ..... (step 6 of 7) Processing MatrixUnifier, total=   0.0s\n",
            "[Pipeline] ............... (step 7 of 7) Processing CLF, total=   0.1s\n"
          ]
        },
        {
          "output_type": "stream",
          "name": "stderr",
          "text": [
            "/usr/local/lib/python3.7/dist-packages/sklearn/utils/validation.py:598: FutureWarning: np.matrix usage is deprecated in 1.0 and will raise a TypeError in 1.2. Please convert to a numpy array with np.asarray. For more information see: https://numpy.org/doc/stable/reference/generated/numpy.matrix.html\n",
            "  FutureWarning,\n",
            "/usr/local/lib/python3.7/dist-packages/sklearn/utils/validation.py:598: FutureWarning: np.matrix usage is deprecated in 1.0 and will raise a TypeError in 1.2. Please convert to a numpy array with np.asarray. For more information see: https://numpy.org/doc/stable/reference/generated/numpy.matrix.html\n",
            "  FutureWarning,\n"
          ]
        },
        {
          "output_type": "stream",
          "name": "stdout",
          "text": [
            "[Pipeline] ... (step 1 of 7) Processing TweetNormalizer, total=   1.1s\n",
            "[Pipeline] .. (step 2 of 7) Processing FeatureExtractor, total=   5.1s\n",
            "[Pipeline] .. (step 3 of 7) Processing BigramVectorizer, total=   6.4s\n",
            "[Pipeline]  (step 4 of 7) Processing MatrixToArrayConverter, total=   0.0s\n",
            "[Pipeline] ..... (step 5 of 7) Processing OneHotEncoder, total=   0.4s\n",
            "[Pipeline] ..... (step 6 of 7) Processing MatrixUnifier, total=   0.1s\n",
            "[Pipeline] ............... (step 7 of 7) Processing CLF, total=   0.1s\n"
          ]
        },
        {
          "output_type": "stream",
          "name": "stderr",
          "text": [
            "/usr/local/lib/python3.7/dist-packages/sklearn/utils/validation.py:598: FutureWarning: np.matrix usage is deprecated in 1.0 and will raise a TypeError in 1.2. Please convert to a numpy array with np.asarray. For more information see: https://numpy.org/doc/stable/reference/generated/numpy.matrix.html\n",
            "  FutureWarning,\n",
            "/usr/local/lib/python3.7/dist-packages/sklearn/utils/validation.py:598: FutureWarning: np.matrix usage is deprecated in 1.0 and will raise a TypeError in 1.2. Please convert to a numpy array with np.asarray. For more information see: https://numpy.org/doc/stable/reference/generated/numpy.matrix.html\n",
            "  FutureWarning,\n"
          ]
        },
        {
          "output_type": "stream",
          "name": "stdout",
          "text": [
            "[Pipeline] ... (step 1 of 7) Processing TweetNormalizer, total=   1.1s\n",
            "[Pipeline] .. (step 2 of 7) Processing FeatureExtractor, total=   5.0s\n",
            "[Pipeline] .. (step 3 of 7) Processing BigramVectorizer, total=   6.5s\n",
            "[Pipeline]  (step 4 of 7) Processing MatrixToArrayConverter, total=   0.0s\n",
            "[Pipeline] ..... (step 5 of 7) Processing OneHotEncoder, total=   0.4s\n",
            "[Pipeline] ..... (step 6 of 7) Processing MatrixUnifier, total=   0.1s\n",
            "[Pipeline] ............... (step 7 of 7) Processing CLF, total=   0.1s\n"
          ]
        },
        {
          "output_type": "stream",
          "name": "stderr",
          "text": [
            "/usr/local/lib/python3.7/dist-packages/sklearn/utils/validation.py:598: FutureWarning: np.matrix usage is deprecated in 1.0 and will raise a TypeError in 1.2. Please convert to a numpy array with np.asarray. For more information see: https://numpy.org/doc/stable/reference/generated/numpy.matrix.html\n",
            "  FutureWarning,\n",
            "/usr/local/lib/python3.7/dist-packages/sklearn/utils/validation.py:598: FutureWarning: np.matrix usage is deprecated in 1.0 and will raise a TypeError in 1.2. Please convert to a numpy array with np.asarray. For more information see: https://numpy.org/doc/stable/reference/generated/numpy.matrix.html\n",
            "  FutureWarning,\n"
          ]
        },
        {
          "output_type": "stream",
          "name": "stdout",
          "text": [
            "[Pipeline] ... (step 1 of 7) Processing TweetNormalizer, total=   1.2s\n",
            "[Pipeline] .. (step 2 of 7) Processing FeatureExtractor, total=   5.5s\n",
            "[Pipeline] .. (step 3 of 7) Processing BigramVectorizer, total=   6.5s\n",
            "[Pipeline]  (step 4 of 7) Processing MatrixToArrayConverter, total=   0.0s\n",
            "[Pipeline] ..... (step 5 of 7) Processing OneHotEncoder, total=   0.4s\n",
            "[Pipeline] ..... (step 6 of 7) Processing MatrixUnifier, total=   0.1s\n",
            "[Pipeline] ............... (step 7 of 7) Processing CLF, total=   0.1s\n"
          ]
        },
        {
          "output_type": "stream",
          "name": "stderr",
          "text": [
            "/usr/local/lib/python3.7/dist-packages/sklearn/utils/validation.py:598: FutureWarning: np.matrix usage is deprecated in 1.0 and will raise a TypeError in 1.2. Please convert to a numpy array with np.asarray. For more information see: https://numpy.org/doc/stable/reference/generated/numpy.matrix.html\n",
            "  FutureWarning,\n",
            "/usr/local/lib/python3.7/dist-packages/sklearn/utils/validation.py:598: FutureWarning: np.matrix usage is deprecated in 1.0 and will raise a TypeError in 1.2. Please convert to a numpy array with np.asarray. For more information see: https://numpy.org/doc/stable/reference/generated/numpy.matrix.html\n",
            "  FutureWarning,\n"
          ]
        },
        {
          "output_type": "stream",
          "name": "stdout",
          "text": [
            "[Pipeline] ... (step 1 of 7) Processing TweetNormalizer, total=   1.1s\n",
            "[Pipeline] .. (step 2 of 7) Processing FeatureExtractor, total=   5.0s\n",
            "[Pipeline] .. (step 3 of 7) Processing BigramVectorizer, total=   6.5s\n",
            "[Pipeline]  (step 4 of 7) Processing MatrixToArrayConverter, total=   0.0s\n",
            "[Pipeline] ..... (step 5 of 7) Processing OneHotEncoder, total=   0.4s\n",
            "[Pipeline] ..... (step 6 of 7) Processing MatrixUnifier, total=   0.1s\n",
            "[Pipeline] ............... (step 7 of 7) Processing CLF, total=   0.1s\n"
          ]
        },
        {
          "output_type": "stream",
          "name": "stderr",
          "text": [
            "/usr/local/lib/python3.7/dist-packages/sklearn/utils/validation.py:598: FutureWarning: np.matrix usage is deprecated in 1.0 and will raise a TypeError in 1.2. Please convert to a numpy array with np.asarray. For more information see: https://numpy.org/doc/stable/reference/generated/numpy.matrix.html\n",
            "  FutureWarning,\n",
            "/usr/local/lib/python3.7/dist-packages/sklearn/utils/validation.py:598: FutureWarning: np.matrix usage is deprecated in 1.0 and will raise a TypeError in 1.2. Please convert to a numpy array with np.asarray. For more information see: https://numpy.org/doc/stable/reference/generated/numpy.matrix.html\n",
            "  FutureWarning,\n"
          ]
        },
        {
          "output_type": "stream",
          "name": "stdout",
          "text": [
            "[Pipeline] ... (step 1 of 7) Processing TweetNormalizer, total=   1.1s\n",
            "[Pipeline] .. (step 2 of 7) Processing FeatureExtractor, total=   5.1s\n",
            "[Pipeline] .. (step 3 of 7) Processing BigramVectorizer, total=   6.4s\n",
            "[Pipeline]  (step 4 of 7) Processing MatrixToArrayConverter, total=   0.0s\n",
            "[Pipeline] ..... (step 5 of 7) Processing OneHotEncoder, total=   0.4s\n",
            "[Pipeline] ..... (step 6 of 7) Processing MatrixUnifier, total=   0.1s\n",
            "[Pipeline] ............... (step 7 of 7) Processing CLF, total=   0.1s\n"
          ]
        },
        {
          "output_type": "stream",
          "name": "stderr",
          "text": [
            "/usr/local/lib/python3.7/dist-packages/sklearn/utils/validation.py:598: FutureWarning: np.matrix usage is deprecated in 1.0 and will raise a TypeError in 1.2. Please convert to a numpy array with np.asarray. For more information see: https://numpy.org/doc/stable/reference/generated/numpy.matrix.html\n",
            "  FutureWarning,\n",
            "/usr/local/lib/python3.7/dist-packages/sklearn/utils/validation.py:598: FutureWarning: np.matrix usage is deprecated in 1.0 and will raise a TypeError in 1.2. Please convert to a numpy array with np.asarray. For more information see: https://numpy.org/doc/stable/reference/generated/numpy.matrix.html\n",
            "  FutureWarning,\n"
          ]
        },
        {
          "output_type": "stream",
          "name": "stdout",
          "text": [
            "[Pipeline] ... (step 1 of 7) Processing TweetNormalizer, total=   1.1s\n",
            "[Pipeline] .. (step 2 of 7) Processing FeatureExtractor, total=   5.8s\n",
            "[Pipeline] .. (step 3 of 7) Processing BigramVectorizer, total=   6.5s\n",
            "[Pipeline]  (step 4 of 7) Processing MatrixToArrayConverter, total=   0.0s\n",
            "[Pipeline] ..... (step 5 of 7) Processing OneHotEncoder, total=   0.4s\n",
            "[Pipeline] ..... (step 6 of 7) Processing MatrixUnifier, total=   0.1s\n",
            "[Pipeline] ............... (step 7 of 7) Processing CLF, total=   0.1s\n"
          ]
        },
        {
          "output_type": "stream",
          "name": "stderr",
          "text": [
            "/usr/local/lib/python3.7/dist-packages/sklearn/utils/validation.py:598: FutureWarning: np.matrix usage is deprecated in 1.0 and will raise a TypeError in 1.2. Please convert to a numpy array with np.asarray. For more information see: https://numpy.org/doc/stable/reference/generated/numpy.matrix.html\n",
            "  FutureWarning,\n",
            "/usr/local/lib/python3.7/dist-packages/sklearn/utils/validation.py:598: FutureWarning: np.matrix usage is deprecated in 1.0 and will raise a TypeError in 1.2. Please convert to a numpy array with np.asarray. For more information see: https://numpy.org/doc/stable/reference/generated/numpy.matrix.html\n",
            "  FutureWarning,\n"
          ]
        },
        {
          "output_type": "stream",
          "name": "stdout",
          "text": [
            "[Pipeline] ... (step 1 of 7) Processing TweetNormalizer, total=   1.1s\n",
            "[Pipeline] .. (step 2 of 7) Processing FeatureExtractor, total=   5.0s\n",
            "[Pipeline] .. (step 3 of 7) Processing BigramVectorizer, total=   6.4s\n",
            "[Pipeline]  (step 4 of 7) Processing MatrixToArrayConverter, total=   0.0s\n",
            "[Pipeline] ..... (step 5 of 7) Processing OneHotEncoder, total=   0.4s\n",
            "[Pipeline] ..... (step 6 of 7) Processing MatrixUnifier, total=   0.1s\n",
            "[Pipeline] ............... (step 7 of 7) Processing CLF, total=   0.1s\n"
          ]
        },
        {
          "output_type": "stream",
          "name": "stderr",
          "text": [
            "/usr/local/lib/python3.7/dist-packages/sklearn/utils/validation.py:598: FutureWarning: np.matrix usage is deprecated in 1.0 and will raise a TypeError in 1.2. Please convert to a numpy array with np.asarray. For more information see: https://numpy.org/doc/stable/reference/generated/numpy.matrix.html\n",
            "  FutureWarning,\n",
            "/usr/local/lib/python3.7/dist-packages/sklearn/utils/validation.py:598: FutureWarning: np.matrix usage is deprecated in 1.0 and will raise a TypeError in 1.2. Please convert to a numpy array with np.asarray. For more information see: https://numpy.org/doc/stable/reference/generated/numpy.matrix.html\n",
            "  FutureWarning,\n"
          ]
        },
        {
          "output_type": "stream",
          "name": "stdout",
          "text": [
            "[Pipeline] ... (step 1 of 7) Processing TweetNormalizer, total=   0.9s\n",
            "[Pipeline] .. (step 2 of 7) Processing FeatureExtractor, total=   4.1s\n",
            "[Pipeline] .. (step 3 of 7) Processing BigramVectorizer, total=   5.5s\n",
            "[Pipeline]  (step 4 of 7) Processing MatrixToArrayConverter, total=   0.0s\n",
            "[Pipeline] ..... (step 5 of 7) Processing OneHotEncoder, total=   0.4s\n",
            "[Pipeline] ..... (step 6 of 7) Processing MatrixUnifier, total=   0.0s\n",
            "[Pipeline] ............... (step 7 of 7) Processing CLF, total=   0.1s\n"
          ]
        },
        {
          "output_type": "stream",
          "name": "stderr",
          "text": [
            "/usr/local/lib/python3.7/dist-packages/sklearn/utils/validation.py:598: FutureWarning: np.matrix usage is deprecated in 1.0 and will raise a TypeError in 1.2. Please convert to a numpy array with np.asarray. For more information see: https://numpy.org/doc/stable/reference/generated/numpy.matrix.html\n",
            "  FutureWarning,\n",
            "/usr/local/lib/python3.7/dist-packages/sklearn/utils/validation.py:598: FutureWarning: np.matrix usage is deprecated in 1.0 and will raise a TypeError in 1.2. Please convert to a numpy array with np.asarray. For more information see: https://numpy.org/doc/stable/reference/generated/numpy.matrix.html\n",
            "  FutureWarning,\n"
          ]
        },
        {
          "output_type": "stream",
          "name": "stdout",
          "text": [
            "[Pipeline] ... (step 1 of 7) Processing TweetNormalizer, total=   1.1s\n",
            "[Pipeline] .. (step 2 of 7) Processing FeatureExtractor, total=   5.0s\n",
            "[Pipeline] .. (step 3 of 7) Processing BigramVectorizer, total=   6.4s\n",
            "[Pipeline]  (step 4 of 7) Processing MatrixToArrayConverter, total=   0.0s\n",
            "[Pipeline] ..... (step 5 of 7) Processing OneHotEncoder, total=   0.4s\n",
            "[Pipeline] ..... (step 6 of 7) Processing MatrixUnifier, total=   0.0s\n",
            "[Pipeline] ............... (step 7 of 7) Processing CLF, total=   0.1s\n"
          ]
        },
        {
          "output_type": "stream",
          "name": "stderr",
          "text": [
            "/usr/local/lib/python3.7/dist-packages/sklearn/utils/validation.py:598: FutureWarning: np.matrix usage is deprecated in 1.0 and will raise a TypeError in 1.2. Please convert to a numpy array with np.asarray. For more information see: https://numpy.org/doc/stable/reference/generated/numpy.matrix.html\n",
            "  FutureWarning,\n",
            "/usr/local/lib/python3.7/dist-packages/sklearn/utils/validation.py:598: FutureWarning: np.matrix usage is deprecated in 1.0 and will raise a TypeError in 1.2. Please convert to a numpy array with np.asarray. For more information see: https://numpy.org/doc/stable/reference/generated/numpy.matrix.html\n",
            "  FutureWarning,\n"
          ]
        },
        {
          "output_type": "stream",
          "name": "stdout",
          "text": [
            "[Pipeline] ... (step 1 of 7) Processing TweetNormalizer, total=   1.1s\n",
            "[Pipeline] .. (step 2 of 7) Processing FeatureExtractor, total=   5.1s\n",
            "[Pipeline] .. (step 3 of 7) Processing BigramVectorizer, total=   6.3s\n",
            "[Pipeline]  (step 4 of 7) Processing MatrixToArrayConverter, total=   0.0s\n",
            "[Pipeline] ..... (step 5 of 7) Processing OneHotEncoder, total=   0.4s\n",
            "[Pipeline] ..... (step 6 of 7) Processing MatrixUnifier, total=   0.0s\n",
            "[Pipeline] ............... (step 7 of 7) Processing CLF, total=   0.1s\n"
          ]
        },
        {
          "output_type": "stream",
          "name": "stderr",
          "text": [
            "/usr/local/lib/python3.7/dist-packages/sklearn/utils/validation.py:598: FutureWarning: np.matrix usage is deprecated in 1.0 and will raise a TypeError in 1.2. Please convert to a numpy array with np.asarray. For more information see: https://numpy.org/doc/stable/reference/generated/numpy.matrix.html\n",
            "  FutureWarning,\n",
            "/usr/local/lib/python3.7/dist-packages/sklearn/utils/validation.py:598: FutureWarning: np.matrix usage is deprecated in 1.0 and will raise a TypeError in 1.2. Please convert to a numpy array with np.asarray. For more information see: https://numpy.org/doc/stable/reference/generated/numpy.matrix.html\n",
            "  FutureWarning,\n"
          ]
        },
        {
          "output_type": "stream",
          "name": "stdout",
          "text": [
            "[Pipeline] ... (step 1 of 7) Processing TweetNormalizer, total=   1.7s\n",
            "[Pipeline] .. (step 2 of 7) Processing FeatureExtractor, total=   5.6s\n",
            "[Pipeline] .. (step 3 of 7) Processing BigramVectorizer, total=   7.2s\n",
            "[Pipeline]  (step 4 of 7) Processing MatrixToArrayConverter, total=   0.0s\n",
            "[Pipeline] ..... (step 5 of 7) Processing OneHotEncoder, total=   0.5s\n",
            "[Pipeline] ..... (step 6 of 7) Processing MatrixUnifier, total=   0.1s\n",
            "[Pipeline] ............... (step 7 of 7) Processing CLF, total=   0.1s\n",
            "------------------------------\n",
            "SGDClassifier\n",
            "{'CLF__loss': ['hinge', 'log'], 'CLF__penalty': ['l2', 'l1'], 'CLF__max_iter': [100, 300], 'CLF__early_stopping': [True, False]}\n",
            "args: [(2, 2), 'char_wb', 100, True]\n"
          ]
        },
        {
          "output_type": "stream",
          "name": "stderr",
          "text": [
            "/usr/local/lib/python3.7/dist-packages/sklearn/utils/validation.py:598: FutureWarning: np.matrix usage is deprecated in 1.0 and will raise a TypeError in 1.2. Please convert to a numpy array with np.asarray. For more information see: https://numpy.org/doc/stable/reference/generated/numpy.matrix.html\n",
            "  FutureWarning,\n"
          ]
        },
        {
          "output_type": "stream",
          "name": "stdout",
          "text": [
            "[Pipeline] ... (step 1 of 7) Processing TweetNormalizer, total=   1.1s\n",
            "[Pipeline] .. (step 2 of 7) Processing FeatureExtractor, total=   5.1s\n",
            "[Pipeline] .. (step 3 of 7) Processing BigramVectorizer, total=   6.5s\n",
            "[Pipeline]  (step 4 of 7) Processing MatrixToArrayConverter, total=   0.0s\n",
            "[Pipeline] ..... (step 5 of 7) Processing OneHotEncoder, total=   0.4s\n",
            "[Pipeline] ..... (step 6 of 7) Processing MatrixUnifier, total=   0.0s\n"
          ]
        },
        {
          "output_type": "stream",
          "name": "stderr",
          "text": [
            "/usr/local/lib/python3.7/dist-packages/sklearn/utils/validation.py:598: FutureWarning: np.matrix usage is deprecated in 1.0 and will raise a TypeError in 1.2. Please convert to a numpy array with np.asarray. For more information see: https://numpy.org/doc/stable/reference/generated/numpy.matrix.html\n",
            "  FutureWarning,\n"
          ]
        },
        {
          "output_type": "stream",
          "name": "stdout",
          "text": [
            "[Pipeline] ............... (step 7 of 7) Processing CLF, total=  17.8s\n"
          ]
        },
        {
          "output_type": "stream",
          "name": "stderr",
          "text": [
            "/usr/local/lib/python3.7/dist-packages/sklearn/utils/validation.py:598: FutureWarning: np.matrix usage is deprecated in 1.0 and will raise a TypeError in 1.2. Please convert to a numpy array with np.asarray. For more information see: https://numpy.org/doc/stable/reference/generated/numpy.matrix.html\n",
            "  FutureWarning,\n"
          ]
        },
        {
          "output_type": "stream",
          "name": "stdout",
          "text": [
            "[Pipeline] ... (step 1 of 7) Processing TweetNormalizer, total=   1.1s\n",
            "[Pipeline] .. (step 2 of 7) Processing FeatureExtractor, total=   5.0s\n",
            "[Pipeline] .. (step 3 of 7) Processing BigramVectorizer, total=   6.5s\n",
            "[Pipeline]  (step 4 of 7) Processing MatrixToArrayConverter, total=   0.0s\n",
            "[Pipeline] ..... (step 5 of 7) Processing OneHotEncoder, total=   0.4s\n",
            "[Pipeline] ..... (step 6 of 7) Processing MatrixUnifier, total=   0.0s\n"
          ]
        },
        {
          "output_type": "stream",
          "name": "stderr",
          "text": [
            "/usr/local/lib/python3.7/dist-packages/sklearn/utils/validation.py:598: FutureWarning: np.matrix usage is deprecated in 1.0 and will raise a TypeError in 1.2. Please convert to a numpy array with np.asarray. For more information see: https://numpy.org/doc/stable/reference/generated/numpy.matrix.html\n",
            "  FutureWarning,\n"
          ]
        },
        {
          "output_type": "stream",
          "name": "stdout",
          "text": [
            "[Pipeline] ............... (step 7 of 7) Processing CLF, total=  17.7s\n"
          ]
        },
        {
          "output_type": "stream",
          "name": "stderr",
          "text": [
            "/usr/local/lib/python3.7/dist-packages/sklearn/utils/validation.py:598: FutureWarning: np.matrix usage is deprecated in 1.0 and will raise a TypeError in 1.2. Please convert to a numpy array with np.asarray. For more information see: https://numpy.org/doc/stable/reference/generated/numpy.matrix.html\n",
            "  FutureWarning,\n"
          ]
        },
        {
          "output_type": "stream",
          "name": "stdout",
          "text": [
            "[Pipeline] ... (step 1 of 7) Processing TweetNormalizer, total=   1.1s\n",
            "[Pipeline] .. (step 2 of 7) Processing FeatureExtractor, total=   5.0s\n",
            "[Pipeline] .. (step 3 of 7) Processing BigramVectorizer, total=   6.4s\n",
            "[Pipeline]  (step 4 of 7) Processing MatrixToArrayConverter, total=   0.0s\n",
            "[Pipeline] ..... (step 5 of 7) Processing OneHotEncoder, total=   0.4s\n",
            "[Pipeline] ..... (step 6 of 7) Processing MatrixUnifier, total=   0.0s\n"
          ]
        },
        {
          "output_type": "stream",
          "name": "stderr",
          "text": [
            "/usr/local/lib/python3.7/dist-packages/sklearn/utils/validation.py:598: FutureWarning: np.matrix usage is deprecated in 1.0 and will raise a TypeError in 1.2. Please convert to a numpy array with np.asarray. For more information see: https://numpy.org/doc/stable/reference/generated/numpy.matrix.html\n",
            "  FutureWarning,\n"
          ]
        },
        {
          "output_type": "stream",
          "name": "stdout",
          "text": [
            "[Pipeline] ............... (step 7 of 7) Processing CLF, total=  17.7s\n"
          ]
        },
        {
          "output_type": "stream",
          "name": "stderr",
          "text": [
            "/usr/local/lib/python3.7/dist-packages/sklearn/utils/validation.py:598: FutureWarning: np.matrix usage is deprecated in 1.0 and will raise a TypeError in 1.2. Please convert to a numpy array with np.asarray. For more information see: https://numpy.org/doc/stable/reference/generated/numpy.matrix.html\n",
            "  FutureWarning,\n"
          ]
        },
        {
          "output_type": "stream",
          "name": "stdout",
          "text": [
            "[Pipeline] ... (step 1 of 7) Processing TweetNormalizer, total=   1.2s\n",
            "[Pipeline] .. (step 2 of 7) Processing FeatureExtractor, total=   5.0s\n",
            "[Pipeline] .. (step 3 of 7) Processing BigramVectorizer, total=   6.5s\n",
            "[Pipeline]  (step 4 of 7) Processing MatrixToArrayConverter, total=   0.0s\n",
            "[Pipeline] ..... (step 5 of 7) Processing OneHotEncoder, total=   0.4s\n",
            "[Pipeline] ..... (step 6 of 7) Processing MatrixUnifier, total=   0.0s\n"
          ]
        },
        {
          "output_type": "stream",
          "name": "stderr",
          "text": [
            "/usr/local/lib/python3.7/dist-packages/sklearn/utils/validation.py:598: FutureWarning: np.matrix usage is deprecated in 1.0 and will raise a TypeError in 1.2. Please convert to a numpy array with np.asarray. For more information see: https://numpy.org/doc/stable/reference/generated/numpy.matrix.html\n",
            "  FutureWarning,\n"
          ]
        },
        {
          "output_type": "stream",
          "name": "stdout",
          "text": [
            "[Pipeline] ............... (step 7 of 7) Processing CLF, total=  17.8s\n"
          ]
        },
        {
          "output_type": "stream",
          "name": "stderr",
          "text": [
            "/usr/local/lib/python3.7/dist-packages/sklearn/utils/validation.py:598: FutureWarning: np.matrix usage is deprecated in 1.0 and will raise a TypeError in 1.2. Please convert to a numpy array with np.asarray. For more information see: https://numpy.org/doc/stable/reference/generated/numpy.matrix.html\n",
            "  FutureWarning,\n"
          ]
        },
        {
          "output_type": "stream",
          "name": "stdout",
          "text": [
            "[Pipeline] ... (step 1 of 7) Processing TweetNormalizer, total=   1.1s\n",
            "[Pipeline] .. (step 2 of 7) Processing FeatureExtractor, total=   5.6s\n",
            "[Pipeline] .. (step 3 of 7) Processing BigramVectorizer, total=   7.6s\n",
            "[Pipeline]  (step 4 of 7) Processing MatrixToArrayConverter, total=   0.0s\n",
            "[Pipeline] ..... (step 5 of 7) Processing OneHotEncoder, total=   0.4s\n",
            "[Pipeline] ..... (step 6 of 7) Processing MatrixUnifier, total=   0.0s\n"
          ]
        },
        {
          "output_type": "stream",
          "name": "stderr",
          "text": [
            "/usr/local/lib/python3.7/dist-packages/sklearn/utils/validation.py:598: FutureWarning: np.matrix usage is deprecated in 1.0 and will raise a TypeError in 1.2. Please convert to a numpy array with np.asarray. For more information see: https://numpy.org/doc/stable/reference/generated/numpy.matrix.html\n",
            "  FutureWarning,\n"
          ]
        },
        {
          "output_type": "stream",
          "name": "stdout",
          "text": [
            "[Pipeline] ............... (step 7 of 7) Processing CLF, total=  17.7s\n"
          ]
        },
        {
          "output_type": "stream",
          "name": "stderr",
          "text": [
            "/usr/local/lib/python3.7/dist-packages/sklearn/utils/validation.py:598: FutureWarning: np.matrix usage is deprecated in 1.0 and will raise a TypeError in 1.2. Please convert to a numpy array with np.asarray. For more information see: https://numpy.org/doc/stable/reference/generated/numpy.matrix.html\n",
            "  FutureWarning,\n"
          ]
        },
        {
          "output_type": "stream",
          "name": "stdout",
          "text": [
            "[Pipeline] ... (step 1 of 7) Processing TweetNormalizer, total=   1.1s\n",
            "[Pipeline] .. (step 2 of 7) Processing FeatureExtractor, total=   5.1s\n",
            "[Pipeline] .. (step 3 of 7) Processing BigramVectorizer, total=   6.5s\n",
            "[Pipeline]  (step 4 of 7) Processing MatrixToArrayConverter, total=   0.0s\n",
            "[Pipeline] ..... (step 5 of 7) Processing OneHotEncoder, total=   0.4s\n",
            "[Pipeline] ..... (step 6 of 7) Processing MatrixUnifier, total=   0.0s\n"
          ]
        },
        {
          "output_type": "stream",
          "name": "stderr",
          "text": [
            "/usr/local/lib/python3.7/dist-packages/sklearn/utils/validation.py:598: FutureWarning: np.matrix usage is deprecated in 1.0 and will raise a TypeError in 1.2. Please convert to a numpy array with np.asarray. For more information see: https://numpy.org/doc/stable/reference/generated/numpy.matrix.html\n",
            "  FutureWarning,\n"
          ]
        },
        {
          "output_type": "stream",
          "name": "stdout",
          "text": [
            "[Pipeline] ............... (step 7 of 7) Processing CLF, total=  17.6s\n"
          ]
        },
        {
          "output_type": "stream",
          "name": "stderr",
          "text": [
            "/usr/local/lib/python3.7/dist-packages/sklearn/utils/validation.py:598: FutureWarning: np.matrix usage is deprecated in 1.0 and will raise a TypeError in 1.2. Please convert to a numpy array with np.asarray. For more information see: https://numpy.org/doc/stable/reference/generated/numpy.matrix.html\n",
            "  FutureWarning,\n"
          ]
        },
        {
          "output_type": "stream",
          "name": "stdout",
          "text": [
            "[Pipeline] ... (step 1 of 7) Processing TweetNormalizer, total=   1.1s\n",
            "[Pipeline] .. (step 2 of 7) Processing FeatureExtractor, total=   5.0s\n",
            "[Pipeline] .. (step 3 of 7) Processing BigramVectorizer, total=   6.4s\n",
            "[Pipeline]  (step 4 of 7) Processing MatrixToArrayConverter, total=   0.0s\n",
            "[Pipeline] ..... (step 5 of 7) Processing OneHotEncoder, total=   0.4s\n",
            "[Pipeline] ..... (step 6 of 7) Processing MatrixUnifier, total=   0.0s\n"
          ]
        },
        {
          "output_type": "stream",
          "name": "stderr",
          "text": [
            "/usr/local/lib/python3.7/dist-packages/sklearn/utils/validation.py:598: FutureWarning: np.matrix usage is deprecated in 1.0 and will raise a TypeError in 1.2. Please convert to a numpy array with np.asarray. For more information see: https://numpy.org/doc/stable/reference/generated/numpy.matrix.html\n",
            "  FutureWarning,\n"
          ]
        },
        {
          "output_type": "stream",
          "name": "stdout",
          "text": [
            "[Pipeline] ............... (step 7 of 7) Processing CLF, total=  17.8s\n"
          ]
        },
        {
          "output_type": "stream",
          "name": "stderr",
          "text": [
            "/usr/local/lib/python3.7/dist-packages/sklearn/utils/validation.py:598: FutureWarning: np.matrix usage is deprecated in 1.0 and will raise a TypeError in 1.2. Please convert to a numpy array with np.asarray. For more information see: https://numpy.org/doc/stable/reference/generated/numpy.matrix.html\n",
            "  FutureWarning,\n"
          ]
        },
        {
          "output_type": "stream",
          "name": "stdout",
          "text": [
            "[Pipeline] ... (step 1 of 7) Processing TweetNormalizer, total=   0.9s\n",
            "[Pipeline] .. (step 2 of 7) Processing FeatureExtractor, total=   4.2s\n",
            "[Pipeline] .. (step 3 of 7) Processing BigramVectorizer, total=   5.6s\n",
            "[Pipeline]  (step 4 of 7) Processing MatrixToArrayConverter, total=   0.0s\n",
            "[Pipeline] ..... (step 5 of 7) Processing OneHotEncoder, total=   0.4s\n",
            "[Pipeline] ..... (step 6 of 7) Processing MatrixUnifier, total=   0.0s\n"
          ]
        },
        {
          "output_type": "stream",
          "name": "stderr",
          "text": [
            "/usr/local/lib/python3.7/dist-packages/sklearn/utils/validation.py:598: FutureWarning: np.matrix usage is deprecated in 1.0 and will raise a TypeError in 1.2. Please convert to a numpy array with np.asarray. For more information see: https://numpy.org/doc/stable/reference/generated/numpy.matrix.html\n",
            "  FutureWarning,\n"
          ]
        },
        {
          "output_type": "stream",
          "name": "stdout",
          "text": [
            "[Pipeline] ............... (step 7 of 7) Processing CLF, total=  17.6s\n"
          ]
        },
        {
          "output_type": "stream",
          "name": "stderr",
          "text": [
            "/usr/local/lib/python3.7/dist-packages/sklearn/utils/validation.py:598: FutureWarning: np.matrix usage is deprecated in 1.0 and will raise a TypeError in 1.2. Please convert to a numpy array with np.asarray. For more information see: https://numpy.org/doc/stable/reference/generated/numpy.matrix.html\n",
            "  FutureWarning,\n"
          ]
        },
        {
          "output_type": "stream",
          "name": "stdout",
          "text": [
            "[Pipeline] ... (step 1 of 7) Processing TweetNormalizer, total=   1.1s\n",
            "[Pipeline] .. (step 2 of 7) Processing FeatureExtractor, total=   5.1s\n",
            "[Pipeline] .. (step 3 of 7) Processing BigramVectorizer, total=   6.4s\n",
            "[Pipeline]  (step 4 of 7) Processing MatrixToArrayConverter, total=   0.0s\n",
            "[Pipeline] ..... (step 5 of 7) Processing OneHotEncoder, total=   0.4s\n",
            "[Pipeline] ..... (step 6 of 7) Processing MatrixUnifier, total=   0.0s\n"
          ]
        },
        {
          "output_type": "stream",
          "name": "stderr",
          "text": [
            "/usr/local/lib/python3.7/dist-packages/sklearn/utils/validation.py:598: FutureWarning: np.matrix usage is deprecated in 1.0 and will raise a TypeError in 1.2. Please convert to a numpy array with np.asarray. For more information see: https://numpy.org/doc/stable/reference/generated/numpy.matrix.html\n",
            "  FutureWarning,\n"
          ]
        },
        {
          "output_type": "stream",
          "name": "stdout",
          "text": [
            "[Pipeline] ............... (step 7 of 7) Processing CLF, total=  17.3s\n"
          ]
        },
        {
          "output_type": "stream",
          "name": "stderr",
          "text": [
            "/usr/local/lib/python3.7/dist-packages/sklearn/utils/validation.py:598: FutureWarning: np.matrix usage is deprecated in 1.0 and will raise a TypeError in 1.2. Please convert to a numpy array with np.asarray. For more information see: https://numpy.org/doc/stable/reference/generated/numpy.matrix.html\n",
            "  FutureWarning,\n"
          ]
        },
        {
          "output_type": "stream",
          "name": "stdout",
          "text": [
            "[Pipeline] ... (step 1 of 7) Processing TweetNormalizer, total=   1.1s\n",
            "[Pipeline] .. (step 2 of 7) Processing FeatureExtractor, total=   5.4s\n",
            "[Pipeline] .. (step 3 of 7) Processing BigramVectorizer, total=   6.4s\n",
            "[Pipeline]  (step 4 of 7) Processing MatrixToArrayConverter, total=   0.0s\n",
            "[Pipeline] ..... (step 5 of 7) Processing OneHotEncoder, total=   0.4s\n",
            "[Pipeline] ..... (step 6 of 7) Processing MatrixUnifier, total=   0.0s\n"
          ]
        },
        {
          "output_type": "stream",
          "name": "stderr",
          "text": [
            "/usr/local/lib/python3.7/dist-packages/sklearn/utils/validation.py:598: FutureWarning: np.matrix usage is deprecated in 1.0 and will raise a TypeError in 1.2. Please convert to a numpy array with np.asarray. For more information see: https://numpy.org/doc/stable/reference/generated/numpy.matrix.html\n",
            "  FutureWarning,\n"
          ]
        },
        {
          "output_type": "stream",
          "name": "stdout",
          "text": [
            "[Pipeline] ............... (step 7 of 7) Processing CLF, total=  17.4s\n"
          ]
        },
        {
          "output_type": "stream",
          "name": "stderr",
          "text": [
            "/usr/local/lib/python3.7/dist-packages/sklearn/utils/validation.py:598: FutureWarning: np.matrix usage is deprecated in 1.0 and will raise a TypeError in 1.2. Please convert to a numpy array with np.asarray. For more information see: https://numpy.org/doc/stable/reference/generated/numpy.matrix.html\n",
            "  FutureWarning,\n"
          ]
        },
        {
          "output_type": "stream",
          "name": "stdout",
          "text": [
            "[Pipeline] ... (step 1 of 7) Processing TweetNormalizer, total=   1.1s\n",
            "[Pipeline] .. (step 2 of 7) Processing FeatureExtractor, total=   5.0s\n",
            "[Pipeline] .. (step 3 of 7) Processing BigramVectorizer, total=   6.5s\n",
            "[Pipeline]  (step 4 of 7) Processing MatrixToArrayConverter, total=   0.0s\n",
            "[Pipeline] ..... (step 5 of 7) Processing OneHotEncoder, total=   0.4s\n",
            "[Pipeline] ..... (step 6 of 7) Processing MatrixUnifier, total=   0.0s\n"
          ]
        },
        {
          "output_type": "stream",
          "name": "stderr",
          "text": [
            "/usr/local/lib/python3.7/dist-packages/sklearn/utils/validation.py:598: FutureWarning: np.matrix usage is deprecated in 1.0 and will raise a TypeError in 1.2. Please convert to a numpy array with np.asarray. For more information see: https://numpy.org/doc/stable/reference/generated/numpy.matrix.html\n",
            "  FutureWarning,\n"
          ]
        },
        {
          "output_type": "stream",
          "name": "stdout",
          "text": [
            "[Pipeline] ............... (step 7 of 7) Processing CLF, total=  29.8s\n"
          ]
        },
        {
          "output_type": "stream",
          "name": "stderr",
          "text": [
            "/usr/local/lib/python3.7/dist-packages/sklearn/utils/validation.py:598: FutureWarning: np.matrix usage is deprecated in 1.0 and will raise a TypeError in 1.2. Please convert to a numpy array with np.asarray. For more information see: https://numpy.org/doc/stable/reference/generated/numpy.matrix.html\n",
            "  FutureWarning,\n"
          ]
        },
        {
          "output_type": "stream",
          "name": "stdout",
          "text": [
            "[Pipeline] ... (step 1 of 7) Processing TweetNormalizer, total=   1.1s\n",
            "[Pipeline] .. (step 2 of 7) Processing FeatureExtractor, total=   5.0s\n",
            "[Pipeline] .. (step 3 of 7) Processing BigramVectorizer, total=   6.4s\n",
            "[Pipeline]  (step 4 of 7) Processing MatrixToArrayConverter, total=   0.0s\n",
            "[Pipeline] ..... (step 5 of 7) Processing OneHotEncoder, total=   0.4s\n",
            "[Pipeline] ..... (step 6 of 7) Processing MatrixUnifier, total=   0.0s\n"
          ]
        },
        {
          "output_type": "stream",
          "name": "stderr",
          "text": [
            "/usr/local/lib/python3.7/dist-packages/sklearn/utils/validation.py:598: FutureWarning: np.matrix usage is deprecated in 1.0 and will raise a TypeError in 1.2. Please convert to a numpy array with np.asarray. For more information see: https://numpy.org/doc/stable/reference/generated/numpy.matrix.html\n",
            "  FutureWarning,\n"
          ]
        },
        {
          "output_type": "stream",
          "name": "stdout",
          "text": [
            "[Pipeline] ............... (step 7 of 7) Processing CLF, total=  35.6s\n"
          ]
        },
        {
          "output_type": "stream",
          "name": "stderr",
          "text": [
            "/usr/local/lib/python3.7/dist-packages/sklearn/utils/validation.py:598: FutureWarning: np.matrix usage is deprecated in 1.0 and will raise a TypeError in 1.2. Please convert to a numpy array with np.asarray. For more information see: https://numpy.org/doc/stable/reference/generated/numpy.matrix.html\n",
            "  FutureWarning,\n"
          ]
        },
        {
          "output_type": "stream",
          "name": "stdout",
          "text": [
            "[Pipeline] ... (step 1 of 7) Processing TweetNormalizer, total=   1.1s\n",
            "[Pipeline] .. (step 2 of 7) Processing FeatureExtractor, total=   5.0s\n",
            "[Pipeline] .. (step 3 of 7) Processing BigramVectorizer, total=   6.4s\n",
            "[Pipeline]  (step 4 of 7) Processing MatrixToArrayConverter, total=   0.0s\n",
            "[Pipeline] ..... (step 5 of 7) Processing OneHotEncoder, total=   0.4s\n",
            "[Pipeline] ..... (step 6 of 7) Processing MatrixUnifier, total=   0.0s\n"
          ]
        },
        {
          "output_type": "stream",
          "name": "stderr",
          "text": [
            "/usr/local/lib/python3.7/dist-packages/sklearn/utils/validation.py:598: FutureWarning: np.matrix usage is deprecated in 1.0 and will raise a TypeError in 1.2. Please convert to a numpy array with np.asarray. For more information see: https://numpy.org/doc/stable/reference/generated/numpy.matrix.html\n",
            "  FutureWarning,\n"
          ]
        },
        {
          "output_type": "stream",
          "name": "stdout",
          "text": [
            "[Pipeline] ............... (step 7 of 7) Processing CLF, total=  29.0s\n"
          ]
        },
        {
          "output_type": "stream",
          "name": "stderr",
          "text": [
            "/usr/local/lib/python3.7/dist-packages/sklearn/utils/validation.py:598: FutureWarning: np.matrix usage is deprecated in 1.0 and will raise a TypeError in 1.2. Please convert to a numpy array with np.asarray. For more information see: https://numpy.org/doc/stable/reference/generated/numpy.matrix.html\n",
            "  FutureWarning,\n"
          ]
        },
        {
          "output_type": "stream",
          "name": "stdout",
          "text": [
            "[Pipeline] ... (step 1 of 7) Processing TweetNormalizer, total=   1.1s\n",
            "[Pipeline] .. (step 2 of 7) Processing FeatureExtractor, total=   5.0s\n",
            "[Pipeline] .. (step 3 of 7) Processing BigramVectorizer, total=   6.5s\n",
            "[Pipeline]  (step 4 of 7) Processing MatrixToArrayConverter, total=   0.0s\n",
            "[Pipeline] ..... (step 5 of 7) Processing OneHotEncoder, total=   0.4s\n",
            "[Pipeline] ..... (step 6 of 7) Processing MatrixUnifier, total=   0.0s\n"
          ]
        },
        {
          "output_type": "stream",
          "name": "stderr",
          "text": [
            "/usr/local/lib/python3.7/dist-packages/sklearn/utils/validation.py:598: FutureWarning: np.matrix usage is deprecated in 1.0 and will raise a TypeError in 1.2. Please convert to a numpy array with np.asarray. For more information see: https://numpy.org/doc/stable/reference/generated/numpy.matrix.html\n",
            "  FutureWarning,\n"
          ]
        },
        {
          "output_type": "stream",
          "name": "stdout",
          "text": [
            "[Pipeline] ............... (step 7 of 7) Processing CLF, total=  29.1s\n"
          ]
        },
        {
          "output_type": "stream",
          "name": "stderr",
          "text": [
            "/usr/local/lib/python3.7/dist-packages/sklearn/utils/validation.py:598: FutureWarning: np.matrix usage is deprecated in 1.0 and will raise a TypeError in 1.2. Please convert to a numpy array with np.asarray. For more information see: https://numpy.org/doc/stable/reference/generated/numpy.matrix.html\n",
            "  FutureWarning,\n"
          ]
        },
        {
          "output_type": "stream",
          "name": "stdout",
          "text": [
            "[Pipeline] ... (step 1 of 7) Processing TweetNormalizer, total=   1.1s\n",
            "[Pipeline] .. (step 2 of 7) Processing FeatureExtractor, total=   5.1s\n",
            "[Pipeline] .. (step 3 of 7) Processing BigramVectorizer, total=   6.4s\n",
            "[Pipeline]  (step 4 of 7) Processing MatrixToArrayConverter, total=   0.0s\n",
            "[Pipeline] ..... (step 5 of 7) Processing OneHotEncoder, total=   0.4s\n",
            "[Pipeline] ..... (step 6 of 7) Processing MatrixUnifier, total=   0.0s\n"
          ]
        },
        {
          "output_type": "stream",
          "name": "stderr",
          "text": [
            "/usr/local/lib/python3.7/dist-packages/sklearn/utils/validation.py:598: FutureWarning: np.matrix usage is deprecated in 1.0 and will raise a TypeError in 1.2. Please convert to a numpy array with np.asarray. For more information see: https://numpy.org/doc/stable/reference/generated/numpy.matrix.html\n",
            "  FutureWarning,\n"
          ]
        },
        {
          "output_type": "stream",
          "name": "stdout",
          "text": [
            "[Pipeline] ............... (step 7 of 7) Processing CLF, total=  30.0s\n"
          ]
        },
        {
          "output_type": "stream",
          "name": "stderr",
          "text": [
            "/usr/local/lib/python3.7/dist-packages/sklearn/utils/validation.py:598: FutureWarning: np.matrix usage is deprecated in 1.0 and will raise a TypeError in 1.2. Please convert to a numpy array with np.asarray. For more information see: https://numpy.org/doc/stable/reference/generated/numpy.matrix.html\n",
            "  FutureWarning,\n"
          ]
        },
        {
          "output_type": "stream",
          "name": "stdout",
          "text": [
            "[Pipeline] ... (step 1 of 7) Processing TweetNormalizer, total=   1.1s\n",
            "[Pipeline] .. (step 2 of 7) Processing FeatureExtractor, total=   5.0s\n",
            "[Pipeline] .. (step 3 of 7) Processing BigramVectorizer, total=   7.1s\n",
            "[Pipeline]  (step 4 of 7) Processing MatrixToArrayConverter, total=   0.0s\n",
            "[Pipeline] ..... (step 5 of 7) Processing OneHotEncoder, total=   0.4s\n",
            "[Pipeline] ..... (step 6 of 7) Processing MatrixUnifier, total=   0.0s\n"
          ]
        },
        {
          "output_type": "stream",
          "name": "stderr",
          "text": [
            "/usr/local/lib/python3.7/dist-packages/sklearn/utils/validation.py:598: FutureWarning: np.matrix usage is deprecated in 1.0 and will raise a TypeError in 1.2. Please convert to a numpy array with np.asarray. For more information see: https://numpy.org/doc/stable/reference/generated/numpy.matrix.html\n",
            "  FutureWarning,\n"
          ]
        },
        {
          "output_type": "stream",
          "name": "stdout",
          "text": [
            "[Pipeline] ............... (step 7 of 7) Processing CLF, total=  28.9s\n"
          ]
        },
        {
          "output_type": "stream",
          "name": "stderr",
          "text": [
            "/usr/local/lib/python3.7/dist-packages/sklearn/utils/validation.py:598: FutureWarning: np.matrix usage is deprecated in 1.0 and will raise a TypeError in 1.2. Please convert to a numpy array with np.asarray. For more information see: https://numpy.org/doc/stable/reference/generated/numpy.matrix.html\n",
            "  FutureWarning,\n"
          ]
        },
        {
          "output_type": "stream",
          "name": "stdout",
          "text": [
            "[Pipeline] ... (step 1 of 7) Processing TweetNormalizer, total=   1.1s\n",
            "[Pipeline] .. (step 2 of 7) Processing FeatureExtractor, total=   5.0s\n",
            "[Pipeline] .. (step 3 of 7) Processing BigramVectorizer, total=   6.4s\n",
            "[Pipeline]  (step 4 of 7) Processing MatrixToArrayConverter, total=   0.0s\n",
            "[Pipeline] ..... (step 5 of 7) Processing OneHotEncoder, total=   0.4s\n",
            "[Pipeline] ..... (step 6 of 7) Processing MatrixUnifier, total=   0.0s\n"
          ]
        },
        {
          "output_type": "stream",
          "name": "stderr",
          "text": [
            "/usr/local/lib/python3.7/dist-packages/sklearn/utils/validation.py:598: FutureWarning: np.matrix usage is deprecated in 1.0 and will raise a TypeError in 1.2. Please convert to a numpy array with np.asarray. For more information see: https://numpy.org/doc/stable/reference/generated/numpy.matrix.html\n",
            "  FutureWarning,\n"
          ]
        },
        {
          "output_type": "stream",
          "name": "stdout",
          "text": [
            "[Pipeline] ............... (step 7 of 7) Processing CLF, total=  29.1s\n"
          ]
        },
        {
          "output_type": "stream",
          "name": "stderr",
          "text": [
            "/usr/local/lib/python3.7/dist-packages/sklearn/utils/validation.py:598: FutureWarning: np.matrix usage is deprecated in 1.0 and will raise a TypeError in 1.2. Please convert to a numpy array with np.asarray. For more information see: https://numpy.org/doc/stable/reference/generated/numpy.matrix.html\n",
            "  FutureWarning,\n"
          ]
        },
        {
          "output_type": "stream",
          "name": "stdout",
          "text": [
            "[Pipeline] ... (step 1 of 7) Processing TweetNormalizer, total=   0.9s\n",
            "[Pipeline] .. (step 2 of 7) Processing FeatureExtractor, total=   4.2s\n",
            "[Pipeline] .. (step 3 of 7) Processing BigramVectorizer, total=   5.6s\n",
            "[Pipeline]  (step 4 of 7) Processing MatrixToArrayConverter, total=   0.0s\n",
            "[Pipeline] ..... (step 5 of 7) Processing OneHotEncoder, total=   0.4s\n",
            "[Pipeline] ..... (step 6 of 7) Processing MatrixUnifier, total=   0.0s\n"
          ]
        },
        {
          "output_type": "stream",
          "name": "stderr",
          "text": [
            "/usr/local/lib/python3.7/dist-packages/sklearn/utils/validation.py:598: FutureWarning: np.matrix usage is deprecated in 1.0 and will raise a TypeError in 1.2. Please convert to a numpy array with np.asarray. For more information see: https://numpy.org/doc/stable/reference/generated/numpy.matrix.html\n",
            "  FutureWarning,\n"
          ]
        },
        {
          "output_type": "stream",
          "name": "stdout",
          "text": [
            "[Pipeline] ............... (step 7 of 7) Processing CLF, total=  29.9s\n"
          ]
        },
        {
          "output_type": "stream",
          "name": "stderr",
          "text": [
            "/usr/local/lib/python3.7/dist-packages/sklearn/utils/validation.py:598: FutureWarning: np.matrix usage is deprecated in 1.0 and will raise a TypeError in 1.2. Please convert to a numpy array with np.asarray. For more information see: https://numpy.org/doc/stable/reference/generated/numpy.matrix.html\n",
            "  FutureWarning,\n"
          ]
        },
        {
          "output_type": "stream",
          "name": "stdout",
          "text": [
            "[Pipeline] ... (step 1 of 7) Processing TweetNormalizer, total=   1.1s\n",
            "[Pipeline] .. (step 2 of 7) Processing FeatureExtractor, total=   5.0s\n",
            "[Pipeline] .. (step 3 of 7) Processing BigramVectorizer, total=   6.5s\n",
            "[Pipeline]  (step 4 of 7) Processing MatrixToArrayConverter, total=   0.0s\n",
            "[Pipeline] ..... (step 5 of 7) Processing OneHotEncoder, total=   0.4s\n",
            "[Pipeline] ..... (step 6 of 7) Processing MatrixUnifier, total=   0.0s\n"
          ]
        },
        {
          "output_type": "stream",
          "name": "stderr",
          "text": [
            "/usr/local/lib/python3.7/dist-packages/sklearn/utils/validation.py:598: FutureWarning: np.matrix usage is deprecated in 1.0 and will raise a TypeError in 1.2. Please convert to a numpy array with np.asarray. For more information see: https://numpy.org/doc/stable/reference/generated/numpy.matrix.html\n",
            "  FutureWarning,\n"
          ]
        },
        {
          "output_type": "stream",
          "name": "stdout",
          "text": [
            "[Pipeline] ............... (step 7 of 7) Processing CLF, total=  29.0s\n"
          ]
        },
        {
          "output_type": "stream",
          "name": "stderr",
          "text": [
            "/usr/local/lib/python3.7/dist-packages/sklearn/utils/validation.py:598: FutureWarning: np.matrix usage is deprecated in 1.0 and will raise a TypeError in 1.2. Please convert to a numpy array with np.asarray. For more information see: https://numpy.org/doc/stable/reference/generated/numpy.matrix.html\n",
            "  FutureWarning,\n"
          ]
        },
        {
          "output_type": "stream",
          "name": "stdout",
          "text": [
            "[Pipeline] ... (step 1 of 7) Processing TweetNormalizer, total=   1.1s\n",
            "[Pipeline] .. (step 2 of 7) Processing FeatureExtractor, total=   5.0s\n",
            "[Pipeline] .. (step 3 of 7) Processing BigramVectorizer, total=   6.6s\n",
            "[Pipeline]  (step 4 of 7) Processing MatrixToArrayConverter, total=   0.0s\n",
            "[Pipeline] ..... (step 5 of 7) Processing OneHotEncoder, total=   0.4s\n",
            "[Pipeline] ..... (step 6 of 7) Processing MatrixUnifier, total=   0.0s\n"
          ]
        },
        {
          "output_type": "stream",
          "name": "stderr",
          "text": [
            "/usr/local/lib/python3.7/dist-packages/sklearn/utils/validation.py:598: FutureWarning: np.matrix usage is deprecated in 1.0 and will raise a TypeError in 1.2. Please convert to a numpy array with np.asarray. For more information see: https://numpy.org/doc/stable/reference/generated/numpy.matrix.html\n",
            "  FutureWarning,\n"
          ]
        },
        {
          "output_type": "stream",
          "name": "stdout",
          "text": [
            "[Pipeline] ............... (step 7 of 7) Processing CLF, total=  29.1s\n"
          ]
        },
        {
          "output_type": "stream",
          "name": "stderr",
          "text": [
            "/usr/local/lib/python3.7/dist-packages/sklearn/utils/validation.py:598: FutureWarning: np.matrix usage is deprecated in 1.0 and will raise a TypeError in 1.2. Please convert to a numpy array with np.asarray. For more information see: https://numpy.org/doc/stable/reference/generated/numpy.matrix.html\n",
            "  FutureWarning,\n"
          ]
        },
        {
          "output_type": "stream",
          "name": "stdout",
          "text": [
            "[Pipeline] ... (step 1 of 7) Processing TweetNormalizer, total=   1.1s\n",
            "[Pipeline] .. (step 2 of 7) Processing FeatureExtractor, total=   5.0s\n",
            "[Pipeline] .. (step 3 of 7) Processing BigramVectorizer, total=   6.4s\n",
            "[Pipeline]  (step 4 of 7) Processing MatrixToArrayConverter, total=   0.0s\n",
            "[Pipeline] ..... (step 5 of 7) Processing OneHotEncoder, total=   0.4s\n",
            "[Pipeline] ..... (step 6 of 7) Processing MatrixUnifier, total=   0.0s\n"
          ]
        },
        {
          "output_type": "stream",
          "name": "stderr",
          "text": [
            "/usr/local/lib/python3.7/dist-packages/sklearn/utils/validation.py:598: FutureWarning: np.matrix usage is deprecated in 1.0 and will raise a TypeError in 1.2. Please convert to a numpy array with np.asarray. For more information see: https://numpy.org/doc/stable/reference/generated/numpy.matrix.html\n",
            "  FutureWarning,\n"
          ]
        },
        {
          "output_type": "stream",
          "name": "stdout",
          "text": [
            "[Pipeline] ............... (step 7 of 7) Processing CLF, total=  17.3s\n"
          ]
        },
        {
          "output_type": "stream",
          "name": "stderr",
          "text": [
            "/usr/local/lib/python3.7/dist-packages/sklearn/utils/validation.py:598: FutureWarning: np.matrix usage is deprecated in 1.0 and will raise a TypeError in 1.2. Please convert to a numpy array with np.asarray. For more information see: https://numpy.org/doc/stable/reference/generated/numpy.matrix.html\n",
            "  FutureWarning,\n"
          ]
        },
        {
          "output_type": "stream",
          "name": "stdout",
          "text": [
            "[Pipeline] ... (step 1 of 7) Processing TweetNormalizer, total=   1.1s\n",
            "[Pipeline] .. (step 2 of 7) Processing FeatureExtractor, total=   5.0s\n",
            "[Pipeline] .. (step 3 of 7) Processing BigramVectorizer, total=   6.4s\n",
            "[Pipeline]  (step 4 of 7) Processing MatrixToArrayConverter, total=   0.0s\n",
            "[Pipeline] ..... (step 5 of 7) Processing OneHotEncoder, total=   0.4s\n",
            "[Pipeline] ..... (step 6 of 7) Processing MatrixUnifier, total=   0.0s\n"
          ]
        },
        {
          "output_type": "stream",
          "name": "stderr",
          "text": [
            "/usr/local/lib/python3.7/dist-packages/sklearn/utils/validation.py:598: FutureWarning: np.matrix usage is deprecated in 1.0 and will raise a TypeError in 1.2. Please convert to a numpy array with np.asarray. For more information see: https://numpy.org/doc/stable/reference/generated/numpy.matrix.html\n",
            "  FutureWarning,\n"
          ]
        },
        {
          "output_type": "stream",
          "name": "stdout",
          "text": [
            "[Pipeline] ............... (step 7 of 7) Processing CLF, total=  17.4s\n"
          ]
        },
        {
          "output_type": "stream",
          "name": "stderr",
          "text": [
            "/usr/local/lib/python3.7/dist-packages/sklearn/utils/validation.py:598: FutureWarning: np.matrix usage is deprecated in 1.0 and will raise a TypeError in 1.2. Please convert to a numpy array with np.asarray. For more information see: https://numpy.org/doc/stable/reference/generated/numpy.matrix.html\n",
            "  FutureWarning,\n"
          ]
        },
        {
          "output_type": "stream",
          "name": "stdout",
          "text": [
            "[Pipeline] ... (step 1 of 7) Processing TweetNormalizer, total=   1.1s\n",
            "[Pipeline] .. (step 2 of 7) Processing FeatureExtractor, total=   5.0s\n",
            "[Pipeline] .. (step 3 of 7) Processing BigramVectorizer, total=   6.3s\n",
            "[Pipeline]  (step 4 of 7) Processing MatrixToArrayConverter, total=   0.0s\n",
            "[Pipeline] ..... (step 5 of 7) Processing OneHotEncoder, total=   0.4s\n",
            "[Pipeline] ..... (step 6 of 7) Processing MatrixUnifier, total=   0.0s\n"
          ]
        },
        {
          "output_type": "stream",
          "name": "stderr",
          "text": [
            "/usr/local/lib/python3.7/dist-packages/sklearn/utils/validation.py:598: FutureWarning: np.matrix usage is deprecated in 1.0 and will raise a TypeError in 1.2. Please convert to a numpy array with np.asarray. For more information see: https://numpy.org/doc/stable/reference/generated/numpy.matrix.html\n",
            "  FutureWarning,\n"
          ]
        },
        {
          "output_type": "stream",
          "name": "stdout",
          "text": [
            "[Pipeline] ............... (step 7 of 7) Processing CLF, total=  16.6s\n"
          ]
        },
        {
          "output_type": "stream",
          "name": "stderr",
          "text": [
            "/usr/local/lib/python3.7/dist-packages/sklearn/utils/validation.py:598: FutureWarning: np.matrix usage is deprecated in 1.0 and will raise a TypeError in 1.2. Please convert to a numpy array with np.asarray. For more information see: https://numpy.org/doc/stable/reference/generated/numpy.matrix.html\n",
            "  FutureWarning,\n"
          ]
        },
        {
          "output_type": "stream",
          "name": "stdout",
          "text": [
            "[Pipeline] ... (step 1 of 7) Processing TweetNormalizer, total=   1.1s\n",
            "[Pipeline] .. (step 2 of 7) Processing FeatureExtractor, total=   5.0s\n",
            "[Pipeline] .. (step 3 of 7) Processing BigramVectorizer, total=   6.4s\n",
            "[Pipeline]  (step 4 of 7) Processing MatrixToArrayConverter, total=   0.0s\n",
            "[Pipeline] ..... (step 5 of 7) Processing OneHotEncoder, total=   0.4s\n",
            "[Pipeline] ..... (step 6 of 7) Processing MatrixUnifier, total=   0.0s\n"
          ]
        },
        {
          "output_type": "stream",
          "name": "stderr",
          "text": [
            "/usr/local/lib/python3.7/dist-packages/sklearn/utils/validation.py:598: FutureWarning: np.matrix usage is deprecated in 1.0 and will raise a TypeError in 1.2. Please convert to a numpy array with np.asarray. For more information see: https://numpy.org/doc/stable/reference/generated/numpy.matrix.html\n",
            "  FutureWarning,\n"
          ]
        },
        {
          "output_type": "stream",
          "name": "stdout",
          "text": [
            "[Pipeline] ............... (step 7 of 7) Processing CLF, total=  16.5s\n"
          ]
        },
        {
          "output_type": "stream",
          "name": "stderr",
          "text": [
            "/usr/local/lib/python3.7/dist-packages/sklearn/utils/validation.py:598: FutureWarning: np.matrix usage is deprecated in 1.0 and will raise a TypeError in 1.2. Please convert to a numpy array with np.asarray. For more information see: https://numpy.org/doc/stable/reference/generated/numpy.matrix.html\n",
            "  FutureWarning,\n"
          ]
        },
        {
          "output_type": "stream",
          "name": "stdout",
          "text": [
            "[Pipeline] ... (step 1 of 7) Processing TweetNormalizer, total=   1.1s\n",
            "[Pipeline] .. (step 2 of 7) Processing FeatureExtractor, total=   4.9s\n",
            "[Pipeline] .. (step 3 of 7) Processing BigramVectorizer, total=   6.3s\n",
            "[Pipeline]  (step 4 of 7) Processing MatrixToArrayConverter, total=   0.0s\n",
            "[Pipeline] ..... (step 5 of 7) Processing OneHotEncoder, total=   0.4s\n",
            "[Pipeline] ..... (step 6 of 7) Processing MatrixUnifier, total=   0.0s\n"
          ]
        },
        {
          "output_type": "stream",
          "name": "stderr",
          "text": [
            "/usr/local/lib/python3.7/dist-packages/sklearn/utils/validation.py:598: FutureWarning: np.matrix usage is deprecated in 1.0 and will raise a TypeError in 1.2. Please convert to a numpy array with np.asarray. For more information see: https://numpy.org/doc/stable/reference/generated/numpy.matrix.html\n",
            "  FutureWarning,\n"
          ]
        },
        {
          "output_type": "stream",
          "name": "stdout",
          "text": [
            "[Pipeline] ............... (step 7 of 7) Processing CLF, total=  16.8s\n"
          ]
        },
        {
          "output_type": "stream",
          "name": "stderr",
          "text": [
            "/usr/local/lib/python3.7/dist-packages/sklearn/utils/validation.py:598: FutureWarning: np.matrix usage is deprecated in 1.0 and will raise a TypeError in 1.2. Please convert to a numpy array with np.asarray. For more information see: https://numpy.org/doc/stable/reference/generated/numpy.matrix.html\n",
            "  FutureWarning,\n"
          ]
        },
        {
          "output_type": "stream",
          "name": "stdout",
          "text": [
            "[Pipeline] ... (step 1 of 7) Processing TweetNormalizer, total=   1.1s\n",
            "[Pipeline] .. (step 2 of 7) Processing FeatureExtractor, total=   5.1s\n",
            "[Pipeline] .. (step 3 of 7) Processing BigramVectorizer, total=   6.4s\n",
            "[Pipeline]  (step 4 of 7) Processing MatrixToArrayConverter, total=   0.0s\n",
            "[Pipeline] ..... (step 5 of 7) Processing OneHotEncoder, total=   0.4s\n",
            "[Pipeline] ..... (step 6 of 7) Processing MatrixUnifier, total=   0.0s\n"
          ]
        },
        {
          "output_type": "stream",
          "name": "stderr",
          "text": [
            "/usr/local/lib/python3.7/dist-packages/sklearn/utils/validation.py:598: FutureWarning: np.matrix usage is deprecated in 1.0 and will raise a TypeError in 1.2. Please convert to a numpy array with np.asarray. For more information see: https://numpy.org/doc/stable/reference/generated/numpy.matrix.html\n",
            "  FutureWarning,\n"
          ]
        },
        {
          "output_type": "stream",
          "name": "stdout",
          "text": [
            "[Pipeline] ............... (step 7 of 7) Processing CLF, total=  16.7s\n"
          ]
        },
        {
          "output_type": "stream",
          "name": "stderr",
          "text": [
            "/usr/local/lib/python3.7/dist-packages/sklearn/utils/validation.py:598: FutureWarning: np.matrix usage is deprecated in 1.0 and will raise a TypeError in 1.2. Please convert to a numpy array with np.asarray. For more information see: https://numpy.org/doc/stable/reference/generated/numpy.matrix.html\n",
            "  FutureWarning,\n"
          ]
        },
        {
          "output_type": "stream",
          "name": "stdout",
          "text": [
            "[Pipeline] ... (step 1 of 7) Processing TweetNormalizer, total=   1.1s\n",
            "[Pipeline] .. (step 2 of 7) Processing FeatureExtractor, total=   4.9s\n",
            "[Pipeline] .. (step 3 of 7) Processing BigramVectorizer, total=   6.3s\n",
            "[Pipeline]  (step 4 of 7) Processing MatrixToArrayConverter, total=   0.0s\n",
            "[Pipeline] ..... (step 5 of 7) Processing OneHotEncoder, total=   0.4s\n",
            "[Pipeline] ..... (step 6 of 7) Processing MatrixUnifier, total=   0.0s\n"
          ]
        },
        {
          "output_type": "stream",
          "name": "stderr",
          "text": [
            "/usr/local/lib/python3.7/dist-packages/sklearn/utils/validation.py:598: FutureWarning: np.matrix usage is deprecated in 1.0 and will raise a TypeError in 1.2. Please convert to a numpy array with np.asarray. For more information see: https://numpy.org/doc/stable/reference/generated/numpy.matrix.html\n",
            "  FutureWarning,\n"
          ]
        },
        {
          "output_type": "stream",
          "name": "stdout",
          "text": [
            "[Pipeline] ............... (step 7 of 7) Processing CLF, total=  16.6s\n"
          ]
        },
        {
          "output_type": "stream",
          "name": "stderr",
          "text": [
            "/usr/local/lib/python3.7/dist-packages/sklearn/utils/validation.py:598: FutureWarning: np.matrix usage is deprecated in 1.0 and will raise a TypeError in 1.2. Please convert to a numpy array with np.asarray. For more information see: https://numpy.org/doc/stable/reference/generated/numpy.matrix.html\n",
            "  FutureWarning,\n"
          ]
        },
        {
          "output_type": "stream",
          "name": "stdout",
          "text": [
            "[Pipeline] ... (step 1 of 7) Processing TweetNormalizer, total=   0.8s\n",
            "[Pipeline] .. (step 2 of 7) Processing FeatureExtractor, total=   4.1s\n",
            "[Pipeline] .. (step 3 of 7) Processing BigramVectorizer, total=   5.4s\n",
            "[Pipeline]  (step 4 of 7) Processing MatrixToArrayConverter, total=   0.0s\n",
            "[Pipeline] ..... (step 5 of 7) Processing OneHotEncoder, total=   0.4s\n",
            "[Pipeline] ..... (step 6 of 7) Processing MatrixUnifier, total=   0.0s\n"
          ]
        },
        {
          "output_type": "stream",
          "name": "stderr",
          "text": [
            "/usr/local/lib/python3.7/dist-packages/sklearn/utils/validation.py:598: FutureWarning: np.matrix usage is deprecated in 1.0 and will raise a TypeError in 1.2. Please convert to a numpy array with np.asarray. For more information see: https://numpy.org/doc/stable/reference/generated/numpy.matrix.html\n",
            "  FutureWarning,\n"
          ]
        },
        {
          "output_type": "stream",
          "name": "stdout",
          "text": [
            "[Pipeline] ............... (step 7 of 7) Processing CLF, total=  16.5s\n"
          ]
        },
        {
          "output_type": "stream",
          "name": "stderr",
          "text": [
            "/usr/local/lib/python3.7/dist-packages/sklearn/utils/validation.py:598: FutureWarning: np.matrix usage is deprecated in 1.0 and will raise a TypeError in 1.2. Please convert to a numpy array with np.asarray. For more information see: https://numpy.org/doc/stable/reference/generated/numpy.matrix.html\n",
            "  FutureWarning,\n"
          ]
        },
        {
          "output_type": "stream",
          "name": "stdout",
          "text": [
            "[Pipeline] ... (step 1 of 7) Processing TweetNormalizer, total=   1.1s\n",
            "[Pipeline] .. (step 2 of 7) Processing FeatureExtractor, total=   4.9s\n",
            "[Pipeline] .. (step 3 of 7) Processing BigramVectorizer, total=   6.2s\n",
            "[Pipeline]  (step 4 of 7) Processing MatrixToArrayConverter, total=   0.0s\n",
            "[Pipeline] ..... (step 5 of 7) Processing OneHotEncoder, total=   0.4s\n",
            "[Pipeline] ..... (step 6 of 7) Processing MatrixUnifier, total=   0.0s\n"
          ]
        },
        {
          "output_type": "stream",
          "name": "stderr",
          "text": [
            "/usr/local/lib/python3.7/dist-packages/sklearn/utils/validation.py:598: FutureWarning: np.matrix usage is deprecated in 1.0 and will raise a TypeError in 1.2. Please convert to a numpy array with np.asarray. For more information see: https://numpy.org/doc/stable/reference/generated/numpy.matrix.html\n",
            "  FutureWarning,\n"
          ]
        },
        {
          "output_type": "stream",
          "name": "stdout",
          "text": [
            "[Pipeline] ............... (step 7 of 7) Processing CLF, total=  16.2s\n"
          ]
        },
        {
          "output_type": "stream",
          "name": "stderr",
          "text": [
            "/usr/local/lib/python3.7/dist-packages/sklearn/utils/validation.py:598: FutureWarning: np.matrix usage is deprecated in 1.0 and will raise a TypeError in 1.2. Please convert to a numpy array with np.asarray. For more information see: https://numpy.org/doc/stable/reference/generated/numpy.matrix.html\n",
            "  FutureWarning,\n"
          ]
        },
        {
          "output_type": "stream",
          "name": "stdout",
          "text": [
            "[Pipeline] ... (step 1 of 7) Processing TweetNormalizer, total=   1.1s\n",
            "[Pipeline] .. (step 2 of 7) Processing FeatureExtractor, total=   4.9s\n",
            "[Pipeline] .. (step 3 of 7) Processing BigramVectorizer, total=   6.2s\n",
            "[Pipeline]  (step 4 of 7) Processing MatrixToArrayConverter, total=   0.0s\n",
            "[Pipeline] ..... (step 5 of 7) Processing OneHotEncoder, total=   0.4s\n",
            "[Pipeline] ..... (step 6 of 7) Processing MatrixUnifier, total=   0.0s\n"
          ]
        },
        {
          "output_type": "stream",
          "name": "stderr",
          "text": [
            "/usr/local/lib/python3.7/dist-packages/sklearn/utils/validation.py:598: FutureWarning: np.matrix usage is deprecated in 1.0 and will raise a TypeError in 1.2. Please convert to a numpy array with np.asarray. For more information see: https://numpy.org/doc/stable/reference/generated/numpy.matrix.html\n",
            "  FutureWarning,\n"
          ]
        },
        {
          "output_type": "stream",
          "name": "stdout",
          "text": [
            "[Pipeline] ............... (step 7 of 7) Processing CLF, total=  16.3s\n"
          ]
        },
        {
          "output_type": "stream",
          "name": "stderr",
          "text": [
            "/usr/local/lib/python3.7/dist-packages/sklearn/utils/validation.py:598: FutureWarning: np.matrix usage is deprecated in 1.0 and will raise a TypeError in 1.2. Please convert to a numpy array with np.asarray. For more information see: https://numpy.org/doc/stable/reference/generated/numpy.matrix.html\n",
            "  FutureWarning,\n"
          ]
        },
        {
          "output_type": "stream",
          "name": "stdout",
          "text": [
            "[Pipeline] ... (step 1 of 7) Processing TweetNormalizer, total=   1.1s\n",
            "[Pipeline] .. (step 2 of 7) Processing FeatureExtractor, total=   5.0s\n",
            "[Pipeline] .. (step 3 of 7) Processing BigramVectorizer, total=   6.3s\n",
            "[Pipeline]  (step 4 of 7) Processing MatrixToArrayConverter, total=   0.0s\n",
            "[Pipeline] ..... (step 5 of 7) Processing OneHotEncoder, total=   0.4s\n",
            "[Pipeline] ..... (step 6 of 7) Processing MatrixUnifier, total=   0.0s\n"
          ]
        },
        {
          "output_type": "stream",
          "name": "stderr",
          "text": [
            "/usr/local/lib/python3.7/dist-packages/sklearn/utils/validation.py:598: FutureWarning: np.matrix usage is deprecated in 1.0 and will raise a TypeError in 1.2. Please convert to a numpy array with np.asarray. For more information see: https://numpy.org/doc/stable/reference/generated/numpy.matrix.html\n",
            "  FutureWarning,\n"
          ]
        },
        {
          "output_type": "stream",
          "name": "stdout",
          "text": [
            "[Pipeline] ............... (step 7 of 7) Processing CLF, total=  27.7s\n"
          ]
        },
        {
          "output_type": "stream",
          "name": "stderr",
          "text": [
            "/usr/local/lib/python3.7/dist-packages/sklearn/utils/validation.py:598: FutureWarning: np.matrix usage is deprecated in 1.0 and will raise a TypeError in 1.2. Please convert to a numpy array with np.asarray. For more information see: https://numpy.org/doc/stable/reference/generated/numpy.matrix.html\n",
            "  FutureWarning,\n"
          ]
        },
        {
          "output_type": "stream",
          "name": "stdout",
          "text": [
            "[Pipeline] ... (step 1 of 7) Processing TweetNormalizer, total=   1.1s\n",
            "[Pipeline] .. (step 2 of 7) Processing FeatureExtractor, total=   4.9s\n",
            "[Pipeline] .. (step 3 of 7) Processing BigramVectorizer, total=   6.3s\n",
            "[Pipeline]  (step 4 of 7) Processing MatrixToArrayConverter, total=   0.0s\n",
            "[Pipeline] ..... (step 5 of 7) Processing OneHotEncoder, total=   0.4s\n",
            "[Pipeline] ..... (step 6 of 7) Processing MatrixUnifier, total=   0.0s\n"
          ]
        },
        {
          "output_type": "stream",
          "name": "stderr",
          "text": [
            "/usr/local/lib/python3.7/dist-packages/sklearn/utils/validation.py:598: FutureWarning: np.matrix usage is deprecated in 1.0 and will raise a TypeError in 1.2. Please convert to a numpy array with np.asarray. For more information see: https://numpy.org/doc/stable/reference/generated/numpy.matrix.html\n",
            "  FutureWarning,\n"
          ]
        },
        {
          "output_type": "stream",
          "name": "stdout",
          "text": [
            "[Pipeline] ............... (step 7 of 7) Processing CLF, total=  27.6s\n"
          ]
        },
        {
          "output_type": "stream",
          "name": "stderr",
          "text": [
            "/usr/local/lib/python3.7/dist-packages/sklearn/utils/validation.py:598: FutureWarning: np.matrix usage is deprecated in 1.0 and will raise a TypeError in 1.2. Please convert to a numpy array with np.asarray. For more information see: https://numpy.org/doc/stable/reference/generated/numpy.matrix.html\n",
            "  FutureWarning,\n"
          ]
        },
        {
          "output_type": "stream",
          "name": "stdout",
          "text": [
            "[Pipeline] ... (step 1 of 7) Processing TweetNormalizer, total=   1.1s\n",
            "[Pipeline] .. (step 2 of 7) Processing FeatureExtractor, total=   5.0s\n",
            "[Pipeline] .. (step 3 of 7) Processing BigramVectorizer, total=   6.3s\n",
            "[Pipeline]  (step 4 of 7) Processing MatrixToArrayConverter, total=   0.0s\n",
            "[Pipeline] ..... (step 5 of 7) Processing OneHotEncoder, total=   0.4s\n",
            "[Pipeline] ..... (step 6 of 7) Processing MatrixUnifier, total=   0.0s\n"
          ]
        },
        {
          "output_type": "stream",
          "name": "stderr",
          "text": [
            "/usr/local/lib/python3.7/dist-packages/sklearn/utils/validation.py:598: FutureWarning: np.matrix usage is deprecated in 1.0 and will raise a TypeError in 1.2. Please convert to a numpy array with np.asarray. For more information see: https://numpy.org/doc/stable/reference/generated/numpy.matrix.html\n",
            "  FutureWarning,\n"
          ]
        },
        {
          "output_type": "stream",
          "name": "stdout",
          "text": [
            "[Pipeline] ............... (step 7 of 7) Processing CLF, total=  27.9s\n"
          ]
        },
        {
          "output_type": "stream",
          "name": "stderr",
          "text": [
            "/usr/local/lib/python3.7/dist-packages/sklearn/utils/validation.py:598: FutureWarning: np.matrix usage is deprecated in 1.0 and will raise a TypeError in 1.2. Please convert to a numpy array with np.asarray. For more information see: https://numpy.org/doc/stable/reference/generated/numpy.matrix.html\n",
            "  FutureWarning,\n"
          ]
        },
        {
          "output_type": "stream",
          "name": "stdout",
          "text": [
            "[Pipeline] ... (step 1 of 7) Processing TweetNormalizer, total=   1.1s\n",
            "[Pipeline] .. (step 2 of 7) Processing FeatureExtractor, total=   4.9s\n",
            "[Pipeline] .. (step 3 of 7) Processing BigramVectorizer, total=   6.3s\n",
            "[Pipeline]  (step 4 of 7) Processing MatrixToArrayConverter, total=   0.0s\n",
            "[Pipeline] ..... (step 5 of 7) Processing OneHotEncoder, total=   0.4s\n",
            "[Pipeline] ..... (step 6 of 7) Processing MatrixUnifier, total=   0.0s\n"
          ]
        },
        {
          "output_type": "stream",
          "name": "stderr",
          "text": [
            "/usr/local/lib/python3.7/dist-packages/sklearn/utils/validation.py:598: FutureWarning: np.matrix usage is deprecated in 1.0 and will raise a TypeError in 1.2. Please convert to a numpy array with np.asarray. For more information see: https://numpy.org/doc/stable/reference/generated/numpy.matrix.html\n",
            "  FutureWarning,\n"
          ]
        },
        {
          "output_type": "stream",
          "name": "stdout",
          "text": [
            "[Pipeline] ............... (step 7 of 7) Processing CLF, total=  27.4s\n"
          ]
        },
        {
          "output_type": "stream",
          "name": "stderr",
          "text": [
            "/usr/local/lib/python3.7/dist-packages/sklearn/utils/validation.py:598: FutureWarning: np.matrix usage is deprecated in 1.0 and will raise a TypeError in 1.2. Please convert to a numpy array with np.asarray. For more information see: https://numpy.org/doc/stable/reference/generated/numpy.matrix.html\n",
            "  FutureWarning,\n"
          ]
        },
        {
          "output_type": "stream",
          "name": "stdout",
          "text": [
            "[Pipeline] ... (step 1 of 7) Processing TweetNormalizer, total=   1.2s\n",
            "[Pipeline] .. (step 2 of 7) Processing FeatureExtractor, total=   5.0s\n",
            "[Pipeline] .. (step 3 of 7) Processing BigramVectorizer, total=   6.4s\n",
            "[Pipeline]  (step 4 of 7) Processing MatrixToArrayConverter, total=   0.0s\n",
            "[Pipeline] ..... (step 5 of 7) Processing OneHotEncoder, total=   0.4s\n",
            "[Pipeline] ..... (step 6 of 7) Processing MatrixUnifier, total=   0.0s\n"
          ]
        },
        {
          "output_type": "stream",
          "name": "stderr",
          "text": [
            "/usr/local/lib/python3.7/dist-packages/sklearn/utils/validation.py:598: FutureWarning: np.matrix usage is deprecated in 1.0 and will raise a TypeError in 1.2. Please convert to a numpy array with np.asarray. For more information see: https://numpy.org/doc/stable/reference/generated/numpy.matrix.html\n",
            "  FutureWarning,\n"
          ]
        },
        {
          "output_type": "stream",
          "name": "stdout",
          "text": [
            "[Pipeline] ............... (step 7 of 7) Processing CLF, total=  27.5s\n"
          ]
        },
        {
          "output_type": "stream",
          "name": "stderr",
          "text": [
            "/usr/local/lib/python3.7/dist-packages/sklearn/utils/validation.py:598: FutureWarning: np.matrix usage is deprecated in 1.0 and will raise a TypeError in 1.2. Please convert to a numpy array with np.asarray. For more information see: https://numpy.org/doc/stable/reference/generated/numpy.matrix.html\n",
            "  FutureWarning,\n"
          ]
        },
        {
          "output_type": "stream",
          "name": "stdout",
          "text": [
            "[Pipeline] ... (step 1 of 7) Processing TweetNormalizer, total=   1.1s\n",
            "[Pipeline] .. (step 2 of 7) Processing FeatureExtractor, total=   5.0s\n",
            "[Pipeline] .. (step 3 of 7) Processing BigramVectorizer, total=   6.3s\n",
            "[Pipeline]  (step 4 of 7) Processing MatrixToArrayConverter, total=   0.0s\n",
            "[Pipeline] ..... (step 5 of 7) Processing OneHotEncoder, total=   0.4s\n",
            "[Pipeline] ..... (step 6 of 7) Processing MatrixUnifier, total=   0.0s\n"
          ]
        },
        {
          "output_type": "stream",
          "name": "stderr",
          "text": [
            "/usr/local/lib/python3.7/dist-packages/sklearn/utils/validation.py:598: FutureWarning: np.matrix usage is deprecated in 1.0 and will raise a TypeError in 1.2. Please convert to a numpy array with np.asarray. For more information see: https://numpy.org/doc/stable/reference/generated/numpy.matrix.html\n",
            "  FutureWarning,\n"
          ]
        },
        {
          "output_type": "stream",
          "name": "stdout",
          "text": [
            "[Pipeline] ............... (step 7 of 7) Processing CLF, total=  27.3s\n"
          ]
        },
        {
          "output_type": "stream",
          "name": "stderr",
          "text": [
            "/usr/local/lib/python3.7/dist-packages/sklearn/utils/validation.py:598: FutureWarning: np.matrix usage is deprecated in 1.0 and will raise a TypeError in 1.2. Please convert to a numpy array with np.asarray. For more information see: https://numpy.org/doc/stable/reference/generated/numpy.matrix.html\n",
            "  FutureWarning,\n"
          ]
        },
        {
          "output_type": "stream",
          "name": "stdout",
          "text": [
            "[Pipeline] ... (step 1 of 7) Processing TweetNormalizer, total=   1.1s\n",
            "[Pipeline] .. (step 2 of 7) Processing FeatureExtractor, total=   5.0s\n",
            "[Pipeline] .. (step 3 of 7) Processing BigramVectorizer, total=   6.3s\n",
            "[Pipeline]  (step 4 of 7) Processing MatrixToArrayConverter, total=   0.0s\n",
            "[Pipeline] ..... (step 5 of 7) Processing OneHotEncoder, total=   0.4s\n",
            "[Pipeline] ..... (step 6 of 7) Processing MatrixUnifier, total=   0.0s\n"
          ]
        },
        {
          "output_type": "stream",
          "name": "stderr",
          "text": [
            "/usr/local/lib/python3.7/dist-packages/sklearn/utils/validation.py:598: FutureWarning: np.matrix usage is deprecated in 1.0 and will raise a TypeError in 1.2. Please convert to a numpy array with np.asarray. For more information see: https://numpy.org/doc/stable/reference/generated/numpy.matrix.html\n",
            "  FutureWarning,\n"
          ]
        },
        {
          "output_type": "stream",
          "name": "stdout",
          "text": [
            "[Pipeline] ............... (step 7 of 7) Processing CLF, total=  27.7s\n"
          ]
        },
        {
          "output_type": "stream",
          "name": "stderr",
          "text": [
            "/usr/local/lib/python3.7/dist-packages/sklearn/utils/validation.py:598: FutureWarning: np.matrix usage is deprecated in 1.0 and will raise a TypeError in 1.2. Please convert to a numpy array with np.asarray. For more information see: https://numpy.org/doc/stable/reference/generated/numpy.matrix.html\n",
            "  FutureWarning,\n"
          ]
        },
        {
          "output_type": "stream",
          "name": "stdout",
          "text": [
            "[Pipeline] ... (step 1 of 7) Processing TweetNormalizer, total=   0.8s\n",
            "[Pipeline] .. (step 2 of 7) Processing FeatureExtractor, total=   4.1s\n",
            "[Pipeline] .. (step 3 of 7) Processing BigramVectorizer, total=   5.4s\n",
            "[Pipeline]  (step 4 of 7) Processing MatrixToArrayConverter, total=   0.0s\n",
            "[Pipeline] ..... (step 5 of 7) Processing OneHotEncoder, total=   0.4s\n",
            "[Pipeline] ..... (step 6 of 7) Processing MatrixUnifier, total=   0.0s\n"
          ]
        },
        {
          "output_type": "stream",
          "name": "stderr",
          "text": [
            "/usr/local/lib/python3.7/dist-packages/sklearn/utils/validation.py:598: FutureWarning: np.matrix usage is deprecated in 1.0 and will raise a TypeError in 1.2. Please convert to a numpy array with np.asarray. For more information see: https://numpy.org/doc/stable/reference/generated/numpy.matrix.html\n",
            "  FutureWarning,\n"
          ]
        },
        {
          "output_type": "stream",
          "name": "stdout",
          "text": [
            "[Pipeline] ............... (step 7 of 7) Processing CLF, total=  27.7s\n"
          ]
        },
        {
          "output_type": "stream",
          "name": "stderr",
          "text": [
            "/usr/local/lib/python3.7/dist-packages/sklearn/utils/validation.py:598: FutureWarning: np.matrix usage is deprecated in 1.0 and will raise a TypeError in 1.2. Please convert to a numpy array with np.asarray. For more information see: https://numpy.org/doc/stable/reference/generated/numpy.matrix.html\n",
            "  FutureWarning,\n"
          ]
        },
        {
          "output_type": "stream",
          "name": "stdout",
          "text": [
            "[Pipeline] ... (step 1 of 7) Processing TweetNormalizer, total=   1.1s\n",
            "[Pipeline] .. (step 2 of 7) Processing FeatureExtractor, total=   5.0s\n",
            "[Pipeline] .. (step 3 of 7) Processing BigramVectorizer, total=   6.2s\n",
            "[Pipeline]  (step 4 of 7) Processing MatrixToArrayConverter, total=   0.0s\n",
            "[Pipeline] ..... (step 5 of 7) Processing OneHotEncoder, total=   0.4s\n",
            "[Pipeline] ..... (step 6 of 7) Processing MatrixUnifier, total=   0.0s\n"
          ]
        },
        {
          "output_type": "stream",
          "name": "stderr",
          "text": [
            "/usr/local/lib/python3.7/dist-packages/sklearn/utils/validation.py:598: FutureWarning: np.matrix usage is deprecated in 1.0 and will raise a TypeError in 1.2. Please convert to a numpy array with np.asarray. For more information see: https://numpy.org/doc/stable/reference/generated/numpy.matrix.html\n",
            "  FutureWarning,\n"
          ]
        },
        {
          "output_type": "stream",
          "name": "stdout",
          "text": [
            "[Pipeline] ............... (step 7 of 7) Processing CLF, total=  28.5s\n"
          ]
        },
        {
          "output_type": "stream",
          "name": "stderr",
          "text": [
            "/usr/local/lib/python3.7/dist-packages/sklearn/utils/validation.py:598: FutureWarning: np.matrix usage is deprecated in 1.0 and will raise a TypeError in 1.2. Please convert to a numpy array with np.asarray. For more information see: https://numpy.org/doc/stable/reference/generated/numpy.matrix.html\n",
            "  FutureWarning,\n"
          ]
        },
        {
          "output_type": "stream",
          "name": "stdout",
          "text": [
            "[Pipeline] ... (step 1 of 7) Processing TweetNormalizer, total=   1.1s\n",
            "[Pipeline] .. (step 2 of 7) Processing FeatureExtractor, total=   5.0s\n",
            "[Pipeline] .. (step 3 of 7) Processing BigramVectorizer, total=   6.4s\n",
            "[Pipeline]  (step 4 of 7) Processing MatrixToArrayConverter, total=   0.0s\n",
            "[Pipeline] ..... (step 5 of 7) Processing OneHotEncoder, total=   0.4s\n",
            "[Pipeline] ..... (step 6 of 7) Processing MatrixUnifier, total=   0.0s\n"
          ]
        },
        {
          "output_type": "stream",
          "name": "stderr",
          "text": [
            "/usr/local/lib/python3.7/dist-packages/sklearn/utils/validation.py:598: FutureWarning: np.matrix usage is deprecated in 1.0 and will raise a TypeError in 1.2. Please convert to a numpy array with np.asarray. For more information see: https://numpy.org/doc/stable/reference/generated/numpy.matrix.html\n",
            "  FutureWarning,\n"
          ]
        },
        {
          "output_type": "stream",
          "name": "stdout",
          "text": [
            "[Pipeline] ............... (step 7 of 7) Processing CLF, total=  28.9s\n"
          ]
        },
        {
          "output_type": "stream",
          "name": "stderr",
          "text": [
            "/usr/local/lib/python3.7/dist-packages/sklearn/utils/validation.py:598: FutureWarning: np.matrix usage is deprecated in 1.0 and will raise a TypeError in 1.2. Please convert to a numpy array with np.asarray. For more information see: https://numpy.org/doc/stable/reference/generated/numpy.matrix.html\n",
            "  FutureWarning,\n"
          ]
        },
        {
          "output_type": "stream",
          "name": "stdout",
          "text": [
            "[Pipeline] ... (step 1 of 7) Processing TweetNormalizer, total=   1.1s\n",
            "[Pipeline] .. (step 2 of 7) Processing FeatureExtractor, total=   5.1s\n",
            "[Pipeline] .. (step 3 of 7) Processing BigramVectorizer, total=   6.4s\n",
            "[Pipeline]  (step 4 of 7) Processing MatrixToArrayConverter, total=   0.0s\n",
            "[Pipeline] ..... (step 5 of 7) Processing OneHotEncoder, total=   0.4s\n",
            "[Pipeline] ..... (step 6 of 7) Processing MatrixUnifier, total=   0.0s\n"
          ]
        },
        {
          "output_type": "stream",
          "name": "stderr",
          "text": [
            "/usr/local/lib/python3.7/dist-packages/sklearn/utils/validation.py:598: FutureWarning: np.matrix usage is deprecated in 1.0 and will raise a TypeError in 1.2. Please convert to a numpy array with np.asarray. For more information see: https://numpy.org/doc/stable/reference/generated/numpy.matrix.html\n",
            "  FutureWarning,\n"
          ]
        },
        {
          "output_type": "stream",
          "name": "stdout",
          "text": [
            "[Pipeline] ............... (step 7 of 7) Processing CLF, total=  23.9s\n"
          ]
        },
        {
          "output_type": "stream",
          "name": "stderr",
          "text": [
            "/usr/local/lib/python3.7/dist-packages/sklearn/utils/validation.py:598: FutureWarning: np.matrix usage is deprecated in 1.0 and will raise a TypeError in 1.2. Please convert to a numpy array with np.asarray. For more information see: https://numpy.org/doc/stable/reference/generated/numpy.matrix.html\n",
            "  FutureWarning,\n"
          ]
        },
        {
          "output_type": "stream",
          "name": "stdout",
          "text": [
            "[Pipeline] ... (step 1 of 7) Processing TweetNormalizer, total=   1.1s\n",
            "[Pipeline] .. (step 2 of 7) Processing FeatureExtractor, total=   5.0s\n",
            "[Pipeline] .. (step 3 of 7) Processing BigramVectorizer, total=   6.4s\n",
            "[Pipeline]  (step 4 of 7) Processing MatrixToArrayConverter, total=   0.0s\n",
            "[Pipeline] ..... (step 5 of 7) Processing OneHotEncoder, total=   0.4s\n",
            "[Pipeline] ..... (step 6 of 7) Processing MatrixUnifier, total=   0.0s\n"
          ]
        },
        {
          "output_type": "stream",
          "name": "stderr",
          "text": [
            "/usr/local/lib/python3.7/dist-packages/sklearn/utils/validation.py:598: FutureWarning: np.matrix usage is deprecated in 1.0 and will raise a TypeError in 1.2. Please convert to a numpy array with np.asarray. For more information see: https://numpy.org/doc/stable/reference/generated/numpy.matrix.html\n",
            "  FutureWarning,\n"
          ]
        },
        {
          "output_type": "stream",
          "name": "stdout",
          "text": [
            "[Pipeline] ............... (step 7 of 7) Processing CLF, total=  24.0s\n"
          ]
        },
        {
          "output_type": "stream",
          "name": "stderr",
          "text": [
            "/usr/local/lib/python3.7/dist-packages/sklearn/utils/validation.py:598: FutureWarning: np.matrix usage is deprecated in 1.0 and will raise a TypeError in 1.2. Please convert to a numpy array with np.asarray. For more information see: https://numpy.org/doc/stable/reference/generated/numpy.matrix.html\n",
            "  FutureWarning,\n"
          ]
        },
        {
          "output_type": "stream",
          "name": "stdout",
          "text": [
            "[Pipeline] ... (step 1 of 7) Processing TweetNormalizer, total=   1.1s\n",
            "[Pipeline] .. (step 2 of 7) Processing FeatureExtractor, total=   5.0s\n",
            "[Pipeline] .. (step 3 of 7) Processing BigramVectorizer, total=   6.4s\n",
            "[Pipeline]  (step 4 of 7) Processing MatrixToArrayConverter, total=   0.0s\n",
            "[Pipeline] ..... (step 5 of 7) Processing OneHotEncoder, total=   0.4s\n",
            "[Pipeline] ..... (step 6 of 7) Processing MatrixUnifier, total=   0.0s\n"
          ]
        },
        {
          "output_type": "stream",
          "name": "stderr",
          "text": [
            "/usr/local/lib/python3.7/dist-packages/sklearn/utils/validation.py:598: FutureWarning: np.matrix usage is deprecated in 1.0 and will raise a TypeError in 1.2. Please convert to a numpy array with np.asarray. For more information see: https://numpy.org/doc/stable/reference/generated/numpy.matrix.html\n",
            "  FutureWarning,\n"
          ]
        },
        {
          "output_type": "stream",
          "name": "stdout",
          "text": [
            "[Pipeline] ............... (step 7 of 7) Processing CLF, total=  24.1s\n"
          ]
        },
        {
          "output_type": "stream",
          "name": "stderr",
          "text": [
            "/usr/local/lib/python3.7/dist-packages/sklearn/utils/validation.py:598: FutureWarning: np.matrix usage is deprecated in 1.0 and will raise a TypeError in 1.2. Please convert to a numpy array with np.asarray. For more information see: https://numpy.org/doc/stable/reference/generated/numpy.matrix.html\n",
            "  FutureWarning,\n"
          ]
        },
        {
          "output_type": "stream",
          "name": "stdout",
          "text": [
            "[Pipeline] ... (step 1 of 7) Processing TweetNormalizer, total=   1.1s\n",
            "[Pipeline] .. (step 2 of 7) Processing FeatureExtractor, total=   5.0s\n",
            "[Pipeline] .. (step 3 of 7) Processing BigramVectorizer, total=   6.4s\n",
            "[Pipeline]  (step 4 of 7) Processing MatrixToArrayConverter, total=   0.0s\n",
            "[Pipeline] ..... (step 5 of 7) Processing OneHotEncoder, total=   0.4s\n",
            "[Pipeline] ..... (step 6 of 7) Processing MatrixUnifier, total=   0.0s\n"
          ]
        },
        {
          "output_type": "stream",
          "name": "stderr",
          "text": [
            "/usr/local/lib/python3.7/dist-packages/sklearn/utils/validation.py:598: FutureWarning: np.matrix usage is deprecated in 1.0 and will raise a TypeError in 1.2. Please convert to a numpy array with np.asarray. For more information see: https://numpy.org/doc/stable/reference/generated/numpy.matrix.html\n",
            "  FutureWarning,\n"
          ]
        },
        {
          "output_type": "stream",
          "name": "stdout",
          "text": [
            "[Pipeline] ............... (step 7 of 7) Processing CLF, total=  24.1s\n"
          ]
        },
        {
          "output_type": "stream",
          "name": "stderr",
          "text": [
            "/usr/local/lib/python3.7/dist-packages/sklearn/utils/validation.py:598: FutureWarning: np.matrix usage is deprecated in 1.0 and will raise a TypeError in 1.2. Please convert to a numpy array with np.asarray. For more information see: https://numpy.org/doc/stable/reference/generated/numpy.matrix.html\n",
            "  FutureWarning,\n"
          ]
        },
        {
          "output_type": "stream",
          "name": "stdout",
          "text": [
            "[Pipeline] ... (step 1 of 7) Processing TweetNormalizer, total=   1.1s\n",
            "[Pipeline] .. (step 2 of 7) Processing FeatureExtractor, total=   5.0s\n",
            "[Pipeline] .. (step 3 of 7) Processing BigramVectorizer, total=   6.5s\n",
            "[Pipeline]  (step 4 of 7) Processing MatrixToArrayConverter, total=   0.0s\n",
            "[Pipeline] ..... (step 5 of 7) Processing OneHotEncoder, total=   0.4s\n",
            "[Pipeline] ..... (step 6 of 7) Processing MatrixUnifier, total=   0.0s\n"
          ]
        },
        {
          "output_type": "stream",
          "name": "stderr",
          "text": [
            "/usr/local/lib/python3.7/dist-packages/sklearn/utils/validation.py:598: FutureWarning: np.matrix usage is deprecated in 1.0 and will raise a TypeError in 1.2. Please convert to a numpy array with np.asarray. For more information see: https://numpy.org/doc/stable/reference/generated/numpy.matrix.html\n",
            "  FutureWarning,\n"
          ]
        },
        {
          "output_type": "stream",
          "name": "stdout",
          "text": [
            "[Pipeline] ............... (step 7 of 7) Processing CLF, total=  24.1s\n"
          ]
        },
        {
          "output_type": "stream",
          "name": "stderr",
          "text": [
            "/usr/local/lib/python3.7/dist-packages/sklearn/utils/validation.py:598: FutureWarning: np.matrix usage is deprecated in 1.0 and will raise a TypeError in 1.2. Please convert to a numpy array with np.asarray. For more information see: https://numpy.org/doc/stable/reference/generated/numpy.matrix.html\n",
            "  FutureWarning,\n"
          ]
        },
        {
          "output_type": "stream",
          "name": "stdout",
          "text": [
            "[Pipeline] ... (step 1 of 7) Processing TweetNormalizer, total=   1.1s\n",
            "[Pipeline] .. (step 2 of 7) Processing FeatureExtractor, total=   5.2s\n",
            "[Pipeline] .. (step 3 of 7) Processing BigramVectorizer, total=   6.7s\n",
            "[Pipeline]  (step 4 of 7) Processing MatrixToArrayConverter, total=   0.0s\n",
            "[Pipeline] ..... (step 5 of 7) Processing OneHotEncoder, total=   0.4s\n",
            "[Pipeline] ..... (step 6 of 7) Processing MatrixUnifier, total=   0.0s\n"
          ]
        },
        {
          "output_type": "stream",
          "name": "stderr",
          "text": [
            "/usr/local/lib/python3.7/dist-packages/sklearn/utils/validation.py:598: FutureWarning: np.matrix usage is deprecated in 1.0 and will raise a TypeError in 1.2. Please convert to a numpy array with np.asarray. For more information see: https://numpy.org/doc/stable/reference/generated/numpy.matrix.html\n",
            "  FutureWarning,\n"
          ]
        },
        {
          "output_type": "stream",
          "name": "stdout",
          "text": [
            "[Pipeline] ............... (step 7 of 7) Processing CLF, total=  24.2s\n"
          ]
        },
        {
          "output_type": "stream",
          "name": "stderr",
          "text": [
            "/usr/local/lib/python3.7/dist-packages/sklearn/utils/validation.py:598: FutureWarning: np.matrix usage is deprecated in 1.0 and will raise a TypeError in 1.2. Please convert to a numpy array with np.asarray. For more information see: https://numpy.org/doc/stable/reference/generated/numpy.matrix.html\n",
            "  FutureWarning,\n"
          ]
        },
        {
          "output_type": "stream",
          "name": "stdout",
          "text": [
            "[Pipeline] ... (step 1 of 7) Processing TweetNormalizer, total=   1.1s\n",
            "[Pipeline] .. (step 2 of 7) Processing FeatureExtractor, total=   5.0s\n",
            "[Pipeline] .. (step 3 of 7) Processing BigramVectorizer, total=   6.5s\n",
            "[Pipeline]  (step 4 of 7) Processing MatrixToArrayConverter, total=   0.0s\n",
            "[Pipeline] ..... (step 5 of 7) Processing OneHotEncoder, total=   0.4s\n",
            "[Pipeline] ..... (step 6 of 7) Processing MatrixUnifier, total=   0.0s\n"
          ]
        },
        {
          "output_type": "stream",
          "name": "stderr",
          "text": [
            "/usr/local/lib/python3.7/dist-packages/sklearn/utils/validation.py:598: FutureWarning: np.matrix usage is deprecated in 1.0 and will raise a TypeError in 1.2. Please convert to a numpy array with np.asarray. For more information see: https://numpy.org/doc/stable/reference/generated/numpy.matrix.html\n",
            "  FutureWarning,\n"
          ]
        },
        {
          "output_type": "stream",
          "name": "stdout",
          "text": [
            "[Pipeline] ............... (step 7 of 7) Processing CLF, total=  24.1s\n"
          ]
        },
        {
          "output_type": "stream",
          "name": "stderr",
          "text": [
            "/usr/local/lib/python3.7/dist-packages/sklearn/utils/validation.py:598: FutureWarning: np.matrix usage is deprecated in 1.0 and will raise a TypeError in 1.2. Please convert to a numpy array with np.asarray. For more information see: https://numpy.org/doc/stable/reference/generated/numpy.matrix.html\n",
            "  FutureWarning,\n"
          ]
        },
        {
          "output_type": "stream",
          "name": "stdout",
          "text": [
            "[Pipeline] ... (step 1 of 7) Processing TweetNormalizer, total=   0.9s\n",
            "[Pipeline] .. (step 2 of 7) Processing FeatureExtractor, total=   4.2s\n",
            "[Pipeline] .. (step 3 of 7) Processing BigramVectorizer, total=   5.5s\n",
            "[Pipeline]  (step 4 of 7) Processing MatrixToArrayConverter, total=   0.0s\n",
            "[Pipeline] ..... (step 5 of 7) Processing OneHotEncoder, total=   0.4s\n",
            "[Pipeline] ..... (step 6 of 7) Processing MatrixUnifier, total=   0.0s\n"
          ]
        },
        {
          "output_type": "stream",
          "name": "stderr",
          "text": [
            "/usr/local/lib/python3.7/dist-packages/sklearn/utils/validation.py:598: FutureWarning: np.matrix usage is deprecated in 1.0 and will raise a TypeError in 1.2. Please convert to a numpy array with np.asarray. For more information see: https://numpy.org/doc/stable/reference/generated/numpy.matrix.html\n",
            "  FutureWarning,\n"
          ]
        },
        {
          "output_type": "stream",
          "name": "stdout",
          "text": [
            "[Pipeline] ............... (step 7 of 7) Processing CLF, total=  24.2s\n"
          ]
        },
        {
          "output_type": "stream",
          "name": "stderr",
          "text": [
            "/usr/local/lib/python3.7/dist-packages/sklearn/utils/validation.py:598: FutureWarning: np.matrix usage is deprecated in 1.0 and will raise a TypeError in 1.2. Please convert to a numpy array with np.asarray. For more information see: https://numpy.org/doc/stable/reference/generated/numpy.matrix.html\n",
            "  FutureWarning,\n"
          ]
        },
        {
          "output_type": "stream",
          "name": "stdout",
          "text": [
            "[Pipeline] ... (step 1 of 7) Processing TweetNormalizer, total=   1.1s\n",
            "[Pipeline] .. (step 2 of 7) Processing FeatureExtractor, total=   5.1s\n",
            "[Pipeline] .. (step 3 of 7) Processing BigramVectorizer, total=   6.5s\n",
            "[Pipeline]  (step 4 of 7) Processing MatrixToArrayConverter, total=   0.0s\n",
            "[Pipeline] ..... (step 5 of 7) Processing OneHotEncoder, total=   0.4s\n",
            "[Pipeline] ..... (step 6 of 7) Processing MatrixUnifier, total=   0.0s\n"
          ]
        },
        {
          "output_type": "stream",
          "name": "stderr",
          "text": [
            "/usr/local/lib/python3.7/dist-packages/sklearn/utils/validation.py:598: FutureWarning: np.matrix usage is deprecated in 1.0 and will raise a TypeError in 1.2. Please convert to a numpy array with np.asarray. For more information see: https://numpy.org/doc/stable/reference/generated/numpy.matrix.html\n",
            "  FutureWarning,\n"
          ]
        },
        {
          "output_type": "stream",
          "name": "stdout",
          "text": [
            "[Pipeline] ............... (step 7 of 7) Processing CLF, total=  24.2s\n"
          ]
        },
        {
          "output_type": "stream",
          "name": "stderr",
          "text": [
            "/usr/local/lib/python3.7/dist-packages/sklearn/utils/validation.py:598: FutureWarning: np.matrix usage is deprecated in 1.0 and will raise a TypeError in 1.2. Please convert to a numpy array with np.asarray. For more information see: https://numpy.org/doc/stable/reference/generated/numpy.matrix.html\n",
            "  FutureWarning,\n"
          ]
        },
        {
          "output_type": "stream",
          "name": "stdout",
          "text": [
            "[Pipeline] ... (step 1 of 7) Processing TweetNormalizer, total=   1.1s\n",
            "[Pipeline] .. (step 2 of 7) Processing FeatureExtractor, total=   5.0s\n",
            "[Pipeline] .. (step 3 of 7) Processing BigramVectorizer, total=   6.2s\n",
            "[Pipeline]  (step 4 of 7) Processing MatrixToArrayConverter, total=   0.0s\n",
            "[Pipeline] ..... (step 5 of 7) Processing OneHotEncoder, total=   0.4s\n",
            "[Pipeline] ..... (step 6 of 7) Processing MatrixUnifier, total=   0.0s\n"
          ]
        },
        {
          "output_type": "stream",
          "name": "stderr",
          "text": [
            "/usr/local/lib/python3.7/dist-packages/sklearn/utils/validation.py:598: FutureWarning: np.matrix usage is deprecated in 1.0 and will raise a TypeError in 1.2. Please convert to a numpy array with np.asarray. For more information see: https://numpy.org/doc/stable/reference/generated/numpy.matrix.html\n",
            "  FutureWarning,\n"
          ]
        },
        {
          "output_type": "stream",
          "name": "stdout",
          "text": [
            "[Pipeline] ............... (step 7 of 7) Processing CLF, total=  23.1s\n"
          ]
        },
        {
          "output_type": "stream",
          "name": "stderr",
          "text": [
            "/usr/local/lib/python3.7/dist-packages/sklearn/utils/validation.py:598: FutureWarning: np.matrix usage is deprecated in 1.0 and will raise a TypeError in 1.2. Please convert to a numpy array with np.asarray. For more information see: https://numpy.org/doc/stable/reference/generated/numpy.matrix.html\n",
            "  FutureWarning,\n"
          ]
        },
        {
          "output_type": "stream",
          "name": "stdout",
          "text": [
            "[Pipeline] ... (step 1 of 7) Processing TweetNormalizer, total=   1.1s\n",
            "[Pipeline] .. (step 2 of 7) Processing FeatureExtractor, total=   5.0s\n",
            "[Pipeline] .. (step 3 of 7) Processing BigramVectorizer, total=   6.2s\n",
            "[Pipeline]  (step 4 of 7) Processing MatrixToArrayConverter, total=   0.0s\n",
            "[Pipeline] ..... (step 5 of 7) Processing OneHotEncoder, total=   0.4s\n",
            "[Pipeline] ..... (step 6 of 7) Processing MatrixUnifier, total=   0.0s\n"
          ]
        },
        {
          "output_type": "stream",
          "name": "stderr",
          "text": [
            "/usr/local/lib/python3.7/dist-packages/sklearn/utils/validation.py:598: FutureWarning: np.matrix usage is deprecated in 1.0 and will raise a TypeError in 1.2. Please convert to a numpy array with np.asarray. For more information see: https://numpy.org/doc/stable/reference/generated/numpy.matrix.html\n",
            "  FutureWarning,\n"
          ]
        },
        {
          "output_type": "stream",
          "name": "stdout",
          "text": [
            "[Pipeline] ............... (step 7 of 7) Processing CLF, total=  40.6s\n"
          ]
        },
        {
          "output_type": "stream",
          "name": "stderr",
          "text": [
            "/usr/local/lib/python3.7/dist-packages/sklearn/utils/validation.py:598: FutureWarning: np.matrix usage is deprecated in 1.0 and will raise a TypeError in 1.2. Please convert to a numpy array with np.asarray. For more information see: https://numpy.org/doc/stable/reference/generated/numpy.matrix.html\n",
            "  FutureWarning,\n"
          ]
        },
        {
          "output_type": "stream",
          "name": "stdout",
          "text": [
            "[Pipeline] ... (step 1 of 7) Processing TweetNormalizer, total=   1.1s\n",
            "[Pipeline] .. (step 2 of 7) Processing FeatureExtractor, total=   5.0s\n",
            "[Pipeline] .. (step 3 of 7) Processing BigramVectorizer, total=   6.3s\n",
            "[Pipeline]  (step 4 of 7) Processing MatrixToArrayConverter, total=   0.0s\n",
            "[Pipeline] ..... (step 5 of 7) Processing OneHotEncoder, total=   0.4s\n",
            "[Pipeline] ..... (step 6 of 7) Processing MatrixUnifier, total=   0.0s\n"
          ]
        },
        {
          "output_type": "stream",
          "name": "stderr",
          "text": [
            "/usr/local/lib/python3.7/dist-packages/sklearn/utils/validation.py:598: FutureWarning: np.matrix usage is deprecated in 1.0 and will raise a TypeError in 1.2. Please convert to a numpy array with np.asarray. For more information see: https://numpy.org/doc/stable/reference/generated/numpy.matrix.html\n",
            "  FutureWarning,\n"
          ]
        },
        {
          "output_type": "stream",
          "name": "stdout",
          "text": [
            "[Pipeline] ............... (step 7 of 7) Processing CLF, total=  39.7s\n"
          ]
        },
        {
          "output_type": "stream",
          "name": "stderr",
          "text": [
            "/usr/local/lib/python3.7/dist-packages/sklearn/utils/validation.py:598: FutureWarning: np.matrix usage is deprecated in 1.0 and will raise a TypeError in 1.2. Please convert to a numpy array with np.asarray. For more information see: https://numpy.org/doc/stable/reference/generated/numpy.matrix.html\n",
            "  FutureWarning,\n"
          ]
        },
        {
          "output_type": "stream",
          "name": "stdout",
          "text": [
            "[Pipeline] ... (step 1 of 7) Processing TweetNormalizer, total=   1.1s\n",
            "[Pipeline] .. (step 2 of 7) Processing FeatureExtractor, total=   5.0s\n",
            "[Pipeline] .. (step 3 of 7) Processing BigramVectorizer, total=   6.3s\n",
            "[Pipeline]  (step 4 of 7) Processing MatrixToArrayConverter, total=   0.0s\n",
            "[Pipeline] ..... (step 5 of 7) Processing OneHotEncoder, total=   0.4s\n",
            "[Pipeline] ..... (step 6 of 7) Processing MatrixUnifier, total=   0.0s\n"
          ]
        },
        {
          "output_type": "stream",
          "name": "stderr",
          "text": [
            "/usr/local/lib/python3.7/dist-packages/sklearn/utils/validation.py:598: FutureWarning: np.matrix usage is deprecated in 1.0 and will raise a TypeError in 1.2. Please convert to a numpy array with np.asarray. For more information see: https://numpy.org/doc/stable/reference/generated/numpy.matrix.html\n",
            "  FutureWarning,\n"
          ]
        },
        {
          "output_type": "stream",
          "name": "stdout",
          "text": [
            "[Pipeline] ............... (step 7 of 7) Processing CLF, total=  39.9s\n"
          ]
        },
        {
          "output_type": "stream",
          "name": "stderr",
          "text": [
            "/usr/local/lib/python3.7/dist-packages/sklearn/utils/validation.py:598: FutureWarning: np.matrix usage is deprecated in 1.0 and will raise a TypeError in 1.2. Please convert to a numpy array with np.asarray. For more information see: https://numpy.org/doc/stable/reference/generated/numpy.matrix.html\n",
            "  FutureWarning,\n"
          ]
        },
        {
          "output_type": "stream",
          "name": "stdout",
          "text": [
            "[Pipeline] ... (step 1 of 7) Processing TweetNormalizer, total=   1.1s\n",
            "[Pipeline] .. (step 2 of 7) Processing FeatureExtractor, total=   4.9s\n",
            "[Pipeline] .. (step 3 of 7) Processing BigramVectorizer, total=   6.3s\n",
            "[Pipeline]  (step 4 of 7) Processing MatrixToArrayConverter, total=   0.0s\n",
            "[Pipeline] ..... (step 5 of 7) Processing OneHotEncoder, total=   0.4s\n",
            "[Pipeline] ..... (step 6 of 7) Processing MatrixUnifier, total=   0.0s\n"
          ]
        },
        {
          "output_type": "stream",
          "name": "stderr",
          "text": [
            "/usr/local/lib/python3.7/dist-packages/sklearn/utils/validation.py:598: FutureWarning: np.matrix usage is deprecated in 1.0 and will raise a TypeError in 1.2. Please convert to a numpy array with np.asarray. For more information see: https://numpy.org/doc/stable/reference/generated/numpy.matrix.html\n",
            "  FutureWarning,\n"
          ]
        },
        {
          "output_type": "stream",
          "name": "stdout",
          "text": [
            "[Pipeline] ............... (step 7 of 7) Processing CLF, total=  40.3s\n"
          ]
        },
        {
          "output_type": "stream",
          "name": "stderr",
          "text": [
            "/usr/local/lib/python3.7/dist-packages/sklearn/utils/validation.py:598: FutureWarning: np.matrix usage is deprecated in 1.0 and will raise a TypeError in 1.2. Please convert to a numpy array with np.asarray. For more information see: https://numpy.org/doc/stable/reference/generated/numpy.matrix.html\n",
            "  FutureWarning,\n"
          ]
        },
        {
          "output_type": "stream",
          "name": "stdout",
          "text": [
            "[Pipeline] ... (step 1 of 7) Processing TweetNormalizer, total=   1.1s\n",
            "[Pipeline] .. (step 2 of 7) Processing FeatureExtractor, total=   5.0s\n",
            "[Pipeline] .. (step 3 of 7) Processing BigramVectorizer, total=   6.2s\n",
            "[Pipeline]  (step 4 of 7) Processing MatrixToArrayConverter, total=   0.0s\n",
            "[Pipeline] ..... (step 5 of 7) Processing OneHotEncoder, total=   0.4s\n",
            "[Pipeline] ..... (step 6 of 7) Processing MatrixUnifier, total=   0.0s\n"
          ]
        },
        {
          "output_type": "stream",
          "name": "stderr",
          "text": [
            "/usr/local/lib/python3.7/dist-packages/sklearn/utils/validation.py:598: FutureWarning: np.matrix usage is deprecated in 1.0 and will raise a TypeError in 1.2. Please convert to a numpy array with np.asarray. For more information see: https://numpy.org/doc/stable/reference/generated/numpy.matrix.html\n",
            "  FutureWarning,\n"
          ]
        },
        {
          "output_type": "stream",
          "name": "stdout",
          "text": [
            "[Pipeline] ............... (step 7 of 7) Processing CLF, total=  40.0s\n"
          ]
        },
        {
          "output_type": "stream",
          "name": "stderr",
          "text": [
            "/usr/local/lib/python3.7/dist-packages/sklearn/utils/validation.py:598: FutureWarning: np.matrix usage is deprecated in 1.0 and will raise a TypeError in 1.2. Please convert to a numpy array with np.asarray. For more information see: https://numpy.org/doc/stable/reference/generated/numpy.matrix.html\n",
            "  FutureWarning,\n"
          ]
        },
        {
          "output_type": "stream",
          "name": "stdout",
          "text": [
            "[Pipeline] ... (step 1 of 7) Processing TweetNormalizer, total=   1.1s\n",
            "[Pipeline] .. (step 2 of 7) Processing FeatureExtractor, total=   5.0s\n",
            "[Pipeline] .. (step 3 of 7) Processing BigramVectorizer, total=   6.3s\n",
            "[Pipeline]  (step 4 of 7) Processing MatrixToArrayConverter, total=   0.0s\n",
            "[Pipeline] ..... (step 5 of 7) Processing OneHotEncoder, total=   0.4s\n",
            "[Pipeline] ..... (step 6 of 7) Processing MatrixUnifier, total=   0.0s\n"
          ]
        },
        {
          "output_type": "stream",
          "name": "stderr",
          "text": [
            "/usr/local/lib/python3.7/dist-packages/sklearn/utils/validation.py:598: FutureWarning: np.matrix usage is deprecated in 1.0 and will raise a TypeError in 1.2. Please convert to a numpy array with np.asarray. For more information see: https://numpy.org/doc/stable/reference/generated/numpy.matrix.html\n",
            "  FutureWarning,\n"
          ]
        },
        {
          "output_type": "stream",
          "name": "stdout",
          "text": [
            "[Pipeline] ............... (step 7 of 7) Processing CLF, total=  39.9s\n"
          ]
        },
        {
          "output_type": "stream",
          "name": "stderr",
          "text": [
            "/usr/local/lib/python3.7/dist-packages/sklearn/utils/validation.py:598: FutureWarning: np.matrix usage is deprecated in 1.0 and will raise a TypeError in 1.2. Please convert to a numpy array with np.asarray. For more information see: https://numpy.org/doc/stable/reference/generated/numpy.matrix.html\n",
            "  FutureWarning,\n"
          ]
        },
        {
          "output_type": "stream",
          "name": "stdout",
          "text": [
            "[Pipeline] ... (step 1 of 7) Processing TweetNormalizer, total=   1.1s\n",
            "[Pipeline] .. (step 2 of 7) Processing FeatureExtractor, total=   4.9s\n",
            "[Pipeline] .. (step 3 of 7) Processing BigramVectorizer, total=   6.2s\n",
            "[Pipeline]  (step 4 of 7) Processing MatrixToArrayConverter, total=   0.0s\n",
            "[Pipeline] ..... (step 5 of 7) Processing OneHotEncoder, total=   0.4s\n",
            "[Pipeline] ..... (step 6 of 7) Processing MatrixUnifier, total=   0.0s\n"
          ]
        },
        {
          "output_type": "stream",
          "name": "stderr",
          "text": [
            "/usr/local/lib/python3.7/dist-packages/sklearn/utils/validation.py:598: FutureWarning: np.matrix usage is deprecated in 1.0 and will raise a TypeError in 1.2. Please convert to a numpy array with np.asarray. For more information see: https://numpy.org/doc/stable/reference/generated/numpy.matrix.html\n",
            "  FutureWarning,\n"
          ]
        },
        {
          "output_type": "stream",
          "name": "stdout",
          "text": [
            "[Pipeline] ............... (step 7 of 7) Processing CLF, total=  40.0s\n"
          ]
        },
        {
          "output_type": "stream",
          "name": "stderr",
          "text": [
            "/usr/local/lib/python3.7/dist-packages/sklearn/utils/validation.py:598: FutureWarning: np.matrix usage is deprecated in 1.0 and will raise a TypeError in 1.2. Please convert to a numpy array with np.asarray. For more information see: https://numpy.org/doc/stable/reference/generated/numpy.matrix.html\n",
            "  FutureWarning,\n"
          ]
        },
        {
          "output_type": "stream",
          "name": "stdout",
          "text": [
            "[Pipeline] ... (step 1 of 7) Processing TweetNormalizer, total=   0.9s\n",
            "[Pipeline] .. (step 2 of 7) Processing FeatureExtractor, total=   4.1s\n",
            "[Pipeline] .. (step 3 of 7) Processing BigramVectorizer, total=   5.4s\n",
            "[Pipeline]  (step 4 of 7) Processing MatrixToArrayConverter, total=   0.0s\n",
            "[Pipeline] ..... (step 5 of 7) Processing OneHotEncoder, total=   0.4s\n",
            "[Pipeline] ..... (step 6 of 7) Processing MatrixUnifier, total=   0.0s\n"
          ]
        },
        {
          "output_type": "stream",
          "name": "stderr",
          "text": [
            "/usr/local/lib/python3.7/dist-packages/sklearn/utils/validation.py:598: FutureWarning: np.matrix usage is deprecated in 1.0 and will raise a TypeError in 1.2. Please convert to a numpy array with np.asarray. For more information see: https://numpy.org/doc/stable/reference/generated/numpy.matrix.html\n",
            "  FutureWarning,\n"
          ]
        },
        {
          "output_type": "stream",
          "name": "stdout",
          "text": [
            "[Pipeline] ............... (step 7 of 7) Processing CLF, total=  39.8s\n"
          ]
        },
        {
          "output_type": "stream",
          "name": "stderr",
          "text": [
            "/usr/local/lib/python3.7/dist-packages/sklearn/utils/validation.py:598: FutureWarning: np.matrix usage is deprecated in 1.0 and will raise a TypeError in 1.2. Please convert to a numpy array with np.asarray. For more information see: https://numpy.org/doc/stable/reference/generated/numpy.matrix.html\n",
            "  FutureWarning,\n"
          ]
        },
        {
          "output_type": "stream",
          "name": "stdout",
          "text": [
            "[Pipeline] ... (step 1 of 7) Processing TweetNormalizer, total=   1.1s\n",
            "[Pipeline] .. (step 2 of 7) Processing FeatureExtractor, total=   5.0s\n",
            "[Pipeline] .. (step 3 of 7) Processing BigramVectorizer, total=   6.3s\n",
            "[Pipeline]  (step 4 of 7) Processing MatrixToArrayConverter, total=   0.0s\n",
            "[Pipeline] ..... (step 5 of 7) Processing OneHotEncoder, total=   0.4s\n",
            "[Pipeline] ..... (step 6 of 7) Processing MatrixUnifier, total=   0.0s\n"
          ]
        },
        {
          "output_type": "stream",
          "name": "stderr",
          "text": [
            "/usr/local/lib/python3.7/dist-packages/sklearn/utils/validation.py:598: FutureWarning: np.matrix usage is deprecated in 1.0 and will raise a TypeError in 1.2. Please convert to a numpy array with np.asarray. For more information see: https://numpy.org/doc/stable/reference/generated/numpy.matrix.html\n",
            "  FutureWarning,\n"
          ]
        },
        {
          "output_type": "stream",
          "name": "stdout",
          "text": [
            "[Pipeline] ............... (step 7 of 7) Processing CLF, total=  39.6s\n"
          ]
        },
        {
          "output_type": "stream",
          "name": "stderr",
          "text": [
            "/usr/local/lib/python3.7/dist-packages/sklearn/utils/validation.py:598: FutureWarning: np.matrix usage is deprecated in 1.0 and will raise a TypeError in 1.2. Please convert to a numpy array with np.asarray. For more information see: https://numpy.org/doc/stable/reference/generated/numpy.matrix.html\n",
            "  FutureWarning,\n"
          ]
        },
        {
          "output_type": "stream",
          "name": "stdout",
          "text": [
            "[Pipeline] ... (step 1 of 7) Processing TweetNormalizer, total=   1.1s\n",
            "[Pipeline] .. (step 2 of 7) Processing FeatureExtractor, total=   5.0s\n",
            "[Pipeline] .. (step 3 of 7) Processing BigramVectorizer, total=   6.2s\n",
            "[Pipeline]  (step 4 of 7) Processing MatrixToArrayConverter, total=   0.0s\n",
            "[Pipeline] ..... (step 5 of 7) Processing OneHotEncoder, total=   0.4s\n",
            "[Pipeline] ..... (step 6 of 7) Processing MatrixUnifier, total=   0.0s\n"
          ]
        },
        {
          "output_type": "stream",
          "name": "stderr",
          "text": [
            "/usr/local/lib/python3.7/dist-packages/sklearn/utils/validation.py:598: FutureWarning: np.matrix usage is deprecated in 1.0 and will raise a TypeError in 1.2. Please convert to a numpy array with np.asarray. For more information see: https://numpy.org/doc/stable/reference/generated/numpy.matrix.html\n",
            "  FutureWarning,\n"
          ]
        },
        {
          "output_type": "stream",
          "name": "stdout",
          "text": [
            "[Pipeline] ............... (step 7 of 7) Processing CLF, total=  39.7s\n"
          ]
        },
        {
          "output_type": "stream",
          "name": "stderr",
          "text": [
            "/usr/local/lib/python3.7/dist-packages/sklearn/utils/validation.py:598: FutureWarning: np.matrix usage is deprecated in 1.0 and will raise a TypeError in 1.2. Please convert to a numpy array with np.asarray. For more information see: https://numpy.org/doc/stable/reference/generated/numpy.matrix.html\n",
            "  FutureWarning,\n"
          ]
        },
        {
          "output_type": "stream",
          "name": "stdout",
          "text": [
            "[Pipeline] ... (step 1 of 7) Processing TweetNormalizer, total=   1.1s\n",
            "[Pipeline] .. (step 2 of 7) Processing FeatureExtractor, total=   4.9s\n",
            "[Pipeline] .. (step 3 of 7) Processing BigramVectorizer, total=   6.2s\n",
            "[Pipeline]  (step 4 of 7) Processing MatrixToArrayConverter, total=   0.0s\n",
            "[Pipeline] ..... (step 5 of 7) Processing OneHotEncoder, total=   0.4s\n",
            "[Pipeline] ..... (step 6 of 7) Processing MatrixUnifier, total=   0.0s\n"
          ]
        },
        {
          "output_type": "stream",
          "name": "stderr",
          "text": [
            "/usr/local/lib/python3.7/dist-packages/sklearn/utils/validation.py:598: FutureWarning: np.matrix usage is deprecated in 1.0 and will raise a TypeError in 1.2. Please convert to a numpy array with np.asarray. For more information see: https://numpy.org/doc/stable/reference/generated/numpy.matrix.html\n",
            "  FutureWarning,\n"
          ]
        },
        {
          "output_type": "stream",
          "name": "stdout",
          "text": [
            "[Pipeline] ............... (step 7 of 7) Processing CLF, total=  22.8s\n"
          ]
        },
        {
          "output_type": "stream",
          "name": "stderr",
          "text": [
            "/usr/local/lib/python3.7/dist-packages/sklearn/utils/validation.py:598: FutureWarning: np.matrix usage is deprecated in 1.0 and will raise a TypeError in 1.2. Please convert to a numpy array with np.asarray. For more information see: https://numpy.org/doc/stable/reference/generated/numpy.matrix.html\n",
            "  FutureWarning,\n"
          ]
        },
        {
          "output_type": "stream",
          "name": "stdout",
          "text": [
            "[Pipeline] ... (step 1 of 7) Processing TweetNormalizer, total=   1.1s\n",
            "[Pipeline] .. (step 2 of 7) Processing FeatureExtractor, total=   4.9s\n",
            "[Pipeline] .. (step 3 of 7) Processing BigramVectorizer, total=   6.2s\n",
            "[Pipeline]  (step 4 of 7) Processing MatrixToArrayConverter, total=   0.0s\n",
            "[Pipeline] ..... (step 5 of 7) Processing OneHotEncoder, total=   0.4s\n",
            "[Pipeline] ..... (step 6 of 7) Processing MatrixUnifier, total=   0.0s\n"
          ]
        },
        {
          "output_type": "stream",
          "name": "stderr",
          "text": [
            "/usr/local/lib/python3.7/dist-packages/sklearn/utils/validation.py:598: FutureWarning: np.matrix usage is deprecated in 1.0 and will raise a TypeError in 1.2. Please convert to a numpy array with np.asarray. For more information see: https://numpy.org/doc/stable/reference/generated/numpy.matrix.html\n",
            "  FutureWarning,\n"
          ]
        },
        {
          "output_type": "stream",
          "name": "stdout",
          "text": [
            "[Pipeline] ............... (step 7 of 7) Processing CLF, total=  22.9s\n"
          ]
        },
        {
          "output_type": "stream",
          "name": "stderr",
          "text": [
            "/usr/local/lib/python3.7/dist-packages/sklearn/utils/validation.py:598: FutureWarning: np.matrix usage is deprecated in 1.0 and will raise a TypeError in 1.2. Please convert to a numpy array with np.asarray. For more information see: https://numpy.org/doc/stable/reference/generated/numpy.matrix.html\n",
            "  FutureWarning,\n"
          ]
        },
        {
          "output_type": "stream",
          "name": "stdout",
          "text": [
            "[Pipeline] ... (step 1 of 7) Processing TweetNormalizer, total=   1.1s\n",
            "[Pipeline] .. (step 2 of 7) Processing FeatureExtractor, total=   4.9s\n",
            "[Pipeline] .. (step 3 of 7) Processing BigramVectorizer, total=   6.2s\n",
            "[Pipeline]  (step 4 of 7) Processing MatrixToArrayConverter, total=   0.0s\n",
            "[Pipeline] ..... (step 5 of 7) Processing OneHotEncoder, total=   0.4s\n",
            "[Pipeline] ..... (step 6 of 7) Processing MatrixUnifier, total=   0.0s\n"
          ]
        },
        {
          "output_type": "stream",
          "name": "stderr",
          "text": [
            "/usr/local/lib/python3.7/dist-packages/sklearn/utils/validation.py:598: FutureWarning: np.matrix usage is deprecated in 1.0 and will raise a TypeError in 1.2. Please convert to a numpy array with np.asarray. For more information see: https://numpy.org/doc/stable/reference/generated/numpy.matrix.html\n",
            "  FutureWarning,\n"
          ]
        },
        {
          "output_type": "stream",
          "name": "stdout",
          "text": [
            "[Pipeline] ............... (step 7 of 7) Processing CLF, total=  22.7s\n"
          ]
        },
        {
          "output_type": "stream",
          "name": "stderr",
          "text": [
            "/usr/local/lib/python3.7/dist-packages/sklearn/utils/validation.py:598: FutureWarning: np.matrix usage is deprecated in 1.0 and will raise a TypeError in 1.2. Please convert to a numpy array with np.asarray. For more information see: https://numpy.org/doc/stable/reference/generated/numpy.matrix.html\n",
            "  FutureWarning,\n"
          ]
        },
        {
          "output_type": "stream",
          "name": "stdout",
          "text": [
            "[Pipeline] ... (step 1 of 7) Processing TweetNormalizer, total=   1.1s\n",
            "[Pipeline] .. (step 2 of 7) Processing FeatureExtractor, total=   4.9s\n",
            "[Pipeline] .. (step 3 of 7) Processing BigramVectorizer, total=   6.2s\n",
            "[Pipeline]  (step 4 of 7) Processing MatrixToArrayConverter, total=   0.0s\n",
            "[Pipeline] ..... (step 5 of 7) Processing OneHotEncoder, total=   0.4s\n",
            "[Pipeline] ..... (step 6 of 7) Processing MatrixUnifier, total=   0.0s\n"
          ]
        },
        {
          "output_type": "stream",
          "name": "stderr",
          "text": [
            "/usr/local/lib/python3.7/dist-packages/sklearn/utils/validation.py:598: FutureWarning: np.matrix usage is deprecated in 1.0 and will raise a TypeError in 1.2. Please convert to a numpy array with np.asarray. For more information see: https://numpy.org/doc/stable/reference/generated/numpy.matrix.html\n",
            "  FutureWarning,\n"
          ]
        },
        {
          "output_type": "stream",
          "name": "stdout",
          "text": [
            "[Pipeline] ............... (step 7 of 7) Processing CLF, total=  22.7s\n"
          ]
        },
        {
          "output_type": "stream",
          "name": "stderr",
          "text": [
            "/usr/local/lib/python3.7/dist-packages/sklearn/utils/validation.py:598: FutureWarning: np.matrix usage is deprecated in 1.0 and will raise a TypeError in 1.2. Please convert to a numpy array with np.asarray. For more information see: https://numpy.org/doc/stable/reference/generated/numpy.matrix.html\n",
            "  FutureWarning,\n"
          ]
        },
        {
          "output_type": "stream",
          "name": "stdout",
          "text": [
            "[Pipeline] ... (step 1 of 7) Processing TweetNormalizer, total=   1.1s\n",
            "[Pipeline] .. (step 2 of 7) Processing FeatureExtractor, total=   5.0s\n",
            "[Pipeline] .. (step 3 of 7) Processing BigramVectorizer, total=   6.2s\n",
            "[Pipeline]  (step 4 of 7) Processing MatrixToArrayConverter, total=   0.0s\n",
            "[Pipeline] ..... (step 5 of 7) Processing OneHotEncoder, total=   0.3s\n",
            "[Pipeline] ..... (step 6 of 7) Processing MatrixUnifier, total=   0.0s\n"
          ]
        },
        {
          "output_type": "stream",
          "name": "stderr",
          "text": [
            "/usr/local/lib/python3.7/dist-packages/sklearn/utils/validation.py:598: FutureWarning: np.matrix usage is deprecated in 1.0 and will raise a TypeError in 1.2. Please convert to a numpy array with np.asarray. For more information see: https://numpy.org/doc/stable/reference/generated/numpy.matrix.html\n",
            "  FutureWarning,\n"
          ]
        },
        {
          "output_type": "stream",
          "name": "stdout",
          "text": [
            "[Pipeline] ............... (step 7 of 7) Processing CLF, total=  22.5s\n"
          ]
        },
        {
          "output_type": "stream",
          "name": "stderr",
          "text": [
            "/usr/local/lib/python3.7/dist-packages/sklearn/utils/validation.py:598: FutureWarning: np.matrix usage is deprecated in 1.0 and will raise a TypeError in 1.2. Please convert to a numpy array with np.asarray. For more information see: https://numpy.org/doc/stable/reference/generated/numpy.matrix.html\n",
            "  FutureWarning,\n"
          ]
        },
        {
          "output_type": "stream",
          "name": "stdout",
          "text": [
            "[Pipeline] ... (step 1 of 7) Processing TweetNormalizer, total=   1.1s\n",
            "[Pipeline] .. (step 2 of 7) Processing FeatureExtractor, total=   4.9s\n",
            "[Pipeline] .. (step 3 of 7) Processing BigramVectorizer, total=   6.2s\n",
            "[Pipeline]  (step 4 of 7) Processing MatrixToArrayConverter, total=   0.0s\n",
            "[Pipeline] ..... (step 5 of 7) Processing OneHotEncoder, total=   0.4s\n",
            "[Pipeline] ..... (step 6 of 7) Processing MatrixUnifier, total=   0.0s\n"
          ]
        },
        {
          "output_type": "stream",
          "name": "stderr",
          "text": [
            "/usr/local/lib/python3.7/dist-packages/sklearn/utils/validation.py:598: FutureWarning: np.matrix usage is deprecated in 1.0 and will raise a TypeError in 1.2. Please convert to a numpy array with np.asarray. For more information see: https://numpy.org/doc/stable/reference/generated/numpy.matrix.html\n",
            "  FutureWarning,\n"
          ]
        },
        {
          "output_type": "stream",
          "name": "stdout",
          "text": [
            "[Pipeline] ............... (step 7 of 7) Processing CLF, total=  22.5s\n"
          ]
        },
        {
          "output_type": "stream",
          "name": "stderr",
          "text": [
            "/usr/local/lib/python3.7/dist-packages/sklearn/utils/validation.py:598: FutureWarning: np.matrix usage is deprecated in 1.0 and will raise a TypeError in 1.2. Please convert to a numpy array with np.asarray. For more information see: https://numpy.org/doc/stable/reference/generated/numpy.matrix.html\n",
            "  FutureWarning,\n"
          ]
        },
        {
          "output_type": "stream",
          "name": "stdout",
          "text": [
            "[Pipeline] ... (step 1 of 7) Processing TweetNormalizer, total=   1.1s\n",
            "[Pipeline] .. (step 2 of 7) Processing FeatureExtractor, total=   4.9s\n",
            "[Pipeline] .. (step 3 of 7) Processing BigramVectorizer, total=   6.3s\n",
            "[Pipeline]  (step 4 of 7) Processing MatrixToArrayConverter, total=   0.0s\n",
            "[Pipeline] ..... (step 5 of 7) Processing OneHotEncoder, total=   0.4s\n",
            "[Pipeline] ..... (step 6 of 7) Processing MatrixUnifier, total=   0.0s\n"
          ]
        },
        {
          "output_type": "stream",
          "name": "stderr",
          "text": [
            "/usr/local/lib/python3.7/dist-packages/sklearn/utils/validation.py:598: FutureWarning: np.matrix usage is deprecated in 1.0 and will raise a TypeError in 1.2. Please convert to a numpy array with np.asarray. For more information see: https://numpy.org/doc/stable/reference/generated/numpy.matrix.html\n",
            "  FutureWarning,\n"
          ]
        },
        {
          "output_type": "stream",
          "name": "stdout",
          "text": [
            "[Pipeline] ............... (step 7 of 7) Processing CLF, total=  22.6s\n"
          ]
        },
        {
          "output_type": "stream",
          "name": "stderr",
          "text": [
            "/usr/local/lib/python3.7/dist-packages/sklearn/utils/validation.py:598: FutureWarning: np.matrix usage is deprecated in 1.0 and will raise a TypeError in 1.2. Please convert to a numpy array with np.asarray. For more information see: https://numpy.org/doc/stable/reference/generated/numpy.matrix.html\n",
            "  FutureWarning,\n"
          ]
        },
        {
          "output_type": "stream",
          "name": "stdout",
          "text": [
            "[Pipeline] ... (step 1 of 7) Processing TweetNormalizer, total=   0.8s\n",
            "[Pipeline] .. (step 2 of 7) Processing FeatureExtractor, total=   4.1s\n",
            "[Pipeline] .. (step 3 of 7) Processing BigramVectorizer, total=   5.2s\n",
            "[Pipeline]  (step 4 of 7) Processing MatrixToArrayConverter, total=   0.0s\n",
            "[Pipeline] ..... (step 5 of 7) Processing OneHotEncoder, total=   0.4s\n",
            "[Pipeline] ..... (step 6 of 7) Processing MatrixUnifier, total=   0.0s\n"
          ]
        },
        {
          "output_type": "stream",
          "name": "stderr",
          "text": [
            "/usr/local/lib/python3.7/dist-packages/sklearn/utils/validation.py:598: FutureWarning: np.matrix usage is deprecated in 1.0 and will raise a TypeError in 1.2. Please convert to a numpy array with np.asarray. For more information see: https://numpy.org/doc/stable/reference/generated/numpy.matrix.html\n",
            "  FutureWarning,\n"
          ]
        },
        {
          "output_type": "stream",
          "name": "stdout",
          "text": [
            "[Pipeline] ............... (step 7 of 7) Processing CLF, total=  22.3s\n"
          ]
        },
        {
          "output_type": "stream",
          "name": "stderr",
          "text": [
            "/usr/local/lib/python3.7/dist-packages/sklearn/utils/validation.py:598: FutureWarning: np.matrix usage is deprecated in 1.0 and will raise a TypeError in 1.2. Please convert to a numpy array with np.asarray. For more information see: https://numpy.org/doc/stable/reference/generated/numpy.matrix.html\n",
            "  FutureWarning,\n"
          ]
        },
        {
          "output_type": "stream",
          "name": "stdout",
          "text": [
            "[Pipeline] ... (step 1 of 7) Processing TweetNormalizer, total=   1.1s\n",
            "[Pipeline] .. (step 2 of 7) Processing FeatureExtractor, total=   4.9s\n",
            "[Pipeline] .. (step 3 of 7) Processing BigramVectorizer, total=   6.2s\n",
            "[Pipeline]  (step 4 of 7) Processing MatrixToArrayConverter, total=   0.0s\n",
            "[Pipeline] ..... (step 5 of 7) Processing OneHotEncoder, total=   0.4s\n",
            "[Pipeline] ..... (step 6 of 7) Processing MatrixUnifier, total=   0.0s\n"
          ]
        },
        {
          "output_type": "stream",
          "name": "stderr",
          "text": [
            "/usr/local/lib/python3.7/dist-packages/sklearn/utils/validation.py:598: FutureWarning: np.matrix usage is deprecated in 1.0 and will raise a TypeError in 1.2. Please convert to a numpy array with np.asarray. For more information see: https://numpy.org/doc/stable/reference/generated/numpy.matrix.html\n",
            "  FutureWarning,\n"
          ]
        },
        {
          "output_type": "stream",
          "name": "stdout",
          "text": [
            "[Pipeline] ............... (step 7 of 7) Processing CLF, total=  22.6s\n"
          ]
        },
        {
          "output_type": "stream",
          "name": "stderr",
          "text": [
            "/usr/local/lib/python3.7/dist-packages/sklearn/utils/validation.py:598: FutureWarning: np.matrix usage is deprecated in 1.0 and will raise a TypeError in 1.2. Please convert to a numpy array with np.asarray. For more information see: https://numpy.org/doc/stable/reference/generated/numpy.matrix.html\n",
            "  FutureWarning,\n"
          ]
        },
        {
          "output_type": "stream",
          "name": "stdout",
          "text": [
            "[Pipeline] ... (step 1 of 7) Processing TweetNormalizer, total=   1.1s\n",
            "[Pipeline] .. (step 2 of 7) Processing FeatureExtractor, total=   5.0s\n",
            "[Pipeline] .. (step 3 of 7) Processing BigramVectorizer, total=   6.2s\n",
            "[Pipeline]  (step 4 of 7) Processing MatrixToArrayConverter, total=   0.0s\n",
            "[Pipeline] ..... (step 5 of 7) Processing OneHotEncoder, total=   0.4s\n",
            "[Pipeline] ..... (step 6 of 7) Processing MatrixUnifier, total=   0.0s\n"
          ]
        },
        {
          "output_type": "stream",
          "name": "stderr",
          "text": [
            "/usr/local/lib/python3.7/dist-packages/sklearn/utils/validation.py:598: FutureWarning: np.matrix usage is deprecated in 1.0 and will raise a TypeError in 1.2. Please convert to a numpy array with np.asarray. For more information see: https://numpy.org/doc/stable/reference/generated/numpy.matrix.html\n",
            "  FutureWarning,\n"
          ]
        },
        {
          "output_type": "stream",
          "name": "stdout",
          "text": [
            "[Pipeline] ............... (step 7 of 7) Processing CLF, total=  22.3s\n"
          ]
        },
        {
          "output_type": "stream",
          "name": "stderr",
          "text": [
            "/usr/local/lib/python3.7/dist-packages/sklearn/utils/validation.py:598: FutureWarning: np.matrix usage is deprecated in 1.0 and will raise a TypeError in 1.2. Please convert to a numpy array with np.asarray. For more information see: https://numpy.org/doc/stable/reference/generated/numpy.matrix.html\n",
            "  FutureWarning,\n"
          ]
        },
        {
          "output_type": "stream",
          "name": "stdout",
          "text": [
            "[Pipeline] ... (step 1 of 7) Processing TweetNormalizer, total=   1.1s\n",
            "[Pipeline] .. (step 2 of 7) Processing FeatureExtractor, total=   4.9s\n",
            "[Pipeline] .. (step 3 of 7) Processing BigramVectorizer, total=   6.3s\n",
            "[Pipeline]  (step 4 of 7) Processing MatrixToArrayConverter, total=   0.0s\n",
            "[Pipeline] ..... (step 5 of 7) Processing OneHotEncoder, total=   0.4s\n",
            "[Pipeline] ..... (step 6 of 7) Processing MatrixUnifier, total=   0.0s\n"
          ]
        },
        {
          "output_type": "stream",
          "name": "stderr",
          "text": [
            "/usr/local/lib/python3.7/dist-packages/sklearn/utils/validation.py:598: FutureWarning: np.matrix usage is deprecated in 1.0 and will raise a TypeError in 1.2. Please convert to a numpy array with np.asarray. For more information see: https://numpy.org/doc/stable/reference/generated/numpy.matrix.html\n",
            "  FutureWarning,\n"
          ]
        },
        {
          "output_type": "stream",
          "name": "stdout",
          "text": [
            "[Pipeline] ............... (step 7 of 7) Processing CLF, total=  39.7s\n"
          ]
        },
        {
          "output_type": "stream",
          "name": "stderr",
          "text": [
            "/usr/local/lib/python3.7/dist-packages/sklearn/utils/validation.py:598: FutureWarning: np.matrix usage is deprecated in 1.0 and will raise a TypeError in 1.2. Please convert to a numpy array with np.asarray. For more information see: https://numpy.org/doc/stable/reference/generated/numpy.matrix.html\n",
            "  FutureWarning,\n"
          ]
        },
        {
          "output_type": "stream",
          "name": "stdout",
          "text": [
            "[Pipeline] ... (step 1 of 7) Processing TweetNormalizer, total=   1.1s\n",
            "[Pipeline] .. (step 2 of 7) Processing FeatureExtractor, total=   5.0s\n",
            "[Pipeline] .. (step 3 of 7) Processing BigramVectorizer, total=   6.2s\n",
            "[Pipeline]  (step 4 of 7) Processing MatrixToArrayConverter, total=   0.0s\n",
            "[Pipeline] ..... (step 5 of 7) Processing OneHotEncoder, total=   0.4s\n",
            "[Pipeline] ..... (step 6 of 7) Processing MatrixUnifier, total=   0.0s\n"
          ]
        },
        {
          "output_type": "stream",
          "name": "stderr",
          "text": [
            "/usr/local/lib/python3.7/dist-packages/sklearn/utils/validation.py:598: FutureWarning: np.matrix usage is deprecated in 1.0 and will raise a TypeError in 1.2. Please convert to a numpy array with np.asarray. For more information see: https://numpy.org/doc/stable/reference/generated/numpy.matrix.html\n",
            "  FutureWarning,\n"
          ]
        },
        {
          "output_type": "stream",
          "name": "stdout",
          "text": [
            "[Pipeline] ............... (step 7 of 7) Processing CLF, total=  39.5s\n"
          ]
        },
        {
          "output_type": "stream",
          "name": "stderr",
          "text": [
            "/usr/local/lib/python3.7/dist-packages/sklearn/utils/validation.py:598: FutureWarning: np.matrix usage is deprecated in 1.0 and will raise a TypeError in 1.2. Please convert to a numpy array with np.asarray. For more information see: https://numpy.org/doc/stable/reference/generated/numpy.matrix.html\n",
            "  FutureWarning,\n"
          ]
        },
        {
          "output_type": "stream",
          "name": "stdout",
          "text": [
            "[Pipeline] ... (step 1 of 7) Processing TweetNormalizer, total=   1.1s\n",
            "[Pipeline] .. (step 2 of 7) Processing FeatureExtractor, total=   5.0s\n",
            "[Pipeline] .. (step 3 of 7) Processing BigramVectorizer, total=   6.3s\n",
            "[Pipeline]  (step 4 of 7) Processing MatrixToArrayConverter, total=   0.0s\n",
            "[Pipeline] ..... (step 5 of 7) Processing OneHotEncoder, total=   0.4s\n",
            "[Pipeline] ..... (step 6 of 7) Processing MatrixUnifier, total=   0.0s\n"
          ]
        },
        {
          "output_type": "stream",
          "name": "stderr",
          "text": [
            "/usr/local/lib/python3.7/dist-packages/sklearn/utils/validation.py:598: FutureWarning: np.matrix usage is deprecated in 1.0 and will raise a TypeError in 1.2. Please convert to a numpy array with np.asarray. For more information see: https://numpy.org/doc/stable/reference/generated/numpy.matrix.html\n",
            "  FutureWarning,\n"
          ]
        },
        {
          "output_type": "stream",
          "name": "stdout",
          "text": [
            "[Pipeline] ............... (step 7 of 7) Processing CLF, total=  39.2s\n"
          ]
        },
        {
          "output_type": "stream",
          "name": "stderr",
          "text": [
            "/usr/local/lib/python3.7/dist-packages/sklearn/utils/validation.py:598: FutureWarning: np.matrix usage is deprecated in 1.0 and will raise a TypeError in 1.2. Please convert to a numpy array with np.asarray. For more information see: https://numpy.org/doc/stable/reference/generated/numpy.matrix.html\n",
            "  FutureWarning,\n"
          ]
        },
        {
          "output_type": "stream",
          "name": "stdout",
          "text": [
            "[Pipeline] ... (step 1 of 7) Processing TweetNormalizer, total=   1.1s\n",
            "[Pipeline] .. (step 2 of 7) Processing FeatureExtractor, total=   4.9s\n",
            "[Pipeline] .. (step 3 of 7) Processing BigramVectorizer, total=   6.2s\n",
            "[Pipeline]  (step 4 of 7) Processing MatrixToArrayConverter, total=   0.0s\n",
            "[Pipeline] ..... (step 5 of 7) Processing OneHotEncoder, total=   0.4s\n",
            "[Pipeline] ..... (step 6 of 7) Processing MatrixUnifier, total=   0.0s\n"
          ]
        },
        {
          "output_type": "stream",
          "name": "stderr",
          "text": [
            "/usr/local/lib/python3.7/dist-packages/sklearn/utils/validation.py:598: FutureWarning: np.matrix usage is deprecated in 1.0 and will raise a TypeError in 1.2. Please convert to a numpy array with np.asarray. For more information see: https://numpy.org/doc/stable/reference/generated/numpy.matrix.html\n",
            "  FutureWarning,\n"
          ]
        },
        {
          "output_type": "stream",
          "name": "stdout",
          "text": [
            "[Pipeline] ............... (step 7 of 7) Processing CLF, total=  39.5s\n"
          ]
        },
        {
          "output_type": "stream",
          "name": "stderr",
          "text": [
            "/usr/local/lib/python3.7/dist-packages/sklearn/utils/validation.py:598: FutureWarning: np.matrix usage is deprecated in 1.0 and will raise a TypeError in 1.2. Please convert to a numpy array with np.asarray. For more information see: https://numpy.org/doc/stable/reference/generated/numpy.matrix.html\n",
            "  FutureWarning,\n"
          ]
        },
        {
          "output_type": "stream",
          "name": "stdout",
          "text": [
            "[Pipeline] ... (step 1 of 7) Processing TweetNormalizer, total=   1.1s\n",
            "[Pipeline] .. (step 2 of 7) Processing FeatureExtractor, total=   4.9s\n",
            "[Pipeline] .. (step 3 of 7) Processing BigramVectorizer, total=   6.2s\n",
            "[Pipeline]  (step 4 of 7) Processing MatrixToArrayConverter, total=   0.0s\n",
            "[Pipeline] ..... (step 5 of 7) Processing OneHotEncoder, total=   0.4s\n",
            "[Pipeline] ..... (step 6 of 7) Processing MatrixUnifier, total=   0.0s\n"
          ]
        },
        {
          "output_type": "stream",
          "name": "stderr",
          "text": [
            "/usr/local/lib/python3.7/dist-packages/sklearn/utils/validation.py:598: FutureWarning: np.matrix usage is deprecated in 1.0 and will raise a TypeError in 1.2. Please convert to a numpy array with np.asarray. For more information see: https://numpy.org/doc/stable/reference/generated/numpy.matrix.html\n",
            "  FutureWarning,\n"
          ]
        },
        {
          "output_type": "stream",
          "name": "stdout",
          "text": [
            "[Pipeline] ............... (step 7 of 7) Processing CLF, total=  39.6s\n"
          ]
        },
        {
          "output_type": "stream",
          "name": "stderr",
          "text": [
            "/usr/local/lib/python3.7/dist-packages/sklearn/utils/validation.py:598: FutureWarning: np.matrix usage is deprecated in 1.0 and will raise a TypeError in 1.2. Please convert to a numpy array with np.asarray. For more information see: https://numpy.org/doc/stable/reference/generated/numpy.matrix.html\n",
            "  FutureWarning,\n"
          ]
        },
        {
          "output_type": "stream",
          "name": "stdout",
          "text": [
            "[Pipeline] ... (step 1 of 7) Processing TweetNormalizer, total=   1.1s\n",
            "[Pipeline] .. (step 2 of 7) Processing FeatureExtractor, total=   5.0s\n",
            "[Pipeline] .. (step 3 of 7) Processing BigramVectorizer, total=   6.2s\n",
            "[Pipeline]  (step 4 of 7) Processing MatrixToArrayConverter, total=   0.0s\n",
            "[Pipeline] ..... (step 5 of 7) Processing OneHotEncoder, total=   0.4s\n",
            "[Pipeline] ..... (step 6 of 7) Processing MatrixUnifier, total=   0.0s\n"
          ]
        },
        {
          "output_type": "stream",
          "name": "stderr",
          "text": [
            "/usr/local/lib/python3.7/dist-packages/sklearn/utils/validation.py:598: FutureWarning: np.matrix usage is deprecated in 1.0 and will raise a TypeError in 1.2. Please convert to a numpy array with np.asarray. For more information see: https://numpy.org/doc/stable/reference/generated/numpy.matrix.html\n",
            "  FutureWarning,\n"
          ]
        },
        {
          "output_type": "stream",
          "name": "stdout",
          "text": [
            "[Pipeline] ............... (step 7 of 7) Processing CLF, total=  39.6s\n"
          ]
        },
        {
          "output_type": "stream",
          "name": "stderr",
          "text": [
            "/usr/local/lib/python3.7/dist-packages/sklearn/utils/validation.py:598: FutureWarning: np.matrix usage is deprecated in 1.0 and will raise a TypeError in 1.2. Please convert to a numpy array with np.asarray. For more information see: https://numpy.org/doc/stable/reference/generated/numpy.matrix.html\n",
            "  FutureWarning,\n"
          ]
        },
        {
          "output_type": "stream",
          "name": "stdout",
          "text": [
            "[Pipeline] ... (step 1 of 7) Processing TweetNormalizer, total=   1.1s\n",
            "[Pipeline] .. (step 2 of 7) Processing FeatureExtractor, total=   5.0s\n",
            "[Pipeline] .. (step 3 of 7) Processing BigramVectorizer, total=   6.3s\n",
            "[Pipeline]  (step 4 of 7) Processing MatrixToArrayConverter, total=   0.0s\n",
            "[Pipeline] ..... (step 5 of 7) Processing OneHotEncoder, total=   0.4s\n",
            "[Pipeline] ..... (step 6 of 7) Processing MatrixUnifier, total=   0.0s\n"
          ]
        },
        {
          "output_type": "stream",
          "name": "stderr",
          "text": [
            "/usr/local/lib/python3.7/dist-packages/sklearn/utils/validation.py:598: FutureWarning: np.matrix usage is deprecated in 1.0 and will raise a TypeError in 1.2. Please convert to a numpy array with np.asarray. For more information see: https://numpy.org/doc/stable/reference/generated/numpy.matrix.html\n",
            "  FutureWarning,\n"
          ]
        },
        {
          "output_type": "stream",
          "name": "stdout",
          "text": [
            "[Pipeline] ............... (step 7 of 7) Processing CLF, total=  39.7s\n"
          ]
        },
        {
          "output_type": "stream",
          "name": "stderr",
          "text": [
            "/usr/local/lib/python3.7/dist-packages/sklearn/utils/validation.py:598: FutureWarning: np.matrix usage is deprecated in 1.0 and will raise a TypeError in 1.2. Please convert to a numpy array with np.asarray. For more information see: https://numpy.org/doc/stable/reference/generated/numpy.matrix.html\n",
            "  FutureWarning,\n"
          ]
        },
        {
          "output_type": "stream",
          "name": "stdout",
          "text": [
            "[Pipeline] ... (step 1 of 7) Processing TweetNormalizer, total=   0.8s\n",
            "[Pipeline] .. (step 2 of 7) Processing FeatureExtractor, total=   4.1s\n",
            "[Pipeline] .. (step 3 of 7) Processing BigramVectorizer, total=   5.3s\n",
            "[Pipeline]  (step 4 of 7) Processing MatrixToArrayConverter, total=   0.0s\n",
            "[Pipeline] ..... (step 5 of 7) Processing OneHotEncoder, total=   0.4s\n",
            "[Pipeline] ..... (step 6 of 7) Processing MatrixUnifier, total=   0.0s\n"
          ]
        },
        {
          "output_type": "stream",
          "name": "stderr",
          "text": [
            "/usr/local/lib/python3.7/dist-packages/sklearn/utils/validation.py:598: FutureWarning: np.matrix usage is deprecated in 1.0 and will raise a TypeError in 1.2. Please convert to a numpy array with np.asarray. For more information see: https://numpy.org/doc/stable/reference/generated/numpy.matrix.html\n",
            "  FutureWarning,\n"
          ]
        },
        {
          "output_type": "stream",
          "name": "stdout",
          "text": [
            "[Pipeline] ............... (step 7 of 7) Processing CLF, total=  39.8s\n"
          ]
        },
        {
          "output_type": "stream",
          "name": "stderr",
          "text": [
            "/usr/local/lib/python3.7/dist-packages/sklearn/utils/validation.py:598: FutureWarning: np.matrix usage is deprecated in 1.0 and will raise a TypeError in 1.2. Please convert to a numpy array with np.asarray. For more information see: https://numpy.org/doc/stable/reference/generated/numpy.matrix.html\n",
            "  FutureWarning,\n"
          ]
        },
        {
          "output_type": "stream",
          "name": "stdout",
          "text": [
            "[Pipeline] ... (step 1 of 7) Processing TweetNormalizer, total=   1.1s\n",
            "[Pipeline] .. (step 2 of 7) Processing FeatureExtractor, total=   5.0s\n",
            "[Pipeline] .. (step 3 of 7) Processing BigramVectorizer, total=   6.3s\n",
            "[Pipeline]  (step 4 of 7) Processing MatrixToArrayConverter, total=   0.0s\n",
            "[Pipeline] ..... (step 5 of 7) Processing OneHotEncoder, total=   0.4s\n",
            "[Pipeline] ..... (step 6 of 7) Processing MatrixUnifier, total=   0.0s\n"
          ]
        },
        {
          "output_type": "stream",
          "name": "stderr",
          "text": [
            "/usr/local/lib/python3.7/dist-packages/sklearn/utils/validation.py:598: FutureWarning: np.matrix usage is deprecated in 1.0 and will raise a TypeError in 1.2. Please convert to a numpy array with np.asarray. For more information see: https://numpy.org/doc/stable/reference/generated/numpy.matrix.html\n",
            "  FutureWarning,\n"
          ]
        },
        {
          "output_type": "stream",
          "name": "stdout",
          "text": [
            "[Pipeline] ............... (step 7 of 7) Processing CLF, total=  39.7s\n"
          ]
        },
        {
          "output_type": "stream",
          "name": "stderr",
          "text": [
            "/usr/local/lib/python3.7/dist-packages/sklearn/utils/validation.py:598: FutureWarning: np.matrix usage is deprecated in 1.0 and will raise a TypeError in 1.2. Please convert to a numpy array with np.asarray. For more information see: https://numpy.org/doc/stable/reference/generated/numpy.matrix.html\n",
            "  FutureWarning,\n"
          ]
        },
        {
          "output_type": "stream",
          "name": "stdout",
          "text": [
            "[Pipeline] ... (step 1 of 7) Processing TweetNormalizer, total=   1.1s\n",
            "[Pipeline] .. (step 2 of 7) Processing FeatureExtractor, total=   5.0s\n",
            "[Pipeline] .. (step 3 of 7) Processing BigramVectorizer, total=   6.2s\n",
            "[Pipeline]  (step 4 of 7) Processing MatrixToArrayConverter, total=   0.0s\n",
            "[Pipeline] ..... (step 5 of 7) Processing OneHotEncoder, total=   0.4s\n",
            "[Pipeline] ..... (step 6 of 7) Processing MatrixUnifier, total=   0.0s\n"
          ]
        },
        {
          "output_type": "stream",
          "name": "stderr",
          "text": [
            "/usr/local/lib/python3.7/dist-packages/sklearn/utils/validation.py:598: FutureWarning: np.matrix usage is deprecated in 1.0 and will raise a TypeError in 1.2. Please convert to a numpy array with np.asarray. For more information see: https://numpy.org/doc/stable/reference/generated/numpy.matrix.html\n",
            "  FutureWarning,\n"
          ]
        },
        {
          "output_type": "stream",
          "name": "stdout",
          "text": [
            "[Pipeline] ............... (step 7 of 7) Processing CLF, total=  39.8s\n"
          ]
        },
        {
          "output_type": "stream",
          "name": "stderr",
          "text": [
            "/usr/local/lib/python3.7/dist-packages/sklearn/utils/validation.py:598: FutureWarning: np.matrix usage is deprecated in 1.0 and will raise a TypeError in 1.2. Please convert to a numpy array with np.asarray. For more information see: https://numpy.org/doc/stable/reference/generated/numpy.matrix.html\n",
            "  FutureWarning,\n"
          ]
        },
        {
          "output_type": "stream",
          "name": "stdout",
          "text": [
            "[Pipeline] ... (step 1 of 7) Processing TweetNormalizer, total=   1.1s\n",
            "[Pipeline] .. (step 2 of 7) Processing FeatureExtractor, total=   5.0s\n",
            "[Pipeline] .. (step 3 of 7) Processing BigramVectorizer, total=   6.3s\n",
            "[Pipeline]  (step 4 of 7) Processing MatrixToArrayConverter, total=   0.0s\n",
            "[Pipeline] ..... (step 5 of 7) Processing OneHotEncoder, total=   0.4s\n",
            "[Pipeline] ..... (step 6 of 7) Processing MatrixUnifier, total=   0.0s\n"
          ]
        },
        {
          "output_type": "stream",
          "name": "stderr",
          "text": [
            "/usr/local/lib/python3.7/dist-packages/sklearn/utils/validation.py:598: FutureWarning: np.matrix usage is deprecated in 1.0 and will raise a TypeError in 1.2. Please convert to a numpy array with np.asarray. For more information see: https://numpy.org/doc/stable/reference/generated/numpy.matrix.html\n",
            "  FutureWarning,\n"
          ]
        },
        {
          "output_type": "stream",
          "name": "stdout",
          "text": [
            "[Pipeline] ............... (step 7 of 7) Processing CLF, total=  20.6s\n"
          ]
        },
        {
          "output_type": "stream",
          "name": "stderr",
          "text": [
            "/usr/local/lib/python3.7/dist-packages/sklearn/utils/validation.py:598: FutureWarning: np.matrix usage is deprecated in 1.0 and will raise a TypeError in 1.2. Please convert to a numpy array with np.asarray. For more information see: https://numpy.org/doc/stable/reference/generated/numpy.matrix.html\n",
            "  FutureWarning,\n"
          ]
        },
        {
          "output_type": "stream",
          "name": "stdout",
          "text": [
            "[Pipeline] ... (step 1 of 7) Processing TweetNormalizer, total=   1.1s\n",
            "[Pipeline] .. (step 2 of 7) Processing FeatureExtractor, total=   5.0s\n",
            "[Pipeline] .. (step 3 of 7) Processing BigramVectorizer, total=   6.2s\n",
            "[Pipeline]  (step 4 of 7) Processing MatrixToArrayConverter, total=   0.0s\n",
            "[Pipeline] ..... (step 5 of 7) Processing OneHotEncoder, total=   0.4s\n",
            "[Pipeline] ..... (step 6 of 7) Processing MatrixUnifier, total=   0.0s\n"
          ]
        },
        {
          "output_type": "stream",
          "name": "stderr",
          "text": [
            "/usr/local/lib/python3.7/dist-packages/sklearn/utils/validation.py:598: FutureWarning: np.matrix usage is deprecated in 1.0 and will raise a TypeError in 1.2. Please convert to a numpy array with np.asarray. For more information see: https://numpy.org/doc/stable/reference/generated/numpy.matrix.html\n",
            "  FutureWarning,\n"
          ]
        },
        {
          "output_type": "stream",
          "name": "stdout",
          "text": [
            "[Pipeline] ............... (step 7 of 7) Processing CLF, total=  20.8s\n"
          ]
        },
        {
          "output_type": "stream",
          "name": "stderr",
          "text": [
            "/usr/local/lib/python3.7/dist-packages/sklearn/utils/validation.py:598: FutureWarning: np.matrix usage is deprecated in 1.0 and will raise a TypeError in 1.2. Please convert to a numpy array with np.asarray. For more information see: https://numpy.org/doc/stable/reference/generated/numpy.matrix.html\n",
            "  FutureWarning,\n"
          ]
        },
        {
          "output_type": "stream",
          "name": "stdout",
          "text": [
            "[Pipeline] ... (step 1 of 7) Processing TweetNormalizer, total=   1.1s\n",
            "[Pipeline] .. (step 2 of 7) Processing FeatureExtractor, total=   5.0s\n",
            "[Pipeline] .. (step 3 of 7) Processing BigramVectorizer, total=   6.3s\n",
            "[Pipeline]  (step 4 of 7) Processing MatrixToArrayConverter, total=   0.0s\n",
            "[Pipeline] ..... (step 5 of 7) Processing OneHotEncoder, total=   0.4s\n",
            "[Pipeline] ..... (step 6 of 7) Processing MatrixUnifier, total=   0.0s\n"
          ]
        },
        {
          "output_type": "stream",
          "name": "stderr",
          "text": [
            "/usr/local/lib/python3.7/dist-packages/sklearn/utils/validation.py:598: FutureWarning: np.matrix usage is deprecated in 1.0 and will raise a TypeError in 1.2. Please convert to a numpy array with np.asarray. For more information see: https://numpy.org/doc/stable/reference/generated/numpy.matrix.html\n",
            "  FutureWarning,\n"
          ]
        },
        {
          "output_type": "stream",
          "name": "stdout",
          "text": [
            "[Pipeline] ............... (step 7 of 7) Processing CLF, total=  19.9s\n"
          ]
        },
        {
          "output_type": "stream",
          "name": "stderr",
          "text": [
            "/usr/local/lib/python3.7/dist-packages/sklearn/utils/validation.py:598: FutureWarning: np.matrix usage is deprecated in 1.0 and will raise a TypeError in 1.2. Please convert to a numpy array with np.asarray. For more information see: https://numpy.org/doc/stable/reference/generated/numpy.matrix.html\n",
            "  FutureWarning,\n"
          ]
        },
        {
          "output_type": "stream",
          "name": "stdout",
          "text": [
            "[Pipeline] ... (step 1 of 7) Processing TweetNormalizer, total=   1.1s\n",
            "[Pipeline] .. (step 2 of 7) Processing FeatureExtractor, total=   5.0s\n",
            "[Pipeline] .. (step 3 of 7) Processing BigramVectorizer, total=   6.2s\n",
            "[Pipeline]  (step 4 of 7) Processing MatrixToArrayConverter, total=   0.0s\n",
            "[Pipeline] ..... (step 5 of 7) Processing OneHotEncoder, total=   0.4s\n",
            "[Pipeline] ..... (step 6 of 7) Processing MatrixUnifier, total=   0.0s\n"
          ]
        },
        {
          "output_type": "stream",
          "name": "stderr",
          "text": [
            "/usr/local/lib/python3.7/dist-packages/sklearn/utils/validation.py:598: FutureWarning: np.matrix usage is deprecated in 1.0 and will raise a TypeError in 1.2. Please convert to a numpy array with np.asarray. For more information see: https://numpy.org/doc/stable/reference/generated/numpy.matrix.html\n",
            "  FutureWarning,\n"
          ]
        },
        {
          "output_type": "stream",
          "name": "stdout",
          "text": [
            "[Pipeline] ............... (step 7 of 7) Processing CLF, total=  19.5s\n"
          ]
        },
        {
          "output_type": "stream",
          "name": "stderr",
          "text": [
            "/usr/local/lib/python3.7/dist-packages/sklearn/utils/validation.py:598: FutureWarning: np.matrix usage is deprecated in 1.0 and will raise a TypeError in 1.2. Please convert to a numpy array with np.asarray. For more information see: https://numpy.org/doc/stable/reference/generated/numpy.matrix.html\n",
            "  FutureWarning,\n"
          ]
        },
        {
          "output_type": "stream",
          "name": "stdout",
          "text": [
            "[Pipeline] ... (step 1 of 7) Processing TweetNormalizer, total=   1.1s\n",
            "[Pipeline] .. (step 2 of 7) Processing FeatureExtractor, total=   5.0s\n",
            "[Pipeline] .. (step 3 of 7) Processing BigramVectorizer, total=   6.4s\n",
            "[Pipeline]  (step 4 of 7) Processing MatrixToArrayConverter, total=   0.0s\n",
            "[Pipeline] ..... (step 5 of 7) Processing OneHotEncoder, total=   0.4s\n",
            "[Pipeline] ..... (step 6 of 7) Processing MatrixUnifier, total=   0.0s\n"
          ]
        },
        {
          "output_type": "stream",
          "name": "stderr",
          "text": [
            "/usr/local/lib/python3.7/dist-packages/sklearn/utils/validation.py:598: FutureWarning: np.matrix usage is deprecated in 1.0 and will raise a TypeError in 1.2. Please convert to a numpy array with np.asarray. For more information see: https://numpy.org/doc/stable/reference/generated/numpy.matrix.html\n",
            "  FutureWarning,\n"
          ]
        },
        {
          "output_type": "stream",
          "name": "stdout",
          "text": [
            "[Pipeline] ............... (step 7 of 7) Processing CLF, total=  19.7s\n"
          ]
        },
        {
          "output_type": "stream",
          "name": "stderr",
          "text": [
            "/usr/local/lib/python3.7/dist-packages/sklearn/utils/validation.py:598: FutureWarning: np.matrix usage is deprecated in 1.0 and will raise a TypeError in 1.2. Please convert to a numpy array with np.asarray. For more information see: https://numpy.org/doc/stable/reference/generated/numpy.matrix.html\n",
            "  FutureWarning,\n"
          ]
        },
        {
          "output_type": "stream",
          "name": "stdout",
          "text": [
            "[Pipeline] ... (step 1 of 7) Processing TweetNormalizer, total=   1.1s\n",
            "[Pipeline] .. (step 2 of 7) Processing FeatureExtractor, total=   5.0s\n",
            "[Pipeline] .. (step 3 of 7) Processing BigramVectorizer, total=   6.2s\n",
            "[Pipeline]  (step 4 of 7) Processing MatrixToArrayConverter, total=   0.0s\n",
            "[Pipeline] ..... (step 5 of 7) Processing OneHotEncoder, total=   0.4s\n",
            "[Pipeline] ..... (step 6 of 7) Processing MatrixUnifier, total=   0.0s\n"
          ]
        },
        {
          "output_type": "stream",
          "name": "stderr",
          "text": [
            "/usr/local/lib/python3.7/dist-packages/sklearn/utils/validation.py:598: FutureWarning: np.matrix usage is deprecated in 1.0 and will raise a TypeError in 1.2. Please convert to a numpy array with np.asarray. For more information see: https://numpy.org/doc/stable/reference/generated/numpy.matrix.html\n",
            "  FutureWarning,\n"
          ]
        },
        {
          "output_type": "stream",
          "name": "stdout",
          "text": [
            "[Pipeline] ............... (step 7 of 7) Processing CLF, total=  20.4s\n"
          ]
        },
        {
          "output_type": "stream",
          "name": "stderr",
          "text": [
            "/usr/local/lib/python3.7/dist-packages/sklearn/utils/validation.py:598: FutureWarning: np.matrix usage is deprecated in 1.0 and will raise a TypeError in 1.2. Please convert to a numpy array with np.asarray. For more information see: https://numpy.org/doc/stable/reference/generated/numpy.matrix.html\n",
            "  FutureWarning,\n"
          ]
        },
        {
          "output_type": "stream",
          "name": "stdout",
          "text": [
            "[Pipeline] ... (step 1 of 7) Processing TweetNormalizer, total=   1.1s\n",
            "[Pipeline] .. (step 2 of 7) Processing FeatureExtractor, total=   5.0s\n",
            "[Pipeline] .. (step 3 of 7) Processing BigramVectorizer, total=   6.2s\n",
            "[Pipeline]  (step 4 of 7) Processing MatrixToArrayConverter, total=   0.0s\n",
            "[Pipeline] ..... (step 5 of 7) Processing OneHotEncoder, total=   0.4s\n",
            "[Pipeline] ..... (step 6 of 7) Processing MatrixUnifier, total=   0.0s\n"
          ]
        },
        {
          "output_type": "stream",
          "name": "stderr",
          "text": [
            "/usr/local/lib/python3.7/dist-packages/sklearn/utils/validation.py:598: FutureWarning: np.matrix usage is deprecated in 1.0 and will raise a TypeError in 1.2. Please convert to a numpy array with np.asarray. For more information see: https://numpy.org/doc/stable/reference/generated/numpy.matrix.html\n",
            "  FutureWarning,\n"
          ]
        },
        {
          "output_type": "stream",
          "name": "stdout",
          "text": [
            "[Pipeline] ............... (step 7 of 7) Processing CLF, total=  19.7s\n"
          ]
        },
        {
          "output_type": "stream",
          "name": "stderr",
          "text": [
            "/usr/local/lib/python3.7/dist-packages/sklearn/utils/validation.py:598: FutureWarning: np.matrix usage is deprecated in 1.0 and will raise a TypeError in 1.2. Please convert to a numpy array with np.asarray. For more information see: https://numpy.org/doc/stable/reference/generated/numpy.matrix.html\n",
            "  FutureWarning,\n"
          ]
        },
        {
          "output_type": "stream",
          "name": "stdout",
          "text": [
            "[Pipeline] ... (step 1 of 7) Processing TweetNormalizer, total=   0.9s\n",
            "[Pipeline] .. (step 2 of 7) Processing FeatureExtractor, total=   4.1s\n",
            "[Pipeline] .. (step 3 of 7) Processing BigramVectorizer, total=   5.3s\n",
            "[Pipeline]  (step 4 of 7) Processing MatrixToArrayConverter, total=   0.0s\n",
            "[Pipeline] ..... (step 5 of 7) Processing OneHotEncoder, total=   0.4s\n",
            "[Pipeline] ..... (step 6 of 7) Processing MatrixUnifier, total=   0.0s\n"
          ]
        },
        {
          "output_type": "stream",
          "name": "stderr",
          "text": [
            "/usr/local/lib/python3.7/dist-packages/sklearn/utils/validation.py:598: FutureWarning: np.matrix usage is deprecated in 1.0 and will raise a TypeError in 1.2. Please convert to a numpy array with np.asarray. For more information see: https://numpy.org/doc/stable/reference/generated/numpy.matrix.html\n",
            "  FutureWarning,\n"
          ]
        },
        {
          "output_type": "stream",
          "name": "stdout",
          "text": [
            "[Pipeline] ............... (step 7 of 7) Processing CLF, total=  19.9s\n"
          ]
        },
        {
          "output_type": "stream",
          "name": "stderr",
          "text": [
            "/usr/local/lib/python3.7/dist-packages/sklearn/utils/validation.py:598: FutureWarning: np.matrix usage is deprecated in 1.0 and will raise a TypeError in 1.2. Please convert to a numpy array with np.asarray. For more information see: https://numpy.org/doc/stable/reference/generated/numpy.matrix.html\n",
            "  FutureWarning,\n"
          ]
        },
        {
          "output_type": "stream",
          "name": "stdout",
          "text": [
            "[Pipeline] ... (step 1 of 7) Processing TweetNormalizer, total=   1.1s\n",
            "[Pipeline] .. (step 2 of 7) Processing FeatureExtractor, total=   4.9s\n",
            "[Pipeline] .. (step 3 of 7) Processing BigramVectorizer, total=   6.4s\n",
            "[Pipeline]  (step 4 of 7) Processing MatrixToArrayConverter, total=   0.0s\n",
            "[Pipeline] ..... (step 5 of 7) Processing OneHotEncoder, total=   0.4s\n",
            "[Pipeline] ..... (step 6 of 7) Processing MatrixUnifier, total=   0.0s\n"
          ]
        },
        {
          "output_type": "stream",
          "name": "stderr",
          "text": [
            "/usr/local/lib/python3.7/dist-packages/sklearn/utils/validation.py:598: FutureWarning: np.matrix usage is deprecated in 1.0 and will raise a TypeError in 1.2. Please convert to a numpy array with np.asarray. For more information see: https://numpy.org/doc/stable/reference/generated/numpy.matrix.html\n",
            "  FutureWarning,\n"
          ]
        },
        {
          "output_type": "stream",
          "name": "stdout",
          "text": [
            "[Pipeline] ............... (step 7 of 7) Processing CLF, total=  19.7s\n"
          ]
        },
        {
          "output_type": "stream",
          "name": "stderr",
          "text": [
            "/usr/local/lib/python3.7/dist-packages/sklearn/utils/validation.py:598: FutureWarning: np.matrix usage is deprecated in 1.0 and will raise a TypeError in 1.2. Please convert to a numpy array with np.asarray. For more information see: https://numpy.org/doc/stable/reference/generated/numpy.matrix.html\n",
            "  FutureWarning,\n"
          ]
        },
        {
          "output_type": "stream",
          "name": "stdout",
          "text": [
            "[Pipeline] ... (step 1 of 7) Processing TweetNormalizer, total=   1.1s\n",
            "[Pipeline] .. (step 2 of 7) Processing FeatureExtractor, total=   4.9s\n",
            "[Pipeline] .. (step 3 of 7) Processing BigramVectorizer, total=   6.3s\n",
            "[Pipeline]  (step 4 of 7) Processing MatrixToArrayConverter, total=   0.0s\n",
            "[Pipeline] ..... (step 5 of 7) Processing OneHotEncoder, total=   0.4s\n",
            "[Pipeline] ..... (step 6 of 7) Processing MatrixUnifier, total=   0.0s\n"
          ]
        },
        {
          "output_type": "stream",
          "name": "stderr",
          "text": [
            "/usr/local/lib/python3.7/dist-packages/sklearn/utils/validation.py:598: FutureWarning: np.matrix usage is deprecated in 1.0 and will raise a TypeError in 1.2. Please convert to a numpy array with np.asarray. For more information see: https://numpy.org/doc/stable/reference/generated/numpy.matrix.html\n",
            "  FutureWarning,\n"
          ]
        },
        {
          "output_type": "stream",
          "name": "stdout",
          "text": [
            "[Pipeline] ............... (step 7 of 7) Processing CLF, total=  20.1s\n"
          ]
        },
        {
          "output_type": "stream",
          "name": "stderr",
          "text": [
            "/usr/local/lib/python3.7/dist-packages/sklearn/utils/validation.py:598: FutureWarning: np.matrix usage is deprecated in 1.0 and will raise a TypeError in 1.2. Please convert to a numpy array with np.asarray. For more information see: https://numpy.org/doc/stable/reference/generated/numpy.matrix.html\n",
            "  FutureWarning,\n"
          ]
        },
        {
          "output_type": "stream",
          "name": "stdout",
          "text": [
            "[Pipeline] ... (step 1 of 7) Processing TweetNormalizer, total=   1.2s\n",
            "[Pipeline] .. (step 2 of 7) Processing FeatureExtractor, total=   5.1s\n",
            "[Pipeline] .. (step 3 of 7) Processing BigramVectorizer, total=   6.4s\n",
            "[Pipeline]  (step 4 of 7) Processing MatrixToArrayConverter, total=   0.0s\n",
            "[Pipeline] ..... (step 5 of 7) Processing OneHotEncoder, total=   0.4s\n",
            "[Pipeline] ..... (step 6 of 7) Processing MatrixUnifier, total=   0.0s\n"
          ]
        },
        {
          "output_type": "stream",
          "name": "stderr",
          "text": [
            "/usr/local/lib/python3.7/dist-packages/sklearn/utils/validation.py:598: FutureWarning: np.matrix usage is deprecated in 1.0 and will raise a TypeError in 1.2. Please convert to a numpy array with np.asarray. For more information see: https://numpy.org/doc/stable/reference/generated/numpy.matrix.html\n",
            "  FutureWarning,\n"
          ]
        },
        {
          "output_type": "stream",
          "name": "stdout",
          "text": [
            "[Pipeline] ............... (step 7 of 7) Processing CLF, total=  49.6s\n"
          ]
        },
        {
          "output_type": "stream",
          "name": "stderr",
          "text": [
            "/usr/local/lib/python3.7/dist-packages/sklearn/utils/validation.py:598: FutureWarning: np.matrix usage is deprecated in 1.0 and will raise a TypeError in 1.2. Please convert to a numpy array with np.asarray. For more information see: https://numpy.org/doc/stable/reference/generated/numpy.matrix.html\n",
            "  FutureWarning,\n"
          ]
        },
        {
          "output_type": "stream",
          "name": "stdout",
          "text": [
            "[Pipeline] ... (step 1 of 7) Processing TweetNormalizer, total=   1.1s\n",
            "[Pipeline] .. (step 2 of 7) Processing FeatureExtractor, total=   5.0s\n",
            "[Pipeline] .. (step 3 of 7) Processing BigramVectorizer, total=   6.2s\n",
            "[Pipeline]  (step 4 of 7) Processing MatrixToArrayConverter, total=   0.0s\n",
            "[Pipeline] ..... (step 5 of 7) Processing OneHotEncoder, total=   0.4s\n",
            "[Pipeline] ..... (step 6 of 7) Processing MatrixUnifier, total=   0.0s\n"
          ]
        },
        {
          "output_type": "stream",
          "name": "stderr",
          "text": [
            "/usr/local/lib/python3.7/dist-packages/sklearn/utils/validation.py:598: FutureWarning: np.matrix usage is deprecated in 1.0 and will raise a TypeError in 1.2. Please convert to a numpy array with np.asarray. For more information see: https://numpy.org/doc/stable/reference/generated/numpy.matrix.html\n",
            "  FutureWarning,\n"
          ]
        },
        {
          "output_type": "stream",
          "name": "stdout",
          "text": [
            "[Pipeline] ............... (step 7 of 7) Processing CLF, total=  46.6s\n"
          ]
        },
        {
          "output_type": "stream",
          "name": "stderr",
          "text": [
            "/usr/local/lib/python3.7/dist-packages/sklearn/utils/validation.py:598: FutureWarning: np.matrix usage is deprecated in 1.0 and will raise a TypeError in 1.2. Please convert to a numpy array with np.asarray. For more information see: https://numpy.org/doc/stable/reference/generated/numpy.matrix.html\n",
            "  FutureWarning,\n"
          ]
        },
        {
          "output_type": "stream",
          "name": "stdout",
          "text": [
            "[Pipeline] ... (step 1 of 7) Processing TweetNormalizer, total=   1.1s\n",
            "[Pipeline] .. (step 2 of 7) Processing FeatureExtractor, total=   5.0s\n",
            "[Pipeline] .. (step 3 of 7) Processing BigramVectorizer, total=   6.2s\n",
            "[Pipeline]  (step 4 of 7) Processing MatrixToArrayConverter, total=   0.0s\n",
            "[Pipeline] ..... (step 5 of 7) Processing OneHotEncoder, total=   0.4s\n",
            "[Pipeline] ..... (step 6 of 7) Processing MatrixUnifier, total=   0.0s\n"
          ]
        },
        {
          "output_type": "stream",
          "name": "stderr",
          "text": [
            "/usr/local/lib/python3.7/dist-packages/sklearn/utils/validation.py:598: FutureWarning: np.matrix usage is deprecated in 1.0 and will raise a TypeError in 1.2. Please convert to a numpy array with np.asarray. For more information see: https://numpy.org/doc/stable/reference/generated/numpy.matrix.html\n",
            "  FutureWarning,\n"
          ]
        },
        {
          "output_type": "stream",
          "name": "stdout",
          "text": [
            "[Pipeline] ............... (step 7 of 7) Processing CLF, total=  49.5s\n"
          ]
        },
        {
          "output_type": "stream",
          "name": "stderr",
          "text": [
            "/usr/local/lib/python3.7/dist-packages/sklearn/utils/validation.py:598: FutureWarning: np.matrix usage is deprecated in 1.0 and will raise a TypeError in 1.2. Please convert to a numpy array with np.asarray. For more information see: https://numpy.org/doc/stable/reference/generated/numpy.matrix.html\n",
            "  FutureWarning,\n"
          ]
        },
        {
          "output_type": "stream",
          "name": "stdout",
          "text": [
            "[Pipeline] ... (step 1 of 7) Processing TweetNormalizer, total=   1.1s\n",
            "[Pipeline] .. (step 2 of 7) Processing FeatureExtractor, total=   4.9s\n",
            "[Pipeline] .. (step 3 of 7) Processing BigramVectorizer, total=   6.2s\n",
            "[Pipeline]  (step 4 of 7) Processing MatrixToArrayConverter, total=   0.0s\n",
            "[Pipeline] ..... (step 5 of 7) Processing OneHotEncoder, total=   0.4s\n",
            "[Pipeline] ..... (step 6 of 7) Processing MatrixUnifier, total=   0.0s\n"
          ]
        },
        {
          "output_type": "stream",
          "name": "stderr",
          "text": [
            "/usr/local/lib/python3.7/dist-packages/sklearn/utils/validation.py:598: FutureWarning: np.matrix usage is deprecated in 1.0 and will raise a TypeError in 1.2. Please convert to a numpy array with np.asarray. For more information see: https://numpy.org/doc/stable/reference/generated/numpy.matrix.html\n",
            "  FutureWarning,\n"
          ]
        },
        {
          "output_type": "stream",
          "name": "stdout",
          "text": [
            "[Pipeline] ............... (step 7 of 7) Processing CLF, total=  48.8s\n"
          ]
        },
        {
          "output_type": "stream",
          "name": "stderr",
          "text": [
            "/usr/local/lib/python3.7/dist-packages/sklearn/utils/validation.py:598: FutureWarning: np.matrix usage is deprecated in 1.0 and will raise a TypeError in 1.2. Please convert to a numpy array with np.asarray. For more information see: https://numpy.org/doc/stable/reference/generated/numpy.matrix.html\n",
            "  FutureWarning,\n"
          ]
        },
        {
          "output_type": "stream",
          "name": "stdout",
          "text": [
            "[Pipeline] ... (step 1 of 7) Processing TweetNormalizer, total=   1.1s\n",
            "[Pipeline] .. (step 2 of 7) Processing FeatureExtractor, total=   5.0s\n",
            "[Pipeline] .. (step 3 of 7) Processing BigramVectorizer, total=   6.3s\n",
            "[Pipeline]  (step 4 of 7) Processing MatrixToArrayConverter, total=   0.0s\n",
            "[Pipeline] ..... (step 5 of 7) Processing OneHotEncoder, total=   0.4s\n",
            "[Pipeline] ..... (step 6 of 7) Processing MatrixUnifier, total=   0.0s\n"
          ]
        },
        {
          "output_type": "stream",
          "name": "stderr",
          "text": [
            "/usr/local/lib/python3.7/dist-packages/sklearn/utils/validation.py:598: FutureWarning: np.matrix usage is deprecated in 1.0 and will raise a TypeError in 1.2. Please convert to a numpy array with np.asarray. For more information see: https://numpy.org/doc/stable/reference/generated/numpy.matrix.html\n",
            "  FutureWarning,\n"
          ]
        },
        {
          "output_type": "stream",
          "name": "stdout",
          "text": [
            "[Pipeline] ............... (step 7 of 7) Processing CLF, total=  49.5s\n"
          ]
        },
        {
          "output_type": "stream",
          "name": "stderr",
          "text": [
            "/usr/local/lib/python3.7/dist-packages/sklearn/utils/validation.py:598: FutureWarning: np.matrix usage is deprecated in 1.0 and will raise a TypeError in 1.2. Please convert to a numpy array with np.asarray. For more information see: https://numpy.org/doc/stable/reference/generated/numpy.matrix.html\n",
            "  FutureWarning,\n"
          ]
        },
        {
          "output_type": "stream",
          "name": "stdout",
          "text": [
            "[Pipeline] ... (step 1 of 7) Processing TweetNormalizer, total=   1.1s\n",
            "[Pipeline] .. (step 2 of 7) Processing FeatureExtractor, total=   5.0s\n",
            "[Pipeline] .. (step 3 of 7) Processing BigramVectorizer, total=   6.3s\n",
            "[Pipeline]  (step 4 of 7) Processing MatrixToArrayConverter, total=   0.0s\n",
            "[Pipeline] ..... (step 5 of 7) Processing OneHotEncoder, total=   0.4s\n",
            "[Pipeline] ..... (step 6 of 7) Processing MatrixUnifier, total=   0.0s\n"
          ]
        },
        {
          "output_type": "stream",
          "name": "stderr",
          "text": [
            "/usr/local/lib/python3.7/dist-packages/sklearn/utils/validation.py:598: FutureWarning: np.matrix usage is deprecated in 1.0 and will raise a TypeError in 1.2. Please convert to a numpy array with np.asarray. For more information see: https://numpy.org/doc/stable/reference/generated/numpy.matrix.html\n",
            "  FutureWarning,\n"
          ]
        },
        {
          "output_type": "stream",
          "name": "stdout",
          "text": [
            "[Pipeline] ............... (step 7 of 7) Processing CLF, total=  47.7s\n"
          ]
        },
        {
          "output_type": "stream",
          "name": "stderr",
          "text": [
            "/usr/local/lib/python3.7/dist-packages/sklearn/utils/validation.py:598: FutureWarning: np.matrix usage is deprecated in 1.0 and will raise a TypeError in 1.2. Please convert to a numpy array with np.asarray. For more information see: https://numpy.org/doc/stable/reference/generated/numpy.matrix.html\n",
            "  FutureWarning,\n"
          ]
        },
        {
          "output_type": "stream",
          "name": "stdout",
          "text": [
            "[Pipeline] ... (step 1 of 7) Processing TweetNormalizer, total=   1.1s\n",
            "[Pipeline] .. (step 2 of 7) Processing FeatureExtractor, total=   5.0s\n",
            "[Pipeline] .. (step 3 of 7) Processing BigramVectorizer, total=   6.4s\n",
            "[Pipeline]  (step 4 of 7) Processing MatrixToArrayConverter, total=   0.0s\n",
            "[Pipeline] ..... (step 5 of 7) Processing OneHotEncoder, total=   0.4s\n",
            "[Pipeline] ..... (step 6 of 7) Processing MatrixUnifier, total=   0.0s\n"
          ]
        },
        {
          "output_type": "stream",
          "name": "stderr",
          "text": [
            "/usr/local/lib/python3.7/dist-packages/sklearn/utils/validation.py:598: FutureWarning: np.matrix usage is deprecated in 1.0 and will raise a TypeError in 1.2. Please convert to a numpy array with np.asarray. For more information see: https://numpy.org/doc/stable/reference/generated/numpy.matrix.html\n",
            "  FutureWarning,\n"
          ]
        },
        {
          "output_type": "stream",
          "name": "stdout",
          "text": [
            "[Pipeline] ............... (step 7 of 7) Processing CLF, total=  52.6s\n"
          ]
        },
        {
          "output_type": "stream",
          "name": "stderr",
          "text": [
            "/usr/local/lib/python3.7/dist-packages/sklearn/utils/validation.py:598: FutureWarning: np.matrix usage is deprecated in 1.0 and will raise a TypeError in 1.2. Please convert to a numpy array with np.asarray. For more information see: https://numpy.org/doc/stable/reference/generated/numpy.matrix.html\n",
            "  FutureWarning,\n"
          ]
        },
        {
          "output_type": "stream",
          "name": "stdout",
          "text": [
            "[Pipeline] ... (step 1 of 7) Processing TweetNormalizer, total=   0.9s\n",
            "[Pipeline] .. (step 2 of 7) Processing FeatureExtractor, total=   4.2s\n",
            "[Pipeline] .. (step 3 of 7) Processing BigramVectorizer, total=   5.3s\n",
            "[Pipeline]  (step 4 of 7) Processing MatrixToArrayConverter, total=   0.0s\n",
            "[Pipeline] ..... (step 5 of 7) Processing OneHotEncoder, total=   0.4s\n",
            "[Pipeline] ..... (step 6 of 7) Processing MatrixUnifier, total=   0.0s\n"
          ]
        },
        {
          "output_type": "stream",
          "name": "stderr",
          "text": [
            "/usr/local/lib/python3.7/dist-packages/sklearn/utils/validation.py:598: FutureWarning: np.matrix usage is deprecated in 1.0 and will raise a TypeError in 1.2. Please convert to a numpy array with np.asarray. For more information see: https://numpy.org/doc/stable/reference/generated/numpy.matrix.html\n",
            "  FutureWarning,\n"
          ]
        },
        {
          "output_type": "stream",
          "name": "stdout",
          "text": [
            "[Pipeline] ............... (step 7 of 7) Processing CLF, total=  49.4s\n"
          ]
        },
        {
          "output_type": "stream",
          "name": "stderr",
          "text": [
            "/usr/local/lib/python3.7/dist-packages/sklearn/utils/validation.py:598: FutureWarning: np.matrix usage is deprecated in 1.0 and will raise a TypeError in 1.2. Please convert to a numpy array with np.asarray. For more information see: https://numpy.org/doc/stable/reference/generated/numpy.matrix.html\n",
            "  FutureWarning,\n"
          ]
        },
        {
          "output_type": "stream",
          "name": "stdout",
          "text": [
            "[Pipeline] ... (step 1 of 7) Processing TweetNormalizer, total=   1.1s\n",
            "[Pipeline] .. (step 2 of 7) Processing FeatureExtractor, total=   5.0s\n",
            "[Pipeline] .. (step 3 of 7) Processing BigramVectorizer, total=   6.3s\n",
            "[Pipeline]  (step 4 of 7) Processing MatrixToArrayConverter, total=   0.0s\n",
            "[Pipeline] ..... (step 5 of 7) Processing OneHotEncoder, total=   0.4s\n",
            "[Pipeline] ..... (step 6 of 7) Processing MatrixUnifier, total=   0.0s\n"
          ]
        },
        {
          "output_type": "stream",
          "name": "stderr",
          "text": [
            "/usr/local/lib/python3.7/dist-packages/sklearn/utils/validation.py:598: FutureWarning: np.matrix usage is deprecated in 1.0 and will raise a TypeError in 1.2. Please convert to a numpy array with np.asarray. For more information see: https://numpy.org/doc/stable/reference/generated/numpy.matrix.html\n",
            "  FutureWarning,\n"
          ]
        },
        {
          "output_type": "stream",
          "name": "stdout",
          "text": [
            "[Pipeline] ............... (step 7 of 7) Processing CLF, total=  47.3s\n"
          ]
        },
        {
          "output_type": "stream",
          "name": "stderr",
          "text": [
            "/usr/local/lib/python3.7/dist-packages/sklearn/utils/validation.py:598: FutureWarning: np.matrix usage is deprecated in 1.0 and will raise a TypeError in 1.2. Please convert to a numpy array with np.asarray. For more information see: https://numpy.org/doc/stable/reference/generated/numpy.matrix.html\n",
            "  FutureWarning,\n"
          ]
        },
        {
          "output_type": "stream",
          "name": "stdout",
          "text": [
            "[Pipeline] ... (step 1 of 7) Processing TweetNormalizer, total=   1.1s\n",
            "[Pipeline] .. (step 2 of 7) Processing FeatureExtractor, total=   5.0s\n",
            "[Pipeline] .. (step 3 of 7) Processing BigramVectorizer, total=   6.2s\n",
            "[Pipeline]  (step 4 of 7) Processing MatrixToArrayConverter, total=   0.0s\n",
            "[Pipeline] ..... (step 5 of 7) Processing OneHotEncoder, total=   0.4s\n",
            "[Pipeline] ..... (step 6 of 7) Processing MatrixUnifier, total=   0.0s\n"
          ]
        },
        {
          "output_type": "stream",
          "name": "stderr",
          "text": [
            "/usr/local/lib/python3.7/dist-packages/sklearn/utils/validation.py:598: FutureWarning: np.matrix usage is deprecated in 1.0 and will raise a TypeError in 1.2. Please convert to a numpy array with np.asarray. For more information see: https://numpy.org/doc/stable/reference/generated/numpy.matrix.html\n",
            "  FutureWarning,\n"
          ]
        },
        {
          "output_type": "stream",
          "name": "stdout",
          "text": [
            "[Pipeline] ............... (step 7 of 7) Processing CLF, total=  50.9s\n"
          ]
        },
        {
          "output_type": "stream",
          "name": "stderr",
          "text": [
            "/usr/local/lib/python3.7/dist-packages/sklearn/utils/validation.py:598: FutureWarning: np.matrix usage is deprecated in 1.0 and will raise a TypeError in 1.2. Please convert to a numpy array with np.asarray. For more information see: https://numpy.org/doc/stable/reference/generated/numpy.matrix.html\n",
            "  FutureWarning,\n"
          ]
        },
        {
          "output_type": "stream",
          "name": "stdout",
          "text": [
            "[Pipeline] ... (step 1 of 7) Processing TweetNormalizer, total=   1.1s\n",
            "[Pipeline] .. (step 2 of 7) Processing FeatureExtractor, total=   5.0s\n",
            "[Pipeline] .. (step 3 of 7) Processing BigramVectorizer, total=   6.3s\n",
            "[Pipeline]  (step 4 of 7) Processing MatrixToArrayConverter, total=   0.0s\n",
            "[Pipeline] ..... (step 5 of 7) Processing OneHotEncoder, total=   0.4s\n",
            "[Pipeline] ..... (step 6 of 7) Processing MatrixUnifier, total=   0.0s\n"
          ]
        },
        {
          "output_type": "stream",
          "name": "stderr",
          "text": [
            "/usr/local/lib/python3.7/dist-packages/sklearn/utils/validation.py:598: FutureWarning: np.matrix usage is deprecated in 1.0 and will raise a TypeError in 1.2. Please convert to a numpy array with np.asarray. For more information see: https://numpy.org/doc/stable/reference/generated/numpy.matrix.html\n",
            "  FutureWarning,\n"
          ]
        },
        {
          "output_type": "stream",
          "name": "stdout",
          "text": [
            "[Pipeline] ............... (step 7 of 7) Processing CLF, total=  20.0s\n"
          ]
        },
        {
          "output_type": "stream",
          "name": "stderr",
          "text": [
            "/usr/local/lib/python3.7/dist-packages/sklearn/utils/validation.py:598: FutureWarning: np.matrix usage is deprecated in 1.0 and will raise a TypeError in 1.2. Please convert to a numpy array with np.asarray. For more information see: https://numpy.org/doc/stable/reference/generated/numpy.matrix.html\n",
            "  FutureWarning,\n"
          ]
        },
        {
          "output_type": "stream",
          "name": "stdout",
          "text": [
            "[Pipeline] ... (step 1 of 7) Processing TweetNormalizer, total=   1.1s\n",
            "[Pipeline] .. (step 2 of 7) Processing FeatureExtractor, total=   5.0s\n",
            "[Pipeline] .. (step 3 of 7) Processing BigramVectorizer, total=   6.3s\n",
            "[Pipeline]  (step 4 of 7) Processing MatrixToArrayConverter, total=   0.0s\n",
            "[Pipeline] ..... (step 5 of 7) Processing OneHotEncoder, total=   0.4s\n",
            "[Pipeline] ..... (step 6 of 7) Processing MatrixUnifier, total=   0.0s\n"
          ]
        },
        {
          "output_type": "stream",
          "name": "stderr",
          "text": [
            "/usr/local/lib/python3.7/dist-packages/sklearn/utils/validation.py:598: FutureWarning: np.matrix usage is deprecated in 1.0 and will raise a TypeError in 1.2. Please convert to a numpy array with np.asarray. For more information see: https://numpy.org/doc/stable/reference/generated/numpy.matrix.html\n",
            "  FutureWarning,\n"
          ]
        },
        {
          "output_type": "stream",
          "name": "stdout",
          "text": [
            "[Pipeline] ............... (step 7 of 7) Processing CLF, total=  20.7s\n"
          ]
        },
        {
          "output_type": "stream",
          "name": "stderr",
          "text": [
            "/usr/local/lib/python3.7/dist-packages/sklearn/utils/validation.py:598: FutureWarning: np.matrix usage is deprecated in 1.0 and will raise a TypeError in 1.2. Please convert to a numpy array with np.asarray. For more information see: https://numpy.org/doc/stable/reference/generated/numpy.matrix.html\n",
            "  FutureWarning,\n"
          ]
        },
        {
          "output_type": "stream",
          "name": "stdout",
          "text": [
            "[Pipeline] ... (step 1 of 7) Processing TweetNormalizer, total=   1.1s\n",
            "[Pipeline] .. (step 2 of 7) Processing FeatureExtractor, total=   5.0s\n",
            "[Pipeline] .. (step 3 of 7) Processing BigramVectorizer, total=   6.3s\n",
            "[Pipeline]  (step 4 of 7) Processing MatrixToArrayConverter, total=   0.0s\n",
            "[Pipeline] ..... (step 5 of 7) Processing OneHotEncoder, total=   0.4s\n",
            "[Pipeline] ..... (step 6 of 7) Processing MatrixUnifier, total=   0.0s\n"
          ]
        },
        {
          "output_type": "stream",
          "name": "stderr",
          "text": [
            "/usr/local/lib/python3.7/dist-packages/sklearn/utils/validation.py:598: FutureWarning: np.matrix usage is deprecated in 1.0 and will raise a TypeError in 1.2. Please convert to a numpy array with np.asarray. For more information see: https://numpy.org/doc/stable/reference/generated/numpy.matrix.html\n",
            "  FutureWarning,\n"
          ]
        },
        {
          "output_type": "stream",
          "name": "stdout",
          "text": [
            "[Pipeline] ............... (step 7 of 7) Processing CLF, total=  20.0s\n"
          ]
        },
        {
          "output_type": "stream",
          "name": "stderr",
          "text": [
            "/usr/local/lib/python3.7/dist-packages/sklearn/utils/validation.py:598: FutureWarning: np.matrix usage is deprecated in 1.0 and will raise a TypeError in 1.2. Please convert to a numpy array with np.asarray. For more information see: https://numpy.org/doc/stable/reference/generated/numpy.matrix.html\n",
            "  FutureWarning,\n"
          ]
        },
        {
          "output_type": "stream",
          "name": "stdout",
          "text": [
            "[Pipeline] ... (step 1 of 7) Processing TweetNormalizer, total=   1.1s\n",
            "[Pipeline] .. (step 2 of 7) Processing FeatureExtractor, total=   5.0s\n",
            "[Pipeline] .. (step 3 of 7) Processing BigramVectorizer, total=   6.2s\n",
            "[Pipeline]  (step 4 of 7) Processing MatrixToArrayConverter, total=   0.0s\n",
            "[Pipeline] ..... (step 5 of 7) Processing OneHotEncoder, total=   0.4s\n",
            "[Pipeline] ..... (step 6 of 7) Processing MatrixUnifier, total=   0.0s\n"
          ]
        },
        {
          "output_type": "stream",
          "name": "stderr",
          "text": [
            "/usr/local/lib/python3.7/dist-packages/sklearn/utils/validation.py:598: FutureWarning: np.matrix usage is deprecated in 1.0 and will raise a TypeError in 1.2. Please convert to a numpy array with np.asarray. For more information see: https://numpy.org/doc/stable/reference/generated/numpy.matrix.html\n",
            "  FutureWarning,\n"
          ]
        },
        {
          "output_type": "stream",
          "name": "stdout",
          "text": [
            "[Pipeline] ............... (step 7 of 7) Processing CLF, total=  19.9s\n"
          ]
        },
        {
          "output_type": "stream",
          "name": "stderr",
          "text": [
            "/usr/local/lib/python3.7/dist-packages/sklearn/utils/validation.py:598: FutureWarning: np.matrix usage is deprecated in 1.0 and will raise a TypeError in 1.2. Please convert to a numpy array with np.asarray. For more information see: https://numpy.org/doc/stable/reference/generated/numpy.matrix.html\n",
            "  FutureWarning,\n"
          ]
        },
        {
          "output_type": "stream",
          "name": "stdout",
          "text": [
            "[Pipeline] ... (step 1 of 7) Processing TweetNormalizer, total=   1.1s\n",
            "[Pipeline] .. (step 2 of 7) Processing FeatureExtractor, total=   5.0s\n",
            "[Pipeline] .. (step 3 of 7) Processing BigramVectorizer, total=   6.3s\n",
            "[Pipeline]  (step 4 of 7) Processing MatrixToArrayConverter, total=   0.0s\n",
            "[Pipeline] ..... (step 5 of 7) Processing OneHotEncoder, total=   0.4s\n",
            "[Pipeline] ..... (step 6 of 7) Processing MatrixUnifier, total=   0.0s\n"
          ]
        },
        {
          "output_type": "stream",
          "name": "stderr",
          "text": [
            "/usr/local/lib/python3.7/dist-packages/sklearn/utils/validation.py:598: FutureWarning: np.matrix usage is deprecated in 1.0 and will raise a TypeError in 1.2. Please convert to a numpy array with np.asarray. For more information see: https://numpy.org/doc/stable/reference/generated/numpy.matrix.html\n",
            "  FutureWarning,\n"
          ]
        },
        {
          "output_type": "stream",
          "name": "stdout",
          "text": [
            "[Pipeline] ............... (step 7 of 7) Processing CLF, total=  20.1s\n"
          ]
        },
        {
          "output_type": "stream",
          "name": "stderr",
          "text": [
            "/usr/local/lib/python3.7/dist-packages/sklearn/utils/validation.py:598: FutureWarning: np.matrix usage is deprecated in 1.0 and will raise a TypeError in 1.2. Please convert to a numpy array with np.asarray. For more information see: https://numpy.org/doc/stable/reference/generated/numpy.matrix.html\n",
            "  FutureWarning,\n"
          ]
        },
        {
          "output_type": "stream",
          "name": "stdout",
          "text": [
            "[Pipeline] ... (step 1 of 7) Processing TweetNormalizer, total=   1.1s\n",
            "[Pipeline] .. (step 2 of 7) Processing FeatureExtractor, total=   5.0s\n",
            "[Pipeline] .. (step 3 of 7) Processing BigramVectorizer, total=   6.2s\n",
            "[Pipeline]  (step 4 of 7) Processing MatrixToArrayConverter, total=   0.0s\n",
            "[Pipeline] ..... (step 5 of 7) Processing OneHotEncoder, total=   0.4s\n",
            "[Pipeline] ..... (step 6 of 7) Processing MatrixUnifier, total=   0.0s\n"
          ]
        },
        {
          "output_type": "stream",
          "name": "stderr",
          "text": [
            "/usr/local/lib/python3.7/dist-packages/sklearn/utils/validation.py:598: FutureWarning: np.matrix usage is deprecated in 1.0 and will raise a TypeError in 1.2. Please convert to a numpy array with np.asarray. For more information see: https://numpy.org/doc/stable/reference/generated/numpy.matrix.html\n",
            "  FutureWarning,\n"
          ]
        },
        {
          "output_type": "stream",
          "name": "stdout",
          "text": [
            "[Pipeline] ............... (step 7 of 7) Processing CLF, total=  20.5s\n"
          ]
        },
        {
          "output_type": "stream",
          "name": "stderr",
          "text": [
            "/usr/local/lib/python3.7/dist-packages/sklearn/utils/validation.py:598: FutureWarning: np.matrix usage is deprecated in 1.0 and will raise a TypeError in 1.2. Please convert to a numpy array with np.asarray. For more information see: https://numpy.org/doc/stable/reference/generated/numpy.matrix.html\n",
            "  FutureWarning,\n"
          ]
        },
        {
          "output_type": "stream",
          "name": "stdout",
          "text": [
            "[Pipeline] ... (step 1 of 7) Processing TweetNormalizer, total=   1.1s\n",
            "[Pipeline] .. (step 2 of 7) Processing FeatureExtractor, total=   4.9s\n",
            "[Pipeline] .. (step 3 of 7) Processing BigramVectorizer, total=   6.3s\n",
            "[Pipeline]  (step 4 of 7) Processing MatrixToArrayConverter, total=   0.0s\n",
            "[Pipeline] ..... (step 5 of 7) Processing OneHotEncoder, total=   0.4s\n",
            "[Pipeline] ..... (step 6 of 7) Processing MatrixUnifier, total=   0.0s\n"
          ]
        },
        {
          "output_type": "stream",
          "name": "stderr",
          "text": [
            "/usr/local/lib/python3.7/dist-packages/sklearn/utils/validation.py:598: FutureWarning: np.matrix usage is deprecated in 1.0 and will raise a TypeError in 1.2. Please convert to a numpy array with np.asarray. For more information see: https://numpy.org/doc/stable/reference/generated/numpy.matrix.html\n",
            "  FutureWarning,\n"
          ]
        },
        {
          "output_type": "stream",
          "name": "stdout",
          "text": [
            "[Pipeline] ............... (step 7 of 7) Processing CLF, total=  20.6s\n"
          ]
        },
        {
          "output_type": "stream",
          "name": "stderr",
          "text": [
            "/usr/local/lib/python3.7/dist-packages/sklearn/utils/validation.py:598: FutureWarning: np.matrix usage is deprecated in 1.0 and will raise a TypeError in 1.2. Please convert to a numpy array with np.asarray. For more information see: https://numpy.org/doc/stable/reference/generated/numpy.matrix.html\n",
            "  FutureWarning,\n"
          ]
        },
        {
          "output_type": "stream",
          "name": "stdout",
          "text": [
            "[Pipeline] ... (step 1 of 7) Processing TweetNormalizer, total=   0.9s\n",
            "[Pipeline] .. (step 2 of 7) Processing FeatureExtractor, total=   4.1s\n",
            "[Pipeline] .. (step 3 of 7) Processing BigramVectorizer, total=   5.4s\n",
            "[Pipeline]  (step 4 of 7) Processing MatrixToArrayConverter, total=   0.0s\n",
            "[Pipeline] ..... (step 5 of 7) Processing OneHotEncoder, total=   0.4s\n",
            "[Pipeline] ..... (step 6 of 7) Processing MatrixUnifier, total=   0.0s\n"
          ]
        },
        {
          "output_type": "stream",
          "name": "stderr",
          "text": [
            "/usr/local/lib/python3.7/dist-packages/sklearn/utils/validation.py:598: FutureWarning: np.matrix usage is deprecated in 1.0 and will raise a TypeError in 1.2. Please convert to a numpy array with np.asarray. For more information see: https://numpy.org/doc/stable/reference/generated/numpy.matrix.html\n",
            "  FutureWarning,\n"
          ]
        },
        {
          "output_type": "stream",
          "name": "stdout",
          "text": [
            "[Pipeline] ............... (step 7 of 7) Processing CLF, total=  20.5s\n"
          ]
        },
        {
          "output_type": "stream",
          "name": "stderr",
          "text": [
            "/usr/local/lib/python3.7/dist-packages/sklearn/utils/validation.py:598: FutureWarning: np.matrix usage is deprecated in 1.0 and will raise a TypeError in 1.2. Please convert to a numpy array with np.asarray. For more information see: https://numpy.org/doc/stable/reference/generated/numpy.matrix.html\n",
            "  FutureWarning,\n"
          ]
        },
        {
          "output_type": "stream",
          "name": "stdout",
          "text": [
            "[Pipeline] ... (step 1 of 7) Processing TweetNormalizer, total=   1.1s\n",
            "[Pipeline] .. (step 2 of 7) Processing FeatureExtractor, total=   4.9s\n",
            "[Pipeline] .. (step 3 of 7) Processing BigramVectorizer, total=   6.3s\n",
            "[Pipeline]  (step 4 of 7) Processing MatrixToArrayConverter, total=   0.0s\n",
            "[Pipeline] ..... (step 5 of 7) Processing OneHotEncoder, total=   0.4s\n",
            "[Pipeline] ..... (step 6 of 7) Processing MatrixUnifier, total=   0.0s\n"
          ]
        },
        {
          "output_type": "stream",
          "name": "stderr",
          "text": [
            "/usr/local/lib/python3.7/dist-packages/sklearn/utils/validation.py:598: FutureWarning: np.matrix usage is deprecated in 1.0 and will raise a TypeError in 1.2. Please convert to a numpy array with np.asarray. For more information see: https://numpy.org/doc/stable/reference/generated/numpy.matrix.html\n",
            "  FutureWarning,\n"
          ]
        },
        {
          "output_type": "stream",
          "name": "stdout",
          "text": [
            "[Pipeline] ............... (step 7 of 7) Processing CLF, total=  21.1s\n"
          ]
        },
        {
          "output_type": "stream",
          "name": "stderr",
          "text": [
            "/usr/local/lib/python3.7/dist-packages/sklearn/utils/validation.py:598: FutureWarning: np.matrix usage is deprecated in 1.0 and will raise a TypeError in 1.2. Please convert to a numpy array with np.asarray. For more information see: https://numpy.org/doc/stable/reference/generated/numpy.matrix.html\n",
            "  FutureWarning,\n"
          ]
        },
        {
          "output_type": "stream",
          "name": "stdout",
          "text": [
            "[Pipeline] ... (step 1 of 7) Processing TweetNormalizer, total=   1.1s\n",
            "[Pipeline] .. (step 2 of 7) Processing FeatureExtractor, total=   5.0s\n",
            "[Pipeline] .. (step 3 of 7) Processing BigramVectorizer, total=   6.2s\n",
            "[Pipeline]  (step 4 of 7) Processing MatrixToArrayConverter, total=   0.0s\n",
            "[Pipeline] ..... (step 5 of 7) Processing OneHotEncoder, total=   0.4s\n",
            "[Pipeline] ..... (step 6 of 7) Processing MatrixUnifier, total=   0.0s\n"
          ]
        },
        {
          "output_type": "stream",
          "name": "stderr",
          "text": [
            "/usr/local/lib/python3.7/dist-packages/sklearn/utils/validation.py:598: FutureWarning: np.matrix usage is deprecated in 1.0 and will raise a TypeError in 1.2. Please convert to a numpy array with np.asarray. For more information see: https://numpy.org/doc/stable/reference/generated/numpy.matrix.html\n",
            "  FutureWarning,\n"
          ]
        },
        {
          "output_type": "stream",
          "name": "stdout",
          "text": [
            "[Pipeline] ............... (step 7 of 7) Processing CLF, total=  20.7s\n"
          ]
        },
        {
          "output_type": "stream",
          "name": "stderr",
          "text": [
            "/usr/local/lib/python3.7/dist-packages/sklearn/utils/validation.py:598: FutureWarning: np.matrix usage is deprecated in 1.0 and will raise a TypeError in 1.2. Please convert to a numpy array with np.asarray. For more information see: https://numpy.org/doc/stable/reference/generated/numpy.matrix.html\n",
            "  FutureWarning,\n"
          ]
        },
        {
          "output_type": "stream",
          "name": "stdout",
          "text": [
            "[Pipeline] ... (step 1 of 7) Processing TweetNormalizer, total=   1.1s\n",
            "[Pipeline] .. (step 2 of 7) Processing FeatureExtractor, total=   5.0s\n",
            "[Pipeline] .. (step 3 of 7) Processing BigramVectorizer, total=   6.4s\n",
            "[Pipeline]  (step 4 of 7) Processing MatrixToArrayConverter, total=   0.0s\n",
            "[Pipeline] ..... (step 5 of 7) Processing OneHotEncoder, total=   0.4s\n",
            "[Pipeline] ..... (step 6 of 7) Processing MatrixUnifier, total=   0.0s\n"
          ]
        },
        {
          "output_type": "stream",
          "name": "stderr",
          "text": [
            "/usr/local/lib/python3.7/dist-packages/sklearn/utils/validation.py:598: FutureWarning: np.matrix usage is deprecated in 1.0 and will raise a TypeError in 1.2. Please convert to a numpy array with np.asarray. For more information see: https://numpy.org/doc/stable/reference/generated/numpy.matrix.html\n",
            "  FutureWarning,\n"
          ]
        },
        {
          "output_type": "stream",
          "name": "stdout",
          "text": [
            "[Pipeline] ............... (step 7 of 7) Processing CLF, total=  49.8s\n"
          ]
        },
        {
          "output_type": "stream",
          "name": "stderr",
          "text": [
            "/usr/local/lib/python3.7/dist-packages/sklearn/utils/validation.py:598: FutureWarning: np.matrix usage is deprecated in 1.0 and will raise a TypeError in 1.2. Please convert to a numpy array with np.asarray. For more information see: https://numpy.org/doc/stable/reference/generated/numpy.matrix.html\n",
            "  FutureWarning,\n"
          ]
        },
        {
          "output_type": "stream",
          "name": "stdout",
          "text": [
            "[Pipeline] ... (step 1 of 7) Processing TweetNormalizer, total=   1.1s\n",
            "[Pipeline] .. (step 2 of 7) Processing FeatureExtractor, total=   5.0s\n",
            "[Pipeline] .. (step 3 of 7) Processing BigramVectorizer, total=   6.3s\n",
            "[Pipeline]  (step 4 of 7) Processing MatrixToArrayConverter, total=   0.0s\n",
            "[Pipeline] ..... (step 5 of 7) Processing OneHotEncoder, total=   0.4s\n",
            "[Pipeline] ..... (step 6 of 7) Processing MatrixUnifier, total=   0.0s\n"
          ]
        },
        {
          "output_type": "stream",
          "name": "stderr",
          "text": [
            "/usr/local/lib/python3.7/dist-packages/sklearn/utils/validation.py:598: FutureWarning: np.matrix usage is deprecated in 1.0 and will raise a TypeError in 1.2. Please convert to a numpy array with np.asarray. For more information see: https://numpy.org/doc/stable/reference/generated/numpy.matrix.html\n",
            "  FutureWarning,\n"
          ]
        },
        {
          "output_type": "stream",
          "name": "stdout",
          "text": [
            "[Pipeline] ............... (step 7 of 7) Processing CLF, total=  50.4s\n"
          ]
        },
        {
          "output_type": "stream",
          "name": "stderr",
          "text": [
            "/usr/local/lib/python3.7/dist-packages/sklearn/utils/validation.py:598: FutureWarning: np.matrix usage is deprecated in 1.0 and will raise a TypeError in 1.2. Please convert to a numpy array with np.asarray. For more information see: https://numpy.org/doc/stable/reference/generated/numpy.matrix.html\n",
            "  FutureWarning,\n"
          ]
        },
        {
          "output_type": "stream",
          "name": "stdout",
          "text": [
            "[Pipeline] ... (step 1 of 7) Processing TweetNormalizer, total=   1.1s\n",
            "[Pipeline] .. (step 2 of 7) Processing FeatureExtractor, total=   5.1s\n",
            "[Pipeline] .. (step 3 of 7) Processing BigramVectorizer, total=   6.3s\n",
            "[Pipeline]  (step 4 of 7) Processing MatrixToArrayConverter, total=   0.0s\n",
            "[Pipeline] ..... (step 5 of 7) Processing OneHotEncoder, total=   0.4s\n",
            "[Pipeline] ..... (step 6 of 7) Processing MatrixUnifier, total=   0.0s\n"
          ]
        },
        {
          "output_type": "stream",
          "name": "stderr",
          "text": [
            "/usr/local/lib/python3.7/dist-packages/sklearn/utils/validation.py:598: FutureWarning: np.matrix usage is deprecated in 1.0 and will raise a TypeError in 1.2. Please convert to a numpy array with np.asarray. For more information see: https://numpy.org/doc/stable/reference/generated/numpy.matrix.html\n",
            "  FutureWarning,\n"
          ]
        },
        {
          "output_type": "stream",
          "name": "stdout",
          "text": [
            "[Pipeline] ............... (step 7 of 7) Processing CLF, total=  47.3s\n"
          ]
        },
        {
          "output_type": "stream",
          "name": "stderr",
          "text": [
            "/usr/local/lib/python3.7/dist-packages/sklearn/utils/validation.py:598: FutureWarning: np.matrix usage is deprecated in 1.0 and will raise a TypeError in 1.2. Please convert to a numpy array with np.asarray. For more information see: https://numpy.org/doc/stable/reference/generated/numpy.matrix.html\n",
            "  FutureWarning,\n"
          ]
        },
        {
          "output_type": "stream",
          "name": "stdout",
          "text": [
            "[Pipeline] ... (step 1 of 7) Processing TweetNormalizer, total=   1.1s\n",
            "[Pipeline] .. (step 2 of 7) Processing FeatureExtractor, total=   5.0s\n",
            "[Pipeline] .. (step 3 of 7) Processing BigramVectorizer, total=   6.2s\n",
            "[Pipeline]  (step 4 of 7) Processing MatrixToArrayConverter, total=   0.0s\n",
            "[Pipeline] ..... (step 5 of 7) Processing OneHotEncoder, total=   0.4s\n",
            "[Pipeline] ..... (step 6 of 7) Processing MatrixUnifier, total=   0.0s\n"
          ]
        },
        {
          "output_type": "stream",
          "name": "stderr",
          "text": [
            "/usr/local/lib/python3.7/dist-packages/sklearn/utils/validation.py:598: FutureWarning: np.matrix usage is deprecated in 1.0 and will raise a TypeError in 1.2. Please convert to a numpy array with np.asarray. For more information see: https://numpy.org/doc/stable/reference/generated/numpy.matrix.html\n",
            "  FutureWarning,\n"
          ]
        },
        {
          "output_type": "stream",
          "name": "stdout",
          "text": [
            "[Pipeline] ............... (step 7 of 7) Processing CLF, total=  49.0s\n"
          ]
        },
        {
          "output_type": "stream",
          "name": "stderr",
          "text": [
            "/usr/local/lib/python3.7/dist-packages/sklearn/utils/validation.py:598: FutureWarning: np.matrix usage is deprecated in 1.0 and will raise a TypeError in 1.2. Please convert to a numpy array with np.asarray. For more information see: https://numpy.org/doc/stable/reference/generated/numpy.matrix.html\n",
            "  FutureWarning,\n"
          ]
        },
        {
          "output_type": "stream",
          "name": "stdout",
          "text": [
            "[Pipeline] ... (step 1 of 7) Processing TweetNormalizer, total=   1.1s\n",
            "[Pipeline] .. (step 2 of 7) Processing FeatureExtractor, total=   5.0s\n",
            "[Pipeline] .. (step 3 of 7) Processing BigramVectorizer, total=   6.3s\n",
            "[Pipeline]  (step 4 of 7) Processing MatrixToArrayConverter, total=   0.0s\n",
            "[Pipeline] ..... (step 5 of 7) Processing OneHotEncoder, total=   0.4s\n",
            "[Pipeline] ..... (step 6 of 7) Processing MatrixUnifier, total=   0.0s\n"
          ]
        },
        {
          "output_type": "stream",
          "name": "stderr",
          "text": [
            "/usr/local/lib/python3.7/dist-packages/sklearn/utils/validation.py:598: FutureWarning: np.matrix usage is deprecated in 1.0 and will raise a TypeError in 1.2. Please convert to a numpy array with np.asarray. For more information see: https://numpy.org/doc/stable/reference/generated/numpy.matrix.html\n",
            "  FutureWarning,\n"
          ]
        },
        {
          "output_type": "stream",
          "name": "stdout",
          "text": [
            "[Pipeline] ............... (step 7 of 7) Processing CLF, total=  49.1s\n"
          ]
        },
        {
          "output_type": "stream",
          "name": "stderr",
          "text": [
            "/usr/local/lib/python3.7/dist-packages/sklearn/utils/validation.py:598: FutureWarning: np.matrix usage is deprecated in 1.0 and will raise a TypeError in 1.2. Please convert to a numpy array with np.asarray. For more information see: https://numpy.org/doc/stable/reference/generated/numpy.matrix.html\n",
            "  FutureWarning,\n"
          ]
        },
        {
          "output_type": "stream",
          "name": "stdout",
          "text": [
            "[Pipeline] ... (step 1 of 7) Processing TweetNormalizer, total=   1.1s\n",
            "[Pipeline] .. (step 2 of 7) Processing FeatureExtractor, total=   5.0s\n",
            "[Pipeline] .. (step 3 of 7) Processing BigramVectorizer, total=   6.2s\n",
            "[Pipeline]  (step 4 of 7) Processing MatrixToArrayConverter, total=   0.0s\n",
            "[Pipeline] ..... (step 5 of 7) Processing OneHotEncoder, total=   0.4s\n",
            "[Pipeline] ..... (step 6 of 7) Processing MatrixUnifier, total=   0.0s\n"
          ]
        },
        {
          "output_type": "stream",
          "name": "stderr",
          "text": [
            "/usr/local/lib/python3.7/dist-packages/sklearn/utils/validation.py:598: FutureWarning: np.matrix usage is deprecated in 1.0 and will raise a TypeError in 1.2. Please convert to a numpy array with np.asarray. For more information see: https://numpy.org/doc/stable/reference/generated/numpy.matrix.html\n",
            "  FutureWarning,\n"
          ]
        },
        {
          "output_type": "stream",
          "name": "stdout",
          "text": [
            "[Pipeline] ............... (step 7 of 7) Processing CLF, total=  50.0s\n"
          ]
        },
        {
          "output_type": "stream",
          "name": "stderr",
          "text": [
            "/usr/local/lib/python3.7/dist-packages/sklearn/utils/validation.py:598: FutureWarning: np.matrix usage is deprecated in 1.0 and will raise a TypeError in 1.2. Please convert to a numpy array with np.asarray. For more information see: https://numpy.org/doc/stable/reference/generated/numpy.matrix.html\n",
            "  FutureWarning,\n"
          ]
        },
        {
          "output_type": "stream",
          "name": "stdout",
          "text": [
            "[Pipeline] ... (step 1 of 7) Processing TweetNormalizer, total=   1.1s\n",
            "[Pipeline] .. (step 2 of 7) Processing FeatureExtractor, total=   5.0s\n",
            "[Pipeline] .. (step 3 of 7) Processing BigramVectorizer, total=   6.3s\n",
            "[Pipeline]  (step 4 of 7) Processing MatrixToArrayConverter, total=   0.0s\n",
            "[Pipeline] ..... (step 5 of 7) Processing OneHotEncoder, total=   0.4s\n",
            "[Pipeline] ..... (step 6 of 7) Processing MatrixUnifier, total=   0.0s\n"
          ]
        },
        {
          "output_type": "stream",
          "name": "stderr",
          "text": [
            "/usr/local/lib/python3.7/dist-packages/sklearn/utils/validation.py:598: FutureWarning: np.matrix usage is deprecated in 1.0 and will raise a TypeError in 1.2. Please convert to a numpy array with np.asarray. For more information see: https://numpy.org/doc/stable/reference/generated/numpy.matrix.html\n",
            "  FutureWarning,\n"
          ]
        },
        {
          "output_type": "stream",
          "name": "stdout",
          "text": [
            "[Pipeline] ............... (step 7 of 7) Processing CLF, total=  49.6s\n"
          ]
        },
        {
          "output_type": "stream",
          "name": "stderr",
          "text": [
            "/usr/local/lib/python3.7/dist-packages/sklearn/utils/validation.py:598: FutureWarning: np.matrix usage is deprecated in 1.0 and will raise a TypeError in 1.2. Please convert to a numpy array with np.asarray. For more information see: https://numpy.org/doc/stable/reference/generated/numpy.matrix.html\n",
            "  FutureWarning,\n"
          ]
        },
        {
          "output_type": "stream",
          "name": "stdout",
          "text": [
            "[Pipeline] ... (step 1 of 7) Processing TweetNormalizer, total=   0.9s\n",
            "[Pipeline] .. (step 2 of 7) Processing FeatureExtractor, total=   4.2s\n",
            "[Pipeline] .. (step 3 of 7) Processing BigramVectorizer, total=   5.3s\n",
            "[Pipeline]  (step 4 of 7) Processing MatrixToArrayConverter, total=   0.0s\n",
            "[Pipeline] ..... (step 5 of 7) Processing OneHotEncoder, total=   0.4s\n",
            "[Pipeline] ..... (step 6 of 7) Processing MatrixUnifier, total=   0.0s\n"
          ]
        },
        {
          "output_type": "stream",
          "name": "stderr",
          "text": [
            "/usr/local/lib/python3.7/dist-packages/sklearn/utils/validation.py:598: FutureWarning: np.matrix usage is deprecated in 1.0 and will raise a TypeError in 1.2. Please convert to a numpy array with np.asarray. For more information see: https://numpy.org/doc/stable/reference/generated/numpy.matrix.html\n",
            "  FutureWarning,\n"
          ]
        },
        {
          "output_type": "stream",
          "name": "stdout",
          "text": [
            "[Pipeline] ............... (step 7 of 7) Processing CLF, total=  49.0s\n"
          ]
        },
        {
          "output_type": "stream",
          "name": "stderr",
          "text": [
            "/usr/local/lib/python3.7/dist-packages/sklearn/utils/validation.py:598: FutureWarning: np.matrix usage is deprecated in 1.0 and will raise a TypeError in 1.2. Please convert to a numpy array with np.asarray. For more information see: https://numpy.org/doc/stable/reference/generated/numpy.matrix.html\n",
            "  FutureWarning,\n"
          ]
        },
        {
          "output_type": "stream",
          "name": "stdout",
          "text": [
            "[Pipeline] ... (step 1 of 7) Processing TweetNormalizer, total=   1.1s\n",
            "[Pipeline] .. (step 2 of 7) Processing FeatureExtractor, total=   5.0s\n",
            "[Pipeline] .. (step 3 of 7) Processing BigramVectorizer, total=   6.3s\n",
            "[Pipeline]  (step 4 of 7) Processing MatrixToArrayConverter, total=   0.0s\n",
            "[Pipeline] ..... (step 5 of 7) Processing OneHotEncoder, total=   0.4s\n",
            "[Pipeline] ..... (step 6 of 7) Processing MatrixUnifier, total=   0.0s\n"
          ]
        },
        {
          "output_type": "stream",
          "name": "stderr",
          "text": [
            "/usr/local/lib/python3.7/dist-packages/sklearn/utils/validation.py:598: FutureWarning: np.matrix usage is deprecated in 1.0 and will raise a TypeError in 1.2. Please convert to a numpy array with np.asarray. For more information see: https://numpy.org/doc/stable/reference/generated/numpy.matrix.html\n",
            "  FutureWarning,\n"
          ]
        },
        {
          "output_type": "stream",
          "name": "stdout",
          "text": [
            "[Pipeline] ............... (step 7 of 7) Processing CLF, total=  51.2s\n"
          ]
        },
        {
          "output_type": "stream",
          "name": "stderr",
          "text": [
            "/usr/local/lib/python3.7/dist-packages/sklearn/utils/validation.py:598: FutureWarning: np.matrix usage is deprecated in 1.0 and will raise a TypeError in 1.2. Please convert to a numpy array with np.asarray. For more information see: https://numpy.org/doc/stable/reference/generated/numpy.matrix.html\n",
            "  FutureWarning,\n"
          ]
        },
        {
          "output_type": "stream",
          "name": "stdout",
          "text": [
            "[Pipeline] ... (step 1 of 7) Processing TweetNormalizer, total=   1.1s\n",
            "[Pipeline] .. (step 2 of 7) Processing FeatureExtractor, total=   4.9s\n",
            "[Pipeline] .. (step 3 of 7) Processing BigramVectorizer, total=   6.2s\n",
            "[Pipeline]  (step 4 of 7) Processing MatrixToArrayConverter, total=   0.0s\n",
            "[Pipeline] ..... (step 5 of 7) Processing OneHotEncoder, total=   0.4s\n",
            "[Pipeline] ..... (step 6 of 7) Processing MatrixUnifier, total=   0.0s\n"
          ]
        },
        {
          "output_type": "stream",
          "name": "stderr",
          "text": [
            "/usr/local/lib/python3.7/dist-packages/sklearn/utils/validation.py:598: FutureWarning: np.matrix usage is deprecated in 1.0 and will raise a TypeError in 1.2. Please convert to a numpy array with np.asarray. For more information see: https://numpy.org/doc/stable/reference/generated/numpy.matrix.html\n",
            "  FutureWarning,\n"
          ]
        },
        {
          "output_type": "stream",
          "name": "stdout",
          "text": [
            "[Pipeline] ............... (step 7 of 7) Processing CLF, total=  51.0s\n"
          ]
        },
        {
          "output_type": "stream",
          "name": "stderr",
          "text": [
            "/usr/local/lib/python3.7/dist-packages/sklearn/utils/validation.py:598: FutureWarning: np.matrix usage is deprecated in 1.0 and will raise a TypeError in 1.2. Please convert to a numpy array with np.asarray. For more information see: https://numpy.org/doc/stable/reference/generated/numpy.matrix.html\n",
            "  FutureWarning,\n"
          ]
        },
        {
          "output_type": "stream",
          "name": "stdout",
          "text": [
            "[Pipeline] ... (step 1 of 7) Processing TweetNormalizer, total=   1.1s\n",
            "[Pipeline] .. (step 2 of 7) Processing FeatureExtractor, total=   5.0s\n",
            "[Pipeline] .. (step 3 of 7) Processing BigramVectorizer, total=   6.4s\n",
            "[Pipeline]  (step 4 of 7) Processing MatrixToArrayConverter, total=   0.0s\n",
            "[Pipeline] ..... (step 5 of 7) Processing OneHotEncoder, total=   0.4s\n",
            "[Pipeline] ..... (step 6 of 7) Processing MatrixUnifier, total=   0.0s\n"
          ]
        },
        {
          "output_type": "stream",
          "name": "stderr",
          "text": [
            "/usr/local/lib/python3.7/dist-packages/sklearn/utils/validation.py:598: FutureWarning: np.matrix usage is deprecated in 1.0 and will raise a TypeError in 1.2. Please convert to a numpy array with np.asarray. For more information see: https://numpy.org/doc/stable/reference/generated/numpy.matrix.html\n",
            "  FutureWarning,\n"
          ]
        },
        {
          "output_type": "stream",
          "name": "stdout",
          "text": [
            "[Pipeline] ............... (step 7 of 7) Processing CLF, total=  23.1s\n"
          ]
        },
        {
          "output_type": "stream",
          "name": "stderr",
          "text": [
            "/usr/local/lib/python3.7/dist-packages/sklearn/utils/validation.py:598: FutureWarning: np.matrix usage is deprecated in 1.0 and will raise a TypeError in 1.2. Please convert to a numpy array with np.asarray. For more information see: https://numpy.org/doc/stable/reference/generated/numpy.matrix.html\n",
            "  FutureWarning,\n"
          ]
        },
        {
          "output_type": "stream",
          "name": "stdout",
          "text": [
            "[Pipeline] ... (step 1 of 7) Processing TweetNormalizer, total=   1.1s\n",
            "[Pipeline] .. (step 2 of 7) Processing FeatureExtractor, total=   5.0s\n",
            "[Pipeline] .. (step 3 of 7) Processing BigramVectorizer, total=   6.2s\n",
            "[Pipeline]  (step 4 of 7) Processing MatrixToArrayConverter, total=   0.0s\n",
            "[Pipeline] ..... (step 5 of 7) Processing OneHotEncoder, total=   0.4s\n",
            "[Pipeline] ..... (step 6 of 7) Processing MatrixUnifier, total=   0.0s\n"
          ]
        },
        {
          "output_type": "stream",
          "name": "stderr",
          "text": [
            "/usr/local/lib/python3.7/dist-packages/sklearn/utils/validation.py:598: FutureWarning: np.matrix usage is deprecated in 1.0 and will raise a TypeError in 1.2. Please convert to a numpy array with np.asarray. For more information see: https://numpy.org/doc/stable/reference/generated/numpy.matrix.html\n",
            "  FutureWarning,\n"
          ]
        },
        {
          "output_type": "stream",
          "name": "stdout",
          "text": [
            "[Pipeline] ............... (step 7 of 7) Processing CLF, total=  23.1s\n"
          ]
        },
        {
          "output_type": "stream",
          "name": "stderr",
          "text": [
            "/usr/local/lib/python3.7/dist-packages/sklearn/utils/validation.py:598: FutureWarning: np.matrix usage is deprecated in 1.0 and will raise a TypeError in 1.2. Please convert to a numpy array with np.asarray. For more information see: https://numpy.org/doc/stable/reference/generated/numpy.matrix.html\n",
            "  FutureWarning,\n"
          ]
        },
        {
          "output_type": "stream",
          "name": "stdout",
          "text": [
            "[Pipeline] ... (step 1 of 7) Processing TweetNormalizer, total=   1.1s\n",
            "[Pipeline] .. (step 2 of 7) Processing FeatureExtractor, total=   5.0s\n",
            "[Pipeline] .. (step 3 of 7) Processing BigramVectorizer, total=   6.3s\n",
            "[Pipeline]  (step 4 of 7) Processing MatrixToArrayConverter, total=   0.0s\n",
            "[Pipeline] ..... (step 5 of 7) Processing OneHotEncoder, total=   0.4s\n",
            "[Pipeline] ..... (step 6 of 7) Processing MatrixUnifier, total=   0.0s\n"
          ]
        },
        {
          "output_type": "stream",
          "name": "stderr",
          "text": [
            "/usr/local/lib/python3.7/dist-packages/sklearn/utils/validation.py:598: FutureWarning: np.matrix usage is deprecated in 1.0 and will raise a TypeError in 1.2. Please convert to a numpy array with np.asarray. For more information see: https://numpy.org/doc/stable/reference/generated/numpy.matrix.html\n",
            "  FutureWarning,\n"
          ]
        },
        {
          "output_type": "stream",
          "name": "stdout",
          "text": [
            "[Pipeline] ............... (step 7 of 7) Processing CLF, total=  23.2s\n"
          ]
        },
        {
          "output_type": "stream",
          "name": "stderr",
          "text": [
            "/usr/local/lib/python3.7/dist-packages/sklearn/utils/validation.py:598: FutureWarning: np.matrix usage is deprecated in 1.0 and will raise a TypeError in 1.2. Please convert to a numpy array with np.asarray. For more information see: https://numpy.org/doc/stable/reference/generated/numpy.matrix.html\n",
            "  FutureWarning,\n"
          ]
        },
        {
          "output_type": "stream",
          "name": "stdout",
          "text": [
            "[Pipeline] ... (step 1 of 7) Processing TweetNormalizer, total=   1.1s\n",
            "[Pipeline] .. (step 2 of 7) Processing FeatureExtractor, total=   5.0s\n",
            "[Pipeline] .. (step 3 of 7) Processing BigramVectorizer, total=   6.2s\n",
            "[Pipeline]  (step 4 of 7) Processing MatrixToArrayConverter, total=   0.0s\n",
            "[Pipeline] ..... (step 5 of 7) Processing OneHotEncoder, total=   0.4s\n",
            "[Pipeline] ..... (step 6 of 7) Processing MatrixUnifier, total=   0.0s\n"
          ]
        },
        {
          "output_type": "stream",
          "name": "stderr",
          "text": [
            "/usr/local/lib/python3.7/dist-packages/sklearn/utils/validation.py:598: FutureWarning: np.matrix usage is deprecated in 1.0 and will raise a TypeError in 1.2. Please convert to a numpy array with np.asarray. For more information see: https://numpy.org/doc/stable/reference/generated/numpy.matrix.html\n",
            "  FutureWarning,\n"
          ]
        },
        {
          "output_type": "stream",
          "name": "stdout",
          "text": [
            "[Pipeline] ............... (step 7 of 7) Processing CLF, total=  23.2s\n"
          ]
        },
        {
          "output_type": "stream",
          "name": "stderr",
          "text": [
            "/usr/local/lib/python3.7/dist-packages/sklearn/utils/validation.py:598: FutureWarning: np.matrix usage is deprecated in 1.0 and will raise a TypeError in 1.2. Please convert to a numpy array with np.asarray. For more information see: https://numpy.org/doc/stable/reference/generated/numpy.matrix.html\n",
            "  FutureWarning,\n"
          ]
        },
        {
          "output_type": "stream",
          "name": "stdout",
          "text": [
            "[Pipeline] ... (step 1 of 7) Processing TweetNormalizer, total=   1.1s\n",
            "[Pipeline] .. (step 2 of 7) Processing FeatureExtractor, total=   5.0s\n",
            "[Pipeline] .. (step 3 of 7) Processing BigramVectorizer, total=   6.3s\n",
            "[Pipeline]  (step 4 of 7) Processing MatrixToArrayConverter, total=   0.0s\n",
            "[Pipeline] ..... (step 5 of 7) Processing OneHotEncoder, total=   0.4s\n",
            "[Pipeline] ..... (step 6 of 7) Processing MatrixUnifier, total=   0.0s\n"
          ]
        },
        {
          "output_type": "stream",
          "name": "stderr",
          "text": [
            "/usr/local/lib/python3.7/dist-packages/sklearn/utils/validation.py:598: FutureWarning: np.matrix usage is deprecated in 1.0 and will raise a TypeError in 1.2. Please convert to a numpy array with np.asarray. For more information see: https://numpy.org/doc/stable/reference/generated/numpy.matrix.html\n",
            "  FutureWarning,\n"
          ]
        },
        {
          "output_type": "stream",
          "name": "stdout",
          "text": [
            "[Pipeline] ............... (step 7 of 7) Processing CLF, total=  23.0s\n"
          ]
        },
        {
          "output_type": "stream",
          "name": "stderr",
          "text": [
            "/usr/local/lib/python3.7/dist-packages/sklearn/utils/validation.py:598: FutureWarning: np.matrix usage is deprecated in 1.0 and will raise a TypeError in 1.2. Please convert to a numpy array with np.asarray. For more information see: https://numpy.org/doc/stable/reference/generated/numpy.matrix.html\n",
            "  FutureWarning,\n"
          ]
        },
        {
          "output_type": "stream",
          "name": "stdout",
          "text": [
            "[Pipeline] ... (step 1 of 7) Processing TweetNormalizer, total=   1.1s\n",
            "[Pipeline] .. (step 2 of 7) Processing FeatureExtractor, total=   5.0s\n",
            "[Pipeline] .. (step 3 of 7) Processing BigramVectorizer, total=   6.3s\n",
            "[Pipeline]  (step 4 of 7) Processing MatrixToArrayConverter, total=   0.0s\n",
            "[Pipeline] ..... (step 5 of 7) Processing OneHotEncoder, total=   0.4s\n",
            "[Pipeline] ..... (step 6 of 7) Processing MatrixUnifier, total=   0.0s\n"
          ]
        },
        {
          "output_type": "stream",
          "name": "stderr",
          "text": [
            "/usr/local/lib/python3.7/dist-packages/sklearn/utils/validation.py:598: FutureWarning: np.matrix usage is deprecated in 1.0 and will raise a TypeError in 1.2. Please convert to a numpy array with np.asarray. For more information see: https://numpy.org/doc/stable/reference/generated/numpy.matrix.html\n",
            "  FutureWarning,\n"
          ]
        },
        {
          "output_type": "stream",
          "name": "stdout",
          "text": [
            "[Pipeline] ............... (step 7 of 7) Processing CLF, total=  23.2s\n"
          ]
        },
        {
          "output_type": "stream",
          "name": "stderr",
          "text": [
            "/usr/local/lib/python3.7/dist-packages/sklearn/utils/validation.py:598: FutureWarning: np.matrix usage is deprecated in 1.0 and will raise a TypeError in 1.2. Please convert to a numpy array with np.asarray. For more information see: https://numpy.org/doc/stable/reference/generated/numpy.matrix.html\n",
            "  FutureWarning,\n"
          ]
        },
        {
          "output_type": "stream",
          "name": "stdout",
          "text": [
            "[Pipeline] ... (step 1 of 7) Processing TweetNormalizer, total=   1.1s\n",
            "[Pipeline] .. (step 2 of 7) Processing FeatureExtractor, total=   5.0s\n",
            "[Pipeline] .. (step 3 of 7) Processing BigramVectorizer, total=   6.2s\n",
            "[Pipeline]  (step 4 of 7) Processing MatrixToArrayConverter, total=   0.0s\n",
            "[Pipeline] ..... (step 5 of 7) Processing OneHotEncoder, total=   0.4s\n",
            "[Pipeline] ..... (step 6 of 7) Processing MatrixUnifier, total=   0.0s\n"
          ]
        },
        {
          "output_type": "stream",
          "name": "stderr",
          "text": [
            "/usr/local/lib/python3.7/dist-packages/sklearn/utils/validation.py:598: FutureWarning: np.matrix usage is deprecated in 1.0 and will raise a TypeError in 1.2. Please convert to a numpy array with np.asarray. For more information see: https://numpy.org/doc/stable/reference/generated/numpy.matrix.html\n",
            "  FutureWarning,\n"
          ]
        },
        {
          "output_type": "stream",
          "name": "stdout",
          "text": [
            "[Pipeline] ............... (step 7 of 7) Processing CLF, total=  23.3s\n"
          ]
        },
        {
          "output_type": "stream",
          "name": "stderr",
          "text": [
            "/usr/local/lib/python3.7/dist-packages/sklearn/utils/validation.py:598: FutureWarning: np.matrix usage is deprecated in 1.0 and will raise a TypeError in 1.2. Please convert to a numpy array with np.asarray. For more information see: https://numpy.org/doc/stable/reference/generated/numpy.matrix.html\n",
            "  FutureWarning,\n"
          ]
        },
        {
          "output_type": "stream",
          "name": "stdout",
          "text": [
            "[Pipeline] ... (step 1 of 7) Processing TweetNormalizer, total=   0.9s\n",
            "[Pipeline] .. (step 2 of 7) Processing FeatureExtractor, total=   4.1s\n",
            "[Pipeline] .. (step 3 of 7) Processing BigramVectorizer, total=   5.3s\n",
            "[Pipeline]  (step 4 of 7) Processing MatrixToArrayConverter, total=   0.0s\n",
            "[Pipeline] ..... (step 5 of 7) Processing OneHotEncoder, total=   0.4s\n",
            "[Pipeline] ..... (step 6 of 7) Processing MatrixUnifier, total=   0.0s\n"
          ]
        },
        {
          "output_type": "stream",
          "name": "stderr",
          "text": [
            "/usr/local/lib/python3.7/dist-packages/sklearn/utils/validation.py:598: FutureWarning: np.matrix usage is deprecated in 1.0 and will raise a TypeError in 1.2. Please convert to a numpy array with np.asarray. For more information see: https://numpy.org/doc/stable/reference/generated/numpy.matrix.html\n",
            "  FutureWarning,\n"
          ]
        },
        {
          "output_type": "stream",
          "name": "stdout",
          "text": [
            "[Pipeline] ............... (step 7 of 7) Processing CLF, total=  23.0s\n"
          ]
        },
        {
          "output_type": "stream",
          "name": "stderr",
          "text": [
            "/usr/local/lib/python3.7/dist-packages/sklearn/utils/validation.py:598: FutureWarning: np.matrix usage is deprecated in 1.0 and will raise a TypeError in 1.2. Please convert to a numpy array with np.asarray. For more information see: https://numpy.org/doc/stable/reference/generated/numpy.matrix.html\n",
            "  FutureWarning,\n"
          ]
        },
        {
          "output_type": "stream",
          "name": "stdout",
          "text": [
            "[Pipeline] ... (step 1 of 7) Processing TweetNormalizer, total=   1.1s\n",
            "[Pipeline] .. (step 2 of 7) Processing FeatureExtractor, total=   4.9s\n",
            "[Pipeline] .. (step 3 of 7) Processing BigramVectorizer, total=   6.3s\n",
            "[Pipeline]  (step 4 of 7) Processing MatrixToArrayConverter, total=   0.0s\n",
            "[Pipeline] ..... (step 5 of 7) Processing OneHotEncoder, total=   0.4s\n",
            "[Pipeline] ..... (step 6 of 7) Processing MatrixUnifier, total=   0.0s\n"
          ]
        },
        {
          "output_type": "stream",
          "name": "stderr",
          "text": [
            "/usr/local/lib/python3.7/dist-packages/sklearn/utils/validation.py:598: FutureWarning: np.matrix usage is deprecated in 1.0 and will raise a TypeError in 1.2. Please convert to a numpy array with np.asarray. For more information see: https://numpy.org/doc/stable/reference/generated/numpy.matrix.html\n",
            "  FutureWarning,\n"
          ]
        },
        {
          "output_type": "stream",
          "name": "stdout",
          "text": [
            "[Pipeline] ............... (step 7 of 7) Processing CLF, total=  23.5s\n"
          ]
        },
        {
          "output_type": "stream",
          "name": "stderr",
          "text": [
            "/usr/local/lib/python3.7/dist-packages/sklearn/utils/validation.py:598: FutureWarning: np.matrix usage is deprecated in 1.0 and will raise a TypeError in 1.2. Please convert to a numpy array with np.asarray. For more information see: https://numpy.org/doc/stable/reference/generated/numpy.matrix.html\n",
            "  FutureWarning,\n"
          ]
        },
        {
          "output_type": "stream",
          "name": "stdout",
          "text": [
            "[Pipeline] ... (step 1 of 7) Processing TweetNormalizer, total=   1.1s\n",
            "[Pipeline] .. (step 2 of 7) Processing FeatureExtractor, total=   5.0s\n",
            "[Pipeline] .. (step 3 of 7) Processing BigramVectorizer, total=   6.2s\n",
            "[Pipeline]  (step 4 of 7) Processing MatrixToArrayConverter, total=   0.0s\n",
            "[Pipeline] ..... (step 5 of 7) Processing OneHotEncoder, total=   0.4s\n",
            "[Pipeline] ..... (step 6 of 7) Processing MatrixUnifier, total=   0.0s\n"
          ]
        },
        {
          "output_type": "stream",
          "name": "stderr",
          "text": [
            "/usr/local/lib/python3.7/dist-packages/sklearn/utils/validation.py:598: FutureWarning: np.matrix usage is deprecated in 1.0 and will raise a TypeError in 1.2. Please convert to a numpy array with np.asarray. For more information see: https://numpy.org/doc/stable/reference/generated/numpy.matrix.html\n",
            "  FutureWarning,\n"
          ]
        },
        {
          "output_type": "stream",
          "name": "stdout",
          "text": [
            "[Pipeline] ............... (step 7 of 7) Processing CLF, total=  23.7s\n"
          ]
        },
        {
          "output_type": "stream",
          "name": "stderr",
          "text": [
            "/usr/local/lib/python3.7/dist-packages/sklearn/utils/validation.py:598: FutureWarning: np.matrix usage is deprecated in 1.0 and will raise a TypeError in 1.2. Please convert to a numpy array with np.asarray. For more information see: https://numpy.org/doc/stable/reference/generated/numpy.matrix.html\n",
            "  FutureWarning,\n"
          ]
        },
        {
          "output_type": "stream",
          "name": "stdout",
          "text": [
            "[Pipeline] ... (step 1 of 7) Processing TweetNormalizer, total=   1.1s\n",
            "[Pipeline] .. (step 2 of 7) Processing FeatureExtractor, total=   4.9s\n",
            "[Pipeline] .. (step 3 of 7) Processing BigramVectorizer, total=   6.3s\n",
            "[Pipeline]  (step 4 of 7) Processing MatrixToArrayConverter, total=   0.0s\n",
            "[Pipeline] ..... (step 5 of 7) Processing OneHotEncoder, total=   0.4s\n",
            "[Pipeline] ..... (step 6 of 7) Processing MatrixUnifier, total=   0.0s\n"
          ]
        },
        {
          "output_type": "stream",
          "name": "stderr",
          "text": [
            "/usr/local/lib/python3.7/dist-packages/sklearn/utils/validation.py:598: FutureWarning: np.matrix usage is deprecated in 1.0 and will raise a TypeError in 1.2. Please convert to a numpy array with np.asarray. For more information see: https://numpy.org/doc/stable/reference/generated/numpy.matrix.html\n",
            "  FutureWarning,\n"
          ]
        },
        {
          "output_type": "stream",
          "name": "stdout",
          "text": [
            "[Pipeline] ............... (step 7 of 7) Processing CLF, total= 1.1min\n"
          ]
        },
        {
          "output_type": "stream",
          "name": "stderr",
          "text": [
            "/usr/local/lib/python3.7/dist-packages/sklearn/utils/validation.py:598: FutureWarning: np.matrix usage is deprecated in 1.0 and will raise a TypeError in 1.2. Please convert to a numpy array with np.asarray. For more information see: https://numpy.org/doc/stable/reference/generated/numpy.matrix.html\n",
            "  FutureWarning,\n"
          ]
        },
        {
          "output_type": "stream",
          "name": "stdout",
          "text": [
            "[Pipeline] ... (step 1 of 7) Processing TweetNormalizer, total=   1.1s\n",
            "[Pipeline] .. (step 2 of 7) Processing FeatureExtractor, total=   5.0s\n",
            "[Pipeline] .. (step 3 of 7) Processing BigramVectorizer, total=   6.2s\n",
            "[Pipeline]  (step 4 of 7) Processing MatrixToArrayConverter, total=   0.0s\n",
            "[Pipeline] ..... (step 5 of 7) Processing OneHotEncoder, total=   0.4s\n",
            "[Pipeline] ..... (step 6 of 7) Processing MatrixUnifier, total=   0.0s\n"
          ]
        },
        {
          "output_type": "stream",
          "name": "stderr",
          "text": [
            "/usr/local/lib/python3.7/dist-packages/sklearn/utils/validation.py:598: FutureWarning: np.matrix usage is deprecated in 1.0 and will raise a TypeError in 1.2. Please convert to a numpy array with np.asarray. For more information see: https://numpy.org/doc/stable/reference/generated/numpy.matrix.html\n",
            "  FutureWarning,\n"
          ]
        },
        {
          "output_type": "stream",
          "name": "stdout",
          "text": [
            "[Pipeline] ............... (step 7 of 7) Processing CLF, total= 1.2min\n"
          ]
        },
        {
          "output_type": "stream",
          "name": "stderr",
          "text": [
            "/usr/local/lib/python3.7/dist-packages/sklearn/utils/validation.py:598: FutureWarning: np.matrix usage is deprecated in 1.0 and will raise a TypeError in 1.2. Please convert to a numpy array with np.asarray. For more information see: https://numpy.org/doc/stable/reference/generated/numpy.matrix.html\n",
            "  FutureWarning,\n"
          ]
        },
        {
          "output_type": "stream",
          "name": "stdout",
          "text": [
            "[Pipeline] ... (step 1 of 7) Processing TweetNormalizer, total=   1.1s\n",
            "[Pipeline] .. (step 2 of 7) Processing FeatureExtractor, total=   5.0s\n",
            "[Pipeline] .. (step 3 of 7) Processing BigramVectorizer, total=   6.2s\n",
            "[Pipeline]  (step 4 of 7) Processing MatrixToArrayConverter, total=   0.0s\n",
            "[Pipeline] ..... (step 5 of 7) Processing OneHotEncoder, total=   0.4s\n",
            "[Pipeline] ..... (step 6 of 7) Processing MatrixUnifier, total=   0.0s\n"
          ]
        },
        {
          "output_type": "stream",
          "name": "stderr",
          "text": [
            "/usr/local/lib/python3.7/dist-packages/sklearn/utils/validation.py:598: FutureWarning: np.matrix usage is deprecated in 1.0 and will raise a TypeError in 1.2. Please convert to a numpy array with np.asarray. For more information see: https://numpy.org/doc/stable/reference/generated/numpy.matrix.html\n",
            "  FutureWarning,\n"
          ]
        },
        {
          "output_type": "stream",
          "name": "stdout",
          "text": [
            "[Pipeline] ............... (step 7 of 7) Processing CLF, total= 1.1min\n"
          ]
        },
        {
          "output_type": "stream",
          "name": "stderr",
          "text": [
            "/usr/local/lib/python3.7/dist-packages/sklearn/utils/validation.py:598: FutureWarning: np.matrix usage is deprecated in 1.0 and will raise a TypeError in 1.2. Please convert to a numpy array with np.asarray. For more information see: https://numpy.org/doc/stable/reference/generated/numpy.matrix.html\n",
            "  FutureWarning,\n"
          ]
        },
        {
          "output_type": "stream",
          "name": "stdout",
          "text": [
            "[Pipeline] ... (step 1 of 7) Processing TweetNormalizer, total=   1.1s\n",
            "[Pipeline] .. (step 2 of 7) Processing FeatureExtractor, total=   4.9s\n",
            "[Pipeline] .. (step 3 of 7) Processing BigramVectorizer, total=   6.2s\n",
            "[Pipeline]  (step 4 of 7) Processing MatrixToArrayConverter, total=   0.0s\n",
            "[Pipeline] ..... (step 5 of 7) Processing OneHotEncoder, total=   0.4s\n",
            "[Pipeline] ..... (step 6 of 7) Processing MatrixUnifier, total=   0.0s\n"
          ]
        },
        {
          "output_type": "stream",
          "name": "stderr",
          "text": [
            "/usr/local/lib/python3.7/dist-packages/sklearn/utils/validation.py:598: FutureWarning: np.matrix usage is deprecated in 1.0 and will raise a TypeError in 1.2. Please convert to a numpy array with np.asarray. For more information see: https://numpy.org/doc/stable/reference/generated/numpy.matrix.html\n",
            "  FutureWarning,\n"
          ]
        },
        {
          "output_type": "stream",
          "name": "stdout",
          "text": [
            "[Pipeline] ............... (step 7 of 7) Processing CLF, total= 1.1min\n"
          ]
        },
        {
          "output_type": "stream",
          "name": "stderr",
          "text": [
            "/usr/local/lib/python3.7/dist-packages/sklearn/utils/validation.py:598: FutureWarning: np.matrix usage is deprecated in 1.0 and will raise a TypeError in 1.2. Please convert to a numpy array with np.asarray. For more information see: https://numpy.org/doc/stable/reference/generated/numpy.matrix.html\n",
            "  FutureWarning,\n"
          ]
        },
        {
          "output_type": "stream",
          "name": "stdout",
          "text": [
            "[Pipeline] ... (step 1 of 7) Processing TweetNormalizer, total=   1.1s\n",
            "[Pipeline] .. (step 2 of 7) Processing FeatureExtractor, total=   4.9s\n",
            "[Pipeline] .. (step 3 of 7) Processing BigramVectorizer, total=   6.3s\n",
            "[Pipeline]  (step 4 of 7) Processing MatrixToArrayConverter, total=   0.0s\n",
            "[Pipeline] ..... (step 5 of 7) Processing OneHotEncoder, total=   0.4s\n",
            "[Pipeline] ..... (step 6 of 7) Processing MatrixUnifier, total=   0.0s\n"
          ]
        },
        {
          "output_type": "stream",
          "name": "stderr",
          "text": [
            "/usr/local/lib/python3.7/dist-packages/sklearn/utils/validation.py:598: FutureWarning: np.matrix usage is deprecated in 1.0 and will raise a TypeError in 1.2. Please convert to a numpy array with np.asarray. For more information see: https://numpy.org/doc/stable/reference/generated/numpy.matrix.html\n",
            "  FutureWarning,\n"
          ]
        },
        {
          "output_type": "stream",
          "name": "stdout",
          "text": [
            "[Pipeline] ............... (step 7 of 7) Processing CLF, total= 1.1min\n"
          ]
        },
        {
          "output_type": "stream",
          "name": "stderr",
          "text": [
            "/usr/local/lib/python3.7/dist-packages/sklearn/utils/validation.py:598: FutureWarning: np.matrix usage is deprecated in 1.0 and will raise a TypeError in 1.2. Please convert to a numpy array with np.asarray. For more information see: https://numpy.org/doc/stable/reference/generated/numpy.matrix.html\n",
            "  FutureWarning,\n"
          ]
        },
        {
          "output_type": "stream",
          "name": "stdout",
          "text": [
            "[Pipeline] ... (step 1 of 7) Processing TweetNormalizer, total=   1.1s\n",
            "[Pipeline] .. (step 2 of 7) Processing FeatureExtractor, total=   5.0s\n",
            "[Pipeline] .. (step 3 of 7) Processing BigramVectorizer, total=   6.1s\n",
            "[Pipeline]  (step 4 of 7) Processing MatrixToArrayConverter, total=   0.0s\n",
            "[Pipeline] ..... (step 5 of 7) Processing OneHotEncoder, total=   0.4s\n",
            "[Pipeline] ..... (step 6 of 7) Processing MatrixUnifier, total=   0.0s\n"
          ]
        },
        {
          "output_type": "stream",
          "name": "stderr",
          "text": [
            "/usr/local/lib/python3.7/dist-packages/sklearn/utils/validation.py:598: FutureWarning: np.matrix usage is deprecated in 1.0 and will raise a TypeError in 1.2. Please convert to a numpy array with np.asarray. For more information see: https://numpy.org/doc/stable/reference/generated/numpy.matrix.html\n",
            "  FutureWarning,\n"
          ]
        },
        {
          "output_type": "stream",
          "name": "stdout",
          "text": [
            "[Pipeline] ............... (step 7 of 7) Processing CLF, total= 1.2min\n"
          ]
        },
        {
          "output_type": "stream",
          "name": "stderr",
          "text": [
            "/usr/local/lib/python3.7/dist-packages/sklearn/utils/validation.py:598: FutureWarning: np.matrix usage is deprecated in 1.0 and will raise a TypeError in 1.2. Please convert to a numpy array with np.asarray. For more information see: https://numpy.org/doc/stable/reference/generated/numpy.matrix.html\n",
            "  FutureWarning,\n"
          ]
        },
        {
          "output_type": "stream",
          "name": "stdout",
          "text": [
            "[Pipeline] ... (step 1 of 7) Processing TweetNormalizer, total=   1.1s\n",
            "[Pipeline] .. (step 2 of 7) Processing FeatureExtractor, total=   4.9s\n",
            "[Pipeline] .. (step 3 of 7) Processing BigramVectorizer, total=   6.2s\n",
            "[Pipeline]  (step 4 of 7) Processing MatrixToArrayConverter, total=   0.0s\n",
            "[Pipeline] ..... (step 5 of 7) Processing OneHotEncoder, total=   0.4s\n",
            "[Pipeline] ..... (step 6 of 7) Processing MatrixUnifier, total=   0.0s\n"
          ]
        },
        {
          "output_type": "stream",
          "name": "stderr",
          "text": [
            "/usr/local/lib/python3.7/dist-packages/sklearn/utils/validation.py:598: FutureWarning: np.matrix usage is deprecated in 1.0 and will raise a TypeError in 1.2. Please convert to a numpy array with np.asarray. For more information see: https://numpy.org/doc/stable/reference/generated/numpy.matrix.html\n",
            "  FutureWarning,\n"
          ]
        },
        {
          "output_type": "stream",
          "name": "stdout",
          "text": [
            "[Pipeline] ............... (step 7 of 7) Processing CLF, total= 1.1min\n"
          ]
        },
        {
          "output_type": "stream",
          "name": "stderr",
          "text": [
            "/usr/local/lib/python3.7/dist-packages/sklearn/utils/validation.py:598: FutureWarning: np.matrix usage is deprecated in 1.0 and will raise a TypeError in 1.2. Please convert to a numpy array with np.asarray. For more information see: https://numpy.org/doc/stable/reference/generated/numpy.matrix.html\n",
            "  FutureWarning,\n"
          ]
        },
        {
          "output_type": "stream",
          "name": "stdout",
          "text": [
            "[Pipeline] ... (step 1 of 7) Processing TweetNormalizer, total=   0.8s\n",
            "[Pipeline] .. (step 2 of 7) Processing FeatureExtractor, total=   4.1s\n",
            "[Pipeline] .. (step 3 of 7) Processing BigramVectorizer, total=   5.3s\n",
            "[Pipeline]  (step 4 of 7) Processing MatrixToArrayConverter, total=   0.0s\n",
            "[Pipeline] ..... (step 5 of 7) Processing OneHotEncoder, total=   0.4s\n",
            "[Pipeline] ..... (step 6 of 7) Processing MatrixUnifier, total=   0.0s\n"
          ]
        },
        {
          "output_type": "stream",
          "name": "stderr",
          "text": [
            "/usr/local/lib/python3.7/dist-packages/sklearn/utils/validation.py:598: FutureWarning: np.matrix usage is deprecated in 1.0 and will raise a TypeError in 1.2. Please convert to a numpy array with np.asarray. For more information see: https://numpy.org/doc/stable/reference/generated/numpy.matrix.html\n",
            "  FutureWarning,\n"
          ]
        },
        {
          "output_type": "stream",
          "name": "stdout",
          "text": [
            "[Pipeline] ............... (step 7 of 7) Processing CLF, total= 1.2min\n"
          ]
        },
        {
          "output_type": "stream",
          "name": "stderr",
          "text": [
            "/usr/local/lib/python3.7/dist-packages/sklearn/utils/validation.py:598: FutureWarning: np.matrix usage is deprecated in 1.0 and will raise a TypeError in 1.2. Please convert to a numpy array with np.asarray. For more information see: https://numpy.org/doc/stable/reference/generated/numpy.matrix.html\n",
            "  FutureWarning,\n"
          ]
        },
        {
          "output_type": "stream",
          "name": "stdout",
          "text": [
            "[Pipeline] ... (step 1 of 7) Processing TweetNormalizer, total=   1.1s\n",
            "[Pipeline] .. (step 2 of 7) Processing FeatureExtractor, total=   4.9s\n",
            "[Pipeline] .. (step 3 of 7) Processing BigramVectorizer, total=   6.2s\n",
            "[Pipeline]  (step 4 of 7) Processing MatrixToArrayConverter, total=   0.0s\n",
            "[Pipeline] ..... (step 5 of 7) Processing OneHotEncoder, total=   0.3s\n",
            "[Pipeline] ..... (step 6 of 7) Processing MatrixUnifier, total=   0.0s\n"
          ]
        },
        {
          "output_type": "stream",
          "name": "stderr",
          "text": [
            "/usr/local/lib/python3.7/dist-packages/sklearn/utils/validation.py:598: FutureWarning: np.matrix usage is deprecated in 1.0 and will raise a TypeError in 1.2. Please convert to a numpy array with np.asarray. For more information see: https://numpy.org/doc/stable/reference/generated/numpy.matrix.html\n",
            "  FutureWarning,\n"
          ]
        },
        {
          "output_type": "stream",
          "name": "stdout",
          "text": [
            "[Pipeline] ............... (step 7 of 7) Processing CLF, total= 1.1min\n"
          ]
        },
        {
          "output_type": "stream",
          "name": "stderr",
          "text": [
            "/usr/local/lib/python3.7/dist-packages/sklearn/utils/validation.py:598: FutureWarning: np.matrix usage is deprecated in 1.0 and will raise a TypeError in 1.2. Please convert to a numpy array with np.asarray. For more information see: https://numpy.org/doc/stable/reference/generated/numpy.matrix.html\n",
            "  FutureWarning,\n"
          ]
        },
        {
          "output_type": "stream",
          "name": "stdout",
          "text": [
            "[Pipeline] ... (step 1 of 7) Processing TweetNormalizer, total=   1.1s\n",
            "[Pipeline] .. (step 2 of 7) Processing FeatureExtractor, total=   4.9s\n",
            "[Pipeline] .. (step 3 of 7) Processing BigramVectorizer, total=   6.1s\n",
            "[Pipeline]  (step 4 of 7) Processing MatrixToArrayConverter, total=   0.0s\n",
            "[Pipeline] ..... (step 5 of 7) Processing OneHotEncoder, total=   0.4s\n",
            "[Pipeline] ..... (step 6 of 7) Processing MatrixUnifier, total=   0.0s\n"
          ]
        },
        {
          "output_type": "stream",
          "name": "stderr",
          "text": [
            "/usr/local/lib/python3.7/dist-packages/sklearn/utils/validation.py:598: FutureWarning: np.matrix usage is deprecated in 1.0 and will raise a TypeError in 1.2. Please convert to a numpy array with np.asarray. For more information see: https://numpy.org/doc/stable/reference/generated/numpy.matrix.html\n",
            "  FutureWarning,\n"
          ]
        },
        {
          "output_type": "stream",
          "name": "stdout",
          "text": [
            "[Pipeline] ............... (step 7 of 7) Processing CLF, total= 1.2min\n"
          ]
        },
        {
          "output_type": "stream",
          "name": "stderr",
          "text": [
            "/usr/local/lib/python3.7/dist-packages/sklearn/utils/validation.py:598: FutureWarning: np.matrix usage is deprecated in 1.0 and will raise a TypeError in 1.2. Please convert to a numpy array with np.asarray. For more information see: https://numpy.org/doc/stable/reference/generated/numpy.matrix.html\n",
            "  FutureWarning,\n"
          ]
        },
        {
          "output_type": "stream",
          "name": "stdout",
          "text": [
            "[Pipeline] ... (step 1 of 7) Processing TweetNormalizer, total=   1.1s\n",
            "[Pipeline] .. (step 2 of 7) Processing FeatureExtractor, total=   5.0s\n",
            "[Pipeline] .. (step 3 of 7) Processing BigramVectorizer, total=   6.2s\n",
            "[Pipeline]  (step 4 of 7) Processing MatrixToArrayConverter, total=   0.0s\n",
            "[Pipeline] ..... (step 5 of 7) Processing OneHotEncoder, total=   0.4s\n",
            "[Pipeline] ..... (step 6 of 7) Processing MatrixUnifier, total=   0.0s\n"
          ]
        },
        {
          "output_type": "stream",
          "name": "stderr",
          "text": [
            "/usr/local/lib/python3.7/dist-packages/sklearn/utils/validation.py:598: FutureWarning: np.matrix usage is deprecated in 1.0 and will raise a TypeError in 1.2. Please convert to a numpy array with np.asarray. For more information see: https://numpy.org/doc/stable/reference/generated/numpy.matrix.html\n",
            "  FutureWarning,\n"
          ]
        },
        {
          "output_type": "stream",
          "name": "stdout",
          "text": [
            "[Pipeline] ............... (step 7 of 7) Processing CLF, total=  23.2s\n"
          ]
        },
        {
          "output_type": "stream",
          "name": "stderr",
          "text": [
            "/usr/local/lib/python3.7/dist-packages/sklearn/utils/validation.py:598: FutureWarning: np.matrix usage is deprecated in 1.0 and will raise a TypeError in 1.2. Please convert to a numpy array with np.asarray. For more information see: https://numpy.org/doc/stable/reference/generated/numpy.matrix.html\n",
            "  FutureWarning,\n"
          ]
        },
        {
          "output_type": "stream",
          "name": "stdout",
          "text": [
            "[Pipeline] ... (step 1 of 7) Processing TweetNormalizer, total=   1.1s\n",
            "[Pipeline] .. (step 2 of 7) Processing FeatureExtractor, total=   5.0s\n",
            "[Pipeline] .. (step 3 of 7) Processing BigramVectorizer, total=   6.2s\n",
            "[Pipeline]  (step 4 of 7) Processing MatrixToArrayConverter, total=   0.0s\n",
            "[Pipeline] ..... (step 5 of 7) Processing OneHotEncoder, total=   0.4s\n",
            "[Pipeline] ..... (step 6 of 7) Processing MatrixUnifier, total=   0.0s\n"
          ]
        },
        {
          "output_type": "stream",
          "name": "stderr",
          "text": [
            "/usr/local/lib/python3.7/dist-packages/sklearn/utils/validation.py:598: FutureWarning: np.matrix usage is deprecated in 1.0 and will raise a TypeError in 1.2. Please convert to a numpy array with np.asarray. For more information see: https://numpy.org/doc/stable/reference/generated/numpy.matrix.html\n",
            "  FutureWarning,\n"
          ]
        },
        {
          "output_type": "stream",
          "name": "stdout",
          "text": [
            "[Pipeline] ............... (step 7 of 7) Processing CLF, total=  23.1s\n"
          ]
        },
        {
          "output_type": "stream",
          "name": "stderr",
          "text": [
            "/usr/local/lib/python3.7/dist-packages/sklearn/utils/validation.py:598: FutureWarning: np.matrix usage is deprecated in 1.0 and will raise a TypeError in 1.2. Please convert to a numpy array with np.asarray. For more information see: https://numpy.org/doc/stable/reference/generated/numpy.matrix.html\n",
            "  FutureWarning,\n"
          ]
        },
        {
          "output_type": "stream",
          "name": "stdout",
          "text": [
            "[Pipeline] ... (step 1 of 7) Processing TweetNormalizer, total=   1.1s\n",
            "[Pipeline] .. (step 2 of 7) Processing FeatureExtractor, total=   4.9s\n",
            "[Pipeline] .. (step 3 of 7) Processing BigramVectorizer, total=   6.2s\n",
            "[Pipeline]  (step 4 of 7) Processing MatrixToArrayConverter, total=   0.0s\n",
            "[Pipeline] ..... (step 5 of 7) Processing OneHotEncoder, total=   0.4s\n",
            "[Pipeline] ..... (step 6 of 7) Processing MatrixUnifier, total=   0.0s\n"
          ]
        },
        {
          "output_type": "stream",
          "name": "stderr",
          "text": [
            "/usr/local/lib/python3.7/dist-packages/sklearn/utils/validation.py:598: FutureWarning: np.matrix usage is deprecated in 1.0 and will raise a TypeError in 1.2. Please convert to a numpy array with np.asarray. For more information see: https://numpy.org/doc/stable/reference/generated/numpy.matrix.html\n",
            "  FutureWarning,\n"
          ]
        },
        {
          "output_type": "stream",
          "name": "stdout",
          "text": [
            "[Pipeline] ............... (step 7 of 7) Processing CLF, total=  22.4s\n"
          ]
        },
        {
          "output_type": "stream",
          "name": "stderr",
          "text": [
            "/usr/local/lib/python3.7/dist-packages/sklearn/utils/validation.py:598: FutureWarning: np.matrix usage is deprecated in 1.0 and will raise a TypeError in 1.2. Please convert to a numpy array with np.asarray. For more information see: https://numpy.org/doc/stable/reference/generated/numpy.matrix.html\n",
            "  FutureWarning,\n"
          ]
        },
        {
          "output_type": "stream",
          "name": "stdout",
          "text": [
            "[Pipeline] ... (step 1 of 7) Processing TweetNormalizer, total=   1.1s\n",
            "[Pipeline] .. (step 2 of 7) Processing FeatureExtractor, total=   4.9s\n",
            "[Pipeline] .. (step 3 of 7) Processing BigramVectorizer, total=   6.2s\n",
            "[Pipeline]  (step 4 of 7) Processing MatrixToArrayConverter, total=   0.0s\n",
            "[Pipeline] ..... (step 5 of 7) Processing OneHotEncoder, total=   0.4s\n",
            "[Pipeline] ..... (step 6 of 7) Processing MatrixUnifier, total=   0.0s\n"
          ]
        },
        {
          "output_type": "stream",
          "name": "stderr",
          "text": [
            "/usr/local/lib/python3.7/dist-packages/sklearn/utils/validation.py:598: FutureWarning: np.matrix usage is deprecated in 1.0 and will raise a TypeError in 1.2. Please convert to a numpy array with np.asarray. For more information see: https://numpy.org/doc/stable/reference/generated/numpy.matrix.html\n",
            "  FutureWarning,\n"
          ]
        },
        {
          "output_type": "stream",
          "name": "stdout",
          "text": [
            "[Pipeline] ............... (step 7 of 7) Processing CLF, total=  23.1s\n"
          ]
        },
        {
          "output_type": "stream",
          "name": "stderr",
          "text": [
            "/usr/local/lib/python3.7/dist-packages/sklearn/utils/validation.py:598: FutureWarning: np.matrix usage is deprecated in 1.0 and will raise a TypeError in 1.2. Please convert to a numpy array with np.asarray. For more information see: https://numpy.org/doc/stable/reference/generated/numpy.matrix.html\n",
            "  FutureWarning,\n"
          ]
        },
        {
          "output_type": "stream",
          "name": "stdout",
          "text": [
            "[Pipeline] ... (step 1 of 7) Processing TweetNormalizer, total=   1.1s\n",
            "[Pipeline] .. (step 2 of 7) Processing FeatureExtractor, total=   4.9s\n",
            "[Pipeline] .. (step 3 of 7) Processing BigramVectorizer, total=   6.2s\n",
            "[Pipeline]  (step 4 of 7) Processing MatrixToArrayConverter, total=   0.0s\n",
            "[Pipeline] ..... (step 5 of 7) Processing OneHotEncoder, total=   0.4s\n",
            "[Pipeline] ..... (step 6 of 7) Processing MatrixUnifier, total=   0.0s\n"
          ]
        },
        {
          "output_type": "stream",
          "name": "stderr",
          "text": [
            "/usr/local/lib/python3.7/dist-packages/sklearn/utils/validation.py:598: FutureWarning: np.matrix usage is deprecated in 1.0 and will raise a TypeError in 1.2. Please convert to a numpy array with np.asarray. For more information see: https://numpy.org/doc/stable/reference/generated/numpy.matrix.html\n",
            "  FutureWarning,\n"
          ]
        },
        {
          "output_type": "stream",
          "name": "stdout",
          "text": [
            "[Pipeline] ............... (step 7 of 7) Processing CLF, total=  23.0s\n"
          ]
        },
        {
          "output_type": "stream",
          "name": "stderr",
          "text": [
            "/usr/local/lib/python3.7/dist-packages/sklearn/utils/validation.py:598: FutureWarning: np.matrix usage is deprecated in 1.0 and will raise a TypeError in 1.2. Please convert to a numpy array with np.asarray. For more information see: https://numpy.org/doc/stable/reference/generated/numpy.matrix.html\n",
            "  FutureWarning,\n"
          ]
        },
        {
          "output_type": "stream",
          "name": "stdout",
          "text": [
            "[Pipeline] ... (step 1 of 7) Processing TweetNormalizer, total=   1.1s\n",
            "[Pipeline] .. (step 2 of 7) Processing FeatureExtractor, total=   5.0s\n",
            "[Pipeline] .. (step 3 of 7) Processing BigramVectorizer, total=   6.2s\n",
            "[Pipeline]  (step 4 of 7) Processing MatrixToArrayConverter, total=   0.0s\n",
            "[Pipeline] ..... (step 5 of 7) Processing OneHotEncoder, total=   0.4s\n",
            "[Pipeline] ..... (step 6 of 7) Processing MatrixUnifier, total=   0.0s\n"
          ]
        },
        {
          "output_type": "stream",
          "name": "stderr",
          "text": [
            "/usr/local/lib/python3.7/dist-packages/sklearn/utils/validation.py:598: FutureWarning: np.matrix usage is deprecated in 1.0 and will raise a TypeError in 1.2. Please convert to a numpy array with np.asarray. For more information see: https://numpy.org/doc/stable/reference/generated/numpy.matrix.html\n",
            "  FutureWarning,\n"
          ]
        },
        {
          "output_type": "stream",
          "name": "stdout",
          "text": [
            "[Pipeline] ............... (step 7 of 7) Processing CLF, total=  22.9s\n"
          ]
        },
        {
          "output_type": "stream",
          "name": "stderr",
          "text": [
            "/usr/local/lib/python3.7/dist-packages/sklearn/utils/validation.py:598: FutureWarning: np.matrix usage is deprecated in 1.0 and will raise a TypeError in 1.2. Please convert to a numpy array with np.asarray. For more information see: https://numpy.org/doc/stable/reference/generated/numpy.matrix.html\n",
            "  FutureWarning,\n"
          ]
        },
        {
          "output_type": "stream",
          "name": "stdout",
          "text": [
            "[Pipeline] ... (step 1 of 7) Processing TweetNormalizer, total=   1.1s\n",
            "[Pipeline] .. (step 2 of 7) Processing FeatureExtractor, total=   4.9s\n",
            "[Pipeline] .. (step 3 of 7) Processing BigramVectorizer, total=   6.2s\n",
            "[Pipeline]  (step 4 of 7) Processing MatrixToArrayConverter, total=   0.0s\n",
            "[Pipeline] ..... (step 5 of 7) Processing OneHotEncoder, total=   0.4s\n",
            "[Pipeline] ..... (step 6 of 7) Processing MatrixUnifier, total=   0.0s\n"
          ]
        },
        {
          "output_type": "stream",
          "name": "stderr",
          "text": [
            "/usr/local/lib/python3.7/dist-packages/sklearn/utils/validation.py:598: FutureWarning: np.matrix usage is deprecated in 1.0 and will raise a TypeError in 1.2. Please convert to a numpy array with np.asarray. For more information see: https://numpy.org/doc/stable/reference/generated/numpy.matrix.html\n",
            "  FutureWarning,\n"
          ]
        },
        {
          "output_type": "stream",
          "name": "stdout",
          "text": [
            "[Pipeline] ............... (step 7 of 7) Processing CLF, total=  23.2s\n"
          ]
        },
        {
          "output_type": "stream",
          "name": "stderr",
          "text": [
            "/usr/local/lib/python3.7/dist-packages/sklearn/utils/validation.py:598: FutureWarning: np.matrix usage is deprecated in 1.0 and will raise a TypeError in 1.2. Please convert to a numpy array with np.asarray. For more information see: https://numpy.org/doc/stable/reference/generated/numpy.matrix.html\n",
            "  FutureWarning,\n"
          ]
        },
        {
          "output_type": "stream",
          "name": "stdout",
          "text": [
            "[Pipeline] ... (step 1 of 7) Processing TweetNormalizer, total=   0.9s\n",
            "[Pipeline] .. (step 2 of 7) Processing FeatureExtractor, total=   4.1s\n",
            "[Pipeline] .. (step 3 of 7) Processing BigramVectorizer, total=   5.2s\n",
            "[Pipeline]  (step 4 of 7) Processing MatrixToArrayConverter, total=   0.0s\n",
            "[Pipeline] ..... (step 5 of 7) Processing OneHotEncoder, total=   0.4s\n",
            "[Pipeline] ..... (step 6 of 7) Processing MatrixUnifier, total=   0.0s\n"
          ]
        },
        {
          "output_type": "stream",
          "name": "stderr",
          "text": [
            "/usr/local/lib/python3.7/dist-packages/sklearn/utils/validation.py:598: FutureWarning: np.matrix usage is deprecated in 1.0 and will raise a TypeError in 1.2. Please convert to a numpy array with np.asarray. For more information see: https://numpy.org/doc/stable/reference/generated/numpy.matrix.html\n",
            "  FutureWarning,\n"
          ]
        },
        {
          "output_type": "stream",
          "name": "stdout",
          "text": [
            "[Pipeline] ............... (step 7 of 7) Processing CLF, total=  23.4s\n"
          ]
        },
        {
          "output_type": "stream",
          "name": "stderr",
          "text": [
            "/usr/local/lib/python3.7/dist-packages/sklearn/utils/validation.py:598: FutureWarning: np.matrix usage is deprecated in 1.0 and will raise a TypeError in 1.2. Please convert to a numpy array with np.asarray. For more information see: https://numpy.org/doc/stable/reference/generated/numpy.matrix.html\n",
            "  FutureWarning,\n"
          ]
        },
        {
          "output_type": "stream",
          "name": "stdout",
          "text": [
            "[Pipeline] ... (step 1 of 7) Processing TweetNormalizer, total=   1.1s\n",
            "[Pipeline] .. (step 2 of 7) Processing FeatureExtractor, total=   4.9s\n",
            "[Pipeline] .. (step 3 of 7) Processing BigramVectorizer, total=   6.2s\n",
            "[Pipeline]  (step 4 of 7) Processing MatrixToArrayConverter, total=   0.0s\n",
            "[Pipeline] ..... (step 5 of 7) Processing OneHotEncoder, total=   0.4s\n",
            "[Pipeline] ..... (step 6 of 7) Processing MatrixUnifier, total=   0.0s\n"
          ]
        },
        {
          "output_type": "stream",
          "name": "stderr",
          "text": [
            "/usr/local/lib/python3.7/dist-packages/sklearn/utils/validation.py:598: FutureWarning: np.matrix usage is deprecated in 1.0 and will raise a TypeError in 1.2. Please convert to a numpy array with np.asarray. For more information see: https://numpy.org/doc/stable/reference/generated/numpy.matrix.html\n",
            "  FutureWarning,\n"
          ]
        },
        {
          "output_type": "stream",
          "name": "stdout",
          "text": [
            "[Pipeline] ............... (step 7 of 7) Processing CLF, total=  23.1s\n"
          ]
        },
        {
          "output_type": "stream",
          "name": "stderr",
          "text": [
            "/usr/local/lib/python3.7/dist-packages/sklearn/utils/validation.py:598: FutureWarning: np.matrix usage is deprecated in 1.0 and will raise a TypeError in 1.2. Please convert to a numpy array with np.asarray. For more information see: https://numpy.org/doc/stable/reference/generated/numpy.matrix.html\n",
            "  FutureWarning,\n"
          ]
        },
        {
          "output_type": "stream",
          "name": "stdout",
          "text": [
            "[Pipeline] ... (step 1 of 7) Processing TweetNormalizer, total=   1.1s\n",
            "[Pipeline] .. (step 2 of 7) Processing FeatureExtractor, total=   4.9s\n",
            "[Pipeline] .. (step 3 of 7) Processing BigramVectorizer, total=   6.2s\n",
            "[Pipeline]  (step 4 of 7) Processing MatrixToArrayConverter, total=   0.0s\n",
            "[Pipeline] ..... (step 5 of 7) Processing OneHotEncoder, total=   0.4s\n",
            "[Pipeline] ..... (step 6 of 7) Processing MatrixUnifier, total=   0.0s\n"
          ]
        },
        {
          "output_type": "stream",
          "name": "stderr",
          "text": [
            "/usr/local/lib/python3.7/dist-packages/sklearn/utils/validation.py:598: FutureWarning: np.matrix usage is deprecated in 1.0 and will raise a TypeError in 1.2. Please convert to a numpy array with np.asarray. For more information see: https://numpy.org/doc/stable/reference/generated/numpy.matrix.html\n",
            "  FutureWarning,\n"
          ]
        },
        {
          "output_type": "stream",
          "name": "stdout",
          "text": [
            "[Pipeline] ............... (step 7 of 7) Processing CLF, total=  23.3s\n"
          ]
        },
        {
          "output_type": "stream",
          "name": "stderr",
          "text": [
            "/usr/local/lib/python3.7/dist-packages/sklearn/utils/validation.py:598: FutureWarning: np.matrix usage is deprecated in 1.0 and will raise a TypeError in 1.2. Please convert to a numpy array with np.asarray. For more information see: https://numpy.org/doc/stable/reference/generated/numpy.matrix.html\n",
            "  FutureWarning,\n"
          ]
        },
        {
          "output_type": "stream",
          "name": "stdout",
          "text": [
            "[Pipeline] ... (step 1 of 7) Processing TweetNormalizer, total=   1.1s\n",
            "[Pipeline] .. (step 2 of 7) Processing FeatureExtractor, total=   5.0s\n",
            "[Pipeline] .. (step 3 of 7) Processing BigramVectorizer, total=   6.3s\n",
            "[Pipeline]  (step 4 of 7) Processing MatrixToArrayConverter, total=   0.0s\n",
            "[Pipeline] ..... (step 5 of 7) Processing OneHotEncoder, total=   0.4s\n",
            "[Pipeline] ..... (step 6 of 7) Processing MatrixUnifier, total=   0.0s\n"
          ]
        },
        {
          "output_type": "stream",
          "name": "stderr",
          "text": [
            "/usr/local/lib/python3.7/dist-packages/sklearn/utils/validation.py:598: FutureWarning: np.matrix usage is deprecated in 1.0 and will raise a TypeError in 1.2. Please convert to a numpy array with np.asarray. For more information see: https://numpy.org/doc/stable/reference/generated/numpy.matrix.html\n",
            "  FutureWarning,\n"
          ]
        },
        {
          "output_type": "stream",
          "name": "stdout",
          "text": [
            "[Pipeline] ............... (step 7 of 7) Processing CLF, total= 1.1min\n"
          ]
        },
        {
          "output_type": "stream",
          "name": "stderr",
          "text": [
            "/usr/local/lib/python3.7/dist-packages/sklearn/utils/validation.py:598: FutureWarning: np.matrix usage is deprecated in 1.0 and will raise a TypeError in 1.2. Please convert to a numpy array with np.asarray. For more information see: https://numpy.org/doc/stable/reference/generated/numpy.matrix.html\n",
            "  FutureWarning,\n"
          ]
        },
        {
          "output_type": "stream",
          "name": "stdout",
          "text": [
            "[Pipeline] ... (step 1 of 7) Processing TweetNormalizer, total=   1.1s\n",
            "[Pipeline] .. (step 2 of 7) Processing FeatureExtractor, total=   5.0s\n",
            "[Pipeline] .. (step 3 of 7) Processing BigramVectorizer, total=   6.3s\n",
            "[Pipeline]  (step 4 of 7) Processing MatrixToArrayConverter, total=   0.0s\n",
            "[Pipeline] ..... (step 5 of 7) Processing OneHotEncoder, total=   0.4s\n",
            "[Pipeline] ..... (step 6 of 7) Processing MatrixUnifier, total=   0.0s\n"
          ]
        },
        {
          "output_type": "stream",
          "name": "stderr",
          "text": [
            "/usr/local/lib/python3.7/dist-packages/sklearn/utils/validation.py:598: FutureWarning: np.matrix usage is deprecated in 1.0 and will raise a TypeError in 1.2. Please convert to a numpy array with np.asarray. For more information see: https://numpy.org/doc/stable/reference/generated/numpy.matrix.html\n",
            "  FutureWarning,\n"
          ]
        },
        {
          "output_type": "stream",
          "name": "stdout",
          "text": [
            "[Pipeline] ............... (step 7 of 7) Processing CLF, total= 1.2min\n"
          ]
        },
        {
          "output_type": "stream",
          "name": "stderr",
          "text": [
            "/usr/local/lib/python3.7/dist-packages/sklearn/utils/validation.py:598: FutureWarning: np.matrix usage is deprecated in 1.0 and will raise a TypeError in 1.2. Please convert to a numpy array with np.asarray. For more information see: https://numpy.org/doc/stable/reference/generated/numpy.matrix.html\n",
            "  FutureWarning,\n"
          ]
        },
        {
          "output_type": "stream",
          "name": "stdout",
          "text": [
            "[Pipeline] ... (step 1 of 7) Processing TweetNormalizer, total=   1.1s\n",
            "[Pipeline] .. (step 2 of 7) Processing FeatureExtractor, total=   5.0s\n",
            "[Pipeline] .. (step 3 of 7) Processing BigramVectorizer, total=   6.2s\n",
            "[Pipeline]  (step 4 of 7) Processing MatrixToArrayConverter, total=   0.0s\n",
            "[Pipeline] ..... (step 5 of 7) Processing OneHotEncoder, total=   0.4s\n",
            "[Pipeline] ..... (step 6 of 7) Processing MatrixUnifier, total=   0.0s\n"
          ]
        },
        {
          "output_type": "stream",
          "name": "stderr",
          "text": [
            "/usr/local/lib/python3.7/dist-packages/sklearn/utils/validation.py:598: FutureWarning: np.matrix usage is deprecated in 1.0 and will raise a TypeError in 1.2. Please convert to a numpy array with np.asarray. For more information see: https://numpy.org/doc/stable/reference/generated/numpy.matrix.html\n",
            "  FutureWarning,\n"
          ]
        },
        {
          "output_type": "stream",
          "name": "stdout",
          "text": [
            "[Pipeline] ............... (step 7 of 7) Processing CLF, total= 1.1min\n"
          ]
        },
        {
          "output_type": "stream",
          "name": "stderr",
          "text": [
            "/usr/local/lib/python3.7/dist-packages/sklearn/utils/validation.py:598: FutureWarning: np.matrix usage is deprecated in 1.0 and will raise a TypeError in 1.2. Please convert to a numpy array with np.asarray. For more information see: https://numpy.org/doc/stable/reference/generated/numpy.matrix.html\n",
            "  FutureWarning,\n"
          ]
        },
        {
          "output_type": "stream",
          "name": "stdout",
          "text": [
            "[Pipeline] ... (step 1 of 7) Processing TweetNormalizer, total=   1.1s\n",
            "[Pipeline] .. (step 2 of 7) Processing FeatureExtractor, total=   5.0s\n",
            "[Pipeline] .. (step 3 of 7) Processing BigramVectorizer, total=   6.3s\n",
            "[Pipeline]  (step 4 of 7) Processing MatrixToArrayConverter, total=   0.0s\n",
            "[Pipeline] ..... (step 5 of 7) Processing OneHotEncoder, total=   0.4s\n",
            "[Pipeline] ..... (step 6 of 7) Processing MatrixUnifier, total=   0.0s\n"
          ]
        },
        {
          "output_type": "stream",
          "name": "stderr",
          "text": [
            "/usr/local/lib/python3.7/dist-packages/sklearn/utils/validation.py:598: FutureWarning: np.matrix usage is deprecated in 1.0 and will raise a TypeError in 1.2. Please convert to a numpy array with np.asarray. For more information see: https://numpy.org/doc/stable/reference/generated/numpy.matrix.html\n",
            "  FutureWarning,\n"
          ]
        },
        {
          "output_type": "stream",
          "name": "stdout",
          "text": [
            "[Pipeline] ............... (step 7 of 7) Processing CLF, total= 1.1min\n"
          ]
        },
        {
          "output_type": "stream",
          "name": "stderr",
          "text": [
            "/usr/local/lib/python3.7/dist-packages/sklearn/utils/validation.py:598: FutureWarning: np.matrix usage is deprecated in 1.0 and will raise a TypeError in 1.2. Please convert to a numpy array with np.asarray. For more information see: https://numpy.org/doc/stable/reference/generated/numpy.matrix.html\n",
            "  FutureWarning,\n"
          ]
        },
        {
          "output_type": "stream",
          "name": "stdout",
          "text": [
            "[Pipeline] ... (step 1 of 7) Processing TweetNormalizer, total=   1.1s\n",
            "[Pipeline] .. (step 2 of 7) Processing FeatureExtractor, total=   5.0s\n",
            "[Pipeline] .. (step 3 of 7) Processing BigramVectorizer, total=   6.2s\n",
            "[Pipeline]  (step 4 of 7) Processing MatrixToArrayConverter, total=   0.0s\n",
            "[Pipeline] ..... (step 5 of 7) Processing OneHotEncoder, total=   0.4s\n",
            "[Pipeline] ..... (step 6 of 7) Processing MatrixUnifier, total=   0.0s\n"
          ]
        },
        {
          "output_type": "stream",
          "name": "stderr",
          "text": [
            "/usr/local/lib/python3.7/dist-packages/sklearn/utils/validation.py:598: FutureWarning: np.matrix usage is deprecated in 1.0 and will raise a TypeError in 1.2. Please convert to a numpy array with np.asarray. For more information see: https://numpy.org/doc/stable/reference/generated/numpy.matrix.html\n",
            "  FutureWarning,\n"
          ]
        },
        {
          "output_type": "stream",
          "name": "stdout",
          "text": [
            "[Pipeline] ............... (step 7 of 7) Processing CLF, total= 1.1min\n"
          ]
        },
        {
          "output_type": "stream",
          "name": "stderr",
          "text": [
            "/usr/local/lib/python3.7/dist-packages/sklearn/utils/validation.py:598: FutureWarning: np.matrix usage is deprecated in 1.0 and will raise a TypeError in 1.2. Please convert to a numpy array with np.asarray. For more information see: https://numpy.org/doc/stable/reference/generated/numpy.matrix.html\n",
            "  FutureWarning,\n"
          ]
        },
        {
          "output_type": "stream",
          "name": "stdout",
          "text": [
            "[Pipeline] ... (step 1 of 7) Processing TweetNormalizer, total=   1.1s\n",
            "[Pipeline] .. (step 2 of 7) Processing FeatureExtractor, total=   5.0s\n",
            "[Pipeline] .. (step 3 of 7) Processing BigramVectorizer, total=   6.2s\n",
            "[Pipeline]  (step 4 of 7) Processing MatrixToArrayConverter, total=   0.0s\n",
            "[Pipeline] ..... (step 5 of 7) Processing OneHotEncoder, total=   0.4s\n",
            "[Pipeline] ..... (step 6 of 7) Processing MatrixUnifier, total=   0.0s\n"
          ]
        },
        {
          "output_type": "stream",
          "name": "stderr",
          "text": [
            "/usr/local/lib/python3.7/dist-packages/sklearn/utils/validation.py:598: FutureWarning: np.matrix usage is deprecated in 1.0 and will raise a TypeError in 1.2. Please convert to a numpy array with np.asarray. For more information see: https://numpy.org/doc/stable/reference/generated/numpy.matrix.html\n",
            "  FutureWarning,\n"
          ]
        },
        {
          "output_type": "stream",
          "name": "stdout",
          "text": [
            "[Pipeline] ............... (step 7 of 7) Processing CLF, total= 1.1min\n"
          ]
        },
        {
          "output_type": "stream",
          "name": "stderr",
          "text": [
            "/usr/local/lib/python3.7/dist-packages/sklearn/utils/validation.py:598: FutureWarning: np.matrix usage is deprecated in 1.0 and will raise a TypeError in 1.2. Please convert to a numpy array with np.asarray. For more information see: https://numpy.org/doc/stable/reference/generated/numpy.matrix.html\n",
            "  FutureWarning,\n"
          ]
        },
        {
          "output_type": "stream",
          "name": "stdout",
          "text": [
            "[Pipeline] ... (step 1 of 7) Processing TweetNormalizer, total=   1.1s\n",
            "[Pipeline] .. (step 2 of 7) Processing FeatureExtractor, total=   5.0s\n",
            "[Pipeline] .. (step 3 of 7) Processing BigramVectorizer, total=   6.2s\n",
            "[Pipeline]  (step 4 of 7) Processing MatrixToArrayConverter, total=   0.0s\n",
            "[Pipeline] ..... (step 5 of 7) Processing OneHotEncoder, total=   0.4s\n",
            "[Pipeline] ..... (step 6 of 7) Processing MatrixUnifier, total=   0.0s\n"
          ]
        },
        {
          "output_type": "stream",
          "name": "stderr",
          "text": [
            "/usr/local/lib/python3.7/dist-packages/sklearn/utils/validation.py:598: FutureWarning: np.matrix usage is deprecated in 1.0 and will raise a TypeError in 1.2. Please convert to a numpy array with np.asarray. For more information see: https://numpy.org/doc/stable/reference/generated/numpy.matrix.html\n",
            "  FutureWarning,\n"
          ]
        },
        {
          "output_type": "stream",
          "name": "stdout",
          "text": [
            "[Pipeline] ............... (step 7 of 7) Processing CLF, total= 1.1min\n"
          ]
        },
        {
          "output_type": "stream",
          "name": "stderr",
          "text": [
            "/usr/local/lib/python3.7/dist-packages/sklearn/utils/validation.py:598: FutureWarning: np.matrix usage is deprecated in 1.0 and will raise a TypeError in 1.2. Please convert to a numpy array with np.asarray. For more information see: https://numpy.org/doc/stable/reference/generated/numpy.matrix.html\n",
            "  FutureWarning,\n"
          ]
        },
        {
          "output_type": "stream",
          "name": "stdout",
          "text": [
            "[Pipeline] ... (step 1 of 7) Processing TweetNormalizer, total=   0.9s\n",
            "[Pipeline] .. (step 2 of 7) Processing FeatureExtractor, total=   4.1s\n",
            "[Pipeline] .. (step 3 of 7) Processing BigramVectorizer, total=   5.3s\n",
            "[Pipeline]  (step 4 of 7) Processing MatrixToArrayConverter, total=   0.0s\n",
            "[Pipeline] ..... (step 5 of 7) Processing OneHotEncoder, total=   0.3s\n",
            "[Pipeline] ..... (step 6 of 7) Processing MatrixUnifier, total=   0.0s\n"
          ]
        },
        {
          "output_type": "stream",
          "name": "stderr",
          "text": [
            "/usr/local/lib/python3.7/dist-packages/sklearn/utils/validation.py:598: FutureWarning: np.matrix usage is deprecated in 1.0 and will raise a TypeError in 1.2. Please convert to a numpy array with np.asarray. For more information see: https://numpy.org/doc/stable/reference/generated/numpy.matrix.html\n",
            "  FutureWarning,\n"
          ]
        },
        {
          "output_type": "stream",
          "name": "stdout",
          "text": [
            "[Pipeline] ............... (step 7 of 7) Processing CLF, total= 1.1min\n"
          ]
        },
        {
          "output_type": "stream",
          "name": "stderr",
          "text": [
            "/usr/local/lib/python3.7/dist-packages/sklearn/utils/validation.py:598: FutureWarning: np.matrix usage is deprecated in 1.0 and will raise a TypeError in 1.2. Please convert to a numpy array with np.asarray. For more information see: https://numpy.org/doc/stable/reference/generated/numpy.matrix.html\n",
            "  FutureWarning,\n"
          ]
        },
        {
          "output_type": "stream",
          "name": "stdout",
          "text": [
            "[Pipeline] ... (step 1 of 7) Processing TweetNormalizer, total=   1.1s\n",
            "[Pipeline] .. (step 2 of 7) Processing FeatureExtractor, total=   5.0s\n",
            "[Pipeline] .. (step 3 of 7) Processing BigramVectorizer, total=   6.1s\n",
            "[Pipeline]  (step 4 of 7) Processing MatrixToArrayConverter, total=   0.0s\n",
            "[Pipeline] ..... (step 5 of 7) Processing OneHotEncoder, total=   0.4s\n",
            "[Pipeline] ..... (step 6 of 7) Processing MatrixUnifier, total=   0.0s\n"
          ]
        },
        {
          "output_type": "stream",
          "name": "stderr",
          "text": [
            "/usr/local/lib/python3.7/dist-packages/sklearn/utils/validation.py:598: FutureWarning: np.matrix usage is deprecated in 1.0 and will raise a TypeError in 1.2. Please convert to a numpy array with np.asarray. For more information see: https://numpy.org/doc/stable/reference/generated/numpy.matrix.html\n",
            "  FutureWarning,\n"
          ]
        },
        {
          "output_type": "stream",
          "name": "stdout",
          "text": [
            "[Pipeline] ............... (step 7 of 7) Processing CLF, total= 1.2min\n"
          ]
        },
        {
          "output_type": "stream",
          "name": "stderr",
          "text": [
            "/usr/local/lib/python3.7/dist-packages/sklearn/utils/validation.py:598: FutureWarning: np.matrix usage is deprecated in 1.0 and will raise a TypeError in 1.2. Please convert to a numpy array with np.asarray. For more information see: https://numpy.org/doc/stable/reference/generated/numpy.matrix.html\n",
            "  FutureWarning,\n"
          ]
        },
        {
          "output_type": "stream",
          "name": "stdout",
          "text": [
            "[Pipeline] ... (step 1 of 7) Processing TweetNormalizer, total=   1.1s\n",
            "[Pipeline] .. (step 2 of 7) Processing FeatureExtractor, total=   4.9s\n",
            "[Pipeline] .. (step 3 of 7) Processing BigramVectorizer, total=   6.3s\n",
            "[Pipeline]  (step 4 of 7) Processing MatrixToArrayConverter, total=   0.0s\n",
            "[Pipeline] ..... (step 5 of 7) Processing OneHotEncoder, total=   0.4s\n",
            "[Pipeline] ..... (step 6 of 7) Processing MatrixUnifier, total=   0.0s\n"
          ]
        },
        {
          "output_type": "stream",
          "name": "stderr",
          "text": [
            "/usr/local/lib/python3.7/dist-packages/sklearn/utils/validation.py:598: FutureWarning: np.matrix usage is deprecated in 1.0 and will raise a TypeError in 1.2. Please convert to a numpy array with np.asarray. For more information see: https://numpy.org/doc/stable/reference/generated/numpy.matrix.html\n",
            "  FutureWarning,\n"
          ]
        },
        {
          "output_type": "stream",
          "name": "stdout",
          "text": [
            "[Pipeline] ............... (step 7 of 7) Processing CLF, total= 1.1min\n"
          ]
        },
        {
          "output_type": "stream",
          "name": "stderr",
          "text": [
            "/usr/local/lib/python3.7/dist-packages/sklearn/utils/validation.py:598: FutureWarning: np.matrix usage is deprecated in 1.0 and will raise a TypeError in 1.2. Please convert to a numpy array with np.asarray. For more information see: https://numpy.org/doc/stable/reference/generated/numpy.matrix.html\n",
            "  FutureWarning,\n"
          ]
        },
        {
          "output_type": "stream",
          "name": "stdout",
          "text": [
            "[Pipeline] ... (step 1 of 7) Processing TweetNormalizer, total=   1.3s\n",
            "[Pipeline] .. (step 2 of 7) Processing FeatureExtractor, total=   5.6s\n",
            "[Pipeline] .. (step 3 of 7) Processing BigramVectorizer, total=   6.9s\n",
            "[Pipeline]  (step 4 of 7) Processing MatrixToArrayConverter, total=   0.0s\n",
            "[Pipeline] ..... (step 5 of 7) Processing OneHotEncoder, total=   0.4s\n",
            "[Pipeline] ..... (step 6 of 7) Processing MatrixUnifier, total=   0.0s\n"
          ]
        },
        {
          "output_type": "stream",
          "name": "stderr",
          "text": [
            "/usr/local/lib/python3.7/dist-packages/sklearn/utils/validation.py:598: FutureWarning: np.matrix usage is deprecated in 1.0 and will raise a TypeError in 1.2. Please convert to a numpy array with np.asarray. For more information see: https://numpy.org/doc/stable/reference/generated/numpy.matrix.html\n",
            "  FutureWarning,\n"
          ]
        },
        {
          "output_type": "stream",
          "name": "stdout",
          "text": [
            "[Pipeline] ............... (step 7 of 7) Processing CLF, total=  24.5s\n",
            "------------------------------\n",
            "MLPClassifier\n",
            "{'CLF__hidden_layer_sizes': (50, 100), 'CLF__max_iter': (20,), 'CLF__activation': ('logistic', 'relu'), 'CLF__solver': ('sgd', 'adam'), 'CLF__early_stopping': (True, False)}\n",
            "args: [(2, 2), 'char_wb', 100, True]\n",
            "[Pipeline] ... (step 1 of 7) Processing TweetNormalizer, total=   1.1s\n",
            "[Pipeline] .. (step 2 of 7) Processing FeatureExtractor, total=   4.9s\n",
            "[Pipeline] .. (step 3 of 7) Processing BigramVectorizer, total=   6.2s\n",
            "[Pipeline]  (step 4 of 7) Processing MatrixToArrayConverter, total=   0.0s\n",
            "[Pipeline] ..... (step 5 of 7) Processing OneHotEncoder, total=   0.4s\n",
            "[Pipeline] ..... (step 6 of 7) Processing MatrixUnifier, total=   0.0s\n"
          ]
        },
        {
          "output_type": "stream",
          "name": "stderr",
          "text": [
            "/usr/local/lib/python3.7/dist-packages/sklearn/utils/validation.py:598: FutureWarning: np.matrix usage is deprecated in 1.0 and will raise a TypeError in 1.2. Please convert to a numpy array with np.asarray. For more information see: https://numpy.org/doc/stable/reference/generated/numpy.matrix.html\n",
            "  FutureWarning,\n",
            "/usr/local/lib/python3.7/dist-packages/sklearn/neural_network/_multilayer_perceptron.py:696: ConvergenceWarning: Stochastic Optimizer: Maximum iterations (20) reached and the optimization hasn't converged yet.\n",
            "  ConvergenceWarning,\n"
          ]
        },
        {
          "output_type": "stream",
          "name": "stdout",
          "text": [
            "[Pipeline] ............... (step 7 of 7) Processing CLF, total=   9.9s\n"
          ]
        },
        {
          "output_type": "stream",
          "name": "stderr",
          "text": [
            "/usr/local/lib/python3.7/dist-packages/sklearn/utils/validation.py:598: FutureWarning: np.matrix usage is deprecated in 1.0 and will raise a TypeError in 1.2. Please convert to a numpy array with np.asarray. For more information see: https://numpy.org/doc/stable/reference/generated/numpy.matrix.html\n",
            "  FutureWarning,\n"
          ]
        },
        {
          "output_type": "stream",
          "name": "stdout",
          "text": [
            "[Pipeline] ... (step 1 of 7) Processing TweetNormalizer, total=   1.1s\n",
            "[Pipeline] .. (step 2 of 7) Processing FeatureExtractor, total=   4.9s\n",
            "[Pipeline] .. (step 3 of 7) Processing BigramVectorizer, total=   6.2s\n",
            "[Pipeline]  (step 4 of 7) Processing MatrixToArrayConverter, total=   0.0s\n",
            "[Pipeline] ..... (step 5 of 7) Processing OneHotEncoder, total=   0.4s\n",
            "[Pipeline] ..... (step 6 of 7) Processing MatrixUnifier, total=   0.0s\n"
          ]
        },
        {
          "output_type": "stream",
          "name": "stderr",
          "text": [
            "/usr/local/lib/python3.7/dist-packages/sklearn/utils/validation.py:598: FutureWarning: np.matrix usage is deprecated in 1.0 and will raise a TypeError in 1.2. Please convert to a numpy array with np.asarray. For more information see: https://numpy.org/doc/stable/reference/generated/numpy.matrix.html\n",
            "  FutureWarning,\n",
            "/usr/local/lib/python3.7/dist-packages/sklearn/neural_network/_multilayer_perceptron.py:696: ConvergenceWarning: Stochastic Optimizer: Maximum iterations (20) reached and the optimization hasn't converged yet.\n",
            "  ConvergenceWarning,\n"
          ]
        },
        {
          "output_type": "stream",
          "name": "stdout",
          "text": [
            "[Pipeline] ............... (step 7 of 7) Processing CLF, total=  10.0s\n"
          ]
        },
        {
          "output_type": "stream",
          "name": "stderr",
          "text": [
            "/usr/local/lib/python3.7/dist-packages/sklearn/utils/validation.py:598: FutureWarning: np.matrix usage is deprecated in 1.0 and will raise a TypeError in 1.2. Please convert to a numpy array with np.asarray. For more information see: https://numpy.org/doc/stable/reference/generated/numpy.matrix.html\n",
            "  FutureWarning,\n"
          ]
        },
        {
          "output_type": "stream",
          "name": "stdout",
          "text": [
            "[Pipeline] ... (step 1 of 7) Processing TweetNormalizer, total=   1.1s\n",
            "[Pipeline] .. (step 2 of 7) Processing FeatureExtractor, total=   5.0s\n",
            "[Pipeline] .. (step 3 of 7) Processing BigramVectorizer, total=   6.2s\n",
            "[Pipeline]  (step 4 of 7) Processing MatrixToArrayConverter, total=   0.0s\n",
            "[Pipeline] ..... (step 5 of 7) Processing OneHotEncoder, total=   0.4s\n",
            "[Pipeline] ..... (step 6 of 7) Processing MatrixUnifier, total=   0.0s\n"
          ]
        },
        {
          "output_type": "stream",
          "name": "stderr",
          "text": [
            "/usr/local/lib/python3.7/dist-packages/sklearn/utils/validation.py:598: FutureWarning: np.matrix usage is deprecated in 1.0 and will raise a TypeError in 1.2. Please convert to a numpy array with np.asarray. For more information see: https://numpy.org/doc/stable/reference/generated/numpy.matrix.html\n",
            "  FutureWarning,\n",
            "/usr/local/lib/python3.7/dist-packages/sklearn/neural_network/_multilayer_perceptron.py:696: ConvergenceWarning: Stochastic Optimizer: Maximum iterations (20) reached and the optimization hasn't converged yet.\n",
            "  ConvergenceWarning,\n"
          ]
        },
        {
          "output_type": "stream",
          "name": "stdout",
          "text": [
            "[Pipeline] ............... (step 7 of 7) Processing CLF, total=  10.0s\n"
          ]
        },
        {
          "output_type": "stream",
          "name": "stderr",
          "text": [
            "/usr/local/lib/python3.7/dist-packages/sklearn/utils/validation.py:598: FutureWarning: np.matrix usage is deprecated in 1.0 and will raise a TypeError in 1.2. Please convert to a numpy array with np.asarray. For more information see: https://numpy.org/doc/stable/reference/generated/numpy.matrix.html\n",
            "  FutureWarning,\n"
          ]
        },
        {
          "output_type": "stream",
          "name": "stdout",
          "text": [
            "[Pipeline] ... (step 1 of 7) Processing TweetNormalizer, total=   1.1s\n",
            "[Pipeline] .. (step 2 of 7) Processing FeatureExtractor, total=   4.9s\n",
            "[Pipeline] .. (step 3 of 7) Processing BigramVectorizer, total=   6.2s\n",
            "[Pipeline]  (step 4 of 7) Processing MatrixToArrayConverter, total=   0.0s\n",
            "[Pipeline] ..... (step 5 of 7) Processing OneHotEncoder, total=   0.4s\n",
            "[Pipeline] ..... (step 6 of 7) Processing MatrixUnifier, total=   0.0s\n"
          ]
        },
        {
          "output_type": "stream",
          "name": "stderr",
          "text": [
            "/usr/local/lib/python3.7/dist-packages/sklearn/utils/validation.py:598: FutureWarning: np.matrix usage is deprecated in 1.0 and will raise a TypeError in 1.2. Please convert to a numpy array with np.asarray. For more information see: https://numpy.org/doc/stable/reference/generated/numpy.matrix.html\n",
            "  FutureWarning,\n",
            "/usr/local/lib/python3.7/dist-packages/sklearn/neural_network/_multilayer_perceptron.py:696: ConvergenceWarning: Stochastic Optimizer: Maximum iterations (20) reached and the optimization hasn't converged yet.\n",
            "  ConvergenceWarning,\n"
          ]
        },
        {
          "output_type": "stream",
          "name": "stdout",
          "text": [
            "[Pipeline] ............... (step 7 of 7) Processing CLF, total=   9.9s\n"
          ]
        },
        {
          "output_type": "stream",
          "name": "stderr",
          "text": [
            "/usr/local/lib/python3.7/dist-packages/sklearn/utils/validation.py:598: FutureWarning: np.matrix usage is deprecated in 1.0 and will raise a TypeError in 1.2. Please convert to a numpy array with np.asarray. For more information see: https://numpy.org/doc/stable/reference/generated/numpy.matrix.html\n",
            "  FutureWarning,\n"
          ]
        },
        {
          "output_type": "stream",
          "name": "stdout",
          "text": [
            "[Pipeline] ... (step 1 of 7) Processing TweetNormalizer, total=   1.1s\n",
            "[Pipeline] .. (step 2 of 7) Processing FeatureExtractor, total=   4.9s\n",
            "[Pipeline] .. (step 3 of 7) Processing BigramVectorizer, total=   6.2s\n",
            "[Pipeline]  (step 4 of 7) Processing MatrixToArrayConverter, total=   0.0s\n",
            "[Pipeline] ..... (step 5 of 7) Processing OneHotEncoder, total=   0.3s\n",
            "[Pipeline] ..... (step 6 of 7) Processing MatrixUnifier, total=   0.0s\n"
          ]
        },
        {
          "output_type": "stream",
          "name": "stderr",
          "text": [
            "/usr/local/lib/python3.7/dist-packages/sklearn/utils/validation.py:598: FutureWarning: np.matrix usage is deprecated in 1.0 and will raise a TypeError in 1.2. Please convert to a numpy array with np.asarray. For more information see: https://numpy.org/doc/stable/reference/generated/numpy.matrix.html\n",
            "  FutureWarning,\n",
            "/usr/local/lib/python3.7/dist-packages/sklearn/neural_network/_multilayer_perceptron.py:696: ConvergenceWarning: Stochastic Optimizer: Maximum iterations (20) reached and the optimization hasn't converged yet.\n",
            "  ConvergenceWarning,\n"
          ]
        },
        {
          "output_type": "stream",
          "name": "stdout",
          "text": [
            "[Pipeline] ............... (step 7 of 7) Processing CLF, total=  10.1s\n"
          ]
        },
        {
          "output_type": "stream",
          "name": "stderr",
          "text": [
            "/usr/local/lib/python3.7/dist-packages/sklearn/utils/validation.py:598: FutureWarning: np.matrix usage is deprecated in 1.0 and will raise a TypeError in 1.2. Please convert to a numpy array with np.asarray. For more information see: https://numpy.org/doc/stable/reference/generated/numpy.matrix.html\n",
            "  FutureWarning,\n"
          ]
        },
        {
          "output_type": "stream",
          "name": "stdout",
          "text": [
            "[Pipeline] ... (step 1 of 7) Processing TweetNormalizer, total=   1.1s\n",
            "[Pipeline] .. (step 2 of 7) Processing FeatureExtractor, total=   4.9s\n",
            "[Pipeline] .. (step 3 of 7) Processing BigramVectorizer, total=   6.3s\n",
            "[Pipeline]  (step 4 of 7) Processing MatrixToArrayConverter, total=   0.0s\n",
            "[Pipeline] ..... (step 5 of 7) Processing OneHotEncoder, total=   0.4s\n",
            "[Pipeline] ..... (step 6 of 7) Processing MatrixUnifier, total=   0.0s\n"
          ]
        },
        {
          "output_type": "stream",
          "name": "stderr",
          "text": [
            "/usr/local/lib/python3.7/dist-packages/sklearn/utils/validation.py:598: FutureWarning: np.matrix usage is deprecated in 1.0 and will raise a TypeError in 1.2. Please convert to a numpy array with np.asarray. For more information see: https://numpy.org/doc/stable/reference/generated/numpy.matrix.html\n",
            "  FutureWarning,\n",
            "/usr/local/lib/python3.7/dist-packages/sklearn/neural_network/_multilayer_perceptron.py:696: ConvergenceWarning: Stochastic Optimizer: Maximum iterations (20) reached and the optimization hasn't converged yet.\n",
            "  ConvergenceWarning,\n"
          ]
        },
        {
          "output_type": "stream",
          "name": "stdout",
          "text": [
            "[Pipeline] ............... (step 7 of 7) Processing CLF, total=  10.7s\n"
          ]
        },
        {
          "output_type": "stream",
          "name": "stderr",
          "text": [
            "/usr/local/lib/python3.7/dist-packages/sklearn/utils/validation.py:598: FutureWarning: np.matrix usage is deprecated in 1.0 and will raise a TypeError in 1.2. Please convert to a numpy array with np.asarray. For more information see: https://numpy.org/doc/stable/reference/generated/numpy.matrix.html\n",
            "  FutureWarning,\n"
          ]
        },
        {
          "output_type": "stream",
          "name": "stdout",
          "text": [
            "[Pipeline] ... (step 1 of 7) Processing TweetNormalizer, total=   1.1s\n",
            "[Pipeline] .. (step 2 of 7) Processing FeatureExtractor, total=   5.0s\n",
            "[Pipeline] .. (step 3 of 7) Processing BigramVectorizer, total=   6.2s\n",
            "[Pipeline]  (step 4 of 7) Processing MatrixToArrayConverter, total=   0.0s\n",
            "[Pipeline] ..... (step 5 of 7) Processing OneHotEncoder, total=   0.4s\n",
            "[Pipeline] ..... (step 6 of 7) Processing MatrixUnifier, total=   0.0s\n"
          ]
        },
        {
          "output_type": "stream",
          "name": "stderr",
          "text": [
            "/usr/local/lib/python3.7/dist-packages/sklearn/utils/validation.py:598: FutureWarning: np.matrix usage is deprecated in 1.0 and will raise a TypeError in 1.2. Please convert to a numpy array with np.asarray. For more information see: https://numpy.org/doc/stable/reference/generated/numpy.matrix.html\n",
            "  FutureWarning,\n",
            "/usr/local/lib/python3.7/dist-packages/sklearn/neural_network/_multilayer_perceptron.py:696: ConvergenceWarning: Stochastic Optimizer: Maximum iterations (20) reached and the optimization hasn't converged yet.\n",
            "  ConvergenceWarning,\n"
          ]
        },
        {
          "output_type": "stream",
          "name": "stdout",
          "text": [
            "[Pipeline] ............... (step 7 of 7) Processing CLF, total=  10.1s\n"
          ]
        },
        {
          "output_type": "stream",
          "name": "stderr",
          "text": [
            "/usr/local/lib/python3.7/dist-packages/sklearn/utils/validation.py:598: FutureWarning: np.matrix usage is deprecated in 1.0 and will raise a TypeError in 1.2. Please convert to a numpy array with np.asarray. For more information see: https://numpy.org/doc/stable/reference/generated/numpy.matrix.html\n",
            "  FutureWarning,\n"
          ]
        },
        {
          "output_type": "stream",
          "name": "stdout",
          "text": [
            "[Pipeline] ... (step 1 of 7) Processing TweetNormalizer, total=   0.9s\n",
            "[Pipeline] .. (step 2 of 7) Processing FeatureExtractor, total=   4.1s\n",
            "[Pipeline] .. (step 3 of 7) Processing BigramVectorizer, total=   5.4s\n",
            "[Pipeline]  (step 4 of 7) Processing MatrixToArrayConverter, total=   0.0s\n",
            "[Pipeline] ..... (step 5 of 7) Processing OneHotEncoder, total=   0.4s\n",
            "[Pipeline] ..... (step 6 of 7) Processing MatrixUnifier, total=   0.0s\n"
          ]
        },
        {
          "output_type": "stream",
          "name": "stderr",
          "text": [
            "/usr/local/lib/python3.7/dist-packages/sklearn/utils/validation.py:598: FutureWarning: np.matrix usage is deprecated in 1.0 and will raise a TypeError in 1.2. Please convert to a numpy array with np.asarray. For more information see: https://numpy.org/doc/stable/reference/generated/numpy.matrix.html\n",
            "  FutureWarning,\n",
            "/usr/local/lib/python3.7/dist-packages/sklearn/neural_network/_multilayer_perceptron.py:696: ConvergenceWarning: Stochastic Optimizer: Maximum iterations (20) reached and the optimization hasn't converged yet.\n",
            "  ConvergenceWarning,\n"
          ]
        },
        {
          "output_type": "stream",
          "name": "stdout",
          "text": [
            "[Pipeline] ............... (step 7 of 7) Processing CLF, total=  10.2s\n"
          ]
        },
        {
          "output_type": "stream",
          "name": "stderr",
          "text": [
            "/usr/local/lib/python3.7/dist-packages/sklearn/utils/validation.py:598: FutureWarning: np.matrix usage is deprecated in 1.0 and will raise a TypeError in 1.2. Please convert to a numpy array with np.asarray. For more information see: https://numpy.org/doc/stable/reference/generated/numpy.matrix.html\n",
            "  FutureWarning,\n"
          ]
        },
        {
          "output_type": "stream",
          "name": "stdout",
          "text": [
            "[Pipeline] ... (step 1 of 7) Processing TweetNormalizer, total=   1.1s\n",
            "[Pipeline] .. (step 2 of 7) Processing FeatureExtractor, total=   5.0s\n",
            "[Pipeline] .. (step 3 of 7) Processing BigramVectorizer, total=   6.2s\n",
            "[Pipeline]  (step 4 of 7) Processing MatrixToArrayConverter, total=   0.0s\n",
            "[Pipeline] ..... (step 5 of 7) Processing OneHotEncoder, total=   0.4s\n",
            "[Pipeline] ..... (step 6 of 7) Processing MatrixUnifier, total=   0.0s\n"
          ]
        },
        {
          "output_type": "stream",
          "name": "stderr",
          "text": [
            "/usr/local/lib/python3.7/dist-packages/sklearn/utils/validation.py:598: FutureWarning: np.matrix usage is deprecated in 1.0 and will raise a TypeError in 1.2. Please convert to a numpy array with np.asarray. For more information see: https://numpy.org/doc/stable/reference/generated/numpy.matrix.html\n",
            "  FutureWarning,\n",
            "/usr/local/lib/python3.7/dist-packages/sklearn/neural_network/_multilayer_perceptron.py:696: ConvergenceWarning: Stochastic Optimizer: Maximum iterations (20) reached and the optimization hasn't converged yet.\n",
            "  ConvergenceWarning,\n"
          ]
        },
        {
          "output_type": "stream",
          "name": "stdout",
          "text": [
            "[Pipeline] ............... (step 7 of 7) Processing CLF, total=  10.3s\n"
          ]
        },
        {
          "output_type": "stream",
          "name": "stderr",
          "text": [
            "/usr/local/lib/python3.7/dist-packages/sklearn/utils/validation.py:598: FutureWarning: np.matrix usage is deprecated in 1.0 and will raise a TypeError in 1.2. Please convert to a numpy array with np.asarray. For more information see: https://numpy.org/doc/stable/reference/generated/numpy.matrix.html\n",
            "  FutureWarning,\n"
          ]
        },
        {
          "output_type": "stream",
          "name": "stdout",
          "text": [
            "[Pipeline] ... (step 1 of 7) Processing TweetNormalizer, total=   1.4s\n",
            "[Pipeline] .. (step 2 of 7) Processing FeatureExtractor, total=   5.8s\n",
            "[Pipeline] .. (step 3 of 7) Processing BigramVectorizer, total=   6.5s\n",
            "[Pipeline]  (step 4 of 7) Processing MatrixToArrayConverter, total=   0.0s\n",
            "[Pipeline] ..... (step 5 of 7) Processing OneHotEncoder, total=   0.4s\n",
            "[Pipeline] ..... (step 6 of 7) Processing MatrixUnifier, total=   0.0s\n"
          ]
        },
        {
          "output_type": "stream",
          "name": "stderr",
          "text": [
            "/usr/local/lib/python3.7/dist-packages/sklearn/utils/validation.py:598: FutureWarning: np.matrix usage is deprecated in 1.0 and will raise a TypeError in 1.2. Please convert to a numpy array with np.asarray. For more information see: https://numpy.org/doc/stable/reference/generated/numpy.matrix.html\n",
            "  FutureWarning,\n",
            "/usr/local/lib/python3.7/dist-packages/sklearn/neural_network/_multilayer_perceptron.py:696: ConvergenceWarning: Stochastic Optimizer: Maximum iterations (20) reached and the optimization hasn't converged yet.\n",
            "  ConvergenceWarning,\n"
          ]
        },
        {
          "output_type": "stream",
          "name": "stdout",
          "text": [
            "[Pipeline] ............... (step 7 of 7) Processing CLF, total=  10.3s\n"
          ]
        },
        {
          "output_type": "stream",
          "name": "stderr",
          "text": [
            "/usr/local/lib/python3.7/dist-packages/sklearn/utils/validation.py:598: FutureWarning: np.matrix usage is deprecated in 1.0 and will raise a TypeError in 1.2. Please convert to a numpy array with np.asarray. For more information see: https://numpy.org/doc/stable/reference/generated/numpy.matrix.html\n",
            "  FutureWarning,\n"
          ]
        },
        {
          "output_type": "stream",
          "name": "stdout",
          "text": [
            "[Pipeline] ... (step 1 of 7) Processing TweetNormalizer, total=   1.2s\n",
            "[Pipeline] .. (step 2 of 7) Processing FeatureExtractor, total=   5.2s\n",
            "[Pipeline] .. (step 3 of 7) Processing BigramVectorizer, total=   6.3s\n",
            "[Pipeline]  (step 4 of 7) Processing MatrixToArrayConverter, total=   0.0s\n",
            "[Pipeline] ..... (step 5 of 7) Processing OneHotEncoder, total=   0.4s\n",
            "[Pipeline] ..... (step 6 of 7) Processing MatrixUnifier, total=   0.0s\n"
          ]
        },
        {
          "output_type": "stream",
          "name": "stderr",
          "text": [
            "/usr/local/lib/python3.7/dist-packages/sklearn/utils/validation.py:598: FutureWarning: np.matrix usage is deprecated in 1.0 and will raise a TypeError in 1.2. Please convert to a numpy array with np.asarray. For more information see: https://numpy.org/doc/stable/reference/generated/numpy.matrix.html\n",
            "  FutureWarning,\n",
            "/usr/local/lib/python3.7/dist-packages/sklearn/neural_network/_multilayer_perceptron.py:696: ConvergenceWarning: Stochastic Optimizer: Maximum iterations (20) reached and the optimization hasn't converged yet.\n",
            "  ConvergenceWarning,\n"
          ]
        },
        {
          "output_type": "stream",
          "name": "stdout",
          "text": [
            "[Pipeline] ............... (step 7 of 7) Processing CLF, total=  10.9s\n"
          ]
        },
        {
          "output_type": "stream",
          "name": "stderr",
          "text": [
            "/usr/local/lib/python3.7/dist-packages/sklearn/utils/validation.py:598: FutureWarning: np.matrix usage is deprecated in 1.0 and will raise a TypeError in 1.2. Please convert to a numpy array with np.asarray. For more information see: https://numpy.org/doc/stable/reference/generated/numpy.matrix.html\n",
            "  FutureWarning,\n"
          ]
        },
        {
          "output_type": "stream",
          "name": "stdout",
          "text": [
            "[Pipeline] ... (step 1 of 7) Processing TweetNormalizer, total=   1.1s\n",
            "[Pipeline] .. (step 2 of 7) Processing FeatureExtractor, total=   5.0s\n",
            "[Pipeline] .. (step 3 of 7) Processing BigramVectorizer, total=   6.4s\n",
            "[Pipeline]  (step 4 of 7) Processing MatrixToArrayConverter, total=   0.0s\n",
            "[Pipeline] ..... (step 5 of 7) Processing OneHotEncoder, total=   0.4s\n",
            "[Pipeline] ..... (step 6 of 7) Processing MatrixUnifier, total=   0.0s\n"
          ]
        },
        {
          "output_type": "stream",
          "name": "stderr",
          "text": [
            "/usr/local/lib/python3.7/dist-packages/sklearn/utils/validation.py:598: FutureWarning: np.matrix usage is deprecated in 1.0 and will raise a TypeError in 1.2. Please convert to a numpy array with np.asarray. For more information see: https://numpy.org/doc/stable/reference/generated/numpy.matrix.html\n",
            "  FutureWarning,\n",
            "/usr/local/lib/python3.7/dist-packages/sklearn/neural_network/_multilayer_perceptron.py:696: ConvergenceWarning: Stochastic Optimizer: Maximum iterations (20) reached and the optimization hasn't converged yet.\n",
            "  ConvergenceWarning,\n"
          ]
        },
        {
          "output_type": "stream",
          "name": "stdout",
          "text": [
            "[Pipeline] ............... (step 7 of 7) Processing CLF, total=  10.7s\n"
          ]
        },
        {
          "output_type": "stream",
          "name": "stderr",
          "text": [
            "/usr/local/lib/python3.7/dist-packages/sklearn/utils/validation.py:598: FutureWarning: np.matrix usage is deprecated in 1.0 and will raise a TypeError in 1.2. Please convert to a numpy array with np.asarray. For more information see: https://numpy.org/doc/stable/reference/generated/numpy.matrix.html\n",
            "  FutureWarning,\n"
          ]
        },
        {
          "output_type": "stream",
          "name": "stdout",
          "text": [
            "[Pipeline] ... (step 1 of 7) Processing TweetNormalizer, total=   1.1s\n",
            "[Pipeline] .. (step 2 of 7) Processing FeatureExtractor, total=   5.0s\n",
            "[Pipeline] .. (step 3 of 7) Processing BigramVectorizer, total=   6.3s\n",
            "[Pipeline]  (step 4 of 7) Processing MatrixToArrayConverter, total=   0.0s\n",
            "[Pipeline] ..... (step 5 of 7) Processing OneHotEncoder, total=   0.4s\n",
            "[Pipeline] ..... (step 6 of 7) Processing MatrixUnifier, total=   0.0s\n"
          ]
        },
        {
          "output_type": "stream",
          "name": "stderr",
          "text": [
            "/usr/local/lib/python3.7/dist-packages/sklearn/utils/validation.py:598: FutureWarning: np.matrix usage is deprecated in 1.0 and will raise a TypeError in 1.2. Please convert to a numpy array with np.asarray. For more information see: https://numpy.org/doc/stable/reference/generated/numpy.matrix.html\n",
            "  FutureWarning,\n",
            "/usr/local/lib/python3.7/dist-packages/sklearn/neural_network/_multilayer_perceptron.py:696: ConvergenceWarning: Stochastic Optimizer: Maximum iterations (20) reached and the optimization hasn't converged yet.\n",
            "  ConvergenceWarning,\n"
          ]
        },
        {
          "output_type": "stream",
          "name": "stdout",
          "text": [
            "[Pipeline] ............... (step 7 of 7) Processing CLF, total=  10.7s\n"
          ]
        },
        {
          "output_type": "stream",
          "name": "stderr",
          "text": [
            "/usr/local/lib/python3.7/dist-packages/sklearn/utils/validation.py:598: FutureWarning: np.matrix usage is deprecated in 1.0 and will raise a TypeError in 1.2. Please convert to a numpy array with np.asarray. For more information see: https://numpy.org/doc/stable/reference/generated/numpy.matrix.html\n",
            "  FutureWarning,\n"
          ]
        },
        {
          "output_type": "stream",
          "name": "stdout",
          "text": [
            "[Pipeline] ... (step 1 of 7) Processing TweetNormalizer, total=   1.1s\n",
            "[Pipeline] .. (step 2 of 7) Processing FeatureExtractor, total=   5.0s\n",
            "[Pipeline] .. (step 3 of 7) Processing BigramVectorizer, total=   6.4s\n",
            "[Pipeline]  (step 4 of 7) Processing MatrixToArrayConverter, total=   0.0s\n",
            "[Pipeline] ..... (step 5 of 7) Processing OneHotEncoder, total=   0.4s\n",
            "[Pipeline] ..... (step 6 of 7) Processing MatrixUnifier, total=   0.0s\n"
          ]
        },
        {
          "output_type": "stream",
          "name": "stderr",
          "text": [
            "/usr/local/lib/python3.7/dist-packages/sklearn/utils/validation.py:598: FutureWarning: np.matrix usage is deprecated in 1.0 and will raise a TypeError in 1.2. Please convert to a numpy array with np.asarray. For more information see: https://numpy.org/doc/stable/reference/generated/numpy.matrix.html\n",
            "  FutureWarning,\n",
            "/usr/local/lib/python3.7/dist-packages/sklearn/neural_network/_multilayer_perceptron.py:696: ConvergenceWarning: Stochastic Optimizer: Maximum iterations (20) reached and the optimization hasn't converged yet.\n",
            "  ConvergenceWarning,\n"
          ]
        },
        {
          "output_type": "stream",
          "name": "stdout",
          "text": [
            "[Pipeline] ............... (step 7 of 7) Processing CLF, total=  10.6s\n"
          ]
        },
        {
          "output_type": "stream",
          "name": "stderr",
          "text": [
            "/usr/local/lib/python3.7/dist-packages/sklearn/utils/validation.py:598: FutureWarning: np.matrix usage is deprecated in 1.0 and will raise a TypeError in 1.2. Please convert to a numpy array with np.asarray. For more information see: https://numpy.org/doc/stable/reference/generated/numpy.matrix.html\n",
            "  FutureWarning,\n"
          ]
        },
        {
          "output_type": "stream",
          "name": "stdout",
          "text": [
            "[Pipeline] ... (step 1 of 7) Processing TweetNormalizer, total=   1.1s\n",
            "[Pipeline] .. (step 2 of 7) Processing FeatureExtractor, total=   4.9s\n",
            "[Pipeline] .. (step 3 of 7) Processing BigramVectorizer, total=   6.1s\n",
            "[Pipeline]  (step 4 of 7) Processing MatrixToArrayConverter, total=   0.0s\n",
            "[Pipeline] ..... (step 5 of 7) Processing OneHotEncoder, total=   0.4s\n",
            "[Pipeline] ..... (step 6 of 7) Processing MatrixUnifier, total=   0.0s\n"
          ]
        },
        {
          "output_type": "stream",
          "name": "stderr",
          "text": [
            "/usr/local/lib/python3.7/dist-packages/sklearn/utils/validation.py:598: FutureWarning: np.matrix usage is deprecated in 1.0 and will raise a TypeError in 1.2. Please convert to a numpy array with np.asarray. For more information see: https://numpy.org/doc/stable/reference/generated/numpy.matrix.html\n",
            "  FutureWarning,\n",
            "/usr/local/lib/python3.7/dist-packages/sklearn/neural_network/_multilayer_perceptron.py:696: ConvergenceWarning: Stochastic Optimizer: Maximum iterations (20) reached and the optimization hasn't converged yet.\n",
            "  ConvergenceWarning,\n"
          ]
        },
        {
          "output_type": "stream",
          "name": "stdout",
          "text": [
            "[Pipeline] ............... (step 7 of 7) Processing CLF, total=  10.6s\n"
          ]
        },
        {
          "output_type": "stream",
          "name": "stderr",
          "text": [
            "/usr/local/lib/python3.7/dist-packages/sklearn/utils/validation.py:598: FutureWarning: np.matrix usage is deprecated in 1.0 and will raise a TypeError in 1.2. Please convert to a numpy array with np.asarray. For more information see: https://numpy.org/doc/stable/reference/generated/numpy.matrix.html\n",
            "  FutureWarning,\n"
          ]
        },
        {
          "output_type": "stream",
          "name": "stdout",
          "text": [
            "[Pipeline] ... (step 1 of 7) Processing TweetNormalizer, total=   1.1s\n",
            "[Pipeline] .. (step 2 of 7) Processing FeatureExtractor, total=   4.9s\n",
            "[Pipeline] .. (step 3 of 7) Processing BigramVectorizer, total=   6.3s\n",
            "[Pipeline]  (step 4 of 7) Processing MatrixToArrayConverter, total=   0.0s\n",
            "[Pipeline] ..... (step 5 of 7) Processing OneHotEncoder, total=   0.4s\n",
            "[Pipeline] ..... (step 6 of 7) Processing MatrixUnifier, total=   0.0s\n"
          ]
        },
        {
          "output_type": "stream",
          "name": "stderr",
          "text": [
            "/usr/local/lib/python3.7/dist-packages/sklearn/utils/validation.py:598: FutureWarning: np.matrix usage is deprecated in 1.0 and will raise a TypeError in 1.2. Please convert to a numpy array with np.asarray. For more information see: https://numpy.org/doc/stable/reference/generated/numpy.matrix.html\n",
            "  FutureWarning,\n",
            "/usr/local/lib/python3.7/dist-packages/sklearn/neural_network/_multilayer_perceptron.py:696: ConvergenceWarning: Stochastic Optimizer: Maximum iterations (20) reached and the optimization hasn't converged yet.\n",
            "  ConvergenceWarning,\n"
          ]
        },
        {
          "output_type": "stream",
          "name": "stdout",
          "text": [
            "[Pipeline] ............... (step 7 of 7) Processing CLF, total=  10.6s\n"
          ]
        },
        {
          "output_type": "stream",
          "name": "stderr",
          "text": [
            "/usr/local/lib/python3.7/dist-packages/sklearn/utils/validation.py:598: FutureWarning: np.matrix usage is deprecated in 1.0 and will raise a TypeError in 1.2. Please convert to a numpy array with np.asarray. For more information see: https://numpy.org/doc/stable/reference/generated/numpy.matrix.html\n",
            "  FutureWarning,\n"
          ]
        },
        {
          "output_type": "stream",
          "name": "stdout",
          "text": [
            "[Pipeline] ... (step 1 of 7) Processing TweetNormalizer, total=   1.1s\n",
            "[Pipeline] .. (step 2 of 7) Processing FeatureExtractor, total=   5.0s\n",
            "[Pipeline] .. (step 3 of 7) Processing BigramVectorizer, total=   6.2s\n",
            "[Pipeline]  (step 4 of 7) Processing MatrixToArrayConverter, total=   0.0s\n",
            "[Pipeline] ..... (step 5 of 7) Processing OneHotEncoder, total=   0.4s\n",
            "[Pipeline] ..... (step 6 of 7) Processing MatrixUnifier, total=   0.0s\n"
          ]
        },
        {
          "output_type": "stream",
          "name": "stderr",
          "text": [
            "/usr/local/lib/python3.7/dist-packages/sklearn/utils/validation.py:598: FutureWarning: np.matrix usage is deprecated in 1.0 and will raise a TypeError in 1.2. Please convert to a numpy array with np.asarray. For more information see: https://numpy.org/doc/stable/reference/generated/numpy.matrix.html\n",
            "  FutureWarning,\n",
            "/usr/local/lib/python3.7/dist-packages/sklearn/neural_network/_multilayer_perceptron.py:696: ConvergenceWarning: Stochastic Optimizer: Maximum iterations (20) reached and the optimization hasn't converged yet.\n",
            "  ConvergenceWarning,\n"
          ]
        },
        {
          "output_type": "stream",
          "name": "stdout",
          "text": [
            "[Pipeline] ............... (step 7 of 7) Processing CLF, total=  10.3s\n"
          ]
        },
        {
          "output_type": "stream",
          "name": "stderr",
          "text": [
            "/usr/local/lib/python3.7/dist-packages/sklearn/utils/validation.py:598: FutureWarning: np.matrix usage is deprecated in 1.0 and will raise a TypeError in 1.2. Please convert to a numpy array with np.asarray. For more information see: https://numpy.org/doc/stable/reference/generated/numpy.matrix.html\n",
            "  FutureWarning,\n"
          ]
        },
        {
          "output_type": "stream",
          "name": "stdout",
          "text": [
            "[Pipeline] ... (step 1 of 7) Processing TweetNormalizer, total=   0.8s\n",
            "[Pipeline] .. (step 2 of 7) Processing FeatureExtractor, total=   4.2s\n",
            "[Pipeline] .. (step 3 of 7) Processing BigramVectorizer, total=   5.3s\n",
            "[Pipeline]  (step 4 of 7) Processing MatrixToArrayConverter, total=   0.0s\n",
            "[Pipeline] ..... (step 5 of 7) Processing OneHotEncoder, total=   0.4s\n",
            "[Pipeline] ..... (step 6 of 7) Processing MatrixUnifier, total=   0.0s\n"
          ]
        },
        {
          "output_type": "stream",
          "name": "stderr",
          "text": [
            "/usr/local/lib/python3.7/dist-packages/sklearn/utils/validation.py:598: FutureWarning: np.matrix usage is deprecated in 1.0 and will raise a TypeError in 1.2. Please convert to a numpy array with np.asarray. For more information see: https://numpy.org/doc/stable/reference/generated/numpy.matrix.html\n",
            "  FutureWarning,\n",
            "/usr/local/lib/python3.7/dist-packages/sklearn/neural_network/_multilayer_perceptron.py:696: ConvergenceWarning: Stochastic Optimizer: Maximum iterations (20) reached and the optimization hasn't converged yet.\n",
            "  ConvergenceWarning,\n"
          ]
        },
        {
          "output_type": "stream",
          "name": "stdout",
          "text": [
            "[Pipeline] ............... (step 7 of 7) Processing CLF, total=  10.5s\n"
          ]
        },
        {
          "output_type": "stream",
          "name": "stderr",
          "text": [
            "/usr/local/lib/python3.7/dist-packages/sklearn/utils/validation.py:598: FutureWarning: np.matrix usage is deprecated in 1.0 and will raise a TypeError in 1.2. Please convert to a numpy array with np.asarray. For more information see: https://numpy.org/doc/stable/reference/generated/numpy.matrix.html\n",
            "  FutureWarning,\n"
          ]
        },
        {
          "output_type": "stream",
          "name": "stdout",
          "text": [
            "[Pipeline] ... (step 1 of 7) Processing TweetNormalizer, total=   1.1s\n",
            "[Pipeline] .. (step 2 of 7) Processing FeatureExtractor, total=   5.0s\n",
            "[Pipeline] .. (step 3 of 7) Processing BigramVectorizer, total=   6.2s\n",
            "[Pipeline]  (step 4 of 7) Processing MatrixToArrayConverter, total=   0.0s\n",
            "[Pipeline] ..... (step 5 of 7) Processing OneHotEncoder, total=   0.4s\n",
            "[Pipeline] ..... (step 6 of 7) Processing MatrixUnifier, total=   0.0s\n"
          ]
        },
        {
          "output_type": "stream",
          "name": "stderr",
          "text": [
            "/usr/local/lib/python3.7/dist-packages/sklearn/utils/validation.py:598: FutureWarning: np.matrix usage is deprecated in 1.0 and will raise a TypeError in 1.2. Please convert to a numpy array with np.asarray. For more information see: https://numpy.org/doc/stable/reference/generated/numpy.matrix.html\n",
            "  FutureWarning,\n",
            "/usr/local/lib/python3.7/dist-packages/sklearn/neural_network/_multilayer_perceptron.py:696: ConvergenceWarning: Stochastic Optimizer: Maximum iterations (20) reached and the optimization hasn't converged yet.\n",
            "  ConvergenceWarning,\n"
          ]
        },
        {
          "output_type": "stream",
          "name": "stdout",
          "text": [
            "[Pipeline] ............... (step 7 of 7) Processing CLF, total=  10.7s\n"
          ]
        },
        {
          "output_type": "stream",
          "name": "stderr",
          "text": [
            "/usr/local/lib/python3.7/dist-packages/sklearn/utils/validation.py:598: FutureWarning: np.matrix usage is deprecated in 1.0 and will raise a TypeError in 1.2. Please convert to a numpy array with np.asarray. For more information see: https://numpy.org/doc/stable/reference/generated/numpy.matrix.html\n",
            "  FutureWarning,\n"
          ]
        },
        {
          "output_type": "stream",
          "name": "stdout",
          "text": [
            "[Pipeline] ... (step 1 of 7) Processing TweetNormalizer, total=   1.6s\n",
            "[Pipeline] .. (step 2 of 7) Processing FeatureExtractor, total=   5.0s\n",
            "[Pipeline] .. (step 3 of 7) Processing BigramVectorizer, total=   6.2s\n",
            "[Pipeline]  (step 4 of 7) Processing MatrixToArrayConverter, total=   0.0s\n",
            "[Pipeline] ..... (step 5 of 7) Processing OneHotEncoder, total=   0.4s\n",
            "[Pipeline] ..... (step 6 of 7) Processing MatrixUnifier, total=   0.0s\n"
          ]
        },
        {
          "output_type": "stream",
          "name": "stderr",
          "text": [
            "/usr/local/lib/python3.7/dist-packages/sklearn/utils/validation.py:598: FutureWarning: np.matrix usage is deprecated in 1.0 and will raise a TypeError in 1.2. Please convert to a numpy array with np.asarray. For more information see: https://numpy.org/doc/stable/reference/generated/numpy.matrix.html\n",
            "  FutureWarning,\n",
            "/usr/local/lib/python3.7/dist-packages/sklearn/neural_network/_multilayer_perceptron.py:696: ConvergenceWarning: Stochastic Optimizer: Maximum iterations (20) reached and the optimization hasn't converged yet.\n",
            "  ConvergenceWarning,\n"
          ]
        },
        {
          "output_type": "stream",
          "name": "stdout",
          "text": [
            "[Pipeline] ............... (step 7 of 7) Processing CLF, total=  10.5s\n"
          ]
        },
        {
          "output_type": "stream",
          "name": "stderr",
          "text": [
            "/usr/local/lib/python3.7/dist-packages/sklearn/utils/validation.py:598: FutureWarning: np.matrix usage is deprecated in 1.0 and will raise a TypeError in 1.2. Please convert to a numpy array with np.asarray. For more information see: https://numpy.org/doc/stable/reference/generated/numpy.matrix.html\n",
            "  FutureWarning,\n"
          ]
        },
        {
          "output_type": "stream",
          "name": "stdout",
          "text": [
            "[Pipeline] ... (step 1 of 7) Processing TweetNormalizer, total=   1.1s\n",
            "[Pipeline] .. (step 2 of 7) Processing FeatureExtractor, total=   5.0s\n",
            "[Pipeline] .. (step 3 of 7) Processing BigramVectorizer, total=   6.2s\n",
            "[Pipeline]  (step 4 of 7) Processing MatrixToArrayConverter, total=   0.0s\n",
            "[Pipeline] ..... (step 5 of 7) Processing OneHotEncoder, total=   0.4s\n",
            "[Pipeline] ..... (step 6 of 7) Processing MatrixUnifier, total=   0.0s\n"
          ]
        },
        {
          "output_type": "stream",
          "name": "stderr",
          "text": [
            "/usr/local/lib/python3.7/dist-packages/sklearn/utils/validation.py:598: FutureWarning: np.matrix usage is deprecated in 1.0 and will raise a TypeError in 1.2. Please convert to a numpy array with np.asarray. For more information see: https://numpy.org/doc/stable/reference/generated/numpy.matrix.html\n",
            "  FutureWarning,\n",
            "/usr/local/lib/python3.7/dist-packages/sklearn/neural_network/_multilayer_perceptron.py:696: ConvergenceWarning: Stochastic Optimizer: Maximum iterations (20) reached and the optimization hasn't converged yet.\n",
            "  ConvergenceWarning,\n"
          ]
        },
        {
          "output_type": "stream",
          "name": "stdout",
          "text": [
            "[Pipeline] ............... (step 7 of 7) Processing CLF, total=  13.4s\n"
          ]
        },
        {
          "output_type": "stream",
          "name": "stderr",
          "text": [
            "/usr/local/lib/python3.7/dist-packages/sklearn/utils/validation.py:598: FutureWarning: np.matrix usage is deprecated in 1.0 and will raise a TypeError in 1.2. Please convert to a numpy array with np.asarray. For more information see: https://numpy.org/doc/stable/reference/generated/numpy.matrix.html\n",
            "  FutureWarning,\n"
          ]
        },
        {
          "output_type": "stream",
          "name": "stdout",
          "text": [
            "[Pipeline] ... (step 1 of 7) Processing TweetNormalizer, total=   1.1s\n",
            "[Pipeline] .. (step 2 of 7) Processing FeatureExtractor, total=   5.0s\n",
            "[Pipeline] .. (step 3 of 7) Processing BigramVectorizer, total=   6.2s\n",
            "[Pipeline]  (step 4 of 7) Processing MatrixToArrayConverter, total=   0.0s\n",
            "[Pipeline] ..... (step 5 of 7) Processing OneHotEncoder, total=   0.4s\n",
            "[Pipeline] ..... (step 6 of 7) Processing MatrixUnifier, total=   0.0s\n"
          ]
        },
        {
          "output_type": "stream",
          "name": "stderr",
          "text": [
            "/usr/local/lib/python3.7/dist-packages/sklearn/utils/validation.py:598: FutureWarning: np.matrix usage is deprecated in 1.0 and will raise a TypeError in 1.2. Please convert to a numpy array with np.asarray. For more information see: https://numpy.org/doc/stable/reference/generated/numpy.matrix.html\n",
            "  FutureWarning,\n",
            "/usr/local/lib/python3.7/dist-packages/sklearn/neural_network/_multilayer_perceptron.py:696: ConvergenceWarning: Stochastic Optimizer: Maximum iterations (20) reached and the optimization hasn't converged yet.\n",
            "  ConvergenceWarning,\n"
          ]
        },
        {
          "output_type": "stream",
          "name": "stdout",
          "text": [
            "[Pipeline] ............... (step 7 of 7) Processing CLF, total=  13.3s\n"
          ]
        },
        {
          "output_type": "stream",
          "name": "stderr",
          "text": [
            "/usr/local/lib/python3.7/dist-packages/sklearn/utils/validation.py:598: FutureWarning: np.matrix usage is deprecated in 1.0 and will raise a TypeError in 1.2. Please convert to a numpy array with np.asarray. For more information see: https://numpy.org/doc/stable/reference/generated/numpy.matrix.html\n",
            "  FutureWarning,\n"
          ]
        },
        {
          "output_type": "stream",
          "name": "stdout",
          "text": [
            "[Pipeline] ... (step 1 of 7) Processing TweetNormalizer, total=   1.1s\n",
            "[Pipeline] .. (step 2 of 7) Processing FeatureExtractor, total=   5.0s\n",
            "[Pipeline] .. (step 3 of 7) Processing BigramVectorizer, total=   6.2s\n",
            "[Pipeline]  (step 4 of 7) Processing MatrixToArrayConverter, total=   0.0s\n",
            "[Pipeline] ..... (step 5 of 7) Processing OneHotEncoder, total=   0.4s\n",
            "[Pipeline] ..... (step 6 of 7) Processing MatrixUnifier, total=   0.0s\n"
          ]
        },
        {
          "output_type": "stream",
          "name": "stderr",
          "text": [
            "/usr/local/lib/python3.7/dist-packages/sklearn/utils/validation.py:598: FutureWarning: np.matrix usage is deprecated in 1.0 and will raise a TypeError in 1.2. Please convert to a numpy array with np.asarray. For more information see: https://numpy.org/doc/stable/reference/generated/numpy.matrix.html\n",
            "  FutureWarning,\n",
            "/usr/local/lib/python3.7/dist-packages/sklearn/neural_network/_multilayer_perceptron.py:696: ConvergenceWarning: Stochastic Optimizer: Maximum iterations (20) reached and the optimization hasn't converged yet.\n",
            "  ConvergenceWarning,\n"
          ]
        },
        {
          "output_type": "stream",
          "name": "stdout",
          "text": [
            "[Pipeline] ............... (step 7 of 7) Processing CLF, total=  13.4s\n"
          ]
        },
        {
          "output_type": "stream",
          "name": "stderr",
          "text": [
            "/usr/local/lib/python3.7/dist-packages/sklearn/utils/validation.py:598: FutureWarning: np.matrix usage is deprecated in 1.0 and will raise a TypeError in 1.2. Please convert to a numpy array with np.asarray. For more information see: https://numpy.org/doc/stable/reference/generated/numpy.matrix.html\n",
            "  FutureWarning,\n"
          ]
        },
        {
          "output_type": "stream",
          "name": "stdout",
          "text": [
            "[Pipeline] ... (step 1 of 7) Processing TweetNormalizer, total=   1.1s\n",
            "[Pipeline] .. (step 2 of 7) Processing FeatureExtractor, total=   4.9s\n",
            "[Pipeline] .. (step 3 of 7) Processing BigramVectorizer, total=   6.3s\n",
            "[Pipeline]  (step 4 of 7) Processing MatrixToArrayConverter, total=   0.0s\n",
            "[Pipeline] ..... (step 5 of 7) Processing OneHotEncoder, total=   0.4s\n",
            "[Pipeline] ..... (step 6 of 7) Processing MatrixUnifier, total=   0.0s\n"
          ]
        },
        {
          "output_type": "stream",
          "name": "stderr",
          "text": [
            "/usr/local/lib/python3.7/dist-packages/sklearn/utils/validation.py:598: FutureWarning: np.matrix usage is deprecated in 1.0 and will raise a TypeError in 1.2. Please convert to a numpy array with np.asarray. For more information see: https://numpy.org/doc/stable/reference/generated/numpy.matrix.html\n",
            "  FutureWarning,\n",
            "/usr/local/lib/python3.7/dist-packages/sklearn/neural_network/_multilayer_perceptron.py:696: ConvergenceWarning: Stochastic Optimizer: Maximum iterations (20) reached and the optimization hasn't converged yet.\n",
            "  ConvergenceWarning,\n"
          ]
        },
        {
          "output_type": "stream",
          "name": "stdout",
          "text": [
            "[Pipeline] ............... (step 7 of 7) Processing CLF, total=  13.3s\n"
          ]
        },
        {
          "output_type": "stream",
          "name": "stderr",
          "text": [
            "/usr/local/lib/python3.7/dist-packages/sklearn/utils/validation.py:598: FutureWarning: np.matrix usage is deprecated in 1.0 and will raise a TypeError in 1.2. Please convert to a numpy array with np.asarray. For more information see: https://numpy.org/doc/stable/reference/generated/numpy.matrix.html\n",
            "  FutureWarning,\n"
          ]
        },
        {
          "output_type": "stream",
          "name": "stdout",
          "text": [
            "[Pipeline] ... (step 1 of 7) Processing TweetNormalizer, total=   1.1s\n",
            "[Pipeline] .. (step 2 of 7) Processing FeatureExtractor, total=   5.0s\n",
            "[Pipeline] .. (step 3 of 7) Processing BigramVectorizer, total=   6.2s\n",
            "[Pipeline]  (step 4 of 7) Processing MatrixToArrayConverter, total=   0.0s\n",
            "[Pipeline] ..... (step 5 of 7) Processing OneHotEncoder, total=   0.4s\n",
            "[Pipeline] ..... (step 6 of 7) Processing MatrixUnifier, total=   0.0s\n"
          ]
        },
        {
          "output_type": "stream",
          "name": "stderr",
          "text": [
            "/usr/local/lib/python3.7/dist-packages/sklearn/utils/validation.py:598: FutureWarning: np.matrix usage is deprecated in 1.0 and will raise a TypeError in 1.2. Please convert to a numpy array with np.asarray. For more information see: https://numpy.org/doc/stable/reference/generated/numpy.matrix.html\n",
            "  FutureWarning,\n",
            "/usr/local/lib/python3.7/dist-packages/sklearn/neural_network/_multilayer_perceptron.py:696: ConvergenceWarning: Stochastic Optimizer: Maximum iterations (20) reached and the optimization hasn't converged yet.\n",
            "  ConvergenceWarning,\n"
          ]
        },
        {
          "output_type": "stream",
          "name": "stdout",
          "text": [
            "[Pipeline] ............... (step 7 of 7) Processing CLF, total=  13.5s\n"
          ]
        },
        {
          "output_type": "stream",
          "name": "stderr",
          "text": [
            "/usr/local/lib/python3.7/dist-packages/sklearn/utils/validation.py:598: FutureWarning: np.matrix usage is deprecated in 1.0 and will raise a TypeError in 1.2. Please convert to a numpy array with np.asarray. For more information see: https://numpy.org/doc/stable/reference/generated/numpy.matrix.html\n",
            "  FutureWarning,\n"
          ]
        },
        {
          "output_type": "stream",
          "name": "stdout",
          "text": [
            "[Pipeline] ... (step 1 of 7) Processing TweetNormalizer, total=   1.1s\n",
            "[Pipeline] .. (step 2 of 7) Processing FeatureExtractor, total=   5.0s\n",
            "[Pipeline] .. (step 3 of 7) Processing BigramVectorizer, total=   6.3s\n",
            "[Pipeline]  (step 4 of 7) Processing MatrixToArrayConverter, total=   0.0s\n",
            "[Pipeline] ..... (step 5 of 7) Processing OneHotEncoder, total=   0.4s\n",
            "[Pipeline] ..... (step 6 of 7) Processing MatrixUnifier, total=   0.0s\n"
          ]
        },
        {
          "output_type": "stream",
          "name": "stderr",
          "text": [
            "/usr/local/lib/python3.7/dist-packages/sklearn/utils/validation.py:598: FutureWarning: np.matrix usage is deprecated in 1.0 and will raise a TypeError in 1.2. Please convert to a numpy array with np.asarray. For more information see: https://numpy.org/doc/stable/reference/generated/numpy.matrix.html\n",
            "  FutureWarning,\n",
            "/usr/local/lib/python3.7/dist-packages/sklearn/neural_network/_multilayer_perceptron.py:696: ConvergenceWarning: Stochastic Optimizer: Maximum iterations (20) reached and the optimization hasn't converged yet.\n",
            "  ConvergenceWarning,\n"
          ]
        },
        {
          "output_type": "stream",
          "name": "stdout",
          "text": [
            "[Pipeline] ............... (step 7 of 7) Processing CLF, total=  13.5s\n"
          ]
        },
        {
          "output_type": "stream",
          "name": "stderr",
          "text": [
            "/usr/local/lib/python3.7/dist-packages/sklearn/utils/validation.py:598: FutureWarning: np.matrix usage is deprecated in 1.0 and will raise a TypeError in 1.2. Please convert to a numpy array with np.asarray. For more information see: https://numpy.org/doc/stable/reference/generated/numpy.matrix.html\n",
            "  FutureWarning,\n"
          ]
        },
        {
          "output_type": "stream",
          "name": "stdout",
          "text": [
            "[Pipeline] ... (step 1 of 7) Processing TweetNormalizer, total=   1.1s\n",
            "[Pipeline] .. (step 2 of 7) Processing FeatureExtractor, total=   4.9s\n",
            "[Pipeline] .. (step 3 of 7) Processing BigramVectorizer, total=   6.2s\n",
            "[Pipeline]  (step 4 of 7) Processing MatrixToArrayConverter, total=   0.0s\n",
            "[Pipeline] ..... (step 5 of 7) Processing OneHotEncoder, total=   0.4s\n",
            "[Pipeline] ..... (step 6 of 7) Processing MatrixUnifier, total=   0.0s\n"
          ]
        },
        {
          "output_type": "stream",
          "name": "stderr",
          "text": [
            "/usr/local/lib/python3.7/dist-packages/sklearn/utils/validation.py:598: FutureWarning: np.matrix usage is deprecated in 1.0 and will raise a TypeError in 1.2. Please convert to a numpy array with np.asarray. For more information see: https://numpy.org/doc/stable/reference/generated/numpy.matrix.html\n",
            "  FutureWarning,\n",
            "/usr/local/lib/python3.7/dist-packages/sklearn/neural_network/_multilayer_perceptron.py:696: ConvergenceWarning: Stochastic Optimizer: Maximum iterations (20) reached and the optimization hasn't converged yet.\n",
            "  ConvergenceWarning,\n"
          ]
        },
        {
          "output_type": "stream",
          "name": "stdout",
          "text": [
            "[Pipeline] ............... (step 7 of 7) Processing CLF, total=  13.5s\n"
          ]
        },
        {
          "output_type": "stream",
          "name": "stderr",
          "text": [
            "/usr/local/lib/python3.7/dist-packages/sklearn/utils/validation.py:598: FutureWarning: np.matrix usage is deprecated in 1.0 and will raise a TypeError in 1.2. Please convert to a numpy array with np.asarray. For more information see: https://numpy.org/doc/stable/reference/generated/numpy.matrix.html\n",
            "  FutureWarning,\n"
          ]
        },
        {
          "output_type": "stream",
          "name": "stdout",
          "text": [
            "[Pipeline] ... (step 1 of 7) Processing TweetNormalizer, total=   0.8s\n",
            "[Pipeline] .. (step 2 of 7) Processing FeatureExtractor, total=   4.1s\n",
            "[Pipeline] .. (step 3 of 7) Processing BigramVectorizer, total=   5.3s\n",
            "[Pipeline]  (step 4 of 7) Processing MatrixToArrayConverter, total=   0.0s\n",
            "[Pipeline] ..... (step 5 of 7) Processing OneHotEncoder, total=   0.4s\n",
            "[Pipeline] ..... (step 6 of 7) Processing MatrixUnifier, total=   0.0s\n"
          ]
        },
        {
          "output_type": "stream",
          "name": "stderr",
          "text": [
            "/usr/local/lib/python3.7/dist-packages/sklearn/utils/validation.py:598: FutureWarning: np.matrix usage is deprecated in 1.0 and will raise a TypeError in 1.2. Please convert to a numpy array with np.asarray. For more information see: https://numpy.org/doc/stable/reference/generated/numpy.matrix.html\n",
            "  FutureWarning,\n",
            "/usr/local/lib/python3.7/dist-packages/sklearn/neural_network/_multilayer_perceptron.py:696: ConvergenceWarning: Stochastic Optimizer: Maximum iterations (20) reached and the optimization hasn't converged yet.\n",
            "  ConvergenceWarning,\n"
          ]
        },
        {
          "output_type": "stream",
          "name": "stdout",
          "text": [
            "[Pipeline] ............... (step 7 of 7) Processing CLF, total=  15.6s\n"
          ]
        },
        {
          "output_type": "stream",
          "name": "stderr",
          "text": [
            "/usr/local/lib/python3.7/dist-packages/sklearn/utils/validation.py:598: FutureWarning: np.matrix usage is deprecated in 1.0 and will raise a TypeError in 1.2. Please convert to a numpy array with np.asarray. For more information see: https://numpy.org/doc/stable/reference/generated/numpy.matrix.html\n",
            "  FutureWarning,\n"
          ]
        },
        {
          "output_type": "stream",
          "name": "stdout",
          "text": [
            "[Pipeline] ... (step 1 of 7) Processing TweetNormalizer, total=   1.1s\n",
            "[Pipeline] .. (step 2 of 7) Processing FeatureExtractor, total=   5.0s\n",
            "[Pipeline] .. (step 3 of 7) Processing BigramVectorizer, total=   6.2s\n",
            "[Pipeline]  (step 4 of 7) Processing MatrixToArrayConverter, total=   0.0s\n",
            "[Pipeline] ..... (step 5 of 7) Processing OneHotEncoder, total=   0.4s\n",
            "[Pipeline] ..... (step 6 of 7) Processing MatrixUnifier, total=   0.0s\n"
          ]
        },
        {
          "output_type": "stream",
          "name": "stderr",
          "text": [
            "/usr/local/lib/python3.7/dist-packages/sklearn/utils/validation.py:598: FutureWarning: np.matrix usage is deprecated in 1.0 and will raise a TypeError in 1.2. Please convert to a numpy array with np.asarray. For more information see: https://numpy.org/doc/stable/reference/generated/numpy.matrix.html\n",
            "  FutureWarning,\n",
            "/usr/local/lib/python3.7/dist-packages/sklearn/neural_network/_multilayer_perceptron.py:696: ConvergenceWarning: Stochastic Optimizer: Maximum iterations (20) reached and the optimization hasn't converged yet.\n",
            "  ConvergenceWarning,\n"
          ]
        },
        {
          "output_type": "stream",
          "name": "stdout",
          "text": [
            "[Pipeline] ............... (step 7 of 7) Processing CLF, total=  13.2s\n"
          ]
        },
        {
          "output_type": "stream",
          "name": "stderr",
          "text": [
            "/usr/local/lib/python3.7/dist-packages/sklearn/utils/validation.py:598: FutureWarning: np.matrix usage is deprecated in 1.0 and will raise a TypeError in 1.2. Please convert to a numpy array with np.asarray. For more information see: https://numpy.org/doc/stable/reference/generated/numpy.matrix.html\n",
            "  FutureWarning,\n"
          ]
        },
        {
          "output_type": "stream",
          "name": "stdout",
          "text": [
            "[Pipeline] ... (step 1 of 7) Processing TweetNormalizer, total=   1.1s\n",
            "[Pipeline] .. (step 2 of 7) Processing FeatureExtractor, total=   4.9s\n",
            "[Pipeline] .. (step 3 of 7) Processing BigramVectorizer, total=   6.3s\n",
            "[Pipeline]  (step 4 of 7) Processing MatrixToArrayConverter, total=   0.0s\n",
            "[Pipeline] ..... (step 5 of 7) Processing OneHotEncoder, total=   0.4s\n",
            "[Pipeline] ..... (step 6 of 7) Processing MatrixUnifier, total=   0.0s\n"
          ]
        },
        {
          "output_type": "stream",
          "name": "stderr",
          "text": [
            "/usr/local/lib/python3.7/dist-packages/sklearn/utils/validation.py:598: FutureWarning: np.matrix usage is deprecated in 1.0 and will raise a TypeError in 1.2. Please convert to a numpy array with np.asarray. For more information see: https://numpy.org/doc/stable/reference/generated/numpy.matrix.html\n",
            "  FutureWarning,\n",
            "/usr/local/lib/python3.7/dist-packages/sklearn/neural_network/_multilayer_perceptron.py:696: ConvergenceWarning: Stochastic Optimizer: Maximum iterations (20) reached and the optimization hasn't converged yet.\n",
            "  ConvergenceWarning,\n"
          ]
        },
        {
          "output_type": "stream",
          "name": "stdout",
          "text": [
            "[Pipeline] ............... (step 7 of 7) Processing CLF, total=  13.1s\n"
          ]
        },
        {
          "output_type": "stream",
          "name": "stderr",
          "text": [
            "/usr/local/lib/python3.7/dist-packages/sklearn/utils/validation.py:598: FutureWarning: np.matrix usage is deprecated in 1.0 and will raise a TypeError in 1.2. Please convert to a numpy array with np.asarray. For more information see: https://numpy.org/doc/stable/reference/generated/numpy.matrix.html\n",
            "  FutureWarning,\n"
          ]
        },
        {
          "output_type": "stream",
          "name": "stdout",
          "text": [
            "[Pipeline] ... (step 1 of 7) Processing TweetNormalizer, total=   1.1s\n",
            "[Pipeline] .. (step 2 of 7) Processing FeatureExtractor, total=   4.9s\n",
            "[Pipeline] .. (step 3 of 7) Processing BigramVectorizer, total=   6.2s\n",
            "[Pipeline]  (step 4 of 7) Processing MatrixToArrayConverter, total=   0.0s\n",
            "[Pipeline] ..... (step 5 of 7) Processing OneHotEncoder, total=   0.4s\n",
            "[Pipeline] ..... (step 6 of 7) Processing MatrixUnifier, total=   0.0s\n"
          ]
        },
        {
          "output_type": "stream",
          "name": "stderr",
          "text": [
            "/usr/local/lib/python3.7/dist-packages/sklearn/utils/validation.py:598: FutureWarning: np.matrix usage is deprecated in 1.0 and will raise a TypeError in 1.2. Please convert to a numpy array with np.asarray. For more information see: https://numpy.org/doc/stable/reference/generated/numpy.matrix.html\n",
            "  FutureWarning,\n",
            "/usr/local/lib/python3.7/dist-packages/sklearn/neural_network/_multilayer_perceptron.py:696: ConvergenceWarning: Stochastic Optimizer: Maximum iterations (20) reached and the optimization hasn't converged yet.\n",
            "  ConvergenceWarning,\n"
          ]
        },
        {
          "output_type": "stream",
          "name": "stdout",
          "text": [
            "[Pipeline] ............... (step 7 of 7) Processing CLF, total=  13.8s\n"
          ]
        },
        {
          "output_type": "stream",
          "name": "stderr",
          "text": [
            "/usr/local/lib/python3.7/dist-packages/sklearn/utils/validation.py:598: FutureWarning: np.matrix usage is deprecated in 1.0 and will raise a TypeError in 1.2. Please convert to a numpy array with np.asarray. For more information see: https://numpy.org/doc/stable/reference/generated/numpy.matrix.html\n",
            "  FutureWarning,\n"
          ]
        },
        {
          "output_type": "stream",
          "name": "stdout",
          "text": [
            "[Pipeline] ... (step 1 of 7) Processing TweetNormalizer, total=   1.1s\n",
            "[Pipeline] .. (step 2 of 7) Processing FeatureExtractor, total=   5.0s\n",
            "[Pipeline] .. (step 3 of 7) Processing BigramVectorizer, total=   6.3s\n",
            "[Pipeline]  (step 4 of 7) Processing MatrixToArrayConverter, total=   0.0s\n",
            "[Pipeline] ..... (step 5 of 7) Processing OneHotEncoder, total=   0.4s\n",
            "[Pipeline] ..... (step 6 of 7) Processing MatrixUnifier, total=   0.0s\n"
          ]
        },
        {
          "output_type": "stream",
          "name": "stderr",
          "text": [
            "/usr/local/lib/python3.7/dist-packages/sklearn/utils/validation.py:598: FutureWarning: np.matrix usage is deprecated in 1.0 and will raise a TypeError in 1.2. Please convert to a numpy array with np.asarray. For more information see: https://numpy.org/doc/stable/reference/generated/numpy.matrix.html\n",
            "  FutureWarning,\n",
            "/usr/local/lib/python3.7/dist-packages/sklearn/neural_network/_multilayer_perceptron.py:696: ConvergenceWarning: Stochastic Optimizer: Maximum iterations (20) reached and the optimization hasn't converged yet.\n",
            "  ConvergenceWarning,\n"
          ]
        },
        {
          "output_type": "stream",
          "name": "stdout",
          "text": [
            "[Pipeline] ............... (step 7 of 7) Processing CLF, total=  15.0s\n"
          ]
        },
        {
          "output_type": "stream",
          "name": "stderr",
          "text": [
            "/usr/local/lib/python3.7/dist-packages/sklearn/utils/validation.py:598: FutureWarning: np.matrix usage is deprecated in 1.0 and will raise a TypeError in 1.2. Please convert to a numpy array with np.asarray. For more information see: https://numpy.org/doc/stable/reference/generated/numpy.matrix.html\n",
            "  FutureWarning,\n"
          ]
        },
        {
          "output_type": "stream",
          "name": "stdout",
          "text": [
            "[Pipeline] ... (step 1 of 7) Processing TweetNormalizer, total=   1.1s\n",
            "[Pipeline] .. (step 2 of 7) Processing FeatureExtractor, total=   4.9s\n",
            "[Pipeline] .. (step 3 of 7) Processing BigramVectorizer, total=   6.2s\n",
            "[Pipeline]  (step 4 of 7) Processing MatrixToArrayConverter, total=   0.0s\n",
            "[Pipeline] ..... (step 5 of 7) Processing OneHotEncoder, total=   0.4s\n",
            "[Pipeline] ..... (step 6 of 7) Processing MatrixUnifier, total=   0.0s\n"
          ]
        },
        {
          "output_type": "stream",
          "name": "stderr",
          "text": [
            "/usr/local/lib/python3.7/dist-packages/sklearn/utils/validation.py:598: FutureWarning: np.matrix usage is deprecated in 1.0 and will raise a TypeError in 1.2. Please convert to a numpy array with np.asarray. For more information see: https://numpy.org/doc/stable/reference/generated/numpy.matrix.html\n",
            "  FutureWarning,\n",
            "/usr/local/lib/python3.7/dist-packages/sklearn/neural_network/_multilayer_perceptron.py:696: ConvergenceWarning: Stochastic Optimizer: Maximum iterations (20) reached and the optimization hasn't converged yet.\n",
            "  ConvergenceWarning,\n"
          ]
        },
        {
          "output_type": "stream",
          "name": "stdout",
          "text": [
            "[Pipeline] ............... (step 7 of 7) Processing CLF, total=  13.9s\n"
          ]
        },
        {
          "output_type": "stream",
          "name": "stderr",
          "text": [
            "/usr/local/lib/python3.7/dist-packages/sklearn/utils/validation.py:598: FutureWarning: np.matrix usage is deprecated in 1.0 and will raise a TypeError in 1.2. Please convert to a numpy array with np.asarray. For more information see: https://numpy.org/doc/stable/reference/generated/numpy.matrix.html\n",
            "  FutureWarning,\n"
          ]
        },
        {
          "output_type": "stream",
          "name": "stdout",
          "text": [
            "[Pipeline] ... (step 1 of 7) Processing TweetNormalizer, total=   1.1s\n",
            "[Pipeline] .. (step 2 of 7) Processing FeatureExtractor, total=   5.1s\n",
            "[Pipeline] .. (step 3 of 7) Processing BigramVectorizer, total=   6.5s\n",
            "[Pipeline]  (step 4 of 7) Processing MatrixToArrayConverter, total=   0.0s\n",
            "[Pipeline] ..... (step 5 of 7) Processing OneHotEncoder, total=   0.4s\n",
            "[Pipeline] ..... (step 6 of 7) Processing MatrixUnifier, total=   0.0s\n"
          ]
        },
        {
          "output_type": "stream",
          "name": "stderr",
          "text": [
            "/usr/local/lib/python3.7/dist-packages/sklearn/utils/validation.py:598: FutureWarning: np.matrix usage is deprecated in 1.0 and will raise a TypeError in 1.2. Please convert to a numpy array with np.asarray. For more information see: https://numpy.org/doc/stable/reference/generated/numpy.matrix.html\n",
            "  FutureWarning,\n",
            "/usr/local/lib/python3.7/dist-packages/sklearn/neural_network/_multilayer_perceptron.py:696: ConvergenceWarning: Stochastic Optimizer: Maximum iterations (20) reached and the optimization hasn't converged yet.\n",
            "  ConvergenceWarning,\n"
          ]
        },
        {
          "output_type": "stream",
          "name": "stdout",
          "text": [
            "[Pipeline] ............... (step 7 of 7) Processing CLF, total=  14.3s\n"
          ]
        },
        {
          "output_type": "stream",
          "name": "stderr",
          "text": [
            "/usr/local/lib/python3.7/dist-packages/sklearn/utils/validation.py:598: FutureWarning: np.matrix usage is deprecated in 1.0 and will raise a TypeError in 1.2. Please convert to a numpy array with np.asarray. For more information see: https://numpy.org/doc/stable/reference/generated/numpy.matrix.html\n",
            "  FutureWarning,\n"
          ]
        },
        {
          "output_type": "stream",
          "name": "stdout",
          "text": [
            "[Pipeline] ... (step 1 of 7) Processing TweetNormalizer, total=   1.1s\n",
            "[Pipeline] .. (step 2 of 7) Processing FeatureExtractor, total=   5.0s\n",
            "[Pipeline] .. (step 3 of 7) Processing BigramVectorizer, total=   6.3s\n",
            "[Pipeline]  (step 4 of 7) Processing MatrixToArrayConverter, total=   0.0s\n",
            "[Pipeline] ..... (step 5 of 7) Processing OneHotEncoder, total=   0.4s\n",
            "[Pipeline] ..... (step 6 of 7) Processing MatrixUnifier, total=   0.0s\n"
          ]
        },
        {
          "output_type": "stream",
          "name": "stderr",
          "text": [
            "/usr/local/lib/python3.7/dist-packages/sklearn/utils/validation.py:598: FutureWarning: np.matrix usage is deprecated in 1.0 and will raise a TypeError in 1.2. Please convert to a numpy array with np.asarray. For more information see: https://numpy.org/doc/stable/reference/generated/numpy.matrix.html\n",
            "  FutureWarning,\n",
            "/usr/local/lib/python3.7/dist-packages/sklearn/neural_network/_multilayer_perceptron.py:696: ConvergenceWarning: Stochastic Optimizer: Maximum iterations (20) reached and the optimization hasn't converged yet.\n",
            "  ConvergenceWarning,\n"
          ]
        },
        {
          "output_type": "stream",
          "name": "stdout",
          "text": [
            "[Pipeline] ............... (step 7 of 7) Processing CLF, total=  14.4s\n"
          ]
        },
        {
          "output_type": "stream",
          "name": "stderr",
          "text": [
            "/usr/local/lib/python3.7/dist-packages/sklearn/utils/validation.py:598: FutureWarning: np.matrix usage is deprecated in 1.0 and will raise a TypeError in 1.2. Please convert to a numpy array with np.asarray. For more information see: https://numpy.org/doc/stable/reference/generated/numpy.matrix.html\n",
            "  FutureWarning,\n"
          ]
        },
        {
          "output_type": "stream",
          "name": "stdout",
          "text": [
            "[Pipeline] ... (step 1 of 7) Processing TweetNormalizer, total=   1.1s\n",
            "[Pipeline] .. (step 2 of 7) Processing FeatureExtractor, total=   4.9s\n",
            "[Pipeline] .. (step 3 of 7) Processing BigramVectorizer, total=   6.3s\n",
            "[Pipeline]  (step 4 of 7) Processing MatrixToArrayConverter, total=   0.0s\n",
            "[Pipeline] ..... (step 5 of 7) Processing OneHotEncoder, total=   0.4s\n",
            "[Pipeline] ..... (step 6 of 7) Processing MatrixUnifier, total=   0.0s\n"
          ]
        },
        {
          "output_type": "stream",
          "name": "stderr",
          "text": [
            "/usr/local/lib/python3.7/dist-packages/sklearn/utils/validation.py:598: FutureWarning: np.matrix usage is deprecated in 1.0 and will raise a TypeError in 1.2. Please convert to a numpy array with np.asarray. For more information see: https://numpy.org/doc/stable/reference/generated/numpy.matrix.html\n",
            "  FutureWarning,\n",
            "/usr/local/lib/python3.7/dist-packages/sklearn/neural_network/_multilayer_perceptron.py:696: ConvergenceWarning: Stochastic Optimizer: Maximum iterations (20) reached and the optimization hasn't converged yet.\n",
            "  ConvergenceWarning,\n"
          ]
        },
        {
          "output_type": "stream",
          "name": "stdout",
          "text": [
            "[Pipeline] ............... (step 7 of 7) Processing CLF, total=  15.3s\n"
          ]
        },
        {
          "output_type": "stream",
          "name": "stderr",
          "text": [
            "/usr/local/lib/python3.7/dist-packages/sklearn/utils/validation.py:598: FutureWarning: np.matrix usage is deprecated in 1.0 and will raise a TypeError in 1.2. Please convert to a numpy array with np.asarray. For more information see: https://numpy.org/doc/stable/reference/generated/numpy.matrix.html\n",
            "  FutureWarning,\n"
          ]
        },
        {
          "output_type": "stream",
          "name": "stdout",
          "text": [
            "[Pipeline] ... (step 1 of 7) Processing TweetNormalizer, total=   1.1s\n",
            "[Pipeline] .. (step 2 of 7) Processing FeatureExtractor, total=   5.0s\n",
            "[Pipeline] .. (step 3 of 7) Processing BigramVectorizer, total=   6.3s\n",
            "[Pipeline]  (step 4 of 7) Processing MatrixToArrayConverter, total=   0.0s\n",
            "[Pipeline] ..... (step 5 of 7) Processing OneHotEncoder, total=   0.4s\n",
            "[Pipeline] ..... (step 6 of 7) Processing MatrixUnifier, total=   0.0s\n"
          ]
        },
        {
          "output_type": "stream",
          "name": "stderr",
          "text": [
            "/usr/local/lib/python3.7/dist-packages/sklearn/utils/validation.py:598: FutureWarning: np.matrix usage is deprecated in 1.0 and will raise a TypeError in 1.2. Please convert to a numpy array with np.asarray. For more information see: https://numpy.org/doc/stable/reference/generated/numpy.matrix.html\n",
            "  FutureWarning,\n",
            "/usr/local/lib/python3.7/dist-packages/sklearn/neural_network/_multilayer_perceptron.py:696: ConvergenceWarning: Stochastic Optimizer: Maximum iterations (20) reached and the optimization hasn't converged yet.\n",
            "  ConvergenceWarning,\n"
          ]
        },
        {
          "output_type": "stream",
          "name": "stdout",
          "text": [
            "[Pipeline] ............... (step 7 of 7) Processing CLF, total=  14.1s\n"
          ]
        },
        {
          "output_type": "stream",
          "name": "stderr",
          "text": [
            "/usr/local/lib/python3.7/dist-packages/sklearn/utils/validation.py:598: FutureWarning: np.matrix usage is deprecated in 1.0 and will raise a TypeError in 1.2. Please convert to a numpy array with np.asarray. For more information see: https://numpy.org/doc/stable/reference/generated/numpy.matrix.html\n",
            "  FutureWarning,\n"
          ]
        },
        {
          "output_type": "stream",
          "name": "stdout",
          "text": [
            "[Pipeline] ... (step 1 of 7) Processing TweetNormalizer, total=   0.8s\n",
            "[Pipeline] .. (step 2 of 7) Processing FeatureExtractor, total=   4.1s\n",
            "[Pipeline] .. (step 3 of 7) Processing BigramVectorizer, total=   5.3s\n",
            "[Pipeline]  (step 4 of 7) Processing MatrixToArrayConverter, total=   0.0s\n",
            "[Pipeline] ..... (step 5 of 7) Processing OneHotEncoder, total=   0.4s\n",
            "[Pipeline] ..... (step 6 of 7) Processing MatrixUnifier, total=   0.0s\n"
          ]
        },
        {
          "output_type": "stream",
          "name": "stderr",
          "text": [
            "/usr/local/lib/python3.7/dist-packages/sklearn/utils/validation.py:598: FutureWarning: np.matrix usage is deprecated in 1.0 and will raise a TypeError in 1.2. Please convert to a numpy array with np.asarray. For more information see: https://numpy.org/doc/stable/reference/generated/numpy.matrix.html\n",
            "  FutureWarning,\n",
            "/usr/local/lib/python3.7/dist-packages/sklearn/neural_network/_multilayer_perceptron.py:696: ConvergenceWarning: Stochastic Optimizer: Maximum iterations (20) reached and the optimization hasn't converged yet.\n",
            "  ConvergenceWarning,\n"
          ]
        },
        {
          "output_type": "stream",
          "name": "stdout",
          "text": [
            "[Pipeline] ............... (step 7 of 7) Processing CLF, total=  14.0s\n"
          ]
        },
        {
          "output_type": "stream",
          "name": "stderr",
          "text": [
            "/usr/local/lib/python3.7/dist-packages/sklearn/utils/validation.py:598: FutureWarning: np.matrix usage is deprecated in 1.0 and will raise a TypeError in 1.2. Please convert to a numpy array with np.asarray. For more information see: https://numpy.org/doc/stable/reference/generated/numpy.matrix.html\n",
            "  FutureWarning,\n"
          ]
        },
        {
          "output_type": "stream",
          "name": "stdout",
          "text": [
            "[Pipeline] ... (step 1 of 7) Processing TweetNormalizer, total=   1.1s\n",
            "[Pipeline] .. (step 2 of 7) Processing FeatureExtractor, total=   5.0s\n",
            "[Pipeline] .. (step 3 of 7) Processing BigramVectorizer, total=   6.2s\n",
            "[Pipeline]  (step 4 of 7) Processing MatrixToArrayConverter, total=   0.0s\n",
            "[Pipeline] ..... (step 5 of 7) Processing OneHotEncoder, total=   0.4s\n",
            "[Pipeline] ..... (step 6 of 7) Processing MatrixUnifier, total=   0.0s\n"
          ]
        },
        {
          "output_type": "stream",
          "name": "stderr",
          "text": [
            "/usr/local/lib/python3.7/dist-packages/sklearn/utils/validation.py:598: FutureWarning: np.matrix usage is deprecated in 1.0 and will raise a TypeError in 1.2. Please convert to a numpy array with np.asarray. For more information see: https://numpy.org/doc/stable/reference/generated/numpy.matrix.html\n",
            "  FutureWarning,\n",
            "/usr/local/lib/python3.7/dist-packages/sklearn/neural_network/_multilayer_perceptron.py:696: ConvergenceWarning: Stochastic Optimizer: Maximum iterations (20) reached and the optimization hasn't converged yet.\n",
            "  ConvergenceWarning,\n"
          ]
        },
        {
          "output_type": "stream",
          "name": "stdout",
          "text": [
            "[Pipeline] ............... (step 7 of 7) Processing CLF, total=  13.9s\n"
          ]
        },
        {
          "output_type": "stream",
          "name": "stderr",
          "text": [
            "/usr/local/lib/python3.7/dist-packages/sklearn/utils/validation.py:598: FutureWarning: np.matrix usage is deprecated in 1.0 and will raise a TypeError in 1.2. Please convert to a numpy array with np.asarray. For more information see: https://numpy.org/doc/stable/reference/generated/numpy.matrix.html\n",
            "  FutureWarning,\n"
          ]
        },
        {
          "output_type": "stream",
          "name": "stdout",
          "text": [
            "[Pipeline] ... (step 1 of 7) Processing TweetNormalizer, total=   1.1s\n",
            "[Pipeline] .. (step 2 of 7) Processing FeatureExtractor, total=   4.9s\n",
            "[Pipeline] .. (step 3 of 7) Processing BigramVectorizer, total=   6.2s\n",
            "[Pipeline]  (step 4 of 7) Processing MatrixToArrayConverter, total=   0.0s\n",
            "[Pipeline] ..... (step 5 of 7) Processing OneHotEncoder, total=   0.4s\n",
            "[Pipeline] ..... (step 6 of 7) Processing MatrixUnifier, total=   0.0s\n"
          ]
        },
        {
          "output_type": "stream",
          "name": "stderr",
          "text": [
            "/usr/local/lib/python3.7/dist-packages/sklearn/utils/validation.py:598: FutureWarning: np.matrix usage is deprecated in 1.0 and will raise a TypeError in 1.2. Please convert to a numpy array with np.asarray. For more information see: https://numpy.org/doc/stable/reference/generated/numpy.matrix.html\n",
            "  FutureWarning,\n",
            "/usr/local/lib/python3.7/dist-packages/sklearn/neural_network/_multilayer_perceptron.py:696: ConvergenceWarning: Stochastic Optimizer: Maximum iterations (20) reached and the optimization hasn't converged yet.\n",
            "  ConvergenceWarning,\n"
          ]
        },
        {
          "output_type": "stream",
          "name": "stdout",
          "text": [
            "[Pipeline] ............... (step 7 of 7) Processing CLF, total=  14.0s\n"
          ]
        },
        {
          "output_type": "stream",
          "name": "stderr",
          "text": [
            "/usr/local/lib/python3.7/dist-packages/sklearn/utils/validation.py:598: FutureWarning: np.matrix usage is deprecated in 1.0 and will raise a TypeError in 1.2. Please convert to a numpy array with np.asarray. For more information see: https://numpy.org/doc/stable/reference/generated/numpy.matrix.html\n",
            "  FutureWarning,\n"
          ]
        },
        {
          "output_type": "stream",
          "name": "stdout",
          "text": [
            "[Pipeline] ... (step 1 of 7) Processing TweetNormalizer, total=   1.1s\n",
            "[Pipeline] .. (step 2 of 7) Processing FeatureExtractor, total=   5.0s\n",
            "[Pipeline] .. (step 3 of 7) Processing BigramVectorizer, total=   6.2s\n",
            "[Pipeline]  (step 4 of 7) Processing MatrixToArrayConverter, total=   0.0s\n",
            "[Pipeline] ..... (step 5 of 7) Processing OneHotEncoder, total=   0.4s\n",
            "[Pipeline] ..... (step 6 of 7) Processing MatrixUnifier, total=   0.0s\n"
          ]
        },
        {
          "output_type": "stream",
          "name": "stderr",
          "text": [
            "/usr/local/lib/python3.7/dist-packages/sklearn/utils/validation.py:598: FutureWarning: np.matrix usage is deprecated in 1.0 and will raise a TypeError in 1.2. Please convert to a numpy array with np.asarray. For more information see: https://numpy.org/doc/stable/reference/generated/numpy.matrix.html\n",
            "  FutureWarning,\n",
            "/usr/local/lib/python3.7/dist-packages/sklearn/neural_network/_multilayer_perceptron.py:696: ConvergenceWarning: Stochastic Optimizer: Maximum iterations (20) reached and the optimization hasn't converged yet.\n",
            "  ConvergenceWarning,\n"
          ]
        },
        {
          "output_type": "stream",
          "name": "stdout",
          "text": [
            "[Pipeline] ............... (step 7 of 7) Processing CLF, total=  10.4s\n"
          ]
        },
        {
          "output_type": "stream",
          "name": "stderr",
          "text": [
            "/usr/local/lib/python3.7/dist-packages/sklearn/utils/validation.py:598: FutureWarning: np.matrix usage is deprecated in 1.0 and will raise a TypeError in 1.2. Please convert to a numpy array with np.asarray. For more information see: https://numpy.org/doc/stable/reference/generated/numpy.matrix.html\n",
            "  FutureWarning,\n"
          ]
        },
        {
          "output_type": "stream",
          "name": "stdout",
          "text": [
            "[Pipeline] ... (step 1 of 7) Processing TweetNormalizer, total=   1.1s\n",
            "[Pipeline] .. (step 2 of 7) Processing FeatureExtractor, total=   4.9s\n",
            "[Pipeline] .. (step 3 of 7) Processing BigramVectorizer, total=   6.2s\n",
            "[Pipeline]  (step 4 of 7) Processing MatrixToArrayConverter, total=   0.0s\n",
            "[Pipeline] ..... (step 5 of 7) Processing OneHotEncoder, total=   0.4s\n",
            "[Pipeline] ..... (step 6 of 7) Processing MatrixUnifier, total=   0.0s\n"
          ]
        },
        {
          "output_type": "stream",
          "name": "stderr",
          "text": [
            "/usr/local/lib/python3.7/dist-packages/sklearn/utils/validation.py:598: FutureWarning: np.matrix usage is deprecated in 1.0 and will raise a TypeError in 1.2. Please convert to a numpy array with np.asarray. For more information see: https://numpy.org/doc/stable/reference/generated/numpy.matrix.html\n",
            "  FutureWarning,\n",
            "/usr/local/lib/python3.7/dist-packages/sklearn/neural_network/_multilayer_perceptron.py:696: ConvergenceWarning: Stochastic Optimizer: Maximum iterations (20) reached and the optimization hasn't converged yet.\n",
            "  ConvergenceWarning,\n"
          ]
        },
        {
          "output_type": "stream",
          "name": "stdout",
          "text": [
            "[Pipeline] ............... (step 7 of 7) Processing CLF, total=  10.5s\n"
          ]
        },
        {
          "output_type": "stream",
          "name": "stderr",
          "text": [
            "/usr/local/lib/python3.7/dist-packages/sklearn/utils/validation.py:598: FutureWarning: np.matrix usage is deprecated in 1.0 and will raise a TypeError in 1.2. Please convert to a numpy array with np.asarray. For more information see: https://numpy.org/doc/stable/reference/generated/numpy.matrix.html\n",
            "  FutureWarning,\n"
          ]
        },
        {
          "output_type": "stream",
          "name": "stdout",
          "text": [
            "[Pipeline] ... (step 1 of 7) Processing TweetNormalizer, total=   1.1s\n",
            "[Pipeline] .. (step 2 of 7) Processing FeatureExtractor, total=   4.9s\n",
            "[Pipeline] .. (step 3 of 7) Processing BigramVectorizer, total=   6.2s\n",
            "[Pipeline]  (step 4 of 7) Processing MatrixToArrayConverter, total=   0.0s\n",
            "[Pipeline] ..... (step 5 of 7) Processing OneHotEncoder, total=   0.4s\n",
            "[Pipeline] ..... (step 6 of 7) Processing MatrixUnifier, total=   0.0s\n"
          ]
        },
        {
          "output_type": "stream",
          "name": "stderr",
          "text": [
            "/usr/local/lib/python3.7/dist-packages/sklearn/utils/validation.py:598: FutureWarning: np.matrix usage is deprecated in 1.0 and will raise a TypeError in 1.2. Please convert to a numpy array with np.asarray. For more information see: https://numpy.org/doc/stable/reference/generated/numpy.matrix.html\n",
            "  FutureWarning,\n",
            "/usr/local/lib/python3.7/dist-packages/sklearn/neural_network/_multilayer_perceptron.py:696: ConvergenceWarning: Stochastic Optimizer: Maximum iterations (20) reached and the optimization hasn't converged yet.\n",
            "  ConvergenceWarning,\n"
          ]
        },
        {
          "output_type": "stream",
          "name": "stdout",
          "text": [
            "[Pipeline] ............... (step 7 of 7) Processing CLF, total=  10.6s\n"
          ]
        },
        {
          "output_type": "stream",
          "name": "stderr",
          "text": [
            "/usr/local/lib/python3.7/dist-packages/sklearn/utils/validation.py:598: FutureWarning: np.matrix usage is deprecated in 1.0 and will raise a TypeError in 1.2. Please convert to a numpy array with np.asarray. For more information see: https://numpy.org/doc/stable/reference/generated/numpy.matrix.html\n",
            "  FutureWarning,\n"
          ]
        },
        {
          "output_type": "stream",
          "name": "stdout",
          "text": [
            "[Pipeline] ... (step 1 of 7) Processing TweetNormalizer, total=   1.1s\n",
            "[Pipeline] .. (step 2 of 7) Processing FeatureExtractor, total=   5.0s\n",
            "[Pipeline] .. (step 3 of 7) Processing BigramVectorizer, total=   6.4s\n",
            "[Pipeline]  (step 4 of 7) Processing MatrixToArrayConverter, total=   0.0s\n",
            "[Pipeline] ..... (step 5 of 7) Processing OneHotEncoder, total=   0.4s\n",
            "[Pipeline] ..... (step 6 of 7) Processing MatrixUnifier, total=   0.0s\n"
          ]
        },
        {
          "output_type": "stream",
          "name": "stderr",
          "text": [
            "/usr/local/lib/python3.7/dist-packages/sklearn/utils/validation.py:598: FutureWarning: np.matrix usage is deprecated in 1.0 and will raise a TypeError in 1.2. Please convert to a numpy array with np.asarray. For more information see: https://numpy.org/doc/stable/reference/generated/numpy.matrix.html\n",
            "  FutureWarning,\n",
            "/usr/local/lib/python3.7/dist-packages/sklearn/neural_network/_multilayer_perceptron.py:696: ConvergenceWarning: Stochastic Optimizer: Maximum iterations (20) reached and the optimization hasn't converged yet.\n",
            "  ConvergenceWarning,\n"
          ]
        },
        {
          "output_type": "stream",
          "name": "stdout",
          "text": [
            "[Pipeline] ............... (step 7 of 7) Processing CLF, total=  10.5s\n"
          ]
        },
        {
          "output_type": "stream",
          "name": "stderr",
          "text": [
            "/usr/local/lib/python3.7/dist-packages/sklearn/utils/validation.py:598: FutureWarning: np.matrix usage is deprecated in 1.0 and will raise a TypeError in 1.2. Please convert to a numpy array with np.asarray. For more information see: https://numpy.org/doc/stable/reference/generated/numpy.matrix.html\n",
            "  FutureWarning,\n"
          ]
        },
        {
          "output_type": "stream",
          "name": "stdout",
          "text": [
            "[Pipeline] ... (step 1 of 7) Processing TweetNormalizer, total=   1.1s\n",
            "[Pipeline] .. (step 2 of 7) Processing FeatureExtractor, total=   4.9s\n",
            "[Pipeline] .. (step 3 of 7) Processing BigramVectorizer, total=   6.1s\n",
            "[Pipeline]  (step 4 of 7) Processing MatrixToArrayConverter, total=   0.0s\n",
            "[Pipeline] ..... (step 5 of 7) Processing OneHotEncoder, total=   0.4s\n",
            "[Pipeline] ..... (step 6 of 7) Processing MatrixUnifier, total=   0.0s\n"
          ]
        },
        {
          "output_type": "stream",
          "name": "stderr",
          "text": [
            "/usr/local/lib/python3.7/dist-packages/sklearn/utils/validation.py:598: FutureWarning: np.matrix usage is deprecated in 1.0 and will raise a TypeError in 1.2. Please convert to a numpy array with np.asarray. For more information see: https://numpy.org/doc/stable/reference/generated/numpy.matrix.html\n",
            "  FutureWarning,\n",
            "/usr/local/lib/python3.7/dist-packages/sklearn/neural_network/_multilayer_perceptron.py:696: ConvergenceWarning: Stochastic Optimizer: Maximum iterations (20) reached and the optimization hasn't converged yet.\n",
            "  ConvergenceWarning,\n"
          ]
        },
        {
          "output_type": "stream",
          "name": "stdout",
          "text": [
            "[Pipeline] ............... (step 7 of 7) Processing CLF, total=  12.6s\n"
          ]
        },
        {
          "output_type": "stream",
          "name": "stderr",
          "text": [
            "/usr/local/lib/python3.7/dist-packages/sklearn/utils/validation.py:598: FutureWarning: np.matrix usage is deprecated in 1.0 and will raise a TypeError in 1.2. Please convert to a numpy array with np.asarray. For more information see: https://numpy.org/doc/stable/reference/generated/numpy.matrix.html\n",
            "  FutureWarning,\n"
          ]
        },
        {
          "output_type": "stream",
          "name": "stdout",
          "text": [
            "[Pipeline] ... (step 1 of 7) Processing TweetNormalizer, total=   1.1s\n",
            "[Pipeline] .. (step 2 of 7) Processing FeatureExtractor, total=   5.0s\n",
            "[Pipeline] .. (step 3 of 7) Processing BigramVectorizer, total=   6.4s\n",
            "[Pipeline]  (step 4 of 7) Processing MatrixToArrayConverter, total=   0.0s\n",
            "[Pipeline] ..... (step 5 of 7) Processing OneHotEncoder, total=   0.4s\n",
            "[Pipeline] ..... (step 6 of 7) Processing MatrixUnifier, total=   0.0s\n"
          ]
        },
        {
          "output_type": "stream",
          "name": "stderr",
          "text": [
            "/usr/local/lib/python3.7/dist-packages/sklearn/utils/validation.py:598: FutureWarning: np.matrix usage is deprecated in 1.0 and will raise a TypeError in 1.2. Please convert to a numpy array with np.asarray. For more information see: https://numpy.org/doc/stable/reference/generated/numpy.matrix.html\n",
            "  FutureWarning,\n",
            "/usr/local/lib/python3.7/dist-packages/sklearn/neural_network/_multilayer_perceptron.py:696: ConvergenceWarning: Stochastic Optimizer: Maximum iterations (20) reached and the optimization hasn't converged yet.\n",
            "  ConvergenceWarning,\n"
          ]
        },
        {
          "output_type": "stream",
          "name": "stdout",
          "text": [
            "[Pipeline] ............... (step 7 of 7) Processing CLF, total=  10.6s\n"
          ]
        },
        {
          "output_type": "stream",
          "name": "stderr",
          "text": [
            "/usr/local/lib/python3.7/dist-packages/sklearn/utils/validation.py:598: FutureWarning: np.matrix usage is deprecated in 1.0 and will raise a TypeError in 1.2. Please convert to a numpy array with np.asarray. For more information see: https://numpy.org/doc/stable/reference/generated/numpy.matrix.html\n",
            "  FutureWarning,\n"
          ]
        },
        {
          "output_type": "stream",
          "name": "stdout",
          "text": [
            "[Pipeline] ... (step 1 of 7) Processing TweetNormalizer, total=   1.1s\n",
            "[Pipeline] .. (step 2 of 7) Processing FeatureExtractor, total=   5.0s\n",
            "[Pipeline] .. (step 3 of 7) Processing BigramVectorizer, total=   6.2s\n",
            "[Pipeline]  (step 4 of 7) Processing MatrixToArrayConverter, total=   0.0s\n",
            "[Pipeline] ..... (step 5 of 7) Processing OneHotEncoder, total=   0.4s\n",
            "[Pipeline] ..... (step 6 of 7) Processing MatrixUnifier, total=   0.0s\n"
          ]
        },
        {
          "output_type": "stream",
          "name": "stderr",
          "text": [
            "/usr/local/lib/python3.7/dist-packages/sklearn/utils/validation.py:598: FutureWarning: np.matrix usage is deprecated in 1.0 and will raise a TypeError in 1.2. Please convert to a numpy array with np.asarray. For more information see: https://numpy.org/doc/stable/reference/generated/numpy.matrix.html\n",
            "  FutureWarning,\n",
            "/usr/local/lib/python3.7/dist-packages/sklearn/neural_network/_multilayer_perceptron.py:696: ConvergenceWarning: Stochastic Optimizer: Maximum iterations (20) reached and the optimization hasn't converged yet.\n",
            "  ConvergenceWarning,\n"
          ]
        },
        {
          "output_type": "stream",
          "name": "stdout",
          "text": [
            "[Pipeline] ............... (step 7 of 7) Processing CLF, total=  10.6s\n"
          ]
        },
        {
          "output_type": "stream",
          "name": "stderr",
          "text": [
            "/usr/local/lib/python3.7/dist-packages/sklearn/utils/validation.py:598: FutureWarning: np.matrix usage is deprecated in 1.0 and will raise a TypeError in 1.2. Please convert to a numpy array with np.asarray. For more information see: https://numpy.org/doc/stable/reference/generated/numpy.matrix.html\n",
            "  FutureWarning,\n"
          ]
        },
        {
          "output_type": "stream",
          "name": "stdout",
          "text": [
            "[Pipeline] ... (step 1 of 7) Processing TweetNormalizer, total=   0.8s\n",
            "[Pipeline] .. (step 2 of 7) Processing FeatureExtractor, total=   4.1s\n",
            "[Pipeline] .. (step 3 of 7) Processing BigramVectorizer, total=   5.3s\n",
            "[Pipeline]  (step 4 of 7) Processing MatrixToArrayConverter, total=   0.0s\n",
            "[Pipeline] ..... (step 5 of 7) Processing OneHotEncoder, total=   0.4s\n",
            "[Pipeline] ..... (step 6 of 7) Processing MatrixUnifier, total=   0.0s\n"
          ]
        },
        {
          "output_type": "stream",
          "name": "stderr",
          "text": [
            "/usr/local/lib/python3.7/dist-packages/sklearn/utils/validation.py:598: FutureWarning: np.matrix usage is deprecated in 1.0 and will raise a TypeError in 1.2. Please convert to a numpy array with np.asarray. For more information see: https://numpy.org/doc/stable/reference/generated/numpy.matrix.html\n",
            "  FutureWarning,\n",
            "/usr/local/lib/python3.7/dist-packages/sklearn/neural_network/_multilayer_perceptron.py:696: ConvergenceWarning: Stochastic Optimizer: Maximum iterations (20) reached and the optimization hasn't converged yet.\n",
            "  ConvergenceWarning,\n"
          ]
        },
        {
          "output_type": "stream",
          "name": "stdout",
          "text": [
            "[Pipeline] ............... (step 7 of 7) Processing CLF, total=  10.6s\n"
          ]
        },
        {
          "output_type": "stream",
          "name": "stderr",
          "text": [
            "/usr/local/lib/python3.7/dist-packages/sklearn/utils/validation.py:598: FutureWarning: np.matrix usage is deprecated in 1.0 and will raise a TypeError in 1.2. Please convert to a numpy array with np.asarray. For more information see: https://numpy.org/doc/stable/reference/generated/numpy.matrix.html\n",
            "  FutureWarning,\n"
          ]
        },
        {
          "output_type": "stream",
          "name": "stdout",
          "text": [
            "[Pipeline] ... (step 1 of 7) Processing TweetNormalizer, total=   1.1s\n",
            "[Pipeline] .. (step 2 of 7) Processing FeatureExtractor, total=   4.9s\n",
            "[Pipeline] .. (step 3 of 7) Processing BigramVectorizer, total=   6.3s\n",
            "[Pipeline]  (step 4 of 7) Processing MatrixToArrayConverter, total=   0.0s\n",
            "[Pipeline] ..... (step 5 of 7) Processing OneHotEncoder, total=   0.4s\n",
            "[Pipeline] ..... (step 6 of 7) Processing MatrixUnifier, total=   0.0s\n"
          ]
        },
        {
          "output_type": "stream",
          "name": "stderr",
          "text": [
            "/usr/local/lib/python3.7/dist-packages/sklearn/utils/validation.py:598: FutureWarning: np.matrix usage is deprecated in 1.0 and will raise a TypeError in 1.2. Please convert to a numpy array with np.asarray. For more information see: https://numpy.org/doc/stable/reference/generated/numpy.matrix.html\n",
            "  FutureWarning,\n",
            "/usr/local/lib/python3.7/dist-packages/sklearn/neural_network/_multilayer_perceptron.py:696: ConvergenceWarning: Stochastic Optimizer: Maximum iterations (20) reached and the optimization hasn't converged yet.\n",
            "  ConvergenceWarning,\n"
          ]
        },
        {
          "output_type": "stream",
          "name": "stdout",
          "text": [
            "[Pipeline] ............... (step 7 of 7) Processing CLF, total=  10.5s\n"
          ]
        },
        {
          "output_type": "stream",
          "name": "stderr",
          "text": [
            "/usr/local/lib/python3.7/dist-packages/sklearn/utils/validation.py:598: FutureWarning: np.matrix usage is deprecated in 1.0 and will raise a TypeError in 1.2. Please convert to a numpy array with np.asarray. For more information see: https://numpy.org/doc/stable/reference/generated/numpy.matrix.html\n",
            "  FutureWarning,\n"
          ]
        },
        {
          "output_type": "stream",
          "name": "stdout",
          "text": [
            "[Pipeline] ... (step 1 of 7) Processing TweetNormalizer, total=   1.1s\n",
            "[Pipeline] .. (step 2 of 7) Processing FeatureExtractor, total=   4.9s\n",
            "[Pipeline] .. (step 3 of 7) Processing BigramVectorizer, total=   6.3s\n",
            "[Pipeline]  (step 4 of 7) Processing MatrixToArrayConverter, total=   0.0s\n",
            "[Pipeline] ..... (step 5 of 7) Processing OneHotEncoder, total=   0.4s\n",
            "[Pipeline] ..... (step 6 of 7) Processing MatrixUnifier, total=   0.0s\n"
          ]
        },
        {
          "output_type": "stream",
          "name": "stderr",
          "text": [
            "/usr/local/lib/python3.7/dist-packages/sklearn/utils/validation.py:598: FutureWarning: np.matrix usage is deprecated in 1.0 and will raise a TypeError in 1.2. Please convert to a numpy array with np.asarray. For more information see: https://numpy.org/doc/stable/reference/generated/numpy.matrix.html\n",
            "  FutureWarning,\n",
            "/usr/local/lib/python3.7/dist-packages/sklearn/neural_network/_multilayer_perceptron.py:696: ConvergenceWarning: Stochastic Optimizer: Maximum iterations (20) reached and the optimization hasn't converged yet.\n",
            "  ConvergenceWarning,\n"
          ]
        },
        {
          "output_type": "stream",
          "name": "stdout",
          "text": [
            "[Pipeline] ............... (step 7 of 7) Processing CLF, total=  10.5s\n"
          ]
        },
        {
          "output_type": "stream",
          "name": "stderr",
          "text": [
            "/usr/local/lib/python3.7/dist-packages/sklearn/utils/validation.py:598: FutureWarning: np.matrix usage is deprecated in 1.0 and will raise a TypeError in 1.2. Please convert to a numpy array with np.asarray. For more information see: https://numpy.org/doc/stable/reference/generated/numpy.matrix.html\n",
            "  FutureWarning,\n"
          ]
        },
        {
          "output_type": "stream",
          "name": "stdout",
          "text": [
            "[Pipeline] ... (step 1 of 7) Processing TweetNormalizer, total=   1.1s\n",
            "[Pipeline] .. (step 2 of 7) Processing FeatureExtractor, total=   5.0s\n",
            "[Pipeline] .. (step 3 of 7) Processing BigramVectorizer, total=   6.3s\n",
            "[Pipeline]  (step 4 of 7) Processing MatrixToArrayConverter, total=   0.0s\n",
            "[Pipeline] ..... (step 5 of 7) Processing OneHotEncoder, total=   0.4s\n",
            "[Pipeline] ..... (step 6 of 7) Processing MatrixUnifier, total=   0.0s\n"
          ]
        },
        {
          "output_type": "stream",
          "name": "stderr",
          "text": [
            "/usr/local/lib/python3.7/dist-packages/sklearn/utils/validation.py:598: FutureWarning: np.matrix usage is deprecated in 1.0 and will raise a TypeError in 1.2. Please convert to a numpy array with np.asarray. For more information see: https://numpy.org/doc/stable/reference/generated/numpy.matrix.html\n",
            "  FutureWarning,\n",
            "/usr/local/lib/python3.7/dist-packages/sklearn/neural_network/_multilayer_perceptron.py:696: ConvergenceWarning: Stochastic Optimizer: Maximum iterations (20) reached and the optimization hasn't converged yet.\n",
            "  ConvergenceWarning,\n"
          ]
        },
        {
          "output_type": "stream",
          "name": "stdout",
          "text": [
            "[Pipeline] ............... (step 7 of 7) Processing CLF, total=  11.2s\n"
          ]
        },
        {
          "output_type": "stream",
          "name": "stderr",
          "text": [
            "/usr/local/lib/python3.7/dist-packages/sklearn/utils/validation.py:598: FutureWarning: np.matrix usage is deprecated in 1.0 and will raise a TypeError in 1.2. Please convert to a numpy array with np.asarray. For more information see: https://numpy.org/doc/stable/reference/generated/numpy.matrix.html\n",
            "  FutureWarning,\n"
          ]
        },
        {
          "output_type": "stream",
          "name": "stdout",
          "text": [
            "[Pipeline] ... (step 1 of 7) Processing TweetNormalizer, total=   1.1s\n",
            "[Pipeline] .. (step 2 of 7) Processing FeatureExtractor, total=   4.9s\n",
            "[Pipeline] .. (step 3 of 7) Processing BigramVectorizer, total=   6.2s\n",
            "[Pipeline]  (step 4 of 7) Processing MatrixToArrayConverter, total=   0.0s\n",
            "[Pipeline] ..... (step 5 of 7) Processing OneHotEncoder, total=   0.4s\n",
            "[Pipeline] ..... (step 6 of 7) Processing MatrixUnifier, total=   0.0s\n"
          ]
        },
        {
          "output_type": "stream",
          "name": "stderr",
          "text": [
            "/usr/local/lib/python3.7/dist-packages/sklearn/utils/validation.py:598: FutureWarning: np.matrix usage is deprecated in 1.0 and will raise a TypeError in 1.2. Please convert to a numpy array with np.asarray. For more information see: https://numpy.org/doc/stable/reference/generated/numpy.matrix.html\n",
            "  FutureWarning,\n",
            "/usr/local/lib/python3.7/dist-packages/sklearn/neural_network/_multilayer_perceptron.py:696: ConvergenceWarning: Stochastic Optimizer: Maximum iterations (20) reached and the optimization hasn't converged yet.\n",
            "  ConvergenceWarning,\n"
          ]
        },
        {
          "output_type": "stream",
          "name": "stdout",
          "text": [
            "[Pipeline] ............... (step 7 of 7) Processing CLF, total=  11.1s\n"
          ]
        },
        {
          "output_type": "stream",
          "name": "stderr",
          "text": [
            "/usr/local/lib/python3.7/dist-packages/sklearn/utils/validation.py:598: FutureWarning: np.matrix usage is deprecated in 1.0 and will raise a TypeError in 1.2. Please convert to a numpy array with np.asarray. For more information see: https://numpy.org/doc/stable/reference/generated/numpy.matrix.html\n",
            "  FutureWarning,\n"
          ]
        },
        {
          "output_type": "stream",
          "name": "stdout",
          "text": [
            "[Pipeline] ... (step 1 of 7) Processing TweetNormalizer, total=   1.1s\n",
            "[Pipeline] .. (step 2 of 7) Processing FeatureExtractor, total=   4.9s\n",
            "[Pipeline] .. (step 3 of 7) Processing BigramVectorizer, total=   6.3s\n",
            "[Pipeline]  (step 4 of 7) Processing MatrixToArrayConverter, total=   0.0s\n",
            "[Pipeline] ..... (step 5 of 7) Processing OneHotEncoder, total=   0.4s\n",
            "[Pipeline] ..... (step 6 of 7) Processing MatrixUnifier, total=   0.0s\n"
          ]
        },
        {
          "output_type": "stream",
          "name": "stderr",
          "text": [
            "/usr/local/lib/python3.7/dist-packages/sklearn/utils/validation.py:598: FutureWarning: np.matrix usage is deprecated in 1.0 and will raise a TypeError in 1.2. Please convert to a numpy array with np.asarray. For more information see: https://numpy.org/doc/stable/reference/generated/numpy.matrix.html\n",
            "  FutureWarning,\n",
            "/usr/local/lib/python3.7/dist-packages/sklearn/neural_network/_multilayer_perceptron.py:696: ConvergenceWarning: Stochastic Optimizer: Maximum iterations (20) reached and the optimization hasn't converged yet.\n",
            "  ConvergenceWarning,\n"
          ]
        },
        {
          "output_type": "stream",
          "name": "stdout",
          "text": [
            "[Pipeline] ............... (step 7 of 7) Processing CLF, total=  11.2s\n"
          ]
        },
        {
          "output_type": "stream",
          "name": "stderr",
          "text": [
            "/usr/local/lib/python3.7/dist-packages/sklearn/utils/validation.py:598: FutureWarning: np.matrix usage is deprecated in 1.0 and will raise a TypeError in 1.2. Please convert to a numpy array with np.asarray. For more information see: https://numpy.org/doc/stable/reference/generated/numpy.matrix.html\n",
            "  FutureWarning,\n"
          ]
        },
        {
          "output_type": "stream",
          "name": "stdout",
          "text": [
            "[Pipeline] ... (step 1 of 7) Processing TweetNormalizer, total=   1.1s\n",
            "[Pipeline] .. (step 2 of 7) Processing FeatureExtractor, total=   5.0s\n",
            "[Pipeline] .. (step 3 of 7) Processing BigramVectorizer, total=   6.3s\n",
            "[Pipeline]  (step 4 of 7) Processing MatrixToArrayConverter, total=   0.0s\n",
            "[Pipeline] ..... (step 5 of 7) Processing OneHotEncoder, total=   0.4s\n",
            "[Pipeline] ..... (step 6 of 7) Processing MatrixUnifier, total=   0.0s\n"
          ]
        },
        {
          "output_type": "stream",
          "name": "stderr",
          "text": [
            "/usr/local/lib/python3.7/dist-packages/sklearn/utils/validation.py:598: FutureWarning: np.matrix usage is deprecated in 1.0 and will raise a TypeError in 1.2. Please convert to a numpy array with np.asarray. For more information see: https://numpy.org/doc/stable/reference/generated/numpy.matrix.html\n",
            "  FutureWarning,\n",
            "/usr/local/lib/python3.7/dist-packages/sklearn/neural_network/_multilayer_perceptron.py:696: ConvergenceWarning: Stochastic Optimizer: Maximum iterations (20) reached and the optimization hasn't converged yet.\n",
            "  ConvergenceWarning,\n"
          ]
        },
        {
          "output_type": "stream",
          "name": "stdout",
          "text": [
            "[Pipeline] ............... (step 7 of 7) Processing CLF, total=  11.2s\n"
          ]
        },
        {
          "output_type": "stream",
          "name": "stderr",
          "text": [
            "/usr/local/lib/python3.7/dist-packages/sklearn/utils/validation.py:598: FutureWarning: np.matrix usage is deprecated in 1.0 and will raise a TypeError in 1.2. Please convert to a numpy array with np.asarray. For more information see: https://numpy.org/doc/stable/reference/generated/numpy.matrix.html\n",
            "  FutureWarning,\n"
          ]
        },
        {
          "output_type": "stream",
          "name": "stdout",
          "text": [
            "[Pipeline] ... (step 1 of 7) Processing TweetNormalizer, total=   1.6s\n",
            "[Pipeline] .. (step 2 of 7) Processing FeatureExtractor, total=   5.6s\n",
            "[Pipeline] .. (step 3 of 7) Processing BigramVectorizer, total=   6.1s\n",
            "[Pipeline]  (step 4 of 7) Processing MatrixToArrayConverter, total=   0.0s\n",
            "[Pipeline] ..... (step 5 of 7) Processing OneHotEncoder, total=   0.4s\n",
            "[Pipeline] ..... (step 6 of 7) Processing MatrixUnifier, total=   0.0s\n"
          ]
        },
        {
          "output_type": "stream",
          "name": "stderr",
          "text": [
            "/usr/local/lib/python3.7/dist-packages/sklearn/utils/validation.py:598: FutureWarning: np.matrix usage is deprecated in 1.0 and will raise a TypeError in 1.2. Please convert to a numpy array with np.asarray. For more information see: https://numpy.org/doc/stable/reference/generated/numpy.matrix.html\n",
            "  FutureWarning,\n",
            "/usr/local/lib/python3.7/dist-packages/sklearn/neural_network/_multilayer_perceptron.py:696: ConvergenceWarning: Stochastic Optimizer: Maximum iterations (20) reached and the optimization hasn't converged yet.\n",
            "  ConvergenceWarning,\n"
          ]
        },
        {
          "output_type": "stream",
          "name": "stdout",
          "text": [
            "[Pipeline] ............... (step 7 of 7) Processing CLF, total=  11.2s\n"
          ]
        },
        {
          "output_type": "stream",
          "name": "stderr",
          "text": [
            "/usr/local/lib/python3.7/dist-packages/sklearn/utils/validation.py:598: FutureWarning: np.matrix usage is deprecated in 1.0 and will raise a TypeError in 1.2. Please convert to a numpy array with np.asarray. For more information see: https://numpy.org/doc/stable/reference/generated/numpy.matrix.html\n",
            "  FutureWarning,\n"
          ]
        },
        {
          "output_type": "stream",
          "name": "stdout",
          "text": [
            "[Pipeline] ... (step 1 of 7) Processing TweetNormalizer, total=   1.1s\n",
            "[Pipeline] .. (step 2 of 7) Processing FeatureExtractor, total=   4.9s\n",
            "[Pipeline] .. (step 3 of 7) Processing BigramVectorizer, total=   6.3s\n",
            "[Pipeline]  (step 4 of 7) Processing MatrixToArrayConverter, total=   0.0s\n",
            "[Pipeline] ..... (step 5 of 7) Processing OneHotEncoder, total=   0.4s\n",
            "[Pipeline] ..... (step 6 of 7) Processing MatrixUnifier, total=   0.0s\n"
          ]
        },
        {
          "output_type": "stream",
          "name": "stderr",
          "text": [
            "/usr/local/lib/python3.7/dist-packages/sklearn/utils/validation.py:598: FutureWarning: np.matrix usage is deprecated in 1.0 and will raise a TypeError in 1.2. Please convert to a numpy array with np.asarray. For more information see: https://numpy.org/doc/stable/reference/generated/numpy.matrix.html\n",
            "  FutureWarning,\n",
            "/usr/local/lib/python3.7/dist-packages/sklearn/neural_network/_multilayer_perceptron.py:696: ConvergenceWarning: Stochastic Optimizer: Maximum iterations (20) reached and the optimization hasn't converged yet.\n",
            "  ConvergenceWarning,\n"
          ]
        },
        {
          "output_type": "stream",
          "name": "stdout",
          "text": [
            "[Pipeline] ............... (step 7 of 7) Processing CLF, total=  11.1s\n"
          ]
        },
        {
          "output_type": "stream",
          "name": "stderr",
          "text": [
            "/usr/local/lib/python3.7/dist-packages/sklearn/utils/validation.py:598: FutureWarning: np.matrix usage is deprecated in 1.0 and will raise a TypeError in 1.2. Please convert to a numpy array with np.asarray. For more information see: https://numpy.org/doc/stable/reference/generated/numpy.matrix.html\n",
            "  FutureWarning,\n"
          ]
        },
        {
          "output_type": "stream",
          "name": "stdout",
          "text": [
            "[Pipeline] ... (step 1 of 7) Processing TweetNormalizer, total=   1.1s\n",
            "[Pipeline] .. (step 2 of 7) Processing FeatureExtractor, total=   4.9s\n",
            "[Pipeline] .. (step 3 of 7) Processing BigramVectorizer, total=   6.2s\n",
            "[Pipeline]  (step 4 of 7) Processing MatrixToArrayConverter, total=   0.0s\n",
            "[Pipeline] ..... (step 5 of 7) Processing OneHotEncoder, total=   0.4s\n",
            "[Pipeline] ..... (step 6 of 7) Processing MatrixUnifier, total=   0.0s\n"
          ]
        },
        {
          "output_type": "stream",
          "name": "stderr",
          "text": [
            "/usr/local/lib/python3.7/dist-packages/sklearn/utils/validation.py:598: FutureWarning: np.matrix usage is deprecated in 1.0 and will raise a TypeError in 1.2. Please convert to a numpy array with np.asarray. For more information see: https://numpy.org/doc/stable/reference/generated/numpy.matrix.html\n",
            "  FutureWarning,\n",
            "/usr/local/lib/python3.7/dist-packages/sklearn/neural_network/_multilayer_perceptron.py:696: ConvergenceWarning: Stochastic Optimizer: Maximum iterations (20) reached and the optimization hasn't converged yet.\n",
            "  ConvergenceWarning,\n"
          ]
        },
        {
          "output_type": "stream",
          "name": "stdout",
          "text": [
            "[Pipeline] ............... (step 7 of 7) Processing CLF, total=  11.1s\n"
          ]
        },
        {
          "output_type": "stream",
          "name": "stderr",
          "text": [
            "/usr/local/lib/python3.7/dist-packages/sklearn/utils/validation.py:598: FutureWarning: np.matrix usage is deprecated in 1.0 and will raise a TypeError in 1.2. Please convert to a numpy array with np.asarray. For more information see: https://numpy.org/doc/stable/reference/generated/numpy.matrix.html\n",
            "  FutureWarning,\n"
          ]
        },
        {
          "output_type": "stream",
          "name": "stdout",
          "text": [
            "[Pipeline] ... (step 1 of 7) Processing TweetNormalizer, total=   0.8s\n",
            "[Pipeline] .. (step 2 of 7) Processing FeatureExtractor, total=   4.2s\n",
            "[Pipeline] .. (step 3 of 7) Processing BigramVectorizer, total=   5.2s\n",
            "[Pipeline]  (step 4 of 7) Processing MatrixToArrayConverter, total=   0.0s\n",
            "[Pipeline] ..... (step 5 of 7) Processing OneHotEncoder, total=   0.4s\n",
            "[Pipeline] ..... (step 6 of 7) Processing MatrixUnifier, total=   0.0s\n"
          ]
        },
        {
          "output_type": "stream",
          "name": "stderr",
          "text": [
            "/usr/local/lib/python3.7/dist-packages/sklearn/utils/validation.py:598: FutureWarning: np.matrix usage is deprecated in 1.0 and will raise a TypeError in 1.2. Please convert to a numpy array with np.asarray. For more information see: https://numpy.org/doc/stable/reference/generated/numpy.matrix.html\n",
            "  FutureWarning,\n",
            "/usr/local/lib/python3.7/dist-packages/sklearn/neural_network/_multilayer_perceptron.py:696: ConvergenceWarning: Stochastic Optimizer: Maximum iterations (20) reached and the optimization hasn't converged yet.\n",
            "  ConvergenceWarning,\n"
          ]
        },
        {
          "output_type": "stream",
          "name": "stdout",
          "text": [
            "[Pipeline] ............... (step 7 of 7) Processing CLF, total=  11.1s\n"
          ]
        },
        {
          "output_type": "stream",
          "name": "stderr",
          "text": [
            "/usr/local/lib/python3.7/dist-packages/sklearn/utils/validation.py:598: FutureWarning: np.matrix usage is deprecated in 1.0 and will raise a TypeError in 1.2. Please convert to a numpy array with np.asarray. For more information see: https://numpy.org/doc/stable/reference/generated/numpy.matrix.html\n",
            "  FutureWarning,\n"
          ]
        },
        {
          "output_type": "stream",
          "name": "stdout",
          "text": [
            "[Pipeline] ... (step 1 of 7) Processing TweetNormalizer, total=   1.1s\n",
            "[Pipeline] .. (step 2 of 7) Processing FeatureExtractor, total=   5.0s\n",
            "[Pipeline] .. (step 3 of 7) Processing BigramVectorizer, total=   6.3s\n",
            "[Pipeline]  (step 4 of 7) Processing MatrixToArrayConverter, total=   0.0s\n",
            "[Pipeline] ..... (step 5 of 7) Processing OneHotEncoder, total=   0.4s\n",
            "[Pipeline] ..... (step 6 of 7) Processing MatrixUnifier, total=   0.0s\n"
          ]
        },
        {
          "output_type": "stream",
          "name": "stderr",
          "text": [
            "/usr/local/lib/python3.7/dist-packages/sklearn/utils/validation.py:598: FutureWarning: np.matrix usage is deprecated in 1.0 and will raise a TypeError in 1.2. Please convert to a numpy array with np.asarray. For more information see: https://numpy.org/doc/stable/reference/generated/numpy.matrix.html\n",
            "  FutureWarning,\n",
            "/usr/local/lib/python3.7/dist-packages/sklearn/neural_network/_multilayer_perceptron.py:696: ConvergenceWarning: Stochastic Optimizer: Maximum iterations (20) reached and the optimization hasn't converged yet.\n",
            "  ConvergenceWarning,\n"
          ]
        },
        {
          "output_type": "stream",
          "name": "stdout",
          "text": [
            "[Pipeline] ............... (step 7 of 7) Processing CLF, total=  10.9s\n"
          ]
        },
        {
          "output_type": "stream",
          "name": "stderr",
          "text": [
            "/usr/local/lib/python3.7/dist-packages/sklearn/utils/validation.py:598: FutureWarning: np.matrix usage is deprecated in 1.0 and will raise a TypeError in 1.2. Please convert to a numpy array with np.asarray. For more information see: https://numpy.org/doc/stable/reference/generated/numpy.matrix.html\n",
            "  FutureWarning,\n"
          ]
        },
        {
          "output_type": "stream",
          "name": "stdout",
          "text": [
            "[Pipeline] ... (step 1 of 7) Processing TweetNormalizer, total=   1.1s\n",
            "[Pipeline] .. (step 2 of 7) Processing FeatureExtractor, total=   4.9s\n",
            "[Pipeline] .. (step 3 of 7) Processing BigramVectorizer, total=   6.2s\n",
            "[Pipeline]  (step 4 of 7) Processing MatrixToArrayConverter, total=   0.0s\n",
            "[Pipeline] ..... (step 5 of 7) Processing OneHotEncoder, total=   0.4s\n",
            "[Pipeline] ..... (step 6 of 7) Processing MatrixUnifier, total=   0.0s\n"
          ]
        },
        {
          "output_type": "stream",
          "name": "stderr",
          "text": [
            "/usr/local/lib/python3.7/dist-packages/sklearn/utils/validation.py:598: FutureWarning: np.matrix usage is deprecated in 1.0 and will raise a TypeError in 1.2. Please convert to a numpy array with np.asarray. For more information see: https://numpy.org/doc/stable/reference/generated/numpy.matrix.html\n",
            "  FutureWarning,\n",
            "/usr/local/lib/python3.7/dist-packages/sklearn/neural_network/_multilayer_perceptron.py:696: ConvergenceWarning: Stochastic Optimizer: Maximum iterations (20) reached and the optimization hasn't converged yet.\n",
            "  ConvergenceWarning,\n"
          ]
        },
        {
          "output_type": "stream",
          "name": "stdout",
          "text": [
            "[Pipeline] ............... (step 7 of 7) Processing CLF, total=  11.1s\n"
          ]
        },
        {
          "output_type": "stream",
          "name": "stderr",
          "text": [
            "/usr/local/lib/python3.7/dist-packages/sklearn/utils/validation.py:598: FutureWarning: np.matrix usage is deprecated in 1.0 and will raise a TypeError in 1.2. Please convert to a numpy array with np.asarray. For more information see: https://numpy.org/doc/stable/reference/generated/numpy.matrix.html\n",
            "  FutureWarning,\n"
          ]
        },
        {
          "output_type": "stream",
          "name": "stdout",
          "text": [
            "[Pipeline] ... (step 1 of 7) Processing TweetNormalizer, total=   1.1s\n",
            "[Pipeline] .. (step 2 of 7) Processing FeatureExtractor, total=   5.0s\n",
            "[Pipeline] .. (step 3 of 7) Processing BigramVectorizer, total=   6.2s\n",
            "[Pipeline]  (step 4 of 7) Processing MatrixToArrayConverter, total=   0.0s\n",
            "[Pipeline] ..... (step 5 of 7) Processing OneHotEncoder, total=   0.4s\n",
            "[Pipeline] ..... (step 6 of 7) Processing MatrixUnifier, total=   0.0s\n"
          ]
        },
        {
          "output_type": "stream",
          "name": "stderr",
          "text": [
            "/usr/local/lib/python3.7/dist-packages/sklearn/utils/validation.py:598: FutureWarning: np.matrix usage is deprecated in 1.0 and will raise a TypeError in 1.2. Please convert to a numpy array with np.asarray. For more information see: https://numpy.org/doc/stable/reference/generated/numpy.matrix.html\n",
            "  FutureWarning,\n",
            "/usr/local/lib/python3.7/dist-packages/sklearn/neural_network/_multilayer_perceptron.py:696: ConvergenceWarning: Stochastic Optimizer: Maximum iterations (20) reached and the optimization hasn't converged yet.\n",
            "  ConvergenceWarning,\n"
          ]
        },
        {
          "output_type": "stream",
          "name": "stdout",
          "text": [
            "[Pipeline] ............... (step 7 of 7) Processing CLF, total=  14.1s\n"
          ]
        },
        {
          "output_type": "stream",
          "name": "stderr",
          "text": [
            "/usr/local/lib/python3.7/dist-packages/sklearn/utils/validation.py:598: FutureWarning: np.matrix usage is deprecated in 1.0 and will raise a TypeError in 1.2. Please convert to a numpy array with np.asarray. For more information see: https://numpy.org/doc/stable/reference/generated/numpy.matrix.html\n",
            "  FutureWarning,\n"
          ]
        },
        {
          "output_type": "stream",
          "name": "stdout",
          "text": [
            "[Pipeline] ... (step 1 of 7) Processing TweetNormalizer, total=   1.1s\n",
            "[Pipeline] .. (step 2 of 7) Processing FeatureExtractor, total=   5.0s\n",
            "[Pipeline] .. (step 3 of 7) Processing BigramVectorizer, total=   6.1s\n",
            "[Pipeline]  (step 4 of 7) Processing MatrixToArrayConverter, total=   0.0s\n",
            "[Pipeline] ..... (step 5 of 7) Processing OneHotEncoder, total=   0.4s\n",
            "[Pipeline] ..... (step 6 of 7) Processing MatrixUnifier, total=   0.0s\n"
          ]
        },
        {
          "output_type": "stream",
          "name": "stderr",
          "text": [
            "/usr/local/lib/python3.7/dist-packages/sklearn/utils/validation.py:598: FutureWarning: np.matrix usage is deprecated in 1.0 and will raise a TypeError in 1.2. Please convert to a numpy array with np.asarray. For more information see: https://numpy.org/doc/stable/reference/generated/numpy.matrix.html\n",
            "  FutureWarning,\n",
            "/usr/local/lib/python3.7/dist-packages/sklearn/neural_network/_multilayer_perceptron.py:696: ConvergenceWarning: Stochastic Optimizer: Maximum iterations (20) reached and the optimization hasn't converged yet.\n",
            "  ConvergenceWarning,\n"
          ]
        },
        {
          "output_type": "stream",
          "name": "stdout",
          "text": [
            "[Pipeline] ............... (step 7 of 7) Processing CLF, total=  14.6s\n"
          ]
        },
        {
          "output_type": "stream",
          "name": "stderr",
          "text": [
            "/usr/local/lib/python3.7/dist-packages/sklearn/utils/validation.py:598: FutureWarning: np.matrix usage is deprecated in 1.0 and will raise a TypeError in 1.2. Please convert to a numpy array with np.asarray. For more information see: https://numpy.org/doc/stable/reference/generated/numpy.matrix.html\n",
            "  FutureWarning,\n"
          ]
        },
        {
          "output_type": "stream",
          "name": "stdout",
          "text": [
            "[Pipeline] ... (step 1 of 7) Processing TweetNormalizer, total=   1.1s\n",
            "[Pipeline] .. (step 2 of 7) Processing FeatureExtractor, total=   5.0s\n",
            "[Pipeline] .. (step 3 of 7) Processing BigramVectorizer, total=   6.3s\n",
            "[Pipeline]  (step 4 of 7) Processing MatrixToArrayConverter, total=   0.0s\n",
            "[Pipeline] ..... (step 5 of 7) Processing OneHotEncoder, total=   0.4s\n",
            "[Pipeline] ..... (step 6 of 7) Processing MatrixUnifier, total=   0.0s\n"
          ]
        },
        {
          "output_type": "stream",
          "name": "stderr",
          "text": [
            "/usr/local/lib/python3.7/dist-packages/sklearn/utils/validation.py:598: FutureWarning: np.matrix usage is deprecated in 1.0 and will raise a TypeError in 1.2. Please convert to a numpy array with np.asarray. For more information see: https://numpy.org/doc/stable/reference/generated/numpy.matrix.html\n",
            "  FutureWarning,\n",
            "/usr/local/lib/python3.7/dist-packages/sklearn/neural_network/_multilayer_perceptron.py:696: ConvergenceWarning: Stochastic Optimizer: Maximum iterations (20) reached and the optimization hasn't converged yet.\n",
            "  ConvergenceWarning,\n"
          ]
        },
        {
          "output_type": "stream",
          "name": "stdout",
          "text": [
            "[Pipeline] ............... (step 7 of 7) Processing CLF, total=  16.6s\n"
          ]
        },
        {
          "output_type": "stream",
          "name": "stderr",
          "text": [
            "/usr/local/lib/python3.7/dist-packages/sklearn/utils/validation.py:598: FutureWarning: np.matrix usage is deprecated in 1.0 and will raise a TypeError in 1.2. Please convert to a numpy array with np.asarray. For more information see: https://numpy.org/doc/stable/reference/generated/numpy.matrix.html\n",
            "  FutureWarning,\n"
          ]
        },
        {
          "output_type": "stream",
          "name": "stdout",
          "text": [
            "[Pipeline] ... (step 1 of 7) Processing TweetNormalizer, total=   1.1s\n",
            "[Pipeline] .. (step 2 of 7) Processing FeatureExtractor, total=   5.0s\n",
            "[Pipeline] .. (step 3 of 7) Processing BigramVectorizer, total=   6.2s\n",
            "[Pipeline]  (step 4 of 7) Processing MatrixToArrayConverter, total=   0.0s\n",
            "[Pipeline] ..... (step 5 of 7) Processing OneHotEncoder, total=   0.4s\n",
            "[Pipeline] ..... (step 6 of 7) Processing MatrixUnifier, total=   0.0s\n"
          ]
        },
        {
          "output_type": "stream",
          "name": "stderr",
          "text": [
            "/usr/local/lib/python3.7/dist-packages/sklearn/utils/validation.py:598: FutureWarning: np.matrix usage is deprecated in 1.0 and will raise a TypeError in 1.2. Please convert to a numpy array with np.asarray. For more information see: https://numpy.org/doc/stable/reference/generated/numpy.matrix.html\n",
            "  FutureWarning,\n",
            "/usr/local/lib/python3.7/dist-packages/sklearn/neural_network/_multilayer_perceptron.py:696: ConvergenceWarning: Stochastic Optimizer: Maximum iterations (20) reached and the optimization hasn't converged yet.\n",
            "  ConvergenceWarning,\n"
          ]
        },
        {
          "output_type": "stream",
          "name": "stdout",
          "text": [
            "[Pipeline] ............... (step 7 of 7) Processing CLF, total=  14.2s\n"
          ]
        },
        {
          "output_type": "stream",
          "name": "stderr",
          "text": [
            "/usr/local/lib/python3.7/dist-packages/sklearn/utils/validation.py:598: FutureWarning: np.matrix usage is deprecated in 1.0 and will raise a TypeError in 1.2. Please convert to a numpy array with np.asarray. For more information see: https://numpy.org/doc/stable/reference/generated/numpy.matrix.html\n",
            "  FutureWarning,\n"
          ]
        },
        {
          "output_type": "stream",
          "name": "stdout",
          "text": [
            "[Pipeline] ... (step 1 of 7) Processing TweetNormalizer, total=   1.1s\n",
            "[Pipeline] .. (step 2 of 7) Processing FeatureExtractor, total=   4.9s\n",
            "[Pipeline] .. (step 3 of 7) Processing BigramVectorizer, total=   6.2s\n",
            "[Pipeline]  (step 4 of 7) Processing MatrixToArrayConverter, total=   0.0s\n",
            "[Pipeline] ..... (step 5 of 7) Processing OneHotEncoder, total=   0.4s\n",
            "[Pipeline] ..... (step 6 of 7) Processing MatrixUnifier, total=   0.0s\n"
          ]
        },
        {
          "output_type": "stream",
          "name": "stderr",
          "text": [
            "/usr/local/lib/python3.7/dist-packages/sklearn/utils/validation.py:598: FutureWarning: np.matrix usage is deprecated in 1.0 and will raise a TypeError in 1.2. Please convert to a numpy array with np.asarray. For more information see: https://numpy.org/doc/stable/reference/generated/numpy.matrix.html\n",
            "  FutureWarning,\n",
            "/usr/local/lib/python3.7/dist-packages/sklearn/neural_network/_multilayer_perceptron.py:696: ConvergenceWarning: Stochastic Optimizer: Maximum iterations (20) reached and the optimization hasn't converged yet.\n",
            "  ConvergenceWarning,\n"
          ]
        },
        {
          "output_type": "stream",
          "name": "stdout",
          "text": [
            "[Pipeline] ............... (step 7 of 7) Processing CLF, total=  14.3s\n"
          ]
        },
        {
          "output_type": "stream",
          "name": "stderr",
          "text": [
            "/usr/local/lib/python3.7/dist-packages/sklearn/utils/validation.py:598: FutureWarning: np.matrix usage is deprecated in 1.0 and will raise a TypeError in 1.2. Please convert to a numpy array with np.asarray. For more information see: https://numpy.org/doc/stable/reference/generated/numpy.matrix.html\n",
            "  FutureWarning,\n"
          ]
        },
        {
          "output_type": "stream",
          "name": "stdout",
          "text": [
            "[Pipeline] ... (step 1 of 7) Processing TweetNormalizer, total=   1.1s\n",
            "[Pipeline] .. (step 2 of 7) Processing FeatureExtractor, total=   5.0s\n",
            "[Pipeline] .. (step 3 of 7) Processing BigramVectorizer, total=   6.3s\n",
            "[Pipeline]  (step 4 of 7) Processing MatrixToArrayConverter, total=   0.0s\n",
            "[Pipeline] ..... (step 5 of 7) Processing OneHotEncoder, total=   0.4s\n",
            "[Pipeline] ..... (step 6 of 7) Processing MatrixUnifier, total=   0.0s\n"
          ]
        },
        {
          "output_type": "stream",
          "name": "stderr",
          "text": [
            "/usr/local/lib/python3.7/dist-packages/sklearn/utils/validation.py:598: FutureWarning: np.matrix usage is deprecated in 1.0 and will raise a TypeError in 1.2. Please convert to a numpy array with np.asarray. For more information see: https://numpy.org/doc/stable/reference/generated/numpy.matrix.html\n",
            "  FutureWarning,\n",
            "/usr/local/lib/python3.7/dist-packages/sklearn/neural_network/_multilayer_perceptron.py:696: ConvergenceWarning: Stochastic Optimizer: Maximum iterations (20) reached and the optimization hasn't converged yet.\n",
            "  ConvergenceWarning,\n"
          ]
        },
        {
          "output_type": "stream",
          "name": "stdout",
          "text": [
            "[Pipeline] ............... (step 7 of 7) Processing CLF, total=  14.2s\n"
          ]
        },
        {
          "output_type": "stream",
          "name": "stderr",
          "text": [
            "/usr/local/lib/python3.7/dist-packages/sklearn/utils/validation.py:598: FutureWarning: np.matrix usage is deprecated in 1.0 and will raise a TypeError in 1.2. Please convert to a numpy array with np.asarray. For more information see: https://numpy.org/doc/stable/reference/generated/numpy.matrix.html\n",
            "  FutureWarning,\n"
          ]
        },
        {
          "output_type": "stream",
          "name": "stdout",
          "text": [
            "[Pipeline] ... (step 1 of 7) Processing TweetNormalizer, total=   1.1s\n",
            "[Pipeline] .. (step 2 of 7) Processing FeatureExtractor, total=   5.0s\n",
            "[Pipeline] .. (step 3 of 7) Processing BigramVectorizer, total=   6.2s\n",
            "[Pipeline]  (step 4 of 7) Processing MatrixToArrayConverter, total=   0.0s\n",
            "[Pipeline] ..... (step 5 of 7) Processing OneHotEncoder, total=   0.4s\n",
            "[Pipeline] ..... (step 6 of 7) Processing MatrixUnifier, total=   0.0s\n"
          ]
        },
        {
          "output_type": "stream",
          "name": "stderr",
          "text": [
            "/usr/local/lib/python3.7/dist-packages/sklearn/utils/validation.py:598: FutureWarning: np.matrix usage is deprecated in 1.0 and will raise a TypeError in 1.2. Please convert to a numpy array with np.asarray. For more information see: https://numpy.org/doc/stable/reference/generated/numpy.matrix.html\n",
            "  FutureWarning,\n",
            "/usr/local/lib/python3.7/dist-packages/sklearn/neural_network/_multilayer_perceptron.py:696: ConvergenceWarning: Stochastic Optimizer: Maximum iterations (20) reached and the optimization hasn't converged yet.\n",
            "  ConvergenceWarning,\n"
          ]
        },
        {
          "output_type": "stream",
          "name": "stdout",
          "text": [
            "[Pipeline] ............... (step 7 of 7) Processing CLF, total=  13.9s\n"
          ]
        },
        {
          "output_type": "stream",
          "name": "stderr",
          "text": [
            "/usr/local/lib/python3.7/dist-packages/sklearn/utils/validation.py:598: FutureWarning: np.matrix usage is deprecated in 1.0 and will raise a TypeError in 1.2. Please convert to a numpy array with np.asarray. For more information see: https://numpy.org/doc/stable/reference/generated/numpy.matrix.html\n",
            "  FutureWarning,\n"
          ]
        },
        {
          "output_type": "stream",
          "name": "stdout",
          "text": [
            "[Pipeline] ... (step 1 of 7) Processing TweetNormalizer, total=   0.9s\n",
            "[Pipeline] .. (step 2 of 7) Processing FeatureExtractor, total=   4.1s\n",
            "[Pipeline] .. (step 3 of 7) Processing BigramVectorizer, total=   5.3s\n",
            "[Pipeline]  (step 4 of 7) Processing MatrixToArrayConverter, total=   0.0s\n",
            "[Pipeline] ..... (step 5 of 7) Processing OneHotEncoder, total=   0.4s\n",
            "[Pipeline] ..... (step 6 of 7) Processing MatrixUnifier, total=   0.0s\n"
          ]
        },
        {
          "output_type": "stream",
          "name": "stderr",
          "text": [
            "/usr/local/lib/python3.7/dist-packages/sklearn/utils/validation.py:598: FutureWarning: np.matrix usage is deprecated in 1.0 and will raise a TypeError in 1.2. Please convert to a numpy array with np.asarray. For more information see: https://numpy.org/doc/stable/reference/generated/numpy.matrix.html\n",
            "  FutureWarning,\n",
            "/usr/local/lib/python3.7/dist-packages/sklearn/neural_network/_multilayer_perceptron.py:696: ConvergenceWarning: Stochastic Optimizer: Maximum iterations (20) reached and the optimization hasn't converged yet.\n",
            "  ConvergenceWarning,\n"
          ]
        },
        {
          "output_type": "stream",
          "name": "stdout",
          "text": [
            "[Pipeline] ............... (step 7 of 7) Processing CLF, total=  14.0s\n"
          ]
        },
        {
          "output_type": "stream",
          "name": "stderr",
          "text": [
            "/usr/local/lib/python3.7/dist-packages/sklearn/utils/validation.py:598: FutureWarning: np.matrix usage is deprecated in 1.0 and will raise a TypeError in 1.2. Please convert to a numpy array with np.asarray. For more information see: https://numpy.org/doc/stable/reference/generated/numpy.matrix.html\n",
            "  FutureWarning,\n"
          ]
        },
        {
          "output_type": "stream",
          "name": "stdout",
          "text": [
            "[Pipeline] ... (step 1 of 7) Processing TweetNormalizer, total=   1.1s\n",
            "[Pipeline] .. (step 2 of 7) Processing FeatureExtractor, total=   4.9s\n",
            "[Pipeline] .. (step 3 of 7) Processing BigramVectorizer, total=   6.2s\n",
            "[Pipeline]  (step 4 of 7) Processing MatrixToArrayConverter, total=   0.0s\n",
            "[Pipeline] ..... (step 5 of 7) Processing OneHotEncoder, total=   0.4s\n",
            "[Pipeline] ..... (step 6 of 7) Processing MatrixUnifier, total=   0.0s\n"
          ]
        },
        {
          "output_type": "stream",
          "name": "stderr",
          "text": [
            "/usr/local/lib/python3.7/dist-packages/sklearn/utils/validation.py:598: FutureWarning: np.matrix usage is deprecated in 1.0 and will raise a TypeError in 1.2. Please convert to a numpy array with np.asarray. For more information see: https://numpy.org/doc/stable/reference/generated/numpy.matrix.html\n",
            "  FutureWarning,\n",
            "/usr/local/lib/python3.7/dist-packages/sklearn/neural_network/_multilayer_perceptron.py:696: ConvergenceWarning: Stochastic Optimizer: Maximum iterations (20) reached and the optimization hasn't converged yet.\n",
            "  ConvergenceWarning,\n"
          ]
        },
        {
          "output_type": "stream",
          "name": "stdout",
          "text": [
            "[Pipeline] ............... (step 7 of 7) Processing CLF, total=  14.2s\n"
          ]
        },
        {
          "output_type": "stream",
          "name": "stderr",
          "text": [
            "/usr/local/lib/python3.7/dist-packages/sklearn/utils/validation.py:598: FutureWarning: np.matrix usage is deprecated in 1.0 and will raise a TypeError in 1.2. Please convert to a numpy array with np.asarray. For more information see: https://numpy.org/doc/stable/reference/generated/numpy.matrix.html\n",
            "  FutureWarning,\n"
          ]
        },
        {
          "output_type": "stream",
          "name": "stdout",
          "text": [
            "[Pipeline] ... (step 1 of 7) Processing TweetNormalizer, total=   1.1s\n",
            "[Pipeline] .. (step 2 of 7) Processing FeatureExtractor, total=   4.9s\n",
            "[Pipeline] .. (step 3 of 7) Processing BigramVectorizer, total=   6.4s\n",
            "[Pipeline]  (step 4 of 7) Processing MatrixToArrayConverter, total=   0.0s\n",
            "[Pipeline] ..... (step 5 of 7) Processing OneHotEncoder, total=   0.4s\n",
            "[Pipeline] ..... (step 6 of 7) Processing MatrixUnifier, total=   0.0s\n"
          ]
        },
        {
          "output_type": "stream",
          "name": "stderr",
          "text": [
            "/usr/local/lib/python3.7/dist-packages/sklearn/utils/validation.py:598: FutureWarning: np.matrix usage is deprecated in 1.0 and will raise a TypeError in 1.2. Please convert to a numpy array with np.asarray. For more information see: https://numpy.org/doc/stable/reference/generated/numpy.matrix.html\n",
            "  FutureWarning,\n",
            "/usr/local/lib/python3.7/dist-packages/sklearn/neural_network/_multilayer_perceptron.py:696: ConvergenceWarning: Stochastic Optimizer: Maximum iterations (20) reached and the optimization hasn't converged yet.\n",
            "  ConvergenceWarning,\n"
          ]
        },
        {
          "output_type": "stream",
          "name": "stdout",
          "text": [
            "[Pipeline] ............... (step 7 of 7) Processing CLF, total=  14.1s\n"
          ]
        },
        {
          "output_type": "stream",
          "name": "stderr",
          "text": [
            "/usr/local/lib/python3.7/dist-packages/sklearn/utils/validation.py:598: FutureWarning: np.matrix usage is deprecated in 1.0 and will raise a TypeError in 1.2. Please convert to a numpy array with np.asarray. For more information see: https://numpy.org/doc/stable/reference/generated/numpy.matrix.html\n",
            "  FutureWarning,\n"
          ]
        },
        {
          "output_type": "stream",
          "name": "stdout",
          "text": [
            "[Pipeline] ... (step 1 of 7) Processing TweetNormalizer, total=   1.1s\n",
            "[Pipeline] .. (step 2 of 7) Processing FeatureExtractor, total=   4.9s\n",
            "[Pipeline] .. (step 3 of 7) Processing BigramVectorizer, total=   6.2s\n",
            "[Pipeline]  (step 4 of 7) Processing MatrixToArrayConverter, total=   0.0s\n",
            "[Pipeline] ..... (step 5 of 7) Processing OneHotEncoder, total=   0.4s\n",
            "[Pipeline] ..... (step 6 of 7) Processing MatrixUnifier, total=   0.0s\n"
          ]
        },
        {
          "output_type": "stream",
          "name": "stderr",
          "text": [
            "/usr/local/lib/python3.7/dist-packages/sklearn/utils/validation.py:598: FutureWarning: np.matrix usage is deprecated in 1.0 and will raise a TypeError in 1.2. Please convert to a numpy array with np.asarray. For more information see: https://numpy.org/doc/stable/reference/generated/numpy.matrix.html\n",
            "  FutureWarning,\n",
            "/usr/local/lib/python3.7/dist-packages/sklearn/neural_network/_multilayer_perceptron.py:696: ConvergenceWarning: Stochastic Optimizer: Maximum iterations (20) reached and the optimization hasn't converged yet.\n",
            "  ConvergenceWarning,\n"
          ]
        },
        {
          "output_type": "stream",
          "name": "stdout",
          "text": [
            "[Pipeline] ............... (step 7 of 7) Processing CLF, total=  16.9s\n"
          ]
        },
        {
          "output_type": "stream",
          "name": "stderr",
          "text": [
            "/usr/local/lib/python3.7/dist-packages/sklearn/utils/validation.py:598: FutureWarning: np.matrix usage is deprecated in 1.0 and will raise a TypeError in 1.2. Please convert to a numpy array with np.asarray. For more information see: https://numpy.org/doc/stable/reference/generated/numpy.matrix.html\n",
            "  FutureWarning,\n"
          ]
        },
        {
          "output_type": "stream",
          "name": "stdout",
          "text": [
            "[Pipeline] ... (step 1 of 7) Processing TweetNormalizer, total=   1.1s\n",
            "[Pipeline] .. (step 2 of 7) Processing FeatureExtractor, total=   4.9s\n",
            "[Pipeline] .. (step 3 of 7) Processing BigramVectorizer, total=   6.3s\n",
            "[Pipeline]  (step 4 of 7) Processing MatrixToArrayConverter, total=   0.0s\n",
            "[Pipeline] ..... (step 5 of 7) Processing OneHotEncoder, total=   0.4s\n",
            "[Pipeline] ..... (step 6 of 7) Processing MatrixUnifier, total=   0.0s\n"
          ]
        },
        {
          "output_type": "stream",
          "name": "stderr",
          "text": [
            "/usr/local/lib/python3.7/dist-packages/sklearn/utils/validation.py:598: FutureWarning: np.matrix usage is deprecated in 1.0 and will raise a TypeError in 1.2. Please convert to a numpy array with np.asarray. For more information see: https://numpy.org/doc/stable/reference/generated/numpy.matrix.html\n",
            "  FutureWarning,\n",
            "/usr/local/lib/python3.7/dist-packages/sklearn/neural_network/_multilayer_perceptron.py:696: ConvergenceWarning: Stochastic Optimizer: Maximum iterations (20) reached and the optimization hasn't converged yet.\n",
            "  ConvergenceWarning,\n"
          ]
        },
        {
          "output_type": "stream",
          "name": "stdout",
          "text": [
            "[Pipeline] ............... (step 7 of 7) Processing CLF, total=  15.1s\n"
          ]
        },
        {
          "output_type": "stream",
          "name": "stderr",
          "text": [
            "/usr/local/lib/python3.7/dist-packages/sklearn/utils/validation.py:598: FutureWarning: np.matrix usage is deprecated in 1.0 and will raise a TypeError in 1.2. Please convert to a numpy array with np.asarray. For more information see: https://numpy.org/doc/stable/reference/generated/numpy.matrix.html\n",
            "  FutureWarning,\n"
          ]
        },
        {
          "output_type": "stream",
          "name": "stdout",
          "text": [
            "[Pipeline] ... (step 1 of 7) Processing TweetNormalizer, total=   1.1s\n",
            "[Pipeline] .. (step 2 of 7) Processing FeatureExtractor, total=   4.9s\n",
            "[Pipeline] .. (step 3 of 7) Processing BigramVectorizer, total=   6.2s\n",
            "[Pipeline]  (step 4 of 7) Processing MatrixToArrayConverter, total=   0.0s\n",
            "[Pipeline] ..... (step 5 of 7) Processing OneHotEncoder, total=   0.4s\n",
            "[Pipeline] ..... (step 6 of 7) Processing MatrixUnifier, total=   0.0s\n"
          ]
        },
        {
          "output_type": "stream",
          "name": "stderr",
          "text": [
            "/usr/local/lib/python3.7/dist-packages/sklearn/utils/validation.py:598: FutureWarning: np.matrix usage is deprecated in 1.0 and will raise a TypeError in 1.2. Please convert to a numpy array with np.asarray. For more information see: https://numpy.org/doc/stable/reference/generated/numpy.matrix.html\n",
            "  FutureWarning,\n",
            "/usr/local/lib/python3.7/dist-packages/sklearn/neural_network/_multilayer_perceptron.py:696: ConvergenceWarning: Stochastic Optimizer: Maximum iterations (20) reached and the optimization hasn't converged yet.\n",
            "  ConvergenceWarning,\n"
          ]
        },
        {
          "output_type": "stream",
          "name": "stdout",
          "text": [
            "[Pipeline] ............... (step 7 of 7) Processing CLF, total=  15.1s\n"
          ]
        },
        {
          "output_type": "stream",
          "name": "stderr",
          "text": [
            "/usr/local/lib/python3.7/dist-packages/sklearn/utils/validation.py:598: FutureWarning: np.matrix usage is deprecated in 1.0 and will raise a TypeError in 1.2. Please convert to a numpy array with np.asarray. For more information see: https://numpy.org/doc/stable/reference/generated/numpy.matrix.html\n",
            "  FutureWarning,\n"
          ]
        },
        {
          "output_type": "stream",
          "name": "stdout",
          "text": [
            "[Pipeline] ... (step 1 of 7) Processing TweetNormalizer, total=   1.6s\n",
            "[Pipeline] .. (step 2 of 7) Processing FeatureExtractor, total=   5.3s\n",
            "[Pipeline] .. (step 3 of 7) Processing BigramVectorizer, total=   6.3s\n",
            "[Pipeline]  (step 4 of 7) Processing MatrixToArrayConverter, total=   0.0s\n",
            "[Pipeline] ..... (step 5 of 7) Processing OneHotEncoder, total=   0.4s\n",
            "[Pipeline] ..... (step 6 of 7) Processing MatrixUnifier, total=   0.0s\n"
          ]
        },
        {
          "output_type": "stream",
          "name": "stderr",
          "text": [
            "/usr/local/lib/python3.7/dist-packages/sklearn/utils/validation.py:598: FutureWarning: np.matrix usage is deprecated in 1.0 and will raise a TypeError in 1.2. Please convert to a numpy array with np.asarray. For more information see: https://numpy.org/doc/stable/reference/generated/numpy.matrix.html\n",
            "  FutureWarning,\n",
            "/usr/local/lib/python3.7/dist-packages/sklearn/neural_network/_multilayer_perceptron.py:696: ConvergenceWarning: Stochastic Optimizer: Maximum iterations (20) reached and the optimization hasn't converged yet.\n",
            "  ConvergenceWarning,\n"
          ]
        },
        {
          "output_type": "stream",
          "name": "stdout",
          "text": [
            "[Pipeline] ............... (step 7 of 7) Processing CLF, total=  15.0s\n"
          ]
        },
        {
          "output_type": "stream",
          "name": "stderr",
          "text": [
            "/usr/local/lib/python3.7/dist-packages/sklearn/utils/validation.py:598: FutureWarning: np.matrix usage is deprecated in 1.0 and will raise a TypeError in 1.2. Please convert to a numpy array with np.asarray. For more information see: https://numpy.org/doc/stable/reference/generated/numpy.matrix.html\n",
            "  FutureWarning,\n"
          ]
        },
        {
          "output_type": "stream",
          "name": "stdout",
          "text": [
            "[Pipeline] ... (step 1 of 7) Processing TweetNormalizer, total=   1.1s\n",
            "[Pipeline] .. (step 2 of 7) Processing FeatureExtractor, total=   5.0s\n",
            "[Pipeline] .. (step 3 of 7) Processing BigramVectorizer, total=   6.2s\n",
            "[Pipeline]  (step 4 of 7) Processing MatrixToArrayConverter, total=   0.0s\n",
            "[Pipeline] ..... (step 5 of 7) Processing OneHotEncoder, total=   0.4s\n",
            "[Pipeline] ..... (step 6 of 7) Processing MatrixUnifier, total=   0.0s\n"
          ]
        },
        {
          "output_type": "stream",
          "name": "stderr",
          "text": [
            "/usr/local/lib/python3.7/dist-packages/sklearn/utils/validation.py:598: FutureWarning: np.matrix usage is deprecated in 1.0 and will raise a TypeError in 1.2. Please convert to a numpy array with np.asarray. For more information see: https://numpy.org/doc/stable/reference/generated/numpy.matrix.html\n",
            "  FutureWarning,\n",
            "/usr/local/lib/python3.7/dist-packages/sklearn/neural_network/_multilayer_perceptron.py:696: ConvergenceWarning: Stochastic Optimizer: Maximum iterations (20) reached and the optimization hasn't converged yet.\n",
            "  ConvergenceWarning,\n"
          ]
        },
        {
          "output_type": "stream",
          "name": "stdout",
          "text": [
            "[Pipeline] ............... (step 7 of 7) Processing CLF, total=  15.1s\n"
          ]
        },
        {
          "output_type": "stream",
          "name": "stderr",
          "text": [
            "/usr/local/lib/python3.7/dist-packages/sklearn/utils/validation.py:598: FutureWarning: np.matrix usage is deprecated in 1.0 and will raise a TypeError in 1.2. Please convert to a numpy array with np.asarray. For more information see: https://numpy.org/doc/stable/reference/generated/numpy.matrix.html\n",
            "  FutureWarning,\n"
          ]
        },
        {
          "output_type": "stream",
          "name": "stdout",
          "text": [
            "[Pipeline] ... (step 1 of 7) Processing TweetNormalizer, total=   1.1s\n",
            "[Pipeline] .. (step 2 of 7) Processing FeatureExtractor, total=   4.9s\n",
            "[Pipeline] .. (step 3 of 7) Processing BigramVectorizer, total=   6.3s\n",
            "[Pipeline]  (step 4 of 7) Processing MatrixToArrayConverter, total=   0.0s\n",
            "[Pipeline] ..... (step 5 of 7) Processing OneHotEncoder, total=   0.4s\n",
            "[Pipeline] ..... (step 6 of 7) Processing MatrixUnifier, total=   0.0s\n"
          ]
        },
        {
          "output_type": "stream",
          "name": "stderr",
          "text": [
            "/usr/local/lib/python3.7/dist-packages/sklearn/utils/validation.py:598: FutureWarning: np.matrix usage is deprecated in 1.0 and will raise a TypeError in 1.2. Please convert to a numpy array with np.asarray. For more information see: https://numpy.org/doc/stable/reference/generated/numpy.matrix.html\n",
            "  FutureWarning,\n",
            "/usr/local/lib/python3.7/dist-packages/sklearn/neural_network/_multilayer_perceptron.py:696: ConvergenceWarning: Stochastic Optimizer: Maximum iterations (20) reached and the optimization hasn't converged yet.\n",
            "  ConvergenceWarning,\n"
          ]
        },
        {
          "output_type": "stream",
          "name": "stdout",
          "text": [
            "[Pipeline] ............... (step 7 of 7) Processing CLF, total=  14.9s\n"
          ]
        },
        {
          "output_type": "stream",
          "name": "stderr",
          "text": [
            "/usr/local/lib/python3.7/dist-packages/sklearn/utils/validation.py:598: FutureWarning: np.matrix usage is deprecated in 1.0 and will raise a TypeError in 1.2. Please convert to a numpy array with np.asarray. For more information see: https://numpy.org/doc/stable/reference/generated/numpy.matrix.html\n",
            "  FutureWarning,\n"
          ]
        },
        {
          "output_type": "stream",
          "name": "stdout",
          "text": [
            "[Pipeline] ... (step 1 of 7) Processing TweetNormalizer, total=   1.1s\n",
            "[Pipeline] .. (step 2 of 7) Processing FeatureExtractor, total=   4.9s\n",
            "[Pipeline] .. (step 3 of 7) Processing BigramVectorizer, total=   6.2s\n",
            "[Pipeline]  (step 4 of 7) Processing MatrixToArrayConverter, total=   0.0s\n",
            "[Pipeline] ..... (step 5 of 7) Processing OneHotEncoder, total=   0.4s\n",
            "[Pipeline] ..... (step 6 of 7) Processing MatrixUnifier, total=   0.0s\n"
          ]
        },
        {
          "output_type": "stream",
          "name": "stderr",
          "text": [
            "/usr/local/lib/python3.7/dist-packages/sklearn/utils/validation.py:598: FutureWarning: np.matrix usage is deprecated in 1.0 and will raise a TypeError in 1.2. Please convert to a numpy array with np.asarray. For more information see: https://numpy.org/doc/stable/reference/generated/numpy.matrix.html\n",
            "  FutureWarning,\n",
            "/usr/local/lib/python3.7/dist-packages/sklearn/neural_network/_multilayer_perceptron.py:696: ConvergenceWarning: Stochastic Optimizer: Maximum iterations (20) reached and the optimization hasn't converged yet.\n",
            "  ConvergenceWarning,\n"
          ]
        },
        {
          "output_type": "stream",
          "name": "stdout",
          "text": [
            "[Pipeline] ............... (step 7 of 7) Processing CLF, total=  14.9s\n"
          ]
        },
        {
          "output_type": "stream",
          "name": "stderr",
          "text": [
            "/usr/local/lib/python3.7/dist-packages/sklearn/utils/validation.py:598: FutureWarning: np.matrix usage is deprecated in 1.0 and will raise a TypeError in 1.2. Please convert to a numpy array with np.asarray. For more information see: https://numpy.org/doc/stable/reference/generated/numpy.matrix.html\n",
            "  FutureWarning,\n"
          ]
        },
        {
          "output_type": "stream",
          "name": "stdout",
          "text": [
            "[Pipeline] ... (step 1 of 7) Processing TweetNormalizer, total=   0.9s\n",
            "[Pipeline] .. (step 2 of 7) Processing FeatureExtractor, total=   4.2s\n",
            "[Pipeline] .. (step 3 of 7) Processing BigramVectorizer, total=   5.4s\n",
            "[Pipeline]  (step 4 of 7) Processing MatrixToArrayConverter, total=   0.0s\n",
            "[Pipeline] ..... (step 5 of 7) Processing OneHotEncoder, total=   0.4s\n",
            "[Pipeline] ..... (step 6 of 7) Processing MatrixUnifier, total=   0.1s\n"
          ]
        },
        {
          "output_type": "stream",
          "name": "stderr",
          "text": [
            "/usr/local/lib/python3.7/dist-packages/sklearn/utils/validation.py:598: FutureWarning: np.matrix usage is deprecated in 1.0 and will raise a TypeError in 1.2. Please convert to a numpy array with np.asarray. For more information see: https://numpy.org/doc/stable/reference/generated/numpy.matrix.html\n",
            "  FutureWarning,\n",
            "/usr/local/lib/python3.7/dist-packages/sklearn/neural_network/_multilayer_perceptron.py:696: ConvergenceWarning: Stochastic Optimizer: Maximum iterations (20) reached and the optimization hasn't converged yet.\n",
            "  ConvergenceWarning,\n"
          ]
        },
        {
          "output_type": "stream",
          "name": "stdout",
          "text": [
            "[Pipeline] ............... (step 7 of 7) Processing CLF, total=  17.0s\n"
          ]
        },
        {
          "output_type": "stream",
          "name": "stderr",
          "text": [
            "/usr/local/lib/python3.7/dist-packages/sklearn/utils/validation.py:598: FutureWarning: np.matrix usage is deprecated in 1.0 and will raise a TypeError in 1.2. Please convert to a numpy array with np.asarray. For more information see: https://numpy.org/doc/stable/reference/generated/numpy.matrix.html\n",
            "  FutureWarning,\n"
          ]
        },
        {
          "output_type": "stream",
          "name": "stdout",
          "text": [
            "[Pipeline] ... (step 1 of 7) Processing TweetNormalizer, total=   1.1s\n",
            "[Pipeline] .. (step 2 of 7) Processing FeatureExtractor, total=   4.9s\n",
            "[Pipeline] .. (step 3 of 7) Processing BigramVectorizer, total=   6.2s\n",
            "[Pipeline]  (step 4 of 7) Processing MatrixToArrayConverter, total=   0.0s\n",
            "[Pipeline] ..... (step 5 of 7) Processing OneHotEncoder, total=   0.4s\n",
            "[Pipeline] ..... (step 6 of 7) Processing MatrixUnifier, total=   0.0s\n"
          ]
        },
        {
          "output_type": "stream",
          "name": "stderr",
          "text": [
            "/usr/local/lib/python3.7/dist-packages/sklearn/utils/validation.py:598: FutureWarning: np.matrix usage is deprecated in 1.0 and will raise a TypeError in 1.2. Please convert to a numpy array with np.asarray. For more information see: https://numpy.org/doc/stable/reference/generated/numpy.matrix.html\n",
            "  FutureWarning,\n",
            "/usr/local/lib/python3.7/dist-packages/sklearn/neural_network/_multilayer_perceptron.py:696: ConvergenceWarning: Stochastic Optimizer: Maximum iterations (20) reached and the optimization hasn't converged yet.\n",
            "  ConvergenceWarning,\n"
          ]
        },
        {
          "output_type": "stream",
          "name": "stdout",
          "text": [
            "[Pipeline] ............... (step 7 of 7) Processing CLF, total=  14.9s\n"
          ]
        },
        {
          "output_type": "stream",
          "name": "stderr",
          "text": [
            "/usr/local/lib/python3.7/dist-packages/sklearn/utils/validation.py:598: FutureWarning: np.matrix usage is deprecated in 1.0 and will raise a TypeError in 1.2. Please convert to a numpy array with np.asarray. For more information see: https://numpy.org/doc/stable/reference/generated/numpy.matrix.html\n",
            "  FutureWarning,\n"
          ]
        },
        {
          "output_type": "stream",
          "name": "stdout",
          "text": [
            "[Pipeline] ... (step 1 of 7) Processing TweetNormalizer, total=   1.1s\n",
            "[Pipeline] .. (step 2 of 7) Processing FeatureExtractor, total=   4.9s\n",
            "[Pipeline] .. (step 3 of 7) Processing BigramVectorizer, total=   6.2s\n",
            "[Pipeline]  (step 4 of 7) Processing MatrixToArrayConverter, total=   0.0s\n",
            "[Pipeline] ..... (step 5 of 7) Processing OneHotEncoder, total=   0.4s\n",
            "[Pipeline] ..... (step 6 of 7) Processing MatrixUnifier, total=   0.0s\n"
          ]
        },
        {
          "output_type": "stream",
          "name": "stderr",
          "text": [
            "/usr/local/lib/python3.7/dist-packages/sklearn/utils/validation.py:598: FutureWarning: np.matrix usage is deprecated in 1.0 and will raise a TypeError in 1.2. Please convert to a numpy array with np.asarray. For more information see: https://numpy.org/doc/stable/reference/generated/numpy.matrix.html\n",
            "  FutureWarning,\n",
            "/usr/local/lib/python3.7/dist-packages/sklearn/neural_network/_multilayer_perceptron.py:696: ConvergenceWarning: Stochastic Optimizer: Maximum iterations (20) reached and the optimization hasn't converged yet.\n",
            "  ConvergenceWarning,\n"
          ]
        },
        {
          "output_type": "stream",
          "name": "stdout",
          "text": [
            "[Pipeline] ............... (step 7 of 7) Processing CLF, total=  15.0s\n"
          ]
        },
        {
          "output_type": "stream",
          "name": "stderr",
          "text": [
            "/usr/local/lib/python3.7/dist-packages/sklearn/utils/validation.py:598: FutureWarning: np.matrix usage is deprecated in 1.0 and will raise a TypeError in 1.2. Please convert to a numpy array with np.asarray. For more information see: https://numpy.org/doc/stable/reference/generated/numpy.matrix.html\n",
            "  FutureWarning,\n"
          ]
        },
        {
          "output_type": "stream",
          "name": "stdout",
          "text": [
            "[Pipeline] ... (step 1 of 7) Processing TweetNormalizer, total=   1.1s\n",
            "[Pipeline] .. (step 2 of 7) Processing FeatureExtractor, total=   5.0s\n",
            "[Pipeline] .. (step 3 of 7) Processing BigramVectorizer, total=   6.2s\n",
            "[Pipeline]  (step 4 of 7) Processing MatrixToArrayConverter, total=   0.0s\n",
            "[Pipeline] ..... (step 5 of 7) Processing OneHotEncoder, total=   0.4s\n",
            "[Pipeline] ..... (step 6 of 7) Processing MatrixUnifier, total=   0.0s\n"
          ]
        },
        {
          "output_type": "stream",
          "name": "stderr",
          "text": [
            "/usr/local/lib/python3.7/dist-packages/sklearn/utils/validation.py:598: FutureWarning: np.matrix usage is deprecated in 1.0 and will raise a TypeError in 1.2. Please convert to a numpy array with np.asarray. For more information see: https://numpy.org/doc/stable/reference/generated/numpy.matrix.html\n",
            "  FutureWarning,\n",
            "/usr/local/lib/python3.7/dist-packages/sklearn/neural_network/_multilayer_perceptron.py:696: ConvergenceWarning: Stochastic Optimizer: Maximum iterations (20) reached and the optimization hasn't converged yet.\n",
            "  ConvergenceWarning,\n"
          ]
        },
        {
          "output_type": "stream",
          "name": "stdout",
          "text": [
            "[Pipeline] ............... (step 7 of 7) Processing CLF, total=  11.5s\n"
          ]
        },
        {
          "output_type": "stream",
          "name": "stderr",
          "text": [
            "/usr/local/lib/python3.7/dist-packages/sklearn/utils/validation.py:598: FutureWarning: np.matrix usage is deprecated in 1.0 and will raise a TypeError in 1.2. Please convert to a numpy array with np.asarray. For more information see: https://numpy.org/doc/stable/reference/generated/numpy.matrix.html\n",
            "  FutureWarning,\n"
          ]
        },
        {
          "output_type": "stream",
          "name": "stdout",
          "text": [
            "[Pipeline] ... (step 1 of 7) Processing TweetNormalizer, total=   1.1s\n",
            "[Pipeline] .. (step 2 of 7) Processing FeatureExtractor, total=   5.1s\n",
            "[Pipeline] .. (step 3 of 7) Processing BigramVectorizer, total=   6.2s\n",
            "[Pipeline]  (step 4 of 7) Processing MatrixToArrayConverter, total=   0.0s\n",
            "[Pipeline] ..... (step 5 of 7) Processing OneHotEncoder, total=   0.4s\n",
            "[Pipeline] ..... (step 6 of 7) Processing MatrixUnifier, total=   0.0s\n"
          ]
        },
        {
          "output_type": "stream",
          "name": "stderr",
          "text": [
            "/usr/local/lib/python3.7/dist-packages/sklearn/utils/validation.py:598: FutureWarning: np.matrix usage is deprecated in 1.0 and will raise a TypeError in 1.2. Please convert to a numpy array with np.asarray. For more information see: https://numpy.org/doc/stable/reference/generated/numpy.matrix.html\n",
            "  FutureWarning,\n",
            "/usr/local/lib/python3.7/dist-packages/sklearn/neural_network/_multilayer_perceptron.py:696: ConvergenceWarning: Stochastic Optimizer: Maximum iterations (20) reached and the optimization hasn't converged yet.\n",
            "  ConvergenceWarning,\n"
          ]
        },
        {
          "output_type": "stream",
          "name": "stdout",
          "text": [
            "[Pipeline] ............... (step 7 of 7) Processing CLF, total=   9.2s\n"
          ]
        },
        {
          "output_type": "stream",
          "name": "stderr",
          "text": [
            "/usr/local/lib/python3.7/dist-packages/sklearn/utils/validation.py:598: FutureWarning: np.matrix usage is deprecated in 1.0 and will raise a TypeError in 1.2. Please convert to a numpy array with np.asarray. For more information see: https://numpy.org/doc/stable/reference/generated/numpy.matrix.html\n",
            "  FutureWarning,\n"
          ]
        },
        {
          "output_type": "stream",
          "name": "stdout",
          "text": [
            "[Pipeline] ... (step 1 of 7) Processing TweetNormalizer, total=   1.1s\n",
            "[Pipeline] .. (step 2 of 7) Processing FeatureExtractor, total=   4.9s\n",
            "[Pipeline] .. (step 3 of 7) Processing BigramVectorizer, total=   6.2s\n",
            "[Pipeline]  (step 4 of 7) Processing MatrixToArrayConverter, total=   0.0s\n",
            "[Pipeline] ..... (step 5 of 7) Processing OneHotEncoder, total=   0.4s\n",
            "[Pipeline] ..... (step 6 of 7) Processing MatrixUnifier, total=   0.0s\n"
          ]
        },
        {
          "output_type": "stream",
          "name": "stderr",
          "text": [
            "/usr/local/lib/python3.7/dist-packages/sklearn/utils/validation.py:598: FutureWarning: np.matrix usage is deprecated in 1.0 and will raise a TypeError in 1.2. Please convert to a numpy array with np.asarray. For more information see: https://numpy.org/doc/stable/reference/generated/numpy.matrix.html\n",
            "  FutureWarning,\n",
            "/usr/local/lib/python3.7/dist-packages/sklearn/neural_network/_multilayer_perceptron.py:696: ConvergenceWarning: Stochastic Optimizer: Maximum iterations (20) reached and the optimization hasn't converged yet.\n",
            "  ConvergenceWarning,\n"
          ]
        },
        {
          "output_type": "stream",
          "name": "stdout",
          "text": [
            "[Pipeline] ............... (step 7 of 7) Processing CLF, total=   9.1s\n"
          ]
        },
        {
          "output_type": "stream",
          "name": "stderr",
          "text": [
            "/usr/local/lib/python3.7/dist-packages/sklearn/utils/validation.py:598: FutureWarning: np.matrix usage is deprecated in 1.0 and will raise a TypeError in 1.2. Please convert to a numpy array with np.asarray. For more information see: https://numpy.org/doc/stable/reference/generated/numpy.matrix.html\n",
            "  FutureWarning,\n"
          ]
        },
        {
          "output_type": "stream",
          "name": "stdout",
          "text": [
            "[Pipeline] ... (step 1 of 7) Processing TweetNormalizer, total=   1.1s\n",
            "[Pipeline] .. (step 2 of 7) Processing FeatureExtractor, total=   4.9s\n",
            "[Pipeline] .. (step 3 of 7) Processing BigramVectorizer, total=   6.3s\n",
            "[Pipeline]  (step 4 of 7) Processing MatrixToArrayConverter, total=   0.0s\n",
            "[Pipeline] ..... (step 5 of 7) Processing OneHotEncoder, total=   0.4s\n",
            "[Pipeline] ..... (step 6 of 7) Processing MatrixUnifier, total=   0.0s\n"
          ]
        },
        {
          "output_type": "stream",
          "name": "stderr",
          "text": [
            "/usr/local/lib/python3.7/dist-packages/sklearn/utils/validation.py:598: FutureWarning: np.matrix usage is deprecated in 1.0 and will raise a TypeError in 1.2. Please convert to a numpy array with np.asarray. For more information see: https://numpy.org/doc/stable/reference/generated/numpy.matrix.html\n",
            "  FutureWarning,\n",
            "/usr/local/lib/python3.7/dist-packages/sklearn/neural_network/_multilayer_perceptron.py:696: ConvergenceWarning: Stochastic Optimizer: Maximum iterations (20) reached and the optimization hasn't converged yet.\n",
            "  ConvergenceWarning,\n"
          ]
        },
        {
          "output_type": "stream",
          "name": "stdout",
          "text": [
            "[Pipeline] ............... (step 7 of 7) Processing CLF, total=   9.4s\n"
          ]
        },
        {
          "output_type": "stream",
          "name": "stderr",
          "text": [
            "/usr/local/lib/python3.7/dist-packages/sklearn/utils/validation.py:598: FutureWarning: np.matrix usage is deprecated in 1.0 and will raise a TypeError in 1.2. Please convert to a numpy array with np.asarray. For more information see: https://numpy.org/doc/stable/reference/generated/numpy.matrix.html\n",
            "  FutureWarning,\n"
          ]
        },
        {
          "output_type": "stream",
          "name": "stdout",
          "text": [
            "[Pipeline] ... (step 1 of 7) Processing TweetNormalizer, total=   1.1s\n",
            "[Pipeline] .. (step 2 of 7) Processing FeatureExtractor, total=   5.0s\n",
            "[Pipeline] .. (step 3 of 7) Processing BigramVectorizer, total=   6.2s\n",
            "[Pipeline]  (step 4 of 7) Processing MatrixToArrayConverter, total=   0.0s\n",
            "[Pipeline] ..... (step 5 of 7) Processing OneHotEncoder, total=   0.4s\n",
            "[Pipeline] ..... (step 6 of 7) Processing MatrixUnifier, total=   0.0s\n"
          ]
        },
        {
          "output_type": "stream",
          "name": "stderr",
          "text": [
            "/usr/local/lib/python3.7/dist-packages/sklearn/utils/validation.py:598: FutureWarning: np.matrix usage is deprecated in 1.0 and will raise a TypeError in 1.2. Please convert to a numpy array with np.asarray. For more information see: https://numpy.org/doc/stable/reference/generated/numpy.matrix.html\n",
            "  FutureWarning,\n",
            "/usr/local/lib/python3.7/dist-packages/sklearn/neural_network/_multilayer_perceptron.py:696: ConvergenceWarning: Stochastic Optimizer: Maximum iterations (20) reached and the optimization hasn't converged yet.\n",
            "  ConvergenceWarning,\n"
          ]
        },
        {
          "output_type": "stream",
          "name": "stdout",
          "text": [
            "[Pipeline] ............... (step 7 of 7) Processing CLF, total=   9.1s\n"
          ]
        },
        {
          "output_type": "stream",
          "name": "stderr",
          "text": [
            "/usr/local/lib/python3.7/dist-packages/sklearn/utils/validation.py:598: FutureWarning: np.matrix usage is deprecated in 1.0 and will raise a TypeError in 1.2. Please convert to a numpy array with np.asarray. For more information see: https://numpy.org/doc/stable/reference/generated/numpy.matrix.html\n",
            "  FutureWarning,\n"
          ]
        },
        {
          "output_type": "stream",
          "name": "stdout",
          "text": [
            "[Pipeline] ... (step 1 of 7) Processing TweetNormalizer, total=   1.1s\n",
            "[Pipeline] .. (step 2 of 7) Processing FeatureExtractor, total=   5.0s\n",
            "[Pipeline] .. (step 3 of 7) Processing BigramVectorizer, total=   6.3s\n",
            "[Pipeline]  (step 4 of 7) Processing MatrixToArrayConverter, total=   0.0s\n",
            "[Pipeline] ..... (step 5 of 7) Processing OneHotEncoder, total=   0.4s\n",
            "[Pipeline] ..... (step 6 of 7) Processing MatrixUnifier, total=   0.0s\n"
          ]
        },
        {
          "output_type": "stream",
          "name": "stderr",
          "text": [
            "/usr/local/lib/python3.7/dist-packages/sklearn/utils/validation.py:598: FutureWarning: np.matrix usage is deprecated in 1.0 and will raise a TypeError in 1.2. Please convert to a numpy array with np.asarray. For more information see: https://numpy.org/doc/stable/reference/generated/numpy.matrix.html\n",
            "  FutureWarning,\n",
            "/usr/local/lib/python3.7/dist-packages/sklearn/neural_network/_multilayer_perceptron.py:696: ConvergenceWarning: Stochastic Optimizer: Maximum iterations (20) reached and the optimization hasn't converged yet.\n",
            "  ConvergenceWarning,\n"
          ]
        },
        {
          "output_type": "stream",
          "name": "stdout",
          "text": [
            "[Pipeline] ............... (step 7 of 7) Processing CLF, total=   9.1s\n"
          ]
        },
        {
          "output_type": "stream",
          "name": "stderr",
          "text": [
            "/usr/local/lib/python3.7/dist-packages/sklearn/utils/validation.py:598: FutureWarning: np.matrix usage is deprecated in 1.0 and will raise a TypeError in 1.2. Please convert to a numpy array with np.asarray. For more information see: https://numpy.org/doc/stable/reference/generated/numpy.matrix.html\n",
            "  FutureWarning,\n"
          ]
        },
        {
          "output_type": "stream",
          "name": "stdout",
          "text": [
            "[Pipeline] ... (step 1 of 7) Processing TweetNormalizer, total=   1.1s\n",
            "[Pipeline] .. (step 2 of 7) Processing FeatureExtractor, total=   4.9s\n",
            "[Pipeline] .. (step 3 of 7) Processing BigramVectorizer, total=   6.3s\n",
            "[Pipeline]  (step 4 of 7) Processing MatrixToArrayConverter, total=   0.0s\n",
            "[Pipeline] ..... (step 5 of 7) Processing OneHotEncoder, total=   0.4s\n",
            "[Pipeline] ..... (step 6 of 7) Processing MatrixUnifier, total=   0.1s\n"
          ]
        },
        {
          "output_type": "stream",
          "name": "stderr",
          "text": [
            "/usr/local/lib/python3.7/dist-packages/sklearn/utils/validation.py:598: FutureWarning: np.matrix usage is deprecated in 1.0 and will raise a TypeError in 1.2. Please convert to a numpy array with np.asarray. For more information see: https://numpy.org/doc/stable/reference/generated/numpy.matrix.html\n",
            "  FutureWarning,\n",
            "/usr/local/lib/python3.7/dist-packages/sklearn/neural_network/_multilayer_perceptron.py:696: ConvergenceWarning: Stochastic Optimizer: Maximum iterations (20) reached and the optimization hasn't converged yet.\n",
            "  ConvergenceWarning,\n"
          ]
        },
        {
          "output_type": "stream",
          "name": "stdout",
          "text": [
            "[Pipeline] ............... (step 7 of 7) Processing CLF, total=  10.9s\n"
          ]
        },
        {
          "output_type": "stream",
          "name": "stderr",
          "text": [
            "/usr/local/lib/python3.7/dist-packages/sklearn/utils/validation.py:598: FutureWarning: np.matrix usage is deprecated in 1.0 and will raise a TypeError in 1.2. Please convert to a numpy array with np.asarray. For more information see: https://numpy.org/doc/stable/reference/generated/numpy.matrix.html\n",
            "  FutureWarning,\n"
          ]
        },
        {
          "output_type": "stream",
          "name": "stdout",
          "text": [
            "[Pipeline] ... (step 1 of 7) Processing TweetNormalizer, total=   0.9s\n",
            "[Pipeline] .. (step 2 of 7) Processing FeatureExtractor, total=   4.1s\n",
            "[Pipeline] .. (step 3 of 7) Processing BigramVectorizer, total=   5.4s\n",
            "[Pipeline]  (step 4 of 7) Processing MatrixToArrayConverter, total=   0.0s\n",
            "[Pipeline] ..... (step 5 of 7) Processing OneHotEncoder, total=   0.4s\n",
            "[Pipeline] ..... (step 6 of 7) Processing MatrixUnifier, total=   0.0s\n"
          ]
        },
        {
          "output_type": "stream",
          "name": "stderr",
          "text": [
            "/usr/local/lib/python3.7/dist-packages/sklearn/utils/validation.py:598: FutureWarning: np.matrix usage is deprecated in 1.0 and will raise a TypeError in 1.2. Please convert to a numpy array with np.asarray. For more information see: https://numpy.org/doc/stable/reference/generated/numpy.matrix.html\n",
            "  FutureWarning,\n",
            "/usr/local/lib/python3.7/dist-packages/sklearn/neural_network/_multilayer_perceptron.py:696: ConvergenceWarning: Stochastic Optimizer: Maximum iterations (20) reached and the optimization hasn't converged yet.\n",
            "  ConvergenceWarning,\n"
          ]
        },
        {
          "output_type": "stream",
          "name": "stdout",
          "text": [
            "[Pipeline] ............... (step 7 of 7) Processing CLF, total=   9.0s\n"
          ]
        },
        {
          "output_type": "stream",
          "name": "stderr",
          "text": [
            "/usr/local/lib/python3.7/dist-packages/sklearn/utils/validation.py:598: FutureWarning: np.matrix usage is deprecated in 1.0 and will raise a TypeError in 1.2. Please convert to a numpy array with np.asarray. For more information see: https://numpy.org/doc/stable/reference/generated/numpy.matrix.html\n",
            "  FutureWarning,\n"
          ]
        },
        {
          "output_type": "stream",
          "name": "stdout",
          "text": [
            "[Pipeline] ... (step 1 of 7) Processing TweetNormalizer, total=   1.1s\n",
            "[Pipeline] .. (step 2 of 7) Processing FeatureExtractor, total=   4.9s\n",
            "[Pipeline] .. (step 3 of 7) Processing BigramVectorizer, total=   6.2s\n",
            "[Pipeline]  (step 4 of 7) Processing MatrixToArrayConverter, total=   0.0s\n",
            "[Pipeline] ..... (step 5 of 7) Processing OneHotEncoder, total=   0.4s\n",
            "[Pipeline] ..... (step 6 of 7) Processing MatrixUnifier, total=   0.0s\n"
          ]
        },
        {
          "output_type": "stream",
          "name": "stderr",
          "text": [
            "/usr/local/lib/python3.7/dist-packages/sklearn/utils/validation.py:598: FutureWarning: np.matrix usage is deprecated in 1.0 and will raise a TypeError in 1.2. Please convert to a numpy array with np.asarray. For more information see: https://numpy.org/doc/stable/reference/generated/numpy.matrix.html\n",
            "  FutureWarning,\n",
            "/usr/local/lib/python3.7/dist-packages/sklearn/neural_network/_multilayer_perceptron.py:696: ConvergenceWarning: Stochastic Optimizer: Maximum iterations (20) reached and the optimization hasn't converged yet.\n",
            "  ConvergenceWarning,\n"
          ]
        },
        {
          "output_type": "stream",
          "name": "stdout",
          "text": [
            "[Pipeline] ............... (step 7 of 7) Processing CLF, total=   9.1s\n"
          ]
        },
        {
          "output_type": "stream",
          "name": "stderr",
          "text": [
            "/usr/local/lib/python3.7/dist-packages/sklearn/utils/validation.py:598: FutureWarning: np.matrix usage is deprecated in 1.0 and will raise a TypeError in 1.2. Please convert to a numpy array with np.asarray. For more information see: https://numpy.org/doc/stable/reference/generated/numpy.matrix.html\n",
            "  FutureWarning,\n"
          ]
        },
        {
          "output_type": "stream",
          "name": "stdout",
          "text": [
            "[Pipeline] ... (step 1 of 7) Processing TweetNormalizer, total=   1.1s\n",
            "[Pipeline] .. (step 2 of 7) Processing FeatureExtractor, total=   4.9s\n",
            "[Pipeline] .. (step 3 of 7) Processing BigramVectorizer, total=   6.3s\n",
            "[Pipeline]  (step 4 of 7) Processing MatrixToArrayConverter, total=   0.0s\n",
            "[Pipeline] ..... (step 5 of 7) Processing OneHotEncoder, total=   0.4s\n",
            "[Pipeline] ..... (step 6 of 7) Processing MatrixUnifier, total=   0.0s\n"
          ]
        },
        {
          "output_type": "stream",
          "name": "stderr",
          "text": [
            "/usr/local/lib/python3.7/dist-packages/sklearn/utils/validation.py:598: FutureWarning: np.matrix usage is deprecated in 1.0 and will raise a TypeError in 1.2. Please convert to a numpy array with np.asarray. For more information see: https://numpy.org/doc/stable/reference/generated/numpy.matrix.html\n",
            "  FutureWarning,\n",
            "/usr/local/lib/python3.7/dist-packages/sklearn/neural_network/_multilayer_perceptron.py:696: ConvergenceWarning: Stochastic Optimizer: Maximum iterations (20) reached and the optimization hasn't converged yet.\n",
            "  ConvergenceWarning,\n"
          ]
        },
        {
          "output_type": "stream",
          "name": "stdout",
          "text": [
            "[Pipeline] ............... (step 7 of 7) Processing CLF, total=  11.2s\n"
          ]
        },
        {
          "output_type": "stream",
          "name": "stderr",
          "text": [
            "/usr/local/lib/python3.7/dist-packages/sklearn/utils/validation.py:598: FutureWarning: np.matrix usage is deprecated in 1.0 and will raise a TypeError in 1.2. Please convert to a numpy array with np.asarray. For more information see: https://numpy.org/doc/stable/reference/generated/numpy.matrix.html\n",
            "  FutureWarning,\n"
          ]
        },
        {
          "output_type": "stream",
          "name": "stdout",
          "text": [
            "[Pipeline] ... (step 1 of 7) Processing TweetNormalizer, total=   1.1s\n",
            "[Pipeline] .. (step 2 of 7) Processing FeatureExtractor, total=   5.0s\n",
            "[Pipeline] .. (step 3 of 7) Processing BigramVectorizer, total=   6.3s\n",
            "[Pipeline]  (step 4 of 7) Processing MatrixToArrayConverter, total=   0.0s\n",
            "[Pipeline] ..... (step 5 of 7) Processing OneHotEncoder, total=   0.4s\n",
            "[Pipeline] ..... (step 6 of 7) Processing MatrixUnifier, total=   0.0s\n"
          ]
        },
        {
          "output_type": "stream",
          "name": "stderr",
          "text": [
            "/usr/local/lib/python3.7/dist-packages/sklearn/utils/validation.py:598: FutureWarning: np.matrix usage is deprecated in 1.0 and will raise a TypeError in 1.2. Please convert to a numpy array with np.asarray. For more information see: https://numpy.org/doc/stable/reference/generated/numpy.matrix.html\n",
            "  FutureWarning,\n",
            "/usr/local/lib/python3.7/dist-packages/sklearn/neural_network/_multilayer_perceptron.py:696: ConvergenceWarning: Stochastic Optimizer: Maximum iterations (20) reached and the optimization hasn't converged yet.\n",
            "  ConvergenceWarning,\n"
          ]
        },
        {
          "output_type": "stream",
          "name": "stdout",
          "text": [
            "[Pipeline] ............... (step 7 of 7) Processing CLF, total=   9.7s\n"
          ]
        },
        {
          "output_type": "stream",
          "name": "stderr",
          "text": [
            "/usr/local/lib/python3.7/dist-packages/sklearn/utils/validation.py:598: FutureWarning: np.matrix usage is deprecated in 1.0 and will raise a TypeError in 1.2. Please convert to a numpy array with np.asarray. For more information see: https://numpy.org/doc/stable/reference/generated/numpy.matrix.html\n",
            "  FutureWarning,\n"
          ]
        },
        {
          "output_type": "stream",
          "name": "stdout",
          "text": [
            "[Pipeline] ... (step 1 of 7) Processing TweetNormalizer, total=   1.1s\n",
            "[Pipeline] .. (step 2 of 7) Processing FeatureExtractor, total=   4.9s\n",
            "[Pipeline] .. (step 3 of 7) Processing BigramVectorizer, total=   6.2s\n",
            "[Pipeline]  (step 4 of 7) Processing MatrixToArrayConverter, total=   0.0s\n",
            "[Pipeline] ..... (step 5 of 7) Processing OneHotEncoder, total=   0.4s\n",
            "[Pipeline] ..... (step 6 of 7) Processing MatrixUnifier, total=   0.0s\n"
          ]
        },
        {
          "output_type": "stream",
          "name": "stderr",
          "text": [
            "/usr/local/lib/python3.7/dist-packages/sklearn/utils/validation.py:598: FutureWarning: np.matrix usage is deprecated in 1.0 and will raise a TypeError in 1.2. Please convert to a numpy array with np.asarray. For more information see: https://numpy.org/doc/stable/reference/generated/numpy.matrix.html\n",
            "  FutureWarning,\n",
            "/usr/local/lib/python3.7/dist-packages/sklearn/neural_network/_multilayer_perceptron.py:696: ConvergenceWarning: Stochastic Optimizer: Maximum iterations (20) reached and the optimization hasn't converged yet.\n",
            "  ConvergenceWarning,\n"
          ]
        },
        {
          "output_type": "stream",
          "name": "stdout",
          "text": [
            "[Pipeline] ............... (step 7 of 7) Processing CLF, total=   9.6s\n"
          ]
        },
        {
          "output_type": "stream",
          "name": "stderr",
          "text": [
            "/usr/local/lib/python3.7/dist-packages/sklearn/utils/validation.py:598: FutureWarning: np.matrix usage is deprecated in 1.0 and will raise a TypeError in 1.2. Please convert to a numpy array with np.asarray. For more information see: https://numpy.org/doc/stable/reference/generated/numpy.matrix.html\n",
            "  FutureWarning,\n"
          ]
        },
        {
          "output_type": "stream",
          "name": "stdout",
          "text": [
            "[Pipeline] ... (step 1 of 7) Processing TweetNormalizer, total=   1.1s\n",
            "[Pipeline] .. (step 2 of 7) Processing FeatureExtractor, total=   5.0s\n",
            "[Pipeline] .. (step 3 of 7) Processing BigramVectorizer, total=   6.2s\n",
            "[Pipeline]  (step 4 of 7) Processing MatrixToArrayConverter, total=   0.0s\n",
            "[Pipeline] ..... (step 5 of 7) Processing OneHotEncoder, total=   0.4s\n",
            "[Pipeline] ..... (step 6 of 7) Processing MatrixUnifier, total=   0.0s\n"
          ]
        },
        {
          "output_type": "stream",
          "name": "stderr",
          "text": [
            "/usr/local/lib/python3.7/dist-packages/sklearn/utils/validation.py:598: FutureWarning: np.matrix usage is deprecated in 1.0 and will raise a TypeError in 1.2. Please convert to a numpy array with np.asarray. For more information see: https://numpy.org/doc/stable/reference/generated/numpy.matrix.html\n",
            "  FutureWarning,\n",
            "/usr/local/lib/python3.7/dist-packages/sklearn/neural_network/_multilayer_perceptron.py:696: ConvergenceWarning: Stochastic Optimizer: Maximum iterations (20) reached and the optimization hasn't converged yet.\n",
            "  ConvergenceWarning,\n"
          ]
        },
        {
          "output_type": "stream",
          "name": "stdout",
          "text": [
            "[Pipeline] ............... (step 7 of 7) Processing CLF, total=   9.7s\n"
          ]
        },
        {
          "output_type": "stream",
          "name": "stderr",
          "text": [
            "/usr/local/lib/python3.7/dist-packages/sklearn/utils/validation.py:598: FutureWarning: np.matrix usage is deprecated in 1.0 and will raise a TypeError in 1.2. Please convert to a numpy array with np.asarray. For more information see: https://numpy.org/doc/stable/reference/generated/numpy.matrix.html\n",
            "  FutureWarning,\n"
          ]
        },
        {
          "output_type": "stream",
          "name": "stdout",
          "text": [
            "[Pipeline] ... (step 1 of 7) Processing TweetNormalizer, total=   1.1s\n",
            "[Pipeline] .. (step 2 of 7) Processing FeatureExtractor, total=   5.0s\n",
            "[Pipeline] .. (step 3 of 7) Processing BigramVectorizer, total=   6.3s\n",
            "[Pipeline]  (step 4 of 7) Processing MatrixToArrayConverter, total=   0.0s\n",
            "[Pipeline] ..... (step 5 of 7) Processing OneHotEncoder, total=   0.4s\n",
            "[Pipeline] ..... (step 6 of 7) Processing MatrixUnifier, total=   0.0s\n"
          ]
        },
        {
          "output_type": "stream",
          "name": "stderr",
          "text": [
            "/usr/local/lib/python3.7/dist-packages/sklearn/utils/validation.py:598: FutureWarning: np.matrix usage is deprecated in 1.0 and will raise a TypeError in 1.2. Please convert to a numpy array with np.asarray. For more information see: https://numpy.org/doc/stable/reference/generated/numpy.matrix.html\n",
            "  FutureWarning,\n",
            "/usr/local/lib/python3.7/dist-packages/sklearn/neural_network/_multilayer_perceptron.py:696: ConvergenceWarning: Stochastic Optimizer: Maximum iterations (20) reached and the optimization hasn't converged yet.\n",
            "  ConvergenceWarning,\n"
          ]
        },
        {
          "output_type": "stream",
          "name": "stdout",
          "text": [
            "[Pipeline] ............... (step 7 of 7) Processing CLF, total=   9.5s\n"
          ]
        },
        {
          "output_type": "stream",
          "name": "stderr",
          "text": [
            "/usr/local/lib/python3.7/dist-packages/sklearn/utils/validation.py:598: FutureWarning: np.matrix usage is deprecated in 1.0 and will raise a TypeError in 1.2. Please convert to a numpy array with np.asarray. For more information see: https://numpy.org/doc/stable/reference/generated/numpy.matrix.html\n",
            "  FutureWarning,\n"
          ]
        },
        {
          "output_type": "stream",
          "name": "stdout",
          "text": [
            "[Pipeline] ... (step 1 of 7) Processing TweetNormalizer, total=   1.1s\n",
            "[Pipeline] .. (step 2 of 7) Processing FeatureExtractor, total=   5.1s\n",
            "[Pipeline] .. (step 3 of 7) Processing BigramVectorizer, total=   6.3s\n",
            "[Pipeline]  (step 4 of 7) Processing MatrixToArrayConverter, total=   0.0s\n",
            "[Pipeline] ..... (step 5 of 7) Processing OneHotEncoder, total=   0.4s\n",
            "[Pipeline] ..... (step 6 of 7) Processing MatrixUnifier, total=   0.0s\n"
          ]
        },
        {
          "output_type": "stream",
          "name": "stderr",
          "text": [
            "/usr/local/lib/python3.7/dist-packages/sklearn/utils/validation.py:598: FutureWarning: np.matrix usage is deprecated in 1.0 and will raise a TypeError in 1.2. Please convert to a numpy array with np.asarray. For more information see: https://numpy.org/doc/stable/reference/generated/numpy.matrix.html\n",
            "  FutureWarning,\n",
            "/usr/local/lib/python3.7/dist-packages/sklearn/neural_network/_multilayer_perceptron.py:696: ConvergenceWarning: Stochastic Optimizer: Maximum iterations (20) reached and the optimization hasn't converged yet.\n",
            "  ConvergenceWarning,\n"
          ]
        },
        {
          "output_type": "stream",
          "name": "stdout",
          "text": [
            "[Pipeline] ............... (step 7 of 7) Processing CLF, total=   9.5s\n"
          ]
        },
        {
          "output_type": "stream",
          "name": "stderr",
          "text": [
            "/usr/local/lib/python3.7/dist-packages/sklearn/utils/validation.py:598: FutureWarning: np.matrix usage is deprecated in 1.0 and will raise a TypeError in 1.2. Please convert to a numpy array with np.asarray. For more information see: https://numpy.org/doc/stable/reference/generated/numpy.matrix.html\n",
            "  FutureWarning,\n"
          ]
        },
        {
          "output_type": "stream",
          "name": "stdout",
          "text": [
            "[Pipeline] ... (step 1 of 7) Processing TweetNormalizer, total=   1.1s\n",
            "[Pipeline] .. (step 2 of 7) Processing FeatureExtractor, total=   4.9s\n",
            "[Pipeline] .. (step 3 of 7) Processing BigramVectorizer, total=   6.3s\n",
            "[Pipeline]  (step 4 of 7) Processing MatrixToArrayConverter, total=   0.0s\n",
            "[Pipeline] ..... (step 5 of 7) Processing OneHotEncoder, total=   0.4s\n",
            "[Pipeline] ..... (step 6 of 7) Processing MatrixUnifier, total=   0.0s\n"
          ]
        },
        {
          "output_type": "stream",
          "name": "stderr",
          "text": [
            "/usr/local/lib/python3.7/dist-packages/sklearn/utils/validation.py:598: FutureWarning: np.matrix usage is deprecated in 1.0 and will raise a TypeError in 1.2. Please convert to a numpy array with np.asarray. For more information see: https://numpy.org/doc/stable/reference/generated/numpy.matrix.html\n",
            "  FutureWarning,\n",
            "/usr/local/lib/python3.7/dist-packages/sklearn/neural_network/_multilayer_perceptron.py:696: ConvergenceWarning: Stochastic Optimizer: Maximum iterations (20) reached and the optimization hasn't converged yet.\n",
            "  ConvergenceWarning,\n"
          ]
        },
        {
          "output_type": "stream",
          "name": "stdout",
          "text": [
            "[Pipeline] ............... (step 7 of 7) Processing CLF, total=  11.5s\n"
          ]
        },
        {
          "output_type": "stream",
          "name": "stderr",
          "text": [
            "/usr/local/lib/python3.7/dist-packages/sklearn/utils/validation.py:598: FutureWarning: np.matrix usage is deprecated in 1.0 and will raise a TypeError in 1.2. Please convert to a numpy array with np.asarray. For more information see: https://numpy.org/doc/stable/reference/generated/numpy.matrix.html\n",
            "  FutureWarning,\n"
          ]
        },
        {
          "output_type": "stream",
          "name": "stdout",
          "text": [
            "[Pipeline] ... (step 1 of 7) Processing TweetNormalizer, total=   1.1s\n",
            "[Pipeline] .. (step 2 of 7) Processing FeatureExtractor, total=   4.9s\n",
            "[Pipeline] .. (step 3 of 7) Processing BigramVectorizer, total=   6.2s\n",
            "[Pipeline]  (step 4 of 7) Processing MatrixToArrayConverter, total=   0.0s\n",
            "[Pipeline] ..... (step 5 of 7) Processing OneHotEncoder, total=   0.4s\n",
            "[Pipeline] ..... (step 6 of 7) Processing MatrixUnifier, total=   0.0s\n"
          ]
        },
        {
          "output_type": "stream",
          "name": "stderr",
          "text": [
            "/usr/local/lib/python3.7/dist-packages/sklearn/utils/validation.py:598: FutureWarning: np.matrix usage is deprecated in 1.0 and will raise a TypeError in 1.2. Please convert to a numpy array with np.asarray. For more information see: https://numpy.org/doc/stable/reference/generated/numpy.matrix.html\n",
            "  FutureWarning,\n",
            "/usr/local/lib/python3.7/dist-packages/sklearn/neural_network/_multilayer_perceptron.py:696: ConvergenceWarning: Stochastic Optimizer: Maximum iterations (20) reached and the optimization hasn't converged yet.\n",
            "  ConvergenceWarning,\n"
          ]
        },
        {
          "output_type": "stream",
          "name": "stdout",
          "text": [
            "[Pipeline] ............... (step 7 of 7) Processing CLF, total=   9.4s\n"
          ]
        },
        {
          "output_type": "stream",
          "name": "stderr",
          "text": [
            "/usr/local/lib/python3.7/dist-packages/sklearn/utils/validation.py:598: FutureWarning: np.matrix usage is deprecated in 1.0 and will raise a TypeError in 1.2. Please convert to a numpy array with np.asarray. For more information see: https://numpy.org/doc/stable/reference/generated/numpy.matrix.html\n",
            "  FutureWarning,\n"
          ]
        },
        {
          "output_type": "stream",
          "name": "stdout",
          "text": [
            "[Pipeline] ... (step 1 of 7) Processing TweetNormalizer, total=   0.9s\n",
            "[Pipeline] .. (step 2 of 7) Processing FeatureExtractor, total=   4.1s\n",
            "[Pipeline] .. (step 3 of 7) Processing BigramVectorizer, total=   5.3s\n",
            "[Pipeline]  (step 4 of 7) Processing MatrixToArrayConverter, total=   0.0s\n",
            "[Pipeline] ..... (step 5 of 7) Processing OneHotEncoder, total=   0.4s\n",
            "[Pipeline] ..... (step 6 of 7) Processing MatrixUnifier, total=   0.0s\n"
          ]
        },
        {
          "output_type": "stream",
          "name": "stderr",
          "text": [
            "/usr/local/lib/python3.7/dist-packages/sklearn/utils/validation.py:598: FutureWarning: np.matrix usage is deprecated in 1.0 and will raise a TypeError in 1.2. Please convert to a numpy array with np.asarray. For more information see: https://numpy.org/doc/stable/reference/generated/numpy.matrix.html\n",
            "  FutureWarning,\n",
            "/usr/local/lib/python3.7/dist-packages/sklearn/neural_network/_multilayer_perceptron.py:696: ConvergenceWarning: Stochastic Optimizer: Maximum iterations (20) reached and the optimization hasn't converged yet.\n",
            "  ConvergenceWarning,\n"
          ]
        },
        {
          "output_type": "stream",
          "name": "stdout",
          "text": [
            "[Pipeline] ............... (step 7 of 7) Processing CLF, total=   9.5s\n"
          ]
        },
        {
          "output_type": "stream",
          "name": "stderr",
          "text": [
            "/usr/local/lib/python3.7/dist-packages/sklearn/utils/validation.py:598: FutureWarning: np.matrix usage is deprecated in 1.0 and will raise a TypeError in 1.2. Please convert to a numpy array with np.asarray. For more information see: https://numpy.org/doc/stable/reference/generated/numpy.matrix.html\n",
            "  FutureWarning,\n"
          ]
        },
        {
          "output_type": "stream",
          "name": "stdout",
          "text": [
            "[Pipeline] ... (step 1 of 7) Processing TweetNormalizer, total=   1.1s\n",
            "[Pipeline] .. (step 2 of 7) Processing FeatureExtractor, total=   4.9s\n",
            "[Pipeline] .. (step 3 of 7) Processing BigramVectorizer, total=   6.2s\n",
            "[Pipeline]  (step 4 of 7) Processing MatrixToArrayConverter, total=   0.0s\n",
            "[Pipeline] ..... (step 5 of 7) Processing OneHotEncoder, total=   0.4s\n",
            "[Pipeline] ..... (step 6 of 7) Processing MatrixUnifier, total=   0.0s\n"
          ]
        },
        {
          "output_type": "stream",
          "name": "stderr",
          "text": [
            "/usr/local/lib/python3.7/dist-packages/sklearn/utils/validation.py:598: FutureWarning: np.matrix usage is deprecated in 1.0 and will raise a TypeError in 1.2. Please convert to a numpy array with np.asarray. For more information see: https://numpy.org/doc/stable/reference/generated/numpy.matrix.html\n",
            "  FutureWarning,\n",
            "/usr/local/lib/python3.7/dist-packages/sklearn/neural_network/_multilayer_perceptron.py:696: ConvergenceWarning: Stochastic Optimizer: Maximum iterations (20) reached and the optimization hasn't converged yet.\n",
            "  ConvergenceWarning,\n"
          ]
        },
        {
          "output_type": "stream",
          "name": "stdout",
          "text": [
            "[Pipeline] ............... (step 7 of 7) Processing CLF, total=   9.3s\n"
          ]
        },
        {
          "output_type": "stream",
          "name": "stderr",
          "text": [
            "/usr/local/lib/python3.7/dist-packages/sklearn/utils/validation.py:598: FutureWarning: np.matrix usage is deprecated in 1.0 and will raise a TypeError in 1.2. Please convert to a numpy array with np.asarray. For more information see: https://numpy.org/doc/stable/reference/generated/numpy.matrix.html\n",
            "  FutureWarning,\n"
          ]
        },
        {
          "output_type": "stream",
          "name": "stdout",
          "text": [
            "[Pipeline] ... (step 1 of 7) Processing TweetNormalizer, total=   1.1s\n",
            "[Pipeline] .. (step 2 of 7) Processing FeatureExtractor, total=   6.2s\n",
            "[Pipeline] .. (step 3 of 7) Processing BigramVectorizer, total=   6.2s\n",
            "[Pipeline]  (step 4 of 7) Processing MatrixToArrayConverter, total=   0.0s\n",
            "[Pipeline] ..... (step 5 of 7) Processing OneHotEncoder, total=   0.4s\n",
            "[Pipeline] ..... (step 6 of 7) Processing MatrixUnifier, total=   0.0s\n"
          ]
        },
        {
          "output_type": "stream",
          "name": "stderr",
          "text": [
            "/usr/local/lib/python3.7/dist-packages/sklearn/utils/validation.py:598: FutureWarning: np.matrix usage is deprecated in 1.0 and will raise a TypeError in 1.2. Please convert to a numpy array with np.asarray. For more information see: https://numpy.org/doc/stable/reference/generated/numpy.matrix.html\n",
            "  FutureWarning,\n",
            "/usr/local/lib/python3.7/dist-packages/sklearn/neural_network/_multilayer_perceptron.py:696: ConvergenceWarning: Stochastic Optimizer: Maximum iterations (20) reached and the optimization hasn't converged yet.\n",
            "  ConvergenceWarning,\n"
          ]
        },
        {
          "output_type": "stream",
          "name": "stdout",
          "text": [
            "[Pipeline] ............... (step 7 of 7) Processing CLF, total=   9.4s\n"
          ]
        },
        {
          "output_type": "stream",
          "name": "stderr",
          "text": [
            "/usr/local/lib/python3.7/dist-packages/sklearn/utils/validation.py:598: FutureWarning: np.matrix usage is deprecated in 1.0 and will raise a TypeError in 1.2. Please convert to a numpy array with np.asarray. For more information see: https://numpy.org/doc/stable/reference/generated/numpy.matrix.html\n",
            "  FutureWarning,\n"
          ]
        },
        {
          "output_type": "stream",
          "name": "stdout",
          "text": [
            "[Pipeline] ... (step 1 of 7) Processing TweetNormalizer, total=   1.1s\n",
            "[Pipeline] .. (step 2 of 7) Processing FeatureExtractor, total=   4.9s\n",
            "[Pipeline] .. (step 3 of 7) Processing BigramVectorizer, total=   6.2s\n",
            "[Pipeline]  (step 4 of 7) Processing MatrixToArrayConverter, total=   0.0s\n",
            "[Pipeline] ..... (step 5 of 7) Processing OneHotEncoder, total=   0.4s\n",
            "[Pipeline] ..... (step 6 of 7) Processing MatrixUnifier, total=   0.0s\n"
          ]
        },
        {
          "output_type": "stream",
          "name": "stderr",
          "text": [
            "/usr/local/lib/python3.7/dist-packages/sklearn/utils/validation.py:598: FutureWarning: np.matrix usage is deprecated in 1.0 and will raise a TypeError in 1.2. Please convert to a numpy array with np.asarray. For more information see: https://numpy.org/doc/stable/reference/generated/numpy.matrix.html\n",
            "  FutureWarning,\n",
            "/usr/local/lib/python3.7/dist-packages/sklearn/neural_network/_multilayer_perceptron.py:696: ConvergenceWarning: Stochastic Optimizer: Maximum iterations (20) reached and the optimization hasn't converged yet.\n",
            "  ConvergenceWarning,\n"
          ]
        },
        {
          "output_type": "stream",
          "name": "stdout",
          "text": [
            "[Pipeline] ............... (step 7 of 7) Processing CLF, total=  11.7s\n"
          ]
        },
        {
          "output_type": "stream",
          "name": "stderr",
          "text": [
            "/usr/local/lib/python3.7/dist-packages/sklearn/utils/validation.py:598: FutureWarning: np.matrix usage is deprecated in 1.0 and will raise a TypeError in 1.2. Please convert to a numpy array with np.asarray. For more information see: https://numpy.org/doc/stable/reference/generated/numpy.matrix.html\n",
            "  FutureWarning,\n"
          ]
        },
        {
          "output_type": "stream",
          "name": "stdout",
          "text": [
            "[Pipeline] ... (step 1 of 7) Processing TweetNormalizer, total=   1.1s\n",
            "[Pipeline] .. (step 2 of 7) Processing FeatureExtractor, total=   4.9s\n",
            "[Pipeline] .. (step 3 of 7) Processing BigramVectorizer, total=   6.2s\n",
            "[Pipeline]  (step 4 of 7) Processing MatrixToArrayConverter, total=   0.0s\n",
            "[Pipeline] ..... (step 5 of 7) Processing OneHotEncoder, total=   0.4s\n",
            "[Pipeline] ..... (step 6 of 7) Processing MatrixUnifier, total=   0.0s\n"
          ]
        },
        {
          "output_type": "stream",
          "name": "stderr",
          "text": [
            "/usr/local/lib/python3.7/dist-packages/sklearn/utils/validation.py:598: FutureWarning: np.matrix usage is deprecated in 1.0 and will raise a TypeError in 1.2. Please convert to a numpy array with np.asarray. For more information see: https://numpy.org/doc/stable/reference/generated/numpy.matrix.html\n",
            "  FutureWarning,\n",
            "/usr/local/lib/python3.7/dist-packages/sklearn/neural_network/_multilayer_perceptron.py:696: ConvergenceWarning: Stochastic Optimizer: Maximum iterations (20) reached and the optimization hasn't converged yet.\n",
            "  ConvergenceWarning,\n"
          ]
        },
        {
          "output_type": "stream",
          "name": "stdout",
          "text": [
            "[Pipeline] ............... (step 7 of 7) Processing CLF, total=  11.6s\n"
          ]
        },
        {
          "output_type": "stream",
          "name": "stderr",
          "text": [
            "/usr/local/lib/python3.7/dist-packages/sklearn/utils/validation.py:598: FutureWarning: np.matrix usage is deprecated in 1.0 and will raise a TypeError in 1.2. Please convert to a numpy array with np.asarray. For more information see: https://numpy.org/doc/stable/reference/generated/numpy.matrix.html\n",
            "  FutureWarning,\n"
          ]
        },
        {
          "output_type": "stream",
          "name": "stdout",
          "text": [
            "[Pipeline] ... (step 1 of 7) Processing TweetNormalizer, total=   1.1s\n",
            "[Pipeline] .. (step 2 of 7) Processing FeatureExtractor, total=   5.0s\n",
            "[Pipeline] .. (step 3 of 7) Processing BigramVectorizer, total=   6.2s\n",
            "[Pipeline]  (step 4 of 7) Processing MatrixToArrayConverter, total=   0.0s\n",
            "[Pipeline] ..... (step 5 of 7) Processing OneHotEncoder, total=   0.3s\n",
            "[Pipeline] ..... (step 6 of 7) Processing MatrixUnifier, total=   0.0s\n"
          ]
        },
        {
          "output_type": "stream",
          "name": "stderr",
          "text": [
            "/usr/local/lib/python3.7/dist-packages/sklearn/utils/validation.py:598: FutureWarning: np.matrix usage is deprecated in 1.0 and will raise a TypeError in 1.2. Please convert to a numpy array with np.asarray. For more information see: https://numpy.org/doc/stable/reference/generated/numpy.matrix.html\n",
            "  FutureWarning,\n",
            "/usr/local/lib/python3.7/dist-packages/sklearn/neural_network/_multilayer_perceptron.py:696: ConvergenceWarning: Stochastic Optimizer: Maximum iterations (20) reached and the optimization hasn't converged yet.\n",
            "  ConvergenceWarning,\n"
          ]
        },
        {
          "output_type": "stream",
          "name": "stdout",
          "text": [
            "[Pipeline] ............... (step 7 of 7) Processing CLF, total=  11.5s\n"
          ]
        },
        {
          "output_type": "stream",
          "name": "stderr",
          "text": [
            "/usr/local/lib/python3.7/dist-packages/sklearn/utils/validation.py:598: FutureWarning: np.matrix usage is deprecated in 1.0 and will raise a TypeError in 1.2. Please convert to a numpy array with np.asarray. For more information see: https://numpy.org/doc/stable/reference/generated/numpy.matrix.html\n",
            "  FutureWarning,\n"
          ]
        },
        {
          "output_type": "stream",
          "name": "stdout",
          "text": [
            "[Pipeline] ... (step 1 of 7) Processing TweetNormalizer, total=   1.1s\n",
            "[Pipeline] .. (step 2 of 7) Processing FeatureExtractor, total=   4.9s\n",
            "[Pipeline] .. (step 3 of 7) Processing BigramVectorizer, total=   6.2s\n",
            "[Pipeline]  (step 4 of 7) Processing MatrixToArrayConverter, total=   0.0s\n",
            "[Pipeline] ..... (step 5 of 7) Processing OneHotEncoder, total=   0.3s\n",
            "[Pipeline] ..... (step 6 of 7) Processing MatrixUnifier, total=   0.0s\n"
          ]
        },
        {
          "output_type": "stream",
          "name": "stderr",
          "text": [
            "/usr/local/lib/python3.7/dist-packages/sklearn/utils/validation.py:598: FutureWarning: np.matrix usage is deprecated in 1.0 and will raise a TypeError in 1.2. Please convert to a numpy array with np.asarray. For more information see: https://numpy.org/doc/stable/reference/generated/numpy.matrix.html\n",
            "  FutureWarning,\n",
            "/usr/local/lib/python3.7/dist-packages/sklearn/neural_network/_multilayer_perceptron.py:696: ConvergenceWarning: Stochastic Optimizer: Maximum iterations (20) reached and the optimization hasn't converged yet.\n",
            "  ConvergenceWarning,\n"
          ]
        },
        {
          "output_type": "stream",
          "name": "stdout",
          "text": [
            "[Pipeline] ............... (step 7 of 7) Processing CLF, total=  11.5s\n"
          ]
        },
        {
          "output_type": "stream",
          "name": "stderr",
          "text": [
            "/usr/local/lib/python3.7/dist-packages/sklearn/utils/validation.py:598: FutureWarning: np.matrix usage is deprecated in 1.0 and will raise a TypeError in 1.2. Please convert to a numpy array with np.asarray. For more information see: https://numpy.org/doc/stable/reference/generated/numpy.matrix.html\n",
            "  FutureWarning,\n"
          ]
        },
        {
          "output_type": "stream",
          "name": "stdout",
          "text": [
            "[Pipeline] ... (step 1 of 7) Processing TweetNormalizer, total=   1.1s\n",
            "[Pipeline] .. (step 2 of 7) Processing FeatureExtractor, total=   5.0s\n",
            "[Pipeline] .. (step 3 of 7) Processing BigramVectorizer, total=   6.2s\n",
            "[Pipeline]  (step 4 of 7) Processing MatrixToArrayConverter, total=   0.0s\n",
            "[Pipeline] ..... (step 5 of 7) Processing OneHotEncoder, total=   0.4s\n",
            "[Pipeline] ..... (step 6 of 7) Processing MatrixUnifier, total=   0.0s\n"
          ]
        },
        {
          "output_type": "stream",
          "name": "stderr",
          "text": [
            "/usr/local/lib/python3.7/dist-packages/sklearn/utils/validation.py:598: FutureWarning: np.matrix usage is deprecated in 1.0 and will raise a TypeError in 1.2. Please convert to a numpy array with np.asarray. For more information see: https://numpy.org/doc/stable/reference/generated/numpy.matrix.html\n",
            "  FutureWarning,\n",
            "/usr/local/lib/python3.7/dist-packages/sklearn/neural_network/_multilayer_perceptron.py:696: ConvergenceWarning: Stochastic Optimizer: Maximum iterations (20) reached and the optimization hasn't converged yet.\n",
            "  ConvergenceWarning,\n"
          ]
        },
        {
          "output_type": "stream",
          "name": "stdout",
          "text": [
            "[Pipeline] ............... (step 7 of 7) Processing CLF, total=  13.7s\n"
          ]
        },
        {
          "output_type": "stream",
          "name": "stderr",
          "text": [
            "/usr/local/lib/python3.7/dist-packages/sklearn/utils/validation.py:598: FutureWarning: np.matrix usage is deprecated in 1.0 and will raise a TypeError in 1.2. Please convert to a numpy array with np.asarray. For more information see: https://numpy.org/doc/stable/reference/generated/numpy.matrix.html\n",
            "  FutureWarning,\n"
          ]
        },
        {
          "output_type": "stream",
          "name": "stdout",
          "text": [
            "[Pipeline] ... (step 1 of 7) Processing TweetNormalizer, total=   1.1s\n",
            "[Pipeline] .. (step 2 of 7) Processing FeatureExtractor, total=   4.9s\n",
            "[Pipeline] .. (step 3 of 7) Processing BigramVectorizer, total=   6.3s\n",
            "[Pipeline]  (step 4 of 7) Processing MatrixToArrayConverter, total=   0.0s\n",
            "[Pipeline] ..... (step 5 of 7) Processing OneHotEncoder, total=   0.4s\n",
            "[Pipeline] ..... (step 6 of 7) Processing MatrixUnifier, total=   0.0s\n"
          ]
        },
        {
          "output_type": "stream",
          "name": "stderr",
          "text": [
            "/usr/local/lib/python3.7/dist-packages/sklearn/utils/validation.py:598: FutureWarning: np.matrix usage is deprecated in 1.0 and will raise a TypeError in 1.2. Please convert to a numpy array with np.asarray. For more information see: https://numpy.org/doc/stable/reference/generated/numpy.matrix.html\n",
            "  FutureWarning,\n",
            "/usr/local/lib/python3.7/dist-packages/sklearn/neural_network/_multilayer_perceptron.py:696: ConvergenceWarning: Stochastic Optimizer: Maximum iterations (20) reached and the optimization hasn't converged yet.\n",
            "  ConvergenceWarning,\n"
          ]
        },
        {
          "output_type": "stream",
          "name": "stdout",
          "text": [
            "[Pipeline] ............... (step 7 of 7) Processing CLF, total=  11.7s\n"
          ]
        },
        {
          "output_type": "stream",
          "name": "stderr",
          "text": [
            "/usr/local/lib/python3.7/dist-packages/sklearn/utils/validation.py:598: FutureWarning: np.matrix usage is deprecated in 1.0 and will raise a TypeError in 1.2. Please convert to a numpy array with np.asarray. For more information see: https://numpy.org/doc/stable/reference/generated/numpy.matrix.html\n",
            "  FutureWarning,\n"
          ]
        },
        {
          "output_type": "stream",
          "name": "stdout",
          "text": [
            "[Pipeline] ... (step 1 of 7) Processing TweetNormalizer, total=   1.1s\n",
            "[Pipeline] .. (step 2 of 7) Processing FeatureExtractor, total=   4.9s\n",
            "[Pipeline] .. (step 3 of 7) Processing BigramVectorizer, total=   6.2s\n",
            "[Pipeline]  (step 4 of 7) Processing MatrixToArrayConverter, total=   0.0s\n",
            "[Pipeline] ..... (step 5 of 7) Processing OneHotEncoder, total=   0.4s\n",
            "[Pipeline] ..... (step 6 of 7) Processing MatrixUnifier, total=   0.0s\n"
          ]
        },
        {
          "output_type": "stream",
          "name": "stderr",
          "text": [
            "/usr/local/lib/python3.7/dist-packages/sklearn/utils/validation.py:598: FutureWarning: np.matrix usage is deprecated in 1.0 and will raise a TypeError in 1.2. Please convert to a numpy array with np.asarray. For more information see: https://numpy.org/doc/stable/reference/generated/numpy.matrix.html\n",
            "  FutureWarning,\n",
            "/usr/local/lib/python3.7/dist-packages/sklearn/neural_network/_multilayer_perceptron.py:696: ConvergenceWarning: Stochastic Optimizer: Maximum iterations (20) reached and the optimization hasn't converged yet.\n",
            "  ConvergenceWarning,\n"
          ]
        },
        {
          "output_type": "stream",
          "name": "stdout",
          "text": [
            "[Pipeline] ............... (step 7 of 7) Processing CLF, total=  11.7s\n"
          ]
        },
        {
          "output_type": "stream",
          "name": "stderr",
          "text": [
            "/usr/local/lib/python3.7/dist-packages/sklearn/utils/validation.py:598: FutureWarning: np.matrix usage is deprecated in 1.0 and will raise a TypeError in 1.2. Please convert to a numpy array with np.asarray. For more information see: https://numpy.org/doc/stable/reference/generated/numpy.matrix.html\n",
            "  FutureWarning,\n"
          ]
        },
        {
          "output_type": "stream",
          "name": "stdout",
          "text": [
            "[Pipeline] ... (step 1 of 7) Processing TweetNormalizer, total=   0.9s\n",
            "[Pipeline] .. (step 2 of 7) Processing FeatureExtractor, total=   4.1s\n",
            "[Pipeline] .. (step 3 of 7) Processing BigramVectorizer, total=   5.4s\n",
            "[Pipeline]  (step 4 of 7) Processing MatrixToArrayConverter, total=   0.0s\n",
            "[Pipeline] ..... (step 5 of 7) Processing OneHotEncoder, total=   0.4s\n",
            "[Pipeline] ..... (step 6 of 7) Processing MatrixUnifier, total=   0.0s\n"
          ]
        },
        {
          "output_type": "stream",
          "name": "stderr",
          "text": [
            "/usr/local/lib/python3.7/dist-packages/sklearn/utils/validation.py:598: FutureWarning: np.matrix usage is deprecated in 1.0 and will raise a TypeError in 1.2. Please convert to a numpy array with np.asarray. For more information see: https://numpy.org/doc/stable/reference/generated/numpy.matrix.html\n",
            "  FutureWarning,\n",
            "/usr/local/lib/python3.7/dist-packages/sklearn/neural_network/_multilayer_perceptron.py:696: ConvergenceWarning: Stochastic Optimizer: Maximum iterations (20) reached and the optimization hasn't converged yet.\n",
            "  ConvergenceWarning,\n"
          ]
        },
        {
          "output_type": "stream",
          "name": "stdout",
          "text": [
            "[Pipeline] ............... (step 7 of 7) Processing CLF, total=  13.5s\n"
          ]
        },
        {
          "output_type": "stream",
          "name": "stderr",
          "text": [
            "/usr/local/lib/python3.7/dist-packages/sklearn/utils/validation.py:598: FutureWarning: np.matrix usage is deprecated in 1.0 and will raise a TypeError in 1.2. Please convert to a numpy array with np.asarray. For more information see: https://numpy.org/doc/stable/reference/generated/numpy.matrix.html\n",
            "  FutureWarning,\n"
          ]
        },
        {
          "output_type": "stream",
          "name": "stdout",
          "text": [
            "[Pipeline] ... (step 1 of 7) Processing TweetNormalizer, total=   1.1s\n",
            "[Pipeline] .. (step 2 of 7) Processing FeatureExtractor, total=   4.9s\n",
            "[Pipeline] .. (step 3 of 7) Processing BigramVectorizer, total=   6.2s\n",
            "[Pipeline]  (step 4 of 7) Processing MatrixToArrayConverter, total=   0.0s\n",
            "[Pipeline] ..... (step 5 of 7) Processing OneHotEncoder, total=   0.4s\n",
            "[Pipeline] ..... (step 6 of 7) Processing MatrixUnifier, total=   0.0s\n"
          ]
        },
        {
          "output_type": "stream",
          "name": "stderr",
          "text": [
            "/usr/local/lib/python3.7/dist-packages/sklearn/utils/validation.py:598: FutureWarning: np.matrix usage is deprecated in 1.0 and will raise a TypeError in 1.2. Please convert to a numpy array with np.asarray. For more information see: https://numpy.org/doc/stable/reference/generated/numpy.matrix.html\n",
            "  FutureWarning,\n",
            "/usr/local/lib/python3.7/dist-packages/sklearn/neural_network/_multilayer_perceptron.py:696: ConvergenceWarning: Stochastic Optimizer: Maximum iterations (20) reached and the optimization hasn't converged yet.\n",
            "  ConvergenceWarning,\n"
          ]
        },
        {
          "output_type": "stream",
          "name": "stdout",
          "text": [
            "[Pipeline] ............... (step 7 of 7) Processing CLF, total=  11.6s\n"
          ]
        },
        {
          "output_type": "stream",
          "name": "stderr",
          "text": [
            "/usr/local/lib/python3.7/dist-packages/sklearn/utils/validation.py:598: FutureWarning: np.matrix usage is deprecated in 1.0 and will raise a TypeError in 1.2. Please convert to a numpy array with np.asarray. For more information see: https://numpy.org/doc/stable/reference/generated/numpy.matrix.html\n",
            "  FutureWarning,\n"
          ]
        },
        {
          "output_type": "stream",
          "name": "stdout",
          "text": [
            "[Pipeline] ... (step 1 of 7) Processing TweetNormalizer, total=   1.1s\n",
            "[Pipeline] .. (step 2 of 7) Processing FeatureExtractor, total=   4.9s\n",
            "[Pipeline] .. (step 3 of 7) Processing BigramVectorizer, total=   6.3s\n",
            "[Pipeline]  (step 4 of 7) Processing MatrixToArrayConverter, total=   0.0s\n",
            "[Pipeline] ..... (step 5 of 7) Processing OneHotEncoder, total=   0.4s\n",
            "[Pipeline] ..... (step 6 of 7) Processing MatrixUnifier, total=   0.0s\n"
          ]
        },
        {
          "output_type": "stream",
          "name": "stderr",
          "text": [
            "/usr/local/lib/python3.7/dist-packages/sklearn/utils/validation.py:598: FutureWarning: np.matrix usage is deprecated in 1.0 and will raise a TypeError in 1.2. Please convert to a numpy array with np.asarray. For more information see: https://numpy.org/doc/stable/reference/generated/numpy.matrix.html\n",
            "  FutureWarning,\n",
            "/usr/local/lib/python3.7/dist-packages/sklearn/neural_network/_multilayer_perceptron.py:696: ConvergenceWarning: Stochastic Optimizer: Maximum iterations (20) reached and the optimization hasn't converged yet.\n",
            "  ConvergenceWarning,\n"
          ]
        },
        {
          "output_type": "stream",
          "name": "stdout",
          "text": [
            "[Pipeline] ............... (step 7 of 7) Processing CLF, total=  11.7s\n"
          ]
        },
        {
          "output_type": "stream",
          "name": "stderr",
          "text": [
            "/usr/local/lib/python3.7/dist-packages/sklearn/utils/validation.py:598: FutureWarning: np.matrix usage is deprecated in 1.0 and will raise a TypeError in 1.2. Please convert to a numpy array with np.asarray. For more information see: https://numpy.org/doc/stable/reference/generated/numpy.matrix.html\n",
            "  FutureWarning,\n"
          ]
        },
        {
          "output_type": "stream",
          "name": "stdout",
          "text": [
            "[Pipeline] ... (step 1 of 7) Processing TweetNormalizer, total=   1.1s\n",
            "[Pipeline] .. (step 2 of 7) Processing FeatureExtractor, total=   5.0s\n",
            "[Pipeline] .. (step 3 of 7) Processing BigramVectorizer, total=   6.2s\n",
            "[Pipeline]  (step 4 of 7) Processing MatrixToArrayConverter, total=   0.0s\n",
            "[Pipeline] ..... (step 5 of 7) Processing OneHotEncoder, total=   0.4s\n",
            "[Pipeline] ..... (step 6 of 7) Processing MatrixUnifier, total=   0.0s\n"
          ]
        },
        {
          "output_type": "stream",
          "name": "stderr",
          "text": [
            "/usr/local/lib/python3.7/dist-packages/sklearn/utils/validation.py:598: FutureWarning: np.matrix usage is deprecated in 1.0 and will raise a TypeError in 1.2. Please convert to a numpy array with np.asarray. For more information see: https://numpy.org/doc/stable/reference/generated/numpy.matrix.html\n",
            "  FutureWarning,\n",
            "/usr/local/lib/python3.7/dist-packages/sklearn/neural_network/_multilayer_perceptron.py:696: ConvergenceWarning: Stochastic Optimizer: Maximum iterations (20) reached and the optimization hasn't converged yet.\n",
            "  ConvergenceWarning,\n"
          ]
        },
        {
          "output_type": "stream",
          "name": "stdout",
          "text": [
            "[Pipeline] ............... (step 7 of 7) Processing CLF, total=  12.7s\n"
          ]
        },
        {
          "output_type": "stream",
          "name": "stderr",
          "text": [
            "/usr/local/lib/python3.7/dist-packages/sklearn/utils/validation.py:598: FutureWarning: np.matrix usage is deprecated in 1.0 and will raise a TypeError in 1.2. Please convert to a numpy array with np.asarray. For more information see: https://numpy.org/doc/stable/reference/generated/numpy.matrix.html\n",
            "  FutureWarning,\n"
          ]
        },
        {
          "output_type": "stream",
          "name": "stdout",
          "text": [
            "[Pipeline] ... (step 1 of 7) Processing TweetNormalizer, total=   1.1s\n",
            "[Pipeline] .. (step 2 of 7) Processing FeatureExtractor, total=   4.9s\n",
            "[Pipeline] .. (step 3 of 7) Processing BigramVectorizer, total=   6.2s\n",
            "[Pipeline]  (step 4 of 7) Processing MatrixToArrayConverter, total=   0.0s\n",
            "[Pipeline] ..... (step 5 of 7) Processing OneHotEncoder, total=   0.4s\n",
            "[Pipeline] ..... (step 6 of 7) Processing MatrixUnifier, total=   0.0s\n"
          ]
        },
        {
          "output_type": "stream",
          "name": "stderr",
          "text": [
            "/usr/local/lib/python3.7/dist-packages/sklearn/utils/validation.py:598: FutureWarning: np.matrix usage is deprecated in 1.0 and will raise a TypeError in 1.2. Please convert to a numpy array with np.asarray. For more information see: https://numpy.org/doc/stable/reference/generated/numpy.matrix.html\n",
            "  FutureWarning,\n",
            "/usr/local/lib/python3.7/dist-packages/sklearn/neural_network/_multilayer_perceptron.py:696: ConvergenceWarning: Stochastic Optimizer: Maximum iterations (20) reached and the optimization hasn't converged yet.\n",
            "  ConvergenceWarning,\n"
          ]
        },
        {
          "output_type": "stream",
          "name": "stdout",
          "text": [
            "[Pipeline] ............... (step 7 of 7) Processing CLF, total=  12.8s\n"
          ]
        },
        {
          "output_type": "stream",
          "name": "stderr",
          "text": [
            "/usr/local/lib/python3.7/dist-packages/sklearn/utils/validation.py:598: FutureWarning: np.matrix usage is deprecated in 1.0 and will raise a TypeError in 1.2. Please convert to a numpy array with np.asarray. For more information see: https://numpy.org/doc/stable/reference/generated/numpy.matrix.html\n",
            "  FutureWarning,\n"
          ]
        },
        {
          "output_type": "stream",
          "name": "stdout",
          "text": [
            "[Pipeline] ... (step 1 of 7) Processing TweetNormalizer, total=   1.1s\n",
            "[Pipeline] .. (step 2 of 7) Processing FeatureExtractor, total=   4.9s\n",
            "[Pipeline] .. (step 3 of 7) Processing BigramVectorizer, total=   6.2s\n",
            "[Pipeline]  (step 4 of 7) Processing MatrixToArrayConverter, total=   0.0s\n",
            "[Pipeline] ..... (step 5 of 7) Processing OneHotEncoder, total=   0.4s\n",
            "[Pipeline] ..... (step 6 of 7) Processing MatrixUnifier, total=   0.0s\n"
          ]
        },
        {
          "output_type": "stream",
          "name": "stderr",
          "text": [
            "/usr/local/lib/python3.7/dist-packages/sklearn/utils/validation.py:598: FutureWarning: np.matrix usage is deprecated in 1.0 and will raise a TypeError in 1.2. Please convert to a numpy array with np.asarray. For more information see: https://numpy.org/doc/stable/reference/generated/numpy.matrix.html\n",
            "  FutureWarning,\n",
            "/usr/local/lib/python3.7/dist-packages/sklearn/neural_network/_multilayer_perceptron.py:696: ConvergenceWarning: Stochastic Optimizer: Maximum iterations (20) reached and the optimization hasn't converged yet.\n",
            "  ConvergenceWarning,\n"
          ]
        },
        {
          "output_type": "stream",
          "name": "stdout",
          "text": [
            "[Pipeline] ............... (step 7 of 7) Processing CLF, total=  12.9s\n"
          ]
        },
        {
          "output_type": "stream",
          "name": "stderr",
          "text": [
            "/usr/local/lib/python3.7/dist-packages/sklearn/utils/validation.py:598: FutureWarning: np.matrix usage is deprecated in 1.0 and will raise a TypeError in 1.2. Please convert to a numpy array with np.asarray. For more information see: https://numpy.org/doc/stable/reference/generated/numpy.matrix.html\n",
            "  FutureWarning,\n"
          ]
        },
        {
          "output_type": "stream",
          "name": "stdout",
          "text": [
            "[Pipeline] ... (step 1 of 7) Processing TweetNormalizer, total=   1.1s\n",
            "[Pipeline] .. (step 2 of 7) Processing FeatureExtractor, total=   6.3s\n",
            "[Pipeline] .. (step 3 of 7) Processing BigramVectorizer, total=   6.3s\n",
            "[Pipeline]  (step 4 of 7) Processing MatrixToArrayConverter, total=   0.0s\n",
            "[Pipeline] ..... (step 5 of 7) Processing OneHotEncoder, total=   0.4s\n",
            "[Pipeline] ..... (step 6 of 7) Processing MatrixUnifier, total=   0.0s\n"
          ]
        },
        {
          "output_type": "stream",
          "name": "stderr",
          "text": [
            "/usr/local/lib/python3.7/dist-packages/sklearn/utils/validation.py:598: FutureWarning: np.matrix usage is deprecated in 1.0 and will raise a TypeError in 1.2. Please convert to a numpy array with np.asarray. For more information see: https://numpy.org/doc/stable/reference/generated/numpy.matrix.html\n",
            "  FutureWarning,\n",
            "/usr/local/lib/python3.7/dist-packages/sklearn/neural_network/_multilayer_perceptron.py:696: ConvergenceWarning: Stochastic Optimizer: Maximum iterations (20) reached and the optimization hasn't converged yet.\n",
            "  ConvergenceWarning,\n"
          ]
        },
        {
          "output_type": "stream",
          "name": "stdout",
          "text": [
            "[Pipeline] ............... (step 7 of 7) Processing CLF, total=  13.0s\n"
          ]
        },
        {
          "output_type": "stream",
          "name": "stderr",
          "text": [
            "/usr/local/lib/python3.7/dist-packages/sklearn/utils/validation.py:598: FutureWarning: np.matrix usage is deprecated in 1.0 and will raise a TypeError in 1.2. Please convert to a numpy array with np.asarray. For more information see: https://numpy.org/doc/stable/reference/generated/numpy.matrix.html\n",
            "  FutureWarning,\n"
          ]
        },
        {
          "output_type": "stream",
          "name": "stdout",
          "text": [
            "[Pipeline] ... (step 1 of 7) Processing TweetNormalizer, total=   1.1s\n",
            "[Pipeline] .. (step 2 of 7) Processing FeatureExtractor, total=   5.0s\n",
            "[Pipeline] .. (step 3 of 7) Processing BigramVectorizer, total=   6.2s\n",
            "[Pipeline]  (step 4 of 7) Processing MatrixToArrayConverter, total=   0.0s\n",
            "[Pipeline] ..... (step 5 of 7) Processing OneHotEncoder, total=   0.4s\n",
            "[Pipeline] ..... (step 6 of 7) Processing MatrixUnifier, total=   0.0s\n"
          ]
        },
        {
          "output_type": "stream",
          "name": "stderr",
          "text": [
            "/usr/local/lib/python3.7/dist-packages/sklearn/utils/validation.py:598: FutureWarning: np.matrix usage is deprecated in 1.0 and will raise a TypeError in 1.2. Please convert to a numpy array with np.asarray. For more information see: https://numpy.org/doc/stable/reference/generated/numpy.matrix.html\n",
            "  FutureWarning,\n",
            "/usr/local/lib/python3.7/dist-packages/sklearn/neural_network/_multilayer_perceptron.py:696: ConvergenceWarning: Stochastic Optimizer: Maximum iterations (20) reached and the optimization hasn't converged yet.\n",
            "  ConvergenceWarning,\n"
          ]
        },
        {
          "output_type": "stream",
          "name": "stdout",
          "text": [
            "[Pipeline] ............... (step 7 of 7) Processing CLF, total=  12.9s\n"
          ]
        },
        {
          "output_type": "stream",
          "name": "stderr",
          "text": [
            "/usr/local/lib/python3.7/dist-packages/sklearn/utils/validation.py:598: FutureWarning: np.matrix usage is deprecated in 1.0 and will raise a TypeError in 1.2. Please convert to a numpy array with np.asarray. For more information see: https://numpy.org/doc/stable/reference/generated/numpy.matrix.html\n",
            "  FutureWarning,\n"
          ]
        },
        {
          "output_type": "stream",
          "name": "stdout",
          "text": [
            "[Pipeline] ... (step 1 of 7) Processing TweetNormalizer, total=   1.1s\n",
            "[Pipeline] .. (step 2 of 7) Processing FeatureExtractor, total=   4.9s\n",
            "[Pipeline] .. (step 3 of 7) Processing BigramVectorizer, total=   6.2s\n",
            "[Pipeline]  (step 4 of 7) Processing MatrixToArrayConverter, total=   0.0s\n",
            "[Pipeline] ..... (step 5 of 7) Processing OneHotEncoder, total=   0.4s\n",
            "[Pipeline] ..... (step 6 of 7) Processing MatrixUnifier, total=   0.0s\n"
          ]
        },
        {
          "output_type": "stream",
          "name": "stderr",
          "text": [
            "/usr/local/lib/python3.7/dist-packages/sklearn/utils/validation.py:598: FutureWarning: np.matrix usage is deprecated in 1.0 and will raise a TypeError in 1.2. Please convert to a numpy array with np.asarray. For more information see: https://numpy.org/doc/stable/reference/generated/numpy.matrix.html\n",
            "  FutureWarning,\n",
            "/usr/local/lib/python3.7/dist-packages/sklearn/neural_network/_multilayer_perceptron.py:696: ConvergenceWarning: Stochastic Optimizer: Maximum iterations (20) reached and the optimization hasn't converged yet.\n",
            "  ConvergenceWarning,\n"
          ]
        },
        {
          "output_type": "stream",
          "name": "stdout",
          "text": [
            "[Pipeline] ............... (step 7 of 7) Processing CLF, total=  14.0s\n"
          ]
        },
        {
          "output_type": "stream",
          "name": "stderr",
          "text": [
            "/usr/local/lib/python3.7/dist-packages/sklearn/utils/validation.py:598: FutureWarning: np.matrix usage is deprecated in 1.0 and will raise a TypeError in 1.2. Please convert to a numpy array with np.asarray. For more information see: https://numpy.org/doc/stable/reference/generated/numpy.matrix.html\n",
            "  FutureWarning,\n"
          ]
        },
        {
          "output_type": "stream",
          "name": "stdout",
          "text": [
            "[Pipeline] ... (step 1 of 7) Processing TweetNormalizer, total=   1.1s\n",
            "[Pipeline] .. (step 2 of 7) Processing FeatureExtractor, total=   4.9s\n",
            "[Pipeline] .. (step 3 of 7) Processing BigramVectorizer, total=   6.2s\n",
            "[Pipeline]  (step 4 of 7) Processing MatrixToArrayConverter, total=   0.0s\n",
            "[Pipeline] ..... (step 5 of 7) Processing OneHotEncoder, total=   0.4s\n",
            "[Pipeline] ..... (step 6 of 7) Processing MatrixUnifier, total=   0.0s\n"
          ]
        },
        {
          "output_type": "stream",
          "name": "stderr",
          "text": [
            "/usr/local/lib/python3.7/dist-packages/sklearn/utils/validation.py:598: FutureWarning: np.matrix usage is deprecated in 1.0 and will raise a TypeError in 1.2. Please convert to a numpy array with np.asarray. For more information see: https://numpy.org/doc/stable/reference/generated/numpy.matrix.html\n",
            "  FutureWarning,\n",
            "/usr/local/lib/python3.7/dist-packages/sklearn/neural_network/_multilayer_perceptron.py:696: ConvergenceWarning: Stochastic Optimizer: Maximum iterations (20) reached and the optimization hasn't converged yet.\n",
            "  ConvergenceWarning,\n"
          ]
        },
        {
          "output_type": "stream",
          "name": "stdout",
          "text": [
            "[Pipeline] ............... (step 7 of 7) Processing CLF, total=  12.3s\n"
          ]
        },
        {
          "output_type": "stream",
          "name": "stderr",
          "text": [
            "/usr/local/lib/python3.7/dist-packages/sklearn/utils/validation.py:598: FutureWarning: np.matrix usage is deprecated in 1.0 and will raise a TypeError in 1.2. Please convert to a numpy array with np.asarray. For more information see: https://numpy.org/doc/stable/reference/generated/numpy.matrix.html\n",
            "  FutureWarning,\n"
          ]
        },
        {
          "output_type": "stream",
          "name": "stdout",
          "text": [
            "[Pipeline] ... (step 1 of 7) Processing TweetNormalizer, total=   0.9s\n",
            "[Pipeline] .. (step 2 of 7) Processing FeatureExtractor, total=   4.1s\n",
            "[Pipeline] .. (step 3 of 7) Processing BigramVectorizer, total=   5.3s\n",
            "[Pipeline]  (step 4 of 7) Processing MatrixToArrayConverter, total=   0.0s\n",
            "[Pipeline] ..... (step 5 of 7) Processing OneHotEncoder, total=   0.3s\n",
            "[Pipeline] ..... (step 6 of 7) Processing MatrixUnifier, total=   0.0s\n"
          ]
        },
        {
          "output_type": "stream",
          "name": "stderr",
          "text": [
            "/usr/local/lib/python3.7/dist-packages/sklearn/utils/validation.py:598: FutureWarning: np.matrix usage is deprecated in 1.0 and will raise a TypeError in 1.2. Please convert to a numpy array with np.asarray. For more information see: https://numpy.org/doc/stable/reference/generated/numpy.matrix.html\n",
            "  FutureWarning,\n",
            "/usr/local/lib/python3.7/dist-packages/sklearn/neural_network/_multilayer_perceptron.py:696: ConvergenceWarning: Stochastic Optimizer: Maximum iterations (20) reached and the optimization hasn't converged yet.\n",
            "  ConvergenceWarning,\n"
          ]
        },
        {
          "output_type": "stream",
          "name": "stdout",
          "text": [
            "[Pipeline] ............... (step 7 of 7) Processing CLF, total=  12.3s\n"
          ]
        },
        {
          "output_type": "stream",
          "name": "stderr",
          "text": [
            "/usr/local/lib/python3.7/dist-packages/sklearn/utils/validation.py:598: FutureWarning: np.matrix usage is deprecated in 1.0 and will raise a TypeError in 1.2. Please convert to a numpy array with np.asarray. For more information see: https://numpy.org/doc/stable/reference/generated/numpy.matrix.html\n",
            "  FutureWarning,\n"
          ]
        },
        {
          "output_type": "stream",
          "name": "stdout",
          "text": [
            "[Pipeline] ... (step 1 of 7) Processing TweetNormalizer, total=   1.1s\n",
            "[Pipeline] .. (step 2 of 7) Processing FeatureExtractor, total=   4.9s\n",
            "[Pipeline] .. (step 3 of 7) Processing BigramVectorizer, total=   6.2s\n",
            "[Pipeline]  (step 4 of 7) Processing MatrixToArrayConverter, total=   0.0s\n",
            "[Pipeline] ..... (step 5 of 7) Processing OneHotEncoder, total=   0.4s\n",
            "[Pipeline] ..... (step 6 of 7) Processing MatrixUnifier, total=   0.0s\n"
          ]
        },
        {
          "output_type": "stream",
          "name": "stderr",
          "text": [
            "/usr/local/lib/python3.7/dist-packages/sklearn/utils/validation.py:598: FutureWarning: np.matrix usage is deprecated in 1.0 and will raise a TypeError in 1.2. Please convert to a numpy array with np.asarray. For more information see: https://numpy.org/doc/stable/reference/generated/numpy.matrix.html\n",
            "  FutureWarning,\n",
            "/usr/local/lib/python3.7/dist-packages/sklearn/neural_network/_multilayer_perceptron.py:696: ConvergenceWarning: Stochastic Optimizer: Maximum iterations (20) reached and the optimization hasn't converged yet.\n",
            "  ConvergenceWarning,\n"
          ]
        },
        {
          "output_type": "stream",
          "name": "stdout",
          "text": [
            "[Pipeline] ............... (step 7 of 7) Processing CLF, total=  12.3s\n"
          ]
        },
        {
          "output_type": "stream",
          "name": "stderr",
          "text": [
            "/usr/local/lib/python3.7/dist-packages/sklearn/utils/validation.py:598: FutureWarning: np.matrix usage is deprecated in 1.0 and will raise a TypeError in 1.2. Please convert to a numpy array with np.asarray. For more information see: https://numpy.org/doc/stable/reference/generated/numpy.matrix.html\n",
            "  FutureWarning,\n"
          ]
        },
        {
          "output_type": "stream",
          "name": "stdout",
          "text": [
            "[Pipeline] ... (step 1 of 7) Processing TweetNormalizer, total=   1.1s\n",
            "[Pipeline] .. (step 2 of 7) Processing FeatureExtractor, total=   5.0s\n",
            "[Pipeline] .. (step 3 of 7) Processing BigramVectorizer, total=   6.1s\n",
            "[Pipeline]  (step 4 of 7) Processing MatrixToArrayConverter, total=   0.0s\n",
            "[Pipeline] ..... (step 5 of 7) Processing OneHotEncoder, total=   0.4s\n",
            "[Pipeline] ..... (step 6 of 7) Processing MatrixUnifier, total=   0.0s\n"
          ]
        },
        {
          "output_type": "stream",
          "name": "stderr",
          "text": [
            "/usr/local/lib/python3.7/dist-packages/sklearn/utils/validation.py:598: FutureWarning: np.matrix usage is deprecated in 1.0 and will raise a TypeError in 1.2. Please convert to a numpy array with np.asarray. For more information see: https://numpy.org/doc/stable/reference/generated/numpy.matrix.html\n",
            "  FutureWarning,\n",
            "/usr/local/lib/python3.7/dist-packages/sklearn/neural_network/_multilayer_perceptron.py:696: ConvergenceWarning: Stochastic Optimizer: Maximum iterations (20) reached and the optimization hasn't converged yet.\n",
            "  ConvergenceWarning,\n"
          ]
        },
        {
          "output_type": "stream",
          "name": "stdout",
          "text": [
            "[Pipeline] ............... (step 7 of 7) Processing CLF, total=  12.2s\n"
          ]
        },
        {
          "output_type": "stream",
          "name": "stderr",
          "text": [
            "/usr/local/lib/python3.7/dist-packages/sklearn/utils/validation.py:598: FutureWarning: np.matrix usage is deprecated in 1.0 and will raise a TypeError in 1.2. Please convert to a numpy array with np.asarray. For more information see: https://numpy.org/doc/stable/reference/generated/numpy.matrix.html\n",
            "  FutureWarning,\n"
          ]
        },
        {
          "output_type": "stream",
          "name": "stdout",
          "text": [
            "[Pipeline] ... (step 1 of 7) Processing TweetNormalizer, total=   1.1s\n",
            "[Pipeline] .. (step 2 of 7) Processing FeatureExtractor, total=   5.0s\n",
            "[Pipeline] .. (step 3 of 7) Processing BigramVectorizer, total=   6.1s\n",
            "[Pipeline]  (step 4 of 7) Processing MatrixToArrayConverter, total=   0.0s\n",
            "[Pipeline] ..... (step 5 of 7) Processing OneHotEncoder, total=   0.4s\n",
            "[Pipeline] ..... (step 6 of 7) Processing MatrixUnifier, total=   0.0s\n"
          ]
        },
        {
          "output_type": "stream",
          "name": "stderr",
          "text": [
            "/usr/local/lib/python3.7/dist-packages/sklearn/utils/validation.py:598: FutureWarning: np.matrix usage is deprecated in 1.0 and will raise a TypeError in 1.2. Please convert to a numpy array with np.asarray. For more information see: https://numpy.org/doc/stable/reference/generated/numpy.matrix.html\n",
            "  FutureWarning,\n",
            "/usr/local/lib/python3.7/dist-packages/sklearn/neural_network/_multilayer_perceptron.py:696: ConvergenceWarning: Stochastic Optimizer: Maximum iterations (20) reached and the optimization hasn't converged yet.\n",
            "  ConvergenceWarning,\n"
          ]
        },
        {
          "output_type": "stream",
          "name": "stdout",
          "text": [
            "[Pipeline] ............... (step 7 of 7) Processing CLF, total=   9.6s\n"
          ]
        },
        {
          "output_type": "stream",
          "name": "stderr",
          "text": [
            "/usr/local/lib/python3.7/dist-packages/sklearn/utils/validation.py:598: FutureWarning: np.matrix usage is deprecated in 1.0 and will raise a TypeError in 1.2. Please convert to a numpy array with np.asarray. For more information see: https://numpy.org/doc/stable/reference/generated/numpy.matrix.html\n",
            "  FutureWarning,\n"
          ]
        },
        {
          "output_type": "stream",
          "name": "stdout",
          "text": [
            "[Pipeline] ... (step 1 of 7) Processing TweetNormalizer, total=   1.1s\n",
            "[Pipeline] .. (step 2 of 7) Processing FeatureExtractor, total=   4.9s\n",
            "[Pipeline] .. (step 3 of 7) Processing BigramVectorizer, total=   7.6s\n",
            "[Pipeline]  (step 4 of 7) Processing MatrixToArrayConverter, total=   0.0s\n",
            "[Pipeline] ..... (step 5 of 7) Processing OneHotEncoder, total=   0.4s\n",
            "[Pipeline] ..... (step 6 of 7) Processing MatrixUnifier, total=   0.0s\n"
          ]
        },
        {
          "output_type": "stream",
          "name": "stderr",
          "text": [
            "/usr/local/lib/python3.7/dist-packages/sklearn/utils/validation.py:598: FutureWarning: np.matrix usage is deprecated in 1.0 and will raise a TypeError in 1.2. Please convert to a numpy array with np.asarray. For more information see: https://numpy.org/doc/stable/reference/generated/numpy.matrix.html\n",
            "  FutureWarning,\n",
            "/usr/local/lib/python3.7/dist-packages/sklearn/neural_network/_multilayer_perceptron.py:696: ConvergenceWarning: Stochastic Optimizer: Maximum iterations (20) reached and the optimization hasn't converged yet.\n",
            "  ConvergenceWarning,\n"
          ]
        },
        {
          "output_type": "stream",
          "name": "stdout",
          "text": [
            "[Pipeline] ............... (step 7 of 7) Processing CLF, total=   9.6s\n"
          ]
        },
        {
          "output_type": "stream",
          "name": "stderr",
          "text": [
            "/usr/local/lib/python3.7/dist-packages/sklearn/utils/validation.py:598: FutureWarning: np.matrix usage is deprecated in 1.0 and will raise a TypeError in 1.2. Please convert to a numpy array with np.asarray. For more information see: https://numpy.org/doc/stable/reference/generated/numpy.matrix.html\n",
            "  FutureWarning,\n"
          ]
        },
        {
          "output_type": "stream",
          "name": "stdout",
          "text": [
            "[Pipeline] ... (step 1 of 7) Processing TweetNormalizer, total=   1.1s\n",
            "[Pipeline] .. (step 2 of 7) Processing FeatureExtractor, total=   4.9s\n",
            "[Pipeline] .. (step 3 of 7) Processing BigramVectorizer, total=   6.2s\n",
            "[Pipeline]  (step 4 of 7) Processing MatrixToArrayConverter, total=   0.0s\n",
            "[Pipeline] ..... (step 5 of 7) Processing OneHotEncoder, total=   0.4s\n",
            "[Pipeline] ..... (step 6 of 7) Processing MatrixUnifier, total=   0.0s\n"
          ]
        },
        {
          "output_type": "stream",
          "name": "stderr",
          "text": [
            "/usr/local/lib/python3.7/dist-packages/sklearn/utils/validation.py:598: FutureWarning: np.matrix usage is deprecated in 1.0 and will raise a TypeError in 1.2. Please convert to a numpy array with np.asarray. For more information see: https://numpy.org/doc/stable/reference/generated/numpy.matrix.html\n",
            "  FutureWarning,\n",
            "/usr/local/lib/python3.7/dist-packages/sklearn/neural_network/_multilayer_perceptron.py:696: ConvergenceWarning: Stochastic Optimizer: Maximum iterations (20) reached and the optimization hasn't converged yet.\n",
            "  ConvergenceWarning,\n"
          ]
        },
        {
          "output_type": "stream",
          "name": "stdout",
          "text": [
            "[Pipeline] ............... (step 7 of 7) Processing CLF, total=   9.7s\n"
          ]
        },
        {
          "output_type": "stream",
          "name": "stderr",
          "text": [
            "/usr/local/lib/python3.7/dist-packages/sklearn/utils/validation.py:598: FutureWarning: np.matrix usage is deprecated in 1.0 and will raise a TypeError in 1.2. Please convert to a numpy array with np.asarray. For more information see: https://numpy.org/doc/stable/reference/generated/numpy.matrix.html\n",
            "  FutureWarning,\n"
          ]
        },
        {
          "output_type": "stream",
          "name": "stdout",
          "text": [
            "[Pipeline] ... (step 1 of 7) Processing TweetNormalizer, total=   1.1s\n",
            "[Pipeline] .. (step 2 of 7) Processing FeatureExtractor, total=   5.0s\n",
            "[Pipeline] .. (step 3 of 7) Processing BigramVectorizer, total=   6.2s\n",
            "[Pipeline]  (step 4 of 7) Processing MatrixToArrayConverter, total=   0.0s\n",
            "[Pipeline] ..... (step 5 of 7) Processing OneHotEncoder, total=   0.4s\n",
            "[Pipeline] ..... (step 6 of 7) Processing MatrixUnifier, total=   0.0s\n"
          ]
        },
        {
          "output_type": "stream",
          "name": "stderr",
          "text": [
            "/usr/local/lib/python3.7/dist-packages/sklearn/utils/validation.py:598: FutureWarning: np.matrix usage is deprecated in 1.0 and will raise a TypeError in 1.2. Please convert to a numpy array with np.asarray. For more information see: https://numpy.org/doc/stable/reference/generated/numpy.matrix.html\n",
            "  FutureWarning,\n",
            "/usr/local/lib/python3.7/dist-packages/sklearn/neural_network/_multilayer_perceptron.py:696: ConvergenceWarning: Stochastic Optimizer: Maximum iterations (20) reached and the optimization hasn't converged yet.\n",
            "  ConvergenceWarning,\n"
          ]
        },
        {
          "output_type": "stream",
          "name": "stdout",
          "text": [
            "[Pipeline] ............... (step 7 of 7) Processing CLF, total=   9.7s\n"
          ]
        },
        {
          "output_type": "stream",
          "name": "stderr",
          "text": [
            "/usr/local/lib/python3.7/dist-packages/sklearn/utils/validation.py:598: FutureWarning: np.matrix usage is deprecated in 1.0 and will raise a TypeError in 1.2. Please convert to a numpy array with np.asarray. For more information see: https://numpy.org/doc/stable/reference/generated/numpy.matrix.html\n",
            "  FutureWarning,\n"
          ]
        },
        {
          "output_type": "stream",
          "name": "stdout",
          "text": [
            "[Pipeline] ... (step 1 of 7) Processing TweetNormalizer, total=   1.1s\n",
            "[Pipeline] .. (step 2 of 7) Processing FeatureExtractor, total=   4.9s\n",
            "[Pipeline] .. (step 3 of 7) Processing BigramVectorizer, total=   6.3s\n",
            "[Pipeline]  (step 4 of 7) Processing MatrixToArrayConverter, total=   0.0s\n",
            "[Pipeline] ..... (step 5 of 7) Processing OneHotEncoder, total=   0.4s\n",
            "[Pipeline] ..... (step 6 of 7) Processing MatrixUnifier, total=   0.0s\n"
          ]
        },
        {
          "output_type": "stream",
          "name": "stderr",
          "text": [
            "/usr/local/lib/python3.7/dist-packages/sklearn/utils/validation.py:598: FutureWarning: np.matrix usage is deprecated in 1.0 and will raise a TypeError in 1.2. Please convert to a numpy array with np.asarray. For more information see: https://numpy.org/doc/stable/reference/generated/numpy.matrix.html\n",
            "  FutureWarning,\n",
            "/usr/local/lib/python3.7/dist-packages/sklearn/neural_network/_multilayer_perceptron.py:696: ConvergenceWarning: Stochastic Optimizer: Maximum iterations (20) reached and the optimization hasn't converged yet.\n",
            "  ConvergenceWarning,\n"
          ]
        },
        {
          "output_type": "stream",
          "name": "stdout",
          "text": [
            "[Pipeline] ............... (step 7 of 7) Processing CLF, total=  11.6s\n"
          ]
        },
        {
          "output_type": "stream",
          "name": "stderr",
          "text": [
            "/usr/local/lib/python3.7/dist-packages/sklearn/utils/validation.py:598: FutureWarning: np.matrix usage is deprecated in 1.0 and will raise a TypeError in 1.2. Please convert to a numpy array with np.asarray. For more information see: https://numpy.org/doc/stable/reference/generated/numpy.matrix.html\n",
            "  FutureWarning,\n"
          ]
        },
        {
          "output_type": "stream",
          "name": "stdout",
          "text": [
            "[Pipeline] ... (step 1 of 7) Processing TweetNormalizer, total=   1.1s\n",
            "[Pipeline] .. (step 2 of 7) Processing FeatureExtractor, total=   4.9s\n",
            "[Pipeline] .. (step 3 of 7) Processing BigramVectorizer, total=   6.1s\n",
            "[Pipeline]  (step 4 of 7) Processing MatrixToArrayConverter, total=   0.0s\n",
            "[Pipeline] ..... (step 5 of 7) Processing OneHotEncoder, total=   0.4s\n",
            "[Pipeline] ..... (step 6 of 7) Processing MatrixUnifier, total=   0.0s\n"
          ]
        },
        {
          "output_type": "stream",
          "name": "stderr",
          "text": [
            "/usr/local/lib/python3.7/dist-packages/sklearn/utils/validation.py:598: FutureWarning: np.matrix usage is deprecated in 1.0 and will raise a TypeError in 1.2. Please convert to a numpy array with np.asarray. For more information see: https://numpy.org/doc/stable/reference/generated/numpy.matrix.html\n",
            "  FutureWarning,\n",
            "/usr/local/lib/python3.7/dist-packages/sklearn/neural_network/_multilayer_perceptron.py:696: ConvergenceWarning: Stochastic Optimizer: Maximum iterations (20) reached and the optimization hasn't converged yet.\n",
            "  ConvergenceWarning,\n"
          ]
        },
        {
          "output_type": "stream",
          "name": "stdout",
          "text": [
            "[Pipeline] ............... (step 7 of 7) Processing CLF, total=   9.6s\n"
          ]
        },
        {
          "output_type": "stream",
          "name": "stderr",
          "text": [
            "/usr/local/lib/python3.7/dist-packages/sklearn/utils/validation.py:598: FutureWarning: np.matrix usage is deprecated in 1.0 and will raise a TypeError in 1.2. Please convert to a numpy array with np.asarray. For more information see: https://numpy.org/doc/stable/reference/generated/numpy.matrix.html\n",
            "  FutureWarning,\n"
          ]
        },
        {
          "output_type": "stream",
          "name": "stdout",
          "text": [
            "[Pipeline] ... (step 1 of 7) Processing TweetNormalizer, total=   1.1s\n",
            "[Pipeline] .. (step 2 of 7) Processing FeatureExtractor, total=   4.9s\n",
            "[Pipeline] .. (step 3 of 7) Processing BigramVectorizer, total=   6.3s\n",
            "[Pipeline]  (step 4 of 7) Processing MatrixToArrayConverter, total=   0.0s\n",
            "[Pipeline] ..... (step 5 of 7) Processing OneHotEncoder, total=   0.4s\n",
            "[Pipeline] ..... (step 6 of 7) Processing MatrixUnifier, total=   0.0s\n"
          ]
        },
        {
          "output_type": "stream",
          "name": "stderr",
          "text": [
            "/usr/local/lib/python3.7/dist-packages/sklearn/utils/validation.py:598: FutureWarning: np.matrix usage is deprecated in 1.0 and will raise a TypeError in 1.2. Please convert to a numpy array with np.asarray. For more information see: https://numpy.org/doc/stable/reference/generated/numpy.matrix.html\n",
            "  FutureWarning,\n",
            "/usr/local/lib/python3.7/dist-packages/sklearn/neural_network/_multilayer_perceptron.py:696: ConvergenceWarning: Stochastic Optimizer: Maximum iterations (20) reached and the optimization hasn't converged yet.\n",
            "  ConvergenceWarning,\n"
          ]
        },
        {
          "output_type": "stream",
          "name": "stdout",
          "text": [
            "[Pipeline] ............... (step 7 of 7) Processing CLF, total=   9.8s\n"
          ]
        },
        {
          "output_type": "stream",
          "name": "stderr",
          "text": [
            "/usr/local/lib/python3.7/dist-packages/sklearn/utils/validation.py:598: FutureWarning: np.matrix usage is deprecated in 1.0 and will raise a TypeError in 1.2. Please convert to a numpy array with np.asarray. For more information see: https://numpy.org/doc/stable/reference/generated/numpy.matrix.html\n",
            "  FutureWarning,\n"
          ]
        },
        {
          "output_type": "stream",
          "name": "stdout",
          "text": [
            "[Pipeline] ... (step 1 of 7) Processing TweetNormalizer, total=   0.8s\n",
            "[Pipeline] .. (step 2 of 7) Processing FeatureExtractor, total=   4.1s\n",
            "[Pipeline] .. (step 3 of 7) Processing BigramVectorizer, total=   5.2s\n",
            "[Pipeline]  (step 4 of 7) Processing MatrixToArrayConverter, total=   0.0s\n",
            "[Pipeline] ..... (step 5 of 7) Processing OneHotEncoder, total=   0.3s\n",
            "[Pipeline] ..... (step 6 of 7) Processing MatrixUnifier, total=   0.0s\n"
          ]
        },
        {
          "output_type": "stream",
          "name": "stderr",
          "text": [
            "/usr/local/lib/python3.7/dist-packages/sklearn/utils/validation.py:598: FutureWarning: np.matrix usage is deprecated in 1.0 and will raise a TypeError in 1.2. Please convert to a numpy array with np.asarray. For more information see: https://numpy.org/doc/stable/reference/generated/numpy.matrix.html\n",
            "  FutureWarning,\n",
            "/usr/local/lib/python3.7/dist-packages/sklearn/neural_network/_multilayer_perceptron.py:696: ConvergenceWarning: Stochastic Optimizer: Maximum iterations (20) reached and the optimization hasn't converged yet.\n",
            "  ConvergenceWarning,\n"
          ]
        },
        {
          "output_type": "stream",
          "name": "stdout",
          "text": [
            "[Pipeline] ............... (step 7 of 7) Processing CLF, total=   9.6s\n"
          ]
        },
        {
          "output_type": "stream",
          "name": "stderr",
          "text": [
            "/usr/local/lib/python3.7/dist-packages/sklearn/utils/validation.py:598: FutureWarning: np.matrix usage is deprecated in 1.0 and will raise a TypeError in 1.2. Please convert to a numpy array with np.asarray. For more information see: https://numpy.org/doc/stable/reference/generated/numpy.matrix.html\n",
            "  FutureWarning,\n"
          ]
        },
        {
          "output_type": "stream",
          "name": "stdout",
          "text": [
            "[Pipeline] ... (step 1 of 7) Processing TweetNormalizer, total=   1.1s\n",
            "[Pipeline] .. (step 2 of 7) Processing FeatureExtractor, total=   4.9s\n",
            "[Pipeline] .. (step 3 of 7) Processing BigramVectorizer, total=   6.3s\n",
            "[Pipeline]  (step 4 of 7) Processing MatrixToArrayConverter, total=   0.0s\n",
            "[Pipeline] ..... (step 5 of 7) Processing OneHotEncoder, total=   0.4s\n",
            "[Pipeline] ..... (step 6 of 7) Processing MatrixUnifier, total=   0.0s\n"
          ]
        },
        {
          "output_type": "stream",
          "name": "stderr",
          "text": [
            "/usr/local/lib/python3.7/dist-packages/sklearn/utils/validation.py:598: FutureWarning: np.matrix usage is deprecated in 1.0 and will raise a TypeError in 1.2. Please convert to a numpy array with np.asarray. For more information see: https://numpy.org/doc/stable/reference/generated/numpy.matrix.html\n",
            "  FutureWarning,\n",
            "/usr/local/lib/python3.7/dist-packages/sklearn/neural_network/_multilayer_perceptron.py:696: ConvergenceWarning: Stochastic Optimizer: Maximum iterations (20) reached and the optimization hasn't converged yet.\n",
            "  ConvergenceWarning,\n"
          ]
        },
        {
          "output_type": "stream",
          "name": "stdout",
          "text": [
            "[Pipeline] ............... (step 7 of 7) Processing CLF, total=   9.7s\n"
          ]
        },
        {
          "output_type": "stream",
          "name": "stderr",
          "text": [
            "/usr/local/lib/python3.7/dist-packages/sklearn/utils/validation.py:598: FutureWarning: np.matrix usage is deprecated in 1.0 and will raise a TypeError in 1.2. Please convert to a numpy array with np.asarray. For more information see: https://numpy.org/doc/stable/reference/generated/numpy.matrix.html\n",
            "  FutureWarning,\n"
          ]
        },
        {
          "output_type": "stream",
          "name": "stdout",
          "text": [
            "[Pipeline] ... (step 1 of 7) Processing TweetNormalizer, total=   1.1s\n",
            "[Pipeline] .. (step 2 of 7) Processing FeatureExtractor, total=   5.0s\n",
            "[Pipeline] .. (step 3 of 7) Processing BigramVectorizer, total=   6.2s\n",
            "[Pipeline]  (step 4 of 7) Processing MatrixToArrayConverter, total=   0.0s\n",
            "[Pipeline] ..... (step 5 of 7) Processing OneHotEncoder, total=   0.4s\n",
            "[Pipeline] ..... (step 6 of 7) Processing MatrixUnifier, total=   0.0s\n"
          ]
        },
        {
          "output_type": "stream",
          "name": "stderr",
          "text": [
            "/usr/local/lib/python3.7/dist-packages/sklearn/utils/validation.py:598: FutureWarning: np.matrix usage is deprecated in 1.0 and will raise a TypeError in 1.2. Please convert to a numpy array with np.asarray. For more information see: https://numpy.org/doc/stable/reference/generated/numpy.matrix.html\n",
            "  FutureWarning,\n",
            "/usr/local/lib/python3.7/dist-packages/sklearn/neural_network/_multilayer_perceptron.py:696: ConvergenceWarning: Stochastic Optimizer: Maximum iterations (20) reached and the optimization hasn't converged yet.\n",
            "  ConvergenceWarning,\n"
          ]
        },
        {
          "output_type": "stream",
          "name": "stdout",
          "text": [
            "[Pipeline] ............... (step 7 of 7) Processing CLF, total=   9.8s\n"
          ]
        },
        {
          "output_type": "stream",
          "name": "stderr",
          "text": [
            "/usr/local/lib/python3.7/dist-packages/sklearn/utils/validation.py:598: FutureWarning: np.matrix usage is deprecated in 1.0 and will raise a TypeError in 1.2. Please convert to a numpy array with np.asarray. For more information see: https://numpy.org/doc/stable/reference/generated/numpy.matrix.html\n",
            "  FutureWarning,\n"
          ]
        },
        {
          "output_type": "stream",
          "name": "stdout",
          "text": [
            "[Pipeline] ... (step 1 of 7) Processing TweetNormalizer, total=   1.1s\n",
            "[Pipeline] .. (step 2 of 7) Processing FeatureExtractor, total=   4.9s\n",
            "[Pipeline] .. (step 3 of 7) Processing BigramVectorizer, total=   6.3s\n",
            "[Pipeline]  (step 4 of 7) Processing MatrixToArrayConverter, total=   0.0s\n",
            "[Pipeline] ..... (step 5 of 7) Processing OneHotEncoder, total=   0.4s\n",
            "[Pipeline] ..... (step 6 of 7) Processing MatrixUnifier, total=   0.0s\n"
          ]
        },
        {
          "output_type": "stream",
          "name": "stderr",
          "text": [
            "/usr/local/lib/python3.7/dist-packages/sklearn/utils/validation.py:598: FutureWarning: np.matrix usage is deprecated in 1.0 and will raise a TypeError in 1.2. Please convert to a numpy array with np.asarray. For more information see: https://numpy.org/doc/stable/reference/generated/numpy.matrix.html\n",
            "  FutureWarning,\n",
            "/usr/local/lib/python3.7/dist-packages/sklearn/neural_network/_multilayer_perceptron.py:696: ConvergenceWarning: Stochastic Optimizer: Maximum iterations (20) reached and the optimization hasn't converged yet.\n",
            "  ConvergenceWarning,\n"
          ]
        },
        {
          "output_type": "stream",
          "name": "stdout",
          "text": [
            "[Pipeline] ............... (step 7 of 7) Processing CLF, total=  12.1s\n"
          ]
        },
        {
          "output_type": "stream",
          "name": "stderr",
          "text": [
            "/usr/local/lib/python3.7/dist-packages/sklearn/utils/validation.py:598: FutureWarning: np.matrix usage is deprecated in 1.0 and will raise a TypeError in 1.2. Please convert to a numpy array with np.asarray. For more information see: https://numpy.org/doc/stable/reference/generated/numpy.matrix.html\n",
            "  FutureWarning,\n"
          ]
        },
        {
          "output_type": "stream",
          "name": "stdout",
          "text": [
            "[Pipeline] ... (step 1 of 7) Processing TweetNormalizer, total=   1.1s\n",
            "[Pipeline] .. (step 2 of 7) Processing FeatureExtractor, total=   4.9s\n",
            "[Pipeline] .. (step 3 of 7) Processing BigramVectorizer, total=   6.2s\n",
            "[Pipeline]  (step 4 of 7) Processing MatrixToArrayConverter, total=   0.0s\n",
            "[Pipeline] ..... (step 5 of 7) Processing OneHotEncoder, total=   0.4s\n",
            "[Pipeline] ..... (step 6 of 7) Processing MatrixUnifier, total=   0.0s\n"
          ]
        },
        {
          "output_type": "stream",
          "name": "stderr",
          "text": [
            "/usr/local/lib/python3.7/dist-packages/sklearn/utils/validation.py:598: FutureWarning: np.matrix usage is deprecated in 1.0 and will raise a TypeError in 1.2. Please convert to a numpy array with np.asarray. For more information see: https://numpy.org/doc/stable/reference/generated/numpy.matrix.html\n",
            "  FutureWarning,\n",
            "/usr/local/lib/python3.7/dist-packages/sklearn/neural_network/_multilayer_perceptron.py:696: ConvergenceWarning: Stochastic Optimizer: Maximum iterations (20) reached and the optimization hasn't converged yet.\n",
            "  ConvergenceWarning,\n"
          ]
        },
        {
          "output_type": "stream",
          "name": "stdout",
          "text": [
            "[Pipeline] ............... (step 7 of 7) Processing CLF, total=  10.2s\n"
          ]
        },
        {
          "output_type": "stream",
          "name": "stderr",
          "text": [
            "/usr/local/lib/python3.7/dist-packages/sklearn/utils/validation.py:598: FutureWarning: np.matrix usage is deprecated in 1.0 and will raise a TypeError in 1.2. Please convert to a numpy array with np.asarray. For more information see: https://numpy.org/doc/stable/reference/generated/numpy.matrix.html\n",
            "  FutureWarning,\n"
          ]
        },
        {
          "output_type": "stream",
          "name": "stdout",
          "text": [
            "[Pipeline] ... (step 1 of 7) Processing TweetNormalizer, total=   1.1s\n",
            "[Pipeline] .. (step 2 of 7) Processing FeatureExtractor, total=   5.0s\n",
            "[Pipeline] .. (step 3 of 7) Processing BigramVectorizer, total=   6.2s\n",
            "[Pipeline]  (step 4 of 7) Processing MatrixToArrayConverter, total=   0.0s\n",
            "[Pipeline] ..... (step 5 of 7) Processing OneHotEncoder, total=   0.4s\n",
            "[Pipeline] ..... (step 6 of 7) Processing MatrixUnifier, total=   0.0s\n"
          ]
        },
        {
          "output_type": "stream",
          "name": "stderr",
          "text": [
            "/usr/local/lib/python3.7/dist-packages/sklearn/utils/validation.py:598: FutureWarning: np.matrix usage is deprecated in 1.0 and will raise a TypeError in 1.2. Please convert to a numpy array with np.asarray. For more information see: https://numpy.org/doc/stable/reference/generated/numpy.matrix.html\n",
            "  FutureWarning,\n",
            "/usr/local/lib/python3.7/dist-packages/sklearn/neural_network/_multilayer_perceptron.py:696: ConvergenceWarning: Stochastic Optimizer: Maximum iterations (20) reached and the optimization hasn't converged yet.\n",
            "  ConvergenceWarning,\n"
          ]
        },
        {
          "output_type": "stream",
          "name": "stdout",
          "text": [
            "[Pipeline] ............... (step 7 of 7) Processing CLF, total=   9.9s\n"
          ]
        },
        {
          "output_type": "stream",
          "name": "stderr",
          "text": [
            "/usr/local/lib/python3.7/dist-packages/sklearn/utils/validation.py:598: FutureWarning: np.matrix usage is deprecated in 1.0 and will raise a TypeError in 1.2. Please convert to a numpy array with np.asarray. For more information see: https://numpy.org/doc/stable/reference/generated/numpy.matrix.html\n",
            "  FutureWarning,\n"
          ]
        },
        {
          "output_type": "stream",
          "name": "stdout",
          "text": [
            "[Pipeline] ... (step 1 of 7) Processing TweetNormalizer, total=   1.1s\n",
            "[Pipeline] .. (step 2 of 7) Processing FeatureExtractor, total=   4.9s\n",
            "[Pipeline] .. (step 3 of 7) Processing BigramVectorizer, total=   6.2s\n",
            "[Pipeline]  (step 4 of 7) Processing MatrixToArrayConverter, total=   0.0s\n",
            "[Pipeline] ..... (step 5 of 7) Processing OneHotEncoder, total=   0.4s\n",
            "[Pipeline] ..... (step 6 of 7) Processing MatrixUnifier, total=   0.0s\n"
          ]
        },
        {
          "output_type": "stream",
          "name": "stderr",
          "text": [
            "/usr/local/lib/python3.7/dist-packages/sklearn/utils/validation.py:598: FutureWarning: np.matrix usage is deprecated in 1.0 and will raise a TypeError in 1.2. Please convert to a numpy array with np.asarray. For more information see: https://numpy.org/doc/stable/reference/generated/numpy.matrix.html\n",
            "  FutureWarning,\n",
            "/usr/local/lib/python3.7/dist-packages/sklearn/neural_network/_multilayer_perceptron.py:696: ConvergenceWarning: Stochastic Optimizer: Maximum iterations (20) reached and the optimization hasn't converged yet.\n",
            "  ConvergenceWarning,\n"
          ]
        },
        {
          "output_type": "stream",
          "name": "stdout",
          "text": [
            "[Pipeline] ............... (step 7 of 7) Processing CLF, total=  12.3s\n"
          ]
        },
        {
          "output_type": "stream",
          "name": "stderr",
          "text": [
            "/usr/local/lib/python3.7/dist-packages/sklearn/utils/validation.py:598: FutureWarning: np.matrix usage is deprecated in 1.0 and will raise a TypeError in 1.2. Please convert to a numpy array with np.asarray. For more information see: https://numpy.org/doc/stable/reference/generated/numpy.matrix.html\n",
            "  FutureWarning,\n"
          ]
        },
        {
          "output_type": "stream",
          "name": "stdout",
          "text": [
            "[Pipeline] ... (step 1 of 7) Processing TweetNormalizer, total=   1.1s\n",
            "[Pipeline] .. (step 2 of 7) Processing FeatureExtractor, total=   5.0s\n",
            "[Pipeline] .. (step 3 of 7) Processing BigramVectorizer, total=   6.2s\n",
            "[Pipeline]  (step 4 of 7) Processing MatrixToArrayConverter, total=   0.0s\n",
            "[Pipeline] ..... (step 5 of 7) Processing OneHotEncoder, total=   0.4s\n",
            "[Pipeline] ..... (step 6 of 7) Processing MatrixUnifier, total=   0.0s\n"
          ]
        },
        {
          "output_type": "stream",
          "name": "stderr",
          "text": [
            "/usr/local/lib/python3.7/dist-packages/sklearn/utils/validation.py:598: FutureWarning: np.matrix usage is deprecated in 1.0 and will raise a TypeError in 1.2. Please convert to a numpy array with np.asarray. For more information see: https://numpy.org/doc/stable/reference/generated/numpy.matrix.html\n",
            "  FutureWarning,\n",
            "/usr/local/lib/python3.7/dist-packages/sklearn/neural_network/_multilayer_perceptron.py:696: ConvergenceWarning: Stochastic Optimizer: Maximum iterations (20) reached and the optimization hasn't converged yet.\n",
            "  ConvergenceWarning,\n"
          ]
        },
        {
          "output_type": "stream",
          "name": "stdout",
          "text": [
            "[Pipeline] ............... (step 7 of 7) Processing CLF, total=  10.0s\n"
          ]
        },
        {
          "output_type": "stream",
          "name": "stderr",
          "text": [
            "/usr/local/lib/python3.7/dist-packages/sklearn/utils/validation.py:598: FutureWarning: np.matrix usage is deprecated in 1.0 and will raise a TypeError in 1.2. Please convert to a numpy array with np.asarray. For more information see: https://numpy.org/doc/stable/reference/generated/numpy.matrix.html\n",
            "  FutureWarning,\n"
          ]
        },
        {
          "output_type": "stream",
          "name": "stdout",
          "text": [
            "[Pipeline] ... (step 1 of 7) Processing TweetNormalizer, total=   1.1s\n",
            "[Pipeline] .. (step 2 of 7) Processing FeatureExtractor, total=   4.9s\n",
            "[Pipeline] .. (step 3 of 7) Processing BigramVectorizer, total=   6.1s\n",
            "[Pipeline]  (step 4 of 7) Processing MatrixToArrayConverter, total=   0.0s\n",
            "[Pipeline] ..... (step 5 of 7) Processing OneHotEncoder, total=   0.4s\n",
            "[Pipeline] ..... (step 6 of 7) Processing MatrixUnifier, total=   0.0s\n"
          ]
        },
        {
          "output_type": "stream",
          "name": "stderr",
          "text": [
            "/usr/local/lib/python3.7/dist-packages/sklearn/utils/validation.py:598: FutureWarning: np.matrix usage is deprecated in 1.0 and will raise a TypeError in 1.2. Please convert to a numpy array with np.asarray. For more information see: https://numpy.org/doc/stable/reference/generated/numpy.matrix.html\n",
            "  FutureWarning,\n",
            "/usr/local/lib/python3.7/dist-packages/sklearn/neural_network/_multilayer_perceptron.py:696: ConvergenceWarning: Stochastic Optimizer: Maximum iterations (20) reached and the optimization hasn't converged yet.\n",
            "  ConvergenceWarning,\n"
          ]
        },
        {
          "output_type": "stream",
          "name": "stdout",
          "text": [
            "[Pipeline] ............... (step 7 of 7) Processing CLF, total=  10.0s\n"
          ]
        },
        {
          "output_type": "stream",
          "name": "stderr",
          "text": [
            "/usr/local/lib/python3.7/dist-packages/sklearn/utils/validation.py:598: FutureWarning: np.matrix usage is deprecated in 1.0 and will raise a TypeError in 1.2. Please convert to a numpy array with np.asarray. For more information see: https://numpy.org/doc/stable/reference/generated/numpy.matrix.html\n",
            "  FutureWarning,\n"
          ]
        },
        {
          "output_type": "stream",
          "name": "stdout",
          "text": [
            "[Pipeline] ... (step 1 of 7) Processing TweetNormalizer, total=   1.1s\n",
            "[Pipeline] .. (step 2 of 7) Processing FeatureExtractor, total=   4.9s\n",
            "[Pipeline] .. (step 3 of 7) Processing BigramVectorizer, total=   6.3s\n",
            "[Pipeline]  (step 4 of 7) Processing MatrixToArrayConverter, total=   0.0s\n",
            "[Pipeline] ..... (step 5 of 7) Processing OneHotEncoder, total=   0.4s\n",
            "[Pipeline] ..... (step 6 of 7) Processing MatrixUnifier, total=   0.0s\n"
          ]
        },
        {
          "output_type": "stream",
          "name": "stderr",
          "text": [
            "/usr/local/lib/python3.7/dist-packages/sklearn/utils/validation.py:598: FutureWarning: np.matrix usage is deprecated in 1.0 and will raise a TypeError in 1.2. Please convert to a numpy array with np.asarray. For more information see: https://numpy.org/doc/stable/reference/generated/numpy.matrix.html\n",
            "  FutureWarning,\n",
            "/usr/local/lib/python3.7/dist-packages/sklearn/neural_network/_multilayer_perceptron.py:696: ConvergenceWarning: Stochastic Optimizer: Maximum iterations (20) reached and the optimization hasn't converged yet.\n",
            "  ConvergenceWarning,\n"
          ]
        },
        {
          "output_type": "stream",
          "name": "stdout",
          "text": [
            "[Pipeline] ............... (step 7 of 7) Processing CLF, total=  10.0s\n"
          ]
        },
        {
          "output_type": "stream",
          "name": "stderr",
          "text": [
            "/usr/local/lib/python3.7/dist-packages/sklearn/utils/validation.py:598: FutureWarning: np.matrix usage is deprecated in 1.0 and will raise a TypeError in 1.2. Please convert to a numpy array with np.asarray. For more information see: https://numpy.org/doc/stable/reference/generated/numpy.matrix.html\n",
            "  FutureWarning,\n"
          ]
        },
        {
          "output_type": "stream",
          "name": "stdout",
          "text": [
            "[Pipeline] ... (step 1 of 7) Processing TweetNormalizer, total=   0.9s\n",
            "[Pipeline] .. (step 2 of 7) Processing FeatureExtractor, total=   4.1s\n",
            "[Pipeline] .. (step 3 of 7) Processing BigramVectorizer, total=   5.3s\n",
            "[Pipeline]  (step 4 of 7) Processing MatrixToArrayConverter, total=   0.0s\n",
            "[Pipeline] ..... (step 5 of 7) Processing OneHotEncoder, total=   0.4s\n",
            "[Pipeline] ..... (step 6 of 7) Processing MatrixUnifier, total=   0.0s\n"
          ]
        },
        {
          "output_type": "stream",
          "name": "stderr",
          "text": [
            "/usr/local/lib/python3.7/dist-packages/sklearn/utils/validation.py:598: FutureWarning: np.matrix usage is deprecated in 1.0 and will raise a TypeError in 1.2. Please convert to a numpy array with np.asarray. For more information see: https://numpy.org/doc/stable/reference/generated/numpy.matrix.html\n",
            "  FutureWarning,\n",
            "/usr/local/lib/python3.7/dist-packages/sklearn/neural_network/_multilayer_perceptron.py:696: ConvergenceWarning: Stochastic Optimizer: Maximum iterations (20) reached and the optimization hasn't converged yet.\n",
            "  ConvergenceWarning,\n"
          ]
        },
        {
          "output_type": "stream",
          "name": "stdout",
          "text": [
            "[Pipeline] ............... (step 7 of 7) Processing CLF, total=  10.0s\n"
          ]
        },
        {
          "output_type": "stream",
          "name": "stderr",
          "text": [
            "/usr/local/lib/python3.7/dist-packages/sklearn/utils/validation.py:598: FutureWarning: np.matrix usage is deprecated in 1.0 and will raise a TypeError in 1.2. Please convert to a numpy array with np.asarray. For more information see: https://numpy.org/doc/stable/reference/generated/numpy.matrix.html\n",
            "  FutureWarning,\n"
          ]
        },
        {
          "output_type": "stream",
          "name": "stdout",
          "text": [
            "[Pipeline] ... (step 1 of 7) Processing TweetNormalizer, total=   1.1s\n",
            "[Pipeline] .. (step 2 of 7) Processing FeatureExtractor, total=   4.9s\n",
            "[Pipeline] .. (step 3 of 7) Processing BigramVectorizer, total=   6.3s\n",
            "[Pipeline]  (step 4 of 7) Processing MatrixToArrayConverter, total=   0.0s\n",
            "[Pipeline] ..... (step 5 of 7) Processing OneHotEncoder, total=   0.4s\n",
            "[Pipeline] ..... (step 6 of 7) Processing MatrixUnifier, total=   0.0s\n"
          ]
        },
        {
          "output_type": "stream",
          "name": "stderr",
          "text": [
            "/usr/local/lib/python3.7/dist-packages/sklearn/utils/validation.py:598: FutureWarning: np.matrix usage is deprecated in 1.0 and will raise a TypeError in 1.2. Please convert to a numpy array with np.asarray. For more information see: https://numpy.org/doc/stable/reference/generated/numpy.matrix.html\n",
            "  FutureWarning,\n",
            "/usr/local/lib/python3.7/dist-packages/sklearn/neural_network/_multilayer_perceptron.py:696: ConvergenceWarning: Stochastic Optimizer: Maximum iterations (20) reached and the optimization hasn't converged yet.\n",
            "  ConvergenceWarning,\n"
          ]
        },
        {
          "output_type": "stream",
          "name": "stdout",
          "text": [
            "[Pipeline] ............... (step 7 of 7) Processing CLF, total=  10.0s\n"
          ]
        },
        {
          "output_type": "stream",
          "name": "stderr",
          "text": [
            "/usr/local/lib/python3.7/dist-packages/sklearn/utils/validation.py:598: FutureWarning: np.matrix usage is deprecated in 1.0 and will raise a TypeError in 1.2. Please convert to a numpy array with np.asarray. For more information see: https://numpy.org/doc/stable/reference/generated/numpy.matrix.html\n",
            "  FutureWarning,\n"
          ]
        },
        {
          "output_type": "stream",
          "name": "stdout",
          "text": [
            "[Pipeline] ... (step 1 of 7) Processing TweetNormalizer, total=   1.1s\n",
            "[Pipeline] .. (step 2 of 7) Processing FeatureExtractor, total=   4.9s\n",
            "[Pipeline] .. (step 3 of 7) Processing BigramVectorizer, total=   7.6s\n",
            "[Pipeline]  (step 4 of 7) Processing MatrixToArrayConverter, total=   0.0s\n",
            "[Pipeline] ..... (step 5 of 7) Processing OneHotEncoder, total=   0.4s\n",
            "[Pipeline] ..... (step 6 of 7) Processing MatrixUnifier, total=   0.0s\n"
          ]
        },
        {
          "output_type": "stream",
          "name": "stderr",
          "text": [
            "/usr/local/lib/python3.7/dist-packages/sklearn/utils/validation.py:598: FutureWarning: np.matrix usage is deprecated in 1.0 and will raise a TypeError in 1.2. Please convert to a numpy array with np.asarray. For more information see: https://numpy.org/doc/stable/reference/generated/numpy.matrix.html\n",
            "  FutureWarning,\n",
            "/usr/local/lib/python3.7/dist-packages/sklearn/neural_network/_multilayer_perceptron.py:696: ConvergenceWarning: Stochastic Optimizer: Maximum iterations (20) reached and the optimization hasn't converged yet.\n",
            "  ConvergenceWarning,\n"
          ]
        },
        {
          "output_type": "stream",
          "name": "stdout",
          "text": [
            "[Pipeline] ............... (step 7 of 7) Processing CLF, total=  10.1s\n"
          ]
        },
        {
          "output_type": "stream",
          "name": "stderr",
          "text": [
            "/usr/local/lib/python3.7/dist-packages/sklearn/utils/validation.py:598: FutureWarning: np.matrix usage is deprecated in 1.0 and will raise a TypeError in 1.2. Please convert to a numpy array with np.asarray. For more information see: https://numpy.org/doc/stable/reference/generated/numpy.matrix.html\n",
            "  FutureWarning,\n"
          ]
        },
        {
          "output_type": "stream",
          "name": "stdout",
          "text": [
            "[Pipeline] ... (step 1 of 7) Processing TweetNormalizer, total=   1.1s\n",
            "[Pipeline] .. (step 2 of 7) Processing FeatureExtractor, total=   4.9s\n",
            "[Pipeline] .. (step 3 of 7) Processing BigramVectorizer, total=   6.3s\n",
            "[Pipeline]  (step 4 of 7) Processing MatrixToArrayConverter, total=   0.0s\n",
            "[Pipeline] ..... (step 5 of 7) Processing OneHotEncoder, total=   0.4s\n",
            "[Pipeline] ..... (step 6 of 7) Processing MatrixUnifier, total=   0.0s\n"
          ]
        },
        {
          "output_type": "stream",
          "name": "stderr",
          "text": [
            "/usr/local/lib/python3.7/dist-packages/sklearn/utils/validation.py:598: FutureWarning: np.matrix usage is deprecated in 1.0 and will raise a TypeError in 1.2. Please convert to a numpy array with np.asarray. For more information see: https://numpy.org/doc/stable/reference/generated/numpy.matrix.html\n",
            "  FutureWarning,\n",
            "/usr/local/lib/python3.7/dist-packages/sklearn/neural_network/_multilayer_perceptron.py:696: ConvergenceWarning: Stochastic Optimizer: Maximum iterations (20) reached and the optimization hasn't converged yet.\n",
            "  ConvergenceWarning,\n"
          ]
        },
        {
          "output_type": "stream",
          "name": "stdout",
          "text": [
            "[Pipeline] ............... (step 7 of 7) Processing CLF, total=  12.4s\n"
          ]
        },
        {
          "output_type": "stream",
          "name": "stderr",
          "text": [
            "/usr/local/lib/python3.7/dist-packages/sklearn/utils/validation.py:598: FutureWarning: np.matrix usage is deprecated in 1.0 and will raise a TypeError in 1.2. Please convert to a numpy array with np.asarray. For more information see: https://numpy.org/doc/stable/reference/generated/numpy.matrix.html\n",
            "  FutureWarning,\n"
          ]
        },
        {
          "output_type": "stream",
          "name": "stdout",
          "text": [
            "[Pipeline] ... (step 1 of 7) Processing TweetNormalizer, total=   1.1s\n",
            "[Pipeline] .. (step 2 of 7) Processing FeatureExtractor, total=   4.9s\n",
            "[Pipeline] .. (step 3 of 7) Processing BigramVectorizer, total=   6.2s\n",
            "[Pipeline]  (step 4 of 7) Processing MatrixToArrayConverter, total=   0.0s\n",
            "[Pipeline] ..... (step 5 of 7) Processing OneHotEncoder, total=   0.4s\n",
            "[Pipeline] ..... (step 6 of 7) Processing MatrixUnifier, total=   0.0s\n"
          ]
        },
        {
          "output_type": "stream",
          "name": "stderr",
          "text": [
            "/usr/local/lib/python3.7/dist-packages/sklearn/utils/validation.py:598: FutureWarning: np.matrix usage is deprecated in 1.0 and will raise a TypeError in 1.2. Please convert to a numpy array with np.asarray. For more information see: https://numpy.org/doc/stable/reference/generated/numpy.matrix.html\n",
            "  FutureWarning,\n",
            "/usr/local/lib/python3.7/dist-packages/sklearn/neural_network/_multilayer_perceptron.py:696: ConvergenceWarning: Stochastic Optimizer: Maximum iterations (20) reached and the optimization hasn't converged yet.\n",
            "  ConvergenceWarning,\n"
          ]
        },
        {
          "output_type": "stream",
          "name": "stdout",
          "text": [
            "[Pipeline] ............... (step 7 of 7) Processing CLF, total=  12.4s\n"
          ]
        },
        {
          "output_type": "stream",
          "name": "stderr",
          "text": [
            "/usr/local/lib/python3.7/dist-packages/sklearn/utils/validation.py:598: FutureWarning: np.matrix usage is deprecated in 1.0 and will raise a TypeError in 1.2. Please convert to a numpy array with np.asarray. For more information see: https://numpy.org/doc/stable/reference/generated/numpy.matrix.html\n",
            "  FutureWarning,\n"
          ]
        },
        {
          "output_type": "stream",
          "name": "stdout",
          "text": [
            "[Pipeline] ... (step 1 of 7) Processing TweetNormalizer, total=   1.1s\n",
            "[Pipeline] .. (step 2 of 7) Processing FeatureExtractor, total=   4.9s\n",
            "[Pipeline] .. (step 3 of 7) Processing BigramVectorizer, total=   7.7s\n",
            "[Pipeline]  (step 4 of 7) Processing MatrixToArrayConverter, total=   0.0s\n",
            "[Pipeline] ..... (step 5 of 7) Processing OneHotEncoder, total=   0.4s\n",
            "[Pipeline] ..... (step 6 of 7) Processing MatrixUnifier, total=   0.0s\n"
          ]
        },
        {
          "output_type": "stream",
          "name": "stderr",
          "text": [
            "/usr/local/lib/python3.7/dist-packages/sklearn/utils/validation.py:598: FutureWarning: np.matrix usage is deprecated in 1.0 and will raise a TypeError in 1.2. Please convert to a numpy array with np.asarray. For more information see: https://numpy.org/doc/stable/reference/generated/numpy.matrix.html\n",
            "  FutureWarning,\n",
            "/usr/local/lib/python3.7/dist-packages/sklearn/neural_network/_multilayer_perceptron.py:696: ConvergenceWarning: Stochastic Optimizer: Maximum iterations (20) reached and the optimization hasn't converged yet.\n",
            "  ConvergenceWarning,\n"
          ]
        },
        {
          "output_type": "stream",
          "name": "stdout",
          "text": [
            "[Pipeline] ............... (step 7 of 7) Processing CLF, total=  12.2s\n"
          ]
        },
        {
          "output_type": "stream",
          "name": "stderr",
          "text": [
            "/usr/local/lib/python3.7/dist-packages/sklearn/utils/validation.py:598: FutureWarning: np.matrix usage is deprecated in 1.0 and will raise a TypeError in 1.2. Please convert to a numpy array with np.asarray. For more information see: https://numpy.org/doc/stable/reference/generated/numpy.matrix.html\n",
            "  FutureWarning,\n"
          ]
        },
        {
          "output_type": "stream",
          "name": "stdout",
          "text": [
            "[Pipeline] ... (step 1 of 7) Processing TweetNormalizer, total=   1.1s\n",
            "[Pipeline] .. (step 2 of 7) Processing FeatureExtractor, total=   5.0s\n",
            "[Pipeline] .. (step 3 of 7) Processing BigramVectorizer, total=   6.2s\n",
            "[Pipeline]  (step 4 of 7) Processing MatrixToArrayConverter, total=   0.0s\n",
            "[Pipeline] ..... (step 5 of 7) Processing OneHotEncoder, total=   0.4s\n",
            "[Pipeline] ..... (step 6 of 7) Processing MatrixUnifier, total=   0.0s\n"
          ]
        },
        {
          "output_type": "stream",
          "name": "stderr",
          "text": [
            "/usr/local/lib/python3.7/dist-packages/sklearn/utils/validation.py:598: FutureWarning: np.matrix usage is deprecated in 1.0 and will raise a TypeError in 1.2. Please convert to a numpy array with np.asarray. For more information see: https://numpy.org/doc/stable/reference/generated/numpy.matrix.html\n",
            "  FutureWarning,\n",
            "/usr/local/lib/python3.7/dist-packages/sklearn/neural_network/_multilayer_perceptron.py:696: ConvergenceWarning: Stochastic Optimizer: Maximum iterations (20) reached and the optimization hasn't converged yet.\n",
            "  ConvergenceWarning,\n"
          ]
        },
        {
          "output_type": "stream",
          "name": "stdout",
          "text": [
            "[Pipeline] ............... (step 7 of 7) Processing CLF, total=  12.5s\n"
          ]
        },
        {
          "output_type": "stream",
          "name": "stderr",
          "text": [
            "/usr/local/lib/python3.7/dist-packages/sklearn/utils/validation.py:598: FutureWarning: np.matrix usage is deprecated in 1.0 and will raise a TypeError in 1.2. Please convert to a numpy array with np.asarray. For more information see: https://numpy.org/doc/stable/reference/generated/numpy.matrix.html\n",
            "  FutureWarning,\n"
          ]
        },
        {
          "output_type": "stream",
          "name": "stdout",
          "text": [
            "[Pipeline] ... (step 1 of 7) Processing TweetNormalizer, total=   1.1s\n",
            "[Pipeline] .. (step 2 of 7) Processing FeatureExtractor, total=   4.9s\n",
            "[Pipeline] .. (step 3 of 7) Processing BigramVectorizer, total=   6.2s\n",
            "[Pipeline]  (step 4 of 7) Processing MatrixToArrayConverter, total=   0.0s\n",
            "[Pipeline] ..... (step 5 of 7) Processing OneHotEncoder, total=   0.4s\n",
            "[Pipeline] ..... (step 6 of 7) Processing MatrixUnifier, total=   0.0s\n"
          ]
        },
        {
          "output_type": "stream",
          "name": "stderr",
          "text": [
            "/usr/local/lib/python3.7/dist-packages/sklearn/utils/validation.py:598: FutureWarning: np.matrix usage is deprecated in 1.0 and will raise a TypeError in 1.2. Please convert to a numpy array with np.asarray. For more information see: https://numpy.org/doc/stable/reference/generated/numpy.matrix.html\n",
            "  FutureWarning,\n",
            "/usr/local/lib/python3.7/dist-packages/sklearn/neural_network/_multilayer_perceptron.py:696: ConvergenceWarning: Stochastic Optimizer: Maximum iterations (20) reached and the optimization hasn't converged yet.\n",
            "  ConvergenceWarning,\n"
          ]
        },
        {
          "output_type": "stream",
          "name": "stdout",
          "text": [
            "[Pipeline] ............... (step 7 of 7) Processing CLF, total=  12.4s\n"
          ]
        },
        {
          "output_type": "stream",
          "name": "stderr",
          "text": [
            "/usr/local/lib/python3.7/dist-packages/sklearn/utils/validation.py:598: FutureWarning: np.matrix usage is deprecated in 1.0 and will raise a TypeError in 1.2. Please convert to a numpy array with np.asarray. For more information see: https://numpy.org/doc/stable/reference/generated/numpy.matrix.html\n",
            "  FutureWarning,\n"
          ]
        },
        {
          "output_type": "stream",
          "name": "stdout",
          "text": [
            "[Pipeline] ... (step 1 of 7) Processing TweetNormalizer, total=   1.1s\n",
            "[Pipeline] .. (step 2 of 7) Processing FeatureExtractor, total=   4.9s\n",
            "[Pipeline] .. (step 3 of 7) Processing BigramVectorizer, total=   6.1s\n",
            "[Pipeline]  (step 4 of 7) Processing MatrixToArrayConverter, total=   0.0s\n",
            "[Pipeline] ..... (step 5 of 7) Processing OneHotEncoder, total=   0.4s\n",
            "[Pipeline] ..... (step 6 of 7) Processing MatrixUnifier, total=   0.0s\n"
          ]
        },
        {
          "output_type": "stream",
          "name": "stderr",
          "text": [
            "/usr/local/lib/python3.7/dist-packages/sklearn/utils/validation.py:598: FutureWarning: np.matrix usage is deprecated in 1.0 and will raise a TypeError in 1.2. Please convert to a numpy array with np.asarray. For more information see: https://numpy.org/doc/stable/reference/generated/numpy.matrix.html\n",
            "  FutureWarning,\n",
            "/usr/local/lib/python3.7/dist-packages/sklearn/neural_network/_multilayer_perceptron.py:696: ConvergenceWarning: Stochastic Optimizer: Maximum iterations (20) reached and the optimization hasn't converged yet.\n",
            "  ConvergenceWarning,\n"
          ]
        },
        {
          "output_type": "stream",
          "name": "stdout",
          "text": [
            "[Pipeline] ............... (step 7 of 7) Processing CLF, total=  12.5s\n"
          ]
        },
        {
          "output_type": "stream",
          "name": "stderr",
          "text": [
            "/usr/local/lib/python3.7/dist-packages/sklearn/utils/validation.py:598: FutureWarning: np.matrix usage is deprecated in 1.0 and will raise a TypeError in 1.2. Please convert to a numpy array with np.asarray. For more information see: https://numpy.org/doc/stable/reference/generated/numpy.matrix.html\n",
            "  FutureWarning,\n"
          ]
        },
        {
          "output_type": "stream",
          "name": "stdout",
          "text": [
            "[Pipeline] ... (step 1 of 7) Processing TweetNormalizer, total=   1.1s\n",
            "[Pipeline] .. (step 2 of 7) Processing FeatureExtractor, total=   4.9s\n",
            "[Pipeline] .. (step 3 of 7) Processing BigramVectorizer, total=   6.2s\n",
            "[Pipeline]  (step 4 of 7) Processing MatrixToArrayConverter, total=   0.0s\n",
            "[Pipeline] ..... (step 5 of 7) Processing OneHotEncoder, total=   0.4s\n",
            "[Pipeline] ..... (step 6 of 7) Processing MatrixUnifier, total=   0.0s\n"
          ]
        },
        {
          "output_type": "stream",
          "name": "stderr",
          "text": [
            "/usr/local/lib/python3.7/dist-packages/sklearn/utils/validation.py:598: FutureWarning: np.matrix usage is deprecated in 1.0 and will raise a TypeError in 1.2. Please convert to a numpy array with np.asarray. For more information see: https://numpy.org/doc/stable/reference/generated/numpy.matrix.html\n",
            "  FutureWarning,\n",
            "/usr/local/lib/python3.7/dist-packages/sklearn/neural_network/_multilayer_perceptron.py:696: ConvergenceWarning: Stochastic Optimizer: Maximum iterations (20) reached and the optimization hasn't converged yet.\n",
            "  ConvergenceWarning,\n"
          ]
        },
        {
          "output_type": "stream",
          "name": "stdout",
          "text": [
            "[Pipeline] ............... (step 7 of 7) Processing CLF, total=  12.7s\n"
          ]
        },
        {
          "output_type": "stream",
          "name": "stderr",
          "text": [
            "/usr/local/lib/python3.7/dist-packages/sklearn/utils/validation.py:598: FutureWarning: np.matrix usage is deprecated in 1.0 and will raise a TypeError in 1.2. Please convert to a numpy array with np.asarray. For more information see: https://numpy.org/doc/stable/reference/generated/numpy.matrix.html\n",
            "  FutureWarning,\n"
          ]
        },
        {
          "output_type": "stream",
          "name": "stdout",
          "text": [
            "[Pipeline] ... (step 1 of 7) Processing TweetNormalizer, total=   0.8s\n",
            "[Pipeline] .. (step 2 of 7) Processing FeatureExtractor, total=   4.1s\n",
            "[Pipeline] .. (step 3 of 7) Processing BigramVectorizer, total=   5.2s\n",
            "[Pipeline]  (step 4 of 7) Processing MatrixToArrayConverter, total=   0.0s\n",
            "[Pipeline] ..... (step 5 of 7) Processing OneHotEncoder, total=   0.4s\n",
            "[Pipeline] ..... (step 6 of 7) Processing MatrixUnifier, total=   0.0s\n"
          ]
        },
        {
          "output_type": "stream",
          "name": "stderr",
          "text": [
            "/usr/local/lib/python3.7/dist-packages/sklearn/utils/validation.py:598: FutureWarning: np.matrix usage is deprecated in 1.0 and will raise a TypeError in 1.2. Please convert to a numpy array with np.asarray. For more information see: https://numpy.org/doc/stable/reference/generated/numpy.matrix.html\n",
            "  FutureWarning,\n",
            "/usr/local/lib/python3.7/dist-packages/sklearn/neural_network/_multilayer_perceptron.py:696: ConvergenceWarning: Stochastic Optimizer: Maximum iterations (20) reached and the optimization hasn't converged yet.\n",
            "  ConvergenceWarning,\n"
          ]
        },
        {
          "output_type": "stream",
          "name": "stdout",
          "text": [
            "[Pipeline] ............... (step 7 of 7) Processing CLF, total=  15.0s\n"
          ]
        },
        {
          "output_type": "stream",
          "name": "stderr",
          "text": [
            "/usr/local/lib/python3.7/dist-packages/sklearn/utils/validation.py:598: FutureWarning: np.matrix usage is deprecated in 1.0 and will raise a TypeError in 1.2. Please convert to a numpy array with np.asarray. For more information see: https://numpy.org/doc/stable/reference/generated/numpy.matrix.html\n",
            "  FutureWarning,\n"
          ]
        },
        {
          "output_type": "stream",
          "name": "stdout",
          "text": [
            "[Pipeline] ... (step 1 of 7) Processing TweetNormalizer, total=   1.1s\n",
            "[Pipeline] .. (step 2 of 7) Processing FeatureExtractor, total=   5.0s\n",
            "[Pipeline] .. (step 3 of 7) Processing BigramVectorizer, total=   6.3s\n",
            "[Pipeline]  (step 4 of 7) Processing MatrixToArrayConverter, total=   0.0s\n",
            "[Pipeline] ..... (step 5 of 7) Processing OneHotEncoder, total=   0.4s\n",
            "[Pipeline] ..... (step 6 of 7) Processing MatrixUnifier, total=   0.0s\n"
          ]
        },
        {
          "output_type": "stream",
          "name": "stderr",
          "text": [
            "/usr/local/lib/python3.7/dist-packages/sklearn/utils/validation.py:598: FutureWarning: np.matrix usage is deprecated in 1.0 and will raise a TypeError in 1.2. Please convert to a numpy array with np.asarray. For more information see: https://numpy.org/doc/stable/reference/generated/numpy.matrix.html\n",
            "  FutureWarning,\n",
            "/usr/local/lib/python3.7/dist-packages/sklearn/neural_network/_multilayer_perceptron.py:696: ConvergenceWarning: Stochastic Optimizer: Maximum iterations (20) reached and the optimization hasn't converged yet.\n",
            "  ConvergenceWarning,\n"
          ]
        },
        {
          "output_type": "stream",
          "name": "stdout",
          "text": [
            "[Pipeline] ............... (step 7 of 7) Processing CLF, total=  12.6s\n"
          ]
        },
        {
          "output_type": "stream",
          "name": "stderr",
          "text": [
            "/usr/local/lib/python3.7/dist-packages/sklearn/utils/validation.py:598: FutureWarning: np.matrix usage is deprecated in 1.0 and will raise a TypeError in 1.2. Please convert to a numpy array with np.asarray. For more information see: https://numpy.org/doc/stable/reference/generated/numpy.matrix.html\n",
            "  FutureWarning,\n"
          ]
        },
        {
          "output_type": "stream",
          "name": "stdout",
          "text": [
            "[Pipeline] ... (step 1 of 7) Processing TweetNormalizer, total=   1.1s\n",
            "[Pipeline] .. (step 2 of 7) Processing FeatureExtractor, total=   4.9s\n",
            "[Pipeline] .. (step 3 of 7) Processing BigramVectorizer, total=   6.1s\n",
            "[Pipeline]  (step 4 of 7) Processing MatrixToArrayConverter, total=   0.0s\n",
            "[Pipeline] ..... (step 5 of 7) Processing OneHotEncoder, total=   0.4s\n",
            "[Pipeline] ..... (step 6 of 7) Processing MatrixUnifier, total=   0.0s\n"
          ]
        },
        {
          "output_type": "stream",
          "name": "stderr",
          "text": [
            "/usr/local/lib/python3.7/dist-packages/sklearn/utils/validation.py:598: FutureWarning: np.matrix usage is deprecated in 1.0 and will raise a TypeError in 1.2. Please convert to a numpy array with np.asarray. For more information see: https://numpy.org/doc/stable/reference/generated/numpy.matrix.html\n",
            "  FutureWarning,\n",
            "/usr/local/lib/python3.7/dist-packages/sklearn/neural_network/_multilayer_perceptron.py:696: ConvergenceWarning: Stochastic Optimizer: Maximum iterations (20) reached and the optimization hasn't converged yet.\n",
            "  ConvergenceWarning,\n"
          ]
        },
        {
          "output_type": "stream",
          "name": "stdout",
          "text": [
            "[Pipeline] ............... (step 7 of 7) Processing CLF, total=  12.5s\n"
          ]
        },
        {
          "output_type": "stream",
          "name": "stderr",
          "text": [
            "/usr/local/lib/python3.7/dist-packages/sklearn/utils/validation.py:598: FutureWarning: np.matrix usage is deprecated in 1.0 and will raise a TypeError in 1.2. Please convert to a numpy array with np.asarray. For more information see: https://numpy.org/doc/stable/reference/generated/numpy.matrix.html\n",
            "  FutureWarning,\n"
          ]
        },
        {
          "output_type": "stream",
          "name": "stdout",
          "text": [
            "[Pipeline] ... (step 1 of 7) Processing TweetNormalizer, total=   1.1s\n",
            "[Pipeline] .. (step 2 of 7) Processing FeatureExtractor, total=   5.0s\n",
            "[Pipeline] .. (step 3 of 7) Processing BigramVectorizer, total=   6.3s\n",
            "[Pipeline]  (step 4 of 7) Processing MatrixToArrayConverter, total=   0.0s\n",
            "[Pipeline] ..... (step 5 of 7) Processing OneHotEncoder, total=   0.4s\n",
            "[Pipeline] ..... (step 6 of 7) Processing MatrixUnifier, total=   0.0s\n"
          ]
        },
        {
          "output_type": "stream",
          "name": "stderr",
          "text": [
            "/usr/local/lib/python3.7/dist-packages/sklearn/utils/validation.py:598: FutureWarning: np.matrix usage is deprecated in 1.0 and will raise a TypeError in 1.2. Please convert to a numpy array with np.asarray. For more information see: https://numpy.org/doc/stable/reference/generated/numpy.matrix.html\n",
            "  FutureWarning,\n",
            "/usr/local/lib/python3.7/dist-packages/sklearn/neural_network/_multilayer_perceptron.py:696: ConvergenceWarning: Stochastic Optimizer: Maximum iterations (20) reached and the optimization hasn't converged yet.\n",
            "  ConvergenceWarning,\n"
          ]
        },
        {
          "output_type": "stream",
          "name": "stdout",
          "text": [
            "[Pipeline] ............... (step 7 of 7) Processing CLF, total=  15.2s\n"
          ]
        },
        {
          "output_type": "stream",
          "name": "stderr",
          "text": [
            "/usr/local/lib/python3.7/dist-packages/sklearn/utils/validation.py:598: FutureWarning: np.matrix usage is deprecated in 1.0 and will raise a TypeError in 1.2. Please convert to a numpy array with np.asarray. For more information see: https://numpy.org/doc/stable/reference/generated/numpy.matrix.html\n",
            "  FutureWarning,\n"
          ]
        },
        {
          "output_type": "stream",
          "name": "stdout",
          "text": [
            "[Pipeline] ... (step 1 of 7) Processing TweetNormalizer, total=   1.1s\n",
            "[Pipeline] .. (step 2 of 7) Processing FeatureExtractor, total=   5.0s\n",
            "[Pipeline] .. (step 3 of 7) Processing BigramVectorizer, total=   6.2s\n",
            "[Pipeline]  (step 4 of 7) Processing MatrixToArrayConverter, total=   0.0s\n",
            "[Pipeline] ..... (step 5 of 7) Processing OneHotEncoder, total=   0.4s\n",
            "[Pipeline] ..... (step 6 of 7) Processing MatrixUnifier, total=   0.0s\n"
          ]
        },
        {
          "output_type": "stream",
          "name": "stderr",
          "text": [
            "/usr/local/lib/python3.7/dist-packages/sklearn/utils/validation.py:598: FutureWarning: np.matrix usage is deprecated in 1.0 and will raise a TypeError in 1.2. Please convert to a numpy array with np.asarray. For more information see: https://numpy.org/doc/stable/reference/generated/numpy.matrix.html\n",
            "  FutureWarning,\n",
            "/usr/local/lib/python3.7/dist-packages/sklearn/neural_network/_multilayer_perceptron.py:696: ConvergenceWarning: Stochastic Optimizer: Maximum iterations (20) reached and the optimization hasn't converged yet.\n",
            "  ConvergenceWarning,\n"
          ]
        },
        {
          "output_type": "stream",
          "name": "stdout",
          "text": [
            "[Pipeline] ............... (step 7 of 7) Processing CLF, total=  13.0s\n"
          ]
        },
        {
          "output_type": "stream",
          "name": "stderr",
          "text": [
            "/usr/local/lib/python3.7/dist-packages/sklearn/utils/validation.py:598: FutureWarning: np.matrix usage is deprecated in 1.0 and will raise a TypeError in 1.2. Please convert to a numpy array with np.asarray. For more information see: https://numpy.org/doc/stable/reference/generated/numpy.matrix.html\n",
            "  FutureWarning,\n"
          ]
        },
        {
          "output_type": "stream",
          "name": "stdout",
          "text": [
            "[Pipeline] ... (step 1 of 7) Processing TweetNormalizer, total=   1.1s\n",
            "[Pipeline] .. (step 2 of 7) Processing FeatureExtractor, total=   5.0s\n",
            "[Pipeline] .. (step 3 of 7) Processing BigramVectorizer, total=   6.2s\n",
            "[Pipeline]  (step 4 of 7) Processing MatrixToArrayConverter, total=   0.0s\n",
            "[Pipeline] ..... (step 5 of 7) Processing OneHotEncoder, total=   0.4s\n",
            "[Pipeline] ..... (step 6 of 7) Processing MatrixUnifier, total=   0.0s\n"
          ]
        },
        {
          "output_type": "stream",
          "name": "stderr",
          "text": [
            "/usr/local/lib/python3.7/dist-packages/sklearn/utils/validation.py:598: FutureWarning: np.matrix usage is deprecated in 1.0 and will raise a TypeError in 1.2. Please convert to a numpy array with np.asarray. For more information see: https://numpy.org/doc/stable/reference/generated/numpy.matrix.html\n",
            "  FutureWarning,\n",
            "/usr/local/lib/python3.7/dist-packages/sklearn/neural_network/_multilayer_perceptron.py:696: ConvergenceWarning: Stochastic Optimizer: Maximum iterations (20) reached and the optimization hasn't converged yet.\n",
            "  ConvergenceWarning,\n"
          ]
        },
        {
          "output_type": "stream",
          "name": "stdout",
          "text": [
            "[Pipeline] ............... (step 7 of 7) Processing CLF, total=  13.2s\n"
          ]
        },
        {
          "output_type": "stream",
          "name": "stderr",
          "text": [
            "/usr/local/lib/python3.7/dist-packages/sklearn/utils/validation.py:598: FutureWarning: np.matrix usage is deprecated in 1.0 and will raise a TypeError in 1.2. Please convert to a numpy array with np.asarray. For more information see: https://numpy.org/doc/stable/reference/generated/numpy.matrix.html\n",
            "  FutureWarning,\n"
          ]
        },
        {
          "output_type": "stream",
          "name": "stdout",
          "text": [
            "[Pipeline] ... (step 1 of 7) Processing TweetNormalizer, total=   1.1s\n",
            "[Pipeline] .. (step 2 of 7) Processing FeatureExtractor, total=   5.0s\n",
            "[Pipeline] .. (step 3 of 7) Processing BigramVectorizer, total=   6.2s\n",
            "[Pipeline]  (step 4 of 7) Processing MatrixToArrayConverter, total=   0.0s\n",
            "[Pipeline] ..... (step 5 of 7) Processing OneHotEncoder, total=   0.4s\n",
            "[Pipeline] ..... (step 6 of 7) Processing MatrixUnifier, total=   0.0s\n"
          ]
        },
        {
          "output_type": "stream",
          "name": "stderr",
          "text": [
            "/usr/local/lib/python3.7/dist-packages/sklearn/utils/validation.py:598: FutureWarning: np.matrix usage is deprecated in 1.0 and will raise a TypeError in 1.2. Please convert to a numpy array with np.asarray. For more information see: https://numpy.org/doc/stable/reference/generated/numpy.matrix.html\n",
            "  FutureWarning,\n",
            "/usr/local/lib/python3.7/dist-packages/sklearn/neural_network/_multilayer_perceptron.py:696: ConvergenceWarning: Stochastic Optimizer: Maximum iterations (20) reached and the optimization hasn't converged yet.\n",
            "  ConvergenceWarning,\n"
          ]
        },
        {
          "output_type": "stream",
          "name": "stdout",
          "text": [
            "[Pipeline] ............... (step 7 of 7) Processing CLF, total=  13.1s\n"
          ]
        },
        {
          "output_type": "stream",
          "name": "stderr",
          "text": [
            "/usr/local/lib/python3.7/dist-packages/sklearn/utils/validation.py:598: FutureWarning: np.matrix usage is deprecated in 1.0 and will raise a TypeError in 1.2. Please convert to a numpy array with np.asarray. For more information see: https://numpy.org/doc/stable/reference/generated/numpy.matrix.html\n",
            "  FutureWarning,\n"
          ]
        },
        {
          "output_type": "stream",
          "name": "stdout",
          "text": [
            "[Pipeline] ... (step 1 of 7) Processing TweetNormalizer, total=   1.1s\n",
            "[Pipeline] .. (step 2 of 7) Processing FeatureExtractor, total=   4.9s\n",
            "[Pipeline] .. (step 3 of 7) Processing BigramVectorizer, total=   6.3s\n",
            "[Pipeline]  (step 4 of 7) Processing MatrixToArrayConverter, total=   0.0s\n",
            "[Pipeline] ..... (step 5 of 7) Processing OneHotEncoder, total=   0.4s\n",
            "[Pipeline] ..... (step 6 of 7) Processing MatrixUnifier, total=   0.0s\n"
          ]
        },
        {
          "output_type": "stream",
          "name": "stderr",
          "text": [
            "/usr/local/lib/python3.7/dist-packages/sklearn/utils/validation.py:598: FutureWarning: np.matrix usage is deprecated in 1.0 and will raise a TypeError in 1.2. Please convert to a numpy array with np.asarray. For more information see: https://numpy.org/doc/stable/reference/generated/numpy.matrix.html\n",
            "  FutureWarning,\n",
            "/usr/local/lib/python3.7/dist-packages/sklearn/neural_network/_multilayer_perceptron.py:696: ConvergenceWarning: Stochastic Optimizer: Maximum iterations (20) reached and the optimization hasn't converged yet.\n",
            "  ConvergenceWarning,\n"
          ]
        },
        {
          "output_type": "stream",
          "name": "stdout",
          "text": [
            "[Pipeline] ............... (step 7 of 7) Processing CLF, total=  13.1s\n"
          ]
        },
        {
          "output_type": "stream",
          "name": "stderr",
          "text": [
            "/usr/local/lib/python3.7/dist-packages/sklearn/utils/validation.py:598: FutureWarning: np.matrix usage is deprecated in 1.0 and will raise a TypeError in 1.2. Please convert to a numpy array with np.asarray. For more information see: https://numpy.org/doc/stable/reference/generated/numpy.matrix.html\n",
            "  FutureWarning,\n"
          ]
        },
        {
          "output_type": "stream",
          "name": "stdout",
          "text": [
            "[Pipeline] ... (step 1 of 7) Processing TweetNormalizer, total=   1.1s\n",
            "[Pipeline] .. (step 2 of 7) Processing FeatureExtractor, total=   5.0s\n",
            "[Pipeline] .. (step 3 of 7) Processing BigramVectorizer, total=   7.7s\n",
            "[Pipeline]  (step 4 of 7) Processing MatrixToArrayConverter, total=   0.0s\n",
            "[Pipeline] ..... (step 5 of 7) Processing OneHotEncoder, total=   0.4s\n",
            "[Pipeline] ..... (step 6 of 7) Processing MatrixUnifier, total=   0.0s\n"
          ]
        },
        {
          "output_type": "stream",
          "name": "stderr",
          "text": [
            "/usr/local/lib/python3.7/dist-packages/sklearn/utils/validation.py:598: FutureWarning: np.matrix usage is deprecated in 1.0 and will raise a TypeError in 1.2. Please convert to a numpy array with np.asarray. For more information see: https://numpy.org/doc/stable/reference/generated/numpy.matrix.html\n",
            "  FutureWarning,\n",
            "/usr/local/lib/python3.7/dist-packages/sklearn/neural_network/_multilayer_perceptron.py:696: ConvergenceWarning: Stochastic Optimizer: Maximum iterations (20) reached and the optimization hasn't converged yet.\n",
            "  ConvergenceWarning,\n"
          ]
        },
        {
          "output_type": "stream",
          "name": "stdout",
          "text": [
            "[Pipeline] ............... (step 7 of 7) Processing CLF, total=  13.3s\n"
          ]
        },
        {
          "output_type": "stream",
          "name": "stderr",
          "text": [
            "/usr/local/lib/python3.7/dist-packages/sklearn/utils/validation.py:598: FutureWarning: np.matrix usage is deprecated in 1.0 and will raise a TypeError in 1.2. Please convert to a numpy array with np.asarray. For more information see: https://numpy.org/doc/stable/reference/generated/numpy.matrix.html\n",
            "  FutureWarning,\n"
          ]
        },
        {
          "output_type": "stream",
          "name": "stdout",
          "text": [
            "[Pipeline] ... (step 1 of 7) Processing TweetNormalizer, total=   1.1s\n",
            "[Pipeline] .. (step 2 of 7) Processing FeatureExtractor, total=   5.0s\n",
            "[Pipeline] .. (step 3 of 7) Processing BigramVectorizer, total=   6.3s\n",
            "[Pipeline]  (step 4 of 7) Processing MatrixToArrayConverter, total=   0.0s\n",
            "[Pipeline] ..... (step 5 of 7) Processing OneHotEncoder, total=   0.4s\n",
            "[Pipeline] ..... (step 6 of 7) Processing MatrixUnifier, total=   0.0s\n"
          ]
        },
        {
          "output_type": "stream",
          "name": "stderr",
          "text": [
            "/usr/local/lib/python3.7/dist-packages/sklearn/utils/validation.py:598: FutureWarning: np.matrix usage is deprecated in 1.0 and will raise a TypeError in 1.2. Please convert to a numpy array with np.asarray. For more information see: https://numpy.org/doc/stable/reference/generated/numpy.matrix.html\n",
            "  FutureWarning,\n",
            "/usr/local/lib/python3.7/dist-packages/sklearn/neural_network/_multilayer_perceptron.py:696: ConvergenceWarning: Stochastic Optimizer: Maximum iterations (20) reached and the optimization hasn't converged yet.\n",
            "  ConvergenceWarning,\n"
          ]
        },
        {
          "output_type": "stream",
          "name": "stdout",
          "text": [
            "[Pipeline] ............... (step 7 of 7) Processing CLF, total=  13.2s\n"
          ]
        },
        {
          "output_type": "stream",
          "name": "stderr",
          "text": [
            "/usr/local/lib/python3.7/dist-packages/sklearn/utils/validation.py:598: FutureWarning: np.matrix usage is deprecated in 1.0 and will raise a TypeError in 1.2. Please convert to a numpy array with np.asarray. For more information see: https://numpy.org/doc/stable/reference/generated/numpy.matrix.html\n",
            "  FutureWarning,\n"
          ]
        },
        {
          "output_type": "stream",
          "name": "stdout",
          "text": [
            "[Pipeline] ... (step 1 of 7) Processing TweetNormalizer, total=   0.9s\n",
            "[Pipeline] .. (step 2 of 7) Processing FeatureExtractor, total=   4.1s\n",
            "[Pipeline] .. (step 3 of 7) Processing BigramVectorizer, total=   5.3s\n",
            "[Pipeline]  (step 4 of 7) Processing MatrixToArrayConverter, total=   0.0s\n",
            "[Pipeline] ..... (step 5 of 7) Processing OneHotEncoder, total=   0.4s\n",
            "[Pipeline] ..... (step 6 of 7) Processing MatrixUnifier, total=   0.0s\n"
          ]
        },
        {
          "output_type": "stream",
          "name": "stderr",
          "text": [
            "/usr/local/lib/python3.7/dist-packages/sklearn/utils/validation.py:598: FutureWarning: np.matrix usage is deprecated in 1.0 and will raise a TypeError in 1.2. Please convert to a numpy array with np.asarray. For more information see: https://numpy.org/doc/stable/reference/generated/numpy.matrix.html\n",
            "  FutureWarning,\n",
            "/usr/local/lib/python3.7/dist-packages/sklearn/neural_network/_multilayer_perceptron.py:696: ConvergenceWarning: Stochastic Optimizer: Maximum iterations (20) reached and the optimization hasn't converged yet.\n",
            "  ConvergenceWarning,\n"
          ]
        },
        {
          "output_type": "stream",
          "name": "stdout",
          "text": [
            "[Pipeline] ............... (step 7 of 7) Processing CLF, total=  13.0s\n"
          ]
        },
        {
          "output_type": "stream",
          "name": "stderr",
          "text": [
            "/usr/local/lib/python3.7/dist-packages/sklearn/utils/validation.py:598: FutureWarning: np.matrix usage is deprecated in 1.0 and will raise a TypeError in 1.2. Please convert to a numpy array with np.asarray. For more information see: https://numpy.org/doc/stable/reference/generated/numpy.matrix.html\n",
            "  FutureWarning,\n"
          ]
        },
        {
          "output_type": "stream",
          "name": "stdout",
          "text": [
            "[Pipeline] ... (step 1 of 7) Processing TweetNormalizer, total=   1.1s\n",
            "[Pipeline] .. (step 2 of 7) Processing FeatureExtractor, total=   4.9s\n",
            "[Pipeline] .. (step 3 of 7) Processing BigramVectorizer, total=   6.2s\n",
            "[Pipeline]  (step 4 of 7) Processing MatrixToArrayConverter, total=   0.0s\n",
            "[Pipeline] ..... (step 5 of 7) Processing OneHotEncoder, total=   0.4s\n",
            "[Pipeline] ..... (step 6 of 7) Processing MatrixUnifier, total=   0.0s\n"
          ]
        },
        {
          "output_type": "stream",
          "name": "stderr",
          "text": [
            "/usr/local/lib/python3.7/dist-packages/sklearn/utils/validation.py:598: FutureWarning: np.matrix usage is deprecated in 1.0 and will raise a TypeError in 1.2. Please convert to a numpy array with np.asarray. For more information see: https://numpy.org/doc/stable/reference/generated/numpy.matrix.html\n",
            "  FutureWarning,\n",
            "/usr/local/lib/python3.7/dist-packages/sklearn/neural_network/_multilayer_perceptron.py:696: ConvergenceWarning: Stochastic Optimizer: Maximum iterations (20) reached and the optimization hasn't converged yet.\n",
            "  ConvergenceWarning,\n"
          ]
        },
        {
          "output_type": "stream",
          "name": "stdout",
          "text": [
            "[Pipeline] ............... (step 7 of 7) Processing CLF, total=  15.2s\n"
          ]
        },
        {
          "output_type": "stream",
          "name": "stderr",
          "text": [
            "/usr/local/lib/python3.7/dist-packages/sklearn/utils/validation.py:598: FutureWarning: np.matrix usage is deprecated in 1.0 and will raise a TypeError in 1.2. Please convert to a numpy array with np.asarray. For more information see: https://numpy.org/doc/stable/reference/generated/numpy.matrix.html\n",
            "  FutureWarning,\n"
          ]
        },
        {
          "output_type": "stream",
          "name": "stdout",
          "text": [
            "[Pipeline] ... (step 1 of 7) Processing TweetNormalizer, total=   1.1s\n",
            "[Pipeline] .. (step 2 of 7) Processing FeatureExtractor, total=   4.9s\n",
            "[Pipeline] .. (step 3 of 7) Processing BigramVectorizer, total=   6.2s\n",
            "[Pipeline]  (step 4 of 7) Processing MatrixToArrayConverter, total=   0.0s\n",
            "[Pipeline] ..... (step 5 of 7) Processing OneHotEncoder, total=   0.4s\n",
            "[Pipeline] ..... (step 6 of 7) Processing MatrixUnifier, total=   0.0s\n"
          ]
        },
        {
          "output_type": "stream",
          "name": "stderr",
          "text": [
            "/usr/local/lib/python3.7/dist-packages/sklearn/utils/validation.py:598: FutureWarning: np.matrix usage is deprecated in 1.0 and will raise a TypeError in 1.2. Please convert to a numpy array with np.asarray. For more information see: https://numpy.org/doc/stable/reference/generated/numpy.matrix.html\n",
            "  FutureWarning,\n",
            "/usr/local/lib/python3.7/dist-packages/sklearn/neural_network/_multilayer_perceptron.py:696: ConvergenceWarning: Stochastic Optimizer: Maximum iterations (20) reached and the optimization hasn't converged yet.\n",
            "  ConvergenceWarning,\n"
          ]
        },
        {
          "output_type": "stream",
          "name": "stdout",
          "text": [
            "[Pipeline] ............... (step 7 of 7) Processing CLF, total=  12.9s\n"
          ]
        },
        {
          "output_type": "stream",
          "name": "stderr",
          "text": [
            "/usr/local/lib/python3.7/dist-packages/sklearn/utils/validation.py:598: FutureWarning: np.matrix usage is deprecated in 1.0 and will raise a TypeError in 1.2. Please convert to a numpy array with np.asarray. For more information see: https://numpy.org/doc/stable/reference/generated/numpy.matrix.html\n",
            "  FutureWarning,\n"
          ]
        },
        {
          "output_type": "stream",
          "name": "stdout",
          "text": [
            "[Pipeline] ... (step 1 of 7) Processing TweetNormalizer, total=   1.3s\n",
            "[Pipeline] .. (step 2 of 7) Processing FeatureExtractor, total=   5.5s\n",
            "[Pipeline] .. (step 3 of 7) Processing BigramVectorizer, total=   6.9s\n",
            "[Pipeline]  (step 4 of 7) Processing MatrixToArrayConverter, total=   0.0s\n",
            "[Pipeline] ..... (step 5 of 7) Processing OneHotEncoder, total=   0.4s\n",
            "[Pipeline] ..... (step 6 of 7) Processing MatrixUnifier, total=   0.0s\n"
          ]
        },
        {
          "output_type": "stream",
          "name": "stderr",
          "text": [
            "/usr/local/lib/python3.7/dist-packages/sklearn/utils/validation.py:598: FutureWarning: np.matrix usage is deprecated in 1.0 and will raise a TypeError in 1.2. Please convert to a numpy array with np.asarray. For more information see: https://numpy.org/doc/stable/reference/generated/numpy.matrix.html\n",
            "  FutureWarning,\n"
          ]
        },
        {
          "output_type": "stream",
          "name": "stdout",
          "text": [
            "[Pipeline] ............... (step 7 of 7) Processing CLF, total=  13.4s\n"
          ]
        },
        {
          "output_type": "stream",
          "name": "stderr",
          "text": [
            "/usr/local/lib/python3.7/dist-packages/sklearn/neural_network/_multilayer_perceptron.py:696: ConvergenceWarning: Stochastic Optimizer: Maximum iterations (20) reached and the optimization hasn't converged yet.\n",
            "  ConvergenceWarning,\n"
          ]
        }
      ],
      "source": [
        "models = []\n",
        "\n",
        "for clf_name in  clf_param_grid:\n",
        "    print(30*'-')\n",
        "    print(clf_name)\n",
        "    param_grid = clf_param_grid[clf_name][1]\n",
        "    print(param_grid)\n",
        "    bigram_vec_args = dict(ngram_range=(2,2), analyzer='char_wb', max_features=100, binary=True)\n",
        "    \n",
        "    pipe = Pipeline(steps=[\n",
        "        ('TweetNormalizer', TweetNormalizer()),\n",
        "        ('FeatureExtractor', FeatureExtractor()),\n",
        "        ('BigramVectorizer', CountVectorizerWrapper(**bigram_vec_args)),\n",
        "        ('MatrixToArrayConverter', MatrixToArrayConverter1()),\n",
        "        ('OneHotEncoder', OneHotEncoderWrapper(handle_unknown='ignore')),\n",
        "        ('MatrixUnifier', MatrixUnifier()),\n",
        "        ('CLF', clf_param_grid[clf_name][0]())\n",
        "    ], verbose=True)\n",
        "\n",
        "    grid = GridSearchCV(pipe, n_jobs=1, param_grid=param_grid, scoring='f1_micro', cv=10)\n",
        "    grid.fit(df_train_dev_up['tweet'].to_numpy(), y_train_dev)\n",
        "\n",
        "    models.append(grid)"
      ]
    },
    {
      "cell_type": "markdown",
      "metadata": {
        "id": "aA3JAYJBDZxy"
      },
      "source": [
        "### 7. Report results\n",
        "\n",
        "* NBC\n",
        "* SGD \n",
        "*MLP "
      ]
    },
    {
      "cell_type": "code",
      "source": [
        "from sklearn.metrics import f1_score\n",
        "from sklearn.metrics import confusion_matrix\n",
        "from sklearn.metrics import accuracy_score"
      ],
      "metadata": {
        "id": "CufN02KncLe2"
      },
      "execution_count": 27,
      "outputs": []
    },
    {
      "cell_type": "markdown",
      "metadata": {
        "id": "RZHDby7NB7PW"
      },
      "source": [
        "#### NBC \n",
        "\n",
        "Micro f1-Score of the naive base models on the dev set:"
      ]
    },
    {
      "cell_type": "code",
      "execution_count": null,
      "metadata": {
        "id": "gDOlBtb2B4Nq"
      },
      "outputs": [],
      "source": [
        "models[0].cv_results_"
      ]
    },
    {
      "cell_type": "code",
      "source": [
        "grid_df = pd.DataFrame.from_dict(models[0].cv_results_)\n",
        "grid_df.sort_values(by=[\"rank_test_score\"])"
      ],
      "metadata": {
        "colab": {
          "base_uri": "https://localhost:8080/",
          "height": 211
        },
        "id": "xZreLaroamUJ",
        "outputId": "6fcb50a9-e663-45d4-e918-8a577a4f75e1"
      },
      "execution_count": 29,
      "outputs": [
        {
          "output_type": "execute_result",
          "data": {
            "text/plain": [
              "   mean_fit_time  std_fit_time  mean_score_time  std_score_time  \\\n",
              "0      13.575156      1.608423         0.673924        0.072160   \n",
              "1      13.128490      0.713284         0.660757        0.066933   \n",
              "\n",
              "  param_CLF__alpha               params  split0_test_score  split1_test_score  \\\n",
              "0              0.1  {'CLF__alpha': 0.1}           0.612838           0.612107   \n",
              "1                1    {'CLF__alpha': 1}           0.611010           0.610461   \n",
              "\n",
              "   split2_test_score  split3_test_score  split4_test_score  split5_test_score  \\\n",
              "0           0.617410            0.61741           0.627103           0.625206   \n",
              "1           0.615582            0.61485           0.622714           0.622462   \n",
              "\n",
              "   split6_test_score  split7_test_score  split8_test_score  split9_test_score  \\\n",
              "0           0.623194           0.616243           0.631791           0.624108   \n",
              "1           0.619718           0.613499           0.632522           0.620816   \n",
              "\n",
              "   mean_test_score  std_test_score  rank_test_score  \n",
              "0         0.620741        0.006159                1  \n",
              "1         0.618363        0.006359                2  "
            ],
            "text/html": [
              "\n",
              "  <div id=\"df-b94d4146-e293-4648-a22f-89309c250d34\">\n",
              "    <div class=\"colab-df-container\">\n",
              "      <div>\n",
              "<style scoped>\n",
              "    .dataframe tbody tr th:only-of-type {\n",
              "        vertical-align: middle;\n",
              "    }\n",
              "\n",
              "    .dataframe tbody tr th {\n",
              "        vertical-align: top;\n",
              "    }\n",
              "\n",
              "    .dataframe thead th {\n",
              "        text-align: right;\n",
              "    }\n",
              "</style>\n",
              "<table border=\"1\" class=\"dataframe\">\n",
              "  <thead>\n",
              "    <tr style=\"text-align: right;\">\n",
              "      <th></th>\n",
              "      <th>mean_fit_time</th>\n",
              "      <th>std_fit_time</th>\n",
              "      <th>mean_score_time</th>\n",
              "      <th>std_score_time</th>\n",
              "      <th>param_CLF__alpha</th>\n",
              "      <th>params</th>\n",
              "      <th>split0_test_score</th>\n",
              "      <th>split1_test_score</th>\n",
              "      <th>split2_test_score</th>\n",
              "      <th>split3_test_score</th>\n",
              "      <th>split4_test_score</th>\n",
              "      <th>split5_test_score</th>\n",
              "      <th>split6_test_score</th>\n",
              "      <th>split7_test_score</th>\n",
              "      <th>split8_test_score</th>\n",
              "      <th>split9_test_score</th>\n",
              "      <th>mean_test_score</th>\n",
              "      <th>std_test_score</th>\n",
              "      <th>rank_test_score</th>\n",
              "    </tr>\n",
              "  </thead>\n",
              "  <tbody>\n",
              "    <tr>\n",
              "      <th>0</th>\n",
              "      <td>13.575156</td>\n",
              "      <td>1.608423</td>\n",
              "      <td>0.673924</td>\n",
              "      <td>0.072160</td>\n",
              "      <td>0.1</td>\n",
              "      <td>{'CLF__alpha': 0.1}</td>\n",
              "      <td>0.612838</td>\n",
              "      <td>0.612107</td>\n",
              "      <td>0.617410</td>\n",
              "      <td>0.61741</td>\n",
              "      <td>0.627103</td>\n",
              "      <td>0.625206</td>\n",
              "      <td>0.623194</td>\n",
              "      <td>0.616243</td>\n",
              "      <td>0.631791</td>\n",
              "      <td>0.624108</td>\n",
              "      <td>0.620741</td>\n",
              "      <td>0.006159</td>\n",
              "      <td>1</td>\n",
              "    </tr>\n",
              "    <tr>\n",
              "      <th>1</th>\n",
              "      <td>13.128490</td>\n",
              "      <td>0.713284</td>\n",
              "      <td>0.660757</td>\n",
              "      <td>0.066933</td>\n",
              "      <td>1</td>\n",
              "      <td>{'CLF__alpha': 1}</td>\n",
              "      <td>0.611010</td>\n",
              "      <td>0.610461</td>\n",
              "      <td>0.615582</td>\n",
              "      <td>0.61485</td>\n",
              "      <td>0.622714</td>\n",
              "      <td>0.622462</td>\n",
              "      <td>0.619718</td>\n",
              "      <td>0.613499</td>\n",
              "      <td>0.632522</td>\n",
              "      <td>0.620816</td>\n",
              "      <td>0.618363</td>\n",
              "      <td>0.006359</td>\n",
              "      <td>2</td>\n",
              "    </tr>\n",
              "  </tbody>\n",
              "</table>\n",
              "</div>\n",
              "      <button class=\"colab-df-convert\" onclick=\"convertToInteractive('df-b94d4146-e293-4648-a22f-89309c250d34')\"\n",
              "              title=\"Convert this dataframe to an interactive table.\"\n",
              "              style=\"display:none;\">\n",
              "        \n",
              "  <svg xmlns=\"http://www.w3.org/2000/svg\" height=\"24px\"viewBox=\"0 0 24 24\"\n",
              "       width=\"24px\">\n",
              "    <path d=\"M0 0h24v24H0V0z\" fill=\"none\"/>\n",
              "    <path d=\"M18.56 5.44l.94 2.06.94-2.06 2.06-.94-2.06-.94-.94-2.06-.94 2.06-2.06.94zm-11 1L8.5 8.5l.94-2.06 2.06-.94-2.06-.94L8.5 2.5l-.94 2.06-2.06.94zm10 10l.94 2.06.94-2.06 2.06-.94-2.06-.94-.94-2.06-.94 2.06-2.06.94z\"/><path d=\"M17.41 7.96l-1.37-1.37c-.4-.4-.92-.59-1.43-.59-.52 0-1.04.2-1.43.59L10.3 9.45l-7.72 7.72c-.78.78-.78 2.05 0 2.83L4 21.41c.39.39.9.59 1.41.59.51 0 1.02-.2 1.41-.59l7.78-7.78 2.81-2.81c.8-.78.8-2.07 0-2.86zM5.41 20L4 18.59l7.72-7.72 1.47 1.35L5.41 20z\"/>\n",
              "  </svg>\n",
              "      </button>\n",
              "      \n",
              "  <style>\n",
              "    .colab-df-container {\n",
              "      display:flex;\n",
              "      flex-wrap:wrap;\n",
              "      gap: 12px;\n",
              "    }\n",
              "\n",
              "    .colab-df-convert {\n",
              "      background-color: #E8F0FE;\n",
              "      border: none;\n",
              "      border-radius: 50%;\n",
              "      cursor: pointer;\n",
              "      display: none;\n",
              "      fill: #1967D2;\n",
              "      height: 32px;\n",
              "      padding: 0 0 0 0;\n",
              "      width: 32px;\n",
              "    }\n",
              "\n",
              "    .colab-df-convert:hover {\n",
              "      background-color: #E2EBFA;\n",
              "      box-shadow: 0px 1px 2px rgba(60, 64, 67, 0.3), 0px 1px 3px 1px rgba(60, 64, 67, 0.15);\n",
              "      fill: #174EA6;\n",
              "    }\n",
              "\n",
              "    [theme=dark] .colab-df-convert {\n",
              "      background-color: #3B4455;\n",
              "      fill: #D2E3FC;\n",
              "    }\n",
              "\n",
              "    [theme=dark] .colab-df-convert:hover {\n",
              "      background-color: #434B5C;\n",
              "      box-shadow: 0px 1px 3px 1px rgba(0, 0, 0, 0.15);\n",
              "      filter: drop-shadow(0px 1px 2px rgba(0, 0, 0, 0.3));\n",
              "      fill: #FFFFFF;\n",
              "    }\n",
              "  </style>\n",
              "\n",
              "      <script>\n",
              "        const buttonEl =\n",
              "          document.querySelector('#df-b94d4146-e293-4648-a22f-89309c250d34 button.colab-df-convert');\n",
              "        buttonEl.style.display =\n",
              "          google.colab.kernel.accessAllowed ? 'block' : 'none';\n",
              "\n",
              "        async function convertToInteractive(key) {\n",
              "          const element = document.querySelector('#df-b94d4146-e293-4648-a22f-89309c250d34');\n",
              "          const dataTable =\n",
              "            await google.colab.kernel.invokeFunction('convertToInteractive',\n",
              "                                                     [key], {});\n",
              "          if (!dataTable) return;\n",
              "\n",
              "          const docLinkHtml = 'Like what you see? Visit the ' +\n",
              "            '<a target=\"_blank\" href=https://colab.research.google.com/notebooks/data_table.ipynb>data table notebook</a>'\n",
              "            + ' to learn more about interactive tables.';\n",
              "          element.innerHTML = '';\n",
              "          dataTable['output_type'] = 'display_data';\n",
              "          await google.colab.output.renderOutput(dataTable, element);\n",
              "          const docLink = document.createElement('div');\n",
              "          docLink.innerHTML = docLinkHtml;\n",
              "          element.appendChild(docLink);\n",
              "        }\n",
              "      </script>\n",
              "    </div>\n",
              "  </div>\n",
              "  "
            ]
          },
          "metadata": {},
          "execution_count": 29
        }
      ]
    },
    {
      "cell_type": "markdown",
      "metadata": {
        "id": "WcqrfTK1Bcxd"
      },
      "source": [
        "Micro and macro f1-score of the best naive bayes model on the test set:"
      ]
    },
    {
      "cell_type": "code",
      "execution_count": 30,
      "metadata": {
        "colab": {
          "base_uri": "https://localhost:8080/"
        },
        "id": "eIlAIaVnNHOU",
        "outputId": "a82581cf-8c42-42c1-94dd-44aeb2c89f38"
      },
      "outputs": [
        {
          "output_type": "stream",
          "name": "stdout",
          "text": [
            "F1-micro-score on the testset: 0.6298667068303336\n",
            "F1-macro-score on the testset: 0.1891293449074721\n"
          ]
        },
        {
          "output_type": "stream",
          "name": "stderr",
          "text": [
            "/usr/local/lib/python3.7/dist-packages/sklearn/utils/validation.py:598: FutureWarning: np.matrix usage is deprecated in 1.0 and will raise a TypeError in 1.2. Please convert to a numpy array with np.asarray. For more information see: https://numpy.org/doc/stable/reference/generated/numpy.matrix.html\n",
            "  FutureWarning,\n"
          ]
        }
      ],
      "source": [
        "preds = models[0].predict(df_test['tweet'].to_numpy())\n",
        "f1_micro = f1_score(preds, y_test, average='micro')\n",
        "f1_macro = f1_score(preds, y_test, average='macro')\n",
        "\n",
        "print(f'F1-micro-score on the testset: {f1_micro}')\n",
        "print(f'F1-macro-score on the testset: {f1_macro}')"
      ]
    },
    {
      "cell_type": "code",
      "source": [
        "print(preds)"
      ],
      "metadata": {
        "colab": {
          "base_uri": "https://localhost:8080/"
        },
        "id": "UvXe3KW8nerv",
        "outputId": "3a2e0d39-99c5-489d-badd-ae6f524eb82e"
      },
      "execution_count": 31,
      "outputs": [
        {
          "output_type": "stream",
          "name": "stdout",
          "text": [
            "[ 9  0 43 ... 10 22 32]\n"
          ]
        }
      ]
    },
    {
      "cell_type": "code",
      "source": [
        "# calculate accuracy\n",
        "\n",
        "correct = 0\n",
        "\n",
        "for index, prediction in enumerate(preds):\n",
        "  if prediction == y_test[index]:\n",
        "    correct += 1\n",
        "\n",
        "print('Accuracy: ', correct/y_test.shape[0])\n"
      ],
      "metadata": {
        "colab": {
          "base_uri": "https://localhost:8080/"
        },
        "id": "h4EbJzDFZk6B",
        "outputId": "c00163c9-ac39-47f3-cf13-7e1e12260f85"
      },
      "execution_count": 32,
      "outputs": [
        {
          "output_type": "stream",
          "name": "stdout",
          "text": [
            "Accuracy:  0.6298667068303336\n"
          ]
        }
      ]
    },
    {
      "cell_type": "markdown",
      "metadata": {
        "id": "1RKO1bbsCDne"
      },
      "source": [
        "#### SGD \n",
        "\n",
        "Micro f1-Score of the SGD models on the dev set:"
      ]
    },
    {
      "cell_type": "code",
      "source": [
        "grid_df = pd.DataFrame.from_dict(models[1].cv_results_)\n",
        "grid_df.sort_values(by=[\"rank_test_score\"])"
      ],
      "metadata": {
        "colab": {
          "base_uri": "https://localhost:8080/",
          "height": 922
        },
        "id": "RAAhaPJZWSnP",
        "outputId": "2c51727d-8f95-4367-f38d-ff94bd7c5cf5"
      },
      "execution_count": 41,
      "outputs": [
        {
          "output_type": "execute_result",
          "data": {
            "text/plain": [
              "    mean_fit_time  std_fit_time  mean_score_time  std_score_time  \\\n",
              "12      35.797754      0.710768         0.603267        0.061741   \n",
              "14      35.539045      0.540567         0.600661        0.066030   \n",
              "15      80.157865      1.452212         0.606213        0.059454   \n",
              "13      80.856232      1.104429         0.593191        0.065109   \n",
              "10      32.990941      0.673840         0.595864        0.063429   \n",
              "8       32.601565      0.810231         0.595564        0.066361   \n",
              "11      62.243941      1.304949         0.601933        0.062877   \n",
              "9       61.810843      1.792518         0.604994        0.070387   \n",
              "5       52.524757      0.710305         0.640997        0.062552   \n",
              "7       52.151403      0.579809         0.645374        0.068883   \n",
              "4       36.883262      0.723746         0.651218        0.067033   \n",
              "6       35.084964      0.740778         0.647106        0.062033   \n",
              "0       30.775445      0.868742         0.659317        0.068244   \n",
              "1       42.877477      1.986082         0.663873        0.066374   \n",
              "3       40.480738      0.838364         0.645808        0.069975   \n",
              "2       29.345237      0.835186         0.653708        0.073122   \n",
              "\n",
              "   param_CLF__early_stopping param_CLF__loss param_CLF__max_iter  \\\n",
              "12                     False             log                 100   \n",
              "14                     False             log                 300   \n",
              "15                     False             log                 300   \n",
              "13                     False             log                 100   \n",
              "10                     False           hinge                 300   \n",
              "8                      False           hinge                 100   \n",
              "11                     False           hinge                 300   \n",
              "9                      False           hinge                 100   \n",
              "5                       True             log                 100   \n",
              "7                       True             log                 300   \n",
              "4                       True             log                 100   \n",
              "6                       True             log                 300   \n",
              "0                       True           hinge                 100   \n",
              "1                       True           hinge                 100   \n",
              "3                       True           hinge                 300   \n",
              "2                       True           hinge                 300   \n",
              "\n",
              "   param_CLF__penalty                                             params  \\\n",
              "12                 l2  {'CLF__early_stopping': False, 'CLF__loss': 'l...   \n",
              "14                 l2  {'CLF__early_stopping': False, 'CLF__loss': 'l...   \n",
              "15                 l1  {'CLF__early_stopping': False, 'CLF__loss': 'l...   \n",
              "13                 l1  {'CLF__early_stopping': False, 'CLF__loss': 'l...   \n",
              "10                 l2  {'CLF__early_stopping': False, 'CLF__loss': 'h...   \n",
              "8                  l2  {'CLF__early_stopping': False, 'CLF__loss': 'h...   \n",
              "11                 l1  {'CLF__early_stopping': False, 'CLF__loss': 'h...   \n",
              "9                  l1  {'CLF__early_stopping': False, 'CLF__loss': 'h...   \n",
              "5                  l1  {'CLF__early_stopping': True, 'CLF__loss': 'lo...   \n",
              "7                  l1  {'CLF__early_stopping': True, 'CLF__loss': 'lo...   \n",
              "4                  l2  {'CLF__early_stopping': True, 'CLF__loss': 'lo...   \n",
              "6                  l2  {'CLF__early_stopping': True, 'CLF__loss': 'lo...   \n",
              "0                  l2  {'CLF__early_stopping': True, 'CLF__loss': 'hi...   \n",
              "1                  l1  {'CLF__early_stopping': True, 'CLF__loss': 'hi...   \n",
              "3                  l1  {'CLF__early_stopping': True, 'CLF__loss': 'hi...   \n",
              "2                  l2  {'CLF__early_stopping': True, 'CLF__loss': 'hi...   \n",
              "\n",
              "    split0_test_score  ...  split3_test_score  split4_test_score  \\\n",
              "12           0.741039  ...           0.727871           0.733175   \n",
              "14           0.738661  ...           0.726957           0.728237   \n",
              "15           0.726408  ...           0.734089           0.735735   \n",
              "13           0.721653  ...           0.732443           0.732992   \n",
              "10           0.713789  ...           0.726957           0.729883   \n",
              "8            0.727140  ...           0.733723           0.725128   \n",
              "11           0.715252  ...           0.709583           0.714887   \n",
              "9            0.694038  ...           0.708851           0.711412   \n",
              "5            0.702451  ...           0.699159           0.700256   \n",
              "7            0.700988  ...           0.697696           0.712875   \n",
              "4            0.660936  ...           0.709583           0.707571   \n",
              "6            0.653804  ...           0.559985           0.712509   \n",
              "0            0.667886  ...           0.654901           0.608083   \n",
              "1            0.682882  ...           0.658559           0.645026   \n",
              "3            0.652158  ...           0.691843           0.666606   \n",
              "2            0.707571  ...           0.566752           0.677579   \n",
              "\n",
              "    split5_test_score  split6_test_score  split7_test_score  \\\n",
              "12           0.741174           0.738979           0.740077   \n",
              "14           0.753430           0.732943           0.739345   \n",
              "15           0.719224           0.730199           0.732394   \n",
              "13           0.742455           0.726724           0.734041   \n",
              "10           0.738613           0.723431           0.730199   \n",
              "8            0.730016           0.714286           0.737333   \n",
              "11           0.730565           0.710444           0.724529   \n",
              "9            0.719773           0.706603           0.708981   \n",
              "5            0.722700           0.698921           0.693433   \n",
              "7            0.709896           0.662155           0.707152   \n",
              "4            0.682824           0.707152           0.719224   \n",
              "6            0.676056           0.675508           0.707152   \n",
              "0            0.723431           0.690507           0.701847   \n",
              "1            0.695628           0.685385           0.642034   \n",
              "3            0.678251           0.644595           0.629962   \n",
              "2            0.679349           0.593378           0.701665   \n",
              "\n",
              "    split8_test_score  split9_test_score  mean_test_score  std_test_score  \\\n",
              "12           0.744284           0.753796         0.739479        0.006951   \n",
              "14           0.738065           0.747028         0.737778        0.007564   \n",
              "15           0.741174           0.730748         0.732016        0.005984   \n",
              "13           0.738796           0.726907         0.731925        0.005780   \n",
              "10           0.735504           0.731846         0.727774        0.006785   \n",
              "8            0.719224           0.743918         0.727718        0.008454   \n",
              "11           0.724895           0.714469         0.717787        0.006399   \n",
              "9            0.718859           0.723797         0.712337        0.008040   \n",
              "5            0.710079           0.703311         0.704545        0.008123   \n",
              "7            0.704591           0.715566         0.703136        0.014627   \n",
              "4            0.710810           0.716298         0.702991        0.016766   \n",
              "6            0.707335           0.699652         0.683823        0.046805   \n",
              "0            0.679898           0.659777         0.673051        0.032017   \n",
              "1            0.691787           0.682275         0.669832        0.023865   \n",
              "3            0.690507           0.700750         0.668203        0.021690   \n",
              "2            0.692336           0.685019         0.664984        0.044259   \n",
              "\n",
              "    rank_test_score  \n",
              "12                1  \n",
              "14                2  \n",
              "15                3  \n",
              "13                4  \n",
              "10                5  \n",
              "8                 6  \n",
              "11                7  \n",
              "9                 8  \n",
              "5                 9  \n",
              "7                10  \n",
              "4                11  \n",
              "6                12  \n",
              "0                13  \n",
              "1                14  \n",
              "3                15  \n",
              "2                16  \n",
              "\n",
              "[16 rows x 22 columns]"
            ],
            "text/html": [
              "\n",
              "  <div id=\"df-3ce218c7-45d6-4624-adaa-466c151fa855\">\n",
              "    <div class=\"colab-df-container\">\n",
              "      <div>\n",
              "<style scoped>\n",
              "    .dataframe tbody tr th:only-of-type {\n",
              "        vertical-align: middle;\n",
              "    }\n",
              "\n",
              "    .dataframe tbody tr th {\n",
              "        vertical-align: top;\n",
              "    }\n",
              "\n",
              "    .dataframe thead th {\n",
              "        text-align: right;\n",
              "    }\n",
              "</style>\n",
              "<table border=\"1\" class=\"dataframe\">\n",
              "  <thead>\n",
              "    <tr style=\"text-align: right;\">\n",
              "      <th></th>\n",
              "      <th>mean_fit_time</th>\n",
              "      <th>std_fit_time</th>\n",
              "      <th>mean_score_time</th>\n",
              "      <th>std_score_time</th>\n",
              "      <th>param_CLF__early_stopping</th>\n",
              "      <th>param_CLF__loss</th>\n",
              "      <th>param_CLF__max_iter</th>\n",
              "      <th>param_CLF__penalty</th>\n",
              "      <th>params</th>\n",
              "      <th>split0_test_score</th>\n",
              "      <th>...</th>\n",
              "      <th>split3_test_score</th>\n",
              "      <th>split4_test_score</th>\n",
              "      <th>split5_test_score</th>\n",
              "      <th>split6_test_score</th>\n",
              "      <th>split7_test_score</th>\n",
              "      <th>split8_test_score</th>\n",
              "      <th>split9_test_score</th>\n",
              "      <th>mean_test_score</th>\n",
              "      <th>std_test_score</th>\n",
              "      <th>rank_test_score</th>\n",
              "    </tr>\n",
              "  </thead>\n",
              "  <tbody>\n",
              "    <tr>\n",
              "      <th>12</th>\n",
              "      <td>35.797754</td>\n",
              "      <td>0.710768</td>\n",
              "      <td>0.603267</td>\n",
              "      <td>0.061741</td>\n",
              "      <td>False</td>\n",
              "      <td>log</td>\n",
              "      <td>100</td>\n",
              "      <td>l2</td>\n",
              "      <td>{'CLF__early_stopping': False, 'CLF__loss': 'l...</td>\n",
              "      <td>0.741039</td>\n",
              "      <td>...</td>\n",
              "      <td>0.727871</td>\n",
              "      <td>0.733175</td>\n",
              "      <td>0.741174</td>\n",
              "      <td>0.738979</td>\n",
              "      <td>0.740077</td>\n",
              "      <td>0.744284</td>\n",
              "      <td>0.753796</td>\n",
              "      <td>0.739479</td>\n",
              "      <td>0.006951</td>\n",
              "      <td>1</td>\n",
              "    </tr>\n",
              "    <tr>\n",
              "      <th>14</th>\n",
              "      <td>35.539045</td>\n",
              "      <td>0.540567</td>\n",
              "      <td>0.600661</td>\n",
              "      <td>0.066030</td>\n",
              "      <td>False</td>\n",
              "      <td>log</td>\n",
              "      <td>300</td>\n",
              "      <td>l2</td>\n",
              "      <td>{'CLF__early_stopping': False, 'CLF__loss': 'l...</td>\n",
              "      <td>0.738661</td>\n",
              "      <td>...</td>\n",
              "      <td>0.726957</td>\n",
              "      <td>0.728237</td>\n",
              "      <td>0.753430</td>\n",
              "      <td>0.732943</td>\n",
              "      <td>0.739345</td>\n",
              "      <td>0.738065</td>\n",
              "      <td>0.747028</td>\n",
              "      <td>0.737778</td>\n",
              "      <td>0.007564</td>\n",
              "      <td>2</td>\n",
              "    </tr>\n",
              "    <tr>\n",
              "      <th>15</th>\n",
              "      <td>80.157865</td>\n",
              "      <td>1.452212</td>\n",
              "      <td>0.606213</td>\n",
              "      <td>0.059454</td>\n",
              "      <td>False</td>\n",
              "      <td>log</td>\n",
              "      <td>300</td>\n",
              "      <td>l1</td>\n",
              "      <td>{'CLF__early_stopping': False, 'CLF__loss': 'l...</td>\n",
              "      <td>0.726408</td>\n",
              "      <td>...</td>\n",
              "      <td>0.734089</td>\n",
              "      <td>0.735735</td>\n",
              "      <td>0.719224</td>\n",
              "      <td>0.730199</td>\n",
              "      <td>0.732394</td>\n",
              "      <td>0.741174</td>\n",
              "      <td>0.730748</td>\n",
              "      <td>0.732016</td>\n",
              "      <td>0.005984</td>\n",
              "      <td>3</td>\n",
              "    </tr>\n",
              "    <tr>\n",
              "      <th>13</th>\n",
              "      <td>80.856232</td>\n",
              "      <td>1.104429</td>\n",
              "      <td>0.593191</td>\n",
              "      <td>0.065109</td>\n",
              "      <td>False</td>\n",
              "      <td>log</td>\n",
              "      <td>100</td>\n",
              "      <td>l1</td>\n",
              "      <td>{'CLF__early_stopping': False, 'CLF__loss': 'l...</td>\n",
              "      <td>0.721653</td>\n",
              "      <td>...</td>\n",
              "      <td>0.732443</td>\n",
              "      <td>0.732992</td>\n",
              "      <td>0.742455</td>\n",
              "      <td>0.726724</td>\n",
              "      <td>0.734041</td>\n",
              "      <td>0.738796</td>\n",
              "      <td>0.726907</td>\n",
              "      <td>0.731925</td>\n",
              "      <td>0.005780</td>\n",
              "      <td>4</td>\n",
              "    </tr>\n",
              "    <tr>\n",
              "      <th>10</th>\n",
              "      <td>32.990941</td>\n",
              "      <td>0.673840</td>\n",
              "      <td>0.595864</td>\n",
              "      <td>0.063429</td>\n",
              "      <td>False</td>\n",
              "      <td>hinge</td>\n",
              "      <td>300</td>\n",
              "      <td>l2</td>\n",
              "      <td>{'CLF__early_stopping': False, 'CLF__loss': 'h...</td>\n",
              "      <td>0.713789</td>\n",
              "      <td>...</td>\n",
              "      <td>0.726957</td>\n",
              "      <td>0.729883</td>\n",
              "      <td>0.738613</td>\n",
              "      <td>0.723431</td>\n",
              "      <td>0.730199</td>\n",
              "      <td>0.735504</td>\n",
              "      <td>0.731846</td>\n",
              "      <td>0.727774</td>\n",
              "      <td>0.006785</td>\n",
              "      <td>5</td>\n",
              "    </tr>\n",
              "    <tr>\n",
              "      <th>8</th>\n",
              "      <td>32.601565</td>\n",
              "      <td>0.810231</td>\n",
              "      <td>0.595564</td>\n",
              "      <td>0.066361</td>\n",
              "      <td>False</td>\n",
              "      <td>hinge</td>\n",
              "      <td>100</td>\n",
              "      <td>l2</td>\n",
              "      <td>{'CLF__early_stopping': False, 'CLF__loss': 'h...</td>\n",
              "      <td>0.727140</td>\n",
              "      <td>...</td>\n",
              "      <td>0.733723</td>\n",
              "      <td>0.725128</td>\n",
              "      <td>0.730016</td>\n",
              "      <td>0.714286</td>\n",
              "      <td>0.737333</td>\n",
              "      <td>0.719224</td>\n",
              "      <td>0.743918</td>\n",
              "      <td>0.727718</td>\n",
              "      <td>0.008454</td>\n",
              "      <td>6</td>\n",
              "    </tr>\n",
              "    <tr>\n",
              "      <th>11</th>\n",
              "      <td>62.243941</td>\n",
              "      <td>1.304949</td>\n",
              "      <td>0.601933</td>\n",
              "      <td>0.062877</td>\n",
              "      <td>False</td>\n",
              "      <td>hinge</td>\n",
              "      <td>300</td>\n",
              "      <td>l1</td>\n",
              "      <td>{'CLF__early_stopping': False, 'CLF__loss': 'h...</td>\n",
              "      <td>0.715252</td>\n",
              "      <td>...</td>\n",
              "      <td>0.709583</td>\n",
              "      <td>0.714887</td>\n",
              "      <td>0.730565</td>\n",
              "      <td>0.710444</td>\n",
              "      <td>0.724529</td>\n",
              "      <td>0.724895</td>\n",
              "      <td>0.714469</td>\n",
              "      <td>0.717787</td>\n",
              "      <td>0.006399</td>\n",
              "      <td>7</td>\n",
              "    </tr>\n",
              "    <tr>\n",
              "      <th>9</th>\n",
              "      <td>61.810843</td>\n",
              "      <td>1.792518</td>\n",
              "      <td>0.604994</td>\n",
              "      <td>0.070387</td>\n",
              "      <td>False</td>\n",
              "      <td>hinge</td>\n",
              "      <td>100</td>\n",
              "      <td>l1</td>\n",
              "      <td>{'CLF__early_stopping': False, 'CLF__loss': 'h...</td>\n",
              "      <td>0.694038</td>\n",
              "      <td>...</td>\n",
              "      <td>0.708851</td>\n",
              "      <td>0.711412</td>\n",
              "      <td>0.719773</td>\n",
              "      <td>0.706603</td>\n",
              "      <td>0.708981</td>\n",
              "      <td>0.718859</td>\n",
              "      <td>0.723797</td>\n",
              "      <td>0.712337</td>\n",
              "      <td>0.008040</td>\n",
              "      <td>8</td>\n",
              "    </tr>\n",
              "    <tr>\n",
              "      <th>5</th>\n",
              "      <td>52.524757</td>\n",
              "      <td>0.710305</td>\n",
              "      <td>0.640997</td>\n",
              "      <td>0.062552</td>\n",
              "      <td>True</td>\n",
              "      <td>log</td>\n",
              "      <td>100</td>\n",
              "      <td>l1</td>\n",
              "      <td>{'CLF__early_stopping': True, 'CLF__loss': 'lo...</td>\n",
              "      <td>0.702451</td>\n",
              "      <td>...</td>\n",
              "      <td>0.699159</td>\n",
              "      <td>0.700256</td>\n",
              "      <td>0.722700</td>\n",
              "      <td>0.698921</td>\n",
              "      <td>0.693433</td>\n",
              "      <td>0.710079</td>\n",
              "      <td>0.703311</td>\n",
              "      <td>0.704545</td>\n",
              "      <td>0.008123</td>\n",
              "      <td>9</td>\n",
              "    </tr>\n",
              "    <tr>\n",
              "      <th>7</th>\n",
              "      <td>52.151403</td>\n",
              "      <td>0.579809</td>\n",
              "      <td>0.645374</td>\n",
              "      <td>0.068883</td>\n",
              "      <td>True</td>\n",
              "      <td>log</td>\n",
              "      <td>300</td>\n",
              "      <td>l1</td>\n",
              "      <td>{'CLF__early_stopping': True, 'CLF__loss': 'lo...</td>\n",
              "      <td>0.700988</td>\n",
              "      <td>...</td>\n",
              "      <td>0.697696</td>\n",
              "      <td>0.712875</td>\n",
              "      <td>0.709896</td>\n",
              "      <td>0.662155</td>\n",
              "      <td>0.707152</td>\n",
              "      <td>0.704591</td>\n",
              "      <td>0.715566</td>\n",
              "      <td>0.703136</td>\n",
              "      <td>0.014627</td>\n",
              "      <td>10</td>\n",
              "    </tr>\n",
              "    <tr>\n",
              "      <th>4</th>\n",
              "      <td>36.883262</td>\n",
              "      <td>0.723746</td>\n",
              "      <td>0.651218</td>\n",
              "      <td>0.067033</td>\n",
              "      <td>True</td>\n",
              "      <td>log</td>\n",
              "      <td>100</td>\n",
              "      <td>l2</td>\n",
              "      <td>{'CLF__early_stopping': True, 'CLF__loss': 'lo...</td>\n",
              "      <td>0.660936</td>\n",
              "      <td>...</td>\n",
              "      <td>0.709583</td>\n",
              "      <td>0.707571</td>\n",
              "      <td>0.682824</td>\n",
              "      <td>0.707152</td>\n",
              "      <td>0.719224</td>\n",
              "      <td>0.710810</td>\n",
              "      <td>0.716298</td>\n",
              "      <td>0.702991</td>\n",
              "      <td>0.016766</td>\n",
              "      <td>11</td>\n",
              "    </tr>\n",
              "    <tr>\n",
              "      <th>6</th>\n",
              "      <td>35.084964</td>\n",
              "      <td>0.740778</td>\n",
              "      <td>0.647106</td>\n",
              "      <td>0.062033</td>\n",
              "      <td>True</td>\n",
              "      <td>log</td>\n",
              "      <td>300</td>\n",
              "      <td>l2</td>\n",
              "      <td>{'CLF__early_stopping': True, 'CLF__loss': 'lo...</td>\n",
              "      <td>0.653804</td>\n",
              "      <td>...</td>\n",
              "      <td>0.559985</td>\n",
              "      <td>0.712509</td>\n",
              "      <td>0.676056</td>\n",
              "      <td>0.675508</td>\n",
              "      <td>0.707152</td>\n",
              "      <td>0.707335</td>\n",
              "      <td>0.699652</td>\n",
              "      <td>0.683823</td>\n",
              "      <td>0.046805</td>\n",
              "      <td>12</td>\n",
              "    </tr>\n",
              "    <tr>\n",
              "      <th>0</th>\n",
              "      <td>30.775445</td>\n",
              "      <td>0.868742</td>\n",
              "      <td>0.659317</td>\n",
              "      <td>0.068244</td>\n",
              "      <td>True</td>\n",
              "      <td>hinge</td>\n",
              "      <td>100</td>\n",
              "      <td>l2</td>\n",
              "      <td>{'CLF__early_stopping': True, 'CLF__loss': 'hi...</td>\n",
              "      <td>0.667886</td>\n",
              "      <td>...</td>\n",
              "      <td>0.654901</td>\n",
              "      <td>0.608083</td>\n",
              "      <td>0.723431</td>\n",
              "      <td>0.690507</td>\n",
              "      <td>0.701847</td>\n",
              "      <td>0.679898</td>\n",
              "      <td>0.659777</td>\n",
              "      <td>0.673051</td>\n",
              "      <td>0.032017</td>\n",
              "      <td>13</td>\n",
              "    </tr>\n",
              "    <tr>\n",
              "      <th>1</th>\n",
              "      <td>42.877477</td>\n",
              "      <td>1.986082</td>\n",
              "      <td>0.663873</td>\n",
              "      <td>0.066374</td>\n",
              "      <td>True</td>\n",
              "      <td>hinge</td>\n",
              "      <td>100</td>\n",
              "      <td>l1</td>\n",
              "      <td>{'CLF__early_stopping': True, 'CLF__loss': 'hi...</td>\n",
              "      <td>0.682882</td>\n",
              "      <td>...</td>\n",
              "      <td>0.658559</td>\n",
              "      <td>0.645026</td>\n",
              "      <td>0.695628</td>\n",
              "      <td>0.685385</td>\n",
              "      <td>0.642034</td>\n",
              "      <td>0.691787</td>\n",
              "      <td>0.682275</td>\n",
              "      <td>0.669832</td>\n",
              "      <td>0.023865</td>\n",
              "      <td>14</td>\n",
              "    </tr>\n",
              "    <tr>\n",
              "      <th>3</th>\n",
              "      <td>40.480738</td>\n",
              "      <td>0.838364</td>\n",
              "      <td>0.645808</td>\n",
              "      <td>0.069975</td>\n",
              "      <td>True</td>\n",
              "      <td>hinge</td>\n",
              "      <td>300</td>\n",
              "      <td>l1</td>\n",
              "      <td>{'CLF__early_stopping': True, 'CLF__loss': 'hi...</td>\n",
              "      <td>0.652158</td>\n",
              "      <td>...</td>\n",
              "      <td>0.691843</td>\n",
              "      <td>0.666606</td>\n",
              "      <td>0.678251</td>\n",
              "      <td>0.644595</td>\n",
              "      <td>0.629962</td>\n",
              "      <td>0.690507</td>\n",
              "      <td>0.700750</td>\n",
              "      <td>0.668203</td>\n",
              "      <td>0.021690</td>\n",
              "      <td>15</td>\n",
              "    </tr>\n",
              "    <tr>\n",
              "      <th>2</th>\n",
              "      <td>29.345237</td>\n",
              "      <td>0.835186</td>\n",
              "      <td>0.653708</td>\n",
              "      <td>0.073122</td>\n",
              "      <td>True</td>\n",
              "      <td>hinge</td>\n",
              "      <td>300</td>\n",
              "      <td>l2</td>\n",
              "      <td>{'CLF__early_stopping': True, 'CLF__loss': 'hi...</td>\n",
              "      <td>0.707571</td>\n",
              "      <td>...</td>\n",
              "      <td>0.566752</td>\n",
              "      <td>0.677579</td>\n",
              "      <td>0.679349</td>\n",
              "      <td>0.593378</td>\n",
              "      <td>0.701665</td>\n",
              "      <td>0.692336</td>\n",
              "      <td>0.685019</td>\n",
              "      <td>0.664984</td>\n",
              "      <td>0.044259</td>\n",
              "      <td>16</td>\n",
              "    </tr>\n",
              "  </tbody>\n",
              "</table>\n",
              "<p>16 rows × 22 columns</p>\n",
              "</div>\n",
              "      <button class=\"colab-df-convert\" onclick=\"convertToInteractive('df-3ce218c7-45d6-4624-adaa-466c151fa855')\"\n",
              "              title=\"Convert this dataframe to an interactive table.\"\n",
              "              style=\"display:none;\">\n",
              "        \n",
              "  <svg xmlns=\"http://www.w3.org/2000/svg\" height=\"24px\"viewBox=\"0 0 24 24\"\n",
              "       width=\"24px\">\n",
              "    <path d=\"M0 0h24v24H0V0z\" fill=\"none\"/>\n",
              "    <path d=\"M18.56 5.44l.94 2.06.94-2.06 2.06-.94-2.06-.94-.94-2.06-.94 2.06-2.06.94zm-11 1L8.5 8.5l.94-2.06 2.06-.94-2.06-.94L8.5 2.5l-.94 2.06-2.06.94zm10 10l.94 2.06.94-2.06 2.06-.94-2.06-.94-.94-2.06-.94 2.06-2.06.94z\"/><path d=\"M17.41 7.96l-1.37-1.37c-.4-.4-.92-.59-1.43-.59-.52 0-1.04.2-1.43.59L10.3 9.45l-7.72 7.72c-.78.78-.78 2.05 0 2.83L4 21.41c.39.39.9.59 1.41.59.51 0 1.02-.2 1.41-.59l7.78-7.78 2.81-2.81c.8-.78.8-2.07 0-2.86zM5.41 20L4 18.59l7.72-7.72 1.47 1.35L5.41 20z\"/>\n",
              "  </svg>\n",
              "      </button>\n",
              "      \n",
              "  <style>\n",
              "    .colab-df-container {\n",
              "      display:flex;\n",
              "      flex-wrap:wrap;\n",
              "      gap: 12px;\n",
              "    }\n",
              "\n",
              "    .colab-df-convert {\n",
              "      background-color: #E8F0FE;\n",
              "      border: none;\n",
              "      border-radius: 50%;\n",
              "      cursor: pointer;\n",
              "      display: none;\n",
              "      fill: #1967D2;\n",
              "      height: 32px;\n",
              "      padding: 0 0 0 0;\n",
              "      width: 32px;\n",
              "    }\n",
              "\n",
              "    .colab-df-convert:hover {\n",
              "      background-color: #E2EBFA;\n",
              "      box-shadow: 0px 1px 2px rgba(60, 64, 67, 0.3), 0px 1px 3px 1px rgba(60, 64, 67, 0.15);\n",
              "      fill: #174EA6;\n",
              "    }\n",
              "\n",
              "    [theme=dark] .colab-df-convert {\n",
              "      background-color: #3B4455;\n",
              "      fill: #D2E3FC;\n",
              "    }\n",
              "\n",
              "    [theme=dark] .colab-df-convert:hover {\n",
              "      background-color: #434B5C;\n",
              "      box-shadow: 0px 1px 3px 1px rgba(0, 0, 0, 0.15);\n",
              "      filter: drop-shadow(0px 1px 2px rgba(0, 0, 0, 0.3));\n",
              "      fill: #FFFFFF;\n",
              "    }\n",
              "  </style>\n",
              "\n",
              "      <script>\n",
              "        const buttonEl =\n",
              "          document.querySelector('#df-3ce218c7-45d6-4624-adaa-466c151fa855 button.colab-df-convert');\n",
              "        buttonEl.style.display =\n",
              "          google.colab.kernel.accessAllowed ? 'block' : 'none';\n",
              "\n",
              "        async function convertToInteractive(key) {\n",
              "          const element = document.querySelector('#df-3ce218c7-45d6-4624-adaa-466c151fa855');\n",
              "          const dataTable =\n",
              "            await google.colab.kernel.invokeFunction('convertToInteractive',\n",
              "                                                     [key], {});\n",
              "          if (!dataTable) return;\n",
              "\n",
              "          const docLinkHtml = 'Like what you see? Visit the ' +\n",
              "            '<a target=\"_blank\" href=https://colab.research.google.com/notebooks/data_table.ipynb>data table notebook</a>'\n",
              "            + ' to learn more about interactive tables.';\n",
              "          element.innerHTML = '';\n",
              "          dataTable['output_type'] = 'display_data';\n",
              "          await google.colab.output.renderOutput(dataTable, element);\n",
              "          const docLink = document.createElement('div');\n",
              "          docLink.innerHTML = docLinkHtml;\n",
              "          element.appendChild(docLink);\n",
              "        }\n",
              "      </script>\n",
              "    </div>\n",
              "  </div>\n",
              "  "
            ]
          },
          "metadata": {},
          "execution_count": 41
        }
      ]
    },
    {
      "cell_type": "markdown",
      "metadata": {
        "id": "AlY-SAdYBmty"
      },
      "source": [
        "Micro and macro f1-score  the best SGD model on the test set:"
      ]
    },
    {
      "cell_type": "code",
      "execution_count": 39,
      "metadata": {
        "colab": {
          "base_uri": "https://localhost:8080/"
        },
        "id": "PEm-z0w3NiBf",
        "outputId": "9103441f-4249-4d33-d66a-147601ffadb7"
      },
      "outputs": [
        {
          "output_type": "stream",
          "name": "stdout",
          "text": [
            "F1-micro-score on the testset: 0.7621055802394759\n",
            "F1-macro-score on the testset: 0.22044826519222274\n"
          ]
        },
        {
          "output_type": "stream",
          "name": "stderr",
          "text": [
            "/usr/local/lib/python3.7/dist-packages/sklearn/utils/validation.py:598: FutureWarning: np.matrix usage is deprecated in 1.0 and will raise a TypeError in 1.2. Please convert to a numpy array with np.asarray. For more information see: https://numpy.org/doc/stable/reference/generated/numpy.matrix.html\n",
            "  FutureWarning,\n"
          ]
        }
      ],
      "source": [
        "preds = models[1].predict(df_test['tweet'].to_numpy())\n",
        "f1_micro = f1_score(preds, y_test, average='micro')\n",
        "f1_macro = f1_score(preds, y_test, average='macro')\n",
        "print(f'F1-micro-score on the testset: {f1_micro}')\n",
        "print(f'F1-macro-score on the testset: {f1_macro}')"
      ]
    },
    {
      "cell_type": "code",
      "source": [
        "# calculate accuracy\n",
        "\n",
        "correct = 0\n",
        "\n",
        "for index, prediction in enumerate(preds):\n",
        "  if prediction == y_test[index]:\n",
        "    correct += 1\n",
        "\n",
        "print('Accuracy: ', correct/y_test.shape[0])\n"
      ],
      "metadata": {
        "colab": {
          "base_uri": "https://localhost:8080/"
        },
        "id": "13xAdFALVs_u",
        "outputId": "a754aa92-7be3-4571-8fcb-ff0f4d03591f"
      },
      "execution_count": 40,
      "outputs": [
        {
          "output_type": "stream",
          "name": "stdout",
          "text": [
            "Accuracy:  0.7621055802394758\n"
          ]
        }
      ]
    },
    {
      "cell_type": "markdown",
      "source": [
        "#### MLP"
      ],
      "metadata": {
        "id": "BT_jDcPIbygr"
      }
    },
    {
      "cell_type": "code",
      "source": [
        "grid_df = pd.DataFrame.from_dict(models[2].cv_results_)\n",
        "grid_df.sort_values(by=[\"rank_test_score\"])"
      ],
      "metadata": {
        "colab": {
          "base_uri": "https://localhost:8080/",
          "height": 1000
        },
        "id": "GiqIl9y4WZ3j",
        "outputId": "2cc014ea-aeb5-43a7-b461-35f86dc00d2e"
      },
      "execution_count": 42,
      "outputs": [
        {
          "output_type": "execute_result",
          "data": {
            "text/plain": [
              "    mean_fit_time  std_fit_time  mean_score_time  std_score_time  \\\n",
              "11      25.353098      1.046013         0.665189        0.064475   \n",
              "15      26.182120      1.234768         0.679012        0.068078   \n",
              "9       22.382715      0.997460         0.665421        0.069258   \n",
              "13      23.104832      1.205283         0.659968        0.062112   \n",
              "7       27.993065      0.595108         0.720212        0.114195   \n",
              "3       26.845431      0.898564         0.724595        0.137451   \n",
              "5       23.752508      0.739862         0.673690        0.064628   \n",
              "1       23.279632      0.735018         0.718294        0.184231   \n",
              "14      25.320510      0.380053         0.681855        0.066166   \n",
              "10      24.523824      0.631555         0.667320        0.061211   \n",
              "12      22.496216      1.026138         0.669171        0.061641   \n",
              "8       22.362300      1.246390         0.664889        0.065750   \n",
              "6       26.970530      1.063500         0.684820        0.066698   \n",
              "2       26.139558      0.152897         0.684357        0.069368   \n",
              "4       23.264691      0.900439         0.677467        0.069848   \n",
              "0       22.811188      0.818217         0.668414        0.066977   \n",
              "\n",
              "   param_CLF__activation param_CLF__early_stopping  \\\n",
              "11                  relu                      True   \n",
              "15                  relu                     False   \n",
              "9                   relu                      True   \n",
              "13                  relu                     False   \n",
              "7               logistic                     False   \n",
              "3               logistic                      True   \n",
              "5               logistic                     False   \n",
              "1               logistic                      True   \n",
              "14                  relu                     False   \n",
              "10                  relu                      True   \n",
              "12                  relu                     False   \n",
              "8                   relu                      True   \n",
              "6               logistic                     False   \n",
              "2               logistic                      True   \n",
              "4               logistic                     False   \n",
              "0               logistic                      True   \n",
              "\n",
              "   param_CLF__hidden_layer_sizes param_CLF__max_iter param_CLF__solver  \\\n",
              "11                           100                  20              adam   \n",
              "15                           100                  20              adam   \n",
              "9                             50                  20              adam   \n",
              "13                            50                  20              adam   \n",
              "7                            100                  20              adam   \n",
              "3                            100                  20              adam   \n",
              "5                             50                  20              adam   \n",
              "1                             50                  20              adam   \n",
              "14                           100                  20               sgd   \n",
              "10                           100                  20               sgd   \n",
              "12                            50                  20               sgd   \n",
              "8                             50                  20               sgd   \n",
              "6                            100                  20               sgd   \n",
              "2                            100                  20               sgd   \n",
              "4                             50                  20               sgd   \n",
              "0                             50                  20               sgd   \n",
              "\n",
              "                                               params  ...  split3_test_score  \\\n",
              "11  {'CLF__activation': 'relu', 'CLF__early_stoppi...  ...           0.771214   \n",
              "15  {'CLF__activation': 'relu', 'CLF__early_stoppi...  ...           0.775055   \n",
              "9   {'CLF__activation': 'relu', 'CLF__early_stoppi...  ...           0.759510   \n",
              "13  {'CLF__activation': 'relu', 'CLF__early_stoppi...  ...           0.760424   \n",
              "7   {'CLF__activation': 'logistic', 'CLF__early_st...  ...           0.746159   \n",
              "3   {'CLF__activation': 'logistic', 'CLF__early_st...  ...           0.753292   \n",
              "5   {'CLF__activation': 'logistic', 'CLF__early_st...  ...           0.735369   \n",
              "1   {'CLF__activation': 'logistic', 'CLF__early_st...  ...           0.740490   \n",
              "14  {'CLF__activation': 'relu', 'CLF__early_stoppi...  ...           0.708120   \n",
              "10  {'CLF__activation': 'relu', 'CLF__early_stoppi...  ...           0.706657   \n",
              "12  {'CLF__activation': 'relu', 'CLF__early_stoppi...  ...           0.704645   \n",
              "8   {'CLF__activation': 'relu', 'CLF__early_stoppi...  ...           0.697696   \n",
              "6   {'CLF__activation': 'logistic', 'CLF__early_st...  ...           0.619239   \n",
              "2   {'CLF__activation': 'logistic', 'CLF__early_st...  ...           0.611192   \n",
              "4   {'CLF__activation': 'logistic', 'CLF__early_st...  ...           0.603877   \n",
              "0   {'CLF__activation': 'logistic', 'CLF__early_st...  ...           0.590161   \n",
              "\n",
              "    split4_test_score  split5_test_score  split6_test_score  \\\n",
              "11           0.768471           0.783611           0.776111   \n",
              "15           0.776884           0.780867           0.775380   \n",
              "9            0.757132           0.772453           0.763673   \n",
              "13           0.762253           0.765685           0.761844   \n",
              "7            0.759693           0.768429           0.762758   \n",
              "3            0.754938           0.762210           0.752515   \n",
              "5            0.747623           0.758917           0.748491   \n",
              "1            0.744696           0.758185           0.747211   \n",
              "14           0.711412           0.719956           0.708432   \n",
              "10           0.706840           0.710262           0.705689   \n",
              "12           0.702268           0.712639           0.701847   \n",
              "8            0.703548           0.705323           0.695994   \n",
              "6            0.624909           0.622096           0.617340   \n",
              "2            0.611010           0.610390           0.612768   \n",
              "4            0.605523           0.610573           0.607463   \n",
              "0            0.600768           0.604170           0.588988   \n",
              "\n",
              "    split7_test_score  split8_test_score  split9_test_score  mean_test_score  \\\n",
              "11           0.778672           0.779587           0.775014         0.773919   \n",
              "15           0.772453           0.780684           0.772636         0.773919   \n",
              "9            0.766417           0.767514           0.767148         0.764079   \n",
              "13           0.769160           0.764770           0.765136         0.763695   \n",
              "7            0.767331           0.761478           0.765868         0.760403   \n",
              "3            0.762210           0.762575           0.760929         0.757531   \n",
              "5            0.751783           0.754527           0.753978         0.749411   \n",
              "1            0.750320           0.753064           0.748308         0.747600   \n",
              "14           0.714834           0.722151           0.715200         0.711807   \n",
              "10           0.705872           0.721419           0.705872         0.708368   \n",
              "12           0.705140           0.717212           0.705140         0.705844   \n",
              "8            0.710993           0.708432           0.701847         0.702277   \n",
              "6            0.621547           0.618255           0.620450         0.620155   \n",
              "2            0.610390           0.618072           0.607463         0.611193   \n",
              "4            0.612402           0.609841           0.599781         0.605652   \n",
              "0            0.598683           0.594110           0.592281         0.596196   \n",
              "\n",
              "    std_test_score  rank_test_score  \n",
              "11        0.006843                1  \n",
              "15        0.004789                2  \n",
              "9         0.005349                3  \n",
              "13        0.003547                4  \n",
              "7         0.006600                5  \n",
              "3         0.004750                6  \n",
              "5         0.007298                7  \n",
              "1         0.005014                8  \n",
              "14        0.006601                9  \n",
              "10        0.004772               10  \n",
              "12        0.005468               11  \n",
              "8         0.004788               12  \n",
              "6         0.002837               13  \n",
              "2         0.002828               14  \n",
              "4         0.005021               15  \n",
              "0         0.004893               16  \n",
              "\n",
              "[16 rows x 23 columns]"
            ],
            "text/html": [
              "\n",
              "  <div id=\"df-f074bb9b-45da-4fcf-b360-3c6d962d43b4\">\n",
              "    <div class=\"colab-df-container\">\n",
              "      <div>\n",
              "<style scoped>\n",
              "    .dataframe tbody tr th:only-of-type {\n",
              "        vertical-align: middle;\n",
              "    }\n",
              "\n",
              "    .dataframe tbody tr th {\n",
              "        vertical-align: top;\n",
              "    }\n",
              "\n",
              "    .dataframe thead th {\n",
              "        text-align: right;\n",
              "    }\n",
              "</style>\n",
              "<table border=\"1\" class=\"dataframe\">\n",
              "  <thead>\n",
              "    <tr style=\"text-align: right;\">\n",
              "      <th></th>\n",
              "      <th>mean_fit_time</th>\n",
              "      <th>std_fit_time</th>\n",
              "      <th>mean_score_time</th>\n",
              "      <th>std_score_time</th>\n",
              "      <th>param_CLF__activation</th>\n",
              "      <th>param_CLF__early_stopping</th>\n",
              "      <th>param_CLF__hidden_layer_sizes</th>\n",
              "      <th>param_CLF__max_iter</th>\n",
              "      <th>param_CLF__solver</th>\n",
              "      <th>params</th>\n",
              "      <th>...</th>\n",
              "      <th>split3_test_score</th>\n",
              "      <th>split4_test_score</th>\n",
              "      <th>split5_test_score</th>\n",
              "      <th>split6_test_score</th>\n",
              "      <th>split7_test_score</th>\n",
              "      <th>split8_test_score</th>\n",
              "      <th>split9_test_score</th>\n",
              "      <th>mean_test_score</th>\n",
              "      <th>std_test_score</th>\n",
              "      <th>rank_test_score</th>\n",
              "    </tr>\n",
              "  </thead>\n",
              "  <tbody>\n",
              "    <tr>\n",
              "      <th>11</th>\n",
              "      <td>25.353098</td>\n",
              "      <td>1.046013</td>\n",
              "      <td>0.665189</td>\n",
              "      <td>0.064475</td>\n",
              "      <td>relu</td>\n",
              "      <td>True</td>\n",
              "      <td>100</td>\n",
              "      <td>20</td>\n",
              "      <td>adam</td>\n",
              "      <td>{'CLF__activation': 'relu', 'CLF__early_stoppi...</td>\n",
              "      <td>...</td>\n",
              "      <td>0.771214</td>\n",
              "      <td>0.768471</td>\n",
              "      <td>0.783611</td>\n",
              "      <td>0.776111</td>\n",
              "      <td>0.778672</td>\n",
              "      <td>0.779587</td>\n",
              "      <td>0.775014</td>\n",
              "      <td>0.773919</td>\n",
              "      <td>0.006843</td>\n",
              "      <td>1</td>\n",
              "    </tr>\n",
              "    <tr>\n",
              "      <th>15</th>\n",
              "      <td>26.182120</td>\n",
              "      <td>1.234768</td>\n",
              "      <td>0.679012</td>\n",
              "      <td>0.068078</td>\n",
              "      <td>relu</td>\n",
              "      <td>False</td>\n",
              "      <td>100</td>\n",
              "      <td>20</td>\n",
              "      <td>adam</td>\n",
              "      <td>{'CLF__activation': 'relu', 'CLF__early_stoppi...</td>\n",
              "      <td>...</td>\n",
              "      <td>0.775055</td>\n",
              "      <td>0.776884</td>\n",
              "      <td>0.780867</td>\n",
              "      <td>0.775380</td>\n",
              "      <td>0.772453</td>\n",
              "      <td>0.780684</td>\n",
              "      <td>0.772636</td>\n",
              "      <td>0.773919</td>\n",
              "      <td>0.004789</td>\n",
              "      <td>2</td>\n",
              "    </tr>\n",
              "    <tr>\n",
              "      <th>9</th>\n",
              "      <td>22.382715</td>\n",
              "      <td>0.997460</td>\n",
              "      <td>0.665421</td>\n",
              "      <td>0.069258</td>\n",
              "      <td>relu</td>\n",
              "      <td>True</td>\n",
              "      <td>50</td>\n",
              "      <td>20</td>\n",
              "      <td>adam</td>\n",
              "      <td>{'CLF__activation': 'relu', 'CLF__early_stoppi...</td>\n",
              "      <td>...</td>\n",
              "      <td>0.759510</td>\n",
              "      <td>0.757132</td>\n",
              "      <td>0.772453</td>\n",
              "      <td>0.763673</td>\n",
              "      <td>0.766417</td>\n",
              "      <td>0.767514</td>\n",
              "      <td>0.767148</td>\n",
              "      <td>0.764079</td>\n",
              "      <td>0.005349</td>\n",
              "      <td>3</td>\n",
              "    </tr>\n",
              "    <tr>\n",
              "      <th>13</th>\n",
              "      <td>23.104832</td>\n",
              "      <td>1.205283</td>\n",
              "      <td>0.659968</td>\n",
              "      <td>0.062112</td>\n",
              "      <td>relu</td>\n",
              "      <td>False</td>\n",
              "      <td>50</td>\n",
              "      <td>20</td>\n",
              "      <td>adam</td>\n",
              "      <td>{'CLF__activation': 'relu', 'CLF__early_stoppi...</td>\n",
              "      <td>...</td>\n",
              "      <td>0.760424</td>\n",
              "      <td>0.762253</td>\n",
              "      <td>0.765685</td>\n",
              "      <td>0.761844</td>\n",
              "      <td>0.769160</td>\n",
              "      <td>0.764770</td>\n",
              "      <td>0.765136</td>\n",
              "      <td>0.763695</td>\n",
              "      <td>0.003547</td>\n",
              "      <td>4</td>\n",
              "    </tr>\n",
              "    <tr>\n",
              "      <th>7</th>\n",
              "      <td>27.993065</td>\n",
              "      <td>0.595108</td>\n",
              "      <td>0.720212</td>\n",
              "      <td>0.114195</td>\n",
              "      <td>logistic</td>\n",
              "      <td>False</td>\n",
              "      <td>100</td>\n",
              "      <td>20</td>\n",
              "      <td>adam</td>\n",
              "      <td>{'CLF__activation': 'logistic', 'CLF__early_st...</td>\n",
              "      <td>...</td>\n",
              "      <td>0.746159</td>\n",
              "      <td>0.759693</td>\n",
              "      <td>0.768429</td>\n",
              "      <td>0.762758</td>\n",
              "      <td>0.767331</td>\n",
              "      <td>0.761478</td>\n",
              "      <td>0.765868</td>\n",
              "      <td>0.760403</td>\n",
              "      <td>0.006600</td>\n",
              "      <td>5</td>\n",
              "    </tr>\n",
              "    <tr>\n",
              "      <th>3</th>\n",
              "      <td>26.845431</td>\n",
              "      <td>0.898564</td>\n",
              "      <td>0.724595</td>\n",
              "      <td>0.137451</td>\n",
              "      <td>logistic</td>\n",
              "      <td>True</td>\n",
              "      <td>100</td>\n",
              "      <td>20</td>\n",
              "      <td>adam</td>\n",
              "      <td>{'CLF__activation': 'logistic', 'CLF__early_st...</td>\n",
              "      <td>...</td>\n",
              "      <td>0.753292</td>\n",
              "      <td>0.754938</td>\n",
              "      <td>0.762210</td>\n",
              "      <td>0.752515</td>\n",
              "      <td>0.762210</td>\n",
              "      <td>0.762575</td>\n",
              "      <td>0.760929</td>\n",
              "      <td>0.757531</td>\n",
              "      <td>0.004750</td>\n",
              "      <td>6</td>\n",
              "    </tr>\n",
              "    <tr>\n",
              "      <th>5</th>\n",
              "      <td>23.752508</td>\n",
              "      <td>0.739862</td>\n",
              "      <td>0.673690</td>\n",
              "      <td>0.064628</td>\n",
              "      <td>logistic</td>\n",
              "      <td>False</td>\n",
              "      <td>50</td>\n",
              "      <td>20</td>\n",
              "      <td>adam</td>\n",
              "      <td>{'CLF__activation': 'logistic', 'CLF__early_st...</td>\n",
              "      <td>...</td>\n",
              "      <td>0.735369</td>\n",
              "      <td>0.747623</td>\n",
              "      <td>0.758917</td>\n",
              "      <td>0.748491</td>\n",
              "      <td>0.751783</td>\n",
              "      <td>0.754527</td>\n",
              "      <td>0.753978</td>\n",
              "      <td>0.749411</td>\n",
              "      <td>0.007298</td>\n",
              "      <td>7</td>\n",
              "    </tr>\n",
              "    <tr>\n",
              "      <th>1</th>\n",
              "      <td>23.279632</td>\n",
              "      <td>0.735018</td>\n",
              "      <td>0.718294</td>\n",
              "      <td>0.184231</td>\n",
              "      <td>logistic</td>\n",
              "      <td>True</td>\n",
              "      <td>50</td>\n",
              "      <td>20</td>\n",
              "      <td>adam</td>\n",
              "      <td>{'CLF__activation': 'logistic', 'CLF__early_st...</td>\n",
              "      <td>...</td>\n",
              "      <td>0.740490</td>\n",
              "      <td>0.744696</td>\n",
              "      <td>0.758185</td>\n",
              "      <td>0.747211</td>\n",
              "      <td>0.750320</td>\n",
              "      <td>0.753064</td>\n",
              "      <td>0.748308</td>\n",
              "      <td>0.747600</td>\n",
              "      <td>0.005014</td>\n",
              "      <td>8</td>\n",
              "    </tr>\n",
              "    <tr>\n",
              "      <th>14</th>\n",
              "      <td>25.320510</td>\n",
              "      <td>0.380053</td>\n",
              "      <td>0.681855</td>\n",
              "      <td>0.066166</td>\n",
              "      <td>relu</td>\n",
              "      <td>False</td>\n",
              "      <td>100</td>\n",
              "      <td>20</td>\n",
              "      <td>sgd</td>\n",
              "      <td>{'CLF__activation': 'relu', 'CLF__early_stoppi...</td>\n",
              "      <td>...</td>\n",
              "      <td>0.708120</td>\n",
              "      <td>0.711412</td>\n",
              "      <td>0.719956</td>\n",
              "      <td>0.708432</td>\n",
              "      <td>0.714834</td>\n",
              "      <td>0.722151</td>\n",
              "      <td>0.715200</td>\n",
              "      <td>0.711807</td>\n",
              "      <td>0.006601</td>\n",
              "      <td>9</td>\n",
              "    </tr>\n",
              "    <tr>\n",
              "      <th>10</th>\n",
              "      <td>24.523824</td>\n",
              "      <td>0.631555</td>\n",
              "      <td>0.667320</td>\n",
              "      <td>0.061211</td>\n",
              "      <td>relu</td>\n",
              "      <td>True</td>\n",
              "      <td>100</td>\n",
              "      <td>20</td>\n",
              "      <td>sgd</td>\n",
              "      <td>{'CLF__activation': 'relu', 'CLF__early_stoppi...</td>\n",
              "      <td>...</td>\n",
              "      <td>0.706657</td>\n",
              "      <td>0.706840</td>\n",
              "      <td>0.710262</td>\n",
              "      <td>0.705689</td>\n",
              "      <td>0.705872</td>\n",
              "      <td>0.721419</td>\n",
              "      <td>0.705872</td>\n",
              "      <td>0.708368</td>\n",
              "      <td>0.004772</td>\n",
              "      <td>10</td>\n",
              "    </tr>\n",
              "    <tr>\n",
              "      <th>12</th>\n",
              "      <td>22.496216</td>\n",
              "      <td>1.026138</td>\n",
              "      <td>0.669171</td>\n",
              "      <td>0.061641</td>\n",
              "      <td>relu</td>\n",
              "      <td>False</td>\n",
              "      <td>50</td>\n",
              "      <td>20</td>\n",
              "      <td>sgd</td>\n",
              "      <td>{'CLF__activation': 'relu', 'CLF__early_stoppi...</td>\n",
              "      <td>...</td>\n",
              "      <td>0.704645</td>\n",
              "      <td>0.702268</td>\n",
              "      <td>0.712639</td>\n",
              "      <td>0.701847</td>\n",
              "      <td>0.705140</td>\n",
              "      <td>0.717212</td>\n",
              "      <td>0.705140</td>\n",
              "      <td>0.705844</td>\n",
              "      <td>0.005468</td>\n",
              "      <td>11</td>\n",
              "    </tr>\n",
              "    <tr>\n",
              "      <th>8</th>\n",
              "      <td>22.362300</td>\n",
              "      <td>1.246390</td>\n",
              "      <td>0.664889</td>\n",
              "      <td>0.065750</td>\n",
              "      <td>relu</td>\n",
              "      <td>True</td>\n",
              "      <td>50</td>\n",
              "      <td>20</td>\n",
              "      <td>sgd</td>\n",
              "      <td>{'CLF__activation': 'relu', 'CLF__early_stoppi...</td>\n",
              "      <td>...</td>\n",
              "      <td>0.697696</td>\n",
              "      <td>0.703548</td>\n",
              "      <td>0.705323</td>\n",
              "      <td>0.695994</td>\n",
              "      <td>0.710993</td>\n",
              "      <td>0.708432</td>\n",
              "      <td>0.701847</td>\n",
              "      <td>0.702277</td>\n",
              "      <td>0.004788</td>\n",
              "      <td>12</td>\n",
              "    </tr>\n",
              "    <tr>\n",
              "      <th>6</th>\n",
              "      <td>26.970530</td>\n",
              "      <td>1.063500</td>\n",
              "      <td>0.684820</td>\n",
              "      <td>0.066698</td>\n",
              "      <td>logistic</td>\n",
              "      <td>False</td>\n",
              "      <td>100</td>\n",
              "      <td>20</td>\n",
              "      <td>sgd</td>\n",
              "      <td>{'CLF__activation': 'logistic', 'CLF__early_st...</td>\n",
              "      <td>...</td>\n",
              "      <td>0.619239</td>\n",
              "      <td>0.624909</td>\n",
              "      <td>0.622096</td>\n",
              "      <td>0.617340</td>\n",
              "      <td>0.621547</td>\n",
              "      <td>0.618255</td>\n",
              "      <td>0.620450</td>\n",
              "      <td>0.620155</td>\n",
              "      <td>0.002837</td>\n",
              "      <td>13</td>\n",
              "    </tr>\n",
              "    <tr>\n",
              "      <th>2</th>\n",
              "      <td>26.139558</td>\n",
              "      <td>0.152897</td>\n",
              "      <td>0.684357</td>\n",
              "      <td>0.069368</td>\n",
              "      <td>logistic</td>\n",
              "      <td>True</td>\n",
              "      <td>100</td>\n",
              "      <td>20</td>\n",
              "      <td>sgd</td>\n",
              "      <td>{'CLF__activation': 'logistic', 'CLF__early_st...</td>\n",
              "      <td>...</td>\n",
              "      <td>0.611192</td>\n",
              "      <td>0.611010</td>\n",
              "      <td>0.610390</td>\n",
              "      <td>0.612768</td>\n",
              "      <td>0.610390</td>\n",
              "      <td>0.618072</td>\n",
              "      <td>0.607463</td>\n",
              "      <td>0.611193</td>\n",
              "      <td>0.002828</td>\n",
              "      <td>14</td>\n",
              "    </tr>\n",
              "    <tr>\n",
              "      <th>4</th>\n",
              "      <td>23.264691</td>\n",
              "      <td>0.900439</td>\n",
              "      <td>0.677467</td>\n",
              "      <td>0.069848</td>\n",
              "      <td>logistic</td>\n",
              "      <td>False</td>\n",
              "      <td>50</td>\n",
              "      <td>20</td>\n",
              "      <td>sgd</td>\n",
              "      <td>{'CLF__activation': 'logistic', 'CLF__early_st...</td>\n",
              "      <td>...</td>\n",
              "      <td>0.603877</td>\n",
              "      <td>0.605523</td>\n",
              "      <td>0.610573</td>\n",
              "      <td>0.607463</td>\n",
              "      <td>0.612402</td>\n",
              "      <td>0.609841</td>\n",
              "      <td>0.599781</td>\n",
              "      <td>0.605652</td>\n",
              "      <td>0.005021</td>\n",
              "      <td>15</td>\n",
              "    </tr>\n",
              "    <tr>\n",
              "      <th>0</th>\n",
              "      <td>22.811188</td>\n",
              "      <td>0.818217</td>\n",
              "      <td>0.668414</td>\n",
              "      <td>0.066977</td>\n",
              "      <td>logistic</td>\n",
              "      <td>True</td>\n",
              "      <td>50</td>\n",
              "      <td>20</td>\n",
              "      <td>sgd</td>\n",
              "      <td>{'CLF__activation': 'logistic', 'CLF__early_st...</td>\n",
              "      <td>...</td>\n",
              "      <td>0.590161</td>\n",
              "      <td>0.600768</td>\n",
              "      <td>0.604170</td>\n",
              "      <td>0.588988</td>\n",
              "      <td>0.598683</td>\n",
              "      <td>0.594110</td>\n",
              "      <td>0.592281</td>\n",
              "      <td>0.596196</td>\n",
              "      <td>0.004893</td>\n",
              "      <td>16</td>\n",
              "    </tr>\n",
              "  </tbody>\n",
              "</table>\n",
              "<p>16 rows × 23 columns</p>\n",
              "</div>\n",
              "      <button class=\"colab-df-convert\" onclick=\"convertToInteractive('df-f074bb9b-45da-4fcf-b360-3c6d962d43b4')\"\n",
              "              title=\"Convert this dataframe to an interactive table.\"\n",
              "              style=\"display:none;\">\n",
              "        \n",
              "  <svg xmlns=\"http://www.w3.org/2000/svg\" height=\"24px\"viewBox=\"0 0 24 24\"\n",
              "       width=\"24px\">\n",
              "    <path d=\"M0 0h24v24H0V0z\" fill=\"none\"/>\n",
              "    <path d=\"M18.56 5.44l.94 2.06.94-2.06 2.06-.94-2.06-.94-.94-2.06-.94 2.06-2.06.94zm-11 1L8.5 8.5l.94-2.06 2.06-.94-2.06-.94L8.5 2.5l-.94 2.06-2.06.94zm10 10l.94 2.06.94-2.06 2.06-.94-2.06-.94-.94-2.06-.94 2.06-2.06.94z\"/><path d=\"M17.41 7.96l-1.37-1.37c-.4-.4-.92-.59-1.43-.59-.52 0-1.04.2-1.43.59L10.3 9.45l-7.72 7.72c-.78.78-.78 2.05 0 2.83L4 21.41c.39.39.9.59 1.41.59.51 0 1.02-.2 1.41-.59l7.78-7.78 2.81-2.81c.8-.78.8-2.07 0-2.86zM5.41 20L4 18.59l7.72-7.72 1.47 1.35L5.41 20z\"/>\n",
              "  </svg>\n",
              "      </button>\n",
              "      \n",
              "  <style>\n",
              "    .colab-df-container {\n",
              "      display:flex;\n",
              "      flex-wrap:wrap;\n",
              "      gap: 12px;\n",
              "    }\n",
              "\n",
              "    .colab-df-convert {\n",
              "      background-color: #E8F0FE;\n",
              "      border: none;\n",
              "      border-radius: 50%;\n",
              "      cursor: pointer;\n",
              "      display: none;\n",
              "      fill: #1967D2;\n",
              "      height: 32px;\n",
              "      padding: 0 0 0 0;\n",
              "      width: 32px;\n",
              "    }\n",
              "\n",
              "    .colab-df-convert:hover {\n",
              "      background-color: #E2EBFA;\n",
              "      box-shadow: 0px 1px 2px rgba(60, 64, 67, 0.3), 0px 1px 3px 1px rgba(60, 64, 67, 0.15);\n",
              "      fill: #174EA6;\n",
              "    }\n",
              "\n",
              "    [theme=dark] .colab-df-convert {\n",
              "      background-color: #3B4455;\n",
              "      fill: #D2E3FC;\n",
              "    }\n",
              "\n",
              "    [theme=dark] .colab-df-convert:hover {\n",
              "      background-color: #434B5C;\n",
              "      box-shadow: 0px 1px 3px 1px rgba(0, 0, 0, 0.15);\n",
              "      filter: drop-shadow(0px 1px 2px rgba(0, 0, 0, 0.3));\n",
              "      fill: #FFFFFF;\n",
              "    }\n",
              "  </style>\n",
              "\n",
              "      <script>\n",
              "        const buttonEl =\n",
              "          document.querySelector('#df-f074bb9b-45da-4fcf-b360-3c6d962d43b4 button.colab-df-convert');\n",
              "        buttonEl.style.display =\n",
              "          google.colab.kernel.accessAllowed ? 'block' : 'none';\n",
              "\n",
              "        async function convertToInteractive(key) {\n",
              "          const element = document.querySelector('#df-f074bb9b-45da-4fcf-b360-3c6d962d43b4');\n",
              "          const dataTable =\n",
              "            await google.colab.kernel.invokeFunction('convertToInteractive',\n",
              "                                                     [key], {});\n",
              "          if (!dataTable) return;\n",
              "\n",
              "          const docLinkHtml = 'Like what you see? Visit the ' +\n",
              "            '<a target=\"_blank\" href=https://colab.research.google.com/notebooks/data_table.ipynb>data table notebook</a>'\n",
              "            + ' to learn more about interactive tables.';\n",
              "          element.innerHTML = '';\n",
              "          dataTable['output_type'] = 'display_data';\n",
              "          await google.colab.output.renderOutput(dataTable, element);\n",
              "          const docLink = document.createElement('div');\n",
              "          docLink.innerHTML = docLinkHtml;\n",
              "          element.appendChild(docLink);\n",
              "        }\n",
              "      </script>\n",
              "    </div>\n",
              "  </div>\n",
              "  "
            ]
          },
          "metadata": {},
          "execution_count": 42
        }
      ]
    },
    {
      "cell_type": "code",
      "source": [
        "models[2].cv_results_"
      ],
      "metadata": {
        "id": "-J9IckukbvH1"
      },
      "execution_count": null,
      "outputs": []
    },
    {
      "cell_type": "code",
      "source": [
        "preds = models[2].predict(df_test['tweet'].to_numpy())\n",
        "f1_micro = f1_score(preds, y_test, average='micro')\n",
        "f1_macro = f1_score(preds, y_test, average='macro')\n",
        "print(f'F1-micro-score on the testset: {f1_micro}')\n",
        "print(f'F1-macro-score on the testset: {f1_macro}')"
      ],
      "metadata": {
        "colab": {
          "base_uri": "https://localhost:8080/"
        },
        "id": "s1jhk1TnVWJQ",
        "outputId": "570dd8f7-9e2a-47f7-9036-a30dbaf93f97"
      },
      "execution_count": 36,
      "outputs": [
        {
          "output_type": "stream",
          "name": "stdout",
          "text": [
            "F1-micro-score on the testset: 0.7854507116499735\n",
            "F1-macro-score on the testset: 0.2576343810253325\n"
          ]
        },
        {
          "output_type": "stream",
          "name": "stderr",
          "text": [
            "/usr/local/lib/python3.7/dist-packages/sklearn/utils/validation.py:598: FutureWarning: np.matrix usage is deprecated in 1.0 and will raise a TypeError in 1.2. Please convert to a numpy array with np.asarray. For more information see: https://numpy.org/doc/stable/reference/generated/numpy.matrix.html\n",
            "  FutureWarning,\n"
          ]
        }
      ]
    },
    {
      "cell_type": "code",
      "source": [
        "# calculate accuracy\n",
        "\n",
        "correct = 0\n",
        "\n",
        "for index, prediction in enumerate(preds):\n",
        "  if prediction == y_test[index]:\n",
        "    correct += 1\n",
        "\n",
        "print('Accuracy: ', correct/y_test.shape[0])\n"
      ],
      "metadata": {
        "colab": {
          "base_uri": "https://localhost:8080/"
        },
        "id": "JS5Bu7rWVo0Z",
        "outputId": "d7158f53-564b-4c15-e9ea-24b3b4e97e13"
      },
      "execution_count": 38,
      "outputs": [
        {
          "output_type": "stream",
          "name": "stdout",
          "text": [
            "Accuracy:  0.7854507116499736\n"
          ]
        }
      ]
    },
    {
      "cell_type": "markdown",
      "metadata": {
        "id": "-kqDIw95Nsr2"
      },
      "source": [
        "### 8. Confusion matrix\n",
        "Let's check the confusion matrix:"
      ]
    },
    {
      "cell_type": "code",
      "execution_count": 37,
      "metadata": {
        "id": "Xeb6jHmeAeVK",
        "colab": {
          "base_uri": "https://localhost:8080/",
          "height": 1000
        },
        "outputId": "d083f5ad-726c-4e32-b78b-2c41ec36ee76"
      },
      "outputs": [
        {
          "output_type": "execute_result",
          "data": {
            "text/plain": [
              "          ar  ar_LATN  bn  bs  ca  cs  da  de  el    en  ...  th  tl   tr  uk  \\\n",
              "ar       192        0   0   0   0   0   0   0   0     1  ...   9   0    0   0   \n",
              "ar_LATN    0        0   0   0   0   0   0   0   0     1  ...   0   1    0   0   \n",
              "bn         0        0   0   0   0   0   0   0   0     0  ...   0   0    0   0   \n",
              "bs         0        0   0   0   0   0   0   0   0     1  ...   0   0    0   0   \n",
              "ca         0        0   0   0   0   0   0   0   0     2  ...   0   0    0   0   \n",
              "cs         0        0   0   0   0   0   0   0   0     0  ...   0   0    0   0   \n",
              "da         0        0   0   0   0   0   0   0   0     0  ...   0   0    0   0   \n",
              "de         0        0   0   0   0   0   0  27   0     2  ...   0   0    0   0   \n",
              "el         0        0   0   0   0   0   0   0   0     0  ...   0   0    0   0   \n",
              "en         2        1   0   0   1   0   1  14   1  4348  ...   2  11   15   0   \n",
              "es         0        0   0   0   2   0   0   0   1    55  ...   0  10    3   0   \n",
              "fa         0        0   0   0   0   0   0   0   0     0  ...   0   0    0   0   \n",
              "fi         0        0   0   0   0   0   0   0   0     2  ...   0   0    1   0   \n",
              "fr         0        0   0   0   0   0   0   1   0    26  ...   1   1    3   0   \n",
              "gl         0        0   0   0   0   0   0   0   0     0  ...   0   0    0   0   \n",
              "he         0        0   0   0   0   0   0   0   0     0  ...   0   0    0   0   \n",
              "hi         0        0   0   0   0   0   0   0   0     0  ...   0   0    0   0   \n",
              "hi-Latn    0        0   0   0   0   0   0   0   0     0  ...   0   0    0   0   \n",
              "hr         0        0   0   0   0   0   0   0   0     0  ...   0   0    0   0   \n",
              "hu         0        0   0   0   0   0   0   0   0     1  ...   0   0    0   0   \n",
              "id         0        0   0   0   0   0   0   0   0    22  ...   0  16    9   0   \n",
              "it         0        0   0   0   0   0   0   0   0     4  ...   0   1    0   0   \n",
              "ja       330        0   0   0   0   0   0   0   1    11  ...  70   0    0   0   \n",
              "jv         0        0   0   0   0   0   0   0   0     0  ...   0   0    0   0   \n",
              "ko         0        0   0   0   0   0   0   0   0     0  ...   0   0    0   0   \n",
              "ms         0        0   0   0   0   0   0   0   0     0  ...   0   0    0   0   \n",
              "ne         0        0   0   0   0   0   0   0   0     0  ...   0   0    0   0   \n",
              "nl         0        0   0   0   0   0   0   3   0     7  ...   0   0    1   0   \n",
              "no         0        0   0   0   0   0   0   1   0     0  ...   0   0    0   0   \n",
              "pl         0        0   0   0   0   0   0   0   0     0  ...   0   0    0   0   \n",
              "pt         0        0   0   1   0   1   0   0   0    22  ...   0   2    1   0   \n",
              "ro         0        0   0   0   0   0   0   0   0     0  ...   0   0    0   0   \n",
              "ru         0        0   0   0   0   0   0   0   3     0  ...   0   0    0   0   \n",
              "sq         0        0   0   0   0   0   0   0   0     0  ...   0   0    0   0   \n",
              "sr         0        0   0   0   0   0   0   0   0     2  ...   0   0    0   0   \n",
              "su         0        0   0   0   0   0   0   0   0     1  ...   0   0    0   0   \n",
              "sv         0        0   0   0   0   0   0   0   0     0  ...   0   0    0   0   \n",
              "sw         0        0   0   0   0   0   0   0   0     1  ...   0   0    0   0   \n",
              "ta         0        0   0   0   0   0   0   0   0     0  ...   0   0    0   0   \n",
              "th         0        0   0   0   0   0   0   0   0     2  ...  16   0    0   0   \n",
              "tl         0        0   0   0   0   0   0   0   0     4  ...   0  33    0   0   \n",
              "tr         0        0   0   0   0   0   0   2   0     8  ...   0   0  125   0   \n",
              "uk         0        0   0   0   0   0   0   0   0     0  ...   0   0    0   0   \n",
              "und        5        2   0   0   0   0   0   2   5   235  ...   0  14   16   2   \n",
              "ur         0        0   0   0   0   0   0   0   0     0  ...   0   0    0   0   \n",
              "ur_LATN    0        0   0   0   0   0   0   0   0     0  ...   0   0    0   0   \n",
              "vi         0        0   0   0   0   0   0   0   0     0  ...   0   0    0   0   \n",
              "zh-CN      0        0   0   0   0   0   0   0   0     0  ...   0   0    0   0   \n",
              "zh-TW      0        0   0   0   0   0   0   0   0     0  ...   0   0    0   0   \n",
              "\n",
              "         und  ur  ur_LATN  vi  zh-CN  zh-TW  \n",
              "ar         6   1        0   0      0      1  \n",
              "ar_LATN    1   0        0   0      0      0  \n",
              "bn         0   0        0   0      0      0  \n",
              "bs         0   0        0   0      0      0  \n",
              "ca         0   0        0   0      0      0  \n",
              "cs         0   0        0   0      0      0  \n",
              "da         0   0        0   0      0      0  \n",
              "de         0   0        0   0      0      0  \n",
              "el         0   0        0   0      0      0  \n",
              "en       183   0        0   0      0      0  \n",
              "es        58   0        0   0      0      0  \n",
              "fa         0   0        0   0      0      0  \n",
              "fi         1   0        0   0      0      0  \n",
              "fr        12   0        0   0      0      0  \n",
              "gl         0   0        0   0      0      0  \n",
              "he         0   0        0   0      0      0  \n",
              "hi         0   0        0   0      0      0  \n",
              "hi-Latn    1   0        0   0      0      0  \n",
              "hr         0   0        0   0      0      0  \n",
              "hu         1   0        0   0      0      0  \n",
              "id        58   0        0   1      0      0  \n",
              "it         7   0        0   0      0      0  \n",
              "ja       108   4        0   0      1      3  \n",
              "jv         1   0        0   0      0      0  \n",
              "ko         0   0        0   0      0      0  \n",
              "ms         0   0        0   0      0      0  \n",
              "ne         0   0        0   0      0      0  \n",
              "nl         1   0        0   0      0      0  \n",
              "no         0   0        0   0      0      0  \n",
              "pl         0   0        0   0      0      0  \n",
              "pt        27   0        0   0      0      0  \n",
              "ro         0   0        0   0      0      0  \n",
              "ru         9   0        0   0      0      0  \n",
              "sq         0   0        0   0      0      0  \n",
              "sr         1   0        0   0      0      0  \n",
              "su         0   0        0   0      0      0  \n",
              "sv         0   0        0   0      0      0  \n",
              "sw         0   0        0   0      0      0  \n",
              "ta         0   0        0   0      0      0  \n",
              "th         1   0        0   0      0      0  \n",
              "tl         5   0        0   0      0      0  \n",
              "tr        16   0        0   0      0      0  \n",
              "uk         0   0        0   0      0      0  \n",
              "und      755   0        1   2      0      0  \n",
              "ur         0   0        0   0      0      0  \n",
              "ur_LATN    1   0        0   0      0      0  \n",
              "vi         0   0        0   2      0      0  \n",
              "zh-CN      0   0        0   0      0      0  \n",
              "zh-TW      0   0        0   0      0      0  \n",
              "\n",
              "[49 rows x 49 columns]"
            ],
            "text/html": [
              "\n",
              "  <div id=\"df-23c0c090-e435-4792-b7bd-b7f43f92a7d8\">\n",
              "    <div class=\"colab-df-container\">\n",
              "      <div>\n",
              "<style scoped>\n",
              "    .dataframe tbody tr th:only-of-type {\n",
              "        vertical-align: middle;\n",
              "    }\n",
              "\n",
              "    .dataframe tbody tr th {\n",
              "        vertical-align: top;\n",
              "    }\n",
              "\n",
              "    .dataframe thead th {\n",
              "        text-align: right;\n",
              "    }\n",
              "</style>\n",
              "<table border=\"1\" class=\"dataframe\">\n",
              "  <thead>\n",
              "    <tr style=\"text-align: right;\">\n",
              "      <th></th>\n",
              "      <th>ar</th>\n",
              "      <th>ar_LATN</th>\n",
              "      <th>bn</th>\n",
              "      <th>bs</th>\n",
              "      <th>ca</th>\n",
              "      <th>cs</th>\n",
              "      <th>da</th>\n",
              "      <th>de</th>\n",
              "      <th>el</th>\n",
              "      <th>en</th>\n",
              "      <th>...</th>\n",
              "      <th>th</th>\n",
              "      <th>tl</th>\n",
              "      <th>tr</th>\n",
              "      <th>uk</th>\n",
              "      <th>und</th>\n",
              "      <th>ur</th>\n",
              "      <th>ur_LATN</th>\n",
              "      <th>vi</th>\n",
              "      <th>zh-CN</th>\n",
              "      <th>zh-TW</th>\n",
              "    </tr>\n",
              "  </thead>\n",
              "  <tbody>\n",
              "    <tr>\n",
              "      <th>ar</th>\n",
              "      <td>192</td>\n",
              "      <td>0</td>\n",
              "      <td>0</td>\n",
              "      <td>0</td>\n",
              "      <td>0</td>\n",
              "      <td>0</td>\n",
              "      <td>0</td>\n",
              "      <td>0</td>\n",
              "      <td>0</td>\n",
              "      <td>1</td>\n",
              "      <td>...</td>\n",
              "      <td>9</td>\n",
              "      <td>0</td>\n",
              "      <td>0</td>\n",
              "      <td>0</td>\n",
              "      <td>6</td>\n",
              "      <td>1</td>\n",
              "      <td>0</td>\n",
              "      <td>0</td>\n",
              "      <td>0</td>\n",
              "      <td>1</td>\n",
              "    </tr>\n",
              "    <tr>\n",
              "      <th>ar_LATN</th>\n",
              "      <td>0</td>\n",
              "      <td>0</td>\n",
              "      <td>0</td>\n",
              "      <td>0</td>\n",
              "      <td>0</td>\n",
              "      <td>0</td>\n",
              "      <td>0</td>\n",
              "      <td>0</td>\n",
              "      <td>0</td>\n",
              "      <td>1</td>\n",
              "      <td>...</td>\n",
              "      <td>0</td>\n",
              "      <td>1</td>\n",
              "      <td>0</td>\n",
              "      <td>0</td>\n",
              "      <td>1</td>\n",
              "      <td>0</td>\n",
              "      <td>0</td>\n",
              "      <td>0</td>\n",
              "      <td>0</td>\n",
              "      <td>0</td>\n",
              "    </tr>\n",
              "    <tr>\n",
              "      <th>bn</th>\n",
              "      <td>0</td>\n",
              "      <td>0</td>\n",
              "      <td>0</td>\n",
              "      <td>0</td>\n",
              "      <td>0</td>\n",
              "      <td>0</td>\n",
              "      <td>0</td>\n",
              "      <td>0</td>\n",
              "      <td>0</td>\n",
              "      <td>0</td>\n",
              "      <td>...</td>\n",
              "      <td>0</td>\n",
              "      <td>0</td>\n",
              "      <td>0</td>\n",
              "      <td>0</td>\n",
              "      <td>0</td>\n",
              "      <td>0</td>\n",
              "      <td>0</td>\n",
              "      <td>0</td>\n",
              "      <td>0</td>\n",
              "      <td>0</td>\n",
              "    </tr>\n",
              "    <tr>\n",
              "      <th>bs</th>\n",
              "      <td>0</td>\n",
              "      <td>0</td>\n",
              "      <td>0</td>\n",
              "      <td>0</td>\n",
              "      <td>0</td>\n",
              "      <td>0</td>\n",
              "      <td>0</td>\n",
              "      <td>0</td>\n",
              "      <td>0</td>\n",
              "      <td>1</td>\n",
              "      <td>...</td>\n",
              "      <td>0</td>\n",
              "      <td>0</td>\n",
              "      <td>0</td>\n",
              "      <td>0</td>\n",
              "      <td>0</td>\n",
              "      <td>0</td>\n",
              "      <td>0</td>\n",
              "      <td>0</td>\n",
              "      <td>0</td>\n",
              "      <td>0</td>\n",
              "    </tr>\n",
              "    <tr>\n",
              "      <th>ca</th>\n",
              "      <td>0</td>\n",
              "      <td>0</td>\n",
              "      <td>0</td>\n",
              "      <td>0</td>\n",
              "      <td>0</td>\n",
              "      <td>0</td>\n",
              "      <td>0</td>\n",
              "      <td>0</td>\n",
              "      <td>0</td>\n",
              "      <td>2</td>\n",
              "      <td>...</td>\n",
              "      <td>0</td>\n",
              "      <td>0</td>\n",
              "      <td>0</td>\n",
              "      <td>0</td>\n",
              "      <td>0</td>\n",
              "      <td>0</td>\n",
              "      <td>0</td>\n",
              "      <td>0</td>\n",
              "      <td>0</td>\n",
              "      <td>0</td>\n",
              "    </tr>\n",
              "    <tr>\n",
              "      <th>cs</th>\n",
              "      <td>0</td>\n",
              "      <td>0</td>\n",
              "      <td>0</td>\n",
              "      <td>0</td>\n",
              "      <td>0</td>\n",
              "      <td>0</td>\n",
              "      <td>0</td>\n",
              "      <td>0</td>\n",
              "      <td>0</td>\n",
              "      <td>0</td>\n",
              "      <td>...</td>\n",
              "      <td>0</td>\n",
              "      <td>0</td>\n",
              "      <td>0</td>\n",
              "      <td>0</td>\n",
              "      <td>0</td>\n",
              "      <td>0</td>\n",
              "      <td>0</td>\n",
              "      <td>0</td>\n",
              "      <td>0</td>\n",
              "      <td>0</td>\n",
              "    </tr>\n",
              "    <tr>\n",
              "      <th>da</th>\n",
              "      <td>0</td>\n",
              "      <td>0</td>\n",
              "      <td>0</td>\n",
              "      <td>0</td>\n",
              "      <td>0</td>\n",
              "      <td>0</td>\n",
              "      <td>0</td>\n",
              "      <td>0</td>\n",
              "      <td>0</td>\n",
              "      <td>0</td>\n",
              "      <td>...</td>\n",
              "      <td>0</td>\n",
              "      <td>0</td>\n",
              "      <td>0</td>\n",
              "      <td>0</td>\n",
              "      <td>0</td>\n",
              "      <td>0</td>\n",
              "      <td>0</td>\n",
              "      <td>0</td>\n",
              "      <td>0</td>\n",
              "      <td>0</td>\n",
              "    </tr>\n",
              "    <tr>\n",
              "      <th>de</th>\n",
              "      <td>0</td>\n",
              "      <td>0</td>\n",
              "      <td>0</td>\n",
              "      <td>0</td>\n",
              "      <td>0</td>\n",
              "      <td>0</td>\n",
              "      <td>0</td>\n",
              "      <td>27</td>\n",
              "      <td>0</td>\n",
              "      <td>2</td>\n",
              "      <td>...</td>\n",
              "      <td>0</td>\n",
              "      <td>0</td>\n",
              "      <td>0</td>\n",
              "      <td>0</td>\n",
              "      <td>0</td>\n",
              "      <td>0</td>\n",
              "      <td>0</td>\n",
              "      <td>0</td>\n",
              "      <td>0</td>\n",
              "      <td>0</td>\n",
              "    </tr>\n",
              "    <tr>\n",
              "      <th>el</th>\n",
              "      <td>0</td>\n",
              "      <td>0</td>\n",
              "      <td>0</td>\n",
              "      <td>0</td>\n",
              "      <td>0</td>\n",
              "      <td>0</td>\n",
              "      <td>0</td>\n",
              "      <td>0</td>\n",
              "      <td>0</td>\n",
              "      <td>0</td>\n",
              "      <td>...</td>\n",
              "      <td>0</td>\n",
              "      <td>0</td>\n",
              "      <td>0</td>\n",
              "      <td>0</td>\n",
              "      <td>0</td>\n",
              "      <td>0</td>\n",
              "      <td>0</td>\n",
              "      <td>0</td>\n",
              "      <td>0</td>\n",
              "      <td>0</td>\n",
              "    </tr>\n",
              "    <tr>\n",
              "      <th>en</th>\n",
              "      <td>2</td>\n",
              "      <td>1</td>\n",
              "      <td>0</td>\n",
              "      <td>0</td>\n",
              "      <td>1</td>\n",
              "      <td>0</td>\n",
              "      <td>1</td>\n",
              "      <td>14</td>\n",
              "      <td>1</td>\n",
              "      <td>4348</td>\n",
              "      <td>...</td>\n",
              "      <td>2</td>\n",
              "      <td>11</td>\n",
              "      <td>15</td>\n",
              "      <td>0</td>\n",
              "      <td>183</td>\n",
              "      <td>0</td>\n",
              "      <td>0</td>\n",
              "      <td>0</td>\n",
              "      <td>0</td>\n",
              "      <td>0</td>\n",
              "    </tr>\n",
              "    <tr>\n",
              "      <th>es</th>\n",
              "      <td>0</td>\n",
              "      <td>0</td>\n",
              "      <td>0</td>\n",
              "      <td>0</td>\n",
              "      <td>2</td>\n",
              "      <td>0</td>\n",
              "      <td>0</td>\n",
              "      <td>0</td>\n",
              "      <td>1</td>\n",
              "      <td>55</td>\n",
              "      <td>...</td>\n",
              "      <td>0</td>\n",
              "      <td>10</td>\n",
              "      <td>3</td>\n",
              "      <td>0</td>\n",
              "      <td>58</td>\n",
              "      <td>0</td>\n",
              "      <td>0</td>\n",
              "      <td>0</td>\n",
              "      <td>0</td>\n",
              "      <td>0</td>\n",
              "    </tr>\n",
              "    <tr>\n",
              "      <th>fa</th>\n",
              "      <td>0</td>\n",
              "      <td>0</td>\n",
              "      <td>0</td>\n",
              "      <td>0</td>\n",
              "      <td>0</td>\n",
              "      <td>0</td>\n",
              "      <td>0</td>\n",
              "      <td>0</td>\n",
              "      <td>0</td>\n",
              "      <td>0</td>\n",
              "      <td>...</td>\n",
              "      <td>0</td>\n",
              "      <td>0</td>\n",
              "      <td>0</td>\n",
              "      <td>0</td>\n",
              "      <td>0</td>\n",
              "      <td>0</td>\n",
              "      <td>0</td>\n",
              "      <td>0</td>\n",
              "      <td>0</td>\n",
              "      <td>0</td>\n",
              "    </tr>\n",
              "    <tr>\n",
              "      <th>fi</th>\n",
              "      <td>0</td>\n",
              "      <td>0</td>\n",
              "      <td>0</td>\n",
              "      <td>0</td>\n",
              "      <td>0</td>\n",
              "      <td>0</td>\n",
              "      <td>0</td>\n",
              "      <td>0</td>\n",
              "      <td>0</td>\n",
              "      <td>2</td>\n",
              "      <td>...</td>\n",
              "      <td>0</td>\n",
              "      <td>0</td>\n",
              "      <td>1</td>\n",
              "      <td>0</td>\n",
              "      <td>1</td>\n",
              "      <td>0</td>\n",
              "      <td>0</td>\n",
              "      <td>0</td>\n",
              "      <td>0</td>\n",
              "      <td>0</td>\n",
              "    </tr>\n",
              "    <tr>\n",
              "      <th>fr</th>\n",
              "      <td>0</td>\n",
              "      <td>0</td>\n",
              "      <td>0</td>\n",
              "      <td>0</td>\n",
              "      <td>0</td>\n",
              "      <td>0</td>\n",
              "      <td>0</td>\n",
              "      <td>1</td>\n",
              "      <td>0</td>\n",
              "      <td>26</td>\n",
              "      <td>...</td>\n",
              "      <td>1</td>\n",
              "      <td>1</td>\n",
              "      <td>3</td>\n",
              "      <td>0</td>\n",
              "      <td>12</td>\n",
              "      <td>0</td>\n",
              "      <td>0</td>\n",
              "      <td>0</td>\n",
              "      <td>0</td>\n",
              "      <td>0</td>\n",
              "    </tr>\n",
              "    <tr>\n",
              "      <th>gl</th>\n",
              "      <td>0</td>\n",
              "      <td>0</td>\n",
              "      <td>0</td>\n",
              "      <td>0</td>\n",
              "      <td>0</td>\n",
              "      <td>0</td>\n",
              "      <td>0</td>\n",
              "      <td>0</td>\n",
              "      <td>0</td>\n",
              "      <td>0</td>\n",
              "      <td>...</td>\n",
              "      <td>0</td>\n",
              "      <td>0</td>\n",
              "      <td>0</td>\n",
              "      <td>0</td>\n",
              "      <td>0</td>\n",
              "      <td>0</td>\n",
              "      <td>0</td>\n",
              "      <td>0</td>\n",
              "      <td>0</td>\n",
              "      <td>0</td>\n",
              "    </tr>\n",
              "    <tr>\n",
              "      <th>he</th>\n",
              "      <td>0</td>\n",
              "      <td>0</td>\n",
              "      <td>0</td>\n",
              "      <td>0</td>\n",
              "      <td>0</td>\n",
              "      <td>0</td>\n",
              "      <td>0</td>\n",
              "      <td>0</td>\n",
              "      <td>0</td>\n",
              "      <td>0</td>\n",
              "      <td>...</td>\n",
              "      <td>0</td>\n",
              "      <td>0</td>\n",
              "      <td>0</td>\n",
              "      <td>0</td>\n",
              "      <td>0</td>\n",
              "      <td>0</td>\n",
              "      <td>0</td>\n",
              "      <td>0</td>\n",
              "      <td>0</td>\n",
              "      <td>0</td>\n",
              "    </tr>\n",
              "    <tr>\n",
              "      <th>hi</th>\n",
              "      <td>0</td>\n",
              "      <td>0</td>\n",
              "      <td>0</td>\n",
              "      <td>0</td>\n",
              "      <td>0</td>\n",
              "      <td>0</td>\n",
              "      <td>0</td>\n",
              "      <td>0</td>\n",
              "      <td>0</td>\n",
              "      <td>0</td>\n",
              "      <td>...</td>\n",
              "      <td>0</td>\n",
              "      <td>0</td>\n",
              "      <td>0</td>\n",
              "      <td>0</td>\n",
              "      <td>0</td>\n",
              "      <td>0</td>\n",
              "      <td>0</td>\n",
              "      <td>0</td>\n",
              "      <td>0</td>\n",
              "      <td>0</td>\n",
              "    </tr>\n",
              "    <tr>\n",
              "      <th>hi-Latn</th>\n",
              "      <td>0</td>\n",
              "      <td>0</td>\n",
              "      <td>0</td>\n",
              "      <td>0</td>\n",
              "      <td>0</td>\n",
              "      <td>0</td>\n",
              "      <td>0</td>\n",
              "      <td>0</td>\n",
              "      <td>0</td>\n",
              "      <td>0</td>\n",
              "      <td>...</td>\n",
              "      <td>0</td>\n",
              "      <td>0</td>\n",
              "      <td>0</td>\n",
              "      <td>0</td>\n",
              "      <td>1</td>\n",
              "      <td>0</td>\n",
              "      <td>0</td>\n",
              "      <td>0</td>\n",
              "      <td>0</td>\n",
              "      <td>0</td>\n",
              "    </tr>\n",
              "    <tr>\n",
              "      <th>hr</th>\n",
              "      <td>0</td>\n",
              "      <td>0</td>\n",
              "      <td>0</td>\n",
              "      <td>0</td>\n",
              "      <td>0</td>\n",
              "      <td>0</td>\n",
              "      <td>0</td>\n",
              "      <td>0</td>\n",
              "      <td>0</td>\n",
              "      <td>0</td>\n",
              "      <td>...</td>\n",
              "      <td>0</td>\n",
              "      <td>0</td>\n",
              "      <td>0</td>\n",
              "      <td>0</td>\n",
              "      <td>0</td>\n",
              "      <td>0</td>\n",
              "      <td>0</td>\n",
              "      <td>0</td>\n",
              "      <td>0</td>\n",
              "      <td>0</td>\n",
              "    </tr>\n",
              "    <tr>\n",
              "      <th>hu</th>\n",
              "      <td>0</td>\n",
              "      <td>0</td>\n",
              "      <td>0</td>\n",
              "      <td>0</td>\n",
              "      <td>0</td>\n",
              "      <td>0</td>\n",
              "      <td>0</td>\n",
              "      <td>0</td>\n",
              "      <td>0</td>\n",
              "      <td>1</td>\n",
              "      <td>...</td>\n",
              "      <td>0</td>\n",
              "      <td>0</td>\n",
              "      <td>0</td>\n",
              "      <td>0</td>\n",
              "      <td>1</td>\n",
              "      <td>0</td>\n",
              "      <td>0</td>\n",
              "      <td>0</td>\n",
              "      <td>0</td>\n",
              "      <td>0</td>\n",
              "    </tr>\n",
              "    <tr>\n",
              "      <th>id</th>\n",
              "      <td>0</td>\n",
              "      <td>0</td>\n",
              "      <td>0</td>\n",
              "      <td>0</td>\n",
              "      <td>0</td>\n",
              "      <td>0</td>\n",
              "      <td>0</td>\n",
              "      <td>0</td>\n",
              "      <td>0</td>\n",
              "      <td>22</td>\n",
              "      <td>...</td>\n",
              "      <td>0</td>\n",
              "      <td>16</td>\n",
              "      <td>9</td>\n",
              "      <td>0</td>\n",
              "      <td>58</td>\n",
              "      <td>0</td>\n",
              "      <td>0</td>\n",
              "      <td>1</td>\n",
              "      <td>0</td>\n",
              "      <td>0</td>\n",
              "    </tr>\n",
              "    <tr>\n",
              "      <th>it</th>\n",
              "      <td>0</td>\n",
              "      <td>0</td>\n",
              "      <td>0</td>\n",
              "      <td>0</td>\n",
              "      <td>0</td>\n",
              "      <td>0</td>\n",
              "      <td>0</td>\n",
              "      <td>0</td>\n",
              "      <td>0</td>\n",
              "      <td>4</td>\n",
              "      <td>...</td>\n",
              "      <td>0</td>\n",
              "      <td>1</td>\n",
              "      <td>0</td>\n",
              "      <td>0</td>\n",
              "      <td>7</td>\n",
              "      <td>0</td>\n",
              "      <td>0</td>\n",
              "      <td>0</td>\n",
              "      <td>0</td>\n",
              "      <td>0</td>\n",
              "    </tr>\n",
              "    <tr>\n",
              "      <th>ja</th>\n",
              "      <td>330</td>\n",
              "      <td>0</td>\n",
              "      <td>0</td>\n",
              "      <td>0</td>\n",
              "      <td>0</td>\n",
              "      <td>0</td>\n",
              "      <td>0</td>\n",
              "      <td>0</td>\n",
              "      <td>1</td>\n",
              "      <td>11</td>\n",
              "      <td>...</td>\n",
              "      <td>70</td>\n",
              "      <td>0</td>\n",
              "      <td>0</td>\n",
              "      <td>0</td>\n",
              "      <td>108</td>\n",
              "      <td>4</td>\n",
              "      <td>0</td>\n",
              "      <td>0</td>\n",
              "      <td>1</td>\n",
              "      <td>3</td>\n",
              "    </tr>\n",
              "    <tr>\n",
              "      <th>jv</th>\n",
              "      <td>0</td>\n",
              "      <td>0</td>\n",
              "      <td>0</td>\n",
              "      <td>0</td>\n",
              "      <td>0</td>\n",
              "      <td>0</td>\n",
              "      <td>0</td>\n",
              "      <td>0</td>\n",
              "      <td>0</td>\n",
              "      <td>0</td>\n",
              "      <td>...</td>\n",
              "      <td>0</td>\n",
              "      <td>0</td>\n",
              "      <td>0</td>\n",
              "      <td>0</td>\n",
              "      <td>1</td>\n",
              "      <td>0</td>\n",
              "      <td>0</td>\n",
              "      <td>0</td>\n",
              "      <td>0</td>\n",
              "      <td>0</td>\n",
              "    </tr>\n",
              "    <tr>\n",
              "      <th>ko</th>\n",
              "      <td>0</td>\n",
              "      <td>0</td>\n",
              "      <td>0</td>\n",
              "      <td>0</td>\n",
              "      <td>0</td>\n",
              "      <td>0</td>\n",
              "      <td>0</td>\n",
              "      <td>0</td>\n",
              "      <td>0</td>\n",
              "      <td>0</td>\n",
              "      <td>...</td>\n",
              "      <td>0</td>\n",
              "      <td>0</td>\n",
              "      <td>0</td>\n",
              "      <td>0</td>\n",
              "      <td>0</td>\n",
              "      <td>0</td>\n",
              "      <td>0</td>\n",
              "      <td>0</td>\n",
              "      <td>0</td>\n",
              "      <td>0</td>\n",
              "    </tr>\n",
              "    <tr>\n",
              "      <th>ms</th>\n",
              "      <td>0</td>\n",
              "      <td>0</td>\n",
              "      <td>0</td>\n",
              "      <td>0</td>\n",
              "      <td>0</td>\n",
              "      <td>0</td>\n",
              "      <td>0</td>\n",
              "      <td>0</td>\n",
              "      <td>0</td>\n",
              "      <td>0</td>\n",
              "      <td>...</td>\n",
              "      <td>0</td>\n",
              "      <td>0</td>\n",
              "      <td>0</td>\n",
              "      <td>0</td>\n",
              "      <td>0</td>\n",
              "      <td>0</td>\n",
              "      <td>0</td>\n",
              "      <td>0</td>\n",
              "      <td>0</td>\n",
              "      <td>0</td>\n",
              "    </tr>\n",
              "    <tr>\n",
              "      <th>ne</th>\n",
              "      <td>0</td>\n",
              "      <td>0</td>\n",
              "      <td>0</td>\n",
              "      <td>0</td>\n",
              "      <td>0</td>\n",
              "      <td>0</td>\n",
              "      <td>0</td>\n",
              "      <td>0</td>\n",
              "      <td>0</td>\n",
              "      <td>0</td>\n",
              "      <td>...</td>\n",
              "      <td>0</td>\n",
              "      <td>0</td>\n",
              "      <td>0</td>\n",
              "      <td>0</td>\n",
              "      <td>0</td>\n",
              "      <td>0</td>\n",
              "      <td>0</td>\n",
              "      <td>0</td>\n",
              "      <td>0</td>\n",
              "      <td>0</td>\n",
              "    </tr>\n",
              "    <tr>\n",
              "      <th>nl</th>\n",
              "      <td>0</td>\n",
              "      <td>0</td>\n",
              "      <td>0</td>\n",
              "      <td>0</td>\n",
              "      <td>0</td>\n",
              "      <td>0</td>\n",
              "      <td>0</td>\n",
              "      <td>3</td>\n",
              "      <td>0</td>\n",
              "      <td>7</td>\n",
              "      <td>...</td>\n",
              "      <td>0</td>\n",
              "      <td>0</td>\n",
              "      <td>1</td>\n",
              "      <td>0</td>\n",
              "      <td>1</td>\n",
              "      <td>0</td>\n",
              "      <td>0</td>\n",
              "      <td>0</td>\n",
              "      <td>0</td>\n",
              "      <td>0</td>\n",
              "    </tr>\n",
              "    <tr>\n",
              "      <th>no</th>\n",
              "      <td>0</td>\n",
              "      <td>0</td>\n",
              "      <td>0</td>\n",
              "      <td>0</td>\n",
              "      <td>0</td>\n",
              "      <td>0</td>\n",
              "      <td>0</td>\n",
              "      <td>1</td>\n",
              "      <td>0</td>\n",
              "      <td>0</td>\n",
              "      <td>...</td>\n",
              "      <td>0</td>\n",
              "      <td>0</td>\n",
              "      <td>0</td>\n",
              "      <td>0</td>\n",
              "      <td>0</td>\n",
              "      <td>0</td>\n",
              "      <td>0</td>\n",
              "      <td>0</td>\n",
              "      <td>0</td>\n",
              "      <td>0</td>\n",
              "    </tr>\n",
              "    <tr>\n",
              "      <th>pl</th>\n",
              "      <td>0</td>\n",
              "      <td>0</td>\n",
              "      <td>0</td>\n",
              "      <td>0</td>\n",
              "      <td>0</td>\n",
              "      <td>0</td>\n",
              "      <td>0</td>\n",
              "      <td>0</td>\n",
              "      <td>0</td>\n",
              "      <td>0</td>\n",
              "      <td>...</td>\n",
              "      <td>0</td>\n",
              "      <td>0</td>\n",
              "      <td>0</td>\n",
              "      <td>0</td>\n",
              "      <td>0</td>\n",
              "      <td>0</td>\n",
              "      <td>0</td>\n",
              "      <td>0</td>\n",
              "      <td>0</td>\n",
              "      <td>0</td>\n",
              "    </tr>\n",
              "    <tr>\n",
              "      <th>pt</th>\n",
              "      <td>0</td>\n",
              "      <td>0</td>\n",
              "      <td>0</td>\n",
              "      <td>1</td>\n",
              "      <td>0</td>\n",
              "      <td>1</td>\n",
              "      <td>0</td>\n",
              "      <td>0</td>\n",
              "      <td>0</td>\n",
              "      <td>22</td>\n",
              "      <td>...</td>\n",
              "      <td>0</td>\n",
              "      <td>2</td>\n",
              "      <td>1</td>\n",
              "      <td>0</td>\n",
              "      <td>27</td>\n",
              "      <td>0</td>\n",
              "      <td>0</td>\n",
              "      <td>0</td>\n",
              "      <td>0</td>\n",
              "      <td>0</td>\n",
              "    </tr>\n",
              "    <tr>\n",
              "      <th>ro</th>\n",
              "      <td>0</td>\n",
              "      <td>0</td>\n",
              "      <td>0</td>\n",
              "      <td>0</td>\n",
              "      <td>0</td>\n",
              "      <td>0</td>\n",
              "      <td>0</td>\n",
              "      <td>0</td>\n",
              "      <td>0</td>\n",
              "      <td>0</td>\n",
              "      <td>...</td>\n",
              "      <td>0</td>\n",
              "      <td>0</td>\n",
              "      <td>0</td>\n",
              "      <td>0</td>\n",
              "      <td>0</td>\n",
              "      <td>0</td>\n",
              "      <td>0</td>\n",
              "      <td>0</td>\n",
              "      <td>0</td>\n",
              "      <td>0</td>\n",
              "    </tr>\n",
              "    <tr>\n",
              "      <th>ru</th>\n",
              "      <td>0</td>\n",
              "      <td>0</td>\n",
              "      <td>0</td>\n",
              "      <td>0</td>\n",
              "      <td>0</td>\n",
              "      <td>0</td>\n",
              "      <td>0</td>\n",
              "      <td>0</td>\n",
              "      <td>3</td>\n",
              "      <td>0</td>\n",
              "      <td>...</td>\n",
              "      <td>0</td>\n",
              "      <td>0</td>\n",
              "      <td>0</td>\n",
              "      <td>0</td>\n",
              "      <td>9</td>\n",
              "      <td>0</td>\n",
              "      <td>0</td>\n",
              "      <td>0</td>\n",
              "      <td>0</td>\n",
              "      <td>0</td>\n",
              "    </tr>\n",
              "    <tr>\n",
              "      <th>sq</th>\n",
              "      <td>0</td>\n",
              "      <td>0</td>\n",
              "      <td>0</td>\n",
              "      <td>0</td>\n",
              "      <td>0</td>\n",
              "      <td>0</td>\n",
              "      <td>0</td>\n",
              "      <td>0</td>\n",
              "      <td>0</td>\n",
              "      <td>0</td>\n",
              "      <td>...</td>\n",
              "      <td>0</td>\n",
              "      <td>0</td>\n",
              "      <td>0</td>\n",
              "      <td>0</td>\n",
              "      <td>0</td>\n",
              "      <td>0</td>\n",
              "      <td>0</td>\n",
              "      <td>0</td>\n",
              "      <td>0</td>\n",
              "      <td>0</td>\n",
              "    </tr>\n",
              "    <tr>\n",
              "      <th>sr</th>\n",
              "      <td>0</td>\n",
              "      <td>0</td>\n",
              "      <td>0</td>\n",
              "      <td>0</td>\n",
              "      <td>0</td>\n",
              "      <td>0</td>\n",
              "      <td>0</td>\n",
              "      <td>0</td>\n",
              "      <td>0</td>\n",
              "      <td>2</td>\n",
              "      <td>...</td>\n",
              "      <td>0</td>\n",
              "      <td>0</td>\n",
              "      <td>0</td>\n",
              "      <td>0</td>\n",
              "      <td>1</td>\n",
              "      <td>0</td>\n",
              "      <td>0</td>\n",
              "      <td>0</td>\n",
              "      <td>0</td>\n",
              "      <td>0</td>\n",
              "    </tr>\n",
              "    <tr>\n",
              "      <th>su</th>\n",
              "      <td>0</td>\n",
              "      <td>0</td>\n",
              "      <td>0</td>\n",
              "      <td>0</td>\n",
              "      <td>0</td>\n",
              "      <td>0</td>\n",
              "      <td>0</td>\n",
              "      <td>0</td>\n",
              "      <td>0</td>\n",
              "      <td>1</td>\n",
              "      <td>...</td>\n",
              "      <td>0</td>\n",
              "      <td>0</td>\n",
              "      <td>0</td>\n",
              "      <td>0</td>\n",
              "      <td>0</td>\n",
              "      <td>0</td>\n",
              "      <td>0</td>\n",
              "      <td>0</td>\n",
              "      <td>0</td>\n",
              "      <td>0</td>\n",
              "    </tr>\n",
              "    <tr>\n",
              "      <th>sv</th>\n",
              "      <td>0</td>\n",
              "      <td>0</td>\n",
              "      <td>0</td>\n",
              "      <td>0</td>\n",
              "      <td>0</td>\n",
              "      <td>0</td>\n",
              "      <td>0</td>\n",
              "      <td>0</td>\n",
              "      <td>0</td>\n",
              "      <td>0</td>\n",
              "      <td>...</td>\n",
              "      <td>0</td>\n",
              "      <td>0</td>\n",
              "      <td>0</td>\n",
              "      <td>0</td>\n",
              "      <td>0</td>\n",
              "      <td>0</td>\n",
              "      <td>0</td>\n",
              "      <td>0</td>\n",
              "      <td>0</td>\n",
              "      <td>0</td>\n",
              "    </tr>\n",
              "    <tr>\n",
              "      <th>sw</th>\n",
              "      <td>0</td>\n",
              "      <td>0</td>\n",
              "      <td>0</td>\n",
              "      <td>0</td>\n",
              "      <td>0</td>\n",
              "      <td>0</td>\n",
              "      <td>0</td>\n",
              "      <td>0</td>\n",
              "      <td>0</td>\n",
              "      <td>1</td>\n",
              "      <td>...</td>\n",
              "      <td>0</td>\n",
              "      <td>0</td>\n",
              "      <td>0</td>\n",
              "      <td>0</td>\n",
              "      <td>0</td>\n",
              "      <td>0</td>\n",
              "      <td>0</td>\n",
              "      <td>0</td>\n",
              "      <td>0</td>\n",
              "      <td>0</td>\n",
              "    </tr>\n",
              "    <tr>\n",
              "      <th>ta</th>\n",
              "      <td>0</td>\n",
              "      <td>0</td>\n",
              "      <td>0</td>\n",
              "      <td>0</td>\n",
              "      <td>0</td>\n",
              "      <td>0</td>\n",
              "      <td>0</td>\n",
              "      <td>0</td>\n",
              "      <td>0</td>\n",
              "      <td>0</td>\n",
              "      <td>...</td>\n",
              "      <td>0</td>\n",
              "      <td>0</td>\n",
              "      <td>0</td>\n",
              "      <td>0</td>\n",
              "      <td>0</td>\n",
              "      <td>0</td>\n",
              "      <td>0</td>\n",
              "      <td>0</td>\n",
              "      <td>0</td>\n",
              "      <td>0</td>\n",
              "    </tr>\n",
              "    <tr>\n",
              "      <th>th</th>\n",
              "      <td>0</td>\n",
              "      <td>0</td>\n",
              "      <td>0</td>\n",
              "      <td>0</td>\n",
              "      <td>0</td>\n",
              "      <td>0</td>\n",
              "      <td>0</td>\n",
              "      <td>0</td>\n",
              "      <td>0</td>\n",
              "      <td>2</td>\n",
              "      <td>...</td>\n",
              "      <td>16</td>\n",
              "      <td>0</td>\n",
              "      <td>0</td>\n",
              "      <td>0</td>\n",
              "      <td>1</td>\n",
              "      <td>0</td>\n",
              "      <td>0</td>\n",
              "      <td>0</td>\n",
              "      <td>0</td>\n",
              "      <td>0</td>\n",
              "    </tr>\n",
              "    <tr>\n",
              "      <th>tl</th>\n",
              "      <td>0</td>\n",
              "      <td>0</td>\n",
              "      <td>0</td>\n",
              "      <td>0</td>\n",
              "      <td>0</td>\n",
              "      <td>0</td>\n",
              "      <td>0</td>\n",
              "      <td>0</td>\n",
              "      <td>0</td>\n",
              "      <td>4</td>\n",
              "      <td>...</td>\n",
              "      <td>0</td>\n",
              "      <td>33</td>\n",
              "      <td>0</td>\n",
              "      <td>0</td>\n",
              "      <td>5</td>\n",
              "      <td>0</td>\n",
              "      <td>0</td>\n",
              "      <td>0</td>\n",
              "      <td>0</td>\n",
              "      <td>0</td>\n",
              "    </tr>\n",
              "    <tr>\n",
              "      <th>tr</th>\n",
              "      <td>0</td>\n",
              "      <td>0</td>\n",
              "      <td>0</td>\n",
              "      <td>0</td>\n",
              "      <td>0</td>\n",
              "      <td>0</td>\n",
              "      <td>0</td>\n",
              "      <td>2</td>\n",
              "      <td>0</td>\n",
              "      <td>8</td>\n",
              "      <td>...</td>\n",
              "      <td>0</td>\n",
              "      <td>0</td>\n",
              "      <td>125</td>\n",
              "      <td>0</td>\n",
              "      <td>16</td>\n",
              "      <td>0</td>\n",
              "      <td>0</td>\n",
              "      <td>0</td>\n",
              "      <td>0</td>\n",
              "      <td>0</td>\n",
              "    </tr>\n",
              "    <tr>\n",
              "      <th>uk</th>\n",
              "      <td>0</td>\n",
              "      <td>0</td>\n",
              "      <td>0</td>\n",
              "      <td>0</td>\n",
              "      <td>0</td>\n",
              "      <td>0</td>\n",
              "      <td>0</td>\n",
              "      <td>0</td>\n",
              "      <td>0</td>\n",
              "      <td>0</td>\n",
              "      <td>...</td>\n",
              "      <td>0</td>\n",
              "      <td>0</td>\n",
              "      <td>0</td>\n",
              "      <td>0</td>\n",
              "      <td>0</td>\n",
              "      <td>0</td>\n",
              "      <td>0</td>\n",
              "      <td>0</td>\n",
              "      <td>0</td>\n",
              "      <td>0</td>\n",
              "    </tr>\n",
              "    <tr>\n",
              "      <th>und</th>\n",
              "      <td>5</td>\n",
              "      <td>2</td>\n",
              "      <td>0</td>\n",
              "      <td>0</td>\n",
              "      <td>0</td>\n",
              "      <td>0</td>\n",
              "      <td>0</td>\n",
              "      <td>2</td>\n",
              "      <td>5</td>\n",
              "      <td>235</td>\n",
              "      <td>...</td>\n",
              "      <td>0</td>\n",
              "      <td>14</td>\n",
              "      <td>16</td>\n",
              "      <td>2</td>\n",
              "      <td>755</td>\n",
              "      <td>0</td>\n",
              "      <td>1</td>\n",
              "      <td>2</td>\n",
              "      <td>0</td>\n",
              "      <td>0</td>\n",
              "    </tr>\n",
              "    <tr>\n",
              "      <th>ur</th>\n",
              "      <td>0</td>\n",
              "      <td>0</td>\n",
              "      <td>0</td>\n",
              "      <td>0</td>\n",
              "      <td>0</td>\n",
              "      <td>0</td>\n",
              "      <td>0</td>\n",
              "      <td>0</td>\n",
              "      <td>0</td>\n",
              "      <td>0</td>\n",
              "      <td>...</td>\n",
              "      <td>0</td>\n",
              "      <td>0</td>\n",
              "      <td>0</td>\n",
              "      <td>0</td>\n",
              "      <td>0</td>\n",
              "      <td>0</td>\n",
              "      <td>0</td>\n",
              "      <td>0</td>\n",
              "      <td>0</td>\n",
              "      <td>0</td>\n",
              "    </tr>\n",
              "    <tr>\n",
              "      <th>ur_LATN</th>\n",
              "      <td>0</td>\n",
              "      <td>0</td>\n",
              "      <td>0</td>\n",
              "      <td>0</td>\n",
              "      <td>0</td>\n",
              "      <td>0</td>\n",
              "      <td>0</td>\n",
              "      <td>0</td>\n",
              "      <td>0</td>\n",
              "      <td>0</td>\n",
              "      <td>...</td>\n",
              "      <td>0</td>\n",
              "      <td>0</td>\n",
              "      <td>0</td>\n",
              "      <td>0</td>\n",
              "      <td>1</td>\n",
              "      <td>0</td>\n",
              "      <td>0</td>\n",
              "      <td>0</td>\n",
              "      <td>0</td>\n",
              "      <td>0</td>\n",
              "    </tr>\n",
              "    <tr>\n",
              "      <th>vi</th>\n",
              "      <td>0</td>\n",
              "      <td>0</td>\n",
              "      <td>0</td>\n",
              "      <td>0</td>\n",
              "      <td>0</td>\n",
              "      <td>0</td>\n",
              "      <td>0</td>\n",
              "      <td>0</td>\n",
              "      <td>0</td>\n",
              "      <td>0</td>\n",
              "      <td>...</td>\n",
              "      <td>0</td>\n",
              "      <td>0</td>\n",
              "      <td>0</td>\n",
              "      <td>0</td>\n",
              "      <td>0</td>\n",
              "      <td>0</td>\n",
              "      <td>0</td>\n",
              "      <td>2</td>\n",
              "      <td>0</td>\n",
              "      <td>0</td>\n",
              "    </tr>\n",
              "    <tr>\n",
              "      <th>zh-CN</th>\n",
              "      <td>0</td>\n",
              "      <td>0</td>\n",
              "      <td>0</td>\n",
              "      <td>0</td>\n",
              "      <td>0</td>\n",
              "      <td>0</td>\n",
              "      <td>0</td>\n",
              "      <td>0</td>\n",
              "      <td>0</td>\n",
              "      <td>0</td>\n",
              "      <td>...</td>\n",
              "      <td>0</td>\n",
              "      <td>0</td>\n",
              "      <td>0</td>\n",
              "      <td>0</td>\n",
              "      <td>0</td>\n",
              "      <td>0</td>\n",
              "      <td>0</td>\n",
              "      <td>0</td>\n",
              "      <td>0</td>\n",
              "      <td>0</td>\n",
              "    </tr>\n",
              "    <tr>\n",
              "      <th>zh-TW</th>\n",
              "      <td>0</td>\n",
              "      <td>0</td>\n",
              "      <td>0</td>\n",
              "      <td>0</td>\n",
              "      <td>0</td>\n",
              "      <td>0</td>\n",
              "      <td>0</td>\n",
              "      <td>0</td>\n",
              "      <td>0</td>\n",
              "      <td>0</td>\n",
              "      <td>...</td>\n",
              "      <td>0</td>\n",
              "      <td>0</td>\n",
              "      <td>0</td>\n",
              "      <td>0</td>\n",
              "      <td>0</td>\n",
              "      <td>0</td>\n",
              "      <td>0</td>\n",
              "      <td>0</td>\n",
              "      <td>0</td>\n",
              "      <td>0</td>\n",
              "    </tr>\n",
              "  </tbody>\n",
              "</table>\n",
              "<p>49 rows × 49 columns</p>\n",
              "</div>\n",
              "      <button class=\"colab-df-convert\" onclick=\"convertToInteractive('df-23c0c090-e435-4792-b7bd-b7f43f92a7d8')\"\n",
              "              title=\"Convert this dataframe to an interactive table.\"\n",
              "              style=\"display:none;\">\n",
              "        \n",
              "  <svg xmlns=\"http://www.w3.org/2000/svg\" height=\"24px\"viewBox=\"0 0 24 24\"\n",
              "       width=\"24px\">\n",
              "    <path d=\"M0 0h24v24H0V0z\" fill=\"none\"/>\n",
              "    <path d=\"M18.56 5.44l.94 2.06.94-2.06 2.06-.94-2.06-.94-.94-2.06-.94 2.06-2.06.94zm-11 1L8.5 8.5l.94-2.06 2.06-.94-2.06-.94L8.5 2.5l-.94 2.06-2.06.94zm10 10l.94 2.06.94-2.06 2.06-.94-2.06-.94-.94-2.06-.94 2.06-2.06.94z\"/><path d=\"M17.41 7.96l-1.37-1.37c-.4-.4-.92-.59-1.43-.59-.52 0-1.04.2-1.43.59L10.3 9.45l-7.72 7.72c-.78.78-.78 2.05 0 2.83L4 21.41c.39.39.9.59 1.41.59.51 0 1.02-.2 1.41-.59l7.78-7.78 2.81-2.81c.8-.78.8-2.07 0-2.86zM5.41 20L4 18.59l7.72-7.72 1.47 1.35L5.41 20z\"/>\n",
              "  </svg>\n",
              "      </button>\n",
              "      \n",
              "  <style>\n",
              "    .colab-df-container {\n",
              "      display:flex;\n",
              "      flex-wrap:wrap;\n",
              "      gap: 12px;\n",
              "    }\n",
              "\n",
              "    .colab-df-convert {\n",
              "      background-color: #E8F0FE;\n",
              "      border: none;\n",
              "      border-radius: 50%;\n",
              "      cursor: pointer;\n",
              "      display: none;\n",
              "      fill: #1967D2;\n",
              "      height: 32px;\n",
              "      padding: 0 0 0 0;\n",
              "      width: 32px;\n",
              "    }\n",
              "\n",
              "    .colab-df-convert:hover {\n",
              "      background-color: #E2EBFA;\n",
              "      box-shadow: 0px 1px 2px rgba(60, 64, 67, 0.3), 0px 1px 3px 1px rgba(60, 64, 67, 0.15);\n",
              "      fill: #174EA6;\n",
              "    }\n",
              "\n",
              "    [theme=dark] .colab-df-convert {\n",
              "      background-color: #3B4455;\n",
              "      fill: #D2E3FC;\n",
              "    }\n",
              "\n",
              "    [theme=dark] .colab-df-convert:hover {\n",
              "      background-color: #434B5C;\n",
              "      box-shadow: 0px 1px 3px 1px rgba(0, 0, 0, 0.15);\n",
              "      filter: drop-shadow(0px 1px 2px rgba(0, 0, 0, 0.3));\n",
              "      fill: #FFFFFF;\n",
              "    }\n",
              "  </style>\n",
              "\n",
              "      <script>\n",
              "        const buttonEl =\n",
              "          document.querySelector('#df-23c0c090-e435-4792-b7bd-b7f43f92a7d8 button.colab-df-convert');\n",
              "        buttonEl.style.display =\n",
              "          google.colab.kernel.accessAllowed ? 'block' : 'none';\n",
              "\n",
              "        async function convertToInteractive(key) {\n",
              "          const element = document.querySelector('#df-23c0c090-e435-4792-b7bd-b7f43f92a7d8');\n",
              "          const dataTable =\n",
              "            await google.colab.kernel.invokeFunction('convertToInteractive',\n",
              "                                                     [key], {});\n",
              "          if (!dataTable) return;\n",
              "\n",
              "          const docLinkHtml = 'Like what you see? Visit the ' +\n",
              "            '<a target=\"_blank\" href=https://colab.research.google.com/notebooks/data_table.ipynb>data table notebook</a>'\n",
              "            + ' to learn more about interactive tables.';\n",
              "          element.innerHTML = '';\n",
              "          dataTable['output_type'] = 'display_data';\n",
              "          await google.colab.output.renderOutput(dataTable, element);\n",
              "          const docLink = document.createElement('div');\n",
              "          docLink.innerHTML = docLinkHtml;\n",
              "          element.appendChild(docLink);\n",
              "        }\n",
              "      </script>\n",
              "    </div>\n",
              "  </div>\n",
              "  "
            ]
          },
          "metadata": {},
          "execution_count": 37
        }
      ],
      "source": [
        "num_classes = len(le_fitted.classes_)\n",
        "def create_confusion_matrix(num_classes, preds, y_test):\n",
        "    \"\"\"Create confusion matrix 'by hand' since test set does not contain all labels\"\"\"\n",
        "    df = pd.DataFrame(np.zeros((num_classes, num_classes), dtype=int))\n",
        "    for i, j in zip(preds, y_test):\n",
        "        df.iloc[i, j] += 1\n",
        "    df.columns = le_fitted.classes_\n",
        "    df.index = le_fitted.classes_\n",
        "    return df\n",
        "df = create_confusion_matrix(num_classes, preds, y_test)\n",
        "df"
      ]
    },
    {
      "cell_type": "code",
      "source": [],
      "metadata": {
        "id": "JbtaVAaeVdYE"
      },
      "execution_count": null,
      "outputs": []
    }
  ],
  "metadata": {
    "colab": {
      "collapsed_sections": [],
      "provenance": []
    },
    "kernelspec": {
      "display_name": "Python 3",
      "language": "python",
      "name": "python3"
    },
    "language_info": {
      "codemirror_mode": {
        "name": "ipython",
        "version": 3
      },
      "file_extension": ".py",
      "mimetype": "text/x-python",
      "name": "python",
      "nbconvert_exporter": "python",
      "pygments_lexer": "ipython3",
      "version": "3.8.5"
    },
    "accelerator": "GPU"
  },
  "nbformat": 4,
  "nbformat_minor": 0
}